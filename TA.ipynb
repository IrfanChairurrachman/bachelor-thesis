{
  "nbformat": 4,
  "nbformat_minor": 0,
  "metadata": {
    "colab": {
      "name": "TA.ipynb",
      "provenance": [],
      "collapsed_sections": [
        "xBu0aq72xcyM"
      ]
    },
    "kernelspec": {
      "name": "python3",
      "display_name": "Python 3"
    },
    "language_info": {
      "name": "python"
    }
  },
  "cells": [
    {
      "cell_type": "code",
      "execution_count": null,
      "metadata": {
        "id": "0DyfqUAD7Nkb",
        "colab": {
          "base_uri": "https://localhost:8080/"
        },
        "outputId": "b0e48767-52e0-4dfa-8bc7-997eea0dc45b"
      },
      "outputs": [
        {
          "output_type": "stream",
          "name": "stderr",
          "text": [
            "/usr/local/lib/python3.7/dist-packages/statsmodels/tools/_testing.py:19: FutureWarning: pandas.util.testing is deprecated. Use the functions in the public API at pandas.testing instead.\n",
            "  import pandas.util.testing as tm\n"
          ]
        }
      ],
      "source": [
        "import numpy as np\n",
        "import matplotlib.pyplot as plt\n",
        "import csv\n",
        "import pandas as pd\n",
        "from datetime import datetime\n",
        "import matplotlib.pyplot as plt\n",
        "import seaborn as sns\n",
        "from statsmodels.graphics.tsaplots import plot_acf\n",
        "from statsmodels.graphics.tsaplots import plot_pacf"
      ]
    },
    {
      "cell_type": "markdown",
      "source": [
        "# Import Data"
      ],
      "metadata": {
        "id": "xBu0aq72xcyM"
      }
    },
    {
      "cell_type": "code",
      "source": [
        "url = 'https://query1.finance.yahoo.com/v7/finance/download/ICBP.JK?period1=1491177600&period2=1648944000&interval=1d&events=history&includeAdjustedClose=true'\n",
        "icbp = pd.read_csv(url)\n",
        "icbp['Date'] = pd.to_datetime(icbp['Date'])\n",
        "icbp = icbp[~icbp.Date.duplicated()]\n",
        "# icbp = icbp.set_index(['Date']).asfreq('D').fillna(method='ffill')\n",
        "icbp"
      ],
      "metadata": {
        "colab": {
          "base_uri": "https://localhost:8080/",
          "height": 424
        },
        "id": "NX_YNqUhUwaj",
        "outputId": "a4c53204-ce4d-44aa-a943-6895c71543af"
      },
      "execution_count": null,
      "outputs": [
        {
          "output_type": "execute_result",
          "data": {
            "text/plain": [
              "           Date    Open    High     Low   Close    Adj Close      Volume\n",
              "0    2017-04-03  8200.0  8450.0  8200.0  8425.0  7429.059570   2068600.0\n",
              "1    2017-04-04  8400.0  8425.0  8275.0  8400.0  7407.015625   3444200.0\n",
              "2    2017-04-05  8400.0  8400.0  8400.0  8400.0  7407.015625         0.0\n",
              "3    2017-04-06  8300.0  8325.0  8200.0  8225.0  7252.702637  10471800.0\n",
              "4    2017-04-07  8200.0  8225.0  8150.0  8175.0  7208.612793   7078600.0\n",
              "...         ...     ...     ...     ...     ...          ...         ...\n",
              "1255 2022-03-28  7250.0  7400.0  7200.0  7275.0  7275.000000  13828500.0\n",
              "1256 2022-03-29  7300.0  7400.0  7250.0  7300.0  7300.000000   9243600.0\n",
              "1257 2022-03-30  7350.0  7475.0  7325.0  7375.0  7375.000000   9768800.0\n",
              "1258 2022-03-31  7400.0  7450.0  7300.0  7350.0  7350.000000   6875300.0\n",
              "1259 2022-04-01  7350.0  7550.0  7350.0  7525.0  7525.000000  14229300.0\n",
              "\n",
              "[1260 rows x 7 columns]"
            ],
            "text/html": [
              "\n",
              "  <div id=\"df-6b72c392-a25e-468b-95e9-595eb910ce42\">\n",
              "    <div class=\"colab-df-container\">\n",
              "      <div>\n",
              "<style scoped>\n",
              "    .dataframe tbody tr th:only-of-type {\n",
              "        vertical-align: middle;\n",
              "    }\n",
              "\n",
              "    .dataframe tbody tr th {\n",
              "        vertical-align: top;\n",
              "    }\n",
              "\n",
              "    .dataframe thead th {\n",
              "        text-align: right;\n",
              "    }\n",
              "</style>\n",
              "<table border=\"1\" class=\"dataframe\">\n",
              "  <thead>\n",
              "    <tr style=\"text-align: right;\">\n",
              "      <th></th>\n",
              "      <th>Date</th>\n",
              "      <th>Open</th>\n",
              "      <th>High</th>\n",
              "      <th>Low</th>\n",
              "      <th>Close</th>\n",
              "      <th>Adj Close</th>\n",
              "      <th>Volume</th>\n",
              "    </tr>\n",
              "  </thead>\n",
              "  <tbody>\n",
              "    <tr>\n",
              "      <th>0</th>\n",
              "      <td>2017-04-03</td>\n",
              "      <td>8200.0</td>\n",
              "      <td>8450.0</td>\n",
              "      <td>8200.0</td>\n",
              "      <td>8425.0</td>\n",
              "      <td>7429.059570</td>\n",
              "      <td>2068600.0</td>\n",
              "    </tr>\n",
              "    <tr>\n",
              "      <th>1</th>\n",
              "      <td>2017-04-04</td>\n",
              "      <td>8400.0</td>\n",
              "      <td>8425.0</td>\n",
              "      <td>8275.0</td>\n",
              "      <td>8400.0</td>\n",
              "      <td>7407.015625</td>\n",
              "      <td>3444200.0</td>\n",
              "    </tr>\n",
              "    <tr>\n",
              "      <th>2</th>\n",
              "      <td>2017-04-05</td>\n",
              "      <td>8400.0</td>\n",
              "      <td>8400.0</td>\n",
              "      <td>8400.0</td>\n",
              "      <td>8400.0</td>\n",
              "      <td>7407.015625</td>\n",
              "      <td>0.0</td>\n",
              "    </tr>\n",
              "    <tr>\n",
              "      <th>3</th>\n",
              "      <td>2017-04-06</td>\n",
              "      <td>8300.0</td>\n",
              "      <td>8325.0</td>\n",
              "      <td>8200.0</td>\n",
              "      <td>8225.0</td>\n",
              "      <td>7252.702637</td>\n",
              "      <td>10471800.0</td>\n",
              "    </tr>\n",
              "    <tr>\n",
              "      <th>4</th>\n",
              "      <td>2017-04-07</td>\n",
              "      <td>8200.0</td>\n",
              "      <td>8225.0</td>\n",
              "      <td>8150.0</td>\n",
              "      <td>8175.0</td>\n",
              "      <td>7208.612793</td>\n",
              "      <td>7078600.0</td>\n",
              "    </tr>\n",
              "    <tr>\n",
              "      <th>...</th>\n",
              "      <td>...</td>\n",
              "      <td>...</td>\n",
              "      <td>...</td>\n",
              "      <td>...</td>\n",
              "      <td>...</td>\n",
              "      <td>...</td>\n",
              "      <td>...</td>\n",
              "    </tr>\n",
              "    <tr>\n",
              "      <th>1255</th>\n",
              "      <td>2022-03-28</td>\n",
              "      <td>7250.0</td>\n",
              "      <td>7400.0</td>\n",
              "      <td>7200.0</td>\n",
              "      <td>7275.0</td>\n",
              "      <td>7275.000000</td>\n",
              "      <td>13828500.0</td>\n",
              "    </tr>\n",
              "    <tr>\n",
              "      <th>1256</th>\n",
              "      <td>2022-03-29</td>\n",
              "      <td>7300.0</td>\n",
              "      <td>7400.0</td>\n",
              "      <td>7250.0</td>\n",
              "      <td>7300.0</td>\n",
              "      <td>7300.000000</td>\n",
              "      <td>9243600.0</td>\n",
              "    </tr>\n",
              "    <tr>\n",
              "      <th>1257</th>\n",
              "      <td>2022-03-30</td>\n",
              "      <td>7350.0</td>\n",
              "      <td>7475.0</td>\n",
              "      <td>7325.0</td>\n",
              "      <td>7375.0</td>\n",
              "      <td>7375.000000</td>\n",
              "      <td>9768800.0</td>\n",
              "    </tr>\n",
              "    <tr>\n",
              "      <th>1258</th>\n",
              "      <td>2022-03-31</td>\n",
              "      <td>7400.0</td>\n",
              "      <td>7450.0</td>\n",
              "      <td>7300.0</td>\n",
              "      <td>7350.0</td>\n",
              "      <td>7350.000000</td>\n",
              "      <td>6875300.0</td>\n",
              "    </tr>\n",
              "    <tr>\n",
              "      <th>1259</th>\n",
              "      <td>2022-04-01</td>\n",
              "      <td>7350.0</td>\n",
              "      <td>7550.0</td>\n",
              "      <td>7350.0</td>\n",
              "      <td>7525.0</td>\n",
              "      <td>7525.000000</td>\n",
              "      <td>14229300.0</td>\n",
              "    </tr>\n",
              "  </tbody>\n",
              "</table>\n",
              "<p>1260 rows × 7 columns</p>\n",
              "</div>\n",
              "      <button class=\"colab-df-convert\" onclick=\"convertToInteractive('df-6b72c392-a25e-468b-95e9-595eb910ce42')\"\n",
              "              title=\"Convert this dataframe to an interactive table.\"\n",
              "              style=\"display:none;\">\n",
              "        \n",
              "  <svg xmlns=\"http://www.w3.org/2000/svg\" height=\"24px\"viewBox=\"0 0 24 24\"\n",
              "       width=\"24px\">\n",
              "    <path d=\"M0 0h24v24H0V0z\" fill=\"none\"/>\n",
              "    <path d=\"M18.56 5.44l.94 2.06.94-2.06 2.06-.94-2.06-.94-.94-2.06-.94 2.06-2.06.94zm-11 1L8.5 8.5l.94-2.06 2.06-.94-2.06-.94L8.5 2.5l-.94 2.06-2.06.94zm10 10l.94 2.06.94-2.06 2.06-.94-2.06-.94-.94-2.06-.94 2.06-2.06.94z\"/><path d=\"M17.41 7.96l-1.37-1.37c-.4-.4-.92-.59-1.43-.59-.52 0-1.04.2-1.43.59L10.3 9.45l-7.72 7.72c-.78.78-.78 2.05 0 2.83L4 21.41c.39.39.9.59 1.41.59.51 0 1.02-.2 1.41-.59l7.78-7.78 2.81-2.81c.8-.78.8-2.07 0-2.86zM5.41 20L4 18.59l7.72-7.72 1.47 1.35L5.41 20z\"/>\n",
              "  </svg>\n",
              "      </button>\n",
              "      \n",
              "  <style>\n",
              "    .colab-df-container {\n",
              "      display:flex;\n",
              "      flex-wrap:wrap;\n",
              "      gap: 12px;\n",
              "    }\n",
              "\n",
              "    .colab-df-convert {\n",
              "      background-color: #E8F0FE;\n",
              "      border: none;\n",
              "      border-radius: 50%;\n",
              "      cursor: pointer;\n",
              "      display: none;\n",
              "      fill: #1967D2;\n",
              "      height: 32px;\n",
              "      padding: 0 0 0 0;\n",
              "      width: 32px;\n",
              "    }\n",
              "\n",
              "    .colab-df-convert:hover {\n",
              "      background-color: #E2EBFA;\n",
              "      box-shadow: 0px 1px 2px rgba(60, 64, 67, 0.3), 0px 1px 3px 1px rgba(60, 64, 67, 0.15);\n",
              "      fill: #174EA6;\n",
              "    }\n",
              "\n",
              "    [theme=dark] .colab-df-convert {\n",
              "      background-color: #3B4455;\n",
              "      fill: #D2E3FC;\n",
              "    }\n",
              "\n",
              "    [theme=dark] .colab-df-convert:hover {\n",
              "      background-color: #434B5C;\n",
              "      box-shadow: 0px 1px 3px 1px rgba(0, 0, 0, 0.15);\n",
              "      filter: drop-shadow(0px 1px 2px rgba(0, 0, 0, 0.3));\n",
              "      fill: #FFFFFF;\n",
              "    }\n",
              "  </style>\n",
              "\n",
              "      <script>\n",
              "        const buttonEl =\n",
              "          document.querySelector('#df-6b72c392-a25e-468b-95e9-595eb910ce42 button.colab-df-convert');\n",
              "        buttonEl.style.display =\n",
              "          google.colab.kernel.accessAllowed ? 'block' : 'none';\n",
              "\n",
              "        async function convertToInteractive(key) {\n",
              "          const element = document.querySelector('#df-6b72c392-a25e-468b-95e9-595eb910ce42');\n",
              "          const dataTable =\n",
              "            await google.colab.kernel.invokeFunction('convertToInteractive',\n",
              "                                                     [key], {});\n",
              "          if (!dataTable) return;\n",
              "\n",
              "          const docLinkHtml = 'Like what you see? Visit the ' +\n",
              "            '<a target=\"_blank\" href=https://colab.research.google.com/notebooks/data_table.ipynb>data table notebook</a>'\n",
              "            + ' to learn more about interactive tables.';\n",
              "          element.innerHTML = '';\n",
              "          dataTable['output_type'] = 'display_data';\n",
              "          await google.colab.output.renderOutput(dataTable, element);\n",
              "          const docLink = document.createElement('div');\n",
              "          docLink.innerHTML = docLinkHtml;\n",
              "          element.appendChild(docLink);\n",
              "        }\n",
              "      </script>\n",
              "    </div>\n",
              "  </div>\n",
              "  "
            ]
          },
          "metadata": {},
          "execution_count": 2
        }
      ]
    },
    {
      "cell_type": "code",
      "source": [
        "icbp.info()"
      ],
      "metadata": {
        "colab": {
          "base_uri": "https://localhost:8080/"
        },
        "id": "QECqtH1N-52r",
        "outputId": "bccf93f0-378a-452b-8ab7-532917ea5bae"
      },
      "execution_count": null,
      "outputs": [
        {
          "output_type": "stream",
          "name": "stdout",
          "text": [
            "<class 'pandas.core.frame.DataFrame'>\n",
            "Int64Index: 1260 entries, 0 to 1259\n",
            "Data columns (total 7 columns):\n",
            " #   Column     Non-Null Count  Dtype         \n",
            "---  ------     --------------  -----         \n",
            " 0   Date       1260 non-null   datetime64[ns]\n",
            " 1   Open       1259 non-null   float64       \n",
            " 2   High       1259 non-null   float64       \n",
            " 3   Low        1259 non-null   float64       \n",
            " 4   Close      1259 non-null   float64       \n",
            " 5   Adj Close  1259 non-null   float64       \n",
            " 6   Volume     1259 non-null   float64       \n",
            "dtypes: datetime64[ns](1), float64(6)\n",
            "memory usage: 78.8 KB\n"
          ]
        }
      ]
    },
    {
      "cell_type": "code",
      "source": [
        "icbp.describe()"
      ],
      "metadata": {
        "colab": {
          "base_uri": "https://localhost:8080/",
          "height": 300
        },
        "id": "ZgO0i1qFID35",
        "outputId": "b4462cfe-55f8-4aa1-fe9d-db9a7458394a"
      },
      "execution_count": null,
      "outputs": [
        {
          "output_type": "execute_result",
          "data": {
            "text/plain": [
              "               Open          High           Low         Close     Adj Close  \\\n",
              "count   1259.000000   1259.000000   1259.000000   1259.000000   1259.000000   \n",
              "mean    9361.119936   9453.733122   9250.734710   9352.521843   8847.075132   \n",
              "std     1048.674051   1057.053850   1033.571492   1046.643271   1077.616521   \n",
              "min     7250.000000   7400.000000   7200.000000   7250.000000   7142.479492   \n",
              "25%     8675.000000   8750.000000   8550.000000   8650.000000   7962.741455   \n",
              "50%     8900.000000   8975.000000   8800.000000   8900.000000   8550.000000   \n",
              "75%    10075.000000  10175.000000   9950.000000  10075.000000   9620.093750   \n",
              "max    12500.000000  12550.000000  12275.000000  12400.000000  11810.808594   \n",
              "\n",
              "             Volume  \n",
              "count  1.259000e+03  \n",
              "mean   6.206952e+06  \n",
              "std    7.947993e+06  \n",
              "min    0.000000e+00  \n",
              "25%    2.861350e+06  \n",
              "50%    4.626600e+06  \n",
              "75%    7.381550e+06  \n",
              "max    2.044506e+08  "
            ],
            "text/html": [
              "\n",
              "  <div id=\"df-b4581877-cf33-44a5-8caf-37c5f9ab2269\">\n",
              "    <div class=\"colab-df-container\">\n",
              "      <div>\n",
              "<style scoped>\n",
              "    .dataframe tbody tr th:only-of-type {\n",
              "        vertical-align: middle;\n",
              "    }\n",
              "\n",
              "    .dataframe tbody tr th {\n",
              "        vertical-align: top;\n",
              "    }\n",
              "\n",
              "    .dataframe thead th {\n",
              "        text-align: right;\n",
              "    }\n",
              "</style>\n",
              "<table border=\"1\" class=\"dataframe\">\n",
              "  <thead>\n",
              "    <tr style=\"text-align: right;\">\n",
              "      <th></th>\n",
              "      <th>Open</th>\n",
              "      <th>High</th>\n",
              "      <th>Low</th>\n",
              "      <th>Close</th>\n",
              "      <th>Adj Close</th>\n",
              "      <th>Volume</th>\n",
              "    </tr>\n",
              "  </thead>\n",
              "  <tbody>\n",
              "    <tr>\n",
              "      <th>count</th>\n",
              "      <td>1259.000000</td>\n",
              "      <td>1259.000000</td>\n",
              "      <td>1259.000000</td>\n",
              "      <td>1259.000000</td>\n",
              "      <td>1259.000000</td>\n",
              "      <td>1.259000e+03</td>\n",
              "    </tr>\n",
              "    <tr>\n",
              "      <th>mean</th>\n",
              "      <td>9361.119936</td>\n",
              "      <td>9453.733122</td>\n",
              "      <td>9250.734710</td>\n",
              "      <td>9352.521843</td>\n",
              "      <td>8847.075132</td>\n",
              "      <td>6.206952e+06</td>\n",
              "    </tr>\n",
              "    <tr>\n",
              "      <th>std</th>\n",
              "      <td>1048.674051</td>\n",
              "      <td>1057.053850</td>\n",
              "      <td>1033.571492</td>\n",
              "      <td>1046.643271</td>\n",
              "      <td>1077.616521</td>\n",
              "      <td>7.947993e+06</td>\n",
              "    </tr>\n",
              "    <tr>\n",
              "      <th>min</th>\n",
              "      <td>7250.000000</td>\n",
              "      <td>7400.000000</td>\n",
              "      <td>7200.000000</td>\n",
              "      <td>7250.000000</td>\n",
              "      <td>7142.479492</td>\n",
              "      <td>0.000000e+00</td>\n",
              "    </tr>\n",
              "    <tr>\n",
              "      <th>25%</th>\n",
              "      <td>8675.000000</td>\n",
              "      <td>8750.000000</td>\n",
              "      <td>8550.000000</td>\n",
              "      <td>8650.000000</td>\n",
              "      <td>7962.741455</td>\n",
              "      <td>2.861350e+06</td>\n",
              "    </tr>\n",
              "    <tr>\n",
              "      <th>50%</th>\n",
              "      <td>8900.000000</td>\n",
              "      <td>8975.000000</td>\n",
              "      <td>8800.000000</td>\n",
              "      <td>8900.000000</td>\n",
              "      <td>8550.000000</td>\n",
              "      <td>4.626600e+06</td>\n",
              "    </tr>\n",
              "    <tr>\n",
              "      <th>75%</th>\n",
              "      <td>10075.000000</td>\n",
              "      <td>10175.000000</td>\n",
              "      <td>9950.000000</td>\n",
              "      <td>10075.000000</td>\n",
              "      <td>9620.093750</td>\n",
              "      <td>7.381550e+06</td>\n",
              "    </tr>\n",
              "    <tr>\n",
              "      <th>max</th>\n",
              "      <td>12500.000000</td>\n",
              "      <td>12550.000000</td>\n",
              "      <td>12275.000000</td>\n",
              "      <td>12400.000000</td>\n",
              "      <td>11810.808594</td>\n",
              "      <td>2.044506e+08</td>\n",
              "    </tr>\n",
              "  </tbody>\n",
              "</table>\n",
              "</div>\n",
              "      <button class=\"colab-df-convert\" onclick=\"convertToInteractive('df-b4581877-cf33-44a5-8caf-37c5f9ab2269')\"\n",
              "              title=\"Convert this dataframe to an interactive table.\"\n",
              "              style=\"display:none;\">\n",
              "        \n",
              "  <svg xmlns=\"http://www.w3.org/2000/svg\" height=\"24px\"viewBox=\"0 0 24 24\"\n",
              "       width=\"24px\">\n",
              "    <path d=\"M0 0h24v24H0V0z\" fill=\"none\"/>\n",
              "    <path d=\"M18.56 5.44l.94 2.06.94-2.06 2.06-.94-2.06-.94-.94-2.06-.94 2.06-2.06.94zm-11 1L8.5 8.5l.94-2.06 2.06-.94-2.06-.94L8.5 2.5l-.94 2.06-2.06.94zm10 10l.94 2.06.94-2.06 2.06-.94-2.06-.94-.94-2.06-.94 2.06-2.06.94z\"/><path d=\"M17.41 7.96l-1.37-1.37c-.4-.4-.92-.59-1.43-.59-.52 0-1.04.2-1.43.59L10.3 9.45l-7.72 7.72c-.78.78-.78 2.05 0 2.83L4 21.41c.39.39.9.59 1.41.59.51 0 1.02-.2 1.41-.59l7.78-7.78 2.81-2.81c.8-.78.8-2.07 0-2.86zM5.41 20L4 18.59l7.72-7.72 1.47 1.35L5.41 20z\"/>\n",
              "  </svg>\n",
              "      </button>\n",
              "      \n",
              "  <style>\n",
              "    .colab-df-container {\n",
              "      display:flex;\n",
              "      flex-wrap:wrap;\n",
              "      gap: 12px;\n",
              "    }\n",
              "\n",
              "    .colab-df-convert {\n",
              "      background-color: #E8F0FE;\n",
              "      border: none;\n",
              "      border-radius: 50%;\n",
              "      cursor: pointer;\n",
              "      display: none;\n",
              "      fill: #1967D2;\n",
              "      height: 32px;\n",
              "      padding: 0 0 0 0;\n",
              "      width: 32px;\n",
              "    }\n",
              "\n",
              "    .colab-df-convert:hover {\n",
              "      background-color: #E2EBFA;\n",
              "      box-shadow: 0px 1px 2px rgba(60, 64, 67, 0.3), 0px 1px 3px 1px rgba(60, 64, 67, 0.15);\n",
              "      fill: #174EA6;\n",
              "    }\n",
              "\n",
              "    [theme=dark] .colab-df-convert {\n",
              "      background-color: #3B4455;\n",
              "      fill: #D2E3FC;\n",
              "    }\n",
              "\n",
              "    [theme=dark] .colab-df-convert:hover {\n",
              "      background-color: #434B5C;\n",
              "      box-shadow: 0px 1px 3px 1px rgba(0, 0, 0, 0.15);\n",
              "      filter: drop-shadow(0px 1px 2px rgba(0, 0, 0, 0.3));\n",
              "      fill: #FFFFFF;\n",
              "    }\n",
              "  </style>\n",
              "\n",
              "      <script>\n",
              "        const buttonEl =\n",
              "          document.querySelector('#df-b4581877-cf33-44a5-8caf-37c5f9ab2269 button.colab-df-convert');\n",
              "        buttonEl.style.display =\n",
              "          google.colab.kernel.accessAllowed ? 'block' : 'none';\n",
              "\n",
              "        async function convertToInteractive(key) {\n",
              "          const element = document.querySelector('#df-b4581877-cf33-44a5-8caf-37c5f9ab2269');\n",
              "          const dataTable =\n",
              "            await google.colab.kernel.invokeFunction('convertToInteractive',\n",
              "                                                     [key], {});\n",
              "          if (!dataTable) return;\n",
              "\n",
              "          const docLinkHtml = 'Like what you see? Visit the ' +\n",
              "            '<a target=\"_blank\" href=https://colab.research.google.com/notebooks/data_table.ipynb>data table notebook</a>'\n",
              "            + ' to learn more about interactive tables.';\n",
              "          element.innerHTML = '';\n",
              "          dataTable['output_type'] = 'display_data';\n",
              "          await google.colab.output.renderOutput(dataTable, element);\n",
              "          const docLink = document.createElement('div');\n",
              "          docLink.innerHTML = docLinkHtml;\n",
              "          element.appendChild(docLink);\n",
              "        }\n",
              "      </script>\n",
              "    </div>\n",
              "  </div>\n",
              "  "
            ]
          },
          "metadata": {},
          "execution_count": 4
        }
      ]
    },
    {
      "cell_type": "code",
      "source": [
        "icbp['Date'].min()"
      ],
      "metadata": {
        "colab": {
          "base_uri": "https://localhost:8080/"
        },
        "id": "rpCP37FnKYoP",
        "outputId": "7a0a0e45-f514-4018-951d-46fb35477966"
      },
      "execution_count": null,
      "outputs": [
        {
          "output_type": "execute_result",
          "data": {
            "text/plain": [
              "Timestamp('2017-04-03 00:00:00')"
            ]
          },
          "metadata": {},
          "execution_count": 5
        }
      ]
    },
    {
      "cell_type": "code",
      "source": [
        "# create valid date range\n",
        "start = icbp['Date'].min()\n",
        "end = icbp['Date'].max()\n",
        "\n",
        "# find rows between start and end time and find the first row (00:00 monday morning)\n",
        "weekly_rows = icbp[(icbp['Date'] >= start) & (icbp['Date'] <= end)].groupby([pd.Grouper(key='Date', freq='W-MON')]).first().reset_index()\n",
        "weekly_rows.head()"
      ],
      "metadata": {
        "colab": {
          "base_uri": "https://localhost:8080/",
          "height": 206
        },
        "id": "J4bm5Xj0ILO7",
        "outputId": "fd04e124-90da-4c29-e77c-b5ef9b8bde91"
      },
      "execution_count": null,
      "outputs": [
        {
          "output_type": "execute_result",
          "data": {
            "text/plain": [
              "        Date    Open    High     Low   Close    Adj Close     Volume\n",
              "0 2017-04-03  8200.0  8450.0  8200.0  8425.0  7429.060547  2068600.0\n",
              "1 2017-04-10  8400.0  8425.0  8275.0  8400.0  7407.015625  3444200.0\n",
              "2 2017-04-17  8200.0  8225.0  8100.0  8125.0  7164.523438  7277700.0\n",
              "3 2017-04-24  8175.0  8200.0  8075.0  8200.0  7230.657715  7389500.0\n",
              "4 2017-05-01  8450.0  8500.0  8375.0  8500.0  7495.194824  6203900.0"
            ],
            "text/html": [
              "\n",
              "  <div id=\"df-efa071d9-c266-4c0d-ab4c-a399f7f61f2f\">\n",
              "    <div class=\"colab-df-container\">\n",
              "      <div>\n",
              "<style scoped>\n",
              "    .dataframe tbody tr th:only-of-type {\n",
              "        vertical-align: middle;\n",
              "    }\n",
              "\n",
              "    .dataframe tbody tr th {\n",
              "        vertical-align: top;\n",
              "    }\n",
              "\n",
              "    .dataframe thead th {\n",
              "        text-align: right;\n",
              "    }\n",
              "</style>\n",
              "<table border=\"1\" class=\"dataframe\">\n",
              "  <thead>\n",
              "    <tr style=\"text-align: right;\">\n",
              "      <th></th>\n",
              "      <th>Date</th>\n",
              "      <th>Open</th>\n",
              "      <th>High</th>\n",
              "      <th>Low</th>\n",
              "      <th>Close</th>\n",
              "      <th>Adj Close</th>\n",
              "      <th>Volume</th>\n",
              "    </tr>\n",
              "  </thead>\n",
              "  <tbody>\n",
              "    <tr>\n",
              "      <th>0</th>\n",
              "      <td>2017-04-03</td>\n",
              "      <td>8200.0</td>\n",
              "      <td>8450.0</td>\n",
              "      <td>8200.0</td>\n",
              "      <td>8425.0</td>\n",
              "      <td>7429.060547</td>\n",
              "      <td>2068600.0</td>\n",
              "    </tr>\n",
              "    <tr>\n",
              "      <th>1</th>\n",
              "      <td>2017-04-10</td>\n",
              "      <td>8400.0</td>\n",
              "      <td>8425.0</td>\n",
              "      <td>8275.0</td>\n",
              "      <td>8400.0</td>\n",
              "      <td>7407.015625</td>\n",
              "      <td>3444200.0</td>\n",
              "    </tr>\n",
              "    <tr>\n",
              "      <th>2</th>\n",
              "      <td>2017-04-17</td>\n",
              "      <td>8200.0</td>\n",
              "      <td>8225.0</td>\n",
              "      <td>8100.0</td>\n",
              "      <td>8125.0</td>\n",
              "      <td>7164.523438</td>\n",
              "      <td>7277700.0</td>\n",
              "    </tr>\n",
              "    <tr>\n",
              "      <th>3</th>\n",
              "      <td>2017-04-24</td>\n",
              "      <td>8175.0</td>\n",
              "      <td>8200.0</td>\n",
              "      <td>8075.0</td>\n",
              "      <td>8200.0</td>\n",
              "      <td>7230.657715</td>\n",
              "      <td>7389500.0</td>\n",
              "    </tr>\n",
              "    <tr>\n",
              "      <th>4</th>\n",
              "      <td>2017-05-01</td>\n",
              "      <td>8450.0</td>\n",
              "      <td>8500.0</td>\n",
              "      <td>8375.0</td>\n",
              "      <td>8500.0</td>\n",
              "      <td>7495.194824</td>\n",
              "      <td>6203900.0</td>\n",
              "    </tr>\n",
              "  </tbody>\n",
              "</table>\n",
              "</div>\n",
              "      <button class=\"colab-df-convert\" onclick=\"convertToInteractive('df-efa071d9-c266-4c0d-ab4c-a399f7f61f2f')\"\n",
              "              title=\"Convert this dataframe to an interactive table.\"\n",
              "              style=\"display:none;\">\n",
              "        \n",
              "  <svg xmlns=\"http://www.w3.org/2000/svg\" height=\"24px\"viewBox=\"0 0 24 24\"\n",
              "       width=\"24px\">\n",
              "    <path d=\"M0 0h24v24H0V0z\" fill=\"none\"/>\n",
              "    <path d=\"M18.56 5.44l.94 2.06.94-2.06 2.06-.94-2.06-.94-.94-2.06-.94 2.06-2.06.94zm-11 1L8.5 8.5l.94-2.06 2.06-.94-2.06-.94L8.5 2.5l-.94 2.06-2.06.94zm10 10l.94 2.06.94-2.06 2.06-.94-2.06-.94-.94-2.06-.94 2.06-2.06.94z\"/><path d=\"M17.41 7.96l-1.37-1.37c-.4-.4-.92-.59-1.43-.59-.52 0-1.04.2-1.43.59L10.3 9.45l-7.72 7.72c-.78.78-.78 2.05 0 2.83L4 21.41c.39.39.9.59 1.41.59.51 0 1.02-.2 1.41-.59l7.78-7.78 2.81-2.81c.8-.78.8-2.07 0-2.86zM5.41 20L4 18.59l7.72-7.72 1.47 1.35L5.41 20z\"/>\n",
              "  </svg>\n",
              "      </button>\n",
              "      \n",
              "  <style>\n",
              "    .colab-df-container {\n",
              "      display:flex;\n",
              "      flex-wrap:wrap;\n",
              "      gap: 12px;\n",
              "    }\n",
              "\n",
              "    .colab-df-convert {\n",
              "      background-color: #E8F0FE;\n",
              "      border: none;\n",
              "      border-radius: 50%;\n",
              "      cursor: pointer;\n",
              "      display: none;\n",
              "      fill: #1967D2;\n",
              "      height: 32px;\n",
              "      padding: 0 0 0 0;\n",
              "      width: 32px;\n",
              "    }\n",
              "\n",
              "    .colab-df-convert:hover {\n",
              "      background-color: #E2EBFA;\n",
              "      box-shadow: 0px 1px 2px rgba(60, 64, 67, 0.3), 0px 1px 3px 1px rgba(60, 64, 67, 0.15);\n",
              "      fill: #174EA6;\n",
              "    }\n",
              "\n",
              "    [theme=dark] .colab-df-convert {\n",
              "      background-color: #3B4455;\n",
              "      fill: #D2E3FC;\n",
              "    }\n",
              "\n",
              "    [theme=dark] .colab-df-convert:hover {\n",
              "      background-color: #434B5C;\n",
              "      box-shadow: 0px 1px 3px 1px rgba(0, 0, 0, 0.15);\n",
              "      filter: drop-shadow(0px 1px 2px rgba(0, 0, 0, 0.3));\n",
              "      fill: #FFFFFF;\n",
              "    }\n",
              "  </style>\n",
              "\n",
              "      <script>\n",
              "        const buttonEl =\n",
              "          document.querySelector('#df-efa071d9-c266-4c0d-ab4c-a399f7f61f2f button.colab-df-convert');\n",
              "        buttonEl.style.display =\n",
              "          google.colab.kernel.accessAllowed ? 'block' : 'none';\n",
              "\n",
              "        async function convertToInteractive(key) {\n",
              "          const element = document.querySelector('#df-efa071d9-c266-4c0d-ab4c-a399f7f61f2f');\n",
              "          const dataTable =\n",
              "            await google.colab.kernel.invokeFunction('convertToInteractive',\n",
              "                                                     [key], {});\n",
              "          if (!dataTable) return;\n",
              "\n",
              "          const docLinkHtml = 'Like what you see? Visit the ' +\n",
              "            '<a target=\"_blank\" href=https://colab.research.google.com/notebooks/data_table.ipynb>data table notebook</a>'\n",
              "            + ' to learn more about interactive tables.';\n",
              "          element.innerHTML = '';\n",
              "          dataTable['output_type'] = 'display_data';\n",
              "          await google.colab.output.renderOutput(dataTable, element);\n",
              "          const docLink = document.createElement('div');\n",
              "          docLink.innerHTML = docLinkHtml;\n",
              "          element.appendChild(docLink);\n",
              "        }\n",
              "      </script>\n",
              "    </div>\n",
              "  </div>\n",
              "  "
            ]
          },
          "metadata": {},
          "execution_count": 61
        }
      ]
    },
    {
      "cell_type": "code",
      "source": [
        "weekly_rows.tail()"
      ],
      "metadata": {
        "colab": {
          "base_uri": "https://localhost:8080/",
          "height": 206
        },
        "id": "0fMwC59MT_h4",
        "outputId": "4cdd9b66-4c58-4bfe-e608-1d61545921e2"
      },
      "execution_count": null,
      "outputs": [
        {
          "output_type": "execute_result",
          "data": {
            "text/plain": [
              "          Date    Open    High     Low   Close  Adj Close      Volume\n",
              "257 2022-03-07  8500.0  8525.0  8150.0  8250.0     8250.0  21470900.0\n",
              "258 2022-03-14  7400.0  7600.0  7400.0  7600.0     7600.0  21825800.0\n",
              "259 2022-03-21  7525.0  7600.0  7375.0  7425.0     7425.0  15064300.0\n",
              "260 2022-03-28  7475.0  7600.0  7475.0  7475.0     7475.0   4588300.0\n",
              "261 2022-04-04  7300.0  7400.0  7250.0  7300.0     7300.0   9243600.0"
            ],
            "text/html": [
              "\n",
              "  <div id=\"df-2dbec6d5-ec89-4359-8fb9-2b00513ce91c\">\n",
              "    <div class=\"colab-df-container\">\n",
              "      <div>\n",
              "<style scoped>\n",
              "    .dataframe tbody tr th:only-of-type {\n",
              "        vertical-align: middle;\n",
              "    }\n",
              "\n",
              "    .dataframe tbody tr th {\n",
              "        vertical-align: top;\n",
              "    }\n",
              "\n",
              "    .dataframe thead th {\n",
              "        text-align: right;\n",
              "    }\n",
              "</style>\n",
              "<table border=\"1\" class=\"dataframe\">\n",
              "  <thead>\n",
              "    <tr style=\"text-align: right;\">\n",
              "      <th></th>\n",
              "      <th>Date</th>\n",
              "      <th>Open</th>\n",
              "      <th>High</th>\n",
              "      <th>Low</th>\n",
              "      <th>Close</th>\n",
              "      <th>Adj Close</th>\n",
              "      <th>Volume</th>\n",
              "    </tr>\n",
              "  </thead>\n",
              "  <tbody>\n",
              "    <tr>\n",
              "      <th>257</th>\n",
              "      <td>2022-03-07</td>\n",
              "      <td>8500.0</td>\n",
              "      <td>8525.0</td>\n",
              "      <td>8150.0</td>\n",
              "      <td>8250.0</td>\n",
              "      <td>8250.0</td>\n",
              "      <td>21470900.0</td>\n",
              "    </tr>\n",
              "    <tr>\n",
              "      <th>258</th>\n",
              "      <td>2022-03-14</td>\n",
              "      <td>7400.0</td>\n",
              "      <td>7600.0</td>\n",
              "      <td>7400.0</td>\n",
              "      <td>7600.0</td>\n",
              "      <td>7600.0</td>\n",
              "      <td>21825800.0</td>\n",
              "    </tr>\n",
              "    <tr>\n",
              "      <th>259</th>\n",
              "      <td>2022-03-21</td>\n",
              "      <td>7525.0</td>\n",
              "      <td>7600.0</td>\n",
              "      <td>7375.0</td>\n",
              "      <td>7425.0</td>\n",
              "      <td>7425.0</td>\n",
              "      <td>15064300.0</td>\n",
              "    </tr>\n",
              "    <tr>\n",
              "      <th>260</th>\n",
              "      <td>2022-03-28</td>\n",
              "      <td>7475.0</td>\n",
              "      <td>7600.0</td>\n",
              "      <td>7475.0</td>\n",
              "      <td>7475.0</td>\n",
              "      <td>7475.0</td>\n",
              "      <td>4588300.0</td>\n",
              "    </tr>\n",
              "    <tr>\n",
              "      <th>261</th>\n",
              "      <td>2022-04-04</td>\n",
              "      <td>7300.0</td>\n",
              "      <td>7400.0</td>\n",
              "      <td>7250.0</td>\n",
              "      <td>7300.0</td>\n",
              "      <td>7300.0</td>\n",
              "      <td>9243600.0</td>\n",
              "    </tr>\n",
              "  </tbody>\n",
              "</table>\n",
              "</div>\n",
              "      <button class=\"colab-df-convert\" onclick=\"convertToInteractive('df-2dbec6d5-ec89-4359-8fb9-2b00513ce91c')\"\n",
              "              title=\"Convert this dataframe to an interactive table.\"\n",
              "              style=\"display:none;\">\n",
              "        \n",
              "  <svg xmlns=\"http://www.w3.org/2000/svg\" height=\"24px\"viewBox=\"0 0 24 24\"\n",
              "       width=\"24px\">\n",
              "    <path d=\"M0 0h24v24H0V0z\" fill=\"none\"/>\n",
              "    <path d=\"M18.56 5.44l.94 2.06.94-2.06 2.06-.94-2.06-.94-.94-2.06-.94 2.06-2.06.94zm-11 1L8.5 8.5l.94-2.06 2.06-.94-2.06-.94L8.5 2.5l-.94 2.06-2.06.94zm10 10l.94 2.06.94-2.06 2.06-.94-2.06-.94-.94-2.06-.94 2.06-2.06.94z\"/><path d=\"M17.41 7.96l-1.37-1.37c-.4-.4-.92-.59-1.43-.59-.52 0-1.04.2-1.43.59L10.3 9.45l-7.72 7.72c-.78.78-.78 2.05 0 2.83L4 21.41c.39.39.9.59 1.41.59.51 0 1.02-.2 1.41-.59l7.78-7.78 2.81-2.81c.8-.78.8-2.07 0-2.86zM5.41 20L4 18.59l7.72-7.72 1.47 1.35L5.41 20z\"/>\n",
              "  </svg>\n",
              "      </button>\n",
              "      \n",
              "  <style>\n",
              "    .colab-df-container {\n",
              "      display:flex;\n",
              "      flex-wrap:wrap;\n",
              "      gap: 12px;\n",
              "    }\n",
              "\n",
              "    .colab-df-convert {\n",
              "      background-color: #E8F0FE;\n",
              "      border: none;\n",
              "      border-radius: 50%;\n",
              "      cursor: pointer;\n",
              "      display: none;\n",
              "      fill: #1967D2;\n",
              "      height: 32px;\n",
              "      padding: 0 0 0 0;\n",
              "      width: 32px;\n",
              "    }\n",
              "\n",
              "    .colab-df-convert:hover {\n",
              "      background-color: #E2EBFA;\n",
              "      box-shadow: 0px 1px 2px rgba(60, 64, 67, 0.3), 0px 1px 3px 1px rgba(60, 64, 67, 0.15);\n",
              "      fill: #174EA6;\n",
              "    }\n",
              "\n",
              "    [theme=dark] .colab-df-convert {\n",
              "      background-color: #3B4455;\n",
              "      fill: #D2E3FC;\n",
              "    }\n",
              "\n",
              "    [theme=dark] .colab-df-convert:hover {\n",
              "      background-color: #434B5C;\n",
              "      box-shadow: 0px 1px 3px 1px rgba(0, 0, 0, 0.15);\n",
              "      filter: drop-shadow(0px 1px 2px rgba(0, 0, 0, 0.3));\n",
              "      fill: #FFFFFF;\n",
              "    }\n",
              "  </style>\n",
              "\n",
              "      <script>\n",
              "        const buttonEl =\n",
              "          document.querySelector('#df-2dbec6d5-ec89-4359-8fb9-2b00513ce91c button.colab-df-convert');\n",
              "        buttonEl.style.display =\n",
              "          google.colab.kernel.accessAllowed ? 'block' : 'none';\n",
              "\n",
              "        async function convertToInteractive(key) {\n",
              "          const element = document.querySelector('#df-2dbec6d5-ec89-4359-8fb9-2b00513ce91c');\n",
              "          const dataTable =\n",
              "            await google.colab.kernel.invokeFunction('convertToInteractive',\n",
              "                                                     [key], {});\n",
              "          if (!dataTable) return;\n",
              "\n",
              "          const docLinkHtml = 'Like what you see? Visit the ' +\n",
              "            '<a target=\"_blank\" href=https://colab.research.google.com/notebooks/data_table.ipynb>data table notebook</a>'\n",
              "            + ' to learn more about interactive tables.';\n",
              "          element.innerHTML = '';\n",
              "          dataTable['output_type'] = 'display_data';\n",
              "          await google.colab.output.renderOutput(dataTable, element);\n",
              "          const docLink = document.createElement('div');\n",
              "          docLink.innerHTML = docLinkHtml;\n",
              "          element.appendChild(docLink);\n",
              "        }\n",
              "      </script>\n",
              "    </div>\n",
              "  </div>\n",
              "  "
            ]
          },
          "metadata": {},
          "execution_count": 7
        }
      ]
    },
    {
      "cell_type": "code",
      "source": [
        "!pip install plotly==5.6.0"
      ],
      "metadata": {
        "colab": {
          "base_uri": "https://localhost:8080/",
          "height": 314
        },
        "id": "d1IlLTrZK_ww",
        "outputId": "1b3d9a53-de63-49ea-c7d5-5aa3feddc67a"
      },
      "execution_count": null,
      "outputs": [
        {
          "output_type": "stream",
          "name": "stdout",
          "text": [
            "Collecting plotly==5.6.0\n",
            "  Downloading plotly-5.6.0-py2.py3-none-any.whl (27.7 MB)\n",
            "\u001b[K     |████████████████████████████████| 27.7 MB 1.6 MB/s \n",
            "\u001b[?25hRequirement already satisfied: six in /usr/local/lib/python3.7/dist-packages (from plotly==5.6.0) (1.15.0)\n",
            "Requirement already satisfied: tenacity>=6.2.0 in /usr/local/lib/python3.7/dist-packages (from plotly==5.6.0) (8.0.1)\n",
            "Installing collected packages: plotly\n",
            "  Attempting uninstall: plotly\n",
            "    Found existing installation: plotly 5.5.0\n",
            "    Uninstalling plotly-5.5.0:\n",
            "      Successfully uninstalled plotly-5.5.0\n",
            "Successfully installed plotly-5.6.0\n"
          ]
        },
        {
          "output_type": "display_data",
          "data": {
            "application/vnd.colab-display-data+json": {
              "pip_warning": {
                "packages": [
                  "_plotly_utils",
                  "plotly"
                ]
              }
            }
          },
          "metadata": {}
        }
      ]
    },
    {
      "cell_type": "code",
      "source": [
        "!pip install chart-studio"
      ],
      "metadata": {
        "colab": {
          "base_uri": "https://localhost:8080/"
        },
        "id": "6uGX7nWFL1Zi",
        "outputId": "8921c682-a676-44fc-906f-0c913efb88f8"
      },
      "execution_count": null,
      "outputs": [
        {
          "output_type": "stream",
          "name": "stdout",
          "text": [
            "Collecting chart-studio\n",
            "  Downloading chart_studio-1.1.0-py3-none-any.whl (64 kB)\n",
            "\u001b[?25l\r\u001b[K     |█████                           | 10 kB 16.8 MB/s eta 0:00:01\r\u001b[K     |██████████▏                     | 20 kB 19.4 MB/s eta 0:00:01\r\u001b[K     |███████████████▎                | 30 kB 12.0 MB/s eta 0:00:01\r\u001b[K     |████████████████████▍           | 40 kB 5.2 MB/s eta 0:00:01\r\u001b[K     |█████████████████████████▍      | 51 kB 5.7 MB/s eta 0:00:01\r\u001b[K     |██████████████████████████████▌ | 61 kB 6.3 MB/s eta 0:00:01\r\u001b[K     |████████████████████████████████| 64 kB 1.9 MB/s \n",
            "\u001b[?25hRequirement already satisfied: plotly in /usr/local/lib/python3.7/dist-packages (from chart-studio) (5.6.0)\n",
            "Collecting retrying>=1.3.3\n",
            "  Downloading retrying-1.3.3.tar.gz (10 kB)\n",
            "Requirement already satisfied: requests in /usr/local/lib/python3.7/dist-packages (from chart-studio) (2.23.0)\n",
            "Requirement already satisfied: six in /usr/local/lib/python3.7/dist-packages (from chart-studio) (1.15.0)\n",
            "Requirement already satisfied: tenacity>=6.2.0 in /usr/local/lib/python3.7/dist-packages (from plotly->chart-studio) (8.0.1)\n",
            "Requirement already satisfied: urllib3!=1.25.0,!=1.25.1,<1.26,>=1.21.1 in /usr/local/lib/python3.7/dist-packages (from requests->chart-studio) (1.24.3)\n",
            "Requirement already satisfied: chardet<4,>=3.0.2 in /usr/local/lib/python3.7/dist-packages (from requests->chart-studio) (3.0.4)\n",
            "Requirement already satisfied: idna<3,>=2.5 in /usr/local/lib/python3.7/dist-packages (from requests->chart-studio) (2.10)\n",
            "Requirement already satisfied: certifi>=2017.4.17 in /usr/local/lib/python3.7/dist-packages (from requests->chart-studio) (2021.10.8)\n",
            "Building wheels for collected packages: retrying\n",
            "  Building wheel for retrying (setup.py) ... \u001b[?25l\u001b[?25hdone\n",
            "  Created wheel for retrying: filename=retrying-1.3.3-py3-none-any.whl size=11447 sha256=825630794617ba3f623db6f570944e3b426511eace637019d4ea88cee05b1999\n",
            "  Stored in directory: /root/.cache/pip/wheels/f9/8d/8d/f6af3f7f9eea3553bc2fe6d53e4b287dad18b06a861ac56ddf\n",
            "Successfully built retrying\n",
            "Installing collected packages: retrying, chart-studio\n",
            "Successfully installed chart-studio-1.1.0 retrying-1.3.3\n"
          ]
        }
      ]
    },
    {
      "cell_type": "code",
      "source": [
        "from plotly import tools\n",
        "import chart_studio.plotly as py\n",
        "import plotly.graph_objs as go\n",
        "import gc\n",
        "from plotly.offline import init_notebook_mode, iplot\n",
        "# init_notebook_mode(connected=True)"
      ],
      "metadata": {
        "id": "cYaQRYq0KqNc"
      },
      "execution_count": null,
      "outputs": []
    },
    {
      "cell_type": "code",
      "source": [
        "trace1 = go.Scatter(\n",
        "    x = weekly_rows['Date'],\n",
        "    y = weekly_rows['Open'].astype(float),\n",
        "    mode = 'lines',\n",
        "    name = 'Open'\n",
        ")\n",
        "\n",
        "trace2 = go.Scatter(\n",
        "    x = weekly_rows['Date'],\n",
        "    y = weekly_rows['Close'].astype(float),\n",
        "    mode = 'lines',\n",
        "    name = 'Close'\n",
        ")\n",
        "# trace3 = go.Scatter(\n",
        "#     x = weekly_rows['Date'],\n",
        "#     y = weekly_rows['Adj Close'].astype(float),\n",
        "#     mode = 'lines',\n",
        "#     name = 'Adj Close'\n",
        "# )\n",
        "\n",
        "layout = dict(\n",
        "    title='Historical ICBP Prices (2017-2022) with the Slider ',\n",
        "    hovermode='x',\n",
        "    xaxis=dict(\n",
        "        rangeselector=dict(\n",
        "            buttons=list([\n",
        "                #change the count to desired amount of months.\n",
        "                dict(count=1,\n",
        "                     label='1m',\n",
        "                     step='month',\n",
        "                     stepmode='backward'),\n",
        "                dict(count=6,\n",
        "                     label='6m',\n",
        "                     step='month',\n",
        "                     stepmode='backward'),\n",
        "                dict(count=12,\n",
        "                     label='1y',\n",
        "                     step='month',\n",
        "                     stepmode='backward'),\n",
        "                dict(count=36,\n",
        "                     label='3y',\n",
        "                     step='month',\n",
        "                     stepmode='backward'),\n",
        "                dict(step='all')\n",
        "            ])\n",
        "        ),\n",
        "        rangeslider=dict(\n",
        "            visible = True\n",
        "        ),\n",
        "        type='date'\n",
        "    )\n",
        ")\n",
        "\n",
        "# data = [trace1,trace2, trace3]\n",
        "data = [trace1,trace2]\n",
        "fig = dict(data=data, layout=layout)\n",
        "iplot(fig, filename = \"Time Series with Rangeslider\")\n",
        "# fig.show()"
      ],
      "metadata": {
        "colab": {
          "base_uri": "https://localhost:8080/",
          "height": 542
        },
        "id": "jxqEFGGWMM3S",
        "outputId": "8a71db67-b52e-49ee-ee57-e4752ef032de"
      },
      "execution_count": null,
      "outputs": [
        {
          "output_type": "display_data",
          "data": {
            "text/html": [
              "<html>\n",
              "<head><meta charset=\"utf-8\" /></head>\n",
              "<body>\n",
              "    <div>            <script src=\"https://cdnjs.cloudflare.com/ajax/libs/mathjax/2.7.5/MathJax.js?config=TeX-AMS-MML_SVG\"></script><script type=\"text/javascript\">if (window.MathJax) {MathJax.Hub.Config({SVG: {font: \"STIX-Web\"}});}</script>                <script type=\"text/javascript\">window.PlotlyConfig = {MathJaxConfig: 'local'};</script>\n",
              "        <script src=\"https://cdn.plot.ly/plotly-2.9.0.min.js\"></script>                <div id=\"afa4ba71-1625-4484-b4e4-0bc3c3c97fe7\" class=\"plotly-graph-div\" style=\"height:525px; width:100%;\"></div>            <script type=\"text/javascript\">                                    window.PLOTLYENV=window.PLOTLYENV || {};                                    if (document.getElementById(\"afa4ba71-1625-4484-b4e4-0bc3c3c97fe7\")) {                    Plotly.newPlot(                        \"afa4ba71-1625-4484-b4e4-0bc3c3c97fe7\",                        [{\"mode\":\"lines\",\"name\":\"Open\",\"x\":[\"2017-04-03T00:00:00\",\"2017-04-10T00:00:00\",\"2017-04-17T00:00:00\",\"2017-04-24T00:00:00\",\"2017-05-01T00:00:00\",\"2017-05-08T00:00:00\",\"2017-05-15T00:00:00\",\"2017-05-22T00:00:00\",\"2017-05-29T00:00:00\",\"2017-06-05T00:00:00\",\"2017-06-12T00:00:00\",\"2017-06-19T00:00:00\",\"2017-06-26T00:00:00\",\"2017-07-03T00:00:00\",\"2017-07-10T00:00:00\",\"2017-07-17T00:00:00\",\"2017-07-24T00:00:00\",\"2017-07-31T00:00:00\",\"2017-08-07T00:00:00\",\"2017-08-14T00:00:00\",\"2017-08-21T00:00:00\",\"2017-08-28T00:00:00\",\"2017-09-04T00:00:00\",\"2017-09-11T00:00:00\",\"2017-09-18T00:00:00\",\"2017-09-25T00:00:00\",\"2017-10-02T00:00:00\",\"2017-10-09T00:00:00\",\"2017-10-16T00:00:00\",\"2017-10-23T00:00:00\",\"2017-10-30T00:00:00\",\"2017-11-06T00:00:00\",\"2017-11-13T00:00:00\",\"2017-11-20T00:00:00\",\"2017-11-27T00:00:00\",\"2017-12-04T00:00:00\",\"2017-12-11T00:00:00\",\"2017-12-18T00:00:00\",\"2017-12-25T00:00:00\",\"2018-01-01T00:00:00\",\"2018-01-08T00:00:00\",\"2018-01-15T00:00:00\",\"2018-01-22T00:00:00\",\"2018-01-29T00:00:00\",\"2018-02-05T00:00:00\",\"2018-02-12T00:00:00\",\"2018-02-19T00:00:00\",\"2018-02-26T00:00:00\",\"2018-03-05T00:00:00\",\"2018-03-12T00:00:00\",\"2018-03-19T00:00:00\",\"2018-03-26T00:00:00\",\"2018-04-02T00:00:00\",\"2018-04-09T00:00:00\",\"2018-04-16T00:00:00\",\"2018-04-23T00:00:00\",\"2018-04-30T00:00:00\",\"2018-05-07T00:00:00\",\"2018-05-14T00:00:00\",\"2018-05-21T00:00:00\",\"2018-05-28T00:00:00\",\"2018-06-04T00:00:00\",\"2018-06-11T00:00:00\",\"2018-06-18T00:00:00\",\"2018-06-25T00:00:00\",\"2018-07-02T00:00:00\",\"2018-07-09T00:00:00\",\"2018-07-16T00:00:00\",\"2018-07-23T00:00:00\",\"2018-07-30T00:00:00\",\"2018-08-06T00:00:00\",\"2018-08-13T00:00:00\",\"2018-08-20T00:00:00\",\"2018-08-27T00:00:00\",\"2018-09-03T00:00:00\",\"2018-09-10T00:00:00\",\"2018-09-17T00:00:00\",\"2018-09-24T00:00:00\",\"2018-10-01T00:00:00\",\"2018-10-08T00:00:00\",\"2018-10-15T00:00:00\",\"2018-10-22T00:00:00\",\"2018-10-29T00:00:00\",\"2018-11-05T00:00:00\",\"2018-11-12T00:00:00\",\"2018-11-19T00:00:00\",\"2018-11-26T00:00:00\",\"2018-12-03T00:00:00\",\"2018-12-10T00:00:00\",\"2018-12-17T00:00:00\",\"2018-12-24T00:00:00\",\"2018-12-31T00:00:00\",\"2019-01-07T00:00:00\",\"2019-01-14T00:00:00\",\"2019-01-21T00:00:00\",\"2019-01-28T00:00:00\",\"2019-02-04T00:00:00\",\"2019-02-11T00:00:00\",\"2019-02-18T00:00:00\",\"2019-02-25T00:00:00\",\"2019-03-04T00:00:00\",\"2019-03-11T00:00:00\",\"2019-03-18T00:00:00\",\"2019-03-25T00:00:00\",\"2019-04-01T00:00:00\",\"2019-04-08T00:00:00\",\"2019-04-15T00:00:00\",\"2019-04-22T00:00:00\",\"2019-04-29T00:00:00\",\"2019-05-06T00:00:00\",\"2019-05-13T00:00:00\",\"2019-05-20T00:00:00\",\"2019-05-27T00:00:00\",\"2019-06-03T00:00:00\",\"2019-06-10T00:00:00\",\"2019-06-17T00:00:00\",\"2019-06-24T00:00:00\",\"2019-07-01T00:00:00\",\"2019-07-08T00:00:00\",\"2019-07-15T00:00:00\",\"2019-07-22T00:00:00\",\"2019-07-29T00:00:00\",\"2019-08-05T00:00:00\",\"2019-08-12T00:00:00\",\"2019-08-19T00:00:00\",\"2019-08-26T00:00:00\",\"2019-09-02T00:00:00\",\"2019-09-09T00:00:00\",\"2019-09-16T00:00:00\",\"2019-09-23T00:00:00\",\"2019-09-30T00:00:00\",\"2019-10-07T00:00:00\",\"2019-10-14T00:00:00\",\"2019-10-21T00:00:00\",\"2019-10-28T00:00:00\",\"2019-11-04T00:00:00\",\"2019-11-11T00:00:00\",\"2019-11-18T00:00:00\",\"2019-11-25T00:00:00\",\"2019-12-02T00:00:00\",\"2019-12-09T00:00:00\",\"2019-12-16T00:00:00\",\"2019-12-23T00:00:00\",\"2019-12-30T00:00:00\",\"2020-01-06T00:00:00\",\"2020-01-13T00:00:00\",\"2020-01-20T00:00:00\",\"2020-01-27T00:00:00\",\"2020-02-03T00:00:00\",\"2020-02-10T00:00:00\",\"2020-02-17T00:00:00\",\"2020-02-24T00:00:00\",\"2020-03-02T00:00:00\",\"2020-03-09T00:00:00\",\"2020-03-16T00:00:00\",\"2020-03-23T00:00:00\",\"2020-03-30T00:00:00\",\"2020-04-06T00:00:00\",\"2020-04-13T00:00:00\",\"2020-04-20T00:00:00\",\"2020-04-27T00:00:00\",\"2020-05-04T00:00:00\",\"2020-05-11T00:00:00\",\"2020-05-18T00:00:00\",\"2020-05-25T00:00:00\",\"2020-06-01T00:00:00\",\"2020-06-08T00:00:00\",\"2020-06-15T00:00:00\",\"2020-06-22T00:00:00\",\"2020-06-29T00:00:00\",\"2020-07-06T00:00:00\",\"2020-07-13T00:00:00\",\"2020-07-20T00:00:00\",\"2020-07-27T00:00:00\",\"2020-08-03T00:00:00\",\"2020-08-10T00:00:00\",\"2020-08-17T00:00:00\",\"2020-08-24T00:00:00\",\"2020-08-31T00:00:00\",\"2020-09-07T00:00:00\",\"2020-09-14T00:00:00\",\"2020-09-21T00:00:00\",\"2020-09-28T00:00:00\",\"2020-10-05T00:00:00\",\"2020-10-12T00:00:00\",\"2020-10-19T00:00:00\",\"2020-10-26T00:00:00\",\"2020-11-02T00:00:00\",\"2020-11-09T00:00:00\",\"2020-11-16T00:00:00\",\"2020-11-23T00:00:00\",\"2020-11-30T00:00:00\",\"2020-12-07T00:00:00\",\"2020-12-14T00:00:00\",\"2020-12-21T00:00:00\",\"2020-12-28T00:00:00\",\"2021-01-04T00:00:00\",\"2021-01-11T00:00:00\",\"2021-01-18T00:00:00\",\"2021-01-25T00:00:00\",\"2021-02-01T00:00:00\",\"2021-02-08T00:00:00\",\"2021-02-15T00:00:00\",\"2021-02-22T00:00:00\",\"2021-03-01T00:00:00\",\"2021-03-08T00:00:00\",\"2021-03-15T00:00:00\",\"2021-03-22T00:00:00\",\"2021-03-29T00:00:00\",\"2021-04-05T00:00:00\",\"2021-04-12T00:00:00\",\"2021-04-19T00:00:00\",\"2021-04-26T00:00:00\",\"2021-05-03T00:00:00\",\"2021-05-10T00:00:00\",\"2021-05-17T00:00:00\",\"2021-05-24T00:00:00\",\"2021-05-31T00:00:00\",\"2021-06-07T00:00:00\",\"2021-06-14T00:00:00\",\"2021-06-21T00:00:00\",\"2021-06-28T00:00:00\",\"2021-07-05T00:00:00\",\"2021-07-12T00:00:00\",\"2021-07-19T00:00:00\",\"2021-07-26T00:00:00\",\"2021-08-02T00:00:00\",\"2021-08-09T00:00:00\",\"2021-08-16T00:00:00\",\"2021-08-23T00:00:00\",\"2021-08-30T00:00:00\",\"2021-09-06T00:00:00\",\"2021-09-13T00:00:00\",\"2021-09-20T00:00:00\",\"2021-09-27T00:00:00\",\"2021-10-04T00:00:00\",\"2021-10-11T00:00:00\",\"2021-10-18T00:00:00\",\"2021-10-25T00:00:00\",\"2021-11-01T00:00:00\",\"2021-11-08T00:00:00\",\"2021-11-15T00:00:00\",\"2021-11-22T00:00:00\",\"2021-11-29T00:00:00\",\"2021-12-06T00:00:00\",\"2021-12-13T00:00:00\",\"2021-12-20T00:00:00\",\"2021-12-27T00:00:00\",\"2022-01-03T00:00:00\",\"2022-01-10T00:00:00\",\"2022-01-17T00:00:00\",\"2022-01-24T00:00:00\",\"2022-01-31T00:00:00\",\"2022-02-07T00:00:00\",\"2022-02-14T00:00:00\",\"2022-02-21T00:00:00\",\"2022-02-28T00:00:00\",\"2022-03-07T00:00:00\",\"2022-03-14T00:00:00\",\"2022-03-21T00:00:00\",\"2022-03-28T00:00:00\",\"2022-04-04T00:00:00\"],\"y\":[8200.0,8400.0,8200.0,8175.0,8450.0,8775.0,8675.0,8575.0,8750.0,8825.0,8800.0,8500.0,8750.0,8800.0,8750.0,8500.0,8600.0,8650.0,8300.0,8275.0,8325.0,8600.0,8700.0,8675.0,8800.0,8775.0,8925.0,8900.0,8700.0,8750.0,8850.0,9000.0,8750.0,8550.0,8925.0,8700.0,8750.0,8725.0,8925.0,9000.0,8750.0,9025.0,8900.0,8800.0,8875.0,8700.0,8900.0,9075.0,8975.0,9100.0,9100.0,8800.0,8625.0,8300.0,8275.0,8350.0,8375.0,8675.0,8625.0,8350.0,8150.0,8625.0,8700.0,8850.0,8850.0,8750.0,8875.0,8875.0,8700.0,8675.0,8800.0,9000.0,8550.0,8600.0,8800.0,8775.0,8900.0,8900.0,8700.0,8825.0,8850.0,8700.0,8675.0,8650.0,9000.0,8400.0,8775.0,8925.0,9450.0,9725.0,10050.0,10525.0,10450.0,10350.0,10000.0,10250.0,10800.0,10650.0,10500.0,10550.0,10250.0,10350.0,10300.0,10425.0,9500.0,9275.0,9025.0,9050.0,9025.0,9475.0,9650.0,9400.0,9375.0,9800.0,9800.0,9900.0,9975.0,9975.0,10000.0,9950.0,10375.0,10650.0,10350.0,10875.0,11500.0,11800.0,11850.0,11975.0,11850.0,11900.0,11950.0,11950.0,12400.0,11550.0,11500.0,11675.0,11300.0,11400.0,11400.0,11375.0,11600.0,11375.0,11325.0,11325.0,11275.0,11550.0,11625.0,11625.0,11625.0,11550.0,11575.0,10850.0,11000.0,10650.0,10300.0,10400.0,8300.0,9650.0,10350.0,10200.0,10075.0,9900.0,9850.0,9750.0,9800.0,9600.0,8250.0,8850.0,8700.0,9150.0,9450.0,9425.0,9400.0,9325.0,9075.0,9425.0,10175.0,10200.0,10225.0,10175.0,10325.0,10575.0,10050.0,10175.0,10200.0,9900.0,9825.0,9750.0,9825.0,9775.0,9800.0,10225.0,10000.0,9950.0,9825.0,9825.0,9500.0,9525.0,9525.0,9700.0,9575.0,9250.0,9150.0,9000.0,8625.0,8600.0,8375.0,8575.0,9100.0,9200.0,8925.0,8650.0,9000.0,8700.0,8550.0,8600.0,8250.0,8200.0,8250.0,8350.0,8175.0,7975.0,8050.0,8275.0,8825.0,8425.0,8750.0,8150.0,8200.0,8250.0,8225.0,8600.0,8325.0,8425.0,8100.0,8350.0,8650.0,8875.0,9300.0,9125.0,8800.0,8925.0,8950.0,9050.0,9025.0,8800.0,8750.0,8775.0,8650.0,8650.0,8850.0,8775.0,8600.0,8725.0,8650.0,8550.0,8525.0,8500.0,7400.0,7525.0,7475.0,7300.0],\"type\":\"scatter\"},{\"mode\":\"lines\",\"name\":\"Close\",\"x\":[\"2017-04-03T00:00:00\",\"2017-04-10T00:00:00\",\"2017-04-17T00:00:00\",\"2017-04-24T00:00:00\",\"2017-05-01T00:00:00\",\"2017-05-08T00:00:00\",\"2017-05-15T00:00:00\",\"2017-05-22T00:00:00\",\"2017-05-29T00:00:00\",\"2017-06-05T00:00:00\",\"2017-06-12T00:00:00\",\"2017-06-19T00:00:00\",\"2017-06-26T00:00:00\",\"2017-07-03T00:00:00\",\"2017-07-10T00:00:00\",\"2017-07-17T00:00:00\",\"2017-07-24T00:00:00\",\"2017-07-31T00:00:00\",\"2017-08-07T00:00:00\",\"2017-08-14T00:00:00\",\"2017-08-21T00:00:00\",\"2017-08-28T00:00:00\",\"2017-09-04T00:00:00\",\"2017-09-11T00:00:00\",\"2017-09-18T00:00:00\",\"2017-09-25T00:00:00\",\"2017-10-02T00:00:00\",\"2017-10-09T00:00:00\",\"2017-10-16T00:00:00\",\"2017-10-23T00:00:00\",\"2017-10-30T00:00:00\",\"2017-11-06T00:00:00\",\"2017-11-13T00:00:00\",\"2017-11-20T00:00:00\",\"2017-11-27T00:00:00\",\"2017-12-04T00:00:00\",\"2017-12-11T00:00:00\",\"2017-12-18T00:00:00\",\"2017-12-25T00:00:00\",\"2018-01-01T00:00:00\",\"2018-01-08T00:00:00\",\"2018-01-15T00:00:00\",\"2018-01-22T00:00:00\",\"2018-01-29T00:00:00\",\"2018-02-05T00:00:00\",\"2018-02-12T00:00:00\",\"2018-02-19T00:00:00\",\"2018-02-26T00:00:00\",\"2018-03-05T00:00:00\",\"2018-03-12T00:00:00\",\"2018-03-19T00:00:00\",\"2018-03-26T00:00:00\",\"2018-04-02T00:00:00\",\"2018-04-09T00:00:00\",\"2018-04-16T00:00:00\",\"2018-04-23T00:00:00\",\"2018-04-30T00:00:00\",\"2018-05-07T00:00:00\",\"2018-05-14T00:00:00\",\"2018-05-21T00:00:00\",\"2018-05-28T00:00:00\",\"2018-06-04T00:00:00\",\"2018-06-11T00:00:00\",\"2018-06-18T00:00:00\",\"2018-06-25T00:00:00\",\"2018-07-02T00:00:00\",\"2018-07-09T00:00:00\",\"2018-07-16T00:00:00\",\"2018-07-23T00:00:00\",\"2018-07-30T00:00:00\",\"2018-08-06T00:00:00\",\"2018-08-13T00:00:00\",\"2018-08-20T00:00:00\",\"2018-08-27T00:00:00\",\"2018-09-03T00:00:00\",\"2018-09-10T00:00:00\",\"2018-09-17T00:00:00\",\"2018-09-24T00:00:00\",\"2018-10-01T00:00:00\",\"2018-10-08T00:00:00\",\"2018-10-15T00:00:00\",\"2018-10-22T00:00:00\",\"2018-10-29T00:00:00\",\"2018-11-05T00:00:00\",\"2018-11-12T00:00:00\",\"2018-11-19T00:00:00\",\"2018-11-26T00:00:00\",\"2018-12-03T00:00:00\",\"2018-12-10T00:00:00\",\"2018-12-17T00:00:00\",\"2018-12-24T00:00:00\",\"2018-12-31T00:00:00\",\"2019-01-07T00:00:00\",\"2019-01-14T00:00:00\",\"2019-01-21T00:00:00\",\"2019-01-28T00:00:00\",\"2019-02-04T00:00:00\",\"2019-02-11T00:00:00\",\"2019-02-18T00:00:00\",\"2019-02-25T00:00:00\",\"2019-03-04T00:00:00\",\"2019-03-11T00:00:00\",\"2019-03-18T00:00:00\",\"2019-03-25T00:00:00\",\"2019-04-01T00:00:00\",\"2019-04-08T00:00:00\",\"2019-04-15T00:00:00\",\"2019-04-22T00:00:00\",\"2019-04-29T00:00:00\",\"2019-05-06T00:00:00\",\"2019-05-13T00:00:00\",\"2019-05-20T00:00:00\",\"2019-05-27T00:00:00\",\"2019-06-03T00:00:00\",\"2019-06-10T00:00:00\",\"2019-06-17T00:00:00\",\"2019-06-24T00:00:00\",\"2019-07-01T00:00:00\",\"2019-07-08T00:00:00\",\"2019-07-15T00:00:00\",\"2019-07-22T00:00:00\",\"2019-07-29T00:00:00\",\"2019-08-05T00:00:00\",\"2019-08-12T00:00:00\",\"2019-08-19T00:00:00\",\"2019-08-26T00:00:00\",\"2019-09-02T00:00:00\",\"2019-09-09T00:00:00\",\"2019-09-16T00:00:00\",\"2019-09-23T00:00:00\",\"2019-09-30T00:00:00\",\"2019-10-07T00:00:00\",\"2019-10-14T00:00:00\",\"2019-10-21T00:00:00\",\"2019-10-28T00:00:00\",\"2019-11-04T00:00:00\",\"2019-11-11T00:00:00\",\"2019-11-18T00:00:00\",\"2019-11-25T00:00:00\",\"2019-12-02T00:00:00\",\"2019-12-09T00:00:00\",\"2019-12-16T00:00:00\",\"2019-12-23T00:00:00\",\"2019-12-30T00:00:00\",\"2020-01-06T00:00:00\",\"2020-01-13T00:00:00\",\"2020-01-20T00:00:00\",\"2020-01-27T00:00:00\",\"2020-02-03T00:00:00\",\"2020-02-10T00:00:00\",\"2020-02-17T00:00:00\",\"2020-02-24T00:00:00\",\"2020-03-02T00:00:00\",\"2020-03-09T00:00:00\",\"2020-03-16T00:00:00\",\"2020-03-23T00:00:00\",\"2020-03-30T00:00:00\",\"2020-04-06T00:00:00\",\"2020-04-13T00:00:00\",\"2020-04-20T00:00:00\",\"2020-04-27T00:00:00\",\"2020-05-04T00:00:00\",\"2020-05-11T00:00:00\",\"2020-05-18T00:00:00\",\"2020-05-25T00:00:00\",\"2020-06-01T00:00:00\",\"2020-06-08T00:00:00\",\"2020-06-15T00:00:00\",\"2020-06-22T00:00:00\",\"2020-06-29T00:00:00\",\"2020-07-06T00:00:00\",\"2020-07-13T00:00:00\",\"2020-07-20T00:00:00\",\"2020-07-27T00:00:00\",\"2020-08-03T00:00:00\",\"2020-08-10T00:00:00\",\"2020-08-17T00:00:00\",\"2020-08-24T00:00:00\",\"2020-08-31T00:00:00\",\"2020-09-07T00:00:00\",\"2020-09-14T00:00:00\",\"2020-09-21T00:00:00\",\"2020-09-28T00:00:00\",\"2020-10-05T00:00:00\",\"2020-10-12T00:00:00\",\"2020-10-19T00:00:00\",\"2020-10-26T00:00:00\",\"2020-11-02T00:00:00\",\"2020-11-09T00:00:00\",\"2020-11-16T00:00:00\",\"2020-11-23T00:00:00\",\"2020-11-30T00:00:00\",\"2020-12-07T00:00:00\",\"2020-12-14T00:00:00\",\"2020-12-21T00:00:00\",\"2020-12-28T00:00:00\",\"2021-01-04T00:00:00\",\"2021-01-11T00:00:00\",\"2021-01-18T00:00:00\",\"2021-01-25T00:00:00\",\"2021-02-01T00:00:00\",\"2021-02-08T00:00:00\",\"2021-02-15T00:00:00\",\"2021-02-22T00:00:00\",\"2021-03-01T00:00:00\",\"2021-03-08T00:00:00\",\"2021-03-15T00:00:00\",\"2021-03-22T00:00:00\",\"2021-03-29T00:00:00\",\"2021-04-05T00:00:00\",\"2021-04-12T00:00:00\",\"2021-04-19T00:00:00\",\"2021-04-26T00:00:00\",\"2021-05-03T00:00:00\",\"2021-05-10T00:00:00\",\"2021-05-17T00:00:00\",\"2021-05-24T00:00:00\",\"2021-05-31T00:00:00\",\"2021-06-07T00:00:00\",\"2021-06-14T00:00:00\",\"2021-06-21T00:00:00\",\"2021-06-28T00:00:00\",\"2021-07-05T00:00:00\",\"2021-07-12T00:00:00\",\"2021-07-19T00:00:00\",\"2021-07-26T00:00:00\",\"2021-08-02T00:00:00\",\"2021-08-09T00:00:00\",\"2021-08-16T00:00:00\",\"2021-08-23T00:00:00\",\"2021-08-30T00:00:00\",\"2021-09-06T00:00:00\",\"2021-09-13T00:00:00\",\"2021-09-20T00:00:00\",\"2021-09-27T00:00:00\",\"2021-10-04T00:00:00\",\"2021-10-11T00:00:00\",\"2021-10-18T00:00:00\",\"2021-10-25T00:00:00\",\"2021-11-01T00:00:00\",\"2021-11-08T00:00:00\",\"2021-11-15T00:00:00\",\"2021-11-22T00:00:00\",\"2021-11-29T00:00:00\",\"2021-12-06T00:00:00\",\"2021-12-13T00:00:00\",\"2021-12-20T00:00:00\",\"2021-12-27T00:00:00\",\"2022-01-03T00:00:00\",\"2022-01-10T00:00:00\",\"2022-01-17T00:00:00\",\"2022-01-24T00:00:00\",\"2022-01-31T00:00:00\",\"2022-02-07T00:00:00\",\"2022-02-14T00:00:00\",\"2022-02-21T00:00:00\",\"2022-02-28T00:00:00\",\"2022-03-07T00:00:00\",\"2022-03-14T00:00:00\",\"2022-03-21T00:00:00\",\"2022-03-28T00:00:00\",\"2022-04-04T00:00:00\"],\"y\":[8425.0,8400.0,8125.0,8200.0,8500.0,8550.0,8625.0,8575.0,8825.0,8675.0,8750.0,8500.0,8775.0,8800.0,8800.0,8475.0,8625.0,8675.0,8325.0,8350.0,8400.0,8725.0,8675.0,8575.0,8775.0,8825.0,8800.0,8700.0,8700.0,8850.0,8725.0,8800.0,8575.0,8550.0,8900.0,8675.0,8650.0,8800.0,8875.0,9000.0,9100.0,8875.0,8850.0,8850.0,8700.0,8750.0,8900.0,8875.0,9000.0,8925.0,8725.0,8575.0,8375.0,8200.0,8425.0,8350.0,8350.0,8675.0,8450.0,8200.0,8100.0,8625.0,8775.0,8850.0,8850.0,8800.0,8825.0,8900.0,8675.0,8675.0,8725.0,9000.0,8200.0,8800.0,8625.0,8650.0,8900.0,8775.0,8850.0,8950.0,8875.0,8750.0,8750.0,8650.0,8900.0,8550.0,8775.0,8950.0,9750.0,9700.0,10050.0,10525.0,10450.0,10175.0,10100.0,10450.0,10725.0,10650.0,10450.0,10475.0,10400.0,10275.0,10225.0,10300.0,9575.0,9000.0,9250.0,9075.0,9200.0,9725.0,9700.0,9650.0,9625.0,9725.0,9800.0,10150.0,10125.0,10000.0,10125.0,10100.0,10425.0,10725.0,10625.0,10775.0,11250.0,11900.0,11750.0,12000.0,12025.0,11950.0,11800.0,11925.0,12400.0,11375.0,11425.0,11600.0,11200.0,11400.0,11425.0,11375.0,11400.0,11375.0,11500.0,11275.0,11150.0,11500.0,11600.0,11700.0,11625.0,11600.0,11475.0,10850.0,10975.0,10950.0,10775.0,9750.0,8300.0,10225.0,10075.0,10350.0,9975.0,10025.0,9750.0,9750.0,9900.0,8950.0,8475.0,8900.0,8875.0,8925.0,9350.0,9500.0,9450.0,9325.0,9050.0,10025.0,10200.0,10200.0,10425.0,10225.0,10325.0,10400.0,10250.0,10150.0,10100.0,9925.0,9725.0,9650.0,9725.0,9675.0,10250.0,10125.0,10100.0,9800.0,9700.0,9600.0,9300.0,9450.0,9425.0,9750.0,9500.0,9500.0,8800.0,8825.0,8550.0,8700.0,8325.0,8600.0,9200.0,9075.0,8825.0,8625.0,8900.0,8600.0,8525.0,8525.0,8300.0,8175.0,8225.0,8175.0,8150.0,8050.0,8250.0,8400.0,8950.0,8500.0,8500.0,8225.0,8050.0,8350.0,8200.0,8425.0,8425.0,8450.0,8300.0,8225.0,8825.0,8875.0,9300.0,9100.0,8850.0,8925.0,8825.0,8950.0,8450.0,8750.0,8700.0,8750.0,8700.0,8775.0,8700.0,8775.0,8750.0,8675.0,8625.0,8550.0,8525.0,8250.0,7600.0,7425.0,7475.0,7300.0],\"type\":\"scatter\"}],                        {\"hovermode\":\"x\",\"template\":{\"data\":{\"barpolar\":[{\"marker\":{\"line\":{\"color\":\"#E5ECF6\",\"width\":0.5},\"pattern\":{\"fillmode\":\"overlay\",\"size\":10,\"solidity\":0.2}},\"type\":\"barpolar\"}],\"bar\":[{\"error_x\":{\"color\":\"#2a3f5f\"},\"error_y\":{\"color\":\"#2a3f5f\"},\"marker\":{\"line\":{\"color\":\"#E5ECF6\",\"width\":0.5},\"pattern\":{\"fillmode\":\"overlay\",\"size\":10,\"solidity\":0.2}},\"type\":\"bar\"}],\"carpet\":[{\"aaxis\":{\"endlinecolor\":\"#2a3f5f\",\"gridcolor\":\"white\",\"linecolor\":\"white\",\"minorgridcolor\":\"white\",\"startlinecolor\":\"#2a3f5f\"},\"baxis\":{\"endlinecolor\":\"#2a3f5f\",\"gridcolor\":\"white\",\"linecolor\":\"white\",\"minorgridcolor\":\"white\",\"startlinecolor\":\"#2a3f5f\"},\"type\":\"carpet\"}],\"choropleth\":[{\"colorbar\":{\"outlinewidth\":0,\"ticks\":\"\"},\"type\":\"choropleth\"}],\"contourcarpet\":[{\"colorbar\":{\"outlinewidth\":0,\"ticks\":\"\"},\"type\":\"contourcarpet\"}],\"contour\":[{\"colorbar\":{\"outlinewidth\":0,\"ticks\":\"\"},\"colorscale\":[[0.0,\"#0d0887\"],[0.1111111111111111,\"#46039f\"],[0.2222222222222222,\"#7201a8\"],[0.3333333333333333,\"#9c179e\"],[0.4444444444444444,\"#bd3786\"],[0.5555555555555556,\"#d8576b\"],[0.6666666666666666,\"#ed7953\"],[0.7777777777777778,\"#fb9f3a\"],[0.8888888888888888,\"#fdca26\"],[1.0,\"#f0f921\"]],\"type\":\"contour\"}],\"heatmapgl\":[{\"colorbar\":{\"outlinewidth\":0,\"ticks\":\"\"},\"colorscale\":[[0.0,\"#0d0887\"],[0.1111111111111111,\"#46039f\"],[0.2222222222222222,\"#7201a8\"],[0.3333333333333333,\"#9c179e\"],[0.4444444444444444,\"#bd3786\"],[0.5555555555555556,\"#d8576b\"],[0.6666666666666666,\"#ed7953\"],[0.7777777777777778,\"#fb9f3a\"],[0.8888888888888888,\"#fdca26\"],[1.0,\"#f0f921\"]],\"type\":\"heatmapgl\"}],\"heatmap\":[{\"colorbar\":{\"outlinewidth\":0,\"ticks\":\"\"},\"colorscale\":[[0.0,\"#0d0887\"],[0.1111111111111111,\"#46039f\"],[0.2222222222222222,\"#7201a8\"],[0.3333333333333333,\"#9c179e\"],[0.4444444444444444,\"#bd3786\"],[0.5555555555555556,\"#d8576b\"],[0.6666666666666666,\"#ed7953\"],[0.7777777777777778,\"#fb9f3a\"],[0.8888888888888888,\"#fdca26\"],[1.0,\"#f0f921\"]],\"type\":\"heatmap\"}],\"histogram2dcontour\":[{\"colorbar\":{\"outlinewidth\":0,\"ticks\":\"\"},\"colorscale\":[[0.0,\"#0d0887\"],[0.1111111111111111,\"#46039f\"],[0.2222222222222222,\"#7201a8\"],[0.3333333333333333,\"#9c179e\"],[0.4444444444444444,\"#bd3786\"],[0.5555555555555556,\"#d8576b\"],[0.6666666666666666,\"#ed7953\"],[0.7777777777777778,\"#fb9f3a\"],[0.8888888888888888,\"#fdca26\"],[1.0,\"#f0f921\"]],\"type\":\"histogram2dcontour\"}],\"histogram2d\":[{\"colorbar\":{\"outlinewidth\":0,\"ticks\":\"\"},\"colorscale\":[[0.0,\"#0d0887\"],[0.1111111111111111,\"#46039f\"],[0.2222222222222222,\"#7201a8\"],[0.3333333333333333,\"#9c179e\"],[0.4444444444444444,\"#bd3786\"],[0.5555555555555556,\"#d8576b\"],[0.6666666666666666,\"#ed7953\"],[0.7777777777777778,\"#fb9f3a\"],[0.8888888888888888,\"#fdca26\"],[1.0,\"#f0f921\"]],\"type\":\"histogram2d\"}],\"histogram\":[{\"marker\":{\"pattern\":{\"fillmode\":\"overlay\",\"size\":10,\"solidity\":0.2}},\"type\":\"histogram\"}],\"mesh3d\":[{\"colorbar\":{\"outlinewidth\":0,\"ticks\":\"\"},\"type\":\"mesh3d\"}],\"parcoords\":[{\"line\":{\"colorbar\":{\"outlinewidth\":0,\"ticks\":\"\"}},\"type\":\"parcoords\"}],\"pie\":[{\"automargin\":true,\"type\":\"pie\"}],\"scatter3d\":[{\"line\":{\"colorbar\":{\"outlinewidth\":0,\"ticks\":\"\"}},\"marker\":{\"colorbar\":{\"outlinewidth\":0,\"ticks\":\"\"}},\"type\":\"scatter3d\"}],\"scattercarpet\":[{\"marker\":{\"colorbar\":{\"outlinewidth\":0,\"ticks\":\"\"}},\"type\":\"scattercarpet\"}],\"scattergeo\":[{\"marker\":{\"colorbar\":{\"outlinewidth\":0,\"ticks\":\"\"}},\"type\":\"scattergeo\"}],\"scattergl\":[{\"marker\":{\"colorbar\":{\"outlinewidth\":0,\"ticks\":\"\"}},\"type\":\"scattergl\"}],\"scattermapbox\":[{\"marker\":{\"colorbar\":{\"outlinewidth\":0,\"ticks\":\"\"}},\"type\":\"scattermapbox\"}],\"scatterpolargl\":[{\"marker\":{\"colorbar\":{\"outlinewidth\":0,\"ticks\":\"\"}},\"type\":\"scatterpolargl\"}],\"scatterpolar\":[{\"marker\":{\"colorbar\":{\"outlinewidth\":0,\"ticks\":\"\"}},\"type\":\"scatterpolar\"}],\"scatter\":[{\"marker\":{\"colorbar\":{\"outlinewidth\":0,\"ticks\":\"\"}},\"type\":\"scatter\"}],\"scatterternary\":[{\"marker\":{\"colorbar\":{\"outlinewidth\":0,\"ticks\":\"\"}},\"type\":\"scatterternary\"}],\"surface\":[{\"colorbar\":{\"outlinewidth\":0,\"ticks\":\"\"},\"colorscale\":[[0.0,\"#0d0887\"],[0.1111111111111111,\"#46039f\"],[0.2222222222222222,\"#7201a8\"],[0.3333333333333333,\"#9c179e\"],[0.4444444444444444,\"#bd3786\"],[0.5555555555555556,\"#d8576b\"],[0.6666666666666666,\"#ed7953\"],[0.7777777777777778,\"#fb9f3a\"],[0.8888888888888888,\"#fdca26\"],[1.0,\"#f0f921\"]],\"type\":\"surface\"}],\"table\":[{\"cells\":{\"fill\":{\"color\":\"#EBF0F8\"},\"line\":{\"color\":\"white\"}},\"header\":{\"fill\":{\"color\":\"#C8D4E3\"},\"line\":{\"color\":\"white\"}},\"type\":\"table\"}]},\"layout\":{\"annotationdefaults\":{\"arrowcolor\":\"#2a3f5f\",\"arrowhead\":0,\"arrowwidth\":1},\"autotypenumbers\":\"strict\",\"coloraxis\":{\"colorbar\":{\"outlinewidth\":0,\"ticks\":\"\"}},\"colorscale\":{\"diverging\":[[0,\"#8e0152\"],[0.1,\"#c51b7d\"],[0.2,\"#de77ae\"],[0.3,\"#f1b6da\"],[0.4,\"#fde0ef\"],[0.5,\"#f7f7f7\"],[0.6,\"#e6f5d0\"],[0.7,\"#b8e186\"],[0.8,\"#7fbc41\"],[0.9,\"#4d9221\"],[1,\"#276419\"]],\"sequential\":[[0.0,\"#0d0887\"],[0.1111111111111111,\"#46039f\"],[0.2222222222222222,\"#7201a8\"],[0.3333333333333333,\"#9c179e\"],[0.4444444444444444,\"#bd3786\"],[0.5555555555555556,\"#d8576b\"],[0.6666666666666666,\"#ed7953\"],[0.7777777777777778,\"#fb9f3a\"],[0.8888888888888888,\"#fdca26\"],[1.0,\"#f0f921\"]],\"sequentialminus\":[[0.0,\"#0d0887\"],[0.1111111111111111,\"#46039f\"],[0.2222222222222222,\"#7201a8\"],[0.3333333333333333,\"#9c179e\"],[0.4444444444444444,\"#bd3786\"],[0.5555555555555556,\"#d8576b\"],[0.6666666666666666,\"#ed7953\"],[0.7777777777777778,\"#fb9f3a\"],[0.8888888888888888,\"#fdca26\"],[1.0,\"#f0f921\"]]},\"colorway\":[\"#636efa\",\"#EF553B\",\"#00cc96\",\"#ab63fa\",\"#FFA15A\",\"#19d3f3\",\"#FF6692\",\"#B6E880\",\"#FF97FF\",\"#FECB52\"],\"font\":{\"color\":\"#2a3f5f\"},\"geo\":{\"bgcolor\":\"white\",\"lakecolor\":\"white\",\"landcolor\":\"#E5ECF6\",\"showlakes\":true,\"showland\":true,\"subunitcolor\":\"white\"},\"hoverlabel\":{\"align\":\"left\"},\"hovermode\":\"closest\",\"mapbox\":{\"style\":\"light\"},\"paper_bgcolor\":\"white\",\"plot_bgcolor\":\"#E5ECF6\",\"polar\":{\"angularaxis\":{\"gridcolor\":\"white\",\"linecolor\":\"white\",\"ticks\":\"\"},\"bgcolor\":\"#E5ECF6\",\"radialaxis\":{\"gridcolor\":\"white\",\"linecolor\":\"white\",\"ticks\":\"\"}},\"scene\":{\"xaxis\":{\"backgroundcolor\":\"#E5ECF6\",\"gridcolor\":\"white\",\"gridwidth\":2,\"linecolor\":\"white\",\"showbackground\":true,\"ticks\":\"\",\"zerolinecolor\":\"white\"},\"yaxis\":{\"backgroundcolor\":\"#E5ECF6\",\"gridcolor\":\"white\",\"gridwidth\":2,\"linecolor\":\"white\",\"showbackground\":true,\"ticks\":\"\",\"zerolinecolor\":\"white\"},\"zaxis\":{\"backgroundcolor\":\"#E5ECF6\",\"gridcolor\":\"white\",\"gridwidth\":2,\"linecolor\":\"white\",\"showbackground\":true,\"ticks\":\"\",\"zerolinecolor\":\"white\"}},\"shapedefaults\":{\"line\":{\"color\":\"#2a3f5f\"}},\"ternary\":{\"aaxis\":{\"gridcolor\":\"white\",\"linecolor\":\"white\",\"ticks\":\"\"},\"baxis\":{\"gridcolor\":\"white\",\"linecolor\":\"white\",\"ticks\":\"\"},\"bgcolor\":\"#E5ECF6\",\"caxis\":{\"gridcolor\":\"white\",\"linecolor\":\"white\",\"ticks\":\"\"}},\"title\":{\"x\":0.05},\"xaxis\":{\"automargin\":true,\"gridcolor\":\"white\",\"linecolor\":\"white\",\"ticks\":\"\",\"title\":{\"standoff\":15},\"zerolinecolor\":\"white\",\"zerolinewidth\":2},\"yaxis\":{\"automargin\":true,\"gridcolor\":\"white\",\"linecolor\":\"white\",\"ticks\":\"\",\"title\":{\"standoff\":15},\"zerolinecolor\":\"white\",\"zerolinewidth\":2}}},\"title\":{\"text\":\"Historical ICBP Prices (2017-2022) with the Slider \"},\"xaxis\":{\"rangeselector\":{\"buttons\":[{\"count\":1,\"label\":\"1m\",\"step\":\"month\",\"stepmode\":\"backward\"},{\"count\":6,\"label\":\"6m\",\"step\":\"month\",\"stepmode\":\"backward\"},{\"count\":12,\"label\":\"1y\",\"step\":\"month\",\"stepmode\":\"backward\"},{\"count\":36,\"label\":\"3y\",\"step\":\"month\",\"stepmode\":\"backward\"},{\"step\":\"all\"}]},\"rangeslider\":{\"visible\":true},\"type\":\"date\"}},                        {\"responsive\": true}                    ).then(function(){\n",
              "                            \n",
              "var gd = document.getElementById('afa4ba71-1625-4484-b4e4-0bc3c3c97fe7');\n",
              "var x = new MutationObserver(function (mutations, observer) {{\n",
              "        var display = window.getComputedStyle(gd).display;\n",
              "        if (!display || display === 'none') {{\n",
              "            console.log([gd, 'removed!']);\n",
              "            Plotly.purge(gd);\n",
              "            observer.disconnect();\n",
              "        }}\n",
              "}});\n",
              "\n",
              "// Listen for the removal of the full notebook cells\n",
              "var notebookContainer = gd.closest('#notebook-container');\n",
              "if (notebookContainer) {{\n",
              "    x.observe(notebookContainer, {childList: true});\n",
              "}}\n",
              "\n",
              "// Listen for the clearing of the current output cell\n",
              "var outputEl = gd.closest('.output');\n",
              "if (outputEl) {{\n",
              "    x.observe(outputEl, {childList: true});\n",
              "}}\n",
              "\n",
              "                        })                };                            </script>        </div>\n",
              "</body>\n",
              "</html>"
            ]
          },
          "metadata": {}
        }
      ]
    },
    {
      "cell_type": "code",
      "source": [
        "trace1 = go.Scatter(\n",
        "    x = weekly_rows['Date'],\n",
        "    y = weekly_rows['Volume'].astype(float),\n",
        "    mode = 'lines',\n",
        "    name = 'Volume'\n",
        ")\n",
        "\n",
        "layout = dict(\n",
        "    title='Historical ICBP Volume (IDR) (2017-2022) with the slider',\n",
        "    xaxis=dict(\n",
        "        rangeselector=dict(\n",
        "            buttons=list([\n",
        "                dict(count=1,\n",
        "                     label='1m',\n",
        "                     step='month',\n",
        "                     stepmode='backward'),\n",
        "                dict(count=6,\n",
        "                     label='6m',\n",
        "                     step='month',\n",
        "                     stepmode='backward'),\n",
        "                dict(count=12,\n",
        "                     label='1y',\n",
        "                     step='month',\n",
        "                     stepmode='backward'),\n",
        "                dict(count=36,\n",
        "                     label='3y',\n",
        "                     step='month',\n",
        "                     stepmode='backward'),\n",
        "                dict(step='all')\n",
        "            ])\n",
        "        ),\n",
        "        rangeslider=dict(\n",
        "            visible = True\n",
        "        ),\n",
        "        type='date'\n",
        "    )\n",
        ")\n",
        "\n",
        "data = [trace1]\n",
        "fig = dict(data=data, layout=layout)\n",
        "iplot(fig, filename = \"Time Series with Rangeslider\")"
      ],
      "metadata": {
        "colab": {
          "base_uri": "https://localhost:8080/",
          "height": 542
        },
        "id": "_qq3TwD8Srqd",
        "outputId": "d1f87f21-364d-4178-c664-1646fb02cd92"
      },
      "execution_count": null,
      "outputs": [
        {
          "output_type": "display_data",
          "data": {
            "text/html": [
              "<html>\n",
              "<head><meta charset=\"utf-8\" /></head>\n",
              "<body>\n",
              "    <div>            <script src=\"https://cdnjs.cloudflare.com/ajax/libs/mathjax/2.7.5/MathJax.js?config=TeX-AMS-MML_SVG\"></script><script type=\"text/javascript\">if (window.MathJax) {MathJax.Hub.Config({SVG: {font: \"STIX-Web\"}});}</script>                <script type=\"text/javascript\">window.PlotlyConfig = {MathJaxConfig: 'local'};</script>\n",
              "        <script src=\"https://cdn.plot.ly/plotly-2.9.0.min.js\"></script>                <div id=\"51273c58-972f-4ac3-867b-06b762254370\" class=\"plotly-graph-div\" style=\"height:525px; width:100%;\"></div>            <script type=\"text/javascript\">                                    window.PLOTLYENV=window.PLOTLYENV || {};                                    if (document.getElementById(\"51273c58-972f-4ac3-867b-06b762254370\")) {                    Plotly.newPlot(                        \"51273c58-972f-4ac3-867b-06b762254370\",                        [{\"mode\":\"lines\",\"name\":\"Volume\",\"x\":[\"2017-04-03T00:00:00\",\"2017-04-10T00:00:00\",\"2017-04-17T00:00:00\",\"2017-04-24T00:00:00\",\"2017-05-01T00:00:00\",\"2017-05-08T00:00:00\",\"2017-05-15T00:00:00\",\"2017-05-22T00:00:00\",\"2017-05-29T00:00:00\",\"2017-06-05T00:00:00\",\"2017-06-12T00:00:00\",\"2017-06-19T00:00:00\",\"2017-06-26T00:00:00\",\"2017-07-03T00:00:00\",\"2017-07-10T00:00:00\",\"2017-07-17T00:00:00\",\"2017-07-24T00:00:00\",\"2017-07-31T00:00:00\",\"2017-08-07T00:00:00\",\"2017-08-14T00:00:00\",\"2017-08-21T00:00:00\",\"2017-08-28T00:00:00\",\"2017-09-04T00:00:00\",\"2017-09-11T00:00:00\",\"2017-09-18T00:00:00\",\"2017-09-25T00:00:00\",\"2017-10-02T00:00:00\",\"2017-10-09T00:00:00\",\"2017-10-16T00:00:00\",\"2017-10-23T00:00:00\",\"2017-10-30T00:00:00\",\"2017-11-06T00:00:00\",\"2017-11-13T00:00:00\",\"2017-11-20T00:00:00\",\"2017-11-27T00:00:00\",\"2017-12-04T00:00:00\",\"2017-12-11T00:00:00\",\"2017-12-18T00:00:00\",\"2017-12-25T00:00:00\",\"2018-01-01T00:00:00\",\"2018-01-08T00:00:00\",\"2018-01-15T00:00:00\",\"2018-01-22T00:00:00\",\"2018-01-29T00:00:00\",\"2018-02-05T00:00:00\",\"2018-02-12T00:00:00\",\"2018-02-19T00:00:00\",\"2018-02-26T00:00:00\",\"2018-03-05T00:00:00\",\"2018-03-12T00:00:00\",\"2018-03-19T00:00:00\",\"2018-03-26T00:00:00\",\"2018-04-02T00:00:00\",\"2018-04-09T00:00:00\",\"2018-04-16T00:00:00\",\"2018-04-23T00:00:00\",\"2018-04-30T00:00:00\",\"2018-05-07T00:00:00\",\"2018-05-14T00:00:00\",\"2018-05-21T00:00:00\",\"2018-05-28T00:00:00\",\"2018-06-04T00:00:00\",\"2018-06-11T00:00:00\",\"2018-06-18T00:00:00\",\"2018-06-25T00:00:00\",\"2018-07-02T00:00:00\",\"2018-07-09T00:00:00\",\"2018-07-16T00:00:00\",\"2018-07-23T00:00:00\",\"2018-07-30T00:00:00\",\"2018-08-06T00:00:00\",\"2018-08-13T00:00:00\",\"2018-08-20T00:00:00\",\"2018-08-27T00:00:00\",\"2018-09-03T00:00:00\",\"2018-09-10T00:00:00\",\"2018-09-17T00:00:00\",\"2018-09-24T00:00:00\",\"2018-10-01T00:00:00\",\"2018-10-08T00:00:00\",\"2018-10-15T00:00:00\",\"2018-10-22T00:00:00\",\"2018-10-29T00:00:00\",\"2018-11-05T00:00:00\",\"2018-11-12T00:00:00\",\"2018-11-19T00:00:00\",\"2018-11-26T00:00:00\",\"2018-12-03T00:00:00\",\"2018-12-10T00:00:00\",\"2018-12-17T00:00:00\",\"2018-12-24T00:00:00\",\"2018-12-31T00:00:00\",\"2019-01-07T00:00:00\",\"2019-01-14T00:00:00\",\"2019-01-21T00:00:00\",\"2019-01-28T00:00:00\",\"2019-02-04T00:00:00\",\"2019-02-11T00:00:00\",\"2019-02-18T00:00:00\",\"2019-02-25T00:00:00\",\"2019-03-04T00:00:00\",\"2019-03-11T00:00:00\",\"2019-03-18T00:00:00\",\"2019-03-25T00:00:00\",\"2019-04-01T00:00:00\",\"2019-04-08T00:00:00\",\"2019-04-15T00:00:00\",\"2019-04-22T00:00:00\",\"2019-04-29T00:00:00\",\"2019-05-06T00:00:00\",\"2019-05-13T00:00:00\",\"2019-05-20T00:00:00\",\"2019-05-27T00:00:00\",\"2019-06-03T00:00:00\",\"2019-06-10T00:00:00\",\"2019-06-17T00:00:00\",\"2019-06-24T00:00:00\",\"2019-07-01T00:00:00\",\"2019-07-08T00:00:00\",\"2019-07-15T00:00:00\",\"2019-07-22T00:00:00\",\"2019-07-29T00:00:00\",\"2019-08-05T00:00:00\",\"2019-08-12T00:00:00\",\"2019-08-19T00:00:00\",\"2019-08-26T00:00:00\",\"2019-09-02T00:00:00\",\"2019-09-09T00:00:00\",\"2019-09-16T00:00:00\",\"2019-09-23T00:00:00\",\"2019-09-30T00:00:00\",\"2019-10-07T00:00:00\",\"2019-10-14T00:00:00\",\"2019-10-21T00:00:00\",\"2019-10-28T00:00:00\",\"2019-11-04T00:00:00\",\"2019-11-11T00:00:00\",\"2019-11-18T00:00:00\",\"2019-11-25T00:00:00\",\"2019-12-02T00:00:00\",\"2019-12-09T00:00:00\",\"2019-12-16T00:00:00\",\"2019-12-23T00:00:00\",\"2019-12-30T00:00:00\",\"2020-01-06T00:00:00\",\"2020-01-13T00:00:00\",\"2020-01-20T00:00:00\",\"2020-01-27T00:00:00\",\"2020-02-03T00:00:00\",\"2020-02-10T00:00:00\",\"2020-02-17T00:00:00\",\"2020-02-24T00:00:00\",\"2020-03-02T00:00:00\",\"2020-03-09T00:00:00\",\"2020-03-16T00:00:00\",\"2020-03-23T00:00:00\",\"2020-03-30T00:00:00\",\"2020-04-06T00:00:00\",\"2020-04-13T00:00:00\",\"2020-04-20T00:00:00\",\"2020-04-27T00:00:00\",\"2020-05-04T00:00:00\",\"2020-05-11T00:00:00\",\"2020-05-18T00:00:00\",\"2020-05-25T00:00:00\",\"2020-06-01T00:00:00\",\"2020-06-08T00:00:00\",\"2020-06-15T00:00:00\",\"2020-06-22T00:00:00\",\"2020-06-29T00:00:00\",\"2020-07-06T00:00:00\",\"2020-07-13T00:00:00\",\"2020-07-20T00:00:00\",\"2020-07-27T00:00:00\",\"2020-08-03T00:00:00\",\"2020-08-10T00:00:00\",\"2020-08-17T00:00:00\",\"2020-08-24T00:00:00\",\"2020-08-31T00:00:00\",\"2020-09-07T00:00:00\",\"2020-09-14T00:00:00\",\"2020-09-21T00:00:00\",\"2020-09-28T00:00:00\",\"2020-10-05T00:00:00\",\"2020-10-12T00:00:00\",\"2020-10-19T00:00:00\",\"2020-10-26T00:00:00\",\"2020-11-02T00:00:00\",\"2020-11-09T00:00:00\",\"2020-11-16T00:00:00\",\"2020-11-23T00:00:00\",\"2020-11-30T00:00:00\",\"2020-12-07T00:00:00\",\"2020-12-14T00:00:00\",\"2020-12-21T00:00:00\",\"2020-12-28T00:00:00\",\"2021-01-04T00:00:00\",\"2021-01-11T00:00:00\",\"2021-01-18T00:00:00\",\"2021-01-25T00:00:00\",\"2021-02-01T00:00:00\",\"2021-02-08T00:00:00\",\"2021-02-15T00:00:00\",\"2021-02-22T00:00:00\",\"2021-03-01T00:00:00\",\"2021-03-08T00:00:00\",\"2021-03-15T00:00:00\",\"2021-03-22T00:00:00\",\"2021-03-29T00:00:00\",\"2021-04-05T00:00:00\",\"2021-04-12T00:00:00\",\"2021-04-19T00:00:00\",\"2021-04-26T00:00:00\",\"2021-05-03T00:00:00\",\"2021-05-10T00:00:00\",\"2021-05-17T00:00:00\",\"2021-05-24T00:00:00\",\"2021-05-31T00:00:00\",\"2021-06-07T00:00:00\",\"2021-06-14T00:00:00\",\"2021-06-21T00:00:00\",\"2021-06-28T00:00:00\",\"2021-07-05T00:00:00\",\"2021-07-12T00:00:00\",\"2021-07-19T00:00:00\",\"2021-07-26T00:00:00\",\"2021-08-02T00:00:00\",\"2021-08-09T00:00:00\",\"2021-08-16T00:00:00\",\"2021-08-23T00:00:00\",\"2021-08-30T00:00:00\",\"2021-09-06T00:00:00\",\"2021-09-13T00:00:00\",\"2021-09-20T00:00:00\",\"2021-09-27T00:00:00\",\"2021-10-04T00:00:00\",\"2021-10-11T00:00:00\",\"2021-10-18T00:00:00\",\"2021-10-25T00:00:00\",\"2021-11-01T00:00:00\",\"2021-11-08T00:00:00\",\"2021-11-15T00:00:00\",\"2021-11-22T00:00:00\",\"2021-11-29T00:00:00\",\"2021-12-06T00:00:00\",\"2021-12-13T00:00:00\",\"2021-12-20T00:00:00\",\"2021-12-27T00:00:00\",\"2022-01-03T00:00:00\",\"2022-01-10T00:00:00\",\"2022-01-17T00:00:00\",\"2022-01-24T00:00:00\",\"2022-01-31T00:00:00\",\"2022-02-07T00:00:00\",\"2022-02-14T00:00:00\",\"2022-02-21T00:00:00\",\"2022-02-28T00:00:00\",\"2022-03-07T00:00:00\",\"2022-03-14T00:00:00\",\"2022-03-21T00:00:00\",\"2022-03-28T00:00:00\",\"2022-04-04T00:00:00\"],\"y\":[2068600.0,3444200.0,7277700.0,7389500.0,6203900.0,3454900.0,4784600.0,2670000.0,6923600.0,4949200.0,4460800.0,4854500.0,6849400.0,0.0,9774600.0,3445800.0,2151500.0,2926200.0,6721800.0,2875600.0,2480500.0,4678600.0,5370400.0,2221300.0,3686200.0,3482000.0,1374100.0,4266100.0,2812300.0,5599700.0,1931100.0,4606300.0,2895900.0,2366700.0,4210400.0,12187700.0,2874300.0,2017400.0,2925000.0,0.0,5599400.0,8099000.0,10673500.0,7788500.0,10278600.0,6984600.0,2290900.0,4421100.0,3027600.0,2274900.0,4525100.0,2730400.0,4033900.0,8654000.0,4882800.0,0.0,2618100.0,0.0,3361800.0,3056100.0,2170800.0,0.0,5751800.0,0.0,0.0,4183200.0,1892800.0,2344400.0,799600.0,2254600.0,2065400.0,3082000.0,7136900.0,1410000.0,3579100.0,3434000.0,0.0,1789400.0,707900.0,2330900.0,2333800.0,1266800.0,6620300.0,6590800.0,3141600.0,2443500.0,0.0,3747100.0,5133200.0,2852500.0,8961500.0,0.0,0.0,10049900.0,5476000.0,7422200.0,3958700.0,0.0,5405200.0,3472600.0,5769300.0,1656800.0,2133600.0,1519700.0,8418700.0,10437700.0,5422000.0,9366900.0,7391100.0,23070300.0,5647100.0,5829500.0,2987200.0,11469100.0,0.0,9200400.0,16228900.0,24636700.0,2919400.0,2957200.0,2887800.0,3789800.0,6836000.0,7514300.0,7798500.0,11360000.0,12491900.0,2459000.0,4550900.0,5113400.0,2092300.0,2714500.0,2937900.0,3905000.0,5062200.0,4852400.0,9265000.0,6231700.0,7517700.0,13063100.0,2400700.0,3879900.0,7056800.0,2931200.0,1240200.0,4636500.0,4265000.0,3918900.0,3602200.0,6060300.0,13191900.0,5428000.0,3213600.0,7187600.0,4665700.0,8147300.0,10642400.0,10710300.0,6342100.0,4600800.0,2472900.0,3350600.0,2481700.0,10015800.0,6299300.0,10324600.0,39990400.0,21394700.0,9437600.0,12104800.0,13922700.0,6629600.0,4863900.0,7936100.0,9219900.0,45798800.0,8829900.0,6105900.0,8463700.0,5985500.0,8859000.0,3665900.0,5540400.0,3448900.0,2538900.0,7526700.0,6697000.0,4979000.0,4004300.0,21280100.0,24735800.0,8640800.0,20983400.0,37259300.0,17300900.0,15824100.0,18237100.0,10086200.0,6644300.0,34368300.0,13587300.0,12534000.0,35900200.0,14656600.0,11933200.0,13965700.0,8629600.0,4733700.0,30860800.0,6974500.0,4493200.0,2735700.0,2117200.0,7502700.0,6310100.0,2161700.0,3770500.0,8978000.0,5611200.0,8321100.0,4067700.0,4253300.0,9487400.0,2930700.0,16894100.0,4519000.0,3332900.0,3370400.0,6585900.0,4277300.0,5218600.0,5271700.0,2986500.0,1167000.0,3757800.0,4369400.0,13184600.0,7922600.0,5926900.0,6724600.0,3320900.0,2936800.0,6167400.0,5458400.0,12610000.0,4921400.0,4739900.0,2317600.0,3719600.0,4450000.0,3692600.0,3038300.0,5194200.0,2102100.0,4900000.0,11049400.0,7311200.0,21470900.0,21825800.0,15064300.0,4588300.0,9243600.0],\"type\":\"scatter\"}],                        {\"template\":{\"data\":{\"barpolar\":[{\"marker\":{\"line\":{\"color\":\"#E5ECF6\",\"width\":0.5},\"pattern\":{\"fillmode\":\"overlay\",\"size\":10,\"solidity\":0.2}},\"type\":\"barpolar\"}],\"bar\":[{\"error_x\":{\"color\":\"#2a3f5f\"},\"error_y\":{\"color\":\"#2a3f5f\"},\"marker\":{\"line\":{\"color\":\"#E5ECF6\",\"width\":0.5},\"pattern\":{\"fillmode\":\"overlay\",\"size\":10,\"solidity\":0.2}},\"type\":\"bar\"}],\"carpet\":[{\"aaxis\":{\"endlinecolor\":\"#2a3f5f\",\"gridcolor\":\"white\",\"linecolor\":\"white\",\"minorgridcolor\":\"white\",\"startlinecolor\":\"#2a3f5f\"},\"baxis\":{\"endlinecolor\":\"#2a3f5f\",\"gridcolor\":\"white\",\"linecolor\":\"white\",\"minorgridcolor\":\"white\",\"startlinecolor\":\"#2a3f5f\"},\"type\":\"carpet\"}],\"choropleth\":[{\"colorbar\":{\"outlinewidth\":0,\"ticks\":\"\"},\"type\":\"choropleth\"}],\"contourcarpet\":[{\"colorbar\":{\"outlinewidth\":0,\"ticks\":\"\"},\"type\":\"contourcarpet\"}],\"contour\":[{\"colorbar\":{\"outlinewidth\":0,\"ticks\":\"\"},\"colorscale\":[[0.0,\"#0d0887\"],[0.1111111111111111,\"#46039f\"],[0.2222222222222222,\"#7201a8\"],[0.3333333333333333,\"#9c179e\"],[0.4444444444444444,\"#bd3786\"],[0.5555555555555556,\"#d8576b\"],[0.6666666666666666,\"#ed7953\"],[0.7777777777777778,\"#fb9f3a\"],[0.8888888888888888,\"#fdca26\"],[1.0,\"#f0f921\"]],\"type\":\"contour\"}],\"heatmapgl\":[{\"colorbar\":{\"outlinewidth\":0,\"ticks\":\"\"},\"colorscale\":[[0.0,\"#0d0887\"],[0.1111111111111111,\"#46039f\"],[0.2222222222222222,\"#7201a8\"],[0.3333333333333333,\"#9c179e\"],[0.4444444444444444,\"#bd3786\"],[0.5555555555555556,\"#d8576b\"],[0.6666666666666666,\"#ed7953\"],[0.7777777777777778,\"#fb9f3a\"],[0.8888888888888888,\"#fdca26\"],[1.0,\"#f0f921\"]],\"type\":\"heatmapgl\"}],\"heatmap\":[{\"colorbar\":{\"outlinewidth\":0,\"ticks\":\"\"},\"colorscale\":[[0.0,\"#0d0887\"],[0.1111111111111111,\"#46039f\"],[0.2222222222222222,\"#7201a8\"],[0.3333333333333333,\"#9c179e\"],[0.4444444444444444,\"#bd3786\"],[0.5555555555555556,\"#d8576b\"],[0.6666666666666666,\"#ed7953\"],[0.7777777777777778,\"#fb9f3a\"],[0.8888888888888888,\"#fdca26\"],[1.0,\"#f0f921\"]],\"type\":\"heatmap\"}],\"histogram2dcontour\":[{\"colorbar\":{\"outlinewidth\":0,\"ticks\":\"\"},\"colorscale\":[[0.0,\"#0d0887\"],[0.1111111111111111,\"#46039f\"],[0.2222222222222222,\"#7201a8\"],[0.3333333333333333,\"#9c179e\"],[0.4444444444444444,\"#bd3786\"],[0.5555555555555556,\"#d8576b\"],[0.6666666666666666,\"#ed7953\"],[0.7777777777777778,\"#fb9f3a\"],[0.8888888888888888,\"#fdca26\"],[1.0,\"#f0f921\"]],\"type\":\"histogram2dcontour\"}],\"histogram2d\":[{\"colorbar\":{\"outlinewidth\":0,\"ticks\":\"\"},\"colorscale\":[[0.0,\"#0d0887\"],[0.1111111111111111,\"#46039f\"],[0.2222222222222222,\"#7201a8\"],[0.3333333333333333,\"#9c179e\"],[0.4444444444444444,\"#bd3786\"],[0.5555555555555556,\"#d8576b\"],[0.6666666666666666,\"#ed7953\"],[0.7777777777777778,\"#fb9f3a\"],[0.8888888888888888,\"#fdca26\"],[1.0,\"#f0f921\"]],\"type\":\"histogram2d\"}],\"histogram\":[{\"marker\":{\"pattern\":{\"fillmode\":\"overlay\",\"size\":10,\"solidity\":0.2}},\"type\":\"histogram\"}],\"mesh3d\":[{\"colorbar\":{\"outlinewidth\":0,\"ticks\":\"\"},\"type\":\"mesh3d\"}],\"parcoords\":[{\"line\":{\"colorbar\":{\"outlinewidth\":0,\"ticks\":\"\"}},\"type\":\"parcoords\"}],\"pie\":[{\"automargin\":true,\"type\":\"pie\"}],\"scatter3d\":[{\"line\":{\"colorbar\":{\"outlinewidth\":0,\"ticks\":\"\"}},\"marker\":{\"colorbar\":{\"outlinewidth\":0,\"ticks\":\"\"}},\"type\":\"scatter3d\"}],\"scattercarpet\":[{\"marker\":{\"colorbar\":{\"outlinewidth\":0,\"ticks\":\"\"}},\"type\":\"scattercarpet\"}],\"scattergeo\":[{\"marker\":{\"colorbar\":{\"outlinewidth\":0,\"ticks\":\"\"}},\"type\":\"scattergeo\"}],\"scattergl\":[{\"marker\":{\"colorbar\":{\"outlinewidth\":0,\"ticks\":\"\"}},\"type\":\"scattergl\"}],\"scattermapbox\":[{\"marker\":{\"colorbar\":{\"outlinewidth\":0,\"ticks\":\"\"}},\"type\":\"scattermapbox\"}],\"scatterpolargl\":[{\"marker\":{\"colorbar\":{\"outlinewidth\":0,\"ticks\":\"\"}},\"type\":\"scatterpolargl\"}],\"scatterpolar\":[{\"marker\":{\"colorbar\":{\"outlinewidth\":0,\"ticks\":\"\"}},\"type\":\"scatterpolar\"}],\"scatter\":[{\"marker\":{\"colorbar\":{\"outlinewidth\":0,\"ticks\":\"\"}},\"type\":\"scatter\"}],\"scatterternary\":[{\"marker\":{\"colorbar\":{\"outlinewidth\":0,\"ticks\":\"\"}},\"type\":\"scatterternary\"}],\"surface\":[{\"colorbar\":{\"outlinewidth\":0,\"ticks\":\"\"},\"colorscale\":[[0.0,\"#0d0887\"],[0.1111111111111111,\"#46039f\"],[0.2222222222222222,\"#7201a8\"],[0.3333333333333333,\"#9c179e\"],[0.4444444444444444,\"#bd3786\"],[0.5555555555555556,\"#d8576b\"],[0.6666666666666666,\"#ed7953\"],[0.7777777777777778,\"#fb9f3a\"],[0.8888888888888888,\"#fdca26\"],[1.0,\"#f0f921\"]],\"type\":\"surface\"}],\"table\":[{\"cells\":{\"fill\":{\"color\":\"#EBF0F8\"},\"line\":{\"color\":\"white\"}},\"header\":{\"fill\":{\"color\":\"#C8D4E3\"},\"line\":{\"color\":\"white\"}},\"type\":\"table\"}]},\"layout\":{\"annotationdefaults\":{\"arrowcolor\":\"#2a3f5f\",\"arrowhead\":0,\"arrowwidth\":1},\"autotypenumbers\":\"strict\",\"coloraxis\":{\"colorbar\":{\"outlinewidth\":0,\"ticks\":\"\"}},\"colorscale\":{\"diverging\":[[0,\"#8e0152\"],[0.1,\"#c51b7d\"],[0.2,\"#de77ae\"],[0.3,\"#f1b6da\"],[0.4,\"#fde0ef\"],[0.5,\"#f7f7f7\"],[0.6,\"#e6f5d0\"],[0.7,\"#b8e186\"],[0.8,\"#7fbc41\"],[0.9,\"#4d9221\"],[1,\"#276419\"]],\"sequential\":[[0.0,\"#0d0887\"],[0.1111111111111111,\"#46039f\"],[0.2222222222222222,\"#7201a8\"],[0.3333333333333333,\"#9c179e\"],[0.4444444444444444,\"#bd3786\"],[0.5555555555555556,\"#d8576b\"],[0.6666666666666666,\"#ed7953\"],[0.7777777777777778,\"#fb9f3a\"],[0.8888888888888888,\"#fdca26\"],[1.0,\"#f0f921\"]],\"sequentialminus\":[[0.0,\"#0d0887\"],[0.1111111111111111,\"#46039f\"],[0.2222222222222222,\"#7201a8\"],[0.3333333333333333,\"#9c179e\"],[0.4444444444444444,\"#bd3786\"],[0.5555555555555556,\"#d8576b\"],[0.6666666666666666,\"#ed7953\"],[0.7777777777777778,\"#fb9f3a\"],[0.8888888888888888,\"#fdca26\"],[1.0,\"#f0f921\"]]},\"colorway\":[\"#636efa\",\"#EF553B\",\"#00cc96\",\"#ab63fa\",\"#FFA15A\",\"#19d3f3\",\"#FF6692\",\"#B6E880\",\"#FF97FF\",\"#FECB52\"],\"font\":{\"color\":\"#2a3f5f\"},\"geo\":{\"bgcolor\":\"white\",\"lakecolor\":\"white\",\"landcolor\":\"#E5ECF6\",\"showlakes\":true,\"showland\":true,\"subunitcolor\":\"white\"},\"hoverlabel\":{\"align\":\"left\"},\"hovermode\":\"closest\",\"mapbox\":{\"style\":\"light\"},\"paper_bgcolor\":\"white\",\"plot_bgcolor\":\"#E5ECF6\",\"polar\":{\"angularaxis\":{\"gridcolor\":\"white\",\"linecolor\":\"white\",\"ticks\":\"\"},\"bgcolor\":\"#E5ECF6\",\"radialaxis\":{\"gridcolor\":\"white\",\"linecolor\":\"white\",\"ticks\":\"\"}},\"scene\":{\"xaxis\":{\"backgroundcolor\":\"#E5ECF6\",\"gridcolor\":\"white\",\"gridwidth\":2,\"linecolor\":\"white\",\"showbackground\":true,\"ticks\":\"\",\"zerolinecolor\":\"white\"},\"yaxis\":{\"backgroundcolor\":\"#E5ECF6\",\"gridcolor\":\"white\",\"gridwidth\":2,\"linecolor\":\"white\",\"showbackground\":true,\"ticks\":\"\",\"zerolinecolor\":\"white\"},\"zaxis\":{\"backgroundcolor\":\"#E5ECF6\",\"gridcolor\":\"white\",\"gridwidth\":2,\"linecolor\":\"white\",\"showbackground\":true,\"ticks\":\"\",\"zerolinecolor\":\"white\"}},\"shapedefaults\":{\"line\":{\"color\":\"#2a3f5f\"}},\"ternary\":{\"aaxis\":{\"gridcolor\":\"white\",\"linecolor\":\"white\",\"ticks\":\"\"},\"baxis\":{\"gridcolor\":\"white\",\"linecolor\":\"white\",\"ticks\":\"\"},\"bgcolor\":\"#E5ECF6\",\"caxis\":{\"gridcolor\":\"white\",\"linecolor\":\"white\",\"ticks\":\"\"}},\"title\":{\"x\":0.05},\"xaxis\":{\"automargin\":true,\"gridcolor\":\"white\",\"linecolor\":\"white\",\"ticks\":\"\",\"title\":{\"standoff\":15},\"zerolinecolor\":\"white\",\"zerolinewidth\":2},\"yaxis\":{\"automargin\":true,\"gridcolor\":\"white\",\"linecolor\":\"white\",\"ticks\":\"\",\"title\":{\"standoff\":15},\"zerolinecolor\":\"white\",\"zerolinewidth\":2}}},\"title\":{\"text\":\"Historical ICBP Volume (IDR) (2017-2022) with the slider\"},\"xaxis\":{\"rangeselector\":{\"buttons\":[{\"count\":1,\"label\":\"1m\",\"step\":\"month\",\"stepmode\":\"backward\"},{\"count\":6,\"label\":\"6m\",\"step\":\"month\",\"stepmode\":\"backward\"},{\"count\":12,\"label\":\"1y\",\"step\":\"month\",\"stepmode\":\"backward\"},{\"count\":36,\"label\":\"3y\",\"step\":\"month\",\"stepmode\":\"backward\"},{\"step\":\"all\"}]},\"rangeslider\":{\"visible\":true},\"type\":\"date\"}},                        {\"responsive\": true}                    ).then(function(){\n",
              "                            \n",
              "var gd = document.getElementById('51273c58-972f-4ac3-867b-06b762254370');\n",
              "var x = new MutationObserver(function (mutations, observer) {{\n",
              "        var display = window.getComputedStyle(gd).display;\n",
              "        if (!display || display === 'none') {{\n",
              "            console.log([gd, 'removed!']);\n",
              "            Plotly.purge(gd);\n",
              "            observer.disconnect();\n",
              "        }}\n",
              "}});\n",
              "\n",
              "// Listen for the removal of the full notebook cells\n",
              "var notebookContainer = gd.closest('#notebook-container');\n",
              "if (notebookContainer) {{\n",
              "    x.observe(notebookContainer, {childList: true});\n",
              "}}\n",
              "\n",
              "// Listen for the clearing of the current output cell\n",
              "var outputEl = gd.closest('.output');\n",
              "if (outputEl) {{\n",
              "    x.observe(outputEl, {childList: true});\n",
              "}}\n",
              "\n",
              "                        })                };                            </script>        </div>\n",
              "</body>\n",
              "</html>"
            ]
          },
          "metadata": {}
        }
      ]
    },
    {
      "cell_type": "code",
      "source": [
        "trace = go.Scattergl(\n",
        "    y = weekly_rows['Volume'].astype(float),\n",
        "    x = weekly_rows['Close'].astype(float),\n",
        "    mode = 'markers',\n",
        "    marker = dict(\n",
        "        color = '#FFBAD2',\n",
        "        line = dict(width = 1)\n",
        "    )\n",
        ")\n",
        "layout = go.Layout(\n",
        "    title='ICBP Volume v/s IDR',\n",
        "    xaxis=dict(\n",
        "        title='Price',\n",
        "        titlefont=dict(\n",
        "            family='Courier New, monospace',\n",
        "            size=18,\n",
        "            color='#7f7f7f'\n",
        "        )\n",
        "    ),\n",
        "    yaxis=dict(\n",
        "        title='Volume',\n",
        "        titlefont=dict(\n",
        "            family='Courier New, monospace',\n",
        "            size=18,\n",
        "            color='#7f7f7f'\n",
        "        )))\n",
        "data = [trace]\n",
        "fig = go.Figure(data=data, layout=layout)\n",
        "iplot(fig, filename='compare_webgl')"
      ],
      "metadata": {
        "colab": {
          "base_uri": "https://localhost:8080/",
          "height": 542
        },
        "id": "7tHyRZrcTUru",
        "outputId": "fad417d9-7f4e-49cb-b3d9-fd1a001ab4a7"
      },
      "execution_count": null,
      "outputs": [
        {
          "output_type": "display_data",
          "data": {
            "text/html": [
              "<html>\n",
              "<head><meta charset=\"utf-8\" /></head>\n",
              "<body>\n",
              "    <div>            <script src=\"https://cdnjs.cloudflare.com/ajax/libs/mathjax/2.7.5/MathJax.js?config=TeX-AMS-MML_SVG\"></script><script type=\"text/javascript\">if (window.MathJax) {MathJax.Hub.Config({SVG: {font: \"STIX-Web\"}});}</script>                <script type=\"text/javascript\">window.PlotlyConfig = {MathJaxConfig: 'local'};</script>\n",
              "        <script src=\"https://cdn.plot.ly/plotly-2.9.0.min.js\"></script>                <div id=\"f25429af-eaf1-4882-b985-ab5181df1f11\" class=\"plotly-graph-div\" style=\"height:525px; width:100%;\"></div>            <script type=\"text/javascript\">                                    window.PLOTLYENV=window.PLOTLYENV || {};                                    if (document.getElementById(\"f25429af-eaf1-4882-b985-ab5181df1f11\")) {                    Plotly.newPlot(                        \"f25429af-eaf1-4882-b985-ab5181df1f11\",                        [{\"marker\":{\"color\":\"#FFBAD2\",\"line\":{\"width\":1}},\"mode\":\"markers\",\"x\":[8425.0,8400.0,8125.0,8200.0,8500.0,8550.0,8625.0,8575.0,8825.0,8675.0,8750.0,8500.0,8775.0,8800.0,8800.0,8475.0,8625.0,8675.0,8325.0,8350.0,8400.0,8725.0,8675.0,8575.0,8775.0,8825.0,8800.0,8700.0,8700.0,8850.0,8725.0,8800.0,8575.0,8550.0,8900.0,8675.0,8650.0,8800.0,8875.0,9000.0,9100.0,8875.0,8850.0,8850.0,8700.0,8750.0,8900.0,8875.0,9000.0,8925.0,8725.0,8575.0,8375.0,8200.0,8425.0,8350.0,8350.0,8675.0,8450.0,8200.0,8100.0,8625.0,8775.0,8850.0,8850.0,8800.0,8825.0,8900.0,8675.0,8675.0,8725.0,9000.0,8200.0,8800.0,8625.0,8650.0,8900.0,8775.0,8850.0,8950.0,8875.0,8750.0,8750.0,8650.0,8900.0,8550.0,8775.0,8950.0,9750.0,9700.0,10050.0,10525.0,10450.0,10175.0,10100.0,10450.0,10725.0,10650.0,10450.0,10475.0,10400.0,10275.0,10225.0,10300.0,9575.0,9000.0,9250.0,9075.0,9200.0,9725.0,9700.0,9650.0,9625.0,9725.0,9800.0,10150.0,10125.0,10000.0,10125.0,10100.0,10425.0,10725.0,10625.0,10775.0,11250.0,11900.0,11750.0,12000.0,12025.0,11950.0,11800.0,11925.0,12400.0,11375.0,11425.0,11600.0,11200.0,11400.0,11425.0,11375.0,11400.0,11375.0,11500.0,11275.0,11150.0,11500.0,11600.0,11700.0,11625.0,11600.0,11475.0,10850.0,10975.0,10950.0,10775.0,9750.0,8300.0,10225.0,10075.0,10350.0,9975.0,10025.0,9750.0,9750.0,9900.0,8950.0,8475.0,8900.0,8875.0,8925.0,9350.0,9500.0,9450.0,9325.0,9050.0,10025.0,10200.0,10200.0,10425.0,10225.0,10325.0,10400.0,10250.0,10150.0,10100.0,9925.0,9725.0,9650.0,9725.0,9675.0,10250.0,10125.0,10100.0,9800.0,9700.0,9600.0,9300.0,9450.0,9425.0,9750.0,9500.0,9500.0,8800.0,8825.0,8550.0,8700.0,8325.0,8600.0,9200.0,9075.0,8825.0,8625.0,8900.0,8600.0,8525.0,8525.0,8300.0,8175.0,8225.0,8175.0,8150.0,8050.0,8250.0,8400.0,8950.0,8500.0,8500.0,8225.0,8050.0,8350.0,8200.0,8425.0,8425.0,8450.0,8300.0,8225.0,8825.0,8875.0,9300.0,9100.0,8850.0,8925.0,8825.0,8950.0,8450.0,8750.0,8700.0,8750.0,8700.0,8775.0,8700.0,8775.0,8750.0,8675.0,8625.0,8550.0,8525.0,8250.0,7600.0,7425.0,7475.0,7300.0],\"y\":[2068600.0,3444200.0,7277700.0,7389500.0,6203900.0,3454900.0,4784600.0,2670000.0,6923600.0,4949200.0,4460800.0,4854500.0,6849400.0,0.0,9774600.0,3445800.0,2151500.0,2926200.0,6721800.0,2875600.0,2480500.0,4678600.0,5370400.0,2221300.0,3686200.0,3482000.0,1374100.0,4266100.0,2812300.0,5599700.0,1931100.0,4606300.0,2895900.0,2366700.0,4210400.0,12187700.0,2874300.0,2017400.0,2925000.0,0.0,5599400.0,8099000.0,10673500.0,7788500.0,10278600.0,6984600.0,2290900.0,4421100.0,3027600.0,2274900.0,4525100.0,2730400.0,4033900.0,8654000.0,4882800.0,0.0,2618100.0,0.0,3361800.0,3056100.0,2170800.0,0.0,5751800.0,0.0,0.0,4183200.0,1892800.0,2344400.0,799600.0,2254600.0,2065400.0,3082000.0,7136900.0,1410000.0,3579100.0,3434000.0,0.0,1789400.0,707900.0,2330900.0,2333800.0,1266800.0,6620300.0,6590800.0,3141600.0,2443500.0,0.0,3747100.0,5133200.0,2852500.0,8961500.0,0.0,0.0,10049900.0,5476000.0,7422200.0,3958700.0,0.0,5405200.0,3472600.0,5769300.0,1656800.0,2133600.0,1519700.0,8418700.0,10437700.0,5422000.0,9366900.0,7391100.0,23070300.0,5647100.0,5829500.0,2987200.0,11469100.0,0.0,9200400.0,16228900.0,24636700.0,2919400.0,2957200.0,2887800.0,3789800.0,6836000.0,7514300.0,7798500.0,11360000.0,12491900.0,2459000.0,4550900.0,5113400.0,2092300.0,2714500.0,2937900.0,3905000.0,5062200.0,4852400.0,9265000.0,6231700.0,7517700.0,13063100.0,2400700.0,3879900.0,7056800.0,2931200.0,1240200.0,4636500.0,4265000.0,3918900.0,3602200.0,6060300.0,13191900.0,5428000.0,3213600.0,7187600.0,4665700.0,8147300.0,10642400.0,10710300.0,6342100.0,4600800.0,2472900.0,3350600.0,2481700.0,10015800.0,6299300.0,10324600.0,39990400.0,21394700.0,9437600.0,12104800.0,13922700.0,6629600.0,4863900.0,7936100.0,9219900.0,45798800.0,8829900.0,6105900.0,8463700.0,5985500.0,8859000.0,3665900.0,5540400.0,3448900.0,2538900.0,7526700.0,6697000.0,4979000.0,4004300.0,21280100.0,24735800.0,8640800.0,20983400.0,37259300.0,17300900.0,15824100.0,18237100.0,10086200.0,6644300.0,34368300.0,13587300.0,12534000.0,35900200.0,14656600.0,11933200.0,13965700.0,8629600.0,4733700.0,30860800.0,6974500.0,4493200.0,2735700.0,2117200.0,7502700.0,6310100.0,2161700.0,3770500.0,8978000.0,5611200.0,8321100.0,4067700.0,4253300.0,9487400.0,2930700.0,16894100.0,4519000.0,3332900.0,3370400.0,6585900.0,4277300.0,5218600.0,5271700.0,2986500.0,1167000.0,3757800.0,4369400.0,13184600.0,7922600.0,5926900.0,6724600.0,3320900.0,2936800.0,6167400.0,5458400.0,12610000.0,4921400.0,4739900.0,2317600.0,3719600.0,4450000.0,3692600.0,3038300.0,5194200.0,2102100.0,4900000.0,11049400.0,7311200.0,21470900.0,21825800.0,15064300.0,4588300.0,9243600.0],\"type\":\"scattergl\"}],                        {\"template\":{\"data\":{\"barpolar\":[{\"marker\":{\"line\":{\"color\":\"#E5ECF6\",\"width\":0.5},\"pattern\":{\"fillmode\":\"overlay\",\"size\":10,\"solidity\":0.2}},\"type\":\"barpolar\"}],\"bar\":[{\"error_x\":{\"color\":\"#2a3f5f\"},\"error_y\":{\"color\":\"#2a3f5f\"},\"marker\":{\"line\":{\"color\":\"#E5ECF6\",\"width\":0.5},\"pattern\":{\"fillmode\":\"overlay\",\"size\":10,\"solidity\":0.2}},\"type\":\"bar\"}],\"carpet\":[{\"aaxis\":{\"endlinecolor\":\"#2a3f5f\",\"gridcolor\":\"white\",\"linecolor\":\"white\",\"minorgridcolor\":\"white\",\"startlinecolor\":\"#2a3f5f\"},\"baxis\":{\"endlinecolor\":\"#2a3f5f\",\"gridcolor\":\"white\",\"linecolor\":\"white\",\"minorgridcolor\":\"white\",\"startlinecolor\":\"#2a3f5f\"},\"type\":\"carpet\"}],\"choropleth\":[{\"colorbar\":{\"outlinewidth\":0,\"ticks\":\"\"},\"type\":\"choropleth\"}],\"contourcarpet\":[{\"colorbar\":{\"outlinewidth\":0,\"ticks\":\"\"},\"type\":\"contourcarpet\"}],\"contour\":[{\"colorbar\":{\"outlinewidth\":0,\"ticks\":\"\"},\"colorscale\":[[0.0,\"#0d0887\"],[0.1111111111111111,\"#46039f\"],[0.2222222222222222,\"#7201a8\"],[0.3333333333333333,\"#9c179e\"],[0.4444444444444444,\"#bd3786\"],[0.5555555555555556,\"#d8576b\"],[0.6666666666666666,\"#ed7953\"],[0.7777777777777778,\"#fb9f3a\"],[0.8888888888888888,\"#fdca26\"],[1.0,\"#f0f921\"]],\"type\":\"contour\"}],\"heatmapgl\":[{\"colorbar\":{\"outlinewidth\":0,\"ticks\":\"\"},\"colorscale\":[[0.0,\"#0d0887\"],[0.1111111111111111,\"#46039f\"],[0.2222222222222222,\"#7201a8\"],[0.3333333333333333,\"#9c179e\"],[0.4444444444444444,\"#bd3786\"],[0.5555555555555556,\"#d8576b\"],[0.6666666666666666,\"#ed7953\"],[0.7777777777777778,\"#fb9f3a\"],[0.8888888888888888,\"#fdca26\"],[1.0,\"#f0f921\"]],\"type\":\"heatmapgl\"}],\"heatmap\":[{\"colorbar\":{\"outlinewidth\":0,\"ticks\":\"\"},\"colorscale\":[[0.0,\"#0d0887\"],[0.1111111111111111,\"#46039f\"],[0.2222222222222222,\"#7201a8\"],[0.3333333333333333,\"#9c179e\"],[0.4444444444444444,\"#bd3786\"],[0.5555555555555556,\"#d8576b\"],[0.6666666666666666,\"#ed7953\"],[0.7777777777777778,\"#fb9f3a\"],[0.8888888888888888,\"#fdca26\"],[1.0,\"#f0f921\"]],\"type\":\"heatmap\"}],\"histogram2dcontour\":[{\"colorbar\":{\"outlinewidth\":0,\"ticks\":\"\"},\"colorscale\":[[0.0,\"#0d0887\"],[0.1111111111111111,\"#46039f\"],[0.2222222222222222,\"#7201a8\"],[0.3333333333333333,\"#9c179e\"],[0.4444444444444444,\"#bd3786\"],[0.5555555555555556,\"#d8576b\"],[0.6666666666666666,\"#ed7953\"],[0.7777777777777778,\"#fb9f3a\"],[0.8888888888888888,\"#fdca26\"],[1.0,\"#f0f921\"]],\"type\":\"histogram2dcontour\"}],\"histogram2d\":[{\"colorbar\":{\"outlinewidth\":0,\"ticks\":\"\"},\"colorscale\":[[0.0,\"#0d0887\"],[0.1111111111111111,\"#46039f\"],[0.2222222222222222,\"#7201a8\"],[0.3333333333333333,\"#9c179e\"],[0.4444444444444444,\"#bd3786\"],[0.5555555555555556,\"#d8576b\"],[0.6666666666666666,\"#ed7953\"],[0.7777777777777778,\"#fb9f3a\"],[0.8888888888888888,\"#fdca26\"],[1.0,\"#f0f921\"]],\"type\":\"histogram2d\"}],\"histogram\":[{\"marker\":{\"pattern\":{\"fillmode\":\"overlay\",\"size\":10,\"solidity\":0.2}},\"type\":\"histogram\"}],\"mesh3d\":[{\"colorbar\":{\"outlinewidth\":0,\"ticks\":\"\"},\"type\":\"mesh3d\"}],\"parcoords\":[{\"line\":{\"colorbar\":{\"outlinewidth\":0,\"ticks\":\"\"}},\"type\":\"parcoords\"}],\"pie\":[{\"automargin\":true,\"type\":\"pie\"}],\"scatter3d\":[{\"line\":{\"colorbar\":{\"outlinewidth\":0,\"ticks\":\"\"}},\"marker\":{\"colorbar\":{\"outlinewidth\":0,\"ticks\":\"\"}},\"type\":\"scatter3d\"}],\"scattercarpet\":[{\"marker\":{\"colorbar\":{\"outlinewidth\":0,\"ticks\":\"\"}},\"type\":\"scattercarpet\"}],\"scattergeo\":[{\"marker\":{\"colorbar\":{\"outlinewidth\":0,\"ticks\":\"\"}},\"type\":\"scattergeo\"}],\"scattergl\":[{\"marker\":{\"colorbar\":{\"outlinewidth\":0,\"ticks\":\"\"}},\"type\":\"scattergl\"}],\"scattermapbox\":[{\"marker\":{\"colorbar\":{\"outlinewidth\":0,\"ticks\":\"\"}},\"type\":\"scattermapbox\"}],\"scatterpolargl\":[{\"marker\":{\"colorbar\":{\"outlinewidth\":0,\"ticks\":\"\"}},\"type\":\"scatterpolargl\"}],\"scatterpolar\":[{\"marker\":{\"colorbar\":{\"outlinewidth\":0,\"ticks\":\"\"}},\"type\":\"scatterpolar\"}],\"scatter\":[{\"marker\":{\"colorbar\":{\"outlinewidth\":0,\"ticks\":\"\"}},\"type\":\"scatter\"}],\"scatterternary\":[{\"marker\":{\"colorbar\":{\"outlinewidth\":0,\"ticks\":\"\"}},\"type\":\"scatterternary\"}],\"surface\":[{\"colorbar\":{\"outlinewidth\":0,\"ticks\":\"\"},\"colorscale\":[[0.0,\"#0d0887\"],[0.1111111111111111,\"#46039f\"],[0.2222222222222222,\"#7201a8\"],[0.3333333333333333,\"#9c179e\"],[0.4444444444444444,\"#bd3786\"],[0.5555555555555556,\"#d8576b\"],[0.6666666666666666,\"#ed7953\"],[0.7777777777777778,\"#fb9f3a\"],[0.8888888888888888,\"#fdca26\"],[1.0,\"#f0f921\"]],\"type\":\"surface\"}],\"table\":[{\"cells\":{\"fill\":{\"color\":\"#EBF0F8\"},\"line\":{\"color\":\"white\"}},\"header\":{\"fill\":{\"color\":\"#C8D4E3\"},\"line\":{\"color\":\"white\"}},\"type\":\"table\"}]},\"layout\":{\"annotationdefaults\":{\"arrowcolor\":\"#2a3f5f\",\"arrowhead\":0,\"arrowwidth\":1},\"autotypenumbers\":\"strict\",\"coloraxis\":{\"colorbar\":{\"outlinewidth\":0,\"ticks\":\"\"}},\"colorscale\":{\"diverging\":[[0,\"#8e0152\"],[0.1,\"#c51b7d\"],[0.2,\"#de77ae\"],[0.3,\"#f1b6da\"],[0.4,\"#fde0ef\"],[0.5,\"#f7f7f7\"],[0.6,\"#e6f5d0\"],[0.7,\"#b8e186\"],[0.8,\"#7fbc41\"],[0.9,\"#4d9221\"],[1,\"#276419\"]],\"sequential\":[[0.0,\"#0d0887\"],[0.1111111111111111,\"#46039f\"],[0.2222222222222222,\"#7201a8\"],[0.3333333333333333,\"#9c179e\"],[0.4444444444444444,\"#bd3786\"],[0.5555555555555556,\"#d8576b\"],[0.6666666666666666,\"#ed7953\"],[0.7777777777777778,\"#fb9f3a\"],[0.8888888888888888,\"#fdca26\"],[1.0,\"#f0f921\"]],\"sequentialminus\":[[0.0,\"#0d0887\"],[0.1111111111111111,\"#46039f\"],[0.2222222222222222,\"#7201a8\"],[0.3333333333333333,\"#9c179e\"],[0.4444444444444444,\"#bd3786\"],[0.5555555555555556,\"#d8576b\"],[0.6666666666666666,\"#ed7953\"],[0.7777777777777778,\"#fb9f3a\"],[0.8888888888888888,\"#fdca26\"],[1.0,\"#f0f921\"]]},\"colorway\":[\"#636efa\",\"#EF553B\",\"#00cc96\",\"#ab63fa\",\"#FFA15A\",\"#19d3f3\",\"#FF6692\",\"#B6E880\",\"#FF97FF\",\"#FECB52\"],\"font\":{\"color\":\"#2a3f5f\"},\"geo\":{\"bgcolor\":\"white\",\"lakecolor\":\"white\",\"landcolor\":\"#E5ECF6\",\"showlakes\":true,\"showland\":true,\"subunitcolor\":\"white\"},\"hoverlabel\":{\"align\":\"left\"},\"hovermode\":\"closest\",\"mapbox\":{\"style\":\"light\"},\"paper_bgcolor\":\"white\",\"plot_bgcolor\":\"#E5ECF6\",\"polar\":{\"angularaxis\":{\"gridcolor\":\"white\",\"linecolor\":\"white\",\"ticks\":\"\"},\"bgcolor\":\"#E5ECF6\",\"radialaxis\":{\"gridcolor\":\"white\",\"linecolor\":\"white\",\"ticks\":\"\"}},\"scene\":{\"xaxis\":{\"backgroundcolor\":\"#E5ECF6\",\"gridcolor\":\"white\",\"gridwidth\":2,\"linecolor\":\"white\",\"showbackground\":true,\"ticks\":\"\",\"zerolinecolor\":\"white\"},\"yaxis\":{\"backgroundcolor\":\"#E5ECF6\",\"gridcolor\":\"white\",\"gridwidth\":2,\"linecolor\":\"white\",\"showbackground\":true,\"ticks\":\"\",\"zerolinecolor\":\"white\"},\"zaxis\":{\"backgroundcolor\":\"#E5ECF6\",\"gridcolor\":\"white\",\"gridwidth\":2,\"linecolor\":\"white\",\"showbackground\":true,\"ticks\":\"\",\"zerolinecolor\":\"white\"}},\"shapedefaults\":{\"line\":{\"color\":\"#2a3f5f\"}},\"ternary\":{\"aaxis\":{\"gridcolor\":\"white\",\"linecolor\":\"white\",\"ticks\":\"\"},\"baxis\":{\"gridcolor\":\"white\",\"linecolor\":\"white\",\"ticks\":\"\"},\"bgcolor\":\"#E5ECF6\",\"caxis\":{\"gridcolor\":\"white\",\"linecolor\":\"white\",\"ticks\":\"\"}},\"title\":{\"x\":0.05},\"xaxis\":{\"automargin\":true,\"gridcolor\":\"white\",\"linecolor\":\"white\",\"ticks\":\"\",\"title\":{\"standoff\":15},\"zerolinecolor\":\"white\",\"zerolinewidth\":2},\"yaxis\":{\"automargin\":true,\"gridcolor\":\"white\",\"linecolor\":\"white\",\"ticks\":\"\",\"title\":{\"standoff\":15},\"zerolinecolor\":\"white\",\"zerolinewidth\":2}}},\"title\":{\"text\":\"ICBP Volume v/s IDR\"},\"xaxis\":{\"title\":{\"font\":{\"color\":\"#7f7f7f\",\"family\":\"Courier New, monospace\",\"size\":18},\"text\":\"Price\"}},\"yaxis\":{\"title\":{\"font\":{\"color\":\"#7f7f7f\",\"family\":\"Courier New, monospace\",\"size\":18},\"text\":\"Volume\"}}},                        {\"responsive\": true}                    ).then(function(){\n",
              "                            \n",
              "var gd = document.getElementById('f25429af-eaf1-4882-b985-ab5181df1f11');\n",
              "var x = new MutationObserver(function (mutations, observer) {{\n",
              "        var display = window.getComputedStyle(gd).display;\n",
              "        if (!display || display === 'none') {{\n",
              "            console.log([gd, 'removed!']);\n",
              "            Plotly.purge(gd);\n",
              "            observer.disconnect();\n",
              "        }}\n",
              "}});\n",
              "\n",
              "// Listen for the removal of the full notebook cells\n",
              "var notebookContainer = gd.closest('#notebook-container');\n",
              "if (notebookContainer) {{\n",
              "    x.observe(notebookContainer, {childList: true});\n",
              "}}\n",
              "\n",
              "// Listen for the clearing of the current output cell\n",
              "var outputEl = gd.closest('.output');\n",
              "if (outputEl) {{\n",
              "    x.observe(outputEl, {childList: true});\n",
              "}}\n",
              "\n",
              "                        })                };                            </script>        </div>\n",
              "</body>\n",
              "</html>"
            ]
          },
          "metadata": {}
        }
      ]
    },
    {
      "cell_type": "markdown",
      "source": [
        "# Eksplorasi Data"
      ],
      "metadata": {
        "id": "WCqXQWJfjUA6"
      }
    },
    {
      "cell_type": "code",
      "source": [
        "icbp2 = icbp.set_index(['Date']).asfreq('D').fillna(method='ffill')"
      ],
      "metadata": {
        "id": "l-DRv2yBv3eS"
      },
      "execution_count": null,
      "outputs": []
    },
    {
      "cell_type": "code",
      "source": [
        "ts = icbp2['Close']\n",
        "plt.figure(figsize=(12,5))\n",
        "plt.plot(ts)"
      ],
      "metadata": {
        "colab": {
          "base_uri": "https://localhost:8080/",
          "height": 337
        },
        "id": "BgrdOAexZZy_",
        "outputId": "b35b1fb5-f389-4cbd-a119-0e03504cd1d0"
      },
      "execution_count": null,
      "outputs": [
        {
          "output_type": "execute_result",
          "data": {
            "text/plain": [
              "[<matplotlib.lines.Line2D at 0x7fb47043d810>]"
            ]
          },
          "metadata": {},
          "execution_count": 4
        },
        {
          "output_type": "display_data",
          "data": {
            "text/plain": [
              "<Figure size 864x360 with 1 Axes>"
            ],
            "image/png": "[encoded data removed]"
          },
          "metadata": {
            "needs_background": "light"
          }
        }
      ]
    },
    {
      "cell_type": "code",
      "source": [
        "sns.boxplot(ts)"
      ],
      "metadata": {
        "colab": {
          "base_uri": "https://localhost:8080/",
          "height": 351
        },
        "id": "LEG7gF5zjcVb",
        "outputId": "c4c1d493-6327-4196-9e8e-9a1cd7dac3a3"
      },
      "execution_count": null,
      "outputs": [
        {
          "output_type": "stream",
          "name": "stderr",
          "text": [
            "/usr/local/lib/python3.7/dist-packages/seaborn/_decorators.py:43: FutureWarning: Pass the following variable as a keyword arg: x. From version 0.12, the only valid positional argument will be `data`, and passing other arguments without an explicit keyword will result in an error or misinterpretation.\n",
            "  FutureWarning\n"
          ]
        },
        {
          "output_type": "execute_result",
          "data": {
            "text/plain": [
              "<matplotlib.axes._subplots.AxesSubplot at 0x7f7a7839b9d0>"
            ]
          },
          "metadata": {},
          "execution_count": 5
        },
        {
          "output_type": "display_data",
          "data": {
            "text/plain": [
              "<Figure size 432x288 with 1 Axes>"
            ],
            "image/png": "[encoded data removed]"
          },
          "metadata": {
            "needs_background": "light"
          }
        }
      ]
    },
    {
      "cell_type": "code",
      "source": [
        "plot_acf(ts)"
      ],
      "metadata": {
        "colab": {
          "base_uri": "https://localhost:8080/",
          "height": 545
        },
        "id": "onOkR6CTbD6k",
        "outputId": "3166c53a-78ed-42bf-aa24-ece98cf70e9f"
      },
      "execution_count": null,
      "outputs": [
        {
          "output_type": "execute_result",
          "data": {
            "text/plain": [
              "<Figure size 432x288 with 1 Axes>"
            ],
            "image/png": "[encoded data removed]"
          },
          "metadata": {},
          "execution_count": 6
        },
        {
          "output_type": "display_data",
          "data": {
            "text/plain": [
              "<Figure size 432x288 with 1 Axes>"
            ],
            "image/png": "[encoded data removed]"
          },
          "metadata": {
            "needs_background": "light"
          }
        }
      ]
    },
    {
      "cell_type": "code",
      "source": [
        "plot_pacf(ts)"
      ],
      "metadata": {
        "colab": {
          "base_uri": "https://localhost:8080/",
          "height": 545
        },
        "id": "fJ1ip9HlcxEM",
        "outputId": "c0a8395b-20e2-4a67-a037-71132666379c"
      },
      "execution_count": null,
      "outputs": [
        {
          "output_type": "execute_result",
          "data": {
            "text/plain": [
              "<Figure size 432x288 with 1 Axes>"
            ],
            "image/png": "[encoded data removed]"
          },
          "metadata": {},
          "execution_count": 7
        },
        {
          "output_type": "display_data",
          "data": {
            "text/plain": [
              "<Figure size 432x288 with 1 Axes>"
            ],
            "image/png": "[encoded data removed]"
          },
          "metadata": {
            "needs_background": "light"
          }
        }
      ]
    },
    {
      "cell_type": "markdown",
      "source": [
        "# Split Data"
      ],
      "metadata": {
        "id": "d6rVy5Osk_9J"
      }
    },
    {
      "cell_type": "code",
      "source": [
        "from sklearn.preprocessing import MinMaxScaler"
      ],
      "metadata": {
        "id": "-9dCVRbh0-L6"
      },
      "execution_count": null,
      "outputs": []
    },
    {
      "cell_type": "code",
      "source": [
        "def train_test_split_sequence(ts, prop_train=.8):\n",
        "  split_point = round(prop_train * len(ts))\n",
        "  train, test = ts[:split_point+1], ts[split_point+1:]\n",
        "  return train, test\n",
        "\n",
        "def input_output_split_sequence(seq, n_steps):\n",
        "  X, y = [], []\n",
        "  for i in range(len(seq)):\n",
        "    end_ix = i + n_steps\n",
        "    if end_ix > len(seq) - 1:\n",
        "      break\n",
        "    seq_x, seq_y = seq[i:end_ix], seq[end_ix]\n",
        "    X.append(seq_x)\n",
        "    y.append(seq_y)\n",
        "  return np.array(X), np.array(y)\n",
        "\n",
        "def split_sequence(seq, n_steps=1):\n",
        "  X, y = [], []\n",
        "  for i in range(len(seq)-n_steps-1):\n",
        "    v = seq[i:(i+n_steps), 0]\n",
        "    X.append(v)\n",
        "    y.append(seq[i + n_steps, 0])\n",
        "  return np.array(X), np.array(y)"
      ],
      "metadata": {
        "id": "KWxtsrYSeOfj"
      },
      "execution_count": null,
      "outputs": []
    },
    {
      "cell_type": "markdown",
      "source": [
        "## Split LSTM"
      ],
      "metadata": {
        "id": "tThWHKAFPT3M"
      }
    },
    {
      "cell_type": "code",
      "source": [
        "ts = icbp2[['Close']]\n",
        "\n",
        "ts.values"
      ],
      "metadata": {
        "colab": {
          "base_uri": "https://localhost:8080/"
        },
        "id": "P8FQWQNj0Q5C",
        "outputId": "6af5b1b8-b6e4-42dd-c73f-ad1dd78f04c6"
      },
      "execution_count": null,
      "outputs": [
        {
          "output_type": "execute_result",
          "data": {
            "text/plain": [
              "array([[8425.],\n",
              "       [8400.],\n",
              "       [8400.],\n",
              "       ...,\n",
              "       [7375.],\n",
              "       [7350.],\n",
              "       [7525.]])"
            ]
          },
          "metadata": {},
          "execution_count": 7
        }
      ]
    },
    {
      "cell_type": "code",
      "source": [
        "scaler = MinMaxScaler(feature_range=(0,1))\n",
        "ts = scaler.fit_transform(ts)\n",
        "\n",
        "ts"
      ],
      "metadata": {
        "colab": {
          "base_uri": "https://localhost:8080/"
        },
        "id": "czvbo3bM0snM",
        "outputId": "7202209f-7389-470b-fd76-577cdf20ffad"
      },
      "execution_count": null,
      "outputs": [
        {
          "output_type": "execute_result",
          "data": {
            "text/plain": [
              "array([[0.22815534],\n",
              "       [0.22330097],\n",
              "       [0.22330097],\n",
              "       ...,\n",
              "       [0.02427184],\n",
              "       [0.01941748],\n",
              "       [0.05339806]])"
            ]
          },
          "metadata": {},
          "execution_count": 8
        }
      ]
    },
    {
      "cell_type": "code",
      "source": [
        "ts.shape"
      ],
      "metadata": {
        "colab": {
          "base_uri": "https://localhost:8080/"
        },
        "id": "kndTDGrfAkEv",
        "outputId": "a052c0ba-0377-4662-b9b1-46116a551cd5"
      },
      "execution_count": null,
      "outputs": [
        {
          "output_type": "execute_result",
          "data": {
            "text/plain": [
              "(1825, 1)"
            ]
          },
          "metadata": {},
          "execution_count": 9
        }
      ]
    },
    {
      "cell_type": "code",
      "source": [
        "train, test = train_test_split_sequence(ts)\n",
        "\n",
        "output = f'''\n",
        "Train: \n",
        "{train.shape}\n",
        "\n",
        "Text:\n",
        "{test.shape}\n",
        "'''\n",
        "print(output)"
      ],
      "metadata": {
        "colab": {
          "base_uri": "https://localhost:8080/"
        },
        "id": "2-Yi8uX6gT3M",
        "outputId": "a9e8f6b1-a7b1-4253-db5e-b110ce1f1196"
      },
      "execution_count": null,
      "outputs": [
        {
          "output_type": "stream",
          "name": "stdout",
          "text": [
            "\n",
            "Train: \n",
            "(1461, 1)\n",
            "\n",
            "Text:\n",
            "(364, 1)\n",
            "\n"
          ]
        }
      ]
    },
    {
      "cell_type": "code",
      "source": [
        "X_train, y_train = split_sequence(train, n_steps=5)\n",
        "X_test, y_test = split_sequence(test, n_steps=5)\n",
        "\n",
        "output = f'''\n",
        "X train ({X_train.shape}): \n",
        "{X_train}\n",
        "\n",
        "y train ({y_train.shape}):\n",
        "{y_train}\n",
        "'''\n",
        "print(output)"
      ],
      "metadata": {
        "colab": {
          "base_uri": "https://localhost:8080/"
        },
        "id": "YQSiq-4Vg_TN",
        "outputId": "d730c125-41c9-4227-9629-24094165e2b5"
      },
      "execution_count": null,
      "outputs": [
        {
          "output_type": "stream",
          "name": "stdout",
          "text": [
            "\n",
            "X train ((1455, 5)): \n",
            "[[0.22815534 0.22330097 0.22330097 0.18932039 0.17961165]\n",
            " [0.22330097 0.22330097 0.18932039 0.17961165 0.17961165]\n",
            " [0.22330097 0.18932039 0.17961165 0.17961165 0.17961165]\n",
            " ...\n",
            " [0.33009709 0.3592233  0.3592233  0.3592233  0.38349515]\n",
            " [0.3592233  0.3592233  0.3592233  0.38349515 0.35436893]\n",
            " [0.3592233  0.3592233  0.38349515 0.35436893 0.37864078]]\n",
            "\n",
            "y train ((1455,)):\n",
            "[0.17961165 0.17961165 0.17961165 ... 0.35436893 0.37864078 0.33009709]\n",
            "\n"
          ]
        }
      ]
    },
    {
      "cell_type": "code",
      "source": [
        "y_train.shape"
      ],
      "metadata": {
        "colab": {
          "base_uri": "https://localhost:8080/"
        },
        "id": "BYMcN_Ao2paj",
        "outputId": "8b2627c2-cfdc-4fbb-feb6-0d463c7a37a3"
      },
      "execution_count": null,
      "outputs": [
        {
          "output_type": "execute_result",
          "data": {
            "text/plain": [
              "(1455,)"
            ]
          },
          "metadata": {},
          "execution_count": 12
        }
      ]
    },
    {
      "cell_type": "code",
      "source": [
        "X_train.shape"
      ],
      "metadata": {
        "colab": {
          "base_uri": "https://localhost:8080/"
        },
        "id": "yYVsZdLa_5QW",
        "outputId": "c1c4c899-a12f-4690-b44a-474b54b670e6"
      },
      "execution_count": null,
      "outputs": [
        {
          "output_type": "execute_result",
          "data": {
            "text/plain": [
              "(1455, 5)"
            ]
          },
          "metadata": {},
          "execution_count": 13
        }
      ]
    },
    {
      "cell_type": "code",
      "source": [
        "X_train = np.reshape(X_train, (X_train.shape[0], 1, X_train.shape[1]))\n",
        "X_test = np.reshape(X_test, (X_test.shape[0], 1, X_test.shape[1]))"
      ],
      "metadata": {
        "id": "tz0r3axD1mYA"
      },
      "execution_count": null,
      "outputs": []
    },
    {
      "cell_type": "code",
      "source": [
        "X_train.shape"
      ],
      "metadata": {
        "colab": {
          "base_uri": "https://localhost:8080/"
        },
        "id": "PR5stzNzDEje",
        "outputId": "a9b59861-5c45-42e0-c1dc-ff49f6a24f85"
      },
      "execution_count": null,
      "outputs": [
        {
          "output_type": "execute_result",
          "data": {
            "text/plain": [
              "(1455, 1, 5)"
            ]
          },
          "metadata": {},
          "execution_count": 15
        }
      ]
    },
    {
      "cell_type": "markdown",
      "source": [
        "## Split CNN"
      ],
      "metadata": {
        "id": "Q_DgHD8e_bGZ"
      }
    },
    {
      "cell_type": "code",
      "source": [
        "ts2 = icbp2[['Close']]"
      ],
      "metadata": {
        "id": "2xiC1foH_eLk"
      },
      "execution_count": null,
      "outputs": []
    },
    {
      "cell_type": "code",
      "source": [
        "ts2"
      ],
      "metadata": {
        "colab": {
          "base_uri": "https://localhost:8080/",
          "height": 455
        },
        "id": "I1lZPW0lAOz-",
        "outputId": "a3561e2e-bdae-4480-dc0c-3ea7198e4764"
      },
      "execution_count": null,
      "outputs": [
        {
          "output_type": "execute_result",
          "data": {
            "text/plain": [
              "             Close\n",
              "Date              \n",
              "2017-04-03  8425.0\n",
              "2017-04-04  8400.0\n",
              "2017-04-05  8400.0\n",
              "2017-04-06  8225.0\n",
              "2017-04-07  8175.0\n",
              "...            ...\n",
              "2022-03-28  7275.0\n",
              "2022-03-29  7300.0\n",
              "2022-03-30  7375.0\n",
              "2022-03-31  7350.0\n",
              "2022-04-01  7525.0\n",
              "\n",
              "[1825 rows x 1 columns]"
            ],
            "text/html": [
              "\n",
              "  <div id=\"df-92264cb5-27a2-484a-bed7-97319c37cb5b\">\n",
              "    <div class=\"colab-df-container\">\n",
              "      <div>\n",
              "<style scoped>\n",
              "    .dataframe tbody tr th:only-of-type {\n",
              "        vertical-align: middle;\n",
              "    }\n",
              "\n",
              "    .dataframe tbody tr th {\n",
              "        vertical-align: top;\n",
              "    }\n",
              "\n",
              "    .dataframe thead th {\n",
              "        text-align: right;\n",
              "    }\n",
              "</style>\n",
              "<table border=\"1\" class=\"dataframe\">\n",
              "  <thead>\n",
              "    <tr style=\"text-align: right;\">\n",
              "      <th></th>\n",
              "      <th>Close</th>\n",
              "    </tr>\n",
              "    <tr>\n",
              "      <th>Date</th>\n",
              "      <th></th>\n",
              "    </tr>\n",
              "  </thead>\n",
              "  <tbody>\n",
              "    <tr>\n",
              "      <th>2017-04-03</th>\n",
              "      <td>8425.0</td>\n",
              "    </tr>\n",
              "    <tr>\n",
              "      <th>2017-04-04</th>\n",
              "      <td>8400.0</td>\n",
              "    </tr>\n",
              "    <tr>\n",
              "      <th>2017-04-05</th>\n",
              "      <td>8400.0</td>\n",
              "    </tr>\n",
              "    <tr>\n",
              "      <th>2017-04-06</th>\n",
              "      <td>8225.0</td>\n",
              "    </tr>\n",
              "    <tr>\n",
              "      <th>2017-04-07</th>\n",
              "      <td>8175.0</td>\n",
              "    </tr>\n",
              "    <tr>\n",
              "      <th>...</th>\n",
              "      <td>...</td>\n",
              "    </tr>\n",
              "    <tr>\n",
              "      <th>2022-03-28</th>\n",
              "      <td>7275.0</td>\n",
              "    </tr>\n",
              "    <tr>\n",
              "      <th>2022-03-29</th>\n",
              "      <td>7300.0</td>\n",
              "    </tr>\n",
              "    <tr>\n",
              "      <th>2022-03-30</th>\n",
              "      <td>7375.0</td>\n",
              "    </tr>\n",
              "    <tr>\n",
              "      <th>2022-03-31</th>\n",
              "      <td>7350.0</td>\n",
              "    </tr>\n",
              "    <tr>\n",
              "      <th>2022-04-01</th>\n",
              "      <td>7525.0</td>\n",
              "    </tr>\n",
              "  </tbody>\n",
              "</table>\n",
              "<p>1825 rows × 1 columns</p>\n",
              "</div>\n",
              "      <button class=\"colab-df-convert\" onclick=\"convertToInteractive('df-92264cb5-27a2-484a-bed7-97319c37cb5b')\"\n",
              "              title=\"Convert this dataframe to an interactive table.\"\n",
              "              style=\"display:none;\">\n",
              "        \n",
              "  <svg xmlns=\"http://www.w3.org/2000/svg\" height=\"24px\"viewBox=\"0 0 24 24\"\n",
              "       width=\"24px\">\n",
              "    <path d=\"M0 0h24v24H0V0z\" fill=\"none\"/>\n",
              "    <path d=\"M18.56 5.44l.94 2.06.94-2.06 2.06-.94-2.06-.94-.94-2.06-.94 2.06-2.06.94zm-11 1L8.5 8.5l.94-2.06 2.06-.94-2.06-.94L8.5 2.5l-.94 2.06-2.06.94zm10 10l.94 2.06.94-2.06 2.06-.94-2.06-.94-.94-2.06-.94 2.06-2.06.94z\"/><path d=\"M17.41 7.96l-1.37-1.37c-.4-.4-.92-.59-1.43-.59-.52 0-1.04.2-1.43.59L10.3 9.45l-7.72 7.72c-.78.78-.78 2.05 0 2.83L4 21.41c.39.39.9.59 1.41.59.51 0 1.02-.2 1.41-.59l7.78-7.78 2.81-2.81c.8-.78.8-2.07 0-2.86zM5.41 20L4 18.59l7.72-7.72 1.47 1.35L5.41 20z\"/>\n",
              "  </svg>\n",
              "      </button>\n",
              "      \n",
              "  <style>\n",
              "    .colab-df-container {\n",
              "      display:flex;\n",
              "      flex-wrap:wrap;\n",
              "      gap: 12px;\n",
              "    }\n",
              "\n",
              "    .colab-df-convert {\n",
              "      background-color: #E8F0FE;\n",
              "      border: none;\n",
              "      border-radius: 50%;\n",
              "      cursor: pointer;\n",
              "      display: none;\n",
              "      fill: #1967D2;\n",
              "      height: 32px;\n",
              "      padding: 0 0 0 0;\n",
              "      width: 32px;\n",
              "    }\n",
              "\n",
              "    .colab-df-convert:hover {\n",
              "      background-color: #E2EBFA;\n",
              "      box-shadow: 0px 1px 2px rgba(60, 64, 67, 0.3), 0px 1px 3px 1px rgba(60, 64, 67, 0.15);\n",
              "      fill: #174EA6;\n",
              "    }\n",
              "\n",
              "    [theme=dark] .colab-df-convert {\n",
              "      background-color: #3B4455;\n",
              "      fill: #D2E3FC;\n",
              "    }\n",
              "\n",
              "    [theme=dark] .colab-df-convert:hover {\n",
              "      background-color: #434B5C;\n",
              "      box-shadow: 0px 1px 3px 1px rgba(0, 0, 0, 0.15);\n",
              "      filter: drop-shadow(0px 1px 2px rgba(0, 0, 0, 0.3));\n",
              "      fill: #FFFFFF;\n",
              "    }\n",
              "  </style>\n",
              "\n",
              "      <script>\n",
              "        const buttonEl =\n",
              "          document.querySelector('#df-92264cb5-27a2-484a-bed7-97319c37cb5b button.colab-df-convert');\n",
              "        buttonEl.style.display =\n",
              "          google.colab.kernel.accessAllowed ? 'block' : 'none';\n",
              "\n",
              "        async function convertToInteractive(key) {\n",
              "          const element = document.querySelector('#df-92264cb5-27a2-484a-bed7-97319c37cb5b');\n",
              "          const dataTable =\n",
              "            await google.colab.kernel.invokeFunction('convertToInteractive',\n",
              "                                                     [key], {});\n",
              "          if (!dataTable) return;\n",
              "\n",
              "          const docLinkHtml = 'Like what you see? Visit the ' +\n",
              "            '<a target=\"_blank\" href=https://colab.research.google.com/notebooks/data_table.ipynb>data table notebook</a>'\n",
              "            + ' to learn more about interactive tables.';\n",
              "          element.innerHTML = '';\n",
              "          dataTable['output_type'] = 'display_data';\n",
              "          await google.colab.output.renderOutput(dataTable, element);\n",
              "          const docLink = document.createElement('div');\n",
              "          docLink.innerHTML = docLinkHtml;\n",
              "          element.appendChild(docLink);\n",
              "        }\n",
              "      </script>\n",
              "    </div>\n",
              "  </div>\n",
              "  "
            ]
          },
          "metadata": {},
          "execution_count": 47
        }
      ]
    },
    {
      "cell_type": "code",
      "source": [
        "ts2.shape"
      ],
      "metadata": {
        "colab": {
          "base_uri": "https://localhost:8080/"
        },
        "id": "pMryM0q3C-nT",
        "outputId": "b14dc665-bfe3-4ac8-dc31-0101712b7edb"
      },
      "execution_count": null,
      "outputs": [
        {
          "output_type": "execute_result",
          "data": {
            "text/plain": [
              "(1825, 1)"
            ]
          },
          "metadata": {},
          "execution_count": 48
        }
      ]
    },
    {
      "cell_type": "code",
      "source": [
        "ts2 = scaler.fit_transform(ts2)"
      ],
      "metadata": {
        "id": "nbIZVvYkC5W0"
      },
      "execution_count": null,
      "outputs": []
    },
    {
      "cell_type": "code",
      "source": [
        "train2, test2 = train_test_split_sequence(ts2)\n",
        "\n",
        "output = f'''\n",
        "Train: \n",
        "{train2}\n",
        "\n",
        "Text:\n",
        "{test2}\n",
        "'''\n",
        "print(output)"
      ],
      "metadata": {
        "colab": {
          "base_uri": "https://localhost:8080/"
        },
        "outputId": "5dfa2613-92cd-41e4-d065-69f874044583",
        "id": "YF3xJnC9_-nL"
      },
      "execution_count": null,
      "outputs": [
        {
          "output_type": "stream",
          "name": "stdout",
          "text": [
            "\n",
            "Train: \n",
            "[[0.22815534]\n",
            " [0.22330097]\n",
            " [0.22330097]\n",
            " ...\n",
            " [0.37864078]\n",
            " [0.33009709]\n",
            " [0.33009709]]\n",
            "\n",
            "Text:\n",
            "[[0.33009709]\n",
            " [0.33009709]\n",
            " [0.32524272]\n",
            " [0.30582524]\n",
            " [0.32038835]\n",
            " [0.30097087]\n",
            " [0.31553398]\n",
            " [0.31553398]\n",
            " [0.31553398]\n",
            " [0.27184466]\n",
            " [0.26699029]\n",
            " [0.29126214]\n",
            " [0.29126214]\n",
            " [0.33009709]\n",
            " [0.33009709]\n",
            " [0.33009709]\n",
            " [0.33009709]\n",
            " [0.32038835]\n",
            " [0.30097087]\n",
            " [0.29126214]\n",
            " [0.31553398]\n",
            " [0.31553398]\n",
            " [0.31553398]\n",
            " [0.2815534 ]\n",
            " [0.26213592]\n",
            " [0.25728155]\n",
            " [0.26699029]\n",
            " [0.2815534 ]\n",
            " [0.2815534 ]\n",
            " [0.2815534 ]\n",
            " [0.25242718]\n",
            " [0.24757282]\n",
            " [0.24757282]\n",
            " [0.24271845]\n",
            " [0.23300971]\n",
            " [0.23300971]\n",
            " [0.23300971]\n",
            " [0.26213592]\n",
            " [0.24757282]\n",
            " [0.24757282]\n",
            " [0.24757282]\n",
            " [0.24757282]\n",
            " [0.24757282]\n",
            " [0.24757282]\n",
            " [0.19417476]\n",
            " [0.2038835 ]\n",
            " [0.19902913]\n",
            " [0.2184466 ]\n",
            " [0.20873786]\n",
            " [0.20873786]\n",
            " [0.20873786]\n",
            " [0.18446602]\n",
            " [0.17961165]\n",
            " [0.17961165]\n",
            " [0.19902913]\n",
            " [0.16990291]\n",
            " [0.16990291]\n",
            " [0.16990291]\n",
            " [0.18446602]\n",
            " [0.18446602]\n",
            " [0.18932039]\n",
            " [0.2815534 ]\n",
            " [0.23300971]\n",
            " [0.23300971]\n",
            " [0.23300971]\n",
            " [0.21359223]\n",
            " [0.17961165]\n",
            " [0.17475728]\n",
            " [0.17475728]\n",
            " [0.17961165]\n",
            " [0.17961165]\n",
            " [0.17961165]\n",
            " [0.17475728]\n",
            " [0.17475728]\n",
            " [0.17961165]\n",
            " [0.16990291]\n",
            " [0.09708738]\n",
            " [0.09708738]\n",
            " [0.09708738]\n",
            " [0.13106796]\n",
            " [0.15533981]\n",
            " [0.1407767 ]\n",
            " [0.15048544]\n",
            " [0.15048544]\n",
            " [0.15048544]\n",
            " [0.15048544]\n",
            " [0.1407767 ]\n",
            " [0.19417476]\n",
            " [0.17475728]\n",
            " [0.24271845]\n",
            " [0.22815534]\n",
            " [0.22815534]\n",
            " [0.22815534]\n",
            " [0.18932039]\n",
            " [0.22330097]\n",
            " [0.23300971]\n",
            " [0.23786408]\n",
            " [0.25242718]\n",
            " [0.25242718]\n",
            " [0.25242718]\n",
            " [0.30582524]\n",
            " [0.33009709]\n",
            " [0.2815534 ]\n",
            " [0.27669903]\n",
            " [0.25728155]\n",
            " [0.25728155]\n",
            " [0.25728155]\n",
            " [0.24271845]\n",
            " [0.24271845]\n",
            " [0.24271845]\n",
            " [0.30582524]\n",
            " [0.27184466]\n",
            " [0.27184466]\n",
            " [0.27184466]\n",
            " [0.28640777]\n",
            " [0.24271845]\n",
            " [0.24271845]\n",
            " [0.21359223]\n",
            " [0.16990291]\n",
            " [0.16990291]\n",
            " [0.16990291]\n",
            " [0.16990291]\n",
            " [0.18932039]\n",
            " [0.17961165]\n",
            " [0.17475728]\n",
            " [0.19902913]\n",
            " [0.19902913]\n",
            " [0.19902913]\n",
            " [0.17475728]\n",
            " [0.15533981]\n",
            " [0.15533981]\n",
            " [0.16019417]\n",
            " [0.18446602]\n",
            " [0.18446602]\n",
            " [0.18446602]\n",
            " [0.19417476]\n",
            " [0.19417476]\n",
            " [0.21359223]\n",
            " [0.17475728]\n",
            " [0.17475728]\n",
            " [0.17475728]\n",
            " [0.17475728]\n",
            " [0.18932039]\n",
            " [0.18446602]\n",
            " [0.18932039]\n",
            " [0.18932039]\n",
            " [0.2038835 ]\n",
            " [0.2038835 ]\n",
            " [0.2038835 ]\n",
            " [0.26213592]\n",
            " [0.22815534]\n",
            " [0.22330097]\n",
            " [0.23300971]\n",
            " [0.23786408]\n",
            " [0.23786408]\n",
            " [0.23786408]\n",
            " [0.24757282]\n",
            " [0.22815534]\n",
            " [0.22815534]\n",
            " [0.24757282]\n",
            " [0.24271845]\n",
            " [0.24271845]\n",
            " [0.24271845]\n",
            " [0.22815534]\n",
            " [0.23300971]\n",
            " [0.2184466 ]\n",
            " [0.18932039]\n",
            " [0.17475728]\n",
            " [0.17475728]\n",
            " [0.17475728]\n",
            " [0.16990291]\n",
            " [0.2038835 ]\n",
            " [0.18446602]\n",
            " [0.19417476]\n",
            " [0.2038835 ]\n",
            " [0.2038835 ]\n",
            " [0.2038835 ]\n",
            " [0.21359223]\n",
            " [0.18932039]\n",
            " [0.18932039]\n",
            " [0.21359223]\n",
            " [0.20873786]\n",
            " [0.20873786]\n",
            " [0.20873786]\n",
            " [0.27184466]\n",
            " [0.30582524]\n",
            " [0.31067961]\n",
            " [0.31067961]\n",
            " [0.32038835]\n",
            " [0.32038835]\n",
            " [0.32038835]\n",
            " [0.31067961]\n",
            " [0.31553398]\n",
            " [0.33009709]\n",
            " [0.40291262]\n",
            " [0.39320388]\n",
            " [0.39320388]\n",
            " [0.39320388]\n",
            " [0.39805825]\n",
            " [0.39805825]\n",
            " [0.39805825]\n",
            " [0.38349515]\n",
            " [0.3592233 ]\n",
            " [0.3592233 ]\n",
            " [0.3592233 ]\n",
            " [0.3592233 ]\n",
            " [0.3592233 ]\n",
            " [0.31067961]\n",
            " [0.30097087]\n",
            " [0.30097087]\n",
            " [0.30097087]\n",
            " [0.30097087]\n",
            " [0.30097087]\n",
            " [0.31067961]\n",
            " [0.2961165 ]\n",
            " [0.30097087]\n",
            " [0.30097087]\n",
            " [0.30097087]\n",
            " [0.30097087]\n",
            " [0.32038835]\n",
            " [0.32524272]\n",
            " [0.32038835]\n",
            " [0.31067961]\n",
            " [0.33009709]\n",
            " [0.33009709]\n",
            " [0.33009709]\n",
            " [0.32524272]\n",
            " [0.30582524]\n",
            " [0.31067961]\n",
            " [0.35436893]\n",
            " [0.34466019]\n",
            " [0.34466019]\n",
            " [0.34466019]\n",
            " [0.35436893]\n",
            " [0.33009709]\n",
            " [0.33980583]\n",
            " [0.33009709]\n",
            " [0.31553398]\n",
            " [0.31553398]\n",
            " [0.31553398]\n",
            " [0.31553398]\n",
            " [0.23300971]\n",
            " [0.32524272]\n",
            " [0.31067961]\n",
            " [0.2815534 ]\n",
            " [0.2815534 ]\n",
            " [0.2815534 ]\n",
            " [0.29126214]\n",
            " [0.29126214]\n",
            " [0.2961165 ]\n",
            " [0.33009709]\n",
            " [0.31067961]\n",
            " [0.31067961]\n",
            " [0.31067961]\n",
            " [0.29126214]\n",
            " [0.2815534 ]\n",
            " [0.30097087]\n",
            " [0.29126214]\n",
            " [0.30097087]\n",
            " [0.30097087]\n",
            " [0.30097087]\n",
            " [0.30582524]\n",
            " [0.29126214]\n",
            " [0.27669903]\n",
            " [0.2961165 ]\n",
            " [0.28640777]\n",
            " [0.28640777]\n",
            " [0.28640777]\n",
            " [0.27184466]\n",
            " [0.2815534 ]\n",
            " [0.27669903]\n",
            " [0.2815534 ]\n",
            " [0.2815534 ]\n",
            " [0.2815534 ]\n",
            " [0.2815534 ]\n",
            " [0.26699029]\n",
            " [0.2961165 ]\n",
            " [0.30582524]\n",
            " [0.31067961]\n",
            " [0.31553398]\n",
            " [0.31553398]\n",
            " [0.31553398]\n",
            " [0.31067961]\n",
            " [0.2815534 ]\n",
            " [0.29126214]\n",
            " [0.2961165 ]\n",
            " [0.29126214]\n",
            " [0.29126214]\n",
            " [0.29126214]\n",
            " [0.2961165 ]\n",
            " [0.2961165 ]\n",
            " [0.29126214]\n",
            " [0.24757282]\n",
            " [0.27669903]\n",
            " [0.27669903]\n",
            " [0.27669903]\n",
            " [0.26213592]\n",
            " [0.29126214]\n",
            " [0.29126214]\n",
            " [0.2815534 ]\n",
            " [0.27669903]\n",
            " [0.27669903]\n",
            " [0.27669903]\n",
            " [0.28640777]\n",
            " [0.28640777]\n",
            " [0.27669903]\n",
            " [0.24271845]\n",
            " [0.26699029]\n",
            " [0.26699029]\n",
            " [0.26699029]\n",
            " [0.27184466]\n",
            " [0.26699029]\n",
            " [0.27669903]\n",
            " [0.26699029]\n",
            " [0.27184466]\n",
            " [0.27184466]\n",
            " [0.27184466]\n",
            " [0.25242718]\n",
            " [0.25242718]\n",
            " [0.24271845]\n",
            " [0.24757282]\n",
            " [0.24757282]\n",
            " [0.24757282]\n",
            " [0.24757282]\n",
            " [0.24271845]\n",
            " [0.24757282]\n",
            " [0.2815534 ]\n",
            " [0.24757282]\n",
            " [0.24271845]\n",
            " [0.24271845]\n",
            " [0.24271845]\n",
            " [0.24271845]\n",
            " [0.19417476]\n",
            " [0.13106796]\n",
            " [0.13106796]\n",
            " [0.11165049]\n",
            " [0.11165049]\n",
            " [0.11165049]\n",
            " [0.02912621]\n",
            " [0.06796117]\n",
            " [0.07281553]\n",
            " [0.09708738]\n",
            " [0.05825243]\n",
            " [0.05825243]\n",
            " [0.05825243]\n",
            " [0.05339806]\n",
            " [0.03398058]\n",
            " [0.07281553]\n",
            " [0.0631068 ]\n",
            " [0.0631068 ]\n",
            " [0.0631068 ]\n",
            " [0.0631068 ]\n",
            " [0.03883495]\n",
            " [0.04368932]\n",
            " [0.04854369]\n",
            " [0.05825243]\n",
            " [0.        ]\n",
            " [0.        ]\n",
            " [0.        ]\n",
            " [0.00485437]\n",
            " [0.00970874]\n",
            " [0.02427184]\n",
            " [0.01941748]\n",
            " [0.05339806]]\n",
            "\n"
          ]
        }
      ]
    },
    {
      "cell_type": "code",
      "source": [
        "train2.shape"
      ],
      "metadata": {
        "colab": {
          "base_uri": "https://localhost:8080/"
        },
        "id": "ut4EwciZAacp",
        "outputId": "b9d166b0-222f-4d1a-fda5-27545daf63e2"
      },
      "execution_count": null,
      "outputs": [
        {
          "output_type": "execute_result",
          "data": {
            "text/plain": [
              "(1461, 1)"
            ]
          },
          "metadata": {},
          "execution_count": 51
        }
      ]
    },
    {
      "cell_type": "code",
      "source": [
        "X_train2, y_train2 = input_output_split_sequence(train2, n_steps=5)\n",
        "X_test2, y_test2 = input_output_split_sequence(test2, n_steps=5)\n",
        "\n",
        "output = f'''\n",
        "X train ({X_train2.shape}): \n",
        "{X_train2}\n",
        "\n",
        "y train ({y_train2.shape}):\n",
        "{y_train2}\n",
        "'''\n",
        "print(output)"
      ],
      "metadata": {
        "colab": {
          "base_uri": "https://localhost:8080/"
        },
        "outputId": "1c3843d4-1906-4a0e-fe6b-57c45a2bf334",
        "id": "aGejVtPB_-nN"
      },
      "execution_count": null,
      "outputs": [
        {
          "output_type": "stream",
          "name": "stdout",
          "text": [
            "\n",
            "X train ((1456, 5, 1)): \n",
            "[[[0.22815534]\n",
            "  [0.22330097]\n",
            "  [0.22330097]\n",
            "  [0.18932039]\n",
            "  [0.17961165]]\n",
            "\n",
            " [[0.22330097]\n",
            "  [0.22330097]\n",
            "  [0.18932039]\n",
            "  [0.17961165]\n",
            "  [0.17961165]]\n",
            "\n",
            " [[0.22330097]\n",
            "  [0.18932039]\n",
            "  [0.17961165]\n",
            "  [0.17961165]\n",
            "  [0.17961165]]\n",
            "\n",
            " ...\n",
            "\n",
            " [[0.3592233 ]\n",
            "  [0.3592233 ]\n",
            "  [0.3592233 ]\n",
            "  [0.38349515]\n",
            "  [0.35436893]]\n",
            "\n",
            " [[0.3592233 ]\n",
            "  [0.3592233 ]\n",
            "  [0.38349515]\n",
            "  [0.35436893]\n",
            "  [0.37864078]]\n",
            "\n",
            " [[0.3592233 ]\n",
            "  [0.38349515]\n",
            "  [0.35436893]\n",
            "  [0.37864078]\n",
            "  [0.33009709]]]\n",
            "\n",
            "y train ((1456, 1)):\n",
            "[[0.17961165]\n",
            " [0.17961165]\n",
            " [0.17961165]\n",
            " ...\n",
            " [0.37864078]\n",
            " [0.33009709]\n",
            " [0.33009709]]\n",
            "\n"
          ]
        }
      ]
    },
    {
      "cell_type": "code",
      "source": [
        "X_train2.shape"
      ],
      "metadata": {
        "colab": {
          "base_uri": "https://localhost:8080/"
        },
        "id": "grQMhZrcDRLT",
        "outputId": "82d31a0c-58c3-4932-872b-2a84aab389ec"
      },
      "execution_count": null,
      "outputs": [
        {
          "output_type": "execute_result",
          "data": {
            "text/plain": [
              "(1456, 5, 1)"
            ]
          },
          "metadata": {},
          "execution_count": 53
        }
      ]
    },
    {
      "cell_type": "markdown",
      "source": [
        "# Model"
      ],
      "metadata": {
        "id": "12aYHb69xPnq"
      }
    },
    {
      "cell_type": "code",
      "source": [
        "import tensorflow as tf\n",
        "from tensorflow import keras\n",
        "from keras.models import Sequential\n",
        "from keras.layers import Dense\n",
        "# from keras.layers import Flatten\n",
        "from keras.layers import LSTM\n",
        "from keras.layers import TimeDistributed\n",
        "from keras.layers import Reshape\n",
        "from keras.layers import Dropout\n",
        "from keras.layers import Bidirectional\n",
        "from keras.layers.convolutional import Conv1D\n",
        "from keras.callbacks import ModelCheckpoint\n",
        "\n",
        "from sklearn.metrics import mean_absolute_error\n",
        "from sklearn.metrics import mean_squared_error\n",
        "from sklearn.metrics import mean_absolute_percentage_error"
      ],
      "metadata": {
        "id": "vUGnBwGYlECZ"
      },
      "execution_count": null,
      "outputs": []
    },
    {
      "cell_type": "code",
      "source": [
        "!pip install -q -U keras-tuner"
      ],
      "metadata": {
        "colab": {
          "base_uri": "https://localhost:8080/"
        },
        "outputId": "3beefde1-a3ff-419f-b0a2-3eca9cefc0a7",
        "id": "6pXjs2bCsPvS"
      },
      "execution_count": null,
      "outputs": [
        {
          "output_type": "stream",
          "name": "stdout",
          "text": [
            "\u001b[?25l\r\u001b[K     |██▌                             | 10 kB 28.0 MB/s eta 0:00:01\r\u001b[K     |█████                           | 20 kB 29.5 MB/s eta 0:00:01\r\u001b[K     |███████▍                        | 30 kB 32.7 MB/s eta 0:00:01\r\u001b[K     |█████████▉                      | 40 kB 37.0 MB/s eta 0:00:01\r\u001b[K     |████████████▎                   | 51 kB 27.9 MB/s eta 0:00:01\r\u001b[K     |██████████████▊                 | 61 kB 29.9 MB/s eta 0:00:01\r\u001b[K     |█████████████████▏              | 71 kB 31.0 MB/s eta 0:00:01\r\u001b[K     |███████████████████▋            | 81 kB 26.3 MB/s eta 0:00:01\r\u001b[K     |██████████████████████          | 92 kB 27.7 MB/s eta 0:00:01\r\u001b[K     |████████████████████████▌       | 102 kB 29.6 MB/s eta 0:00:01\r\u001b[K     |███████████████████████████     | 112 kB 29.6 MB/s eta 0:00:01\r\u001b[K     |█████████████████████████████▍  | 122 kB 29.6 MB/s eta 0:00:01\r\u001b[K     |███████████████████████████████▉| 133 kB 29.6 MB/s eta 0:00:01\r\u001b[K     |████████████████████████████████| 133 kB 29.6 MB/s \n",
            "\u001b[?25h"
          ]
        }
      ]
    },
    {
      "cell_type": "code",
      "source": [
        "import keras_tuner as kt"
      ],
      "metadata": {
        "id": "3U_un6CMsPvi"
      },
      "execution_count": null,
      "outputs": []
    },
    {
      "cell_type": "markdown",
      "source": [
        "## Vanilla LSTM"
      ],
      "metadata": {
        "id": "upLzQkx5xl-p"
      }
    },
    {
      "cell_type": "markdown",
      "source": [
        "### Model"
      ],
      "metadata": {
        "id": "l6nrgusO2Rpw"
      }
    },
    {
      "cell_type": "code",
      "source": [
        "def model_builder(hp):\n",
        "  model = Sequential()\n",
        "\n",
        "  # Tune the number of units in the first Dense layer\n",
        "  # Choose an optimal value between 32-512\n",
        "  hp_units_lstm = hp.Int('units_lstm', min_value=32, max_value=512, step=32)\n",
        "  model.add(LSTM(hp_units_lstm, activation='relu', input_shape=(1, 5)))\n",
        "  model.add(Dense(1))\n",
        "\n",
        "  # Tune the learning rate for the optimizer\n",
        "  # Choose an optimal value from 0.01, 0.001, or 0.0001\n",
        "  hp_learning_rate = hp.Choice('learning_rate', values=[1e-2, 1e-3, 1e-4])\n",
        "\n",
        "  model.compile(optimizer=keras.optimizers.Adam(learning_rate=hp_learning_rate), loss='mse')\n",
        "\n",
        "  return model"
      ],
      "metadata": {
        "id": "LgpF99pQsPvi"
      },
      "execution_count": null,
      "outputs": []
    },
    {
      "cell_type": "code",
      "source": [
        "tuner = kt.RandomSearch(model_builder,\n",
        "                     objective='val_loss',\n",
        "                     max_trials=15,\n",
        "                     seed=42,\n",
        "                     executions_per_trial=2,\n",
        "                     directory='icbp',\n",
        "                     project_name='vanilla-lstm'\n",
        "                    # # FOR TRAIN ONLY\n",
        "                    #  overwrite=True\n",
        "                    # # --------------\n",
        "                     )"
      ],
      "metadata": {
        "id": "EidJMXrPsPvj"
      },
      "execution_count": null,
      "outputs": []
    },
    {
      "cell_type": "code",
      "source": [
        "tuner.search(X_train, y_train, epochs=50, validation_split=0.2)"
      ],
      "metadata": {
        "colab": {
          "base_uri": "https://localhost:8080/"
        },
        "id": "lR3Z72epGiQl",
        "outputId": "03542b0b-cf2d-4043-d20e-d325c349bc78"
      },
      "execution_count": null,
      "outputs": [
        {
          "output_type": "stream",
          "name": "stdout",
          "text": [
            "Trial 15 Complete [00h 01m 06s]\n",
            "val_loss: 0.0006290480960160494\n",
            "\n",
            "Best val_loss So Far: 0.0006290480960160494\n",
            "Total elapsed time: 00h 13m 03s\n",
            "INFO:tensorflow:Oracle triggered exit\n"
          ]
        }
      ]
    },
    {
      "cell_type": "code",
      "source": [
        "# Get the optimal hyperparameters\n",
        "best_hps=tuner.get_best_hyperparameters(num_trials=1)[0]\n",
        "\n",
        "tuning = ['units_lstm', 'learning_rate']\n",
        "print('Best tune:')\n",
        "for tune in tuning:\n",
        "  print(f'{tune}: {best_hps.get(tune)}')"
      ],
      "metadata": {
        "colab": {
          "base_uri": "https://localhost:8080/"
        },
        "id": "YcCRhhAyHEKi",
        "outputId": "0540533e-1a5e-4137-c6dd-e982fc73d64e"
      },
      "execution_count": null,
      "outputs": [
        {
          "output_type": "stream",
          "name": "stdout",
          "text": [
            "Best tune:\n",
            "units_lstm: 416\n",
            "learning_rate: 0.01\n"
          ]
        }
      ]
    },
    {
      "cell_type": "code",
      "source": [
        "tuner.results_summary(num_trials=15)"
      ],
      "metadata": {
        "colab": {
          "base_uri": "https://localhost:8080/"
        },
        "id": "gQSyWh5VwZXi",
        "outputId": "4d46581e-7fe9-42a1-ea75-a3c3e82568e2"
      },
      "execution_count": null,
      "outputs": [
        {
          "output_type": "stream",
          "name": "stdout",
          "text": [
            "Results summary\n",
            "Results in icbp/vanilla-lstm\n",
            "Showing 15 best trials\n",
            "<keras_tuner.engine.objective.Objective object at 0x7fb406424310>\n",
            "Trial summary\n",
            "Hyperparameters:\n",
            "units_lstm: 416\n",
            "learning_rate: 0.01\n",
            "Score: 0.0006290480960160494\n",
            "Trial summary\n",
            "Hyperparameters:\n",
            "units_lstm: 288\n",
            "learning_rate: 0.01\n",
            "Score: 0.0006307681032922119\n",
            "Trial summary\n",
            "Hyperparameters:\n",
            "units_lstm: 320\n",
            "learning_rate: 0.01\n",
            "Score: 0.0006308612937573344\n",
            "Trial summary\n",
            "Hyperparameters:\n",
            "units_lstm: 256\n",
            "learning_rate: 0.01\n",
            "Score: 0.0006334111385513097\n",
            "Trial summary\n",
            "Hyperparameters:\n",
            "units_lstm: 480\n",
            "learning_rate: 0.01\n",
            "Score: 0.0006337461236398667\n",
            "Trial summary\n",
            "Hyperparameters:\n",
            "units_lstm: 352\n",
            "learning_rate: 0.01\n",
            "Score: 0.0006349830946419388\n",
            "Trial summary\n",
            "Hyperparameters:\n",
            "units_lstm: 64\n",
            "learning_rate: 0.01\n",
            "Score: 0.0006434762908611447\n",
            "Trial summary\n",
            "Hyperparameters:\n",
            "units_lstm: 192\n",
            "learning_rate: 0.001\n",
            "Score: 0.0006800858827773482\n",
            "Trial summary\n",
            "Hyperparameters:\n",
            "units_lstm: 480\n",
            "learning_rate: 0.001\n",
            "Score: 0.0006812568753957748\n",
            "Trial summary\n",
            "Hyperparameters:\n",
            "units_lstm: 224\n",
            "learning_rate: 0.001\n",
            "Score: 0.0006828895129729062\n",
            "Trial summary\n",
            "Hyperparameters:\n",
            "units_lstm: 256\n",
            "learning_rate: 0.001\n",
            "Score: 0.0006859212589915842\n",
            "Trial summary\n",
            "Hyperparameters:\n",
            "units_lstm: 448\n",
            "learning_rate: 0.001\n",
            "Score: 0.0007029915286693722\n",
            "Trial summary\n",
            "Hyperparameters:\n",
            "units_lstm: 64\n",
            "learning_rate: 0.001\n",
            "Score: 0.0008160271099768579\n",
            "Trial summary\n",
            "Hyperparameters:\n",
            "units_lstm: 512\n",
            "learning_rate: 0.0001\n",
            "Score: 0.000983226578682661\n",
            "Trial summary\n",
            "Hyperparameters:\n",
            "units_lstm: 384\n",
            "learning_rate: 0.0001\n",
            "Score: 0.0009859042766038328\n"
          ]
        }
      ]
    },
    {
      "cell_type": "code",
      "source": [
        "best_hp = tuner.get_best_hyperparameters()[0]\n",
        "lstm = tuner.hypermodel.build(best_hp)\n",
        "\n",
        "lstm.summary()"
      ],
      "metadata": {
        "colab": {
          "base_uri": "https://localhost:8080/"
        },
        "id": "LMqxuUV1FN6c",
        "outputId": "0d881f5c-5e83-4760-d159-c19b6d1adde3"
      },
      "execution_count": null,
      "outputs": [
        {
          "output_type": "stream",
          "name": "stdout",
          "text": [
            "Model: \"sequential_1\"\n",
            "_________________________________________________________________\n",
            " Layer (type)                Output Shape              Param #   \n",
            "=================================================================\n",
            " lstm_1 (LSTM)               (None, 416)               702208    \n",
            "                                                                 \n",
            " dense_1 (Dense)             (None, 1)                 417       \n",
            "                                                                 \n",
            "=================================================================\n",
            "Total params: 702,625\n",
            "Trainable params: 702,625\n",
            "Non-trainable params: 0\n",
            "_________________________________________________________________\n"
          ]
        }
      ]
    },
    {
      "cell_type": "code",
      "source": [
        "historylstm = lstm.fit(X_train, y_train,\n",
        "                       epochs=50,\n",
        "                       validation_data=(X_test, y_test), \n",
        "                       verbose=2)"
      ],
      "metadata": {
        "colab": {
          "base_uri": "https://localhost:8080/"
        },
        "id": "Ul-ZYY6xyZH5",
        "outputId": "7b7452a5-6b92-40c4-b83b-7db2397470aa"
      },
      "execution_count": null,
      "outputs": [
        {
          "output_type": "stream",
          "name": "stdout",
          "text": [
            "Epoch 1/50\n",
            "46/46 - 2s - loss: 0.0192 - val_loss: 0.0014 - 2s/epoch - 40ms/step\n",
            "Epoch 2/50\n",
            "46/46 - 0s - loss: 0.0014 - val_loss: 0.0012 - 430ms/epoch - 9ms/step\n",
            "Epoch 3/50\n",
            "46/46 - 0s - loss: 0.0013 - val_loss: 0.0011 - 444ms/epoch - 10ms/step\n",
            "Epoch 4/50\n",
            "46/46 - 1s - loss: 0.0012 - val_loss: 7.4880e-04 - 503ms/epoch - 11ms/step\n",
            "Epoch 5/50\n",
            "46/46 - 0s - loss: 0.0011 - val_loss: 5.8614e-04 - 470ms/epoch - 10ms/step\n",
            "Epoch 6/50\n",
            "46/46 - 0s - loss: 0.0010 - val_loss: 5.4576e-04 - 474ms/epoch - 10ms/step\n",
            "Epoch 7/50\n",
            "46/46 - 0s - loss: 9.1795e-04 - val_loss: 7.1273e-04 - 423ms/epoch - 9ms/step\n",
            "Epoch 8/50\n",
            "46/46 - 0s - loss: 8.7762e-04 - val_loss: 6.0612e-04 - 447ms/epoch - 10ms/step\n",
            "Epoch 9/50\n",
            "46/46 - 0s - loss: 9.3845e-04 - val_loss: 7.7285e-04 - 431ms/epoch - 9ms/step\n",
            "Epoch 10/50\n",
            "46/46 - 0s - loss: 8.6030e-04 - val_loss: 4.5801e-04 - 469ms/epoch - 10ms/step\n",
            "Epoch 11/50\n",
            "46/46 - 0s - loss: 8.3522e-04 - val_loss: 4.6917e-04 - 468ms/epoch - 10ms/step\n",
            "Epoch 12/50\n",
            "46/46 - 0s - loss: 8.7012e-04 - val_loss: 4.9323e-04 - 434ms/epoch - 9ms/step\n",
            "Epoch 13/50\n",
            "46/46 - 0s - loss: 7.4518e-04 - val_loss: 6.1518e-04 - 446ms/epoch - 10ms/step\n",
            "Epoch 14/50\n",
            "46/46 - 0s - loss: 7.9015e-04 - val_loss: 5.4463e-04 - 432ms/epoch - 9ms/step\n",
            "Epoch 15/50\n",
            "46/46 - 0s - loss: 0.0011 - val_loss: 6.1891e-04 - 454ms/epoch - 10ms/step\n",
            "Epoch 16/50\n",
            "46/46 - 0s - loss: 9.0771e-04 - val_loss: 4.3700e-04 - 474ms/epoch - 10ms/step\n",
            "Epoch 17/50\n",
            "46/46 - 0s - loss: 8.6075e-04 - val_loss: 5.1026e-04 - 478ms/epoch - 10ms/step\n",
            "Epoch 18/50\n",
            "46/46 - 0s - loss: 7.8110e-04 - val_loss: 4.9710e-04 - 477ms/epoch - 10ms/step\n",
            "Epoch 19/50\n",
            "46/46 - 1s - loss: 8.2402e-04 - val_loss: 5.8874e-04 - 511ms/epoch - 11ms/step\n",
            "Epoch 20/50\n",
            "46/46 - 0s - loss: 8.0401e-04 - val_loss: 4.4249e-04 - 465ms/epoch - 10ms/step\n",
            "Epoch 21/50\n",
            "46/46 - 0s - loss: 8.9100e-04 - val_loss: 4.5456e-04 - 490ms/epoch - 11ms/step\n",
            "Epoch 22/50\n",
            "46/46 - 0s - loss: 8.9979e-04 - val_loss: 5.2602e-04 - 463ms/epoch - 10ms/step\n",
            "Epoch 23/50\n",
            "46/46 - 0s - loss: 8.6280e-04 - val_loss: 5.9692e-04 - 437ms/epoch - 9ms/step\n",
            "Epoch 24/50\n",
            "46/46 - 0s - loss: 9.3626e-04 - val_loss: 5.2262e-04 - 449ms/epoch - 10ms/step\n",
            "Epoch 25/50\n",
            "46/46 - 0s - loss: 8.0806e-04 - val_loss: 4.9822e-04 - 433ms/epoch - 9ms/step\n",
            "Epoch 26/50\n",
            "46/46 - 0s - loss: 8.1036e-04 - val_loss: 5.4583e-04 - 455ms/epoch - 10ms/step\n",
            "Epoch 27/50\n",
            "46/46 - 0s - loss: 9.4559e-04 - val_loss: 6.2062e-04 - 436ms/epoch - 9ms/step\n",
            "Epoch 28/50\n",
            "46/46 - 0s - loss: 9.2844e-04 - val_loss: 4.5970e-04 - 442ms/epoch - 10ms/step\n",
            "Epoch 29/50\n",
            "46/46 - 0s - loss: 7.5452e-04 - val_loss: 4.6904e-04 - 436ms/epoch - 9ms/step\n",
            "Epoch 30/50\n",
            "46/46 - 0s - loss: 7.4863e-04 - val_loss: 4.7243e-04 - 451ms/epoch - 10ms/step\n",
            "Epoch 31/50\n",
            "46/46 - 0s - loss: 7.5861e-04 - val_loss: 4.6283e-04 - 419ms/epoch - 9ms/step\n",
            "Epoch 32/50\n",
            "46/46 - 0s - loss: 0.0012 - val_loss: 7.1094e-04 - 425ms/epoch - 9ms/step\n",
            "Epoch 33/50\n",
            "46/46 - 0s - loss: 8.5164e-04 - val_loss: 5.1276e-04 - 439ms/epoch - 10ms/step\n",
            "Epoch 34/50\n",
            "46/46 - 0s - loss: 7.2394e-04 - val_loss: 4.7417e-04 - 477ms/epoch - 10ms/step\n",
            "Epoch 35/50\n",
            "46/46 - 0s - loss: 7.1877e-04 - val_loss: 5.2507e-04 - 450ms/epoch - 10ms/step\n",
            "Epoch 36/50\n",
            "46/46 - 0s - loss: 7.4068e-04 - val_loss: 4.9038e-04 - 418ms/epoch - 9ms/step\n",
            "Epoch 37/50\n",
            "46/46 - 0s - loss: 7.5246e-04 - val_loss: 5.0958e-04 - 429ms/epoch - 9ms/step\n",
            "Epoch 38/50\n",
            "46/46 - 0s - loss: 7.5335e-04 - val_loss: 5.0190e-04 - 426ms/epoch - 9ms/step\n",
            "Epoch 39/50\n",
            "46/46 - 0s - loss: 8.0966e-04 - val_loss: 4.9483e-04 - 478ms/epoch - 10ms/step\n",
            "Epoch 40/50\n",
            "46/46 - 0s - loss: 7.8948e-04 - val_loss: 5.9273e-04 - 431ms/epoch - 9ms/step\n",
            "Epoch 41/50\n",
            "46/46 - 0s - loss: 0.0011 - val_loss: 5.1827e-04 - 456ms/epoch - 10ms/step\n",
            "Epoch 42/50\n",
            "46/46 - 0s - loss: 7.1467e-04 - val_loss: 5.1846e-04 - 440ms/epoch - 10ms/step\n",
            "Epoch 43/50\n",
            "46/46 - 0s - loss: 7.3193e-04 - val_loss: 8.2080e-04 - 418ms/epoch - 9ms/step\n",
            "Epoch 44/50\n",
            "46/46 - 0s - loss: 7.7806e-04 - val_loss: 5.3745e-04 - 473ms/epoch - 10ms/step\n",
            "Epoch 45/50\n",
            "46/46 - 0s - loss: 8.4074e-04 - val_loss: 5.5959e-04 - 428ms/epoch - 9ms/step\n",
            "Epoch 46/50\n",
            "46/46 - 0s - loss: 7.9055e-04 - val_loss: 5.6535e-04 - 425ms/epoch - 9ms/step\n",
            "Epoch 47/50\n",
            "46/46 - 0s - loss: 7.4360e-04 - val_loss: 6.0024e-04 - 463ms/epoch - 10ms/step\n",
            "Epoch 48/50\n",
            "46/46 - 0s - loss: 7.6596e-04 - val_loss: 5.8550e-04 - 468ms/epoch - 10ms/step\n",
            "Epoch 49/50\n",
            "46/46 - 0s - loss: 7.9936e-04 - val_loss: 5.7093e-04 - 463ms/epoch - 10ms/step\n",
            "Epoch 50/50\n",
            "46/46 - 0s - loss: 7.5088e-04 - val_loss: 6.2603e-04 - 481ms/epoch - 10ms/step\n"
          ]
        }
      ]
    },
    {
      "cell_type": "code",
      "source": [
        "lstm.save('vanilla_lstm.h5')"
      ],
      "metadata": {
        "id": "xp77DtPPwGpQ"
      },
      "execution_count": null,
      "outputs": []
    },
    {
      "cell_type": "markdown",
      "source": [
        "### Evaluation"
      ],
      "metadata": {
        "id": "jLOhnYBF2Hd1"
      }
    },
    {
      "cell_type": "code",
      "source": [
        "train_predict = lstm.predict(X_train)\n",
        "test_predict = lstm.predict(X_test)\n",
        "\n",
        "train_predict = scaler.inverse_transform(train_predict)\n",
        "train_y = scaler.inverse_transform([y_train])\n",
        "test_predict = scaler.inverse_transform(test_predict)\n",
        "test_y = scaler.inverse_transform([y_test])"
      ],
      "metadata": {
        "id": "ennYdlwkSlez"
      },
      "execution_count": null,
      "outputs": []
    },
    {
      "cell_type": "code",
      "source": [
        "def metrics_evaluation_regression(test, predict):\n",
        "  metrics = pd.DataFrame({\n",
        "      'MSE': [mean_squared_error(test, predict)],\n",
        "      'RMSE': [np.sqrt(mean_squared_error(test, predict))],\n",
        "      'MAE': [mean_absolute_error(test, predict)],\n",
        "      'MAPE': [mean_absolute_percentage_error(test, predict)]\n",
        "  })\n",
        "  return metrics "
      ],
      "metadata": {
        "id": "_lhVsCpb0YpB"
      },
      "execution_count": null,
      "outputs": []
    },
    {
      "cell_type": "code",
      "source": [
        "metrics_evaluation_regression(train_y[0], train_predict)"
      ],
      "metadata": {
        "colab": {
          "base_uri": "https://localhost:8080/",
          "height": 81
        },
        "outputId": "a551e677-ef3f-4728-cde9-55319a626a50",
        "id": "6N6yj09b98Nt"
      },
      "execution_count": null,
      "outputs": [
        {
          "output_type": "execute_result",
          "data": {
            "text/plain": [
              "            MSE       RMSE         MAE      MAPE\n",
              "0  29094.728667  170.57177  130.323547  0.013284"
            ],
            "text/html": [
              "\n",
              "  <div id=\"df-85c75ecc-334c-4c88-b3ca-c02c0fe7d159\">\n",
              "    <div class=\"colab-df-container\">\n",
              "      <div>\n",
              "<style scoped>\n",
              "    .dataframe tbody tr th:only-of-type {\n",
              "        vertical-align: middle;\n",
              "    }\n",
              "\n",
              "    .dataframe tbody tr th {\n",
              "        vertical-align: top;\n",
              "    }\n",
              "\n",
              "    .dataframe thead th {\n",
              "        text-align: right;\n",
              "    }\n",
              "</style>\n",
              "<table border=\"1\" class=\"dataframe\">\n",
              "  <thead>\n",
              "    <tr style=\"text-align: right;\">\n",
              "      <th></th>\n",
              "      <th>MSE</th>\n",
              "      <th>RMSE</th>\n",
              "      <th>MAE</th>\n",
              "      <th>MAPE</th>\n",
              "    </tr>\n",
              "  </thead>\n",
              "  <tbody>\n",
              "    <tr>\n",
              "      <th>0</th>\n",
              "      <td>29094.728667</td>\n",
              "      <td>170.57177</td>\n",
              "      <td>130.323547</td>\n",
              "      <td>0.013284</td>\n",
              "    </tr>\n",
              "  </tbody>\n",
              "</table>\n",
              "</div>\n",
              "      <button class=\"colab-df-convert\" onclick=\"convertToInteractive('df-85c75ecc-334c-4c88-b3ca-c02c0fe7d159')\"\n",
              "              title=\"Convert this dataframe to an interactive table.\"\n",
              "              style=\"display:none;\">\n",
              "        \n",
              "  <svg xmlns=\"http://www.w3.org/2000/svg\" height=\"24px\"viewBox=\"0 0 24 24\"\n",
              "       width=\"24px\">\n",
              "    <path d=\"M0 0h24v24H0V0z\" fill=\"none\"/>\n",
              "    <path d=\"M18.56 5.44l.94 2.06.94-2.06 2.06-.94-2.06-.94-.94-2.06-.94 2.06-2.06.94zm-11 1L8.5 8.5l.94-2.06 2.06-.94-2.06-.94L8.5 2.5l-.94 2.06-2.06.94zm10 10l.94 2.06.94-2.06 2.06-.94-2.06-.94-.94-2.06-.94 2.06-2.06.94z\"/><path d=\"M17.41 7.96l-1.37-1.37c-.4-.4-.92-.59-1.43-.59-.52 0-1.04.2-1.43.59L10.3 9.45l-7.72 7.72c-.78.78-.78 2.05 0 2.83L4 21.41c.39.39.9.59 1.41.59.51 0 1.02-.2 1.41-.59l7.78-7.78 2.81-2.81c.8-.78.8-2.07 0-2.86zM5.41 20L4 18.59l7.72-7.72 1.47 1.35L5.41 20z\"/>\n",
              "  </svg>\n",
              "      </button>\n",
              "      \n",
              "  <style>\n",
              "    .colab-df-container {\n",
              "      display:flex;\n",
              "      flex-wrap:wrap;\n",
              "      gap: 12px;\n",
              "    }\n",
              "\n",
              "    .colab-df-convert {\n",
              "      background-color: #E8F0FE;\n",
              "      border: none;\n",
              "      border-radius: 50%;\n",
              "      cursor: pointer;\n",
              "      display: none;\n",
              "      fill: #1967D2;\n",
              "      height: 32px;\n",
              "      padding: 0 0 0 0;\n",
              "      width: 32px;\n",
              "    }\n",
              "\n",
              "    .colab-df-convert:hover {\n",
              "      background-color: #E2EBFA;\n",
              "      box-shadow: 0px 1px 2px rgba(60, 64, 67, 0.3), 0px 1px 3px 1px rgba(60, 64, 67, 0.15);\n",
              "      fill: #174EA6;\n",
              "    }\n",
              "\n",
              "    [theme=dark] .colab-df-convert {\n",
              "      background-color: #3B4455;\n",
              "      fill: #D2E3FC;\n",
              "    }\n",
              "\n",
              "    [theme=dark] .colab-df-convert:hover {\n",
              "      background-color: #434B5C;\n",
              "      box-shadow: 0px 1px 3px 1px rgba(0, 0, 0, 0.15);\n",
              "      filter: drop-shadow(0px 1px 2px rgba(0, 0, 0, 0.3));\n",
              "      fill: #FFFFFF;\n",
              "    }\n",
              "  </style>\n",
              "\n",
              "      <script>\n",
              "        const buttonEl =\n",
              "          document.querySelector('#df-85c75ecc-334c-4c88-b3ca-c02c0fe7d159 button.colab-df-convert');\n",
              "        buttonEl.style.display =\n",
              "          google.colab.kernel.accessAllowed ? 'block' : 'none';\n",
              "\n",
              "        async function convertToInteractive(key) {\n",
              "          const element = document.querySelector('#df-85c75ecc-334c-4c88-b3ca-c02c0fe7d159');\n",
              "          const dataTable =\n",
              "            await google.colab.kernel.invokeFunction('convertToInteractive',\n",
              "                                                     [key], {});\n",
              "          if (!dataTable) return;\n",
              "\n",
              "          const docLinkHtml = 'Like what you see? Visit the ' +\n",
              "            '<a target=\"_blank\" href=https://colab.research.google.com/notebooks/data_table.ipynb>data table notebook</a>'\n",
              "            + ' to learn more about interactive tables.';\n",
              "          element.innerHTML = '';\n",
              "          dataTable['output_type'] = 'display_data';\n",
              "          await google.colab.output.renderOutput(dataTable, element);\n",
              "          const docLink = document.createElement('div');\n",
              "          docLink.innerHTML = docLinkHtml;\n",
              "          element.appendChild(docLink);\n",
              "        }\n",
              "      </script>\n",
              "    </div>\n",
              "  </div>\n",
              "  "
            ]
          },
          "metadata": {},
          "execution_count": 26
        }
      ]
    },
    {
      "cell_type": "code",
      "source": [
        "metrics_evaluation_regression(test_y[0], test_predict)"
      ],
      "metadata": {
        "colab": {
          "base_uri": "https://localhost:8080/",
          "height": 81
        },
        "outputId": "1a8ef2de-a253-4123-96d6-0021fbee4481",
        "id": "FOPeSzFe-HUm"
      },
      "execution_count": null,
      "outputs": [
        {
          "output_type": "execute_result",
          "data": {
            "text/plain": [
              "            MSE        RMSE        MAE      MAPE\n",
              "0  16603.909363  128.856158  90.679217  0.010844"
            ],
            "text/html": [
              "\n",
              "  <div id=\"df-bcf9cd48-415e-414e-95d6-e109e279a684\">\n",
              "    <div class=\"colab-df-container\">\n",
              "      <div>\n",
              "<style scoped>\n",
              "    .dataframe tbody tr th:only-of-type {\n",
              "        vertical-align: middle;\n",
              "    }\n",
              "\n",
              "    .dataframe tbody tr th {\n",
              "        vertical-align: top;\n",
              "    }\n",
              "\n",
              "    .dataframe thead th {\n",
              "        text-align: right;\n",
              "    }\n",
              "</style>\n",
              "<table border=\"1\" class=\"dataframe\">\n",
              "  <thead>\n",
              "    <tr style=\"text-align: right;\">\n",
              "      <th></th>\n",
              "      <th>MSE</th>\n",
              "      <th>RMSE</th>\n",
              "      <th>MAE</th>\n",
              "      <th>MAPE</th>\n",
              "    </tr>\n",
              "  </thead>\n",
              "  <tbody>\n",
              "    <tr>\n",
              "      <th>0</th>\n",
              "      <td>16603.909363</td>\n",
              "      <td>128.856158</td>\n",
              "      <td>90.679217</td>\n",
              "      <td>0.010844</td>\n",
              "    </tr>\n",
              "  </tbody>\n",
              "</table>\n",
              "</div>\n",
              "      <button class=\"colab-df-convert\" onclick=\"convertToInteractive('df-bcf9cd48-415e-414e-95d6-e109e279a684')\"\n",
              "              title=\"Convert this dataframe to an interactive table.\"\n",
              "              style=\"display:none;\">\n",
              "        \n",
              "  <svg xmlns=\"http://www.w3.org/2000/svg\" height=\"24px\"viewBox=\"0 0 24 24\"\n",
              "       width=\"24px\">\n",
              "    <path d=\"M0 0h24v24H0V0z\" fill=\"none\"/>\n",
              "    <path d=\"M18.56 5.44l.94 2.06.94-2.06 2.06-.94-2.06-.94-.94-2.06-.94 2.06-2.06.94zm-11 1L8.5 8.5l.94-2.06 2.06-.94-2.06-.94L8.5 2.5l-.94 2.06-2.06.94zm10 10l.94 2.06.94-2.06 2.06-.94-2.06-.94-.94-2.06-.94 2.06-2.06.94z\"/><path d=\"M17.41 7.96l-1.37-1.37c-.4-.4-.92-.59-1.43-.59-.52 0-1.04.2-1.43.59L10.3 9.45l-7.72 7.72c-.78.78-.78 2.05 0 2.83L4 21.41c.39.39.9.59 1.41.59.51 0 1.02-.2 1.41-.59l7.78-7.78 2.81-2.81c.8-.78.8-2.07 0-2.86zM5.41 20L4 18.59l7.72-7.72 1.47 1.35L5.41 20z\"/>\n",
              "  </svg>\n",
              "      </button>\n",
              "      \n",
              "  <style>\n",
              "    .colab-df-container {\n",
              "      display:flex;\n",
              "      flex-wrap:wrap;\n",
              "      gap: 12px;\n",
              "    }\n",
              "\n",
              "    .colab-df-convert {\n",
              "      background-color: #E8F0FE;\n",
              "      border: none;\n",
              "      border-radius: 50%;\n",
              "      cursor: pointer;\n",
              "      display: none;\n",
              "      fill: #1967D2;\n",
              "      height: 32px;\n",
              "      padding: 0 0 0 0;\n",
              "      width: 32px;\n",
              "    }\n",
              "\n",
              "    .colab-df-convert:hover {\n",
              "      background-color: #E2EBFA;\n",
              "      box-shadow: 0px 1px 2px rgba(60, 64, 67, 0.3), 0px 1px 3px 1px rgba(60, 64, 67, 0.15);\n",
              "      fill: #174EA6;\n",
              "    }\n",
              "\n",
              "    [theme=dark] .colab-df-convert {\n",
              "      background-color: #3B4455;\n",
              "      fill: #D2E3FC;\n",
              "    }\n",
              "\n",
              "    [theme=dark] .colab-df-convert:hover {\n",
              "      background-color: #434B5C;\n",
              "      box-shadow: 0px 1px 3px 1px rgba(0, 0, 0, 0.15);\n",
              "      filter: drop-shadow(0px 1px 2px rgba(0, 0, 0, 0.3));\n",
              "      fill: #FFFFFF;\n",
              "    }\n",
              "  </style>\n",
              "\n",
              "      <script>\n",
              "        const buttonEl =\n",
              "          document.querySelector('#df-bcf9cd48-415e-414e-95d6-e109e279a684 button.colab-df-convert');\n",
              "        buttonEl.style.display =\n",
              "          google.colab.kernel.accessAllowed ? 'block' : 'none';\n",
              "\n",
              "        async function convertToInteractive(key) {\n",
              "          const element = document.querySelector('#df-bcf9cd48-415e-414e-95d6-e109e279a684');\n",
              "          const dataTable =\n",
              "            await google.colab.kernel.invokeFunction('convertToInteractive',\n",
              "                                                     [key], {});\n",
              "          if (!dataTable) return;\n",
              "\n",
              "          const docLinkHtml = 'Like what you see? Visit the ' +\n",
              "            '<a target=\"_blank\" href=https://colab.research.google.com/notebooks/data_table.ipynb>data table notebook</a>'\n",
              "            + ' to learn more about interactive tables.';\n",
              "          element.innerHTML = '';\n",
              "          dataTable['output_type'] = 'display_data';\n",
              "          await google.colab.output.renderOutput(dataTable, element);\n",
              "          const docLink = document.createElement('div');\n",
              "          docLink.innerHTML = docLinkHtml;\n",
              "          element.appendChild(docLink);\n",
              "        }\n",
              "      </script>\n",
              "    </div>\n",
              "  </div>\n",
              "  "
            ]
          },
          "metadata": {},
          "execution_count": 27
        }
      ]
    },
    {
      "cell_type": "code",
      "source": [
        "plt.figure(figsize=(12,5))\n",
        "plt.plot(test_y[0])\n",
        "plt.plot(test_predict)\n",
        "plt.legend(['Data Aktual', 'Prediksi'])"
      ],
      "metadata": {
        "colab": {
          "base_uri": "https://localhost:8080/",
          "height": 337
        },
        "outputId": "cdec9da7-aedb-416f-c05e-ce27b8507b1c",
        "id": "3lPMECTg9Wjo"
      },
      "execution_count": null,
      "outputs": [
        {
          "output_type": "execute_result",
          "data": {
            "text/plain": [
              "<matplotlib.legend.Legend at 0x7fb400000110>"
            ]
          },
          "metadata": {},
          "execution_count": 28
        },
        {
          "output_type": "display_data",
          "data": {
            "text/plain": [
              "<Figure size 864x360 with 1 Axes>"
            ],
            "image/png": "[encoded data removed]"
          },
          "metadata": {
            "needs_background": "light"
          }
        }
      ]
    },
    {
      "cell_type": "code",
      "source": [
        "plt.figure(figsize=(12,5))\n",
        "plt.plot(test_y[0][-50:])\n",
        "plt.plot(test_predict[-50:])\n",
        "plt.legend(['Data Aktual', 'Prediksi'])"
      ],
      "metadata": {
        "colab": {
          "base_uri": "https://localhost:8080/",
          "height": 337
        },
        "outputId": "94623ff5-ea72-4716-8639-21dff36f407c",
        "id": "S0t8JxgV9Wj3"
      },
      "execution_count": null,
      "outputs": [
        {
          "output_type": "execute_result",
          "data": {
            "text/plain": [
              "<matplotlib.legend.Legend at 0x7fb3fd609150>"
            ]
          },
          "metadata": {},
          "execution_count": 29
        },
        {
          "output_type": "display_data",
          "data": {
            "text/plain": [
              "<Figure size 864x360 with 1 Axes>"
            ],
            "image/png": "[encoded data removed]"
          },
          "metadata": {
            "needs_background": "light"
          }
        }
      ]
    },
    {
      "cell_type": "markdown",
      "source": [
        "## CNN-LSTM"
      ],
      "metadata": {
        "id": "jVIfyYVRlEqL"
      }
    },
    {
      "cell_type": "markdown",
      "source": [
        "### Model"
      ],
      "metadata": {
        "id": "9l3aigHZ2f1m"
      }
    },
    {
      "cell_type": "code",
      "source": [
        "def cnnlstm_builder(hp):\n",
        "  n_steps, n_features = 5, 1\n",
        "  model = Sequential()\n",
        "\n",
        "  # Tune the number of units in the first Dense layer\n",
        "  # Choose an optimal value between 32-512\n",
        "  hp_filter = hp.Int('units_filter', min_value=32, max_value=512, step=32)\n",
        "  hp_units_lstm = hp.Int('units_lstm', min_value=32, max_value=512, step=32)\n",
        "  model.add(Reshape((n_steps, n_features), input_dim=n_steps))\n",
        "  model.add(Conv1D(filters=hp_filter, kernel_size=2, activation='relu'))\n",
        "  model.add(LSTM(hp_units_lstm, activation='relu'))\n",
        "  model.add(Dense(1))\n",
        "\n",
        "  # Tune the learning rate for the optimizer\n",
        "  # Choose an optimal value from 0.01, 0.001, or 0.0001\n",
        "  hp_learning_rate = hp.Choice('learning_rate', values=[1e-2, 1e-3, 1e-4])\n",
        "\n",
        "  model.compile(optimizer=keras.optimizers.Adam(learning_rate=hp_learning_rate), loss='mse')\n",
        "\n",
        "  return model"
      ],
      "metadata": {
        "id": "dhbhyRgbJubR"
      },
      "execution_count": 72,
      "outputs": []
    },
    {
      "cell_type": "code",
      "source": [
        "cnntuner = kt.RandomSearch(cnnlstm_builder,\n",
        "                     objective='val_loss',\n",
        "                     max_trials=15,\n",
        "                     seed=42,\n",
        "                     executions_per_trial=2,\n",
        "                     directory='icbp',\n",
        "                     overwrite=True,\n",
        "                     project_name='cnn-lstm'\n",
        "                    # # FOR TRAIN ONLY\n",
        "                    # # --------------\n",
        "                     )"
      ],
      "metadata": {
        "id": "fi8U8eFdKKVe"
      },
      "execution_count": 74,
      "outputs": []
    },
    {
      "cell_type": "code",
      "source": [
        "cnntuner.search(X_train2, y_train2, epochs=50, validation_split=0.2)"
      ],
      "metadata": {
        "colab": {
          "base_uri": "https://localhost:8080/"
        },
        "id": "veNZS8rKbyel",
        "outputId": "262a0ac5-4e43-457a-ac8a-147a52e2d202"
      },
      "execution_count": 75,
      "outputs": [
        {
          "output_type": "stream",
          "name": "stdout",
          "text": [
            "Trial 15 Complete [00h 01m 25s]\n",
            "val_loss: 0.0006258178036659956\n",
            "\n",
            "Best val_loss So Far: 0.0006176525203045458\n",
            "Total elapsed time: 00h 25m 43s\n",
            "INFO:tensorflow:Oracle triggered exit\n"
          ]
        }
      ]
    },
    {
      "cell_type": "code",
      "source": [
        "# Get the optimal hyperparameters\n",
        "best_hps=cnntuner.get_best_hyperparameters(num_trials=1)[0]\n",
        "\n",
        "tuning = ['units_lstm', 'learning_rate', 'units_filter']\n",
        "print('Best tune:')\n",
        "for tune in tuning:\n",
        "  print(f'{tune}: {best_hps.get(tune)}')"
      ],
      "metadata": {
        "id": "fnz6l881b0E7",
        "colab": {
          "base_uri": "https://localhost:8080/"
        },
        "outputId": "14363fb8-1e9f-41f7-d2ed-cc9681e8c6b6"
      },
      "execution_count": 76,
      "outputs": [
        {
          "output_type": "stream",
          "name": "stdout",
          "text": [
            "Best tune:\n",
            "units_lstm: 256\n",
            "learning_rate: 0.001\n",
            "units_filter: 256\n"
          ]
        }
      ]
    },
    {
      "cell_type": "code",
      "source": [
        "cnntuner.results_summary(num_trials=10)"
      ],
      "metadata": {
        "colab": {
          "base_uri": "https://localhost:8080/"
        },
        "outputId": "fe03ad75-c19a-48b6-f904-544991a273b2",
        "id": "IfND-qRmL6ZP"
      },
      "execution_count": 77,
      "outputs": [
        {
          "output_type": "stream",
          "name": "stdout",
          "text": [
            "Results summary\n",
            "Results in icbp/cnn-lstm\n",
            "Showing 10 best trials\n",
            "<keras_tuner.engine.objective.Objective object at 0x7fb40059fdd0>\n",
            "Trial summary\n",
            "Hyperparameters:\n",
            "units_filter: 256\n",
            "units_lstm: 256\n",
            "learning_rate: 0.001\n",
            "Score: 0.0006176525203045458\n",
            "Trial summary\n",
            "Hyperparameters:\n",
            "units_filter: 352\n",
            "units_lstm: 480\n",
            "learning_rate: 0.001\n",
            "Score: 0.0006194192974362522\n",
            "Trial summary\n",
            "Hyperparameters:\n",
            "units_filter: 256\n",
            "units_lstm: 224\n",
            "learning_rate: 0.001\n",
            "Score: 0.0006206651451066136\n",
            "Trial summary\n",
            "Hyperparameters:\n",
            "units_filter: 160\n",
            "units_lstm: 448\n",
            "learning_rate: 0.001\n",
            "Score: 0.0006233327439986169\n",
            "Trial summary\n",
            "Hyperparameters:\n",
            "units_filter: 384\n",
            "units_lstm: 128\n",
            "learning_rate: 0.01\n",
            "Score: 0.0006258178036659956\n",
            "Trial summary\n",
            "Hyperparameters:\n",
            "units_filter: 288\n",
            "units_lstm: 96\n",
            "learning_rate: 0.001\n",
            "Score: 0.0006263350078370422\n",
            "Trial summary\n",
            "Hyperparameters:\n",
            "units_filter: 64\n",
            "units_lstm: 320\n",
            "learning_rate: 0.01\n",
            "Score: 0.0006283823749981821\n",
            "Trial summary\n",
            "Hyperparameters:\n",
            "units_filter: 288\n",
            "units_lstm: 64\n",
            "learning_rate: 0.001\n",
            "Score: 0.0006296433275565505\n",
            "Trial summary\n",
            "Hyperparameters:\n",
            "units_filter: 416\n",
            "units_lstm: 96\n",
            "learning_rate: 0.001\n",
            "Score: 0.000630610651569441\n",
            "Trial summary\n",
            "Hyperparameters:\n",
            "units_filter: 352\n",
            "units_lstm: 64\n",
            "learning_rate: 0.001\n",
            "Score: 0.0006322707049548626\n"
          ]
        }
      ]
    },
    {
      "cell_type": "code",
      "source": [
        "best_hp = cnntuner.get_best_hyperparameters()[0]\n",
        "lstmcnn = cnntuner.hypermodel.build(best_hp)\n",
        "\n",
        "lstmcnn.summary()"
      ],
      "metadata": {
        "colab": {
          "base_uri": "https://localhost:8080/"
        },
        "outputId": "188da6e9-94ab-47a1-a4c2-366b456bd41f",
        "id": "BUnSC7g7L6ZQ"
      },
      "execution_count": 78,
      "outputs": [
        {
          "output_type": "stream",
          "name": "stdout",
          "text": [
            "Model: \"sequential_1\"\n",
            "_________________________________________________________________\n",
            " Layer (type)                Output Shape              Param #   \n",
            "=================================================================\n",
            " reshape_1 (Reshape)         (None, 5, 1)              0         \n",
            "                                                                 \n",
            " conv1d_1 (Conv1D)           (None, 4, 256)            768       \n",
            "                                                                 \n",
            " lstm_1 (LSTM)               (None, 256)               525312    \n",
            "                                                                 \n",
            " dense_1 (Dense)             (None, 1)                 257       \n",
            "                                                                 \n",
            "=================================================================\n",
            "Total params: 526,337\n",
            "Trainable params: 526,337\n",
            "Non-trainable params: 0\n",
            "_________________________________________________________________\n"
          ]
        }
      ]
    },
    {
      "cell_type": "code",
      "source": [
        "historylstmncnn = lstmcnn.fit(X_train2, y_train2, epochs=50, validation_data=(X_test2, y_test2))"
      ],
      "metadata": {
        "colab": {
          "base_uri": "https://localhost:8080/"
        },
        "outputId": "1e088155-b687-477e-facb-124777081d14",
        "id": "NOvJxXDvMLKK"
      },
      "execution_count": 79,
      "outputs": [
        {
          "metadata": {
            "tags": null
          },
          "name": "stdout",
          "output_type": "stream",
          "text": [
            "Epoch 1/50\n",
            "46/46 [==============================] - 3s 35ms/step - loss: 0.0244 - val_loss: 0.0012\n",
            "Epoch 2/50\n",
            "46/46 [==============================] - 1s 29ms/step - loss: 0.0014 - val_loss: 9.4423e-04\n",
            "Epoch 3/50\n",
            "46/46 [==============================] - 1s 30ms/step - loss: 0.0013 - val_loss: 9.0892e-04\n",
            "Epoch 4/50\n",
            "46/46 [==============================] - 1s 30ms/step - loss: 0.0013 - val_loss: 8.5581e-04\n",
            "Epoch 5/50\n",
            "46/46 [==============================] - 1s 30ms/step - loss: 0.0012 - val_loss: 8.4624e-04\n",
            "Epoch 6/50\n",
            "46/46 [==============================] - 1s 29ms/step - loss: 0.0012 - val_loss: 8.9062e-04\n",
            "Epoch 7/50\n",
            "46/46 [==============================] - 1s 30ms/step - loss: 0.0012 - val_loss: 7.7017e-04\n",
            "Epoch 8/50\n",
            "46/46 [==============================] - 1s 30ms/step - loss: 0.0012 - val_loss: 7.2443e-04\n",
            "Epoch 9/50\n",
            "46/46 [==============================] - 1s 31ms/step - loss: 0.0011 - val_loss: 6.9770e-04\n",
            "Epoch 10/50\n",
            "46/46 [==============================] - 1s 31ms/step - loss: 0.0011 - val_loss: 6.9795e-04\n",
            "Epoch 11/50\n",
            "46/46 [==============================] - 1s 30ms/step - loss: 0.0011 - val_loss: 7.1717e-04\n",
            "Epoch 12/50\n",
            "46/46 [==============================] - 1s 30ms/step - loss: 0.0010 - val_loss: 6.0798e-04\n",
            "Epoch 13/50\n",
            "46/46 [==============================] - 1s 31ms/step - loss: 0.0011 - val_loss: 9.2442e-04\n",
            "Epoch 14/50\n",
            "46/46 [==============================] - 1s 28ms/step - loss: 0.0010 - val_loss: 6.1181e-04\n",
            "Epoch 15/50\n",
            "46/46 [==============================] - 1s 28ms/step - loss: 9.5327e-04 - val_loss: 5.6419e-04\n",
            "Epoch 16/50\n",
            "46/46 [==============================] - 1s 29ms/step - loss: 9.2137e-04 - val_loss: 6.5902e-04\n",
            "Epoch 17/50\n",
            "46/46 [==============================] - 1s 31ms/step - loss: 8.6062e-04 - val_loss: 5.1671e-04\n",
            "Epoch 18/50\n",
            "46/46 [==============================] - 1s 29ms/step - loss: 9.0513e-04 - val_loss: 7.3370e-04\n",
            "Epoch 19/50\n",
            "46/46 [==============================] - 1s 31ms/step - loss: 8.3132e-04 - val_loss: 6.3730e-04\n",
            "Epoch 20/50\n",
            "46/46 [==============================] - 1s 29ms/step - loss: 8.3424e-04 - val_loss: 4.9459e-04\n",
            "Epoch 21/50\n",
            "46/46 [==============================] - 1s 30ms/step - loss: 8.4517e-04 - val_loss: 4.8588e-04\n",
            "Epoch 22/50\n",
            "46/46 [==============================] - 1s 29ms/step - loss: 8.2578e-04 - val_loss: 4.9012e-04\n",
            "Epoch 23/50\n",
            "46/46 [==============================] - 1s 29ms/step - loss: 7.7644e-04 - val_loss: 6.0285e-04\n",
            "Epoch 24/50\n",
            "46/46 [==============================] - 1s 28ms/step - loss: 7.6143e-04 - val_loss: 4.5559e-04\n",
            "Epoch 25/50\n",
            "46/46 [==============================] - 1s 29ms/step - loss: 7.5054e-04 - val_loss: 4.9579e-04\n",
            "Epoch 26/50\n",
            "46/46 [==============================] - 1s 29ms/step - loss: 7.3248e-04 - val_loss: 4.5738e-04\n",
            "Epoch 27/50\n",
            "46/46 [==============================] - 1s 29ms/step - loss: 7.4557e-04 - val_loss: 4.4674e-04\n",
            "Epoch 28/50\n",
            "46/46 [==============================] - 1s 29ms/step - loss: 7.6658e-04 - val_loss: 4.5516e-04\n",
            "Epoch 29/50\n",
            "46/46 [==============================] - 1s 29ms/step - loss: 7.4833e-04 - val_loss: 6.5646e-04\n",
            "Epoch 30/50\n",
            "46/46 [==============================] - 1s 30ms/step - loss: 9.2702e-04 - val_loss: 4.7750e-04\n",
            "Epoch 31/50\n",
            "46/46 [==============================] - 1s 29ms/step - loss: 7.3682e-04 - val_loss: 5.0797e-04\n",
            "Epoch 32/50\n",
            "46/46 [==============================] - 1s 29ms/step - loss: 7.1539e-04 - val_loss: 4.6232e-04\n",
            "Epoch 33/50\n",
            "46/46 [==============================] - 1s 29ms/step - loss: 7.2924e-04 - val_loss: 5.0982e-04\n",
            "Epoch 34/50\n",
            "46/46 [==============================] - 1s 29ms/step - loss: 7.3293e-04 - val_loss: 4.5193e-04\n",
            "Epoch 35/50\n",
            "46/46 [==============================] - 1s 29ms/step - loss: 7.2351e-04 - val_loss: 4.5767e-04\n",
            "Epoch 36/50\n",
            "46/46 [==============================] - 1s 30ms/step - loss: 7.6292e-04 - val_loss: 4.9558e-04\n",
            "Epoch 37/50\n",
            "46/46 [==============================] - 1s 28ms/step - loss: 7.1398e-04 - val_loss: 4.6810e-04\n",
            "Epoch 38/50\n",
            "46/46 [==============================] - 1s 28ms/step - loss: 7.6362e-04 - val_loss: 5.3151e-04\n",
            "Epoch 39/50\n",
            "46/46 [==============================] - 1s 29ms/step - loss: 7.9192e-04 - val_loss: 4.8951e-04\n",
            "Epoch 40/50\n",
            "46/46 [==============================] - 1s 28ms/step - loss: 7.2580e-04 - val_loss: 4.8234e-04\n",
            "Epoch 41/50\n",
            "46/46 [==============================] - 1s 28ms/step - loss: 7.5135e-04 - val_loss: 4.8352e-04\n",
            "Epoch 42/50\n",
            "46/46 [==============================] - 1s 30ms/step - loss: 7.1813e-04 - val_loss: 6.7845e-04\n",
            "Epoch 43/50\n",
            "46/46 [==============================] - 1s 31ms/step - loss: 7.3100e-04 - val_loss: 4.9027e-04\n",
            "Epoch 44/50\n",
            "46/46 [==============================] - 1s 31ms/step - loss: 7.6319e-04 - val_loss: 6.1291e-04\n",
            "Epoch 45/50\n",
            "46/46 [==============================] - 1s 30ms/step - loss: 8.7107e-04 - val_loss: 4.8138e-04\n",
            "Epoch 46/50\n",
            "46/46 [==============================] - 1s 29ms/step - loss: 7.1361e-04 - val_loss: 4.7354e-04\n",
            "Epoch 47/50\n",
            "46/46 [==============================] - 1s 29ms/step - loss: 7.1615e-04 - val_loss: 4.7111e-04\n",
            "Epoch 48/50\n",
            "46/46 [==============================] - 1s 30ms/step - loss: 7.2700e-04 - val_loss: 4.6988e-04\n",
            "Epoch 49/50\n",
            "46/46 [==============================] - 1s 30ms/step - loss: 7.3060e-04 - val_loss: 4.6673e-04\n",
            "Epoch 50/50\n",
            "46/46 [==============================] - 1s 29ms/step - loss: 7.4789e-04 - val_loss: 4.8672e-04\n"
          ]
        }
      ]
    },
    {
      "cell_type": "code",
      "source": [
        "lstmcnn.save('cnn_lstm.h5')"
      ],
      "metadata": {
        "id": "LkywBFCtwOkW"
      },
      "execution_count": 80,
      "outputs": []
    },
    {
      "cell_type": "markdown",
      "source": [
        "### Evaluation"
      ],
      "metadata": {
        "id": "KpOWP0-v2j0V"
      }
    },
    {
      "cell_type": "code",
      "source": [
        "cnn_train = lstmcnn.predict(X_train2)\n",
        "cnn_test = lstmcnn.predict(X_test2)\n",
        "\n",
        "cnn_train = scaler.inverse_transform(cnn_train)\n",
        "train_y = scaler.inverse_transform(y_train2)\n",
        "cnn_test = scaler.inverse_transform(cnn_test)\n",
        "test_y = scaler.inverse_transform(y_test2)"
      ],
      "metadata": {
        "id": "0dQhOs6201QI"
      },
      "execution_count": 81,
      "outputs": []
    },
    {
      "cell_type": "code",
      "source": [
        "plt.figure(figsize=(12,5))\n",
        "plt.plot(historylstmncnn.history['loss'][:50])\n",
        "plt.plot(historylstmncnn.history['val_loss'][:50])"
      ],
      "metadata": {
        "colab": {
          "base_uri": "https://localhost:8080/",
          "height": 337
        },
        "id": "4JU16Fp5tKTB",
        "outputId": "06d2d5c5-27d8-45e8-8511-f917ee0e3da7"
      },
      "execution_count": 82,
      "outputs": [
        {
          "output_type": "execute_result",
          "data": {
            "text/plain": [
              "[<matplotlib.lines.Line2D at 0x7fb400525610>]"
            ]
          },
          "metadata": {},
          "execution_count": 82
        },
        {
          "output_type": "display_data",
          "data": {
            "text/plain": [
              "<Figure size 864x360 with 1 Axes>"
            ],
            "image/png": "[encoded data removed]"
          },
          "metadata": {
            "needs_background": "light"
          }
        }
      ]
    },
    {
      "cell_type": "code",
      "source": [
        "def metrics_evaluation_regression(test, predict):\n",
        "  metrics = pd.DataFrame({\n",
        "      'MSE': [mean_squared_error(test, predict)],\n",
        "      'RMSE': [np.sqrt(mean_squared_error(test, predict))],\n",
        "      'MAE': [mean_absolute_error(test, predict)],\n",
        "      'MAPE': [mean_absolute_percentage_error(test, predict)]\n",
        "  })\n",
        "  return metrics "
      ],
      "metadata": {
        "id": "M3z2UT5sEEAN"
      },
      "execution_count": 83,
      "outputs": []
    },
    {
      "cell_type": "code",
      "source": [
        "metrics_evaluation_regression(train_y, cnn_train)"
      ],
      "metadata": {
        "colab": {
          "base_uri": "https://localhost:8080/",
          "height": 81
        },
        "id": "FgryO7avuZ3B",
        "outputId": "c39faaa8-fc6a-4dc2-db4f-37db203e2fc5"
      },
      "execution_count": 84,
      "outputs": [
        {
          "output_type": "execute_result",
          "data": {
            "text/plain": [
              "            MSE       RMSE        MAE      MAPE\n",
              "0  17799.764976  133.41576  75.328293  0.007898"
            ],
            "text/html": [
              "\n",
              "  <div id=\"df-6cf9c621-9a85-4171-891c-0513d9e3dd92\">\n",
              "    <div class=\"colab-df-container\">\n",
              "      <div>\n",
              "<style scoped>\n",
              "    .dataframe tbody tr th:only-of-type {\n",
              "        vertical-align: middle;\n",
              "    }\n",
              "\n",
              "    .dataframe tbody tr th {\n",
              "        vertical-align: top;\n",
              "    }\n",
              "\n",
              "    .dataframe thead th {\n",
              "        text-align: right;\n",
              "    }\n",
              "</style>\n",
              "<table border=\"1\" class=\"dataframe\">\n",
              "  <thead>\n",
              "    <tr style=\"text-align: right;\">\n",
              "      <th></th>\n",
              "      <th>MSE</th>\n",
              "      <th>RMSE</th>\n",
              "      <th>MAE</th>\n",
              "      <th>MAPE</th>\n",
              "    </tr>\n",
              "  </thead>\n",
              "  <tbody>\n",
              "    <tr>\n",
              "      <th>0</th>\n",
              "      <td>17799.764976</td>\n",
              "      <td>133.41576</td>\n",
              "      <td>75.328293</td>\n",
              "      <td>0.007898</td>\n",
              "    </tr>\n",
              "  </tbody>\n",
              "</table>\n",
              "</div>\n",
              "      <button class=\"colab-df-convert\" onclick=\"convertToInteractive('df-6cf9c621-9a85-4171-891c-0513d9e3dd92')\"\n",
              "              title=\"Convert this dataframe to an interactive table.\"\n",
              "              style=\"display:none;\">\n",
              "        \n",
              "  <svg xmlns=\"http://www.w3.org/2000/svg\" height=\"24px\"viewBox=\"0 0 24 24\"\n",
              "       width=\"24px\">\n",
              "    <path d=\"M0 0h24v24H0V0z\" fill=\"none\"/>\n",
              "    <path d=\"M18.56 5.44l.94 2.06.94-2.06 2.06-.94-2.06-.94-.94-2.06-.94 2.06-2.06.94zm-11 1L8.5 8.5l.94-2.06 2.06-.94-2.06-.94L8.5 2.5l-.94 2.06-2.06.94zm10 10l.94 2.06.94-2.06 2.06-.94-2.06-.94-.94-2.06-.94 2.06-2.06.94z\"/><path d=\"M17.41 7.96l-1.37-1.37c-.4-.4-.92-.59-1.43-.59-.52 0-1.04.2-1.43.59L10.3 9.45l-7.72 7.72c-.78.78-.78 2.05 0 2.83L4 21.41c.39.39.9.59 1.41.59.51 0 1.02-.2 1.41-.59l7.78-7.78 2.81-2.81c.8-.78.8-2.07 0-2.86zM5.41 20L4 18.59l7.72-7.72 1.47 1.35L5.41 20z\"/>\n",
              "  </svg>\n",
              "      </button>\n",
              "      \n",
              "  <style>\n",
              "    .colab-df-container {\n",
              "      display:flex;\n",
              "      flex-wrap:wrap;\n",
              "      gap: 12px;\n",
              "    }\n",
              "\n",
              "    .colab-df-convert {\n",
              "      background-color: #E8F0FE;\n",
              "      border: none;\n",
              "      border-radius: 50%;\n",
              "      cursor: pointer;\n",
              "      display: none;\n",
              "      fill: #1967D2;\n",
              "      height: 32px;\n",
              "      padding: 0 0 0 0;\n",
              "      width: 32px;\n",
              "    }\n",
              "\n",
              "    .colab-df-convert:hover {\n",
              "      background-color: #E2EBFA;\n",
              "      box-shadow: 0px 1px 2px rgba(60, 64, 67, 0.3), 0px 1px 3px 1px rgba(60, 64, 67, 0.15);\n",
              "      fill: #174EA6;\n",
              "    }\n",
              "\n",
              "    [theme=dark] .colab-df-convert {\n",
              "      background-color: #3B4455;\n",
              "      fill: #D2E3FC;\n",
              "    }\n",
              "\n",
              "    [theme=dark] .colab-df-convert:hover {\n",
              "      background-color: #434B5C;\n",
              "      box-shadow: 0px 1px 3px 1px rgba(0, 0, 0, 0.15);\n",
              "      filter: drop-shadow(0px 1px 2px rgba(0, 0, 0, 0.3));\n",
              "      fill: #FFFFFF;\n",
              "    }\n",
              "  </style>\n",
              "\n",
              "      <script>\n",
              "        const buttonEl =\n",
              "          document.querySelector('#df-6cf9c621-9a85-4171-891c-0513d9e3dd92 button.colab-df-convert');\n",
              "        buttonEl.style.display =\n",
              "          google.colab.kernel.accessAllowed ? 'block' : 'none';\n",
              "\n",
              "        async function convertToInteractive(key) {\n",
              "          const element = document.querySelector('#df-6cf9c621-9a85-4171-891c-0513d9e3dd92');\n",
              "          const dataTable =\n",
              "            await google.colab.kernel.invokeFunction('convertToInteractive',\n",
              "                                                     [key], {});\n",
              "          if (!dataTable) return;\n",
              "\n",
              "          const docLinkHtml = 'Like what you see? Visit the ' +\n",
              "            '<a target=\"_blank\" href=https://colab.research.google.com/notebooks/data_table.ipynb>data table notebook</a>'\n",
              "            + ' to learn more about interactive tables.';\n",
              "          element.innerHTML = '';\n",
              "          dataTable['output_type'] = 'display_data';\n",
              "          await google.colab.output.renderOutput(dataTable, element);\n",
              "          const docLink = document.createElement('div');\n",
              "          docLink.innerHTML = docLinkHtml;\n",
              "          element.appendChild(docLink);\n",
              "        }\n",
              "      </script>\n",
              "    </div>\n",
              "  </div>\n",
              "  "
            ]
          },
          "metadata": {},
          "execution_count": 84
        }
      ]
    },
    {
      "cell_type": "code",
      "source": [
        "metrics_evaluation_regression(test_y, cnn_test)"
      ],
      "metadata": {
        "colab": {
          "base_uri": "https://localhost:8080/",
          "height": 81
        },
        "id": "zUwQ95jtvmqn",
        "outputId": "ebc1aade-e417-4647-d0b7-5cf54993f022"
      },
      "execution_count": 85,
      "outputs": [
        {
          "output_type": "execute_result",
          "data": {
            "text/plain": [
              "            MSE        RMSE        MAE      MAPE\n",
              "0  12909.022088  113.617878  73.801552  0.008897"
            ],
            "text/html": [
              "\n",
              "  <div id=\"df-8ef18724-7af3-44d8-9d12-468adcc0f4f4\">\n",
              "    <div class=\"colab-df-container\">\n",
              "      <div>\n",
              "<style scoped>\n",
              "    .dataframe tbody tr th:only-of-type {\n",
              "        vertical-align: middle;\n",
              "    }\n",
              "\n",
              "    .dataframe tbody tr th {\n",
              "        vertical-align: top;\n",
              "    }\n",
              "\n",
              "    .dataframe thead th {\n",
              "        text-align: right;\n",
              "    }\n",
              "</style>\n",
              "<table border=\"1\" class=\"dataframe\">\n",
              "  <thead>\n",
              "    <tr style=\"text-align: right;\">\n",
              "      <th></th>\n",
              "      <th>MSE</th>\n",
              "      <th>RMSE</th>\n",
              "      <th>MAE</th>\n",
              "      <th>MAPE</th>\n",
              "    </tr>\n",
              "  </thead>\n",
              "  <tbody>\n",
              "    <tr>\n",
              "      <th>0</th>\n",
              "      <td>12909.022088</td>\n",
              "      <td>113.617878</td>\n",
              "      <td>73.801552</td>\n",
              "      <td>0.008897</td>\n",
              "    </tr>\n",
              "  </tbody>\n",
              "</table>\n",
              "</div>\n",
              "      <button class=\"colab-df-convert\" onclick=\"convertToInteractive('df-8ef18724-7af3-44d8-9d12-468adcc0f4f4')\"\n",
              "              title=\"Convert this dataframe to an interactive table.\"\n",
              "              style=\"display:none;\">\n",
              "        \n",
              "  <svg xmlns=\"http://www.w3.org/2000/svg\" height=\"24px\"viewBox=\"0 0 24 24\"\n",
              "       width=\"24px\">\n",
              "    <path d=\"M0 0h24v24H0V0z\" fill=\"none\"/>\n",
              "    <path d=\"M18.56 5.44l.94 2.06.94-2.06 2.06-.94-2.06-.94-.94-2.06-.94 2.06-2.06.94zm-11 1L8.5 8.5l.94-2.06 2.06-.94-2.06-.94L8.5 2.5l-.94 2.06-2.06.94zm10 10l.94 2.06.94-2.06 2.06-.94-2.06-.94-.94-2.06-.94 2.06-2.06.94z\"/><path d=\"M17.41 7.96l-1.37-1.37c-.4-.4-.92-.59-1.43-.59-.52 0-1.04.2-1.43.59L10.3 9.45l-7.72 7.72c-.78.78-.78 2.05 0 2.83L4 21.41c.39.39.9.59 1.41.59.51 0 1.02-.2 1.41-.59l7.78-7.78 2.81-2.81c.8-.78.8-2.07 0-2.86zM5.41 20L4 18.59l7.72-7.72 1.47 1.35L5.41 20z\"/>\n",
              "  </svg>\n",
              "      </button>\n",
              "      \n",
              "  <style>\n",
              "    .colab-df-container {\n",
              "      display:flex;\n",
              "      flex-wrap:wrap;\n",
              "      gap: 12px;\n",
              "    }\n",
              "\n",
              "    .colab-df-convert {\n",
              "      background-color: #E8F0FE;\n",
              "      border: none;\n",
              "      border-radius: 50%;\n",
              "      cursor: pointer;\n",
              "      display: none;\n",
              "      fill: #1967D2;\n",
              "      height: 32px;\n",
              "      padding: 0 0 0 0;\n",
              "      width: 32px;\n",
              "    }\n",
              "\n",
              "    .colab-df-convert:hover {\n",
              "      background-color: #E2EBFA;\n",
              "      box-shadow: 0px 1px 2px rgba(60, 64, 67, 0.3), 0px 1px 3px 1px rgba(60, 64, 67, 0.15);\n",
              "      fill: #174EA6;\n",
              "    }\n",
              "\n",
              "    [theme=dark] .colab-df-convert {\n",
              "      background-color: #3B4455;\n",
              "      fill: #D2E3FC;\n",
              "    }\n",
              "\n",
              "    [theme=dark] .colab-df-convert:hover {\n",
              "      background-color: #434B5C;\n",
              "      box-shadow: 0px 1px 3px 1px rgba(0, 0, 0, 0.15);\n",
              "      filter: drop-shadow(0px 1px 2px rgba(0, 0, 0, 0.3));\n",
              "      fill: #FFFFFF;\n",
              "    }\n",
              "  </style>\n",
              "\n",
              "      <script>\n",
              "        const buttonEl =\n",
              "          document.querySelector('#df-8ef18724-7af3-44d8-9d12-468adcc0f4f4 button.colab-df-convert');\n",
              "        buttonEl.style.display =\n",
              "          google.colab.kernel.accessAllowed ? 'block' : 'none';\n",
              "\n",
              "        async function convertToInteractive(key) {\n",
              "          const element = document.querySelector('#df-8ef18724-7af3-44d8-9d12-468adcc0f4f4');\n",
              "          const dataTable =\n",
              "            await google.colab.kernel.invokeFunction('convertToInteractive',\n",
              "                                                     [key], {});\n",
              "          if (!dataTable) return;\n",
              "\n",
              "          const docLinkHtml = 'Like what you see? Visit the ' +\n",
              "            '<a target=\"_blank\" href=https://colab.research.google.com/notebooks/data_table.ipynb>data table notebook</a>'\n",
              "            + ' to learn more about interactive tables.';\n",
              "          element.innerHTML = '';\n",
              "          dataTable['output_type'] = 'display_data';\n",
              "          await google.colab.output.renderOutput(dataTable, element);\n",
              "          const docLink = document.createElement('div');\n",
              "          docLink.innerHTML = docLinkHtml;\n",
              "          element.appendChild(docLink);\n",
              "        }\n",
              "      </script>\n",
              "    </div>\n",
              "  </div>\n",
              "  "
            ]
          },
          "metadata": {},
          "execution_count": 85
        }
      ]
    },
    {
      "cell_type": "code",
      "source": [
        "plt.figure(figsize=(12,5))\n",
        "plt.plot(train_y)\n",
        "plt.plot(cnn_train)"
      ],
      "metadata": {
        "colab": {
          "base_uri": "https://localhost:8080/",
          "height": 337
        },
        "id": "W9bgAMbwvByY",
        "outputId": "4b0e3bdd-7ea2-47b5-c980-7bcab6b7e60c"
      },
      "execution_count": 86,
      "outputs": [
        {
          "output_type": "execute_result",
          "data": {
            "text/plain": [
              "[<matplotlib.lines.Line2D at 0x7fb3ff214510>]"
            ]
          },
          "metadata": {},
          "execution_count": 86
        },
        {
          "output_type": "display_data",
          "data": {
            "text/plain": [
              "<Figure size 864x360 with 1 Axes>"
            ],
            "image/png": "[encoded data removed]"
          },
          "metadata": {
            "needs_background": "light"
          }
        }
      ]
    },
    {
      "cell_type": "code",
      "source": [
        "plt.figure(figsize=(12,5))\n",
        "plt.plot(test_y)\n",
        "plt.plot(cnn_test)"
      ],
      "metadata": {
        "colab": {
          "base_uri": "https://localhost:8080/",
          "height": 337
        },
        "id": "z6kL4WyzvaTQ",
        "outputId": "b39059c1-5391-4e5a-fcfb-e7253168bfa0"
      },
      "execution_count": 87,
      "outputs": [
        {
          "output_type": "execute_result",
          "data": {
            "text/plain": [
              "[<matplotlib.lines.Line2D at 0x7fb400564550>]"
            ]
          },
          "metadata": {},
          "execution_count": 87
        },
        {
          "output_type": "display_data",
          "data": {
            "text/plain": [
              "<Figure size 864x360 with 1 Axes>"
            ],
            "image/png": "[encoded data removed]"
          },
          "metadata": {
            "needs_background": "light"
          }
        }
      ]
    },
    {
      "cell_type": "markdown",
      "source": [
        "## BiLSTM"
      ],
      "metadata": {
        "id": "FTmWcMQlIUNE"
      }
    },
    {
      "cell_type": "markdown",
      "source": [
        "### Model"
      ],
      "metadata": {
        "id": "2wSetkRLJNqo"
      }
    },
    {
      "cell_type": "code",
      "source": [
        "def bilstm_builder(hp):\n",
        "  model = Sequential()\n",
        "\n",
        "  # Tune the number of units in the first Dense layer\n",
        "  # Choose an optimal value between 32-512\n",
        "  hp_units_lstm = hp.Int('units_lstm', min_value=32, max_value=512, step=32)\n",
        "  model.add(Bidirectional(LSTM(hp_units_lstm, activation='relu', input_shape=(1, 5))))\n",
        "  model.add(Dense(1))\n",
        "\n",
        "  # Tune the learning rate for the optimizer\n",
        "  # Choose an optimal value from 0.01, 0.001, or 0.0001\n",
        "  hp_learning_rate = hp.Choice('learning_rate', values=[1e-2, 1e-3, 1e-4])\n",
        "\n",
        "  model.compile(optimizer=keras.optimizers.Adam(learning_rate=hp_learning_rate), loss='mse')\n",
        "\n",
        "  return model"
      ],
      "metadata": {
        "id": "F7YhkdfxMbRV"
      },
      "execution_count": null,
      "outputs": []
    },
    {
      "cell_type": "code",
      "source": [
        "bilstmtuner = kt.RandomSearch(bilstm_builder,\n",
        "                     objective='val_loss',\n",
        "                     max_trials=15,\n",
        "                     seed=42,\n",
        "                     executions_per_trial=2,\n",
        "                     directory='icbp',\n",
        "                     project_name='bi-lstm'\n",
        "                    # # FOR TRAIN ONLY\n",
        "                    #  overwrite=True\n",
        "                    # # --------------\n",
        "                     )"
      ],
      "metadata": {
        "id": "F57a2UsxMbRY"
      },
      "execution_count": null,
      "outputs": []
    },
    {
      "cell_type": "code",
      "source": [
        "bilstmtuner.search(X_train, y_train, epochs=50, validation_split=0.2)"
      ],
      "metadata": {
        "colab": {
          "base_uri": "https://localhost:8080/"
        },
        "id": "MY3W10s5Rhpu",
        "outputId": "61611f26-69ea-410e-93ad-697aeb1b1031"
      },
      "execution_count": null,
      "outputs": [
        {
          "output_type": "stream",
          "name": "stdout",
          "text": [
            "Trial 15 Complete [00h 01m 21s]\n",
            "val_loss: 0.0006299819506239146\n",
            "\n",
            "Best val_loss So Far: 0.0006260778463911265\n",
            "Total elapsed time: 00h 19m 07s\n",
            "INFO:tensorflow:Oracle triggered exit\n"
          ]
        }
      ]
    },
    {
      "cell_type": "code",
      "source": [
        "# Get the optimal hyperparameters\n",
        "best_hps=bilstmtuner.get_best_hyperparameters(num_trials=1)[0]\n",
        "\n",
        "tuning = ['units_lstm', 'learning_rate']\n",
        "print('Best tune:')\n",
        "for tune in tuning:\n",
        "  print(f'{tune}: {best_hps.get(tune)}')"
      ],
      "metadata": {
        "colab": {
          "base_uri": "https://localhost:8080/"
        },
        "id": "fiL8pLhCRiTC",
        "outputId": "4ed7b739-2adb-4887-c3f9-b6c6ce32bd9f"
      },
      "execution_count": null,
      "outputs": [
        {
          "output_type": "stream",
          "name": "stdout",
          "text": [
            "Best tune:\n",
            "units_lstm: 320\n",
            "learning_rate: 0.01\n"
          ]
        }
      ]
    },
    {
      "cell_type": "code",
      "source": [
        "bilstmtuner.results_summary(num_trials=15)"
      ],
      "metadata": {
        "colab": {
          "base_uri": "https://localhost:8080/"
        },
        "outputId": "6fd64afa-6dad-40f6-ad69-c07fd284c360",
        "id": "7ZuzeCfNMbRZ"
      },
      "execution_count": null,
      "outputs": [
        {
          "output_type": "stream",
          "name": "stdout",
          "text": [
            "Results summary\n",
            "Results in icbp/bi-lstm\n",
            "Showing 15 best trials\n",
            "<keras_tuner.engine.objective.Objective object at 0x7fb3fd585590>\n",
            "Trial summary\n",
            "Hyperparameters:\n",
            "units_lstm: 320\n",
            "learning_rate: 0.01\n",
            "Score: 0.0006260778463911265\n",
            "Trial summary\n",
            "Hyperparameters:\n",
            "units_lstm: 256\n",
            "learning_rate: 0.01\n",
            "Score: 0.000627219385933131\n",
            "Trial summary\n",
            "Hyperparameters:\n",
            "units_lstm: 288\n",
            "learning_rate: 0.01\n",
            "Score: 0.0006280052766669542\n",
            "Trial summary\n",
            "Hyperparameters:\n",
            "units_lstm: 416\n",
            "learning_rate: 0.01\n",
            "Score: 0.0006299819506239146\n",
            "Trial summary\n",
            "Hyperparameters:\n",
            "units_lstm: 480\n",
            "learning_rate: 0.01\n",
            "Score: 0.0006310882745310664\n",
            "Trial summary\n",
            "Hyperparameters:\n",
            "units_lstm: 64\n",
            "learning_rate: 0.01\n",
            "Score: 0.00063203094759956\n",
            "Trial summary\n",
            "Hyperparameters:\n",
            "units_lstm: 352\n",
            "learning_rate: 0.01\n",
            "Score: 0.0006346528825815767\n",
            "Trial summary\n",
            "Hyperparameters:\n",
            "units_lstm: 480\n",
            "learning_rate: 0.001\n",
            "Score: 0.0006557070882990956\n",
            "Trial summary\n",
            "Hyperparameters:\n",
            "units_lstm: 448\n",
            "learning_rate: 0.001\n",
            "Score: 0.0006614016892854124\n",
            "Trial summary\n",
            "Hyperparameters:\n",
            "units_lstm: 224\n",
            "learning_rate: 0.001\n",
            "Score: 0.0006702346436213702\n",
            "Trial summary\n",
            "Hyperparameters:\n",
            "units_lstm: 192\n",
            "learning_rate: 0.001\n",
            "Score: 0.0006733719201292843\n",
            "Trial summary\n",
            "Hyperparameters:\n",
            "units_lstm: 256\n",
            "learning_rate: 0.001\n",
            "Score: 0.0006736638606525958\n",
            "Trial summary\n",
            "Hyperparameters:\n",
            "units_lstm: 64\n",
            "learning_rate: 0.001\n",
            "Score: 0.0007017273455858231\n",
            "Trial summary\n",
            "Hyperparameters:\n",
            "units_lstm: 512\n",
            "learning_rate: 0.0001\n",
            "Score: 0.0008844651456456631\n",
            "Trial summary\n",
            "Hyperparameters:\n",
            "units_lstm: 384\n",
            "learning_rate: 0.0001\n",
            "Score: 0.0009277114877477288\n"
          ]
        }
      ]
    },
    {
      "cell_type": "code",
      "source": [
        "best_hp = bilstmtuner.get_best_hyperparameters()[0]\n",
        "bilstm = bilstmtuner.hypermodel.build(best_hp)\n",
        "\n",
        "# bilstm.summary()"
      ],
      "metadata": {
        "id": "hwsvYwz0MbRa"
      },
      "execution_count": null,
      "outputs": []
    },
    {
      "cell_type": "code",
      "source": [
        "historybilstm = bilstm.fit(X_train, y_train, \n",
        "                       epochs=50,\n",
        "                       validation_data=(X_test, y_test), \n",
        "                       verbose=2)"
      ],
      "metadata": {
        "colab": {
          "base_uri": "https://localhost:8080/"
        },
        "outputId": "0c222c61-b313-4aa3-e898-a2fb2d1162a6",
        "id": "j0Ih7rpBMbRa"
      },
      "execution_count": null,
      "outputs": [
        {
          "output_type": "stream",
          "name": "stdout",
          "text": [
            "Epoch 1/50\n",
            "46/46 - 3s - loss: 0.0152 - val_loss: 0.0012 - 3s/epoch - 70ms/step\n",
            "Epoch 2/50\n",
            "46/46 - 1s - loss: 0.0014 - val_loss: 9.3821e-04 - 545ms/epoch - 12ms/step\n",
            "Epoch 3/50\n",
            "46/46 - 1s - loss: 0.0012 - val_loss: 8.8843e-04 - 563ms/epoch - 12ms/step\n",
            "Epoch 4/50\n",
            "46/46 - 1s - loss: 0.0011 - val_loss: 7.3538e-04 - 602ms/epoch - 13ms/step\n",
            "Epoch 5/50\n",
            "46/46 - 1s - loss: 0.0011 - val_loss: 6.2684e-04 - 944ms/epoch - 21ms/step\n",
            "Epoch 6/50\n",
            "46/46 - 1s - loss: 9.9113e-04 - val_loss: 6.4032e-04 - 990ms/epoch - 22ms/step\n",
            "Epoch 7/50\n",
            "46/46 - 1s - loss: 9.7503e-04 - val_loss: 5.4886e-04 - 979ms/epoch - 21ms/step\n",
            "Epoch 8/50\n",
            "46/46 - 1s - loss: 0.0011 - val_loss: 0.0011 - 715ms/epoch - 16ms/step\n",
            "Epoch 9/50\n",
            "46/46 - 1s - loss: 0.0011 - val_loss: 4.8165e-04 - 947ms/epoch - 21ms/step\n",
            "Epoch 10/50\n",
            "46/46 - 1s - loss: 8.6319e-04 - val_loss: 4.6852e-04 - 1s/epoch - 22ms/step\n",
            "Epoch 11/50\n",
            "46/46 - 1s - loss: 9.7785e-04 - val_loss: 5.9659e-04 - 968ms/epoch - 21ms/step\n",
            "Epoch 12/50\n",
            "46/46 - 1s - loss: 8.4669e-04 - val_loss: 6.8177e-04 - 888ms/epoch - 19ms/step\n",
            "Epoch 13/50\n",
            "46/46 - 1s - loss: 9.7682e-04 - val_loss: 5.4434e-04 - 933ms/epoch - 20ms/step\n",
            "Epoch 14/50\n",
            "46/46 - 1s - loss: 7.5734e-04 - val_loss: 4.3695e-04 - 913ms/epoch - 20ms/step\n",
            "Epoch 15/50\n",
            "46/46 - 1s - loss: 8.2235e-04 - val_loss: 5.5799e-04 - 967ms/epoch - 21ms/step\n",
            "Epoch 16/50\n",
            "46/46 - 1s - loss: 8.5391e-04 - val_loss: 5.9665e-04 - 862ms/epoch - 19ms/step\n",
            "Epoch 17/50\n",
            "46/46 - 1s - loss: 9.9940e-04 - val_loss: 5.5510e-04 - 731ms/epoch - 16ms/step\n",
            "Epoch 18/50\n",
            "46/46 - 1s - loss: 7.9781e-04 - val_loss: 5.3399e-04 - 873ms/epoch - 19ms/step\n",
            "Epoch 19/50\n",
            "46/46 - 1s - loss: 8.1832e-04 - val_loss: 5.1290e-04 - 734ms/epoch - 16ms/step\n",
            "Epoch 20/50\n",
            "46/46 - 1s - loss: 8.0839e-04 - val_loss: 4.2985e-04 - 767ms/epoch - 17ms/step\n",
            "Epoch 21/50\n",
            "46/46 - 1s - loss: 7.2449e-04 - val_loss: 9.2480e-04 - 709ms/epoch - 15ms/step\n",
            "Epoch 22/50\n",
            "46/46 - 1s - loss: 8.1881e-04 - val_loss: 4.5962e-04 - 844ms/epoch - 18ms/step\n",
            "Epoch 23/50\n",
            "46/46 - 1s - loss: 8.5964e-04 - val_loss: 5.3817e-04 - 748ms/epoch - 16ms/step\n",
            "Epoch 24/50\n",
            "46/46 - 1s - loss: 8.5088e-04 - val_loss: 5.8327e-04 - 745ms/epoch - 16ms/step\n",
            "Epoch 25/50\n",
            "46/46 - 1s - loss: 0.0010 - val_loss: 5.8239e-04 - 840ms/epoch - 18ms/step\n",
            "Epoch 26/50\n",
            "46/46 - 1s - loss: 8.4021e-04 - val_loss: 5.1863e-04 - 1s/epoch - 27ms/step\n",
            "Epoch 27/50\n",
            "46/46 - 1s - loss: 7.8385e-04 - val_loss: 6.0068e-04 - 821ms/epoch - 18ms/step\n",
            "Epoch 28/50\n",
            "46/46 - 1s - loss: 8.1423e-04 - val_loss: 4.9984e-04 - 532ms/epoch - 12ms/step\n",
            "Epoch 29/50\n",
            "46/46 - 1s - loss: 9.8709e-04 - val_loss: 6.4767e-04 - 528ms/epoch - 11ms/step\n",
            "Epoch 30/50\n",
            "46/46 - 1s - loss: 0.0010 - val_loss: 4.6294e-04 - 520ms/epoch - 11ms/step\n",
            "Epoch 31/50\n",
            "46/46 - 1s - loss: 7.1522e-04 - val_loss: 7.1950e-04 - 538ms/epoch - 12ms/step\n",
            "Epoch 32/50\n",
            "46/46 - 1s - loss: 0.0011 - val_loss: 4.8087e-04 - 528ms/epoch - 11ms/step\n",
            "Epoch 33/50\n",
            "46/46 - 1s - loss: 9.4881e-04 - val_loss: 5.1813e-04 - 555ms/epoch - 12ms/step\n",
            "Epoch 34/50\n",
            "46/46 - 1s - loss: 7.6029e-04 - val_loss: 4.9767e-04 - 520ms/epoch - 11ms/step\n",
            "Epoch 35/50\n",
            "46/46 - 1s - loss: 7.4541e-04 - val_loss: 5.1708e-04 - 517ms/epoch - 11ms/step\n",
            "Epoch 36/50\n",
            "46/46 - 1s - loss: 7.4305e-04 - val_loss: 6.0912e-04 - 525ms/epoch - 11ms/step\n",
            "Epoch 37/50\n",
            "46/46 - 1s - loss: 8.1268e-04 - val_loss: 7.6040e-04 - 533ms/epoch - 12ms/step\n",
            "Epoch 38/50\n",
            "46/46 - 1s - loss: 7.8543e-04 - val_loss: 6.5715e-04 - 545ms/epoch - 12ms/step\n",
            "Epoch 39/50\n",
            "46/46 - 1s - loss: 7.8591e-04 - val_loss: 5.9255e-04 - 532ms/epoch - 12ms/step\n",
            "Epoch 40/50\n",
            "46/46 - 1s - loss: 8.6543e-04 - val_loss: 6.0534e-04 - 506ms/epoch - 11ms/step\n",
            "Epoch 41/50\n",
            "46/46 - 1s - loss: 9.2783e-04 - val_loss: 7.7082e-04 - 538ms/epoch - 12ms/step\n",
            "Epoch 42/50\n",
            "46/46 - 1s - loss: 7.9774e-04 - val_loss: 8.7687e-04 - 514ms/epoch - 11ms/step\n",
            "Epoch 43/50\n",
            "46/46 - 1s - loss: 0.0011 - val_loss: 5.7671e-04 - 525ms/epoch - 11ms/step\n",
            "Epoch 44/50\n",
            "46/46 - 1s - loss: 9.3064e-04 - val_loss: 6.2006e-04 - 514ms/epoch - 11ms/step\n",
            "Epoch 45/50\n",
            "46/46 - 1s - loss: 6.9582e-04 - val_loss: 6.4752e-04 - 543ms/epoch - 12ms/step\n",
            "Epoch 46/50\n",
            "46/46 - 1s - loss: 7.7417e-04 - val_loss: 6.2011e-04 - 516ms/epoch - 11ms/step\n",
            "Epoch 47/50\n",
            "46/46 - 1s - loss: 7.6991e-04 - val_loss: 9.4038e-04 - 545ms/epoch - 12ms/step\n",
            "Epoch 48/50\n",
            "46/46 - 1s - loss: 9.1971e-04 - val_loss: 7.0193e-04 - 549ms/epoch - 12ms/step\n",
            "Epoch 49/50\n",
            "46/46 - 1s - loss: 8.2437e-04 - val_loss: 6.6249e-04 - 536ms/epoch - 12ms/step\n",
            "Epoch 50/50\n",
            "46/46 - 1s - loss: 8.3067e-04 - val_loss: 7.2153e-04 - 544ms/epoch - 12ms/step\n"
          ]
        }
      ]
    },
    {
      "cell_type": "code",
      "source": [
        "bilstm.save('bi_lstm.h5')"
      ],
      "metadata": {
        "id": "KhESUum6wX8P"
      },
      "execution_count": null,
      "outputs": []
    },
    {
      "cell_type": "markdown",
      "source": [
        "### Evaluation"
      ],
      "metadata": {
        "id": "oICHK7HEZVwX"
      }
    },
    {
      "cell_type": "code",
      "source": [
        "train_predict2 = bilstm.predict(X_train)\n",
        "test_predict2 = bilstm.predict(X_test)\n",
        "\n",
        "train_predict2 = scaler.inverse_transform(train_predict2)\n",
        "# train_y = scaler.inverse_transform([y_train])\n",
        "test_predict2 = scaler.inverse_transform(test_predict2)\n",
        "# test_y = scaler.inverse_transform([y_test])"
      ],
      "metadata": {
        "id": "WtcvdcgpZYA5"
      },
      "execution_count": null,
      "outputs": []
    },
    {
      "cell_type": "code",
      "source": [
        "def metrics_evaluation_regression(test, predict):\n",
        "  metrics = pd.DataFrame({\n",
        "      'MSE': [mean_squared_error(test, predict)],\n",
        "      'RMSE': [np.sqrt(mean_squared_error(test, predict))],\n",
        "      'MAE': [mean_absolute_error(test, predict)],\n",
        "      'MAPE': [mean_absolute_percentage_error(test, predict)]\n",
        "  })\n",
        "  return metrics "
      ],
      "metadata": {
        "id": "ux2I8tEmZYA5"
      },
      "execution_count": null,
      "outputs": []
    },
    {
      "cell_type": "code",
      "source": [
        "metrics_evaluation_regression(train_y[0], train_predict2)"
      ],
      "metadata": {
        "colab": {
          "base_uri": "https://localhost:8080/",
          "height": 81
        },
        "outputId": "a4ebe739-4eb1-4f3b-9159-987f70dcb833",
        "id": "XnEqAcFRZYA6"
      },
      "execution_count": null,
      "outputs": [
        {
          "output_type": "execute_result",
          "data": {
            "text/plain": [
              "            MSE        RMSE         MAE      MAPE\n",
              "0  26931.047769  164.106818  124.839657  0.012824"
            ],
            "text/html": [
              "\n",
              "  <div id=\"df-d7d210b8-d56a-4503-9f88-89dc3c53ec1c\">\n",
              "    <div class=\"colab-df-container\">\n",
              "      <div>\n",
              "<style scoped>\n",
              "    .dataframe tbody tr th:only-of-type {\n",
              "        vertical-align: middle;\n",
              "    }\n",
              "\n",
              "    .dataframe tbody tr th {\n",
              "        vertical-align: top;\n",
              "    }\n",
              "\n",
              "    .dataframe thead th {\n",
              "        text-align: right;\n",
              "    }\n",
              "</style>\n",
              "<table border=\"1\" class=\"dataframe\">\n",
              "  <thead>\n",
              "    <tr style=\"text-align: right;\">\n",
              "      <th></th>\n",
              "      <th>MSE</th>\n",
              "      <th>RMSE</th>\n",
              "      <th>MAE</th>\n",
              "      <th>MAPE</th>\n",
              "    </tr>\n",
              "  </thead>\n",
              "  <tbody>\n",
              "    <tr>\n",
              "      <th>0</th>\n",
              "      <td>26931.047769</td>\n",
              "      <td>164.106818</td>\n",
              "      <td>124.839657</td>\n",
              "      <td>0.012824</td>\n",
              "    </tr>\n",
              "  </tbody>\n",
              "</table>\n",
              "</div>\n",
              "      <button class=\"colab-df-convert\" onclick=\"convertToInteractive('df-d7d210b8-d56a-4503-9f88-89dc3c53ec1c')\"\n",
              "              title=\"Convert this dataframe to an interactive table.\"\n",
              "              style=\"display:none;\">\n",
              "        \n",
              "  <svg xmlns=\"http://www.w3.org/2000/svg\" height=\"24px\"viewBox=\"0 0 24 24\"\n",
              "       width=\"24px\">\n",
              "    <path d=\"M0 0h24v24H0V0z\" fill=\"none\"/>\n",
              "    <path d=\"M18.56 5.44l.94 2.06.94-2.06 2.06-.94-2.06-.94-.94-2.06-.94 2.06-2.06.94zm-11 1L8.5 8.5l.94-2.06 2.06-.94-2.06-.94L8.5 2.5l-.94 2.06-2.06.94zm10 10l.94 2.06.94-2.06 2.06-.94-2.06-.94-.94-2.06-.94 2.06-2.06.94z\"/><path d=\"M17.41 7.96l-1.37-1.37c-.4-.4-.92-.59-1.43-.59-.52 0-1.04.2-1.43.59L10.3 9.45l-7.72 7.72c-.78.78-.78 2.05 0 2.83L4 21.41c.39.39.9.59 1.41.59.51 0 1.02-.2 1.41-.59l7.78-7.78 2.81-2.81c.8-.78.8-2.07 0-2.86zM5.41 20L4 18.59l7.72-7.72 1.47 1.35L5.41 20z\"/>\n",
              "  </svg>\n",
              "      </button>\n",
              "      \n",
              "  <style>\n",
              "    .colab-df-container {\n",
              "      display:flex;\n",
              "      flex-wrap:wrap;\n",
              "      gap: 12px;\n",
              "    }\n",
              "\n",
              "    .colab-df-convert {\n",
              "      background-color: #E8F0FE;\n",
              "      border: none;\n",
              "      border-radius: 50%;\n",
              "      cursor: pointer;\n",
              "      display: none;\n",
              "      fill: #1967D2;\n",
              "      height: 32px;\n",
              "      padding: 0 0 0 0;\n",
              "      width: 32px;\n",
              "    }\n",
              "\n",
              "    .colab-df-convert:hover {\n",
              "      background-color: #E2EBFA;\n",
              "      box-shadow: 0px 1px 2px rgba(60, 64, 67, 0.3), 0px 1px 3px 1px rgba(60, 64, 67, 0.15);\n",
              "      fill: #174EA6;\n",
              "    }\n",
              "\n",
              "    [theme=dark] .colab-df-convert {\n",
              "      background-color: #3B4455;\n",
              "      fill: #D2E3FC;\n",
              "    }\n",
              "\n",
              "    [theme=dark] .colab-df-convert:hover {\n",
              "      background-color: #434B5C;\n",
              "      box-shadow: 0px 1px 3px 1px rgba(0, 0, 0, 0.15);\n",
              "      filter: drop-shadow(0px 1px 2px rgba(0, 0, 0, 0.3));\n",
              "      fill: #FFFFFF;\n",
              "    }\n",
              "  </style>\n",
              "\n",
              "      <script>\n",
              "        const buttonEl =\n",
              "          document.querySelector('#df-d7d210b8-d56a-4503-9f88-89dc3c53ec1c button.colab-df-convert');\n",
              "        buttonEl.style.display =\n",
              "          google.colab.kernel.accessAllowed ? 'block' : 'none';\n",
              "\n",
              "        async function convertToInteractive(key) {\n",
              "          const element = document.querySelector('#df-d7d210b8-d56a-4503-9f88-89dc3c53ec1c');\n",
              "          const dataTable =\n",
              "            await google.colab.kernel.invokeFunction('convertToInteractive',\n",
              "                                                     [key], {});\n",
              "          if (!dataTable) return;\n",
              "\n",
              "          const docLinkHtml = 'Like what you see? Visit the ' +\n",
              "            '<a target=\"_blank\" href=https://colab.research.google.com/notebooks/data_table.ipynb>data table notebook</a>'\n",
              "            + ' to learn more about interactive tables.';\n",
              "          element.innerHTML = '';\n",
              "          dataTable['output_type'] = 'display_data';\n",
              "          await google.colab.output.renderOutput(dataTable, element);\n",
              "          const docLink = document.createElement('div');\n",
              "          docLink.innerHTML = docLinkHtml;\n",
              "          element.appendChild(docLink);\n",
              "        }\n",
              "      </script>\n",
              "    </div>\n",
              "  </div>\n",
              "  "
            ]
          },
          "metadata": {},
          "execution_count": 43
        }
      ]
    },
    {
      "cell_type": "code",
      "source": [
        "metrics_evaluation_regression(test_y[0], test_predict2)"
      ],
      "metadata": {
        "colab": {
          "base_uri": "https://localhost:8080/",
          "height": 81
        },
        "outputId": "88f30269-95db-48aa-dd14-88b2d7e4b4ed",
        "id": "cmCU2RelZYA6"
      },
      "execution_count": null,
      "outputs": [
        {
          "output_type": "execute_result",
          "data": {
            "text/plain": [
              "            MSE        RMSE        MAE      MAPE\n",
              "0  19136.665756  138.335338  98.103473  0.011776"
            ],
            "text/html": [
              "\n",
              "  <div id=\"df-722d4105-2a90-41bb-a1ab-29f38c39ba94\">\n",
              "    <div class=\"colab-df-container\">\n",
              "      <div>\n",
              "<style scoped>\n",
              "    .dataframe tbody tr th:only-of-type {\n",
              "        vertical-align: middle;\n",
              "    }\n",
              "\n",
              "    .dataframe tbody tr th {\n",
              "        vertical-align: top;\n",
              "    }\n",
              "\n",
              "    .dataframe thead th {\n",
              "        text-align: right;\n",
              "    }\n",
              "</style>\n",
              "<table border=\"1\" class=\"dataframe\">\n",
              "  <thead>\n",
              "    <tr style=\"text-align: right;\">\n",
              "      <th></th>\n",
              "      <th>MSE</th>\n",
              "      <th>RMSE</th>\n",
              "      <th>MAE</th>\n",
              "      <th>MAPE</th>\n",
              "    </tr>\n",
              "  </thead>\n",
              "  <tbody>\n",
              "    <tr>\n",
              "      <th>0</th>\n",
              "      <td>19136.665756</td>\n",
              "      <td>138.335338</td>\n",
              "      <td>98.103473</td>\n",
              "      <td>0.011776</td>\n",
              "    </tr>\n",
              "  </tbody>\n",
              "</table>\n",
              "</div>\n",
              "      <button class=\"colab-df-convert\" onclick=\"convertToInteractive('df-722d4105-2a90-41bb-a1ab-29f38c39ba94')\"\n",
              "              title=\"Convert this dataframe to an interactive table.\"\n",
              "              style=\"display:none;\">\n",
              "        \n",
              "  <svg xmlns=\"http://www.w3.org/2000/svg\" height=\"24px\"viewBox=\"0 0 24 24\"\n",
              "       width=\"24px\">\n",
              "    <path d=\"M0 0h24v24H0V0z\" fill=\"none\"/>\n",
              "    <path d=\"M18.56 5.44l.94 2.06.94-2.06 2.06-.94-2.06-.94-.94-2.06-.94 2.06-2.06.94zm-11 1L8.5 8.5l.94-2.06 2.06-.94-2.06-.94L8.5 2.5l-.94 2.06-2.06.94zm10 10l.94 2.06.94-2.06 2.06-.94-2.06-.94-.94-2.06-.94 2.06-2.06.94z\"/><path d=\"M17.41 7.96l-1.37-1.37c-.4-.4-.92-.59-1.43-.59-.52 0-1.04.2-1.43.59L10.3 9.45l-7.72 7.72c-.78.78-.78 2.05 0 2.83L4 21.41c.39.39.9.59 1.41.59.51 0 1.02-.2 1.41-.59l7.78-7.78 2.81-2.81c.8-.78.8-2.07 0-2.86zM5.41 20L4 18.59l7.72-7.72 1.47 1.35L5.41 20z\"/>\n",
              "  </svg>\n",
              "      </button>\n",
              "      \n",
              "  <style>\n",
              "    .colab-df-container {\n",
              "      display:flex;\n",
              "      flex-wrap:wrap;\n",
              "      gap: 12px;\n",
              "    }\n",
              "\n",
              "    .colab-df-convert {\n",
              "      background-color: #E8F0FE;\n",
              "      border: none;\n",
              "      border-radius: 50%;\n",
              "      cursor: pointer;\n",
              "      display: none;\n",
              "      fill: #1967D2;\n",
              "      height: 32px;\n",
              "      padding: 0 0 0 0;\n",
              "      width: 32px;\n",
              "    }\n",
              "\n",
              "    .colab-df-convert:hover {\n",
              "      background-color: #E2EBFA;\n",
              "      box-shadow: 0px 1px 2px rgba(60, 64, 67, 0.3), 0px 1px 3px 1px rgba(60, 64, 67, 0.15);\n",
              "      fill: #174EA6;\n",
              "    }\n",
              "\n",
              "    [theme=dark] .colab-df-convert {\n",
              "      background-color: #3B4455;\n",
              "      fill: #D2E3FC;\n",
              "    }\n",
              "\n",
              "    [theme=dark] .colab-df-convert:hover {\n",
              "      background-color: #434B5C;\n",
              "      box-shadow: 0px 1px 3px 1px rgba(0, 0, 0, 0.15);\n",
              "      filter: drop-shadow(0px 1px 2px rgba(0, 0, 0, 0.3));\n",
              "      fill: #FFFFFF;\n",
              "    }\n",
              "  </style>\n",
              "\n",
              "      <script>\n",
              "        const buttonEl =\n",
              "          document.querySelector('#df-722d4105-2a90-41bb-a1ab-29f38c39ba94 button.colab-df-convert');\n",
              "        buttonEl.style.display =\n",
              "          google.colab.kernel.accessAllowed ? 'block' : 'none';\n",
              "\n",
              "        async function convertToInteractive(key) {\n",
              "          const element = document.querySelector('#df-722d4105-2a90-41bb-a1ab-29f38c39ba94');\n",
              "          const dataTable =\n",
              "            await google.colab.kernel.invokeFunction('convertToInteractive',\n",
              "                                                     [key], {});\n",
              "          if (!dataTable) return;\n",
              "\n",
              "          const docLinkHtml = 'Like what you see? Visit the ' +\n",
              "            '<a target=\"_blank\" href=https://colab.research.google.com/notebooks/data_table.ipynb>data table notebook</a>'\n",
              "            + ' to learn more about interactive tables.';\n",
              "          element.innerHTML = '';\n",
              "          dataTable['output_type'] = 'display_data';\n",
              "          await google.colab.output.renderOutput(dataTable, element);\n",
              "          const docLink = document.createElement('div');\n",
              "          docLink.innerHTML = docLinkHtml;\n",
              "          element.appendChild(docLink);\n",
              "        }\n",
              "      </script>\n",
              "    </div>\n",
              "  </div>\n",
              "  "
            ]
          },
          "metadata": {},
          "execution_count": 44
        }
      ]
    },
    {
      "cell_type": "code",
      "source": [
        "plt.figure(figsize=(12,5))\n",
        "plt.plot(test_y[0])\n",
        "plt.plot(test_predict2)\n",
        "plt.legend(['Data Aktual', 'Prediksi'])"
      ],
      "metadata": {
        "colab": {
          "base_uri": "https://localhost:8080/",
          "height": 337
        },
        "outputId": "f424d837-cee8-40a0-ddd3-21027cde1f29",
        "id": "wkFi5kB5ZYA6"
      },
      "execution_count": null,
      "outputs": [
        {
          "output_type": "execute_result",
          "data": {
            "text/plain": [
              "<matplotlib.legend.Legend at 0x7fb3fdb0c750>"
            ]
          },
          "metadata": {},
          "execution_count": 45
        },
        {
          "output_type": "display_data",
          "data": {
            "text/plain": [
              "<Figure size 864x360 with 1 Axes>"
            ],
            "image/png": "[encoded data removed]"
          },
          "metadata": {
            "needs_background": "light"
          }
        }
      ]
    },
    {
      "cell_type": "code",
      "source": [
        "plt.figure(figsize=(12,5))\n",
        "plt.plot(test_y[0][-50:])\n",
        "plt.plot(test_predict2[-50:])\n",
        "plt.legend(['Data Aktual', 'Prediksi'])"
      ],
      "metadata": {
        "colab": {
          "base_uri": "https://localhost:8080/",
          "height": 337
        },
        "outputId": "82176a91-b378-4fa4-c543-8eb82f524b9d",
        "id": "AXw9ldIuZYA7"
      },
      "execution_count": null,
      "outputs": [
        {
          "output_type": "execute_result",
          "data": {
            "text/plain": [
              "<matplotlib.legend.Legend at 0x7f74d1a06d10>"
            ]
          },
          "metadata": {},
          "execution_count": 59
        },
        {
          "output_type": "display_data",
          "data": {
            "text/plain": [
              "<Figure size 864x360 with 1 Axes>"
            ],
            "image/png": "[encoded data removed]"
          },
          "metadata": {
            "needs_background": "light"
          }
        }
      ]
    },
    {
      "cell_type": "markdown",
      "source": [
        "# Perbandingan"
      ],
      "metadata": {
        "id": "qRT7hs6ew8tJ"
      }
    },
    {
      "cell_type": "markdown",
      "source": [
        "## Vanilla"
      ],
      "metadata": {
        "id": "7ujyQqPJxBSP"
      }
    },
    {
      "cell_type": "code",
      "source": [
        "metrics_evaluation_regression(train_y[0], train_predict)"
      ],
      "metadata": {
        "colab": {
          "base_uri": "https://localhost:8080/",
          "height": 81
        },
        "outputId": "939d9351-0120-4814-e97c-0ea22ade33b2",
        "id": "fcY3HS7ixSzh"
      },
      "execution_count": null,
      "outputs": [
        {
          "output_type": "execute_result",
          "data": {
            "text/plain": [
              "            MSE        RMSE        MAE      MAPE\n",
              "0  22317.417773  149.390153  100.44915  0.010407"
            ],
            "text/html": [
              "\n",
              "  <div id=\"df-d35f6e61-c9ef-4c4d-91a9-684d30c9b4f2\">\n",
              "    <div class=\"colab-df-container\">\n",
              "      <div>\n",
              "<style scoped>\n",
              "    .dataframe tbody tr th:only-of-type {\n",
              "        vertical-align: middle;\n",
              "    }\n",
              "\n",
              "    .dataframe tbody tr th {\n",
              "        vertical-align: top;\n",
              "    }\n",
              "\n",
              "    .dataframe thead th {\n",
              "        text-align: right;\n",
              "    }\n",
              "</style>\n",
              "<table border=\"1\" class=\"dataframe\">\n",
              "  <thead>\n",
              "    <tr style=\"text-align: right;\">\n",
              "      <th></th>\n",
              "      <th>MSE</th>\n",
              "      <th>RMSE</th>\n",
              "      <th>MAE</th>\n",
              "      <th>MAPE</th>\n",
              "    </tr>\n",
              "  </thead>\n",
              "  <tbody>\n",
              "    <tr>\n",
              "      <th>0</th>\n",
              "      <td>22317.417773</td>\n",
              "      <td>149.390153</td>\n",
              "      <td>100.44915</td>\n",
              "      <td>0.010407</td>\n",
              "    </tr>\n",
              "  </tbody>\n",
              "</table>\n",
              "</div>\n",
              "      <button class=\"colab-df-convert\" onclick=\"convertToInteractive('df-d35f6e61-c9ef-4c4d-91a9-684d30c9b4f2')\"\n",
              "              title=\"Convert this dataframe to an interactive table.\"\n",
              "              style=\"display:none;\">\n",
              "        \n",
              "  <svg xmlns=\"http://www.w3.org/2000/svg\" height=\"24px\"viewBox=\"0 0 24 24\"\n",
              "       width=\"24px\">\n",
              "    <path d=\"M0 0h24v24H0V0z\" fill=\"none\"/>\n",
              "    <path d=\"M18.56 5.44l.94 2.06.94-2.06 2.06-.94-2.06-.94-.94-2.06-.94 2.06-2.06.94zm-11 1L8.5 8.5l.94-2.06 2.06-.94-2.06-.94L8.5 2.5l-.94 2.06-2.06.94zm10 10l.94 2.06.94-2.06 2.06-.94-2.06-.94-.94-2.06-.94 2.06-2.06.94z\"/><path d=\"M17.41 7.96l-1.37-1.37c-.4-.4-.92-.59-1.43-.59-.52 0-1.04.2-1.43.59L10.3 9.45l-7.72 7.72c-.78.78-.78 2.05 0 2.83L4 21.41c.39.39.9.59 1.41.59.51 0 1.02-.2 1.41-.59l7.78-7.78 2.81-2.81c.8-.78.8-2.07 0-2.86zM5.41 20L4 18.59l7.72-7.72 1.47 1.35L5.41 20z\"/>\n",
              "  </svg>\n",
              "      </button>\n",
              "      \n",
              "  <style>\n",
              "    .colab-df-container {\n",
              "      display:flex;\n",
              "      flex-wrap:wrap;\n",
              "      gap: 12px;\n",
              "    }\n",
              "\n",
              "    .colab-df-convert {\n",
              "      background-color: #E8F0FE;\n",
              "      border: none;\n",
              "      border-radius: 50%;\n",
              "      cursor: pointer;\n",
              "      display: none;\n",
              "      fill: #1967D2;\n",
              "      height: 32px;\n",
              "      padding: 0 0 0 0;\n",
              "      width: 32px;\n",
              "    }\n",
              "\n",
              "    .colab-df-convert:hover {\n",
              "      background-color: #E2EBFA;\n",
              "      box-shadow: 0px 1px 2px rgba(60, 64, 67, 0.3), 0px 1px 3px 1px rgba(60, 64, 67, 0.15);\n",
              "      fill: #174EA6;\n",
              "    }\n",
              "\n",
              "    [theme=dark] .colab-df-convert {\n",
              "      background-color: #3B4455;\n",
              "      fill: #D2E3FC;\n",
              "    }\n",
              "\n",
              "    [theme=dark] .colab-df-convert:hover {\n",
              "      background-color: #434B5C;\n",
              "      box-shadow: 0px 1px 3px 1px rgba(0, 0, 0, 0.15);\n",
              "      filter: drop-shadow(0px 1px 2px rgba(0, 0, 0, 0.3));\n",
              "      fill: #FFFFFF;\n",
              "    }\n",
              "  </style>\n",
              "\n",
              "      <script>\n",
              "        const buttonEl =\n",
              "          document.querySelector('#df-d35f6e61-c9ef-4c4d-91a9-684d30c9b4f2 button.colab-df-convert');\n",
              "        buttonEl.style.display =\n",
              "          google.colab.kernel.accessAllowed ? 'block' : 'none';\n",
              "\n",
              "        async function convertToInteractive(key) {\n",
              "          const element = document.querySelector('#df-d35f6e61-c9ef-4c4d-91a9-684d30c9b4f2');\n",
              "          const dataTable =\n",
              "            await google.colab.kernel.invokeFunction('convertToInteractive',\n",
              "                                                     [key], {});\n",
              "          if (!dataTable) return;\n",
              "\n",
              "          const docLinkHtml = 'Like what you see? Visit the ' +\n",
              "            '<a target=\"_blank\" href=https://colab.research.google.com/notebooks/data_table.ipynb>data table notebook</a>'\n",
              "            + ' to learn more about interactive tables.';\n",
              "          element.innerHTML = '';\n",
              "          dataTable['output_type'] = 'display_data';\n",
              "          await google.colab.output.renderOutput(dataTable, element);\n",
              "          const docLink = document.createElement('div');\n",
              "          docLink.innerHTML = docLinkHtml;\n",
              "          element.appendChild(docLink);\n",
              "        }\n",
              "      </script>\n",
              "    </div>\n",
              "  </div>\n",
              "  "
            ]
          },
          "metadata": {},
          "execution_count": 24
        }
      ]
    },
    {
      "cell_type": "code",
      "source": [
        "metrics_evaluation_regression(test_y[0], test_predict)"
      ],
      "metadata": {
        "colab": {
          "base_uri": "https://localhost:8080/",
          "height": 81
        },
        "outputId": "c75f9853-2621-40a2-e53b-4b8bbb874d34",
        "id": "DAFihYQxxSzi"
      },
      "execution_count": null,
      "outputs": [
        {
          "output_type": "execute_result",
          "data": {
            "text/plain": [
              "            MSE        RMSE        MAE      MAPE\n",
              "0  14976.625376  122.379023  87.167432  0.010493"
            ],
            "text/html": [
              "\n",
              "  <div id=\"df-3bf8813d-ba62-43d3-83ab-bc8abde9e28a\">\n",
              "    <div class=\"colab-df-container\">\n",
              "      <div>\n",
              "<style scoped>\n",
              "    .dataframe tbody tr th:only-of-type {\n",
              "        vertical-align: middle;\n",
              "    }\n",
              "\n",
              "    .dataframe tbody tr th {\n",
              "        vertical-align: top;\n",
              "    }\n",
              "\n",
              "    .dataframe thead th {\n",
              "        text-align: right;\n",
              "    }\n",
              "</style>\n",
              "<table border=\"1\" class=\"dataframe\">\n",
              "  <thead>\n",
              "    <tr style=\"text-align: right;\">\n",
              "      <th></th>\n",
              "      <th>MSE</th>\n",
              "      <th>RMSE</th>\n",
              "      <th>MAE</th>\n",
              "      <th>MAPE</th>\n",
              "    </tr>\n",
              "  </thead>\n",
              "  <tbody>\n",
              "    <tr>\n",
              "      <th>0</th>\n",
              "      <td>14976.625376</td>\n",
              "      <td>122.379023</td>\n",
              "      <td>87.167432</td>\n",
              "      <td>0.010493</td>\n",
              "    </tr>\n",
              "  </tbody>\n",
              "</table>\n",
              "</div>\n",
              "      <button class=\"colab-df-convert\" onclick=\"convertToInteractive('df-3bf8813d-ba62-43d3-83ab-bc8abde9e28a')\"\n",
              "              title=\"Convert this dataframe to an interactive table.\"\n",
              "              style=\"display:none;\">\n",
              "        \n",
              "  <svg xmlns=\"http://www.w3.org/2000/svg\" height=\"24px\"viewBox=\"0 0 24 24\"\n",
              "       width=\"24px\">\n",
              "    <path d=\"M0 0h24v24H0V0z\" fill=\"none\"/>\n",
              "    <path d=\"M18.56 5.44l.94 2.06.94-2.06 2.06-.94-2.06-.94-.94-2.06-.94 2.06-2.06.94zm-11 1L8.5 8.5l.94-2.06 2.06-.94-2.06-.94L8.5 2.5l-.94 2.06-2.06.94zm10 10l.94 2.06.94-2.06 2.06-.94-2.06-.94-.94-2.06-.94 2.06-2.06.94z\"/><path d=\"M17.41 7.96l-1.37-1.37c-.4-.4-.92-.59-1.43-.59-.52 0-1.04.2-1.43.59L10.3 9.45l-7.72 7.72c-.78.78-.78 2.05 0 2.83L4 21.41c.39.39.9.59 1.41.59.51 0 1.02-.2 1.41-.59l7.78-7.78 2.81-2.81c.8-.78.8-2.07 0-2.86zM5.41 20L4 18.59l7.72-7.72 1.47 1.35L5.41 20z\"/>\n",
              "  </svg>\n",
              "      </button>\n",
              "      \n",
              "  <style>\n",
              "    .colab-df-container {\n",
              "      display:flex;\n",
              "      flex-wrap:wrap;\n",
              "      gap: 12px;\n",
              "    }\n",
              "\n",
              "    .colab-df-convert {\n",
              "      background-color: #E8F0FE;\n",
              "      border: none;\n",
              "      border-radius: 50%;\n",
              "      cursor: pointer;\n",
              "      display: none;\n",
              "      fill: #1967D2;\n",
              "      height: 32px;\n",
              "      padding: 0 0 0 0;\n",
              "      width: 32px;\n",
              "    }\n",
              "\n",
              "    .colab-df-convert:hover {\n",
              "      background-color: #E2EBFA;\n",
              "      box-shadow: 0px 1px 2px rgba(60, 64, 67, 0.3), 0px 1px 3px 1px rgba(60, 64, 67, 0.15);\n",
              "      fill: #174EA6;\n",
              "    }\n",
              "\n",
              "    [theme=dark] .colab-df-convert {\n",
              "      background-color: #3B4455;\n",
              "      fill: #D2E3FC;\n",
              "    }\n",
              "\n",
              "    [theme=dark] .colab-df-convert:hover {\n",
              "      background-color: #434B5C;\n",
              "      box-shadow: 0px 1px 3px 1px rgba(0, 0, 0, 0.15);\n",
              "      filter: drop-shadow(0px 1px 2px rgba(0, 0, 0, 0.3));\n",
              "      fill: #FFFFFF;\n",
              "    }\n",
              "  </style>\n",
              "\n",
              "      <script>\n",
              "        const buttonEl =\n",
              "          document.querySelector('#df-3bf8813d-ba62-43d3-83ab-bc8abde9e28a button.colab-df-convert');\n",
              "        buttonEl.style.display =\n",
              "          google.colab.kernel.accessAllowed ? 'block' : 'none';\n",
              "\n",
              "        async function convertToInteractive(key) {\n",
              "          const element = document.querySelector('#df-3bf8813d-ba62-43d3-83ab-bc8abde9e28a');\n",
              "          const dataTable =\n",
              "            await google.colab.kernel.invokeFunction('convertToInteractive',\n",
              "                                                     [key], {});\n",
              "          if (!dataTable) return;\n",
              "\n",
              "          const docLinkHtml = 'Like what you see? Visit the ' +\n",
              "            '<a target=\"_blank\" href=https://colab.research.google.com/notebooks/data_table.ipynb>data table notebook</a>'\n",
              "            + ' to learn more about interactive tables.';\n",
              "          element.innerHTML = '';\n",
              "          dataTable['output_type'] = 'display_data';\n",
              "          await google.colab.output.renderOutput(dataTable, element);\n",
              "          const docLink = document.createElement('div');\n",
              "          docLink.innerHTML = docLinkHtml;\n",
              "          element.appendChild(docLink);\n",
              "        }\n",
              "      </script>\n",
              "    </div>\n",
              "  </div>\n",
              "  "
            ]
          },
          "metadata": {},
          "execution_count": 25
        }
      ]
    },
    {
      "cell_type": "markdown",
      "source": [
        "## CNN-LSTM"
      ],
      "metadata": {
        "id": "qwXetGdBxFIf"
      }
    },
    {
      "cell_type": "code",
      "source": [
        "metrics_evaluation_regression(y_train2, lstmcnn.predict(X_train2))"
      ],
      "metadata": {
        "colab": {
          "base_uri": "https://localhost:8080/",
          "height": 81
        },
        "outputId": "7900d6ea-07fd-422a-8ec5-72f7a709f4be",
        "id": "BX9c7hJRxQYI"
      },
      "execution_count": null,
      "outputs": [
        {
          "output_type": "execute_result",
          "data": {
            "text/plain": [
              "           MSE        RMSE        MAE      MAPE\n",
              "0  19680.56353  140.287432  84.143688  0.008833"
            ],
            "text/html": [
              "\n",
              "  <div id=\"df-bd035dd3-c494-45c2-a555-a1923282fce4\">\n",
              "    <div class=\"colab-df-container\">\n",
              "      <div>\n",
              "<style scoped>\n",
              "    .dataframe tbody tr th:only-of-type {\n",
              "        vertical-align: middle;\n",
              "    }\n",
              "\n",
              "    .dataframe tbody tr th {\n",
              "        vertical-align: top;\n",
              "    }\n",
              "\n",
              "    .dataframe thead th {\n",
              "        text-align: right;\n",
              "    }\n",
              "</style>\n",
              "<table border=\"1\" class=\"dataframe\">\n",
              "  <thead>\n",
              "    <tr style=\"text-align: right;\">\n",
              "      <th></th>\n",
              "      <th>MSE</th>\n",
              "      <th>RMSE</th>\n",
              "      <th>MAE</th>\n",
              "      <th>MAPE</th>\n",
              "    </tr>\n",
              "  </thead>\n",
              "  <tbody>\n",
              "    <tr>\n",
              "      <th>0</th>\n",
              "      <td>19680.56353</td>\n",
              "      <td>140.287432</td>\n",
              "      <td>84.143688</td>\n",
              "      <td>0.008833</td>\n",
              "    </tr>\n",
              "  </tbody>\n",
              "</table>\n",
              "</div>\n",
              "      <button class=\"colab-df-convert\" onclick=\"convertToInteractive('df-bd035dd3-c494-45c2-a555-a1923282fce4')\"\n",
              "              title=\"Convert this dataframe to an interactive table.\"\n",
              "              style=\"display:none;\">\n",
              "        \n",
              "  <svg xmlns=\"http://www.w3.org/2000/svg\" height=\"24px\"viewBox=\"0 0 24 24\"\n",
              "       width=\"24px\">\n",
              "    <path d=\"M0 0h24v24H0V0z\" fill=\"none\"/>\n",
              "    <path d=\"M18.56 5.44l.94 2.06.94-2.06 2.06-.94-2.06-.94-.94-2.06-.94 2.06-2.06.94zm-11 1L8.5 8.5l.94-2.06 2.06-.94-2.06-.94L8.5 2.5l-.94 2.06-2.06.94zm10 10l.94 2.06.94-2.06 2.06-.94-2.06-.94-.94-2.06-.94 2.06-2.06.94z\"/><path d=\"M17.41 7.96l-1.37-1.37c-.4-.4-.92-.59-1.43-.59-.52 0-1.04.2-1.43.59L10.3 9.45l-7.72 7.72c-.78.78-.78 2.05 0 2.83L4 21.41c.39.39.9.59 1.41.59.51 0 1.02-.2 1.41-.59l7.78-7.78 2.81-2.81c.8-.78.8-2.07 0-2.86zM5.41 20L4 18.59l7.72-7.72 1.47 1.35L5.41 20z\"/>\n",
              "  </svg>\n",
              "      </button>\n",
              "      \n",
              "  <style>\n",
              "    .colab-df-container {\n",
              "      display:flex;\n",
              "      flex-wrap:wrap;\n",
              "      gap: 12px;\n",
              "    }\n",
              "\n",
              "    .colab-df-convert {\n",
              "      background-color: #E8F0FE;\n",
              "      border: none;\n",
              "      border-radius: 50%;\n",
              "      cursor: pointer;\n",
              "      display: none;\n",
              "      fill: #1967D2;\n",
              "      height: 32px;\n",
              "      padding: 0 0 0 0;\n",
              "      width: 32px;\n",
              "    }\n",
              "\n",
              "    .colab-df-convert:hover {\n",
              "      background-color: #E2EBFA;\n",
              "      box-shadow: 0px 1px 2px rgba(60, 64, 67, 0.3), 0px 1px 3px 1px rgba(60, 64, 67, 0.15);\n",
              "      fill: #174EA6;\n",
              "    }\n",
              "\n",
              "    [theme=dark] .colab-df-convert {\n",
              "      background-color: #3B4455;\n",
              "      fill: #D2E3FC;\n",
              "    }\n",
              "\n",
              "    [theme=dark] .colab-df-convert:hover {\n",
              "      background-color: #434B5C;\n",
              "      box-shadow: 0px 1px 3px 1px rgba(0, 0, 0, 0.15);\n",
              "      filter: drop-shadow(0px 1px 2px rgba(0, 0, 0, 0.3));\n",
              "      fill: #FFFFFF;\n",
              "    }\n",
              "  </style>\n",
              "\n",
              "      <script>\n",
              "        const buttonEl =\n",
              "          document.querySelector('#df-bd035dd3-c494-45c2-a555-a1923282fce4 button.colab-df-convert');\n",
              "        buttonEl.style.display =\n",
              "          google.colab.kernel.accessAllowed ? 'block' : 'none';\n",
              "\n",
              "        async function convertToInteractive(key) {\n",
              "          const element = document.querySelector('#df-bd035dd3-c494-45c2-a555-a1923282fce4');\n",
              "          const dataTable =\n",
              "            await google.colab.kernel.invokeFunction('convertToInteractive',\n",
              "                                                     [key], {});\n",
              "          if (!dataTable) return;\n",
              "\n",
              "          const docLinkHtml = 'Like what you see? Visit the ' +\n",
              "            '<a target=\"_blank\" href=https://colab.research.google.com/notebooks/data_table.ipynb>data table notebook</a>'\n",
              "            + ' to learn more about interactive tables.';\n",
              "          element.innerHTML = '';\n",
              "          dataTable['output_type'] = 'display_data';\n",
              "          await google.colab.output.renderOutput(dataTable, element);\n",
              "          const docLink = document.createElement('div');\n",
              "          docLink.innerHTML = docLinkHtml;\n",
              "          element.appendChild(docLink);\n",
              "        }\n",
              "      </script>\n",
              "    </div>\n",
              "  </div>\n",
              "  "
            ]
          },
          "metadata": {},
          "execution_count": 38
        }
      ]
    },
    {
      "cell_type": "code",
      "source": [
        "metrics_evaluation_regression(y_test2, lstmcnn.predict(X_test2))"
      ],
      "metadata": {
        "colab": {
          "base_uri": "https://localhost:8080/",
          "height": 81
        },
        "outputId": "802bc49f-99a4-46d4-91ac-edbc2d1627e2",
        "id": "-MhY3C1CxQYQ"
      },
      "execution_count": null,
      "outputs": [
        {
          "output_type": "execute_result",
          "data": {
            "text/plain": [
              "            MSE        RMSE        MAE      MAPE\n",
              "0  11903.910186  109.105042  71.649232  0.008518"
            ],
            "text/html": [
              "\n",
              "  <div id=\"df-cf127efa-3b31-4e65-8e74-17b752cc454b\">\n",
              "    <div class=\"colab-df-container\">\n",
              "      <div>\n",
              "<style scoped>\n",
              "    .dataframe tbody tr th:only-of-type {\n",
              "        vertical-align: middle;\n",
              "    }\n",
              "\n",
              "    .dataframe tbody tr th {\n",
              "        vertical-align: top;\n",
              "    }\n",
              "\n",
              "    .dataframe thead th {\n",
              "        text-align: right;\n",
              "    }\n",
              "</style>\n",
              "<table border=\"1\" class=\"dataframe\">\n",
              "  <thead>\n",
              "    <tr style=\"text-align: right;\">\n",
              "      <th></th>\n",
              "      <th>MSE</th>\n",
              "      <th>RMSE</th>\n",
              "      <th>MAE</th>\n",
              "      <th>MAPE</th>\n",
              "    </tr>\n",
              "  </thead>\n",
              "  <tbody>\n",
              "    <tr>\n",
              "      <th>0</th>\n",
              "      <td>11903.910186</td>\n",
              "      <td>109.105042</td>\n",
              "      <td>71.649232</td>\n",
              "      <td>0.008518</td>\n",
              "    </tr>\n",
              "  </tbody>\n",
              "</table>\n",
              "</div>\n",
              "      <button class=\"colab-df-convert\" onclick=\"convertToInteractive('df-cf127efa-3b31-4e65-8e74-17b752cc454b')\"\n",
              "              title=\"Convert this dataframe to an interactive table.\"\n",
              "              style=\"display:none;\">\n",
              "        \n",
              "  <svg xmlns=\"http://www.w3.org/2000/svg\" height=\"24px\"viewBox=\"0 0 24 24\"\n",
              "       width=\"24px\">\n",
              "    <path d=\"M0 0h24v24H0V0z\" fill=\"none\"/>\n",
              "    <path d=\"M18.56 5.44l.94 2.06.94-2.06 2.06-.94-2.06-.94-.94-2.06-.94 2.06-2.06.94zm-11 1L8.5 8.5l.94-2.06 2.06-.94-2.06-.94L8.5 2.5l-.94 2.06-2.06.94zm10 10l.94 2.06.94-2.06 2.06-.94-2.06-.94-.94-2.06-.94 2.06-2.06.94z\"/><path d=\"M17.41 7.96l-1.37-1.37c-.4-.4-.92-.59-1.43-.59-.52 0-1.04.2-1.43.59L10.3 9.45l-7.72 7.72c-.78.78-.78 2.05 0 2.83L4 21.41c.39.39.9.59 1.41.59.51 0 1.02-.2 1.41-.59l7.78-7.78 2.81-2.81c.8-.78.8-2.07 0-2.86zM5.41 20L4 18.59l7.72-7.72 1.47 1.35L5.41 20z\"/>\n",
              "  </svg>\n",
              "      </button>\n",
              "      \n",
              "  <style>\n",
              "    .colab-df-container {\n",
              "      display:flex;\n",
              "      flex-wrap:wrap;\n",
              "      gap: 12px;\n",
              "    }\n",
              "\n",
              "    .colab-df-convert {\n",
              "      background-color: #E8F0FE;\n",
              "      border: none;\n",
              "      border-radius: 50%;\n",
              "      cursor: pointer;\n",
              "      display: none;\n",
              "      fill: #1967D2;\n",
              "      height: 32px;\n",
              "      padding: 0 0 0 0;\n",
              "      width: 32px;\n",
              "    }\n",
              "\n",
              "    .colab-df-convert:hover {\n",
              "      background-color: #E2EBFA;\n",
              "      box-shadow: 0px 1px 2px rgba(60, 64, 67, 0.3), 0px 1px 3px 1px rgba(60, 64, 67, 0.15);\n",
              "      fill: #174EA6;\n",
              "    }\n",
              "\n",
              "    [theme=dark] .colab-df-convert {\n",
              "      background-color: #3B4455;\n",
              "      fill: #D2E3FC;\n",
              "    }\n",
              "\n",
              "    [theme=dark] .colab-df-convert:hover {\n",
              "      background-color: #434B5C;\n",
              "      box-shadow: 0px 1px 3px 1px rgba(0, 0, 0, 0.15);\n",
              "      filter: drop-shadow(0px 1px 2px rgba(0, 0, 0, 0.3));\n",
              "      fill: #FFFFFF;\n",
              "    }\n",
              "  </style>\n",
              "\n",
              "      <script>\n",
              "        const buttonEl =\n",
              "          document.querySelector('#df-cf127efa-3b31-4e65-8e74-17b752cc454b button.colab-df-convert');\n",
              "        buttonEl.style.display =\n",
              "          google.colab.kernel.accessAllowed ? 'block' : 'none';\n",
              "\n",
              "        async function convertToInteractive(key) {\n",
              "          const element = document.querySelector('#df-cf127efa-3b31-4e65-8e74-17b752cc454b');\n",
              "          const dataTable =\n",
              "            await google.colab.kernel.invokeFunction('convertToInteractive',\n",
              "                                                     [key], {});\n",
              "          if (!dataTable) return;\n",
              "\n",
              "          const docLinkHtml = 'Like what you see? Visit the ' +\n",
              "            '<a target=\"_blank\" href=https://colab.research.google.com/notebooks/data_table.ipynb>data table notebook</a>'\n",
              "            + ' to learn more about interactive tables.';\n",
              "          element.innerHTML = '';\n",
              "          dataTable['output_type'] = 'display_data';\n",
              "          await google.colab.output.renderOutput(dataTable, element);\n",
              "          const docLink = document.createElement('div');\n",
              "          docLink.innerHTML = docLinkHtml;\n",
              "          element.appendChild(docLink);\n",
              "        }\n",
              "      </script>\n",
              "    </div>\n",
              "  </div>\n",
              "  "
            ]
          },
          "metadata": {},
          "execution_count": 39
        }
      ]
    },
    {
      "cell_type": "markdown",
      "source": [
        "## BiLSTM"
      ],
      "metadata": {
        "id": "ocR3-xIjxImK"
      }
    },
    {
      "cell_type": "code",
      "source": [
        "metrics_evaluation_regression(train_y[0], train_predict2)"
      ],
      "metadata": {
        "colab": {
          "base_uri": "https://localhost:8080/",
          "height": 81
        },
        "outputId": "a83b4e3a-fee5-43d9-bf46-af838975697b",
        "id": "jmhRlerdzPww"
      },
      "execution_count": null,
      "outputs": [
        {
          "output_type": "execute_result",
          "data": {
            "text/plain": [
              "            MSE       RMSE        MAE      MAPE\n",
              "0  17973.617383  134.06572  78.633088  0.008204"
            ],
            "text/html": [
              "\n",
              "  <div id=\"df-3a3ad132-262c-4eee-a514-2657ef84db12\">\n",
              "    <div class=\"colab-df-container\">\n",
              "      <div>\n",
              "<style scoped>\n",
              "    .dataframe tbody tr th:only-of-type {\n",
              "        vertical-align: middle;\n",
              "    }\n",
              "\n",
              "    .dataframe tbody tr th {\n",
              "        vertical-align: top;\n",
              "    }\n",
              "\n",
              "    .dataframe thead th {\n",
              "        text-align: right;\n",
              "    }\n",
              "</style>\n",
              "<table border=\"1\" class=\"dataframe\">\n",
              "  <thead>\n",
              "    <tr style=\"text-align: right;\">\n",
              "      <th></th>\n",
              "      <th>MSE</th>\n",
              "      <th>RMSE</th>\n",
              "      <th>MAE</th>\n",
              "      <th>MAPE</th>\n",
              "    </tr>\n",
              "  </thead>\n",
              "  <tbody>\n",
              "    <tr>\n",
              "      <th>0</th>\n",
              "      <td>17973.617383</td>\n",
              "      <td>134.06572</td>\n",
              "      <td>78.633088</td>\n",
              "      <td>0.008204</td>\n",
              "    </tr>\n",
              "  </tbody>\n",
              "</table>\n",
              "</div>\n",
              "      <button class=\"colab-df-convert\" onclick=\"convertToInteractive('df-3a3ad132-262c-4eee-a514-2657ef84db12')\"\n",
              "              title=\"Convert this dataframe to an interactive table.\"\n",
              "              style=\"display:none;\">\n",
              "        \n",
              "  <svg xmlns=\"http://www.w3.org/2000/svg\" height=\"24px\"viewBox=\"0 0 24 24\"\n",
              "       width=\"24px\">\n",
              "    <path d=\"M0 0h24v24H0V0z\" fill=\"none\"/>\n",
              "    <path d=\"M18.56 5.44l.94 2.06.94-2.06 2.06-.94-2.06-.94-.94-2.06-.94 2.06-2.06.94zm-11 1L8.5 8.5l.94-2.06 2.06-.94-2.06-.94L8.5 2.5l-.94 2.06-2.06.94zm10 10l.94 2.06.94-2.06 2.06-.94-2.06-.94-.94-2.06-.94 2.06-2.06.94z\"/><path d=\"M17.41 7.96l-1.37-1.37c-.4-.4-.92-.59-1.43-.59-.52 0-1.04.2-1.43.59L10.3 9.45l-7.72 7.72c-.78.78-.78 2.05 0 2.83L4 21.41c.39.39.9.59 1.41.59.51 0 1.02-.2 1.41-.59l7.78-7.78 2.81-2.81c.8-.78.8-2.07 0-2.86zM5.41 20L4 18.59l7.72-7.72 1.47 1.35L5.41 20z\"/>\n",
              "  </svg>\n",
              "      </button>\n",
              "      \n",
              "  <style>\n",
              "    .colab-df-container {\n",
              "      display:flex;\n",
              "      flex-wrap:wrap;\n",
              "      gap: 12px;\n",
              "    }\n",
              "\n",
              "    .colab-df-convert {\n",
              "      background-color: #E8F0FE;\n",
              "      border: none;\n",
              "      border-radius: 50%;\n",
              "      cursor: pointer;\n",
              "      display: none;\n",
              "      fill: #1967D2;\n",
              "      height: 32px;\n",
              "      padding: 0 0 0 0;\n",
              "      width: 32px;\n",
              "    }\n",
              "\n",
              "    .colab-df-convert:hover {\n",
              "      background-color: #E2EBFA;\n",
              "      box-shadow: 0px 1px 2px rgba(60, 64, 67, 0.3), 0px 1px 3px 1px rgba(60, 64, 67, 0.15);\n",
              "      fill: #174EA6;\n",
              "    }\n",
              "\n",
              "    [theme=dark] .colab-df-convert {\n",
              "      background-color: #3B4455;\n",
              "      fill: #D2E3FC;\n",
              "    }\n",
              "\n",
              "    [theme=dark] .colab-df-convert:hover {\n",
              "      background-color: #434B5C;\n",
              "      box-shadow: 0px 1px 3px 1px rgba(0, 0, 0, 0.15);\n",
              "      filter: drop-shadow(0px 1px 2px rgba(0, 0, 0, 0.3));\n",
              "      fill: #FFFFFF;\n",
              "    }\n",
              "  </style>\n",
              "\n",
              "      <script>\n",
              "        const buttonEl =\n",
              "          document.querySelector('#df-3a3ad132-262c-4eee-a514-2657ef84db12 button.colab-df-convert');\n",
              "        buttonEl.style.display =\n",
              "          google.colab.kernel.accessAllowed ? 'block' : 'none';\n",
              "\n",
              "        async function convertToInteractive(key) {\n",
              "          const element = document.querySelector('#df-3a3ad132-262c-4eee-a514-2657ef84db12');\n",
              "          const dataTable =\n",
              "            await google.colab.kernel.invokeFunction('convertToInteractive',\n",
              "                                                     [key], {});\n",
              "          if (!dataTable) return;\n",
              "\n",
              "          const docLinkHtml = 'Like what you see? Visit the ' +\n",
              "            '<a target=\"_blank\" href=https://colab.research.google.com/notebooks/data_table.ipynb>data table notebook</a>'\n",
              "            + ' to learn more about interactive tables.';\n",
              "          element.innerHTML = '';\n",
              "          dataTable['output_type'] = 'display_data';\n",
              "          await google.colab.output.renderOutput(dataTable, element);\n",
              "          const docLink = document.createElement('div');\n",
              "          docLink.innerHTML = docLinkHtml;\n",
              "          element.appendChild(docLink);\n",
              "        }\n",
              "      </script>\n",
              "    </div>\n",
              "  </div>\n",
              "  "
            ]
          },
          "metadata": {},
          "execution_count": 49
        }
      ]
    },
    {
      "cell_type": "code",
      "source": [
        "metrics_evaluation_regression(test_y[0], test_predict2)"
      ],
      "metadata": {
        "colab": {
          "base_uri": "https://localhost:8080/",
          "height": 81
        },
        "outputId": "e5d6a85d-4aa1-4e25-b36e-e22e81785ef9",
        "id": "VObnVWDlzPwy"
      },
      "execution_count": null,
      "outputs": [
        {
          "output_type": "execute_result",
          "data": {
            "text/plain": [
              "            MSE        RMSE        MAE      MAPE\n",
              "0  11413.950255  106.836091  67.162503  0.008017"
            ],
            "text/html": [
              "\n",
              "  <div id=\"df-140d9742-cf98-4cca-8952-de11670c8eb3\">\n",
              "    <div class=\"colab-df-container\">\n",
              "      <div>\n",
              "<style scoped>\n",
              "    .dataframe tbody tr th:only-of-type {\n",
              "        vertical-align: middle;\n",
              "    }\n",
              "\n",
              "    .dataframe tbody tr th {\n",
              "        vertical-align: top;\n",
              "    }\n",
              "\n",
              "    .dataframe thead th {\n",
              "        text-align: right;\n",
              "    }\n",
              "</style>\n",
              "<table border=\"1\" class=\"dataframe\">\n",
              "  <thead>\n",
              "    <tr style=\"text-align: right;\">\n",
              "      <th></th>\n",
              "      <th>MSE</th>\n",
              "      <th>RMSE</th>\n",
              "      <th>MAE</th>\n",
              "      <th>MAPE</th>\n",
              "    </tr>\n",
              "  </thead>\n",
              "  <tbody>\n",
              "    <tr>\n",
              "      <th>0</th>\n",
              "      <td>11413.950255</td>\n",
              "      <td>106.836091</td>\n",
              "      <td>67.162503</td>\n",
              "      <td>0.008017</td>\n",
              "    </tr>\n",
              "  </tbody>\n",
              "</table>\n",
              "</div>\n",
              "      <button class=\"colab-df-convert\" onclick=\"convertToInteractive('df-140d9742-cf98-4cca-8952-de11670c8eb3')\"\n",
              "              title=\"Convert this dataframe to an interactive table.\"\n",
              "              style=\"display:none;\">\n",
              "        \n",
              "  <svg xmlns=\"http://www.w3.org/2000/svg\" height=\"24px\"viewBox=\"0 0 24 24\"\n",
              "       width=\"24px\">\n",
              "    <path d=\"M0 0h24v24H0V0z\" fill=\"none\"/>\n",
              "    <path d=\"M18.56 5.44l.94 2.06.94-2.06 2.06-.94-2.06-.94-.94-2.06-.94 2.06-2.06.94zm-11 1L8.5 8.5l.94-2.06 2.06-.94-2.06-.94L8.5 2.5l-.94 2.06-2.06.94zm10 10l.94 2.06.94-2.06 2.06-.94-2.06-.94-.94-2.06-.94 2.06-2.06.94z\"/><path d=\"M17.41 7.96l-1.37-1.37c-.4-.4-.92-.59-1.43-.59-.52 0-1.04.2-1.43.59L10.3 9.45l-7.72 7.72c-.78.78-.78 2.05 0 2.83L4 21.41c.39.39.9.59 1.41.59.51 0 1.02-.2 1.41-.59l7.78-7.78 2.81-2.81c.8-.78.8-2.07 0-2.86zM5.41 20L4 18.59l7.72-7.72 1.47 1.35L5.41 20z\"/>\n",
              "  </svg>\n",
              "      </button>\n",
              "      \n",
              "  <style>\n",
              "    .colab-df-container {\n",
              "      display:flex;\n",
              "      flex-wrap:wrap;\n",
              "      gap: 12px;\n",
              "    }\n",
              "\n",
              "    .colab-df-convert {\n",
              "      background-color: #E8F0FE;\n",
              "      border: none;\n",
              "      border-radius: 50%;\n",
              "      cursor: pointer;\n",
              "      display: none;\n",
              "      fill: #1967D2;\n",
              "      height: 32px;\n",
              "      padding: 0 0 0 0;\n",
              "      width: 32px;\n",
              "    }\n",
              "\n",
              "    .colab-df-convert:hover {\n",
              "      background-color: #E2EBFA;\n",
              "      box-shadow: 0px 1px 2px rgba(60, 64, 67, 0.3), 0px 1px 3px 1px rgba(60, 64, 67, 0.15);\n",
              "      fill: #174EA6;\n",
              "    }\n",
              "\n",
              "    [theme=dark] .colab-df-convert {\n",
              "      background-color: #3B4455;\n",
              "      fill: #D2E3FC;\n",
              "    }\n",
              "\n",
              "    [theme=dark] .colab-df-convert:hover {\n",
              "      background-color: #434B5C;\n",
              "      box-shadow: 0px 1px 3px 1px rgba(0, 0, 0, 0.15);\n",
              "      filter: drop-shadow(0px 1px 2px rgba(0, 0, 0, 0.3));\n",
              "      fill: #FFFFFF;\n",
              "    }\n",
              "  </style>\n",
              "\n",
              "      <script>\n",
              "        const buttonEl =\n",
              "          document.querySelector('#df-140d9742-cf98-4cca-8952-de11670c8eb3 button.colab-df-convert');\n",
              "        buttonEl.style.display =\n",
              "          google.colab.kernel.accessAllowed ? 'block' : 'none';\n",
              "\n",
              "        async function convertToInteractive(key) {\n",
              "          const element = document.querySelector('#df-140d9742-cf98-4cca-8952-de11670c8eb3');\n",
              "          const dataTable =\n",
              "            await google.colab.kernel.invokeFunction('convertToInteractive',\n",
              "                                                     [key], {});\n",
              "          if (!dataTable) return;\n",
              "\n",
              "          const docLinkHtml = 'Like what you see? Visit the ' +\n",
              "            '<a target=\"_blank\" href=https://colab.research.google.com/notebooks/data_table.ipynb>data table notebook</a>'\n",
              "            + ' to learn more about interactive tables.';\n",
              "          element.innerHTML = '';\n",
              "          dataTable['output_type'] = 'display_data';\n",
              "          await google.colab.output.renderOutput(dataTable, element);\n",
              "          const docLink = document.createElement('div');\n",
              "          docLink.innerHTML = docLinkHtml;\n",
              "          element.appendChild(docLink);\n",
              "        }\n",
              "      </script>\n",
              "    </div>\n",
              "  </div>\n",
              "  "
            ]
          },
          "metadata": {},
          "execution_count": 50
        }
      ]
    },
    {
      "cell_type": "markdown",
      "source": [
        "## Chart "
      ],
      "metadata": {
        "id": "bym2wr6CxUjm"
      }
    },
    {
      "cell_type": "code",
      "source": [
        "plt.figure(figsize=(12,5))\n",
        "plt.plot(train_y[0][:50])\n",
        "plt.plot(train_predict[:50])\n",
        "plt.plot(cnn_train[:50])\n",
        "plt.plot(train_predict2[:50])\n",
        "plt.legend(['Data Aktual', 'Vanilla LSTM', 'CNN-LSTM', 'BiLSTM'])"
      ],
      "metadata": {
        "colab": {
          "base_uri": "https://localhost:8080/",
          "height": 338
        },
        "outputId": "11474e1e-0df3-4f7b-9997-635d3007faac",
        "id": "wbaKzipExYx2"
      },
      "execution_count": null,
      "outputs": [
        {
          "output_type": "execute_result",
          "data": {
            "text/plain": [
              "<matplotlib.legend.Legend at 0x7f3a7fe90190>"
            ]
          },
          "metadata": {},
          "execution_count": 60
        },
        {
          "output_type": "display_data",
          "data": {
            "text/plain": [
              "<Figure size 864x360 with 1 Axes>"
            ],
            "image/png": "[encoded data removed]"
          },
          "metadata": {
            "needs_background": "light"
          }
        }
      ]
    },
    {
      "cell_type": "code",
      "source": [
        "plt.figure(figsize=(12,5))\n",
        "plt.plot(test_y[0][:50])\n",
        "plt.plot(test_predict[:50])\n",
        "plt.plot(cnn_test[:50])\n",
        "plt.plot(test_predict2[:50])\n",
        "plt.legend(['Data Aktual', 'Vanilla LSTM', 'CNN-LSTM', 'BiLSTM'])"
      ],
      "metadata": {
        "colab": {
          "base_uri": "https://localhost:8080/",
          "height": 338
        },
        "outputId": "7e82e5c3-db54-4104-abfb-692814177fa8",
        "id": "n7nFie-KxYx2"
      },
      "execution_count": null,
      "outputs": [
        {
          "output_type": "execute_result",
          "data": {
            "text/plain": [
              "<matplotlib.legend.Legend at 0x7f3afd19de50>"
            ]
          },
          "metadata": {},
          "execution_count": 59
        },
        {
          "output_type": "display_data",
          "data": {
            "text/plain": [
              "<Figure size 864x360 with 1 Axes>"
            ],
            "image/png": "[encoded data removed]"
          },
          "metadata": {
            "needs_background": "light"
          }
        }
      ]
    },
    {
      "cell_type": "code",
      "source": [
        "trace1 = go.Scatter(\n",
        "    x = weekly_rows['Date'],\n",
        "    y = test_y[0].astype(float),\n",
        "    mode = 'lines',\n",
        "    name = 'Data Aktual'\n",
        ")\n",
        "\n",
        "trace2 = go.Scatter(\n",
        "    x = weekly_rows['Date'],\n",
        "    y = np.ravel(test_predict).astype(float),\n",
        "    mode = 'lines',\n",
        "    name = 'Vanilla LSTM'\n",
        ")\n",
        "\n",
        "trace3 = go.Scatter(\n",
        "    x = weekly_rows['Date'],\n",
        "    y = np.ravel(cnn_test).astype(float),\n",
        "    mode = 'lines',\n",
        "    name = 'CNN-LSTM'\n",
        ")\n",
        "\n",
        "trace4 = go.Scatter(\n",
        "    x = weekly_rows['Date'],\n",
        "    y = np.ravel(test_predict2).astype(float),\n",
        "    mode = 'lines',\n",
        "    name = 'Bi-LSTM'\n",
        ")\n",
        "\n",
        "layout = dict(\n",
        "    title='ICBP Prices Test Prediction (2017-2022) with the Slider ',\n",
        "    hovermode='x',\n",
        "    xaxis=dict(\n",
        "        rangeselector=dict(\n",
        "            buttons=list([\n",
        "                #change the count to desired amount of months.\n",
        "                dict(count=1,\n",
        "                     label='1m',\n",
        "                     step='month',\n",
        "                     stepmode='backward'),\n",
        "                dict(count=6,\n",
        "                     label='6m',\n",
        "                     step='month',\n",
        "                     stepmode='backward'),\n",
        "                dict(count=12,\n",
        "                     label='1y',\n",
        "                     step='month',\n",
        "                     stepmode='backward'),\n",
        "                dict(count=36,\n",
        "                     label='3y',\n",
        "                     step='month',\n",
        "                     stepmode='backward'),\n",
        "                dict(step='all')\n",
        "            ])\n",
        "        ),\n",
        "        rangeslider=dict(\n",
        "            visible = True\n",
        "        ),\n",
        "        type='date'\n",
        "    )\n",
        ")\n",
        "\n",
        "# data = [trace1,trace2, trace3]\n",
        "data = [trace1,trace2,trace3,trace4]\n",
        "fig = dict(data=data, layout=layout)\n",
        "iplot(fig, filename = \"Time Series with Rangeslider\")\n",
        "# fig.show()"
      ],
      "metadata": {
        "colab": {
          "base_uri": "https://localhost:8080/",
          "height": 542
        },
        "outputId": "749bdb0b-04e2-46ce-9cf3-e7db2e007537",
        "id": "M7xXNKNM0UsK"
      },
      "execution_count": null,
      "outputs": [
        {
          "output_type": "display_data",
          "data": {
            "text/html": [
              "<html>\n",
              "<head><meta charset=\"utf-8\" /></head>\n",
              "<body>\n",
              "    <div>            <script src=\"https://cdnjs.cloudflare.com/ajax/libs/mathjax/2.7.5/MathJax.js?config=TeX-AMS-MML_SVG\"></script><script type=\"text/javascript\">if (window.MathJax) {MathJax.Hub.Config({SVG: {font: \"STIX-Web\"}});}</script>                <script type=\"text/javascript\">window.PlotlyConfig = {MathJaxConfig: 'local'};</script>\n",
              "        <script src=\"https://cdn.plot.ly/plotly-2.9.0.min.js\"></script>                <div id=\"3f47f1be-98ee-431e-b26f-f75ec99ed0ca\" class=\"plotly-graph-div\" style=\"height:525px; width:100%;\"></div>            <script type=\"text/javascript\">                                    window.PLOTLYENV=window.PLOTLYENV || {};                                    if (document.getElementById(\"3f47f1be-98ee-431e-b26f-f75ec99ed0ca\")) {                    Plotly.newPlot(                        \"3f47f1be-98ee-431e-b26f-f75ec99ed0ca\",                        [{\"mode\":\"lines\",\"name\":\"Data Aktual\",\"x\":[\"2017-04-03T00:00:00\",\"2017-04-10T00:00:00\",\"2017-04-17T00:00:00\",\"2017-04-24T00:00:00\",\"2017-05-01T00:00:00\",\"2017-05-08T00:00:00\",\"2017-05-15T00:00:00\",\"2017-05-22T00:00:00\",\"2017-05-29T00:00:00\",\"2017-06-05T00:00:00\",\"2017-06-12T00:00:00\",\"2017-06-19T00:00:00\",\"2017-06-26T00:00:00\",\"2017-07-03T00:00:00\",\"2017-07-10T00:00:00\",\"2017-07-17T00:00:00\",\"2017-07-24T00:00:00\",\"2017-07-31T00:00:00\",\"2017-08-07T00:00:00\",\"2017-08-14T00:00:00\",\"2017-08-21T00:00:00\",\"2017-08-28T00:00:00\",\"2017-09-04T00:00:00\",\"2017-09-11T00:00:00\",\"2017-09-18T00:00:00\",\"2017-09-25T00:00:00\",\"2017-10-02T00:00:00\",\"2017-10-09T00:00:00\",\"2017-10-16T00:00:00\",\"2017-10-23T00:00:00\",\"2017-10-30T00:00:00\",\"2017-11-06T00:00:00\",\"2017-11-13T00:00:00\",\"2017-11-20T00:00:00\",\"2017-11-27T00:00:00\",\"2017-12-04T00:00:00\",\"2017-12-11T00:00:00\",\"2017-12-18T00:00:00\",\"2017-12-25T00:00:00\",\"2018-01-01T00:00:00\",\"2018-01-08T00:00:00\",\"2018-01-15T00:00:00\",\"2018-01-22T00:00:00\",\"2018-01-29T00:00:00\",\"2018-02-05T00:00:00\",\"2018-02-12T00:00:00\",\"2018-02-19T00:00:00\",\"2018-02-26T00:00:00\",\"2018-03-05T00:00:00\",\"2018-03-12T00:00:00\",\"2018-03-19T00:00:00\",\"2018-03-26T00:00:00\",\"2018-04-02T00:00:00\",\"2018-04-09T00:00:00\",\"2018-04-16T00:00:00\",\"2018-04-23T00:00:00\",\"2018-04-30T00:00:00\",\"2018-05-07T00:00:00\",\"2018-05-14T00:00:00\",\"2018-05-21T00:00:00\",\"2018-05-28T00:00:00\",\"2018-06-04T00:00:00\",\"2018-06-11T00:00:00\",\"2018-06-18T00:00:00\",\"2018-06-25T00:00:00\",\"2018-07-02T00:00:00\",\"2018-07-09T00:00:00\",\"2018-07-16T00:00:00\",\"2018-07-23T00:00:00\",\"2018-07-30T00:00:00\",\"2018-08-06T00:00:00\",\"2018-08-13T00:00:00\",\"2018-08-20T00:00:00\",\"2018-08-27T00:00:00\",\"2018-09-03T00:00:00\",\"2018-09-10T00:00:00\",\"2018-09-17T00:00:00\",\"2018-09-24T00:00:00\",\"2018-10-01T00:00:00\",\"2018-10-08T00:00:00\",\"2018-10-15T00:00:00\",\"2018-10-22T00:00:00\",\"2018-10-29T00:00:00\",\"2018-11-05T00:00:00\",\"2018-11-12T00:00:00\",\"2018-11-19T00:00:00\",\"2018-11-26T00:00:00\",\"2018-12-03T00:00:00\",\"2018-12-10T00:00:00\",\"2018-12-17T00:00:00\",\"2018-12-24T00:00:00\",\"2018-12-31T00:00:00\",\"2019-01-07T00:00:00\",\"2019-01-14T00:00:00\",\"2019-01-21T00:00:00\",\"2019-01-28T00:00:00\",\"2019-02-04T00:00:00\",\"2019-02-11T00:00:00\",\"2019-02-18T00:00:00\",\"2019-02-25T00:00:00\",\"2019-03-04T00:00:00\",\"2019-03-11T00:00:00\",\"2019-03-18T00:00:00\",\"2019-03-25T00:00:00\",\"2019-04-01T00:00:00\",\"2019-04-08T00:00:00\",\"2019-04-15T00:00:00\",\"2019-04-22T00:00:00\",\"2019-04-29T00:00:00\",\"2019-05-06T00:00:00\",\"2019-05-13T00:00:00\",\"2019-05-20T00:00:00\",\"2019-05-27T00:00:00\",\"2019-06-03T00:00:00\",\"2019-06-10T00:00:00\",\"2019-06-17T00:00:00\",\"2019-06-24T00:00:00\",\"2019-07-01T00:00:00\",\"2019-07-08T00:00:00\",\"2019-07-15T00:00:00\",\"2019-07-22T00:00:00\",\"2019-07-29T00:00:00\",\"2019-08-05T00:00:00\",\"2019-08-12T00:00:00\",\"2019-08-19T00:00:00\",\"2019-08-26T00:00:00\",\"2019-09-02T00:00:00\",\"2019-09-09T00:00:00\",\"2019-09-16T00:00:00\",\"2019-09-23T00:00:00\",\"2019-09-30T00:00:00\",\"2019-10-07T00:00:00\",\"2019-10-14T00:00:00\",\"2019-10-21T00:00:00\",\"2019-10-28T00:00:00\",\"2019-11-04T00:00:00\",\"2019-11-11T00:00:00\",\"2019-11-18T00:00:00\",\"2019-11-25T00:00:00\",\"2019-12-02T00:00:00\",\"2019-12-09T00:00:00\",\"2019-12-16T00:00:00\",\"2019-12-23T00:00:00\",\"2019-12-30T00:00:00\",\"2020-01-06T00:00:00\",\"2020-01-13T00:00:00\",\"2020-01-20T00:00:00\",\"2020-01-27T00:00:00\",\"2020-02-03T00:00:00\",\"2020-02-10T00:00:00\",\"2020-02-17T00:00:00\",\"2020-02-24T00:00:00\",\"2020-03-02T00:00:00\",\"2020-03-09T00:00:00\",\"2020-03-16T00:00:00\",\"2020-03-23T00:00:00\",\"2020-03-30T00:00:00\",\"2020-04-06T00:00:00\",\"2020-04-13T00:00:00\",\"2020-04-20T00:00:00\",\"2020-04-27T00:00:00\",\"2020-05-04T00:00:00\",\"2020-05-11T00:00:00\",\"2020-05-18T00:00:00\",\"2020-05-25T00:00:00\",\"2020-06-01T00:00:00\",\"2020-06-08T00:00:00\",\"2020-06-15T00:00:00\",\"2020-06-22T00:00:00\",\"2020-06-29T00:00:00\",\"2020-07-06T00:00:00\",\"2020-07-13T00:00:00\",\"2020-07-20T00:00:00\",\"2020-07-27T00:00:00\",\"2020-08-03T00:00:00\",\"2020-08-10T00:00:00\",\"2020-08-17T00:00:00\",\"2020-08-24T00:00:00\",\"2020-08-31T00:00:00\",\"2020-09-07T00:00:00\",\"2020-09-14T00:00:00\",\"2020-09-21T00:00:00\",\"2020-09-28T00:00:00\",\"2020-10-05T00:00:00\",\"2020-10-12T00:00:00\",\"2020-10-19T00:00:00\",\"2020-10-26T00:00:00\",\"2020-11-02T00:00:00\",\"2020-11-09T00:00:00\",\"2020-11-16T00:00:00\",\"2020-11-23T00:00:00\",\"2020-11-30T00:00:00\",\"2020-12-07T00:00:00\",\"2020-12-14T00:00:00\",\"2020-12-21T00:00:00\",\"2020-12-28T00:00:00\",\"2021-01-04T00:00:00\",\"2021-01-11T00:00:00\",\"2021-01-18T00:00:00\",\"2021-01-25T00:00:00\",\"2021-02-01T00:00:00\",\"2021-02-08T00:00:00\",\"2021-02-15T00:00:00\",\"2021-02-22T00:00:00\",\"2021-03-01T00:00:00\",\"2021-03-08T00:00:00\",\"2021-03-15T00:00:00\",\"2021-03-22T00:00:00\",\"2021-03-29T00:00:00\",\"2021-04-05T00:00:00\",\"2021-04-12T00:00:00\",\"2021-04-19T00:00:00\",\"2021-04-26T00:00:00\",\"2021-05-03T00:00:00\",\"2021-05-10T00:00:00\",\"2021-05-17T00:00:00\",\"2021-05-24T00:00:00\",\"2021-05-31T00:00:00\",\"2021-06-07T00:00:00\",\"2021-06-14T00:00:00\",\"2021-06-21T00:00:00\",\"2021-06-28T00:00:00\",\"2021-07-05T00:00:00\",\"2021-07-12T00:00:00\",\"2021-07-19T00:00:00\",\"2021-07-26T00:00:00\",\"2021-08-02T00:00:00\",\"2021-08-09T00:00:00\",\"2021-08-16T00:00:00\",\"2021-08-23T00:00:00\",\"2021-08-30T00:00:00\",\"2021-09-06T00:00:00\",\"2021-09-13T00:00:00\",\"2021-09-20T00:00:00\",\"2021-09-27T00:00:00\",\"2021-10-04T00:00:00\",\"2021-10-11T00:00:00\",\"2021-10-18T00:00:00\",\"2021-10-25T00:00:00\",\"2021-11-01T00:00:00\",\"2021-11-08T00:00:00\",\"2021-11-15T00:00:00\",\"2021-11-22T00:00:00\",\"2021-11-29T00:00:00\",\"2021-12-06T00:00:00\",\"2021-12-13T00:00:00\",\"2021-12-20T00:00:00\",\"2021-12-27T00:00:00\",\"2022-01-03T00:00:00\",\"2022-01-10T00:00:00\",\"2022-01-17T00:00:00\",\"2022-01-24T00:00:00\",\"2022-01-31T00:00:00\",\"2022-02-07T00:00:00\",\"2022-02-14T00:00:00\",\"2022-02-21T00:00:00\",\"2022-02-28T00:00:00\",\"2022-03-07T00:00:00\",\"2022-03-14T00:00:00\",\"2022-03-21T00:00:00\",\"2022-03-28T00:00:00\",\"2022-04-04T00:00:00\"],\"y\":[8875.0,8875.0,8650.0,8625.0,8750.0,8750.0,8950.0,8950.0,8950.0,8950.0,8900.0,8800.0,8750.0,8875.0,8875.0,8875.0,8700.0,8600.0,8575.0,8625.0,8700.0,8700.0,8700.0,8550.0,8525.0,8525.0,8500.0,8450.0,8450.0,8450.0,8600.0,8525.0,8525.0,8525.0,8525.0,8525.0,8525.0,8250.0,8300.0,8275.0,8375.0,8325.0,8325.0,8325.0,8200.0,8175.0,8175.0,8275.0,8125.0,8125.0,8125.0,8200.0,8200.0,8225.0,8700.0,8450.0,8450.0,8450.0,8350.0,8175.0,8150.0,8150.0,8175.0,8175.0,8175.0,8150.0,8150.0,8175.0,8125.0,7749.999999999999,7749.999999999999,7749.999999999999,7925.000000000001,8050.0,7975.000000000001,8025.0,8025.0,8025.0,8025.0,7975.000000000001,8250.0,8150.0,8500.0,8425.0,8425.0,8425.0,8225.0,8400.0,8450.0,8475.0,8550.0,8550.0,8550.0,8825.0,8950.0,8700.0,8675.0,8575.0,8575.0,8575.0,8500.0,8500.0,8500.0,8825.0,8650.0,8650.0,8650.0,8725.0,8500.0,8500.0,8350.0,8125.0,8125.0,8125.0,8125.0,8225.0,8175.0,8150.0,8275.0,8275.0,8275.0,8150.0,8050.0,8050.0,8075.0,8200.0,8200.0,8200.0,8250.0,8250.0,8350.0,8150.0,8150.0,8150.0,8150.0,8225.0,8200.0,8225.0,8225.0,8300.0,8300.0,8300.0,8600.0,8425.0,8400.0,8450.0,8475.0,8475.0,8475.0,8525.0,8425.0,8425.0,8525.0,8500.0,8500.0,8500.0,8425.0,8450.0,8375.0,8225.0,8150.0,8150.0,8150.0,8125.0,8300.0,8200.0,8250.0,8300.0,8300.0,8300.0,8350.0,8225.0,8225.0,8350.0,8325.0,8325.0,8325.0,8650.0,8825.0,8850.0,8850.0,8900.0,8900.0,8900.0,8850.0,8875.0,8950.0,9325.0,9275.0,9275.0,9275.0,9300.0,9300.0,9300.0,9225.0,9100.0,9100.0,9100.0,9100.0,9100.0,8850.0,8800.0,8800.0,8800.0,8800.0,8800.0,8850.0,8775.0,8800.0,8800.0,8800.0,8800.0,8900.0,8925.0,8900.0,8850.0,8950.0,8950.0,8950.0,8925.0,8825.0,8850.0,9075.0,9025.0,9025.0,9025.0,9075.0,8950.0,9000.0,8950.0,8875.0,8875.0,8875.0,8875.0,8450.0,8925.0,8850.0,8700.0,8700.0,8700.0,8750.0,8750.0,8775.0,8950.0,8850.0,8850.0,8850.0,8750.0,8700.0,8800.0,8750.0,8800.0,8800.0,8800.0,8825.0,8750.0,8675.0,8775.0,8725.0,8725.0,8725.0,8650.0,8700.0,8675.0,8700.0,8700.0,8700.0,8700.0,8625.0,8775.0,8825.0,8850.0,8875.0,8875.0,8875.0,8850.0,8700.0,8750.0,8775.0,8750.0,8750.0,8750.0,8775.0,8775.0,8750.0,8525.0,8675.0,8675.0,8675.0,8600.0,8750.0,8750.0,8700.0,8675.0,8675.0,8675.0,8725.0,8725.0,8675.0,8500.0,8625.0,8625.0,8625.0,8650.0,8625.0,8675.0,8625.0,8650.0,8650.0,8650.0,8550.0,8550.0,8500.0,8525.0,8525.0,8525.0,8525.0,8500.0,8525.0,8700.0,8525.0,8500.0,8500.0,8500.0,8500.0,8250.0,7925.000000000001,7925.000000000001,7825.000000000001,7825.000000000001,7825.000000000001,7400.0,7599.999999999999,7624.999999999999,7749.999999999999,7550.0,7550.0,7550.0,7525.0,7425.0,7624.999999999999,7574.999999999999,7574.999999999999,7574.999999999999,7574.999999999999,7450.0,7475.0,7500.0,7550.0,7250.0,7250.0,7250.0,7275.0,7300.0,7375.0,7350.0],\"type\":\"scatter\"},{\"mode\":\"lines\",\"name\":\"Vanilla LSTM\",\"x\":[\"2017-04-03T00:00:00\",\"2017-04-10T00:00:00\",\"2017-04-17T00:00:00\",\"2017-04-24T00:00:00\",\"2017-05-01T00:00:00\",\"2017-05-08T00:00:00\",\"2017-05-15T00:00:00\",\"2017-05-22T00:00:00\",\"2017-05-29T00:00:00\",\"2017-06-05T00:00:00\",\"2017-06-12T00:00:00\",\"2017-06-19T00:00:00\",\"2017-06-26T00:00:00\",\"2017-07-03T00:00:00\",\"2017-07-10T00:00:00\",\"2017-07-17T00:00:00\",\"2017-07-24T00:00:00\",\"2017-07-31T00:00:00\",\"2017-08-07T00:00:00\",\"2017-08-14T00:00:00\",\"2017-08-21T00:00:00\",\"2017-08-28T00:00:00\",\"2017-09-04T00:00:00\",\"2017-09-11T00:00:00\",\"2017-09-18T00:00:00\",\"2017-09-25T00:00:00\",\"2017-10-02T00:00:00\",\"2017-10-09T00:00:00\",\"2017-10-16T00:00:00\",\"2017-10-23T00:00:00\",\"2017-10-30T00:00:00\",\"2017-11-06T00:00:00\",\"2017-11-13T00:00:00\",\"2017-11-20T00:00:00\",\"2017-11-27T00:00:00\",\"2017-12-04T00:00:00\",\"2017-12-11T00:00:00\",\"2017-12-18T00:00:00\",\"2017-12-25T00:00:00\",\"2018-01-01T00:00:00\",\"2018-01-08T00:00:00\",\"2018-01-15T00:00:00\",\"2018-01-22T00:00:00\",\"2018-01-29T00:00:00\",\"2018-02-05T00:00:00\",\"2018-02-12T00:00:00\",\"2018-02-19T00:00:00\",\"2018-02-26T00:00:00\",\"2018-03-05T00:00:00\",\"2018-03-12T00:00:00\",\"2018-03-19T00:00:00\",\"2018-03-26T00:00:00\",\"2018-04-02T00:00:00\",\"2018-04-09T00:00:00\",\"2018-04-16T00:00:00\",\"2018-04-23T00:00:00\",\"2018-04-30T00:00:00\",\"2018-05-07T00:00:00\",\"2018-05-14T00:00:00\",\"2018-05-21T00:00:00\",\"2018-05-28T00:00:00\",\"2018-06-04T00:00:00\",\"2018-06-11T00:00:00\",\"2018-06-18T00:00:00\",\"2018-06-25T00:00:00\",\"2018-07-02T00:00:00\",\"2018-07-09T00:00:00\",\"2018-07-16T00:00:00\",\"2018-07-23T00:00:00\",\"2018-07-30T00:00:00\",\"2018-08-06T00:00:00\",\"2018-08-13T00:00:00\",\"2018-08-20T00:00:00\",\"2018-08-27T00:00:00\",\"2018-09-03T00:00:00\",\"2018-09-10T00:00:00\",\"2018-09-17T00:00:00\",\"2018-09-24T00:00:00\",\"2018-10-01T00:00:00\",\"2018-10-08T00:00:00\",\"2018-10-15T00:00:00\",\"2018-10-22T00:00:00\",\"2018-10-29T00:00:00\",\"2018-11-05T00:00:00\",\"2018-11-12T00:00:00\",\"2018-11-19T00:00:00\",\"2018-11-26T00:00:00\",\"2018-12-03T00:00:00\",\"2018-12-10T00:00:00\",\"2018-12-17T00:00:00\",\"2018-12-24T00:00:00\",\"2018-12-31T00:00:00\",\"2019-01-07T00:00:00\",\"2019-01-14T00:00:00\",\"2019-01-21T00:00:00\",\"2019-01-28T00:00:00\",\"2019-02-04T00:00:00\",\"2019-02-11T00:00:00\",\"2019-02-18T00:00:00\",\"2019-02-25T00:00:00\",\"2019-03-04T00:00:00\",\"2019-03-11T00:00:00\",\"2019-03-18T00:00:00\",\"2019-03-25T00:00:00\",\"2019-04-01T00:00:00\",\"2019-04-08T00:00:00\",\"2019-04-15T00:00:00\",\"2019-04-22T00:00:00\",\"2019-04-29T00:00:00\",\"2019-05-06T00:00:00\",\"2019-05-13T00:00:00\",\"2019-05-20T00:00:00\",\"2019-05-27T00:00:00\",\"2019-06-03T00:00:00\",\"2019-06-10T00:00:00\",\"2019-06-17T00:00:00\",\"2019-06-24T00:00:00\",\"2019-07-01T00:00:00\",\"2019-07-08T00:00:00\",\"2019-07-15T00:00:00\",\"2019-07-22T00:00:00\",\"2019-07-29T00:00:00\",\"2019-08-05T00:00:00\",\"2019-08-12T00:00:00\",\"2019-08-19T00:00:00\",\"2019-08-26T00:00:00\",\"2019-09-02T00:00:00\",\"2019-09-09T00:00:00\",\"2019-09-16T00:00:00\",\"2019-09-23T00:00:00\",\"2019-09-30T00:00:00\",\"2019-10-07T00:00:00\",\"2019-10-14T00:00:00\",\"2019-10-21T00:00:00\",\"2019-10-28T00:00:00\",\"2019-11-04T00:00:00\",\"2019-11-11T00:00:00\",\"2019-11-18T00:00:00\",\"2019-11-25T00:00:00\",\"2019-12-02T00:00:00\",\"2019-12-09T00:00:00\",\"2019-12-16T00:00:00\",\"2019-12-23T00:00:00\",\"2019-12-30T00:00:00\",\"2020-01-06T00:00:00\",\"2020-01-13T00:00:00\",\"2020-01-20T00:00:00\",\"2020-01-27T00:00:00\",\"2020-02-03T00:00:00\",\"2020-02-10T00:00:00\",\"2020-02-17T00:00:00\",\"2020-02-24T00:00:00\",\"2020-03-02T00:00:00\",\"2020-03-09T00:00:00\",\"2020-03-16T00:00:00\",\"2020-03-23T00:00:00\",\"2020-03-30T00:00:00\",\"2020-04-06T00:00:00\",\"2020-04-13T00:00:00\",\"2020-04-20T00:00:00\",\"2020-04-27T00:00:00\",\"2020-05-04T00:00:00\",\"2020-05-11T00:00:00\",\"2020-05-18T00:00:00\",\"2020-05-25T00:00:00\",\"2020-06-01T00:00:00\",\"2020-06-08T00:00:00\",\"2020-06-15T00:00:00\",\"2020-06-22T00:00:00\",\"2020-06-29T00:00:00\",\"2020-07-06T00:00:00\",\"2020-07-13T00:00:00\",\"2020-07-20T00:00:00\",\"2020-07-27T00:00:00\",\"2020-08-03T00:00:00\",\"2020-08-10T00:00:00\",\"2020-08-17T00:00:00\",\"2020-08-24T00:00:00\",\"2020-08-31T00:00:00\",\"2020-09-07T00:00:00\",\"2020-09-14T00:00:00\",\"2020-09-21T00:00:00\",\"2020-09-28T00:00:00\",\"2020-10-05T00:00:00\",\"2020-10-12T00:00:00\",\"2020-10-19T00:00:00\",\"2020-10-26T00:00:00\",\"2020-11-02T00:00:00\",\"2020-11-09T00:00:00\",\"2020-11-16T00:00:00\",\"2020-11-23T00:00:00\",\"2020-11-30T00:00:00\",\"2020-12-07T00:00:00\",\"2020-12-14T00:00:00\",\"2020-12-21T00:00:00\",\"2020-12-28T00:00:00\",\"2021-01-04T00:00:00\",\"2021-01-11T00:00:00\",\"2021-01-18T00:00:00\",\"2021-01-25T00:00:00\",\"2021-02-01T00:00:00\",\"2021-02-08T00:00:00\",\"2021-02-15T00:00:00\",\"2021-02-22T00:00:00\",\"2021-03-01T00:00:00\",\"2021-03-08T00:00:00\",\"2021-03-15T00:00:00\",\"2021-03-22T00:00:00\",\"2021-03-29T00:00:00\",\"2021-04-05T00:00:00\",\"2021-04-12T00:00:00\",\"2021-04-19T00:00:00\",\"2021-04-26T00:00:00\",\"2021-05-03T00:00:00\",\"2021-05-10T00:00:00\",\"2021-05-17T00:00:00\",\"2021-05-24T00:00:00\",\"2021-05-31T00:00:00\",\"2021-06-07T00:00:00\",\"2021-06-14T00:00:00\",\"2021-06-21T00:00:00\",\"2021-06-28T00:00:00\",\"2021-07-05T00:00:00\",\"2021-07-12T00:00:00\",\"2021-07-19T00:00:00\",\"2021-07-26T00:00:00\",\"2021-08-02T00:00:00\",\"2021-08-09T00:00:00\",\"2021-08-16T00:00:00\",\"2021-08-23T00:00:00\",\"2021-08-30T00:00:00\",\"2021-09-06T00:00:00\",\"2021-09-13T00:00:00\",\"2021-09-20T00:00:00\",\"2021-09-27T00:00:00\",\"2021-10-04T00:00:00\",\"2021-10-11T00:00:00\",\"2021-10-18T00:00:00\",\"2021-10-25T00:00:00\",\"2021-11-01T00:00:00\",\"2021-11-08T00:00:00\",\"2021-11-15T00:00:00\",\"2021-11-22T00:00:00\",\"2021-11-29T00:00:00\",\"2021-12-06T00:00:00\",\"2021-12-13T00:00:00\",\"2021-12-20T00:00:00\",\"2021-12-27T00:00:00\",\"2022-01-03T00:00:00\",\"2022-01-10T00:00:00\",\"2022-01-17T00:00:00\",\"2022-01-24T00:00:00\",\"2022-01-31T00:00:00\",\"2022-02-07T00:00:00\",\"2022-02-14T00:00:00\",\"2022-02-21T00:00:00\",\"2022-02-28T00:00:00\",\"2022-03-07T00:00:00\",\"2022-03-14T00:00:00\",\"2022-03-21T00:00:00\",\"2022-03-28T00:00:00\",\"2022-04-04T00:00:00\"],\"y\":[8896.369140625,8905.759765625,8905.515625,8711.029296875,8659.0244140625,8769.599609375,8786.798828125,8951.6396484375,8973.6904296875,8973.046875,8974.3642578125,8936.5068359375,8845.646484375,8788.0224609375,8892.0107421875,8909.423828125,8903.8193359375,8750.8564453125,8645.720703125,8616.421875,8656.025390625,8724.1064453125,8728.99609375,8727.830078125,8603.548828125,8565.5966796875,8565.1845703125,8543.1396484375,8494.97265625,8487.2353515625,8491.0126953125,8616.0771484375,8570.994140625,8558.2607421875,8560.9912109375,8564.0029296875,8563.9697265625,8560.740234375,8334.9423828125,8341.08984375,8332.34765625,8409.224609375,8376.392578125,8365.96875,8373.904296875,8273.22265625,8238.7353515625,8234.9462890625,8316.4501953125,8205.734375,8184.50732421875,8191.314453125,8251.9345703125,8259.25390625,8273.7236328125,8666.00390625,8519.0234375,8481.61328125,8488.06640625,8415.859375,8260.251953125,8205.923828125,8213.1435546875,8230.9580078125,8230.2998046875,8230.453125,8215.25390625,8213.388671875,8233.884765625,8196.3623046875,7900.1015625,7859.03173828125,7865.73876953125,7993.6123046875,8104.18017578125,8054.03076171875,8095.48828125,8106.203125,8108.669921875,8104.4853515625,8062.2841796875,8273.8955078125,8226.14453125,8488.953125,8471.44140625,8460.7802734375,8466.953125,8306.2724609375,8427.1865234375,8486.8203125,8510.9384765625,8571.6689453125,8581.4658203125,8586.5,8815.58984375,8958.119140625,8758.01171875,8701.9482421875,8626.15625,8618.33984375,8611.591796875,8543.0615234375,8536.2509765625,8537.3525390625,8813.5224609375,8705.0146484375,8674.7919921875,8679.6728515625,8750.5654296875,8570.0908203125,8531.982421875,8415.26171875,8211.513671875,8183.16943359375,8183.14404296875,8186.4951171875,8262.658203125,8236.0126953125,8214.572265625,8312.5634765625,8329.25,8327.080078125,8225.091796875,8134.6796875,8126.802734375,8143.38623046875,8243.0361328125,8254.3232421875,8254.2490234375,8297.70703125,8306.177734375,8386.314453125,8235.9462890625,8211.22265625,8216.05859375,8214.7236328125,8272.302734375,8256.52734375,8277.2890625,8281.2626953125,8341.9765625,8351.501953125,8348.6884765625,8594.279296875,8488.4658203125,8442.1240234375,8483.2578125,8516.1162109375,8517.5927734375,8509.748046875,8555.1806640625,8480.3193359375,8466.064453125,8550.599609375,8543.2255859375,8536.5263671875,8535.3232421875,8477.0341796875,8488.7138671875,8429.2294921875,8296.64453125,8217.7529296875,8210.7314453125,8212.2890625,8188.10986328125,8325.4169921875,8269.083984375,8295.689453125,8344.1689453125,8351.51953125,8351.6171875,8388.4423828125,8297.46875,8280.7734375,8383.154296875,8378.2880859375,8371.1181640625,8369.796875,8640.8544921875,8827.4677734375,8861.89453125,8861.982421875,8912.54296875,8928.9755859375,8929.978515625,8886.138671875,8902.0625,8972.001953125,9308.5,9310.5576171875,9294.5068359375,9295.796875,9331.5869140625,9337.6943359375,9339.162109375,9272.0595703125,9151.1318359375,9135.1015625,9138.705078125,9138.0263671875,9134.166015625,8912.947265625,8835.474609375,8833.9462890625,8836.568359375,8831.1796875,8827.9111328125,8873.3056640625,8815.8837890625,8826.2431640625,8831.0849609375,8831.9638671875,8830.5771484375,8916.1884765625,8951.8037109375,8931.208984375,8883.9697265625,8966.537109375,8982.984375,8980.146484375,8956.291015625,8868.4951171875,8878.3671875,9079.4375,9065.5517578125,9050.4150390625,9049.87109375,9100.404296875,8999.3837890625,9023.4130859375,8989.298828125,8917.75,8905.5400390625,8907.2802734375,8907.978515625,8539.2939453125,8890.609375,8899.802734375,8750.44921875,8722.322265625,8731.265625,8782.099609375,8780.1767578125,8799.791015625,8954.3828125,8892.330078125,8875.8876953125,8877.9296875,8797.052734375,8739.53125,8818.2412109375,8791.140625,8823.078125,8828.3115234375,8830.1171875,8851.7099609375,8790.564453125,8716.978515625,8793.5078125,8766.3662109375,8756.154296875,8754.3310546875,8692.83984375,8726.296875,8711.48828125,8729.1591796875,8731.2333984375,8731.0322265625,8731.8828125,8667.9267578125,8786.2158203125,8850.056640625,8874.83984375,8896.197265625,8901.69921875,8904.701171875,8883.521484375,8751.6796875,8774.7958984375,8806.1640625,8786.736328125,8779.0537109375,8779.3974609375,8803.611328125,8806.11328125,8783.640625,8589.3076171875,8687.7255859375,8712.712890625,8708.798828125,8639.9033203125,8758.6240234375,8783.92578125,8736.810546875,8707.3251953125,8707.681640625,8710.6943359375,8750.3974609375,8755.8671875,8712.5400390625,8558.6181640625,8643.0927734375,8663.685546875,8659.1884765625,8676.1435546875,8659.5830078125,8701.775390625,8665.0927734375,8679.2099609375,8683.2333984375,8683.2216796875,8598.6533203125,8584.8505859375,8546.044921875,8559.9365234375,8562.1982421875,8560.578125,8561.35546875,8540.4697265625,8559.251953125,8709.3671875,8584.2421875,8537.0849609375,8538.0986328125,8542.552734375,8540.0107421875,8327.1650390625,8040.17138671875,8006.4482421875,7932.0859375,7913.62255859375,7911.0576171875,7604.5888671875,7717.841796875,7761.71435546875,7850.63720703125,7716.67333984375,7694.25244140625,7717.5322265625,7690.12841796875,7615.6767578125,7740.53466796875,7732.9765625,7724.18359375,7726.798828125,7728.20654296875,7645.93603515625,7642.76513671875,7665.93115234375,7700.93701171875,7499.10107421875,7471.85400390625,7481.625,7491.11865234375,7506.97900390625,7555.56982421875],\"type\":\"scatter\"},{\"mode\":\"lines\",\"name\":\"CNN-LSTM\",\"x\":[\"2017-04-03T00:00:00\",\"2017-04-10T00:00:00\",\"2017-04-17T00:00:00\",\"2017-04-24T00:00:00\",\"2017-05-01T00:00:00\",\"2017-05-08T00:00:00\",\"2017-05-15T00:00:00\",\"2017-05-22T00:00:00\",\"2017-05-29T00:00:00\",\"2017-06-05T00:00:00\",\"2017-06-12T00:00:00\",\"2017-06-19T00:00:00\",\"2017-06-26T00:00:00\",\"2017-07-03T00:00:00\",\"2017-07-10T00:00:00\",\"2017-07-17T00:00:00\",\"2017-07-24T00:00:00\",\"2017-07-31T00:00:00\",\"2017-08-07T00:00:00\",\"2017-08-14T00:00:00\",\"2017-08-21T00:00:00\",\"2017-08-28T00:00:00\",\"2017-09-04T00:00:00\",\"2017-09-11T00:00:00\",\"2017-09-18T00:00:00\",\"2017-09-25T00:00:00\",\"2017-10-02T00:00:00\",\"2017-10-09T00:00:00\",\"2017-10-16T00:00:00\",\"2017-10-23T00:00:00\",\"2017-10-30T00:00:00\",\"2017-11-06T00:00:00\",\"2017-11-13T00:00:00\",\"2017-11-20T00:00:00\",\"2017-11-27T00:00:00\",\"2017-12-04T00:00:00\",\"2017-12-11T00:00:00\",\"2017-12-18T00:00:00\",\"2017-12-25T00:00:00\",\"2018-01-01T00:00:00\",\"2018-01-08T00:00:00\",\"2018-01-15T00:00:00\",\"2018-01-22T00:00:00\",\"2018-01-29T00:00:00\",\"2018-02-05T00:00:00\",\"2018-02-12T00:00:00\",\"2018-02-19T00:00:00\",\"2018-02-26T00:00:00\",\"2018-03-05T00:00:00\",\"2018-03-12T00:00:00\",\"2018-03-19T00:00:00\",\"2018-03-26T00:00:00\",\"2018-04-02T00:00:00\",\"2018-04-09T00:00:00\",\"2018-04-16T00:00:00\",\"2018-04-23T00:00:00\",\"2018-04-30T00:00:00\",\"2018-05-07T00:00:00\",\"2018-05-14T00:00:00\",\"2018-05-21T00:00:00\",\"2018-05-28T00:00:00\",\"2018-06-04T00:00:00\",\"2018-06-11T00:00:00\",\"2018-06-18T00:00:00\",\"2018-06-25T00:00:00\",\"2018-07-02T00:00:00\",\"2018-07-09T00:00:00\",\"2018-07-16T00:00:00\",\"2018-07-23T00:00:00\",\"2018-07-30T00:00:00\",\"2018-08-06T00:00:00\",\"2018-08-13T00:00:00\",\"2018-08-20T00:00:00\",\"2018-08-27T00:00:00\",\"2018-09-03T00:00:00\",\"2018-09-10T00:00:00\",\"2018-09-17T00:00:00\",\"2018-09-24T00:00:00\",\"2018-10-01T00:00:00\",\"2018-10-08T00:00:00\",\"2018-10-15T00:00:00\",\"2018-10-22T00:00:00\",\"2018-10-29T00:00:00\",\"2018-11-05T00:00:00\",\"2018-11-12T00:00:00\",\"2018-11-19T00:00:00\",\"2018-11-26T00:00:00\",\"2018-12-03T00:00:00\",\"2018-12-10T00:00:00\",\"2018-12-17T00:00:00\",\"2018-12-24T00:00:00\",\"2018-12-31T00:00:00\",\"2019-01-07T00:00:00\",\"2019-01-14T00:00:00\",\"2019-01-21T00:00:00\",\"2019-01-28T00:00:00\",\"2019-02-04T00:00:00\",\"2019-02-11T00:00:00\",\"2019-02-18T00:00:00\",\"2019-02-25T00:00:00\",\"2019-03-04T00:00:00\",\"2019-03-11T00:00:00\",\"2019-03-18T00:00:00\",\"2019-03-25T00:00:00\",\"2019-04-01T00:00:00\",\"2019-04-08T00:00:00\",\"2019-04-15T00:00:00\",\"2019-04-22T00:00:00\",\"2019-04-29T00:00:00\",\"2019-05-06T00:00:00\",\"2019-05-13T00:00:00\",\"2019-05-20T00:00:00\",\"2019-05-27T00:00:00\",\"2019-06-03T00:00:00\",\"2019-06-10T00:00:00\",\"2019-06-17T00:00:00\",\"2019-06-24T00:00:00\",\"2019-07-01T00:00:00\",\"2019-07-08T00:00:00\",\"2019-07-15T00:00:00\",\"2019-07-22T00:00:00\",\"2019-07-29T00:00:00\",\"2019-08-05T00:00:00\",\"2019-08-12T00:00:00\",\"2019-08-19T00:00:00\",\"2019-08-26T00:00:00\",\"2019-09-02T00:00:00\",\"2019-09-09T00:00:00\",\"2019-09-16T00:00:00\",\"2019-09-23T00:00:00\",\"2019-09-30T00:00:00\",\"2019-10-07T00:00:00\",\"2019-10-14T00:00:00\",\"2019-10-21T00:00:00\",\"2019-10-28T00:00:00\",\"2019-11-04T00:00:00\",\"2019-11-11T00:00:00\",\"2019-11-18T00:00:00\",\"2019-11-25T00:00:00\",\"2019-12-02T00:00:00\",\"2019-12-09T00:00:00\",\"2019-12-16T00:00:00\",\"2019-12-23T00:00:00\",\"2019-12-30T00:00:00\",\"2020-01-06T00:00:00\",\"2020-01-13T00:00:00\",\"2020-01-20T00:00:00\",\"2020-01-27T00:00:00\",\"2020-02-03T00:00:00\",\"2020-02-10T00:00:00\",\"2020-02-17T00:00:00\",\"2020-02-24T00:00:00\",\"2020-03-02T00:00:00\",\"2020-03-09T00:00:00\",\"2020-03-16T00:00:00\",\"2020-03-23T00:00:00\",\"2020-03-30T00:00:00\",\"2020-04-06T00:00:00\",\"2020-04-13T00:00:00\",\"2020-04-20T00:00:00\",\"2020-04-27T00:00:00\",\"2020-05-04T00:00:00\",\"2020-05-11T00:00:00\",\"2020-05-18T00:00:00\",\"2020-05-25T00:00:00\",\"2020-06-01T00:00:00\",\"2020-06-08T00:00:00\",\"2020-06-15T00:00:00\",\"2020-06-22T00:00:00\",\"2020-06-29T00:00:00\",\"2020-07-06T00:00:00\",\"2020-07-13T00:00:00\",\"2020-07-20T00:00:00\",\"2020-07-27T00:00:00\",\"2020-08-03T00:00:00\",\"2020-08-10T00:00:00\",\"2020-08-17T00:00:00\",\"2020-08-24T00:00:00\",\"2020-08-31T00:00:00\",\"2020-09-07T00:00:00\",\"2020-09-14T00:00:00\",\"2020-09-21T00:00:00\",\"2020-09-28T00:00:00\",\"2020-10-05T00:00:00\",\"2020-10-12T00:00:00\",\"2020-10-19T00:00:00\",\"2020-10-26T00:00:00\",\"2020-11-02T00:00:00\",\"2020-11-09T00:00:00\",\"2020-11-16T00:00:00\",\"2020-11-23T00:00:00\",\"2020-11-30T00:00:00\",\"2020-12-07T00:00:00\",\"2020-12-14T00:00:00\",\"2020-12-21T00:00:00\",\"2020-12-28T00:00:00\",\"2021-01-04T00:00:00\",\"2021-01-11T00:00:00\",\"2021-01-18T00:00:00\",\"2021-01-25T00:00:00\",\"2021-02-01T00:00:00\",\"2021-02-08T00:00:00\",\"2021-02-15T00:00:00\",\"2021-02-22T00:00:00\",\"2021-03-01T00:00:00\",\"2021-03-08T00:00:00\",\"2021-03-15T00:00:00\",\"2021-03-22T00:00:00\",\"2021-03-29T00:00:00\",\"2021-04-05T00:00:00\",\"2021-04-12T00:00:00\",\"2021-04-19T00:00:00\",\"2021-04-26T00:00:00\",\"2021-05-03T00:00:00\",\"2021-05-10T00:00:00\",\"2021-05-17T00:00:00\",\"2021-05-24T00:00:00\",\"2021-05-31T00:00:00\",\"2021-06-07T00:00:00\",\"2021-06-14T00:00:00\",\"2021-06-21T00:00:00\",\"2021-06-28T00:00:00\",\"2021-07-05T00:00:00\",\"2021-07-12T00:00:00\",\"2021-07-19T00:00:00\",\"2021-07-26T00:00:00\",\"2021-08-02T00:00:00\",\"2021-08-09T00:00:00\",\"2021-08-16T00:00:00\",\"2021-08-23T00:00:00\",\"2021-08-30T00:00:00\",\"2021-09-06T00:00:00\",\"2021-09-13T00:00:00\",\"2021-09-20T00:00:00\",\"2021-09-27T00:00:00\",\"2021-10-04T00:00:00\",\"2021-10-11T00:00:00\",\"2021-10-18T00:00:00\",\"2021-10-25T00:00:00\",\"2021-11-01T00:00:00\",\"2021-11-08T00:00:00\",\"2021-11-15T00:00:00\",\"2021-11-22T00:00:00\",\"2021-11-29T00:00:00\",\"2021-12-06T00:00:00\",\"2021-12-13T00:00:00\",\"2021-12-20T00:00:00\",\"2021-12-27T00:00:00\",\"2022-01-03T00:00:00\",\"2022-01-10T00:00:00\",\"2022-01-17T00:00:00\",\"2022-01-24T00:00:00\",\"2022-01-31T00:00:00\",\"2022-02-07T00:00:00\",\"2022-02-14T00:00:00\",\"2022-02-21T00:00:00\",\"2022-02-28T00:00:00\",\"2022-03-07T00:00:00\",\"2022-03-14T00:00:00\",\"2022-03-21T00:00:00\",\"2022-03-28T00:00:00\",\"2022-04-04T00:00:00\"],\"y\":[8890.56640625,8878.7626953125,8874.482421875,8691.4365234375,8685.2734375,8782.25390625,8756.951171875,8912.779296875,8895.607421875,8910.6240234375,8931.4609375,8903.0244140625,8834.09765625,8797.95703125,8895.81640625,8874.8818359375,8868.8017578125,8724.90234375,8658.236328125,8641.630859375,8667.5654296875,8707.0869140625,8687.7177734375,8687.4140625,8570.220703125,8566.3876953125,8564.72265625,8532.376953125,8481.802734375,8474.533203125,8468.12109375,8586.669921875,8510.62890625,8520.25390625,8527.1259765625,8530.80859375,8534.0205078125,8530.953125,8303.5234375,8362.7529296875,8325.181640625,8391.91796875,8329.77734375,8324.9912109375,8329.3251953125,8227.56640625,8217.09375,8210.466796875,8282.4443359375,8142.6748046875,8149.44091796875,8147.2568359375,8204.2412109375,8195.408203125,8212.5478515625,8607.662109375,8376.0712890625,8421.7001953125,8445.634765625,8375.12890625,8246.740234375,8222.1953125,8206.515625,8207.146484375,8187.88330078125,8177.99267578125,8156.91650390625,8159.931640625,8180.62353515625,8136.03857421875,7829.45166015625,7851.96484375,7831.08447265625,7946.6240234375,8013.1416015625,7932.0625,7995.08740234375,8007.79443359375,8021.5087890625,8028.00439453125,7986.564453125,8219.0302734375,8116.31201171875,8421.8203125,8348.98046875,8378.15234375,8407.6904296875,8254.744140625,8425.296875,8443.232421875,8454.3974609375,8517.693359375,8517.9404296875,8534.4951171875,8772.017578125,8863.3828125,8666.53125,8688.771484375,8621.201171875,8630.2119140625,8616.2099609375,8533.255859375,8529.4140625,8520.3681640625,8782.68359375,8612.439453125,8636.1328125,8650.583984375,8719.568359375,8535.1298828125,8546.251953125,8415.720703125,8228.0185546875,8225.458984375,8192.154296875,8165.49755859375,8226.6015625,8166.3203125,8152.68798828125,8262.275390625,8255.328125,8261.87109375,8164.17529296875,8095.81396484375,8102.46826171875,8109.7578125,8196.46875,8176.99560546875,8179.158203125,8230.4697265625,8236.099609375,8327.75,8160.42333984375,8181.48974609375,8181.3876953125,8173.2421875,8228.1796875,8192.830078125,8217.736328125,8220.298828125,8286.2021484375,8285.484375,8289.845703125,8544.099609375,8384.7431640625,8394.3271484375,8450.693359375,8472.375,8476.3212890625,8472.23828125,8516.1171875,8434.2744140625,8444.85546875,8526.1982421875,8494.8232421875,8497.9375,8499.0341796875,8440.8408203125,8470.037109375,8402.01171875,8278.75,8220.15234375,8209.7900390625,8191.515625,8152.57373046875,8285.9326171875,8186.0078125,8240.2900390625,8284.4970703125,8285.8125,8294.7734375,8338.48828125,8237.1171875,8250.626953125,8351.5009765625,8316.681640625,8319.517578125,8321.1328125,8594.533203125,8722.7421875,8747.49609375,8777.984375,8852.9453125,8878.970703125,8893.8154296875,8858.4140625,8885.4931640625,8945.880859375,9248.44921875,9185.19140625,9211.4609375,9241.740234375,9285.572265625,9300.7392578125,9301.4375,9241.0625,9144.2880859375,9150.0146484375,9138.501953125,9124.880859375,9113.3974609375,8900.130859375,8874.4921875,8865.3291015625,8844.7216796875,8825.900390625,8809.908203125,8847.2294921875,8781.7783203125,8809.7978515625,8808.0625,8806.90625,8806.7509765625,8887.2109375,8902.20703125,8885.04296875,8853.890625,8946.35546875,8942.23046875,8943.8984375,8926.310546875,8848.7421875,8879.5732421875,9057.4482421875,8993.95703125,9002.84375,9012.8701171875,9064.94921875,8967.248046875,9017.80859375,8970.40625,8908.21875,8909.24609375,8898.73046875,8892.162109375,8534.435546875,8950.146484375,8835.69140625,8709.5595703125,8724.220703125,8718.18359375,8766.318359375,8752.642578125,8767.5849609375,8913.2265625,8823.53125,8843.1611328125,8852.66796875,8774.798828125,8743.17578125,8819.7958984375,8761.7109375,8801.51953125,8794.7978515625,8796.6015625,8822.732421875,8760.181640625,8706.7236328125,8792.529296875,8737.080078125,8736.6142578125,8733.068359375,8669.3134765625,8717.21875,8687.54296875,8706.58984375,8702.7802734375,8701.3642578125,8703.837890625,8642.4208984375,8772.3046875,8800.197265625,8819.5908203125,8847.396484375,8855.865234375,8869.3203125,8855.423828125,8736.314453125,8787.572265625,8795.814453125,8763.63671875,8759.7216796875,8755.4228515625,8777.541015625,8775.95703125,8755.40234375,8572.966796875,8711.76171875,8690.2685546875,8680.03125,8614.017578125,8740.0673828125,8733.0908203125,8694.65234375,8683.591796875,8687.970703125,8690.466796875,8727.7109375,8720.3359375,8679.9755859375,8542.2607421875,8657.4296875,8639.5380859375,8630.298828125,8646.76953125,8622.7578125,8672.4296875,8629.1416015625,8655.236328125,8654.5205078125,8654.01953125,8572.693359375,8578.4228515625,8533.19921875,8549.98828125,8539.791015625,8532.2294921875,8530.455078125,8508.7470703125,8532.0400390625,8673.7685546875,8517.3076171875,8517.083984375,8522.927734375,8520.796875,8517.548828125,8301.537109375,8047.30908203125,8055.962890625,7939.13427734375,7906.90625,7869.22607421875,7492.92578125,7677.92333984375,7659.2001953125,7739.345703125,7555.98583984375,7567.205078125,7575.88818359375,7550.73779296875,7464.271484375,7624.98291015625,7562.775390625,7567.212890625,7571.8515625,7575.06591796875,7478.65283203125,7505.95166015625,7518.47216796875,7550.2978515625,7294.8310546875,7313.7568359375,7304.60302734375,7307.96533203125,7311.4619140625,7357.71630859375,7333.60009765625],\"type\":\"scatter\"},{\"mode\":\"lines\",\"name\":\"Bi-LSTM\",\"x\":[\"2017-04-03T00:00:00\",\"2017-04-10T00:00:00\",\"2017-04-17T00:00:00\",\"2017-04-24T00:00:00\",\"2017-05-01T00:00:00\",\"2017-05-08T00:00:00\",\"2017-05-15T00:00:00\",\"2017-05-22T00:00:00\",\"2017-05-29T00:00:00\",\"2017-06-05T00:00:00\",\"2017-06-12T00:00:00\",\"2017-06-19T00:00:00\",\"2017-06-26T00:00:00\",\"2017-07-03T00:00:00\",\"2017-07-10T00:00:00\",\"2017-07-17T00:00:00\",\"2017-07-24T00:00:00\",\"2017-07-31T00:00:00\",\"2017-08-07T00:00:00\",\"2017-08-14T00:00:00\",\"2017-08-21T00:00:00\",\"2017-08-28T00:00:00\",\"2017-09-04T00:00:00\",\"2017-09-11T00:00:00\",\"2017-09-18T00:00:00\",\"2017-09-25T00:00:00\",\"2017-10-02T00:00:00\",\"2017-10-09T00:00:00\",\"2017-10-16T00:00:00\",\"2017-10-23T00:00:00\",\"2017-10-30T00:00:00\",\"2017-11-06T00:00:00\",\"2017-11-13T00:00:00\",\"2017-11-20T00:00:00\",\"2017-11-27T00:00:00\",\"2017-12-04T00:00:00\",\"2017-12-11T00:00:00\",\"2017-12-18T00:00:00\",\"2017-12-25T00:00:00\",\"2018-01-01T00:00:00\",\"2018-01-08T00:00:00\",\"2018-01-15T00:00:00\",\"2018-01-22T00:00:00\",\"2018-01-29T00:00:00\",\"2018-02-05T00:00:00\",\"2018-02-12T00:00:00\",\"2018-02-19T00:00:00\",\"2018-02-26T00:00:00\",\"2018-03-05T00:00:00\",\"2018-03-12T00:00:00\",\"2018-03-19T00:00:00\",\"2018-03-26T00:00:00\",\"2018-04-02T00:00:00\",\"2018-04-09T00:00:00\",\"2018-04-16T00:00:00\",\"2018-04-23T00:00:00\",\"2018-04-30T00:00:00\",\"2018-05-07T00:00:00\",\"2018-05-14T00:00:00\",\"2018-05-21T00:00:00\",\"2018-05-28T00:00:00\",\"2018-06-04T00:00:00\",\"2018-06-11T00:00:00\",\"2018-06-18T00:00:00\",\"2018-06-25T00:00:00\",\"2018-07-02T00:00:00\",\"2018-07-09T00:00:00\",\"2018-07-16T00:00:00\",\"2018-07-23T00:00:00\",\"2018-07-30T00:00:00\",\"2018-08-06T00:00:00\",\"2018-08-13T00:00:00\",\"2018-08-20T00:00:00\",\"2018-08-27T00:00:00\",\"2018-09-03T00:00:00\",\"2018-09-10T00:00:00\",\"2018-09-17T00:00:00\",\"2018-09-24T00:00:00\",\"2018-10-01T00:00:00\",\"2018-10-08T00:00:00\",\"2018-10-15T00:00:00\",\"2018-10-22T00:00:00\",\"2018-10-29T00:00:00\",\"2018-11-05T00:00:00\",\"2018-11-12T00:00:00\",\"2018-11-19T00:00:00\",\"2018-11-26T00:00:00\",\"2018-12-03T00:00:00\",\"2018-12-10T00:00:00\",\"2018-12-17T00:00:00\",\"2018-12-24T00:00:00\",\"2018-12-31T00:00:00\",\"2019-01-07T00:00:00\",\"2019-01-14T00:00:00\",\"2019-01-21T00:00:00\",\"2019-01-28T00:00:00\",\"2019-02-04T00:00:00\",\"2019-02-11T00:00:00\",\"2019-02-18T00:00:00\",\"2019-02-25T00:00:00\",\"2019-03-04T00:00:00\",\"2019-03-11T00:00:00\",\"2019-03-18T00:00:00\",\"2019-03-25T00:00:00\",\"2019-04-01T00:00:00\",\"2019-04-08T00:00:00\",\"2019-04-15T00:00:00\",\"2019-04-22T00:00:00\",\"2019-04-29T00:00:00\",\"2019-05-06T00:00:00\",\"2019-05-13T00:00:00\",\"2019-05-20T00:00:00\",\"2019-05-27T00:00:00\",\"2019-06-03T00:00:00\",\"2019-06-10T00:00:00\",\"2019-06-17T00:00:00\",\"2019-06-24T00:00:00\",\"2019-07-01T00:00:00\",\"2019-07-08T00:00:00\",\"2019-07-15T00:00:00\",\"2019-07-22T00:00:00\",\"2019-07-29T00:00:00\",\"2019-08-05T00:00:00\",\"2019-08-12T00:00:00\",\"2019-08-19T00:00:00\",\"2019-08-26T00:00:00\",\"2019-09-02T00:00:00\",\"2019-09-09T00:00:00\",\"2019-09-16T00:00:00\",\"2019-09-23T00:00:00\",\"2019-09-30T00:00:00\",\"2019-10-07T00:00:00\",\"2019-10-14T00:00:00\",\"2019-10-21T00:00:00\",\"2019-10-28T00:00:00\",\"2019-11-04T00:00:00\",\"2019-11-11T00:00:00\",\"2019-11-18T00:00:00\",\"2019-11-25T00:00:00\",\"2019-12-02T00:00:00\",\"2019-12-09T00:00:00\",\"2019-12-16T00:00:00\",\"2019-12-23T00:00:00\",\"2019-12-30T00:00:00\",\"2020-01-06T00:00:00\",\"2020-01-13T00:00:00\",\"2020-01-20T00:00:00\",\"2020-01-27T00:00:00\",\"2020-02-03T00:00:00\",\"2020-02-10T00:00:00\",\"2020-02-17T00:00:00\",\"2020-02-24T00:00:00\",\"2020-03-02T00:00:00\",\"2020-03-09T00:00:00\",\"2020-03-16T00:00:00\",\"2020-03-23T00:00:00\",\"2020-03-30T00:00:00\",\"2020-04-06T00:00:00\",\"2020-04-13T00:00:00\",\"2020-04-20T00:00:00\",\"2020-04-27T00:00:00\",\"2020-05-04T00:00:00\",\"2020-05-11T00:00:00\",\"2020-05-18T00:00:00\",\"2020-05-25T00:00:00\",\"2020-06-01T00:00:00\",\"2020-06-08T00:00:00\",\"2020-06-15T00:00:00\",\"2020-06-22T00:00:00\",\"2020-06-29T00:00:00\",\"2020-07-06T00:00:00\",\"2020-07-13T00:00:00\",\"2020-07-20T00:00:00\",\"2020-07-27T00:00:00\",\"2020-08-03T00:00:00\",\"2020-08-10T00:00:00\",\"2020-08-17T00:00:00\",\"2020-08-24T00:00:00\",\"2020-08-31T00:00:00\",\"2020-09-07T00:00:00\",\"2020-09-14T00:00:00\",\"2020-09-21T00:00:00\",\"2020-09-28T00:00:00\",\"2020-10-05T00:00:00\",\"2020-10-12T00:00:00\",\"2020-10-19T00:00:00\",\"2020-10-26T00:00:00\",\"2020-11-02T00:00:00\",\"2020-11-09T00:00:00\",\"2020-11-16T00:00:00\",\"2020-11-23T00:00:00\",\"2020-11-30T00:00:00\",\"2020-12-07T00:00:00\",\"2020-12-14T00:00:00\",\"2020-12-21T00:00:00\",\"2020-12-28T00:00:00\",\"2021-01-04T00:00:00\",\"2021-01-11T00:00:00\",\"2021-01-18T00:00:00\",\"2021-01-25T00:00:00\",\"2021-02-01T00:00:00\",\"2021-02-08T00:00:00\",\"2021-02-15T00:00:00\",\"2021-02-22T00:00:00\",\"2021-03-01T00:00:00\",\"2021-03-08T00:00:00\",\"2021-03-15T00:00:00\",\"2021-03-22T00:00:00\",\"2021-03-29T00:00:00\",\"2021-04-05T00:00:00\",\"2021-04-12T00:00:00\",\"2021-04-19T00:00:00\",\"2021-04-26T00:00:00\",\"2021-05-03T00:00:00\",\"2021-05-10T00:00:00\",\"2021-05-17T00:00:00\",\"2021-05-24T00:00:00\",\"2021-05-31T00:00:00\",\"2021-06-07T00:00:00\",\"2021-06-14T00:00:00\",\"2021-06-21T00:00:00\",\"2021-06-28T00:00:00\",\"2021-07-05T00:00:00\",\"2021-07-12T00:00:00\",\"2021-07-19T00:00:00\",\"2021-07-26T00:00:00\",\"2021-08-02T00:00:00\",\"2021-08-09T00:00:00\",\"2021-08-16T00:00:00\",\"2021-08-23T00:00:00\",\"2021-08-30T00:00:00\",\"2021-09-06T00:00:00\",\"2021-09-13T00:00:00\",\"2021-09-20T00:00:00\",\"2021-09-27T00:00:00\",\"2021-10-04T00:00:00\",\"2021-10-11T00:00:00\",\"2021-10-18T00:00:00\",\"2021-10-25T00:00:00\",\"2021-11-01T00:00:00\",\"2021-11-08T00:00:00\",\"2021-11-15T00:00:00\",\"2021-11-22T00:00:00\",\"2021-11-29T00:00:00\",\"2021-12-06T00:00:00\",\"2021-12-13T00:00:00\",\"2021-12-20T00:00:00\",\"2021-12-27T00:00:00\",\"2022-01-03T00:00:00\",\"2022-01-10T00:00:00\",\"2022-01-17T00:00:00\",\"2022-01-24T00:00:00\",\"2022-01-31T00:00:00\",\"2022-02-07T00:00:00\",\"2022-02-14T00:00:00\",\"2022-02-21T00:00:00\",\"2022-02-28T00:00:00\",\"2022-03-07T00:00:00\",\"2022-03-14T00:00:00\",\"2022-03-21T00:00:00\",\"2022-03-28T00:00:00\",\"2022-04-04T00:00:00\"],\"y\":[8853.76953125,8861.08984375,8861.123046875,8656.4462890625,8614.591796875,8731.123046875,8744.283203125,8918.30078125,8935.0048828125,8932.2353515625,8931.240234375,8888.7841796875,8792.9599609375,8739.7080078125,8851.849609375,8863.6943359375,8859.8447265625,8701.1005859375,8597.3642578125,8570.40234375,8616.5869140625,8687.939453125,8692.1025390625,8690.251953125,8557.4541015625,8522.7314453125,8523.451171875,8503.09375,8455.1328125,8450.076171875,8452.6689453125,8585.3212890625,8531.953125,8522.130859375,8522.2880859375,8525.3857421875,8524.8603515625,8523.4443359375,8283.0966796875,8300.876953125,8289.0009765625,8378.1611328125,8338.8017578125,8331.15234375,8333.37109375,8227.3486328125,8194.5234375,8192.041015625,8281.794921875,8160.9638671875,8142.78564453125,8144.26611328125,8213.89453125,8219.314453125,8236.26953125,8648.7939453125,8478.484375,8447.984375,8446.8623046875,8370.240234375,8209.708984375,8163.77587890625,8170.34814453125,8194.6484375,8193.0078125,8191.14599609375,8171.38916015625,8169.798828125,8191.76220703125,8151.869140625,7832.501953125,7793.96728515625,7800.20263671875,7957.89697265625,8066.5263671875,8007.8046875,8042.06005859375,8049.9189453125,8058.12744140625,8054.41455078125,8010.38623046875,8239.1865234375,8181.6044921875,8467.5244140625,8432.7705078125,8428.3330078125,8425.845703125,8256.6083984375,8392.0712890625,8451.52734375,8478.4716796875,8539.15625,8547.4658203125,8548.7373046875,8790.0625,8927.1015625,8710.435546875,8661.8056640625,8577.7919921875,8573.0009765625,8571.169921875,8503.79296875,8497.8173828125,8499.240234375,8789.302734375,8661.318359375,8638.98828125,8640.5498046875,8713.388671875,8517.8984375,8493.2783203125,8366.0791015625,8159.4375,8140.361328125,8144.24560546875,8150.93701171875,8230.2509765625,8196.1201171875,8171.59375,8274.3427734375,8290.125,8288.90234375,8177.6455078125,8082.98046875,8076.9677734375,8100.50830078125,8209.2177734375,8216.7841796875,8214.779296875,8256.77734375,8264.8466796875,8351.029296875,8187.20947265625,8167.1875,8168.6689453125,8174.0966796875,8235.572265625,8217.4970703125,8237.873046875,8239.234375,8305.1796875,8312.3095703125,8310.6005859375,8569.6328125,8447.3173828125,8404.873046875,8444.451171875,8478.8037109375,8479.3408203125,8474.31640625,8519.9306640625,8437.7919921875,8427.2509765625,8516.0576171875,8505.431640625,8499.8330078125,8498.2265625,8435.0478515625,8450.17578125,8387.1044921875,8250.4169921875,8171.4423828125,8167.859375,8172.81103515625,8149.0908203125,8294.189453125,8226.7236328125,8258.61328125,8304.0126953125,8313.3603515625,8311.8994140625,8352.1630859375,8251.9033203125,8238.9912109375,8347.2822265625,8340.798828125,8334.4521484375,8331.0791015625,8617.8916015625,8801.205078125,8832.73828125,8830.2626953125,8879.7021484375,8885.9833984375,8884.5107421875,8838.935546875,8857.8349609375,8929.0078125,9275.0234375,9257.208984375,9245.2734375,9248.546875,9276.46875,9274.2177734375,9276.94140625,9207.1484375,9085.38671875,9077.1259765625,9080.689453125,9080.138671875,9079.4111328125,8849.9775390625,8783.34375,8785.6630859375,8788.806640625,8786.7724609375,8786.8818359375,8832.72265625,8769.5009765625,8784.3466796875,8787.9873046875,8788.4912109375,8787.2783203125,8877.93359375,8909.0263671875,8886.25390625,8837.9970703125,8925.900390625,8935.591796875,8932.984375,8909.462890625,8817.9140625,8832.33984375,9041.7373046875,9014.166015625,9003.24609375,9005.0078125,9053.2744140625,8941.2451171875,8975.8896484375,8937.3701171875,8864.2822265625,8857.623046875,8860.7880859375,8860.572265625,8475.67578125,8867.6083984375,8851.46875,8701.9833984375,8682.779296875,8692.419921875,8738.8583984375,8739.7119140625,8761.3984375,8920.6953125,8846.1865234375,8833.291015625,8835.1279296875,8747.2919921875,8692.0458984375,8779.9365234375,8745.6923828125,8783.2021484375,8787.5693359375,8788.3701171875,8809.7607421875,8744.9775390625,8670.5068359375,8755.236328125,8721.5859375,8714.59375,8714.009765625,8648.7451171875,8686.625,8669.8896484375,8689.82421875,8691.166015625,8691.4990234375,8691.2607421875,8624.3759765625,8751.9423828125,8811.583984375,8835.427734375,8856.91796875,8860.787109375,8860.3408203125,8837.673828125,8700.1318359375,8732.67578125,8763.365234375,8742.626953125,8737.7373046875,8739.05078125,8762.4111328125,8764.078125,8741.0146484375,8537.2783203125,8652.169921875,8670.9658203125,8669.380859375,8598.162109375,8727.17578125,8743.00390625,8695.26171875,8666.4072265625,8667.1552734375,8668.48828125,8712.12890625,8716.2001953125,8670.587890625,8510.005859375,8607.1083984375,8622.8408203125,8621.0615234375,8639.4736328125,8621.30859375,8664.00390625,8623.7001953125,8640.9560546875,8643.5,8643.958984375,8554.3681640625,8545.1943359375,8503.4189453125,8522.0947265625,8524.0908203125,8523.8310546875,8523.54296875,8501.6806640625,8521.896484375,8679.232421875,8540.095703125,8498.0947265625,8497.5810546875,8502.8349609375,8501.2734375,8279.21484375,7978.32177734375,7951.26416015625,7878.95703125,7875.802734375,7864.6337890625,7521.30859375,7642.03173828125,7682.00048828125,7804.69970703125,7633.1064453125,7605.5732421875,7617.6923828125,7606.92822265625,7521.6591796875,7658.82861328125,7646.07177734375,7643.9912109375,7630.7158203125,7638.46142578125,7547.46630859375,7546.66064453125,7570.12255859375,7617.83544921875,7384.1435546875,7347.60888671875,7349.25830078125,7387.8369140625,7395.1318359375,7441.79150390625],\"type\":\"scatter\"}],                        {\"hovermode\":\"x\",\"template\":{\"data\":{\"barpolar\":[{\"marker\":{\"line\":{\"color\":\"#E5ECF6\",\"width\":0.5},\"pattern\":{\"fillmode\":\"overlay\",\"size\":10,\"solidity\":0.2}},\"type\":\"barpolar\"}],\"bar\":[{\"error_x\":{\"color\":\"#2a3f5f\"},\"error_y\":{\"color\":\"#2a3f5f\"},\"marker\":{\"line\":{\"color\":\"#E5ECF6\",\"width\":0.5},\"pattern\":{\"fillmode\":\"overlay\",\"size\":10,\"solidity\":0.2}},\"type\":\"bar\"}],\"carpet\":[{\"aaxis\":{\"endlinecolor\":\"#2a3f5f\",\"gridcolor\":\"white\",\"linecolor\":\"white\",\"minorgridcolor\":\"white\",\"startlinecolor\":\"#2a3f5f\"},\"baxis\":{\"endlinecolor\":\"#2a3f5f\",\"gridcolor\":\"white\",\"linecolor\":\"white\",\"minorgridcolor\":\"white\",\"startlinecolor\":\"#2a3f5f\"},\"type\":\"carpet\"}],\"choropleth\":[{\"colorbar\":{\"outlinewidth\":0,\"ticks\":\"\"},\"type\":\"choropleth\"}],\"contourcarpet\":[{\"colorbar\":{\"outlinewidth\":0,\"ticks\":\"\"},\"type\":\"contourcarpet\"}],\"contour\":[{\"colorbar\":{\"outlinewidth\":0,\"ticks\":\"\"},\"colorscale\":[[0.0,\"#0d0887\"],[0.1111111111111111,\"#46039f\"],[0.2222222222222222,\"#7201a8\"],[0.3333333333333333,\"#9c179e\"],[0.4444444444444444,\"#bd3786\"],[0.5555555555555556,\"#d8576b\"],[0.6666666666666666,\"#ed7953\"],[0.7777777777777778,\"#fb9f3a\"],[0.8888888888888888,\"#fdca26\"],[1.0,\"#f0f921\"]],\"type\":\"contour\"}],\"heatmapgl\":[{\"colorbar\":{\"outlinewidth\":0,\"ticks\":\"\"},\"colorscale\":[[0.0,\"#0d0887\"],[0.1111111111111111,\"#46039f\"],[0.2222222222222222,\"#7201a8\"],[0.3333333333333333,\"#9c179e\"],[0.4444444444444444,\"#bd3786\"],[0.5555555555555556,\"#d8576b\"],[0.6666666666666666,\"#ed7953\"],[0.7777777777777778,\"#fb9f3a\"],[0.8888888888888888,\"#fdca26\"],[1.0,\"#f0f921\"]],\"type\":\"heatmapgl\"}],\"heatmap\":[{\"colorbar\":{\"outlinewidth\":0,\"ticks\":\"\"},\"colorscale\":[[0.0,\"#0d0887\"],[0.1111111111111111,\"#46039f\"],[0.2222222222222222,\"#7201a8\"],[0.3333333333333333,\"#9c179e\"],[0.4444444444444444,\"#bd3786\"],[0.5555555555555556,\"#d8576b\"],[0.6666666666666666,\"#ed7953\"],[0.7777777777777778,\"#fb9f3a\"],[0.8888888888888888,\"#fdca26\"],[1.0,\"#f0f921\"]],\"type\":\"heatmap\"}],\"histogram2dcontour\":[{\"colorbar\":{\"outlinewidth\":0,\"ticks\":\"\"},\"colorscale\":[[0.0,\"#0d0887\"],[0.1111111111111111,\"#46039f\"],[0.2222222222222222,\"#7201a8\"],[0.3333333333333333,\"#9c179e\"],[0.4444444444444444,\"#bd3786\"],[0.5555555555555556,\"#d8576b\"],[0.6666666666666666,\"#ed7953\"],[0.7777777777777778,\"#fb9f3a\"],[0.8888888888888888,\"#fdca26\"],[1.0,\"#f0f921\"]],\"type\":\"histogram2dcontour\"}],\"histogram2d\":[{\"colorbar\":{\"outlinewidth\":0,\"ticks\":\"\"},\"colorscale\":[[0.0,\"#0d0887\"],[0.1111111111111111,\"#46039f\"],[0.2222222222222222,\"#7201a8\"],[0.3333333333333333,\"#9c179e\"],[0.4444444444444444,\"#bd3786\"],[0.5555555555555556,\"#d8576b\"],[0.6666666666666666,\"#ed7953\"],[0.7777777777777778,\"#fb9f3a\"],[0.8888888888888888,\"#fdca26\"],[1.0,\"#f0f921\"]],\"type\":\"histogram2d\"}],\"histogram\":[{\"marker\":{\"pattern\":{\"fillmode\":\"overlay\",\"size\":10,\"solidity\":0.2}},\"type\":\"histogram\"}],\"mesh3d\":[{\"colorbar\":{\"outlinewidth\":0,\"ticks\":\"\"},\"type\":\"mesh3d\"}],\"parcoords\":[{\"line\":{\"colorbar\":{\"outlinewidth\":0,\"ticks\":\"\"}},\"type\":\"parcoords\"}],\"pie\":[{\"automargin\":true,\"type\":\"pie\"}],\"scatter3d\":[{\"line\":{\"colorbar\":{\"outlinewidth\":0,\"ticks\":\"\"}},\"marker\":{\"colorbar\":{\"outlinewidth\":0,\"ticks\":\"\"}},\"type\":\"scatter3d\"}],\"scattercarpet\":[{\"marker\":{\"colorbar\":{\"outlinewidth\":0,\"ticks\":\"\"}},\"type\":\"scattercarpet\"}],\"scattergeo\":[{\"marker\":{\"colorbar\":{\"outlinewidth\":0,\"ticks\":\"\"}},\"type\":\"scattergeo\"}],\"scattergl\":[{\"marker\":{\"colorbar\":{\"outlinewidth\":0,\"ticks\":\"\"}},\"type\":\"scattergl\"}],\"scattermapbox\":[{\"marker\":{\"colorbar\":{\"outlinewidth\":0,\"ticks\":\"\"}},\"type\":\"scattermapbox\"}],\"scatterpolargl\":[{\"marker\":{\"colorbar\":{\"outlinewidth\":0,\"ticks\":\"\"}},\"type\":\"scatterpolargl\"}],\"scatterpolar\":[{\"marker\":{\"colorbar\":{\"outlinewidth\":0,\"ticks\":\"\"}},\"type\":\"scatterpolar\"}],\"scatter\":[{\"marker\":{\"colorbar\":{\"outlinewidth\":0,\"ticks\":\"\"}},\"type\":\"scatter\"}],\"scatterternary\":[{\"marker\":{\"colorbar\":{\"outlinewidth\":0,\"ticks\":\"\"}},\"type\":\"scatterternary\"}],\"surface\":[{\"colorbar\":{\"outlinewidth\":0,\"ticks\":\"\"},\"colorscale\":[[0.0,\"#0d0887\"],[0.1111111111111111,\"#46039f\"],[0.2222222222222222,\"#7201a8\"],[0.3333333333333333,\"#9c179e\"],[0.4444444444444444,\"#bd3786\"],[0.5555555555555556,\"#d8576b\"],[0.6666666666666666,\"#ed7953\"],[0.7777777777777778,\"#fb9f3a\"],[0.8888888888888888,\"#fdca26\"],[1.0,\"#f0f921\"]],\"type\":\"surface\"}],\"table\":[{\"cells\":{\"fill\":{\"color\":\"#EBF0F8\"},\"line\":{\"color\":\"white\"}},\"header\":{\"fill\":{\"color\":\"#C8D4E3\"},\"line\":{\"color\":\"white\"}},\"type\":\"table\"}]},\"layout\":{\"annotationdefaults\":{\"arrowcolor\":\"#2a3f5f\",\"arrowhead\":0,\"arrowwidth\":1},\"autotypenumbers\":\"strict\",\"coloraxis\":{\"colorbar\":{\"outlinewidth\":0,\"ticks\":\"\"}},\"colorscale\":{\"diverging\":[[0,\"#8e0152\"],[0.1,\"#c51b7d\"],[0.2,\"#de77ae\"],[0.3,\"#f1b6da\"],[0.4,\"#fde0ef\"],[0.5,\"#f7f7f7\"],[0.6,\"#e6f5d0\"],[0.7,\"#b8e186\"],[0.8,\"#7fbc41\"],[0.9,\"#4d9221\"],[1,\"#276419\"]],\"sequential\":[[0.0,\"#0d0887\"],[0.1111111111111111,\"#46039f\"],[0.2222222222222222,\"#7201a8\"],[0.3333333333333333,\"#9c179e\"],[0.4444444444444444,\"#bd3786\"],[0.5555555555555556,\"#d8576b\"],[0.6666666666666666,\"#ed7953\"],[0.7777777777777778,\"#fb9f3a\"],[0.8888888888888888,\"#fdca26\"],[1.0,\"#f0f921\"]],\"sequentialminus\":[[0.0,\"#0d0887\"],[0.1111111111111111,\"#46039f\"],[0.2222222222222222,\"#7201a8\"],[0.3333333333333333,\"#9c179e\"],[0.4444444444444444,\"#bd3786\"],[0.5555555555555556,\"#d8576b\"],[0.6666666666666666,\"#ed7953\"],[0.7777777777777778,\"#fb9f3a\"],[0.8888888888888888,\"#fdca26\"],[1.0,\"#f0f921\"]]},\"colorway\":[\"#636efa\",\"#EF553B\",\"#00cc96\",\"#ab63fa\",\"#FFA15A\",\"#19d3f3\",\"#FF6692\",\"#B6E880\",\"#FF97FF\",\"#FECB52\"],\"font\":{\"color\":\"#2a3f5f\"},\"geo\":{\"bgcolor\":\"white\",\"lakecolor\":\"white\",\"landcolor\":\"#E5ECF6\",\"showlakes\":true,\"showland\":true,\"subunitcolor\":\"white\"},\"hoverlabel\":{\"align\":\"left\"},\"hovermode\":\"closest\",\"mapbox\":{\"style\":\"light\"},\"paper_bgcolor\":\"white\",\"plot_bgcolor\":\"#E5ECF6\",\"polar\":{\"angularaxis\":{\"gridcolor\":\"white\",\"linecolor\":\"white\",\"ticks\":\"\"},\"bgcolor\":\"#E5ECF6\",\"radialaxis\":{\"gridcolor\":\"white\",\"linecolor\":\"white\",\"ticks\":\"\"}},\"scene\":{\"xaxis\":{\"backgroundcolor\":\"#E5ECF6\",\"gridcolor\":\"white\",\"gridwidth\":2,\"linecolor\":\"white\",\"showbackground\":true,\"ticks\":\"\",\"zerolinecolor\":\"white\"},\"yaxis\":{\"backgroundcolor\":\"#E5ECF6\",\"gridcolor\":\"white\",\"gridwidth\":2,\"linecolor\":\"white\",\"showbackground\":true,\"ticks\":\"\",\"zerolinecolor\":\"white\"},\"zaxis\":{\"backgroundcolor\":\"#E5ECF6\",\"gridcolor\":\"white\",\"gridwidth\":2,\"linecolor\":\"white\",\"showbackground\":true,\"ticks\":\"\",\"zerolinecolor\":\"white\"}},\"shapedefaults\":{\"line\":{\"color\":\"#2a3f5f\"}},\"ternary\":{\"aaxis\":{\"gridcolor\":\"white\",\"linecolor\":\"white\",\"ticks\":\"\"},\"baxis\":{\"gridcolor\":\"white\",\"linecolor\":\"white\",\"ticks\":\"\"},\"bgcolor\":\"#E5ECF6\",\"caxis\":{\"gridcolor\":\"white\",\"linecolor\":\"white\",\"ticks\":\"\"}},\"title\":{\"x\":0.05},\"xaxis\":{\"automargin\":true,\"gridcolor\":\"white\",\"linecolor\":\"white\",\"ticks\":\"\",\"title\":{\"standoff\":15},\"zerolinecolor\":\"white\",\"zerolinewidth\":2},\"yaxis\":{\"automargin\":true,\"gridcolor\":\"white\",\"linecolor\":\"white\",\"ticks\":\"\",\"title\":{\"standoff\":15},\"zerolinecolor\":\"white\",\"zerolinewidth\":2}}},\"title\":{\"text\":\"ICBP Prices Test Prediction (2017-2022) with the Slider \"},\"xaxis\":{\"rangeselector\":{\"buttons\":[{\"count\":1,\"label\":\"1m\",\"step\":\"month\",\"stepmode\":\"backward\"},{\"count\":6,\"label\":\"6m\",\"step\":\"month\",\"stepmode\":\"backward\"},{\"count\":12,\"label\":\"1y\",\"step\":\"month\",\"stepmode\":\"backward\"},{\"count\":36,\"label\":\"3y\",\"step\":\"month\",\"stepmode\":\"backward\"},{\"step\":\"all\"}]},\"rangeslider\":{\"visible\":true},\"type\":\"date\"}},                        {\"responsive\": true}                    ).then(function(){\n",
              "                            \n",
              "var gd = document.getElementById('3f47f1be-98ee-431e-b26f-f75ec99ed0ca');\n",
              "var x = new MutationObserver(function (mutations, observer) {{\n",
              "        var display = window.getComputedStyle(gd).display;\n",
              "        if (!display || display === 'none') {{\n",
              "            console.log([gd, 'removed!']);\n",
              "            Plotly.purge(gd);\n",
              "            observer.disconnect();\n",
              "        }}\n",
              "}});\n",
              "\n",
              "// Listen for the removal of the full notebook cells\n",
              "var notebookContainer = gd.closest('#notebook-container');\n",
              "if (notebookContainer) {{\n",
              "    x.observe(notebookContainer, {childList: true});\n",
              "}}\n",
              "\n",
              "// Listen for the clearing of the current output cell\n",
              "var outputEl = gd.closest('.output');\n",
              "if (outputEl) {{\n",
              "    x.observe(outputEl, {childList: true});\n",
              "}}\n",
              "\n",
              "                        })                };                            </script>        </div>\n",
              "</body>\n",
              "</html>"
            ]
          },
          "metadata": {}
        }
      ]
    },
    {
      "cell_type": "markdown",
      "source": [
        "# Feature Importance"
      ],
      "metadata": {
        "id": "iHR-crIVbAmN"
      }
    },
    {
      "cell_type": "code",
      "source": [
        "import eli5\n",
        "from eli5.sklearn import PermutationImportance\n",
        "\n",
        "perm = PermutationImportance(model, scoring=\"r2\", random_state=1).fit(X_train,y_train)\n",
        "eli5.show_weights(perm, feature_names = [f'lag-{7-i}' for i in range(7)])"
      ],
      "metadata": {
        "colab": {
          "base_uri": "https://localhost:8080/",
          "height": 156
        },
        "id": "Vh6Dt-znkk5q",
        "outputId": "fa747c7c-b61e-4ed1-94d3-d417a4899251"
      },
      "execution_count": null,
      "outputs": [
        {
          "output_type": "execute_result",
          "data": {
            "text/plain": [
              "<IPython.core.display.HTML object>"
            ],
            "text/html": [
              "\n",
              "    <style>\n",
              "    table.eli5-weights tr:hover {\n",
              "        filter: brightness(85%);\n",
              "    }\n",
              "</style>\n",
              "\n",
              "\n",
              "\n",
              "    \n",
              "\n",
              "    \n",
              "\n",
              "    \n",
              "\n",
              "    \n",
              "\n",
              "    \n",
              "\n",
              "    \n",
              "\n",
              "\n",
              "    \n",
              "\n",
              "    \n",
              "\n",
              "    \n",
              "\n",
              "    \n",
              "\n",
              "    \n",
              "\n",
              "    \n",
              "\n",
              "\n",
              "    \n",
              "\n",
              "    \n",
              "\n",
              "    \n",
              "\n",
              "    \n",
              "\n",
              "    \n",
              "        <table class=\"eli5-weights eli5-feature-importances\" style=\"border-collapse: collapse; border: none; margin-top: 0em; table-layout: auto;\">\n",
              "    <thead>\n",
              "    <tr style=\"border: none;\">\n",
              "        <th style=\"padding: 0 1em 0 0.5em; text-align: right; border: none;\">Weight</th>\n",
              "        <th style=\"padding: 0 0.5em 0 0.5em; text-align: left; border: none;\">Feature</th>\n",
              "    </tr>\n",
              "    </thead>\n",
              "    <tbody>\n",
              "    \n",
              "        <tr style=\"background-color: hsl(120, 100.00%, 80.00%); border: none;\">\n",
              "            <td style=\"padding: 0 1em 0 0.5em; text-align: right; border: none;\">\n",
              "                0.0700\n",
              "                \n",
              "                    &plusmn; 0.0144\n",
              "                \n",
              "            </td>\n",
              "            <td style=\"padding: 0 0.5em 0 0.5em; text-align: left; border: none;\">\n",
              "                lag-2\n",
              "            </td>\n",
              "        </tr>\n",
              "    \n",
              "        <tr style=\"background-color: hsl(120, 100.00%, 80.35%); border: none;\">\n",
              "            <td style=\"padding: 0 1em 0 0.5em; text-align: right; border: none;\">\n",
              "                0.0683\n",
              "                \n",
              "                    &plusmn; 0.0113\n",
              "                \n",
              "            </td>\n",
              "            <td style=\"padding: 0 0.5em 0 0.5em; text-align: left; border: none;\">\n",
              "                lag-5\n",
              "            </td>\n",
              "        </tr>\n",
              "    \n",
              "        <tr style=\"background-color: hsl(120, 100.00%, 80.97%); border: none;\">\n",
              "            <td style=\"padding: 0 1em 0 0.5em; text-align: right; border: none;\">\n",
              "                0.0652\n",
              "                \n",
              "                    &plusmn; 0.0146\n",
              "                \n",
              "            </td>\n",
              "            <td style=\"padding: 0 0.5em 0 0.5em; text-align: left; border: none;\">\n",
              "                lag-4\n",
              "            </td>\n",
              "        </tr>\n",
              "    \n",
              "        <tr style=\"background-color: hsl(120, 100.00%, 81.00%); border: none;\">\n",
              "            <td style=\"padding: 0 1em 0 0.5em; text-align: right; border: none;\">\n",
              "                0.0651\n",
              "                \n",
              "                    &plusmn; 0.0129\n",
              "                \n",
              "            </td>\n",
              "            <td style=\"padding: 0 0.5em 0 0.5em; text-align: left; border: none;\">\n",
              "                lag-6\n",
              "            </td>\n",
              "        </tr>\n",
              "    \n",
              "        <tr style=\"background-color: hsl(120, 100.00%, 81.80%); border: none;\">\n",
              "            <td style=\"padding: 0 1em 0 0.5em; text-align: right; border: none;\">\n",
              "                0.0612\n",
              "                \n",
              "                    &plusmn; 0.0104\n",
              "                \n",
              "            </td>\n",
              "            <td style=\"padding: 0 0.5em 0 0.5em; text-align: left; border: none;\">\n",
              "                lag-3\n",
              "            </td>\n",
              "        </tr>\n",
              "    \n",
              "        <tr style=\"background-color: hsl(120, 100.00%, 90.90%); border: none;\">\n",
              "            <td style=\"padding: 0 1em 0 0.5em; text-align: right; border: none;\">\n",
              "                0.0227\n",
              "                \n",
              "                    &plusmn; 0.0025\n",
              "                \n",
              "            </td>\n",
              "            <td style=\"padding: 0 0.5em 0 0.5em; text-align: left; border: none;\">\n",
              "                lag-1\n",
              "            </td>\n",
              "        </tr>\n",
              "    \n",
              "        <tr style=\"background-color: hsl(120, 100.00%, 94.61%); border: none;\">\n",
              "            <td style=\"padding: 0 1em 0 0.5em; text-align: right; border: none;\">\n",
              "                0.0108\n",
              "                \n",
              "                    &plusmn; 0.0018\n",
              "                \n",
              "            </td>\n",
              "            <td style=\"padding: 0 0.5em 0 0.5em; text-align: left; border: none;\">\n",
              "                lag-7\n",
              "            </td>\n",
              "        </tr>\n",
              "    \n",
              "    \n",
              "    </tbody>\n",
              "</table>\n",
              "    \n",
              "\n",
              "    \n",
              "\n",
              "\n",
              "    \n",
              "\n",
              "    \n",
              "\n",
              "    \n",
              "\n",
              "    \n",
              "\n",
              "    \n",
              "\n",
              "    \n",
              "\n",
              "\n",
              "\n"
            ]
          },
          "metadata": {},
          "execution_count": 214
        }
      ]
    },
    {
      "cell_type": "code",
      "source": [
        " [f'lag-{7-i}' for i in range(7)]"
      ],
      "metadata": {
        "colab": {
          "base_uri": "https://localhost:8080/"
        },
        "id": "rCgoIpbWtenD",
        "outputId": "41401e5d-5ad3-4dec-a73a-a36bde7de25f"
      },
      "execution_count": null,
      "outputs": [
        {
          "output_type": "execute_result",
          "data": {
            "text/plain": [
              "['lag-7', 'lag-6', 'lag-5', 'lag-4', 'lag-3', 'lag-2', 'lag-1']"
            ]
          },
          "metadata": {},
          "execution_count": 215
        }
      ]
    },
    {
      "cell_type": "markdown",
      "source": [
        "# Hyperparameter Tuning"
      ],
      "metadata": {
        "id": "zISC1SjJ_jV0"
      }
    },
    {
      "cell_type": "code",
      "source": [
        "!pip install -q -U keras-tuner"
      ],
      "metadata": {
        "colab": {
          "base_uri": "https://localhost:8080/"
        },
        "id": "Kdwg-SOXAnMl",
        "outputId": "ca089c1e-0ec8-4ece-ca06-647e89895073"
      },
      "execution_count": null,
      "outputs": [
        {
          "output_type": "stream",
          "name": "stdout",
          "text": [
            "\u001b[?25l\r\u001b[K     |██▌                             | 10 kB 21.8 MB/s eta 0:00:01\r\u001b[K     |█████                           | 20 kB 19.8 MB/s eta 0:00:01\r\u001b[K     |███████▍                        | 30 kB 11.2 MB/s eta 0:00:01\r\u001b[K     |█████████▉                      | 40 kB 9.2 MB/s eta 0:00:01\r\u001b[K     |████████████▎                   | 51 kB 4.7 MB/s eta 0:00:01\r\u001b[K     |██████████████▊                 | 61 kB 5.5 MB/s eta 0:00:01\r\u001b[K     |█████████████████▏              | 71 kB 5.8 MB/s eta 0:00:01\r\u001b[K     |███████████████████▋            | 81 kB 5.9 MB/s eta 0:00:01\r\u001b[K     |██████████████████████          | 92 kB 6.5 MB/s eta 0:00:01\r\u001b[K     |████████████████████████▌       | 102 kB 5.2 MB/s eta 0:00:01\r\u001b[K     |███████████████████████████     | 112 kB 5.2 MB/s eta 0:00:01\r\u001b[K     |█████████████████████████████▍  | 122 kB 5.2 MB/s eta 0:00:01\r\u001b[K     |███████████████████████████████▉| 133 kB 5.2 MB/s eta 0:00:01\r\u001b[K     |████████████████████████████████| 133 kB 5.2 MB/s \n",
            "\u001b[?25h"
          ]
        }
      ]
    },
    {
      "cell_type": "code",
      "source": [
        "import keras_tuner as kt"
      ],
      "metadata": {
        "id": "5sGthxtXAiZs"
      },
      "execution_count": null,
      "outputs": []
    },
    {
      "cell_type": "code",
      "source": [
        "def model_builder(hp):\n",
        "  n_steps, n_features = 7, 1\n",
        "  model = Sequential()\n",
        "\n",
        "  # Tune the number of units in the first Dense layer\n",
        "  # Choose an optimal value between 32-512\n",
        "  hp_filter = hp.Int('units_filter', min_value=8, max_value=512, step=32)\n",
        "  hp_units_lstm = hp.Int('units_lstm', min_value=8, max_value=512, step=32)\n",
        "  hp_units_dense = hp.Int('units_dense', min_value=8, max_value=512, step=32)\n",
        "  model.add(Reshape((n_steps, n_features), input_dim=n_steps))\n",
        "  model.add(Conv1D(filters=hp_filter, kernel_size=2, activation='relu'))\n",
        "  model.add(LSTM(hp_units_lstm, activation='relu'))\n",
        "  model.add(Dense(hp_units_dense, activation='relu'))\n",
        "  model.add(Dense(1))\n",
        "\n",
        "  # Tune the learning rate for the optimizer\n",
        "  # Choose an optimal value from 0.01, 0.001, or 0.0001\n",
        "  hp_learning_rate = hp.Choice('learning_rate', values=[1e-2, 1e-3, 1e-4])\n",
        "\n",
        "  model.compile(optimizer=keras.optimizers.Adam(learning_rate=hp_learning_rate), loss='mse')\n",
        "\n",
        "  return model"
      ],
      "metadata": {
        "id": "Gt2e-CzyAAgc"
      },
      "execution_count": null,
      "outputs": []
    },
    {
      "cell_type": "code",
      "source": [
        "stop_early = tf.keras.callbacks.EarlyStopping(monitor='val_loss', patience=5)"
      ],
      "metadata": {
        "id": "8aNwGPpYBCLU"
      },
      "execution_count": null,
      "outputs": []
    },
    {
      "cell_type": "code",
      "source": [
        "n_steps, n_features = 7, 1\n",
        "X, y = input_output_split_sequence(ts, n_steps)\n",
        "\n",
        "tuner = kt.Hyperband(model_builder,\n",
        "                     objective='val_loss',\n",
        "                     max_epochs=10,\n",
        "                     factor=3,\n",
        "                     directory='cnn-lstm_model',\n",
        "                     project_name='during_covid',\n",
        "                    # # FOR TRAIN ONLY\n",
        "                    #  overwrite=True\n",
        "                    # # --------------\n",
        "                     )\n",
        "\n",
        "tuner.search(X, y, epochs=50, callbacks=[stop_early], validation_split=0.2,)\n",
        "\n",
        "# Get the optimal hyperparameters\n",
        "best_hps=tuner.get_best_hyperparameters(num_trials=1)[0]\n",
        "\n",
        "tuning = ['units_filter', 'units_lstm', 'units_dense', 'learning_rate']\n",
        "print('Best tune:')\n",
        "for tune in tuning:\n",
        "  print(f'{tune}: {best_hps.get(tune)}')"
      ],
      "metadata": {
        "colab": {
          "base_uri": "https://localhost:8080/"
        },
        "id": "KL05XWASAZPN",
        "outputId": "443d8c37-6b03-4347-f395-6dabeb7f0995"
      },
      "execution_count": null,
      "outputs": [
        {
          "output_type": "stream",
          "name": "stdout",
          "text": [
            "Best tune:\n",
            "units_filter: 72\n",
            "units_lstm: 296\n",
            "units_dense: 296\n",
            "learning_rate: 0.01\n"
          ]
        }
      ]
    },
    {
      "cell_type": "markdown",
      "source": [
        "## Skenario Penelitian\n",
        "\n",
        "**Hyperparameter:** dari Hyperband atau RandomSearch untuk masing-masing arsitektur\n",
        "\n",
        "**Epoch:** Jumlah epoch kelipatan 50 (3-5 jenis epoch)\n",
        "\n",
        "**Time Steps:** 5 jenis(?) dengan epoch yg terbaik untuk masing2 arsitektur."
      ],
      "metadata": {
        "id": "ZFzOsc-9Ye-a"
      }
    }
  ]
}