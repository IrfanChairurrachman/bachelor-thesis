{
  "cells": [
    {
      "cell_type": "code",
      "execution_count": null,
      "metadata": {
        "colab": {
          "base_uri": "https://localhost:8080/"
        },
        "id": "0DyfqUAD7Nkb",
        "outputId": "5e7c1f98-6817-4188-d040-a1aeb90b1211"
      },
      "outputs": [
        {
          "name": "stderr",
          "output_type": "stream",
          "text": [
            "/usr/local/lib/python3.7/dist-packages/statsmodels/tools/_testing.py:19: FutureWarning: pandas.util.testing is deprecated. Use the functions in the public API at pandas.testing instead.\n",
            "  import pandas.util.testing as tm\n"
          ]
        }
      ],
      "source": [
        "import numpy as np\n",
        "import matplotlib.pyplot as plt\n",
        "import csv\n",
        "import pandas as pd\n",
        "from datetime import datetime\n",
        "import matplotlib.pyplot as plt\n",
        "import seaborn as sns\n",
        "from statsmodels.graphics.tsaplots import plot_acf\n",
        "from statsmodels.graphics.tsaplots import plot_pacf"
      ]
    },
    {
      "cell_type": "markdown",
      "metadata": {
        "id": "xBu0aq72xcyM"
      },
      "source": [
        "# Import Data"
      ]
    },
    {
      "cell_type": "code",
      "execution_count": null,
      "metadata": {
        "colab": {
          "base_uri": "https://localhost:8080/",
          "height": 424
        },
        "id": "NX_YNqUhUwaj",
        "outputId": "40770c50-ee00-4bb7-dd1e-11165ac5fe8d"
      },
      "outputs": [
        {
          "data": {
            "text/html": [
              "\n",
              "  <div id=\"df-2aa1b0b0-6f99-4ed3-b0fc-ca4f16dc9933\">\n",
              "    <div class=\"colab-df-container\">\n",
              "      <div>\n",
              "<style scoped>\n",
              "    .dataframe tbody tr th:only-of-type {\n",
              "        vertical-align: middle;\n",
              "    }\n",
              "\n",
              "    .dataframe tbody tr th {\n",
              "        vertical-align: top;\n",
              "    }\n",
              "\n",
              "    .dataframe thead th {\n",
              "        text-align: right;\n",
              "    }\n",
              "</style>\n",
              "<table border=\"1\" class=\"dataframe\">\n",
              "  <thead>\n",
              "    <tr style=\"text-align: right;\">\n",
              "      <th></th>\n",
              "      <th>Date</th>\n",
              "      <th>Open</th>\n",
              "      <th>High</th>\n",
              "      <th>Low</th>\n",
              "      <th>Close</th>\n",
              "      <th>Adj Close</th>\n",
              "      <th>Volume</th>\n",
              "    </tr>\n",
              "  </thead>\n",
              "  <tbody>\n",
              "    <tr>\n",
              "      <th>0</th>\n",
              "      <td>2017-04-03</td>\n",
              "      <td>8200.0</td>\n",
              "      <td>8450.0</td>\n",
              "      <td>8200.0</td>\n",
              "      <td>8425.0</td>\n",
              "      <td>7429.060059</td>\n",
              "      <td>2068600.0</td>\n",
              "    </tr>\n",
              "    <tr>\n",
              "      <th>1</th>\n",
              "      <td>2017-04-04</td>\n",
              "      <td>8400.0</td>\n",
              "      <td>8425.0</td>\n",
              "      <td>8275.0</td>\n",
              "      <td>8400.0</td>\n",
              "      <td>7407.016113</td>\n",
              "      <td>3444200.0</td>\n",
              "    </tr>\n",
              "    <tr>\n",
              "      <th>2</th>\n",
              "      <td>2017-04-05</td>\n",
              "      <td>8400.0</td>\n",
              "      <td>8400.0</td>\n",
              "      <td>8400.0</td>\n",
              "      <td>8400.0</td>\n",
              "      <td>7407.016113</td>\n",
              "      <td>0.0</td>\n",
              "    </tr>\n",
              "    <tr>\n",
              "      <th>3</th>\n",
              "      <td>2017-04-06</td>\n",
              "      <td>8300.0</td>\n",
              "      <td>8325.0</td>\n",
              "      <td>8200.0</td>\n",
              "      <td>8225.0</td>\n",
              "      <td>7252.703125</td>\n",
              "      <td>10471800.0</td>\n",
              "    </tr>\n",
              "    <tr>\n",
              "      <th>4</th>\n",
              "      <td>2017-04-07</td>\n",
              "      <td>8200.0</td>\n",
              "      <td>8225.0</td>\n",
              "      <td>8150.0</td>\n",
              "      <td>8175.0</td>\n",
              "      <td>7208.612793</td>\n",
              "      <td>7078600.0</td>\n",
              "    </tr>\n",
              "    <tr>\n",
              "      <th>...</th>\n",
              "      <td>...</td>\n",
              "      <td>...</td>\n",
              "      <td>...</td>\n",
              "      <td>...</td>\n",
              "      <td>...</td>\n",
              "      <td>...</td>\n",
              "      <td>...</td>\n",
              "    </tr>\n",
              "    <tr>\n",
              "      <th>1255</th>\n",
              "      <td>2022-03-28</td>\n",
              "      <td>7250.0</td>\n",
              "      <td>7400.0</td>\n",
              "      <td>7200.0</td>\n",
              "      <td>7275.0</td>\n",
              "      <td>7275.000000</td>\n",
              "      <td>13828500.0</td>\n",
              "    </tr>\n",
              "    <tr>\n",
              "      <th>1256</th>\n",
              "      <td>2022-03-29</td>\n",
              "      <td>7300.0</td>\n",
              "      <td>7400.0</td>\n",
              "      <td>7250.0</td>\n",
              "      <td>7300.0</td>\n",
              "      <td>7300.000000</td>\n",
              "      <td>9243600.0</td>\n",
              "    </tr>\n",
              "    <tr>\n",
              "      <th>1257</th>\n",
              "      <td>2022-03-30</td>\n",
              "      <td>7350.0</td>\n",
              "      <td>7475.0</td>\n",
              "      <td>7325.0</td>\n",
              "      <td>7375.0</td>\n",
              "      <td>7375.000000</td>\n",
              "      <td>9768800.0</td>\n",
              "    </tr>\n",
              "    <tr>\n",
              "      <th>1258</th>\n",
              "      <td>2022-03-31</td>\n",
              "      <td>7400.0</td>\n",
              "      <td>7450.0</td>\n",
              "      <td>7300.0</td>\n",
              "      <td>7350.0</td>\n",
              "      <td>7350.000000</td>\n",
              "      <td>6875300.0</td>\n",
              "    </tr>\n",
              "    <tr>\n",
              "      <th>1259</th>\n",
              "      <td>2022-04-01</td>\n",
              "      <td>7350.0</td>\n",
              "      <td>7550.0</td>\n",
              "      <td>7350.0</td>\n",
              "      <td>7525.0</td>\n",
              "      <td>7525.000000</td>\n",
              "      <td>14229300.0</td>\n",
              "    </tr>\n",
              "  </tbody>\n",
              "</table>\n",
              "<p>1260 rows × 7 columns</p>\n",
              "</div>\n",
              "      <button class=\"colab-df-convert\" onclick=\"convertToInteractive('df-2aa1b0b0-6f99-4ed3-b0fc-ca4f16dc9933')\"\n",
              "              title=\"Convert this dataframe to an interactive table.\"\n",
              "              style=\"display:none;\">\n",
              "        \n",
              "  <svg xmlns=\"http://www.w3.org/2000/svg\" height=\"24px\"viewBox=\"0 0 24 24\"\n",
              "       width=\"24px\">\n",
              "    <path d=\"M0 0h24v24H0V0z\" fill=\"none\"/>\n",
              "    <path d=\"M18.56 5.44l.94 2.06.94-2.06 2.06-.94-2.06-.94-.94-2.06-.94 2.06-2.06.94zm-11 1L8.5 8.5l.94-2.06 2.06-.94-2.06-.94L8.5 2.5l-.94 2.06-2.06.94zm10 10l.94 2.06.94-2.06 2.06-.94-2.06-.94-.94-2.06-.94 2.06-2.06.94z\"/><path d=\"M17.41 7.96l-1.37-1.37c-.4-.4-.92-.59-1.43-.59-.52 0-1.04.2-1.43.59L10.3 9.45l-7.72 7.72c-.78.78-.78 2.05 0 2.83L4 21.41c.39.39.9.59 1.41.59.51 0 1.02-.2 1.41-.59l7.78-7.78 2.81-2.81c.8-.78.8-2.07 0-2.86zM5.41 20L4 18.59l7.72-7.72 1.47 1.35L5.41 20z\"/>\n",
              "  </svg>\n",
              "      </button>\n",
              "      \n",
              "  <style>\n",
              "    .colab-df-container {\n",
              "      display:flex;\n",
              "      flex-wrap:wrap;\n",
              "      gap: 12px;\n",
              "    }\n",
              "\n",
              "    .colab-df-convert {\n",
              "      background-color: #E8F0FE;\n",
              "      border: none;\n",
              "      border-radius: 50%;\n",
              "      cursor: pointer;\n",
              "      display: none;\n",
              "      fill: #1967D2;\n",
              "      height: 32px;\n",
              "      padding: 0 0 0 0;\n",
              "      width: 32px;\n",
              "    }\n",
              "\n",
              "    .colab-df-convert:hover {\n",
              "      background-color: #E2EBFA;\n",
              "      box-shadow: 0px 1px 2px rgba(60, 64, 67, 0.3), 0px 1px 3px 1px rgba(60, 64, 67, 0.15);\n",
              "      fill: #174EA6;\n",
              "    }\n",
              "\n",
              "    [theme=dark] .colab-df-convert {\n",
              "      background-color: #3B4455;\n",
              "      fill: #D2E3FC;\n",
              "    }\n",
              "\n",
              "    [theme=dark] .colab-df-convert:hover {\n",
              "      background-color: #434B5C;\n",
              "      box-shadow: 0px 1px 3px 1px rgba(0, 0, 0, 0.15);\n",
              "      filter: drop-shadow(0px 1px 2px rgba(0, 0, 0, 0.3));\n",
              "      fill: #FFFFFF;\n",
              "    }\n",
              "  </style>\n",
              "\n",
              "      <script>\n",
              "        const buttonEl =\n",
              "          document.querySelector('#df-2aa1b0b0-6f99-4ed3-b0fc-ca4f16dc9933 button.colab-df-convert');\n",
              "        buttonEl.style.display =\n",
              "          google.colab.kernel.accessAllowed ? 'block' : 'none';\n",
              "\n",
              "        async function convertToInteractive(key) {\n",
              "          const element = document.querySelector('#df-2aa1b0b0-6f99-4ed3-b0fc-ca4f16dc9933');\n",
              "          const dataTable =\n",
              "            await google.colab.kernel.invokeFunction('convertToInteractive',\n",
              "                                                     [key], {});\n",
              "          if (!dataTable) return;\n",
              "\n",
              "          const docLinkHtml = 'Like what you see? Visit the ' +\n",
              "            '<a target=\"_blank\" href=https://colab.research.google.com/notebooks/data_table.ipynb>data table notebook</a>'\n",
              "            + ' to learn more about interactive tables.';\n",
              "          element.innerHTML = '';\n",
              "          dataTable['output_type'] = 'display_data';\n",
              "          await google.colab.output.renderOutput(dataTable, element);\n",
              "          const docLink = document.createElement('div');\n",
              "          docLink.innerHTML = docLinkHtml;\n",
              "          element.appendChild(docLink);\n",
              "        }\n",
              "      </script>\n",
              "    </div>\n",
              "  </div>\n",
              "  "
            ],
            "text/plain": [
              "           Date    Open    High     Low   Close    Adj Close      Volume\n",
              "0    2017-04-03  8200.0  8450.0  8200.0  8425.0  7429.060059   2068600.0\n",
              "1    2017-04-04  8400.0  8425.0  8275.0  8400.0  7407.016113   3444200.0\n",
              "2    2017-04-05  8400.0  8400.0  8400.0  8400.0  7407.016113         0.0\n",
              "3    2017-04-06  8300.0  8325.0  8200.0  8225.0  7252.703125  10471800.0\n",
              "4    2017-04-07  8200.0  8225.0  8150.0  8175.0  7208.612793   7078600.0\n",
              "...         ...     ...     ...     ...     ...          ...         ...\n",
              "1255 2022-03-28  7250.0  7400.0  7200.0  7275.0  7275.000000  13828500.0\n",
              "1256 2022-03-29  7300.0  7400.0  7250.0  7300.0  7300.000000   9243600.0\n",
              "1257 2022-03-30  7350.0  7475.0  7325.0  7375.0  7375.000000   9768800.0\n",
              "1258 2022-03-31  7400.0  7450.0  7300.0  7350.0  7350.000000   6875300.0\n",
              "1259 2022-04-01  7350.0  7550.0  7350.0  7525.0  7525.000000  14229300.0\n",
              "\n",
              "[1260 rows x 7 columns]"
            ]
          },
          "execution_count": 2,
          "metadata": {},
          "output_type": "execute_result"
        }
      ],
      "source": [
        "url = 'https://query1.finance.yahoo.com/v7/finance/download/ICBP.JK?period1=1491177600&period2=1648944000&interval=1d&events=history&includeAdjustedClose=true'\n",
        "icbp = pd.read_csv(url)\n",
        "icbp['Date'] = pd.to_datetime(icbp['Date'])\n",
        "icbp = icbp[~icbp.Date.duplicated()]\n",
        "# icbp = icbp.set_index(['Date']).asfreq('D').fillna(method='ffill')\n",
        "icbp"
      ]
    },
    {
      "cell_type": "code",
      "execution_count": null,
      "metadata": {
        "colab": {
          "base_uri": "https://localhost:8080/"
        },
        "id": "QECqtH1N-52r",
        "outputId": "bccf93f0-378a-452b-8ab7-532917ea5bae"
      },
      "outputs": [
        {
          "name": "stdout",
          "output_type": "stream",
          "text": [
            "<class 'pandas.core.frame.DataFrame'>\n",
            "Int64Index: 1260 entries, 0 to 1259\n",
            "Data columns (total 7 columns):\n",
            " #   Column     Non-Null Count  Dtype         \n",
            "---  ------     --------------  -----         \n",
            " 0   Date       1260 non-null   datetime64[ns]\n",
            " 1   Open       1259 non-null   float64       \n",
            " 2   High       1259 non-null   float64       \n",
            " 3   Low        1259 non-null   float64       \n",
            " 4   Close      1259 non-null   float64       \n",
            " 5   Adj Close  1259 non-null   float64       \n",
            " 6   Volume     1259 non-null   float64       \n",
            "dtypes: datetime64[ns](1), float64(6)\n",
            "memory usage: 78.8 KB\n"
          ]
        }
      ],
      "source": [
        "icbp.info()"
      ]
    },
    {
      "cell_type": "code",
      "execution_count": null,
      "metadata": {
        "colab": {
          "base_uri": "https://localhost:8080/",
          "height": 300
        },
        "id": "ZgO0i1qFID35",
        "outputId": "b4462cfe-55f8-4aa1-fe9d-db9a7458394a"
      },
      "outputs": [
        {
          "data": {
            "text/html": [
              "\n",
              "  <div id=\"df-b4581877-cf33-44a5-8caf-37c5f9ab2269\">\n",
              "    <div class=\"colab-df-container\">\n",
              "      <div>\n",
              "<style scoped>\n",
              "    .dataframe tbody tr th:only-of-type {\n",
              "        vertical-align: middle;\n",
              "    }\n",
              "\n",
              "    .dataframe tbody tr th {\n",
              "        vertical-align: top;\n",
              "    }\n",
              "\n",
              "    .dataframe thead th {\n",
              "        text-align: right;\n",
              "    }\n",
              "</style>\n",
              "<table border=\"1\" class=\"dataframe\">\n",
              "  <thead>\n",
              "    <tr style=\"text-align: right;\">\n",
              "      <th></th>\n",
              "      <th>Open</th>\n",
              "      <th>High</th>\n",
              "      <th>Low</th>\n",
              "      <th>Close</th>\n",
              "      <th>Adj Close</th>\n",
              "      <th>Volume</th>\n",
              "    </tr>\n",
              "  </thead>\n",
              "  <tbody>\n",
              "    <tr>\n",
              "      <th>count</th>\n",
              "      <td>1259.000000</td>\n",
              "      <td>1259.000000</td>\n",
              "      <td>1259.000000</td>\n",
              "      <td>1259.000000</td>\n",
              "      <td>1259.000000</td>\n",
              "      <td>1.259000e+03</td>\n",
              "    </tr>\n",
              "    <tr>\n",
              "      <th>mean</th>\n",
              "      <td>9361.119936</td>\n",
              "      <td>9453.733122</td>\n",
              "      <td>9250.734710</td>\n",
              "      <td>9352.521843</td>\n",
              "      <td>8847.075132</td>\n",
              "      <td>6.206952e+06</td>\n",
              "    </tr>\n",
              "    <tr>\n",
              "      <th>std</th>\n",
              "      <td>1048.674051</td>\n",
              "      <td>1057.053850</td>\n",
              "      <td>1033.571492</td>\n",
              "      <td>1046.643271</td>\n",
              "      <td>1077.616521</td>\n",
              "      <td>7.947993e+06</td>\n",
              "    </tr>\n",
              "    <tr>\n",
              "      <th>min</th>\n",
              "      <td>7250.000000</td>\n",
              "      <td>7400.000000</td>\n",
              "      <td>7200.000000</td>\n",
              "      <td>7250.000000</td>\n",
              "      <td>7142.479492</td>\n",
              "      <td>0.000000e+00</td>\n",
              "    </tr>\n",
              "    <tr>\n",
              "      <th>25%</th>\n",
              "      <td>8675.000000</td>\n",
              "      <td>8750.000000</td>\n",
              "      <td>8550.000000</td>\n",
              "      <td>8650.000000</td>\n",
              "      <td>7962.741455</td>\n",
              "      <td>2.861350e+06</td>\n",
              "    </tr>\n",
              "    <tr>\n",
              "      <th>50%</th>\n",
              "      <td>8900.000000</td>\n",
              "      <td>8975.000000</td>\n",
              "      <td>8800.000000</td>\n",
              "      <td>8900.000000</td>\n",
              "      <td>8550.000000</td>\n",
              "      <td>4.626600e+06</td>\n",
              "    </tr>\n",
              "    <tr>\n",
              "      <th>75%</th>\n",
              "      <td>10075.000000</td>\n",
              "      <td>10175.000000</td>\n",
              "      <td>9950.000000</td>\n",
              "      <td>10075.000000</td>\n",
              "      <td>9620.093750</td>\n",
              "      <td>7.381550e+06</td>\n",
              "    </tr>\n",
              "    <tr>\n",
              "      <th>max</th>\n",
              "      <td>12500.000000</td>\n",
              "      <td>12550.000000</td>\n",
              "      <td>12275.000000</td>\n",
              "      <td>12400.000000</td>\n",
              "      <td>11810.808594</td>\n",
              "      <td>2.044506e+08</td>\n",
              "    </tr>\n",
              "  </tbody>\n",
              "</table>\n",
              "</div>\n",
              "      <button class=\"colab-df-convert\" onclick=\"convertToInteractive('df-b4581877-cf33-44a5-8caf-37c5f9ab2269')\"\n",
              "              title=\"Convert this dataframe to an interactive table.\"\n",
              "              style=\"display:none;\">\n",
              "        \n",
              "  <svg xmlns=\"http://www.w3.org/2000/svg\" height=\"24px\"viewBox=\"0 0 24 24\"\n",
              "       width=\"24px\">\n",
              "    <path d=\"M0 0h24v24H0V0z\" fill=\"none\"/>\n",
              "    <path d=\"M18.56 5.44l.94 2.06.94-2.06 2.06-.94-2.06-.94-.94-2.06-.94 2.06-2.06.94zm-11 1L8.5 8.5l.94-2.06 2.06-.94-2.06-.94L8.5 2.5l-.94 2.06-2.06.94zm10 10l.94 2.06.94-2.06 2.06-.94-2.06-.94-.94-2.06-.94 2.06-2.06.94z\"/><path d=\"M17.41 7.96l-1.37-1.37c-.4-.4-.92-.59-1.43-.59-.52 0-1.04.2-1.43.59L10.3 9.45l-7.72 7.72c-.78.78-.78 2.05 0 2.83L4 21.41c.39.39.9.59 1.41.59.51 0 1.02-.2 1.41-.59l7.78-7.78 2.81-2.81c.8-.78.8-2.07 0-2.86zM5.41 20L4 18.59l7.72-7.72 1.47 1.35L5.41 20z\"/>\n",
              "  </svg>\n",
              "      </button>\n",
              "      \n",
              "  <style>\n",
              "    .colab-df-container {\n",
              "      display:flex;\n",
              "      flex-wrap:wrap;\n",
              "      gap: 12px;\n",
              "    }\n",
              "\n",
              "    .colab-df-convert {\n",
              "      background-color: #E8F0FE;\n",
              "      border: none;\n",
              "      border-radius: 50%;\n",
              "      cursor: pointer;\n",
              "      display: none;\n",
              "      fill: #1967D2;\n",
              "      height: 32px;\n",
              "      padding: 0 0 0 0;\n",
              "      width: 32px;\n",
              "    }\n",
              "\n",
              "    .colab-df-convert:hover {\n",
              "      background-color: #E2EBFA;\n",
              "      box-shadow: 0px 1px 2px rgba(60, 64, 67, 0.3), 0px 1px 3px 1px rgba(60, 64, 67, 0.15);\n",
              "      fill: #174EA6;\n",
              "    }\n",
              "\n",
              "    [theme=dark] .colab-df-convert {\n",
              "      background-color: #3B4455;\n",
              "      fill: #D2E3FC;\n",
              "    }\n",
              "\n",
              "    [theme=dark] .colab-df-convert:hover {\n",
              "      background-color: #434B5C;\n",
              "      box-shadow: 0px 1px 3px 1px rgba(0, 0, 0, 0.15);\n",
              "      filter: drop-shadow(0px 1px 2px rgba(0, 0, 0, 0.3));\n",
              "      fill: #FFFFFF;\n",
              "    }\n",
              "  </style>\n",
              "\n",
              "      <script>\n",
              "        const buttonEl =\n",
              "          document.querySelector('#df-b4581877-cf33-44a5-8caf-37c5f9ab2269 button.colab-df-convert');\n",
              "        buttonEl.style.display =\n",
              "          google.colab.kernel.accessAllowed ? 'block' : 'none';\n",
              "\n",
              "        async function convertToInteractive(key) {\n",
              "          const element = document.querySelector('#df-b4581877-cf33-44a5-8caf-37c5f9ab2269');\n",
              "          const dataTable =\n",
              "            await google.colab.kernel.invokeFunction('convertToInteractive',\n",
              "                                                     [key], {});\n",
              "          if (!dataTable) return;\n",
              "\n",
              "          const docLinkHtml = 'Like what you see? Visit the ' +\n",
              "            '<a target=\"_blank\" href=https://colab.research.google.com/notebooks/data_table.ipynb>data table notebook</a>'\n",
              "            + ' to learn more about interactive tables.';\n",
              "          element.innerHTML = '';\n",
              "          dataTable['output_type'] = 'display_data';\n",
              "          await google.colab.output.renderOutput(dataTable, element);\n",
              "          const docLink = document.createElement('div');\n",
              "          docLink.innerHTML = docLinkHtml;\n",
              "          element.appendChild(docLink);\n",
              "        }\n",
              "      </script>\n",
              "    </div>\n",
              "  </div>\n",
              "  "
            ],
            "text/plain": [
              "               Open          High           Low         Close     Adj Close  \\\n",
              "count   1259.000000   1259.000000   1259.000000   1259.000000   1259.000000   \n",
              "mean    9361.119936   9453.733122   9250.734710   9352.521843   8847.075132   \n",
              "std     1048.674051   1057.053850   1033.571492   1046.643271   1077.616521   \n",
              "min     7250.000000   7400.000000   7200.000000   7250.000000   7142.479492   \n",
              "25%     8675.000000   8750.000000   8550.000000   8650.000000   7962.741455   \n",
              "50%     8900.000000   8975.000000   8800.000000   8900.000000   8550.000000   \n",
              "75%    10075.000000  10175.000000   9950.000000  10075.000000   9620.093750   \n",
              "max    12500.000000  12550.000000  12275.000000  12400.000000  11810.808594   \n",
              "\n",
              "             Volume  \n",
              "count  1.259000e+03  \n",
              "mean   6.206952e+06  \n",
              "std    7.947993e+06  \n",
              "min    0.000000e+00  \n",
              "25%    2.861350e+06  \n",
              "50%    4.626600e+06  \n",
              "75%    7.381550e+06  \n",
              "max    2.044506e+08  "
            ]
          },
          "execution_count": 4,
          "metadata": {},
          "output_type": "execute_result"
        }
      ],
      "source": [
        "icbp.describe()"
      ]
    },
    {
      "cell_type": "code",
      "execution_count": null,
      "metadata": {
        "colab": {
          "base_uri": "https://localhost:8080/"
        },
        "id": "rpCP37FnKYoP",
        "outputId": "7a0a0e45-f514-4018-951d-46fb35477966"
      },
      "outputs": [
        {
          "data": {
            "text/plain": [
              "Timestamp('2017-04-03 00:00:00')"
            ]
          },
          "execution_count": 5,
          "metadata": {},
          "output_type": "execute_result"
        }
      ],
      "source": [
        "icbp['Date'].min()"
      ]
    },
    {
      "cell_type": "code",
      "execution_count": null,
      "metadata": {
        "colab": {
          "base_uri": "https://localhost:8080/",
          "height": 206
        },
        "id": "J4bm5Xj0ILO7",
        "outputId": "fd04e124-90da-4c29-e77c-b5ef9b8bde91"
      },
      "outputs": [
        {
          "data": {
            "text/html": [
              "\n",
              "  <div id=\"df-efa071d9-c266-4c0d-ab4c-a399f7f61f2f\">\n",
              "    <div class=\"colab-df-container\">\n",
              "      <div>\n",
              "<style scoped>\n",
              "    .dataframe tbody tr th:only-of-type {\n",
              "        vertical-align: middle;\n",
              "    }\n",
              "\n",
              "    .dataframe tbody tr th {\n",
              "        vertical-align: top;\n",
              "    }\n",
              "\n",
              "    .dataframe thead th {\n",
              "        text-align: right;\n",
              "    }\n",
              "</style>\n",
              "<table border=\"1\" class=\"dataframe\">\n",
              "  <thead>\n",
              "    <tr style=\"text-align: right;\">\n",
              "      <th></th>\n",
              "      <th>Date</th>\n",
              "      <th>Open</th>\n",
              "      <th>High</th>\n",
              "      <th>Low</th>\n",
              "      <th>Close</th>\n",
              "      <th>Adj Close</th>\n",
              "      <th>Volume</th>\n",
              "    </tr>\n",
              "  </thead>\n",
              "  <tbody>\n",
              "    <tr>\n",
              "      <th>0</th>\n",
              "      <td>2017-04-03</td>\n",
              "      <td>8200.0</td>\n",
              "      <td>8450.0</td>\n",
              "      <td>8200.0</td>\n",
              "      <td>8425.0</td>\n",
              "      <td>7429.060547</td>\n",
              "      <td>2068600.0</td>\n",
              "    </tr>\n",
              "    <tr>\n",
              "      <th>1</th>\n",
              "      <td>2017-04-10</td>\n",
              "      <td>8400.0</td>\n",
              "      <td>8425.0</td>\n",
              "      <td>8275.0</td>\n",
              "      <td>8400.0</td>\n",
              "      <td>7407.015625</td>\n",
              "      <td>3444200.0</td>\n",
              "    </tr>\n",
              "    <tr>\n",
              "      <th>2</th>\n",
              "      <td>2017-04-17</td>\n",
              "      <td>8200.0</td>\n",
              "      <td>8225.0</td>\n",
              "      <td>8100.0</td>\n",
              "      <td>8125.0</td>\n",
              "      <td>7164.523438</td>\n",
              "      <td>7277700.0</td>\n",
              "    </tr>\n",
              "    <tr>\n",
              "      <th>3</th>\n",
              "      <td>2017-04-24</td>\n",
              "      <td>8175.0</td>\n",
              "      <td>8200.0</td>\n",
              "      <td>8075.0</td>\n",
              "      <td>8200.0</td>\n",
              "      <td>7230.657715</td>\n",
              "      <td>7389500.0</td>\n",
              "    </tr>\n",
              "    <tr>\n",
              "      <th>4</th>\n",
              "      <td>2017-05-01</td>\n",
              "      <td>8450.0</td>\n",
              "      <td>8500.0</td>\n",
              "      <td>8375.0</td>\n",
              "      <td>8500.0</td>\n",
              "      <td>7495.194824</td>\n",
              "      <td>6203900.0</td>\n",
              "    </tr>\n",
              "  </tbody>\n",
              "</table>\n",
              "</div>\n",
              "      <button class=\"colab-df-convert\" onclick=\"convertToInteractive('df-efa071d9-c266-4c0d-ab4c-a399f7f61f2f')\"\n",
              "              title=\"Convert this dataframe to an interactive table.\"\n",
              "              style=\"display:none;\">\n",
              "        \n",
              "  <svg xmlns=\"http://www.w3.org/2000/svg\" height=\"24px\"viewBox=\"0 0 24 24\"\n",
              "       width=\"24px\">\n",
              "    <path d=\"M0 0h24v24H0V0z\" fill=\"none\"/>\n",
              "    <path d=\"M18.56 5.44l.94 2.06.94-2.06 2.06-.94-2.06-.94-.94-2.06-.94 2.06-2.06.94zm-11 1L8.5 8.5l.94-2.06 2.06-.94-2.06-.94L8.5 2.5l-.94 2.06-2.06.94zm10 10l.94 2.06.94-2.06 2.06-.94-2.06-.94-.94-2.06-.94 2.06-2.06.94z\"/><path d=\"M17.41 7.96l-1.37-1.37c-.4-.4-.92-.59-1.43-.59-.52 0-1.04.2-1.43.59L10.3 9.45l-7.72 7.72c-.78.78-.78 2.05 0 2.83L4 21.41c.39.39.9.59 1.41.59.51 0 1.02-.2 1.41-.59l7.78-7.78 2.81-2.81c.8-.78.8-2.07 0-2.86zM5.41 20L4 18.59l7.72-7.72 1.47 1.35L5.41 20z\"/>\n",
              "  </svg>\n",
              "      </button>\n",
              "      \n",
              "  <style>\n",
              "    .colab-df-container {\n",
              "      display:flex;\n",
              "      flex-wrap:wrap;\n",
              "      gap: 12px;\n",
              "    }\n",
              "\n",
              "    .colab-df-convert {\n",
              "      background-color: #E8F0FE;\n",
              "      border: none;\n",
              "      border-radius: 50%;\n",
              "      cursor: pointer;\n",
              "      display: none;\n",
              "      fill: #1967D2;\n",
              "      height: 32px;\n",
              "      padding: 0 0 0 0;\n",
              "      width: 32px;\n",
              "    }\n",
              "\n",
              "    .colab-df-convert:hover {\n",
              "      background-color: #E2EBFA;\n",
              "      box-shadow: 0px 1px 2px rgba(60, 64, 67, 0.3), 0px 1px 3px 1px rgba(60, 64, 67, 0.15);\n",
              "      fill: #174EA6;\n",
              "    }\n",
              "\n",
              "    [theme=dark] .colab-df-convert {\n",
              "      background-color: #3B4455;\n",
              "      fill: #D2E3FC;\n",
              "    }\n",
              "\n",
              "    [theme=dark] .colab-df-convert:hover {\n",
              "      background-color: #434B5C;\n",
              "      box-shadow: 0px 1px 3px 1px rgba(0, 0, 0, 0.15);\n",
              "      filter: drop-shadow(0px 1px 2px rgba(0, 0, 0, 0.3));\n",
              "      fill: #FFFFFF;\n",
              "    }\n",
              "  </style>\n",
              "\n",
              "      <script>\n",
              "        const buttonEl =\n",
              "          document.querySelector('#df-efa071d9-c266-4c0d-ab4c-a399f7f61f2f button.colab-df-convert');\n",
              "        buttonEl.style.display =\n",
              "          google.colab.kernel.accessAllowed ? 'block' : 'none';\n",
              "\n",
              "        async function convertToInteractive(key) {\n",
              "          const element = document.querySelector('#df-efa071d9-c266-4c0d-ab4c-a399f7f61f2f');\n",
              "          const dataTable =\n",
              "            await google.colab.kernel.invokeFunction('convertToInteractive',\n",
              "                                                     [key], {});\n",
              "          if (!dataTable) return;\n",
              "\n",
              "          const docLinkHtml = 'Like what you see? Visit the ' +\n",
              "            '<a target=\"_blank\" href=https://colab.research.google.com/notebooks/data_table.ipynb>data table notebook</a>'\n",
              "            + ' to learn more about interactive tables.';\n",
              "          element.innerHTML = '';\n",
              "          dataTable['output_type'] = 'display_data';\n",
              "          await google.colab.output.renderOutput(dataTable, element);\n",
              "          const docLink = document.createElement('div');\n",
              "          docLink.innerHTML = docLinkHtml;\n",
              "          element.appendChild(docLink);\n",
              "        }\n",
              "      </script>\n",
              "    </div>\n",
              "  </div>\n",
              "  "
            ],
            "text/plain": [
              "        Date    Open    High     Low   Close    Adj Close     Volume\n",
              "0 2017-04-03  8200.0  8450.0  8200.0  8425.0  7429.060547  2068600.0\n",
              "1 2017-04-10  8400.0  8425.0  8275.0  8400.0  7407.015625  3444200.0\n",
              "2 2017-04-17  8200.0  8225.0  8100.0  8125.0  7164.523438  7277700.0\n",
              "3 2017-04-24  8175.0  8200.0  8075.0  8200.0  7230.657715  7389500.0\n",
              "4 2017-05-01  8450.0  8500.0  8375.0  8500.0  7495.194824  6203900.0"
            ]
          },
          "execution_count": 61,
          "metadata": {},
          "output_type": "execute_result"
        }
      ],
      "source": [
        "# create valid date range\n",
        "start = icbp['Date'].min()\n",
        "end = icbp['Date'].max()\n",
        "\n",
        "# find rows between start and end time and find the first row (00:00 monday morning)\n",
        "weekly_rows = icbp[(icbp['Date'] >= start) & (icbp['Date'] <= end)].groupby([pd.Grouper(key='Date', freq='W-MON')]).first().reset_index()\n",
        "weekly_rows.head()"
      ]
    },
    {
      "cell_type": "code",
      "execution_count": null,
      "metadata": {
        "colab": {
          "base_uri": "https://localhost:8080/",
          "height": 206
        },
        "id": "0fMwC59MT_h4",
        "outputId": "4cdd9b66-4c58-4bfe-e608-1d61545921e2"
      },
      "outputs": [
        {
          "data": {
            "text/html": [
              "\n",
              "  <div id=\"df-2dbec6d5-ec89-4359-8fb9-2b00513ce91c\">\n",
              "    <div class=\"colab-df-container\">\n",
              "      <div>\n",
              "<style scoped>\n",
              "    .dataframe tbody tr th:only-of-type {\n",
              "        vertical-align: middle;\n",
              "    }\n",
              "\n",
              "    .dataframe tbody tr th {\n",
              "        vertical-align: top;\n",
              "    }\n",
              "\n",
              "    .dataframe thead th {\n",
              "        text-align: right;\n",
              "    }\n",
              "</style>\n",
              "<table border=\"1\" class=\"dataframe\">\n",
              "  <thead>\n",
              "    <tr style=\"text-align: right;\">\n",
              "      <th></th>\n",
              "      <th>Date</th>\n",
              "      <th>Open</th>\n",
              "      <th>High</th>\n",
              "      <th>Low</th>\n",
              "      <th>Close</th>\n",
              "      <th>Adj Close</th>\n",
              "      <th>Volume</th>\n",
              "    </tr>\n",
              "  </thead>\n",
              "  <tbody>\n",
              "    <tr>\n",
              "      <th>257</th>\n",
              "      <td>2022-03-07</td>\n",
              "      <td>8500.0</td>\n",
              "      <td>8525.0</td>\n",
              "      <td>8150.0</td>\n",
              "      <td>8250.0</td>\n",
              "      <td>8250.0</td>\n",
              "      <td>21470900.0</td>\n",
              "    </tr>\n",
              "    <tr>\n",
              "      <th>258</th>\n",
              "      <td>2022-03-14</td>\n",
              "      <td>7400.0</td>\n",
              "      <td>7600.0</td>\n",
              "      <td>7400.0</td>\n",
              "      <td>7600.0</td>\n",
              "      <td>7600.0</td>\n",
              "      <td>21825800.0</td>\n",
              "    </tr>\n",
              "    <tr>\n",
              "      <th>259</th>\n",
              "      <td>2022-03-21</td>\n",
              "      <td>7525.0</td>\n",
              "      <td>7600.0</td>\n",
              "      <td>7375.0</td>\n",
              "      <td>7425.0</td>\n",
              "      <td>7425.0</td>\n",
              "      <td>15064300.0</td>\n",
              "    </tr>\n",
              "    <tr>\n",
              "      <th>260</th>\n",
              "      <td>2022-03-28</td>\n",
              "      <td>7475.0</td>\n",
              "      <td>7600.0</td>\n",
              "      <td>7475.0</td>\n",
              "      <td>7475.0</td>\n",
              "      <td>7475.0</td>\n",
              "      <td>4588300.0</td>\n",
              "    </tr>\n",
              "    <tr>\n",
              "      <th>261</th>\n",
              "      <td>2022-04-04</td>\n",
              "      <td>7300.0</td>\n",
              "      <td>7400.0</td>\n",
              "      <td>7250.0</td>\n",
              "      <td>7300.0</td>\n",
              "      <td>7300.0</td>\n",
              "      <td>9243600.0</td>\n",
              "    </tr>\n",
              "  </tbody>\n",
              "</table>\n",
              "</div>\n",
              "      <button class=\"colab-df-convert\" onclick=\"convertToInteractive('df-2dbec6d5-ec89-4359-8fb9-2b00513ce91c')\"\n",
              "              title=\"Convert this dataframe to an interactive table.\"\n",
              "              style=\"display:none;\">\n",
              "        \n",
              "  <svg xmlns=\"http://www.w3.org/2000/svg\" height=\"24px\"viewBox=\"0 0 24 24\"\n",
              "       width=\"24px\">\n",
              "    <path d=\"M0 0h24v24H0V0z\" fill=\"none\"/>\n",
              "    <path d=\"M18.56 5.44l.94 2.06.94-2.06 2.06-.94-2.06-.94-.94-2.06-.94 2.06-2.06.94zm-11 1L8.5 8.5l.94-2.06 2.06-.94-2.06-.94L8.5 2.5l-.94 2.06-2.06.94zm10 10l.94 2.06.94-2.06 2.06-.94-2.06-.94-.94-2.06-.94 2.06-2.06.94z\"/><path d=\"M17.41 7.96l-1.37-1.37c-.4-.4-.92-.59-1.43-.59-.52 0-1.04.2-1.43.59L10.3 9.45l-7.72 7.72c-.78.78-.78 2.05 0 2.83L4 21.41c.39.39.9.59 1.41.59.51 0 1.02-.2 1.41-.59l7.78-7.78 2.81-2.81c.8-.78.8-2.07 0-2.86zM5.41 20L4 18.59l7.72-7.72 1.47 1.35L5.41 20z\"/>\n",
              "  </svg>\n",
              "      </button>\n",
              "      \n",
              "  <style>\n",
              "    .colab-df-container {\n",
              "      display:flex;\n",
              "      flex-wrap:wrap;\n",
              "      gap: 12px;\n",
              "    }\n",
              "\n",
              "    .colab-df-convert {\n",
              "      background-color: #E8F0FE;\n",
              "      border: none;\n",
              "      border-radius: 50%;\n",
              "      cursor: pointer;\n",
              "      display: none;\n",
              "      fill: #1967D2;\n",
              "      height: 32px;\n",
              "      padding: 0 0 0 0;\n",
              "      width: 32px;\n",
              "    }\n",
              "\n",
              "    .colab-df-convert:hover {\n",
              "      background-color: #E2EBFA;\n",
              "      box-shadow: 0px 1px 2px rgba(60, 64, 67, 0.3), 0px 1px 3px 1px rgba(60, 64, 67, 0.15);\n",
              "      fill: #174EA6;\n",
              "    }\n",
              "\n",
              "    [theme=dark] .colab-df-convert {\n",
              "      background-color: #3B4455;\n",
              "      fill: #D2E3FC;\n",
              "    }\n",
              "\n",
              "    [theme=dark] .colab-df-convert:hover {\n",
              "      background-color: #434B5C;\n",
              "      box-shadow: 0px 1px 3px 1px rgba(0, 0, 0, 0.15);\n",
              "      filter: drop-shadow(0px 1px 2px rgba(0, 0, 0, 0.3));\n",
              "      fill: #FFFFFF;\n",
              "    }\n",
              "  </style>\n",
              "\n",
              "      <script>\n",
              "        const buttonEl =\n",
              "          document.querySelector('#df-2dbec6d5-ec89-4359-8fb9-2b00513ce91c button.colab-df-convert');\n",
              "        buttonEl.style.display =\n",
              "          google.colab.kernel.accessAllowed ? 'block' : 'none';\n",
              "\n",
              "        async function convertToInteractive(key) {\n",
              "          const element = document.querySelector('#df-2dbec6d5-ec89-4359-8fb9-2b00513ce91c');\n",
              "          const dataTable =\n",
              "            await google.colab.kernel.invokeFunction('convertToInteractive',\n",
              "                                                     [key], {});\n",
              "          if (!dataTable) return;\n",
              "\n",
              "          const docLinkHtml = 'Like what you see? Visit the ' +\n",
              "            '<a target=\"_blank\" href=https://colab.research.google.com/notebooks/data_table.ipynb>data table notebook</a>'\n",
              "            + ' to learn more about interactive tables.';\n",
              "          element.innerHTML = '';\n",
              "          dataTable['output_type'] = 'display_data';\n",
              "          await google.colab.output.renderOutput(dataTable, element);\n",
              "          const docLink = document.createElement('div');\n",
              "          docLink.innerHTML = docLinkHtml;\n",
              "          element.appendChild(docLink);\n",
              "        }\n",
              "      </script>\n",
              "    </div>\n",
              "  </div>\n",
              "  "
            ],
            "text/plain": [
              "          Date    Open    High     Low   Close  Adj Close      Volume\n",
              "257 2022-03-07  8500.0  8525.0  8150.0  8250.0     8250.0  21470900.0\n",
              "258 2022-03-14  7400.0  7600.0  7400.0  7600.0     7600.0  21825800.0\n",
              "259 2022-03-21  7525.0  7600.0  7375.0  7425.0     7425.0  15064300.0\n",
              "260 2022-03-28  7475.0  7600.0  7475.0  7475.0     7475.0   4588300.0\n",
              "261 2022-04-04  7300.0  7400.0  7250.0  7300.0     7300.0   9243600.0"
            ]
          },
          "execution_count": 7,
          "metadata": {},
          "output_type": "execute_result"
        }
      ],
      "source": [
        "weekly_rows.tail()"
      ]
    },
    {
      "cell_type": "code",
      "execution_count": null,
      "metadata": {
        "colab": {
          "base_uri": "https://localhost:8080/",
          "height": 314
        },
        "id": "d1IlLTrZK_ww",
        "outputId": "1b3d9a53-de63-49ea-c7d5-5aa3feddc67a"
      },
      "outputs": [
        {
          "name": "stdout",
          "output_type": "stream",
          "text": [
            "Collecting plotly==5.6.0\n",
            "  Downloading plotly-5.6.0-py2.py3-none-any.whl (27.7 MB)\n",
            "\u001b[K     |████████████████████████████████| 27.7 MB 1.6 MB/s \n",
            "\u001b[?25hRequirement already satisfied: six in /usr/local/lib/python3.7/dist-packages (from plotly==5.6.0) (1.15.0)\n",
            "Requirement already satisfied: tenacity>=6.2.0 in /usr/local/lib/python3.7/dist-packages (from plotly==5.6.0) (8.0.1)\n",
            "Installing collected packages: plotly\n",
            "  Attempting uninstall: plotly\n",
            "    Found existing installation: plotly 5.5.0\n",
            "    Uninstalling plotly-5.5.0:\n",
            "      Successfully uninstalled plotly-5.5.0\n",
            "Successfully installed plotly-5.6.0\n"
          ]
        },
        {
          "data": {
            "application/vnd.colab-display-data+json": {
              "pip_warning": {
                "packages": [
                  "_plotly_utils",
                  "plotly"
                ]
              }
            }
          },
          "metadata": {},
          "output_type": "display_data"
        }
      ],
      "source": [
        "!pip install plotly==5.6.0"
      ]
    },
    {
      "cell_type": "code",
      "execution_count": null,
      "metadata": {
        "colab": {
          "base_uri": "https://localhost:8080/"
        },
        "id": "6uGX7nWFL1Zi",
        "outputId": "8921c682-a676-44fc-906f-0c913efb88f8"
      },
      "outputs": [
        {
          "name": "stdout",
          "output_type": "stream",
          "text": [
            "Collecting chart-studio\n",
            "  Downloading chart_studio-1.1.0-py3-none-any.whl (64 kB)\n",
            "\u001b[?25l\r\u001b[K     |█████                           | 10 kB 16.8 MB/s eta 0:00:01\r\u001b[K     |██████████▏                     | 20 kB 19.4 MB/s eta 0:00:01\r\u001b[K     |███████████████▎                | 30 kB 12.0 MB/s eta 0:00:01\r\u001b[K     |████████████████████▍           | 40 kB 5.2 MB/s eta 0:00:01\r\u001b[K     |█████████████████████████▍      | 51 kB 5.7 MB/s eta 0:00:01\r\u001b[K     |██████████████████████████████▌ | 61 kB 6.3 MB/s eta 0:00:01\r\u001b[K     |████████████████████████████████| 64 kB 1.9 MB/s \n",
            "\u001b[?25hRequirement already satisfied: plotly in /usr/local/lib/python3.7/dist-packages (from chart-studio) (5.6.0)\n",
            "Collecting retrying>=1.3.3\n",
            "  Downloading retrying-1.3.3.tar.gz (10 kB)\n",
            "Requirement already satisfied: requests in /usr/local/lib/python3.7/dist-packages (from chart-studio) (2.23.0)\n",
            "Requirement already satisfied: six in /usr/local/lib/python3.7/dist-packages (from chart-studio) (1.15.0)\n",
            "Requirement already satisfied: tenacity>=6.2.0 in /usr/local/lib/python3.7/dist-packages (from plotly->chart-studio) (8.0.1)\n",
            "Requirement already satisfied: urllib3!=1.25.0,!=1.25.1,<1.26,>=1.21.1 in /usr/local/lib/python3.7/dist-packages (from requests->chart-studio) (1.24.3)\n",
            "Requirement already satisfied: chardet<4,>=3.0.2 in /usr/local/lib/python3.7/dist-packages (from requests->chart-studio) (3.0.4)\n",
            "Requirement already satisfied: idna<3,>=2.5 in /usr/local/lib/python3.7/dist-packages (from requests->chart-studio) (2.10)\n",
            "Requirement already satisfied: certifi>=2017.4.17 in /usr/local/lib/python3.7/dist-packages (from requests->chart-studio) (2021.10.8)\n",
            "Building wheels for collected packages: retrying\n",
            "  Building wheel for retrying (setup.py) ... \u001b[?25l\u001b[?25hdone\n",
            "  Created wheel for retrying: filename=retrying-1.3.3-py3-none-any.whl size=11447 sha256=825630794617ba3f623db6f570944e3b426511eace637019d4ea88cee05b1999\n",
            "  Stored in directory: /root/.cache/pip/wheels/f9/8d/8d/f6af3f7f9eea3553bc2fe6d53e4b287dad18b06a861ac56ddf\n",
            "Successfully built retrying\n",
            "Installing collected packages: retrying, chart-studio\n",
            "Successfully installed chart-studio-1.1.0 retrying-1.3.3\n"
          ]
        }
      ],
      "source": [
        "!pip install chart-studio"
      ]
    },
    {
      "cell_type": "code",
      "execution_count": null,
      "metadata": {
        "id": "cYaQRYq0KqNc"
      },
      "outputs": [],
      "source": [
        "from plotly import tools\n",
        "import chart_studio.plotly as py\n",
        "import plotly.graph_objs as go\n",
        "import gc\n",
        "from plotly.offline import init_notebook_mode, iplot\n",
        "# init_notebook_mode(connected=True)"
      ]
    },
    {
      "cell_type": "code",
      "execution_count": null,
      "metadata": {
        "colab": {
          "base_uri": "https://localhost:8080/",
          "height": 542
        },
        "id": "jxqEFGGWMM3S",
        "outputId": "8a71db67-b52e-49ee-ee57-e4752ef032de"
      },
      "outputs": [
        {
          "data": {
            "text/html": [
              "<html>\n",
              "<head><meta charset=\"utf-8\" /></head>\n",
              "<body>\n",
              "    <div>            <script src=\"https://cdnjs.cloudflare.com/ajax/libs/mathjax/2.7.5/MathJax.js?config=TeX-AMS-MML_SVG\"></script><script type=\"text/javascript\">if (window.MathJax) {MathJax.Hub.Config({SVG: {font: \"STIX-Web\"}});}</script>                <script type=\"text/javascript\">window.PlotlyConfig = {MathJaxConfig: 'local'};</script>\n",
              "        <script src=\"https://cdn.plot.ly/plotly-2.9.0.min.js\"></script>                <div id=\"afa4ba71-1625-4484-b4e4-0bc3c3c97fe7\" class=\"plotly-graph-div\" style=\"height:525px; width:100%;\"></div>            <script type=\"text/javascript\">                                    window.PLOTLYENV=window.PLOTLYENV || {};                                    if (document.getElementById(\"afa4ba71-1625-4484-b4e4-0bc3c3c97fe7\")) {                    Plotly.newPlot(                        \"afa4ba71-1625-4484-b4e4-0bc3c3c97fe7\",                        [{\"mode\":\"lines\",\"name\":\"Open\",\"x\":[\"2017-04-03T00:00:00\",\"2017-04-10T00:00:00\",\"2017-04-17T00:00:00\",\"2017-04-24T00:00:00\",\"2017-05-01T00:00:00\",\"2017-05-08T00:00:00\",\"2017-05-15T00:00:00\",\"2017-05-22T00:00:00\",\"2017-05-29T00:00:00\",\"2017-06-05T00:00:00\",\"2017-06-12T00:00:00\",\"2017-06-19T00:00:00\",\"2017-06-26T00:00:00\",\"2017-07-03T00:00:00\",\"2017-07-10T00:00:00\",\"2017-07-17T00:00:00\",\"2017-07-24T00:00:00\",\"2017-07-31T00:00:00\",\"2017-08-07T00:00:00\",\"2017-08-14T00:00:00\",\"2017-08-21T00:00:00\",\"2017-08-28T00:00:00\",\"2017-09-04T00:00:00\",\"2017-09-11T00:00:00\",\"2017-09-18T00:00:00\",\"2017-09-25T00:00:00\",\"2017-10-02T00:00:00\",\"2017-10-09T00:00:00\",\"2017-10-16T00:00:00\",\"2017-10-23T00:00:00\",\"2017-10-30T00:00:00\",\"2017-11-06T00:00:00\",\"2017-11-13T00:00:00\",\"2017-11-20T00:00:00\",\"2017-11-27T00:00:00\",\"2017-12-04T00:00:00\",\"2017-12-11T00:00:00\",\"2017-12-18T00:00:00\",\"2017-12-25T00:00:00\",\"2018-01-01T00:00:00\",\"2018-01-08T00:00:00\",\"2018-01-15T00:00:00\",\"2018-01-22T00:00:00\",\"2018-01-29T00:00:00\",\"2018-02-05T00:00:00\",\"2018-02-12T00:00:00\",\"2018-02-19T00:00:00\",\"2018-02-26T00:00:00\",\"2018-03-05T00:00:00\",\"2018-03-12T00:00:00\",\"2018-03-19T00:00:00\",\"2018-03-26T00:00:00\",\"2018-04-02T00:00:00\",\"2018-04-09T00:00:00\",\"2018-04-16T00:00:00\",\"2018-04-23T00:00:00\",\"2018-04-30T00:00:00\",\"2018-05-07T00:00:00\",\"2018-05-14T00:00:00\",\"2018-05-21T00:00:00\",\"2018-05-28T00:00:00\",\"2018-06-04T00:00:00\",\"2018-06-11T00:00:00\",\"2018-06-18T00:00:00\",\"2018-06-25T00:00:00\",\"2018-07-02T00:00:00\",\"2018-07-09T00:00:00\",\"2018-07-16T00:00:00\",\"2018-07-23T00:00:00\",\"2018-07-30T00:00:00\",\"2018-08-06T00:00:00\",\"2018-08-13T00:00:00\",\"2018-08-20T00:00:00\",\"2018-08-27T00:00:00\",\"2018-09-03T00:00:00\",\"2018-09-10T00:00:00\",\"2018-09-17T00:00:00\",\"2018-09-24T00:00:00\",\"2018-10-01T00:00:00\",\"2018-10-08T00:00:00\",\"2018-10-15T00:00:00\",\"2018-10-22T00:00:00\",\"2018-10-29T00:00:00\",\"2018-11-05T00:00:00\",\"2018-11-12T00:00:00\",\"2018-11-19T00:00:00\",\"2018-11-26T00:00:00\",\"2018-12-03T00:00:00\",\"2018-12-10T00:00:00\",\"2018-12-17T00:00:00\",\"2018-12-24T00:00:00\",\"2018-12-31T00:00:00\",\"2019-01-07T00:00:00\",\"2019-01-14T00:00:00\",\"2019-01-21T00:00:00\",\"2019-01-28T00:00:00\",\"2019-02-04T00:00:00\",\"2019-02-11T00:00:00\",\"2019-02-18T00:00:00\",\"2019-02-25T00:00:00\",\"2019-03-04T00:00:00\",\"2019-03-11T00:00:00\",\"2019-03-18T00:00:00\",\"2019-03-25T00:00:00\",\"2019-04-01T00:00:00\",\"2019-04-08T00:00:00\",\"2019-04-15T00:00:00\",\"2019-04-22T00:00:00\",\"2019-04-29T00:00:00\",\"2019-05-06T00:00:00\",\"2019-05-13T00:00:00\",\"2019-05-20T00:00:00\",\"2019-05-27T00:00:00\",\"2019-06-03T00:00:00\",\"2019-06-10T00:00:00\",\"2019-06-17T00:00:00\",\"2019-06-24T00:00:00\",\"2019-07-01T00:00:00\",\"2019-07-08T00:00:00\",\"2019-07-15T00:00:00\",\"2019-07-22T00:00:00\",\"2019-07-29T00:00:00\",\"2019-08-05T00:00:00\",\"2019-08-12T00:00:00\",\"2019-08-19T00:00:00\",\"2019-08-26T00:00:00\",\"2019-09-02T00:00:00\",\"2019-09-09T00:00:00\",\"2019-09-16T00:00:00\",\"2019-09-23T00:00:00\",\"2019-09-30T00:00:00\",\"2019-10-07T00:00:00\",\"2019-10-14T00:00:00\",\"2019-10-21T00:00:00\",\"2019-10-28T00:00:00\",\"2019-11-04T00:00:00\",\"2019-11-11T00:00:00\",\"2019-11-18T00:00:00\",\"2019-11-25T00:00:00\",\"2019-12-02T00:00:00\",\"2019-12-09T00:00:00\",\"2019-12-16T00:00:00\",\"2019-12-23T00:00:00\",\"2019-12-30T00:00:00\",\"2020-01-06T00:00:00\",\"2020-01-13T00:00:00\",\"2020-01-20T00:00:00\",\"2020-01-27T00:00:00\",\"2020-02-03T00:00:00\",\"2020-02-10T00:00:00\",\"2020-02-17T00:00:00\",\"2020-02-24T00:00:00\",\"2020-03-02T00:00:00\",\"2020-03-09T00:00:00\",\"2020-03-16T00:00:00\",\"2020-03-23T00:00:00\",\"2020-03-30T00:00:00\",\"2020-04-06T00:00:00\",\"2020-04-13T00:00:00\",\"2020-04-20T00:00:00\",\"2020-04-27T00:00:00\",\"2020-05-04T00:00:00\",\"2020-05-11T00:00:00\",\"2020-05-18T00:00:00\",\"2020-05-25T00:00:00\",\"2020-06-01T00:00:00\",\"2020-06-08T00:00:00\",\"2020-06-15T00:00:00\",\"2020-06-22T00:00:00\",\"2020-06-29T00:00:00\",\"2020-07-06T00:00:00\",\"2020-07-13T00:00:00\",\"2020-07-20T00:00:00\",\"2020-07-27T00:00:00\",\"2020-08-03T00:00:00\",\"2020-08-10T00:00:00\",\"2020-08-17T00:00:00\",\"2020-08-24T00:00:00\",\"2020-08-31T00:00:00\",\"2020-09-07T00:00:00\",\"2020-09-14T00:00:00\",\"2020-09-21T00:00:00\",\"2020-09-28T00:00:00\",\"2020-10-05T00:00:00\",\"2020-10-12T00:00:00\",\"2020-10-19T00:00:00\",\"2020-10-26T00:00:00\",\"2020-11-02T00:00:00\",\"2020-11-09T00:00:00\",\"2020-11-16T00:00:00\",\"2020-11-23T00:00:00\",\"2020-11-30T00:00:00\",\"2020-12-07T00:00:00\",\"2020-12-14T00:00:00\",\"2020-12-21T00:00:00\",\"2020-12-28T00:00:00\",\"2021-01-04T00:00:00\",\"2021-01-11T00:00:00\",\"2021-01-18T00:00:00\",\"2021-01-25T00:00:00\",\"2021-02-01T00:00:00\",\"2021-02-08T00:00:00\",\"2021-02-15T00:00:00\",\"2021-02-22T00:00:00\",\"2021-03-01T00:00:00\",\"2021-03-08T00:00:00\",\"2021-03-15T00:00:00\",\"2021-03-22T00:00:00\",\"2021-03-29T00:00:00\",\"2021-04-05T00:00:00\",\"2021-04-12T00:00:00\",\"2021-04-19T00:00:00\",\"2021-04-26T00:00:00\",\"2021-05-03T00:00:00\",\"2021-05-10T00:00:00\",\"2021-05-17T00:00:00\",\"2021-05-24T00:00:00\",\"2021-05-31T00:00:00\",\"2021-06-07T00:00:00\",\"2021-06-14T00:00:00\",\"2021-06-21T00:00:00\",\"2021-06-28T00:00:00\",\"2021-07-05T00:00:00\",\"2021-07-12T00:00:00\",\"2021-07-19T00:00:00\",\"2021-07-26T00:00:00\",\"2021-08-02T00:00:00\",\"2021-08-09T00:00:00\",\"2021-08-16T00:00:00\",\"2021-08-23T00:00:00\",\"2021-08-30T00:00:00\",\"2021-09-06T00:00:00\",\"2021-09-13T00:00:00\",\"2021-09-20T00:00:00\",\"2021-09-27T00:00:00\",\"2021-10-04T00:00:00\",\"2021-10-11T00:00:00\",\"2021-10-18T00:00:00\",\"2021-10-25T00:00:00\",\"2021-11-01T00:00:00\",\"2021-11-08T00:00:00\",\"2021-11-15T00:00:00\",\"2021-11-22T00:00:00\",\"2021-11-29T00:00:00\",\"2021-12-06T00:00:00\",\"2021-12-13T00:00:00\",\"2021-12-20T00:00:00\",\"2021-12-27T00:00:00\",\"2022-01-03T00:00:00\",\"2022-01-10T00:00:00\",\"2022-01-17T00:00:00\",\"2022-01-24T00:00:00\",\"2022-01-31T00:00:00\",\"2022-02-07T00:00:00\",\"2022-02-14T00:00:00\",\"2022-02-21T00:00:00\",\"2022-02-28T00:00:00\",\"2022-03-07T00:00:00\",\"2022-03-14T00:00:00\",\"2022-03-21T00:00:00\",\"2022-03-28T00:00:00\",\"2022-04-04T00:00:00\"],\"y\":[8200.0,8400.0,8200.0,8175.0,8450.0,8775.0,8675.0,8575.0,8750.0,8825.0,8800.0,8500.0,8750.0,8800.0,8750.0,8500.0,8600.0,8650.0,8300.0,8275.0,8325.0,8600.0,8700.0,8675.0,8800.0,8775.0,8925.0,8900.0,8700.0,8750.0,8850.0,9000.0,8750.0,8550.0,8925.0,8700.0,8750.0,8725.0,8925.0,9000.0,8750.0,9025.0,8900.0,8800.0,8875.0,8700.0,8900.0,9075.0,8975.0,9100.0,9100.0,8800.0,8625.0,8300.0,8275.0,8350.0,8375.0,8675.0,8625.0,8350.0,8150.0,8625.0,8700.0,8850.0,8850.0,8750.0,8875.0,8875.0,8700.0,8675.0,8800.0,9000.0,8550.0,8600.0,8800.0,8775.0,8900.0,8900.0,8700.0,8825.0,8850.0,8700.0,8675.0,8650.0,9000.0,8400.0,8775.0,8925.0,9450.0,9725.0,10050.0,10525.0,10450.0,10350.0,10000.0,10250.0,10800.0,10650.0,10500.0,10550.0,10250.0,10350.0,10300.0,10425.0,9500.0,9275.0,9025.0,9050.0,9025.0,9475.0,9650.0,9400.0,9375.0,9800.0,9800.0,9900.0,9975.0,9975.0,10000.0,9950.0,10375.0,10650.0,10350.0,10875.0,11500.0,11800.0,11850.0,11975.0,11850.0,11900.0,11950.0,11950.0,12400.0,11550.0,11500.0,11675.0,11300.0,11400.0,11400.0,11375.0,11600.0,11375.0,11325.0,11325.0,11275.0,11550.0,11625.0,11625.0,11625.0,11550.0,11575.0,10850.0,11000.0,10650.0,10300.0,10400.0,8300.0,9650.0,10350.0,10200.0,10075.0,9900.0,9850.0,9750.0,9800.0,9600.0,8250.0,8850.0,8700.0,9150.0,9450.0,9425.0,9400.0,9325.0,9075.0,9425.0,10175.0,10200.0,10225.0,10175.0,10325.0,10575.0,10050.0,10175.0,10200.0,9900.0,9825.0,9750.0,9825.0,9775.0,9800.0,10225.0,10000.0,9950.0,9825.0,9825.0,9500.0,9525.0,9525.0,9700.0,9575.0,9250.0,9150.0,9000.0,8625.0,8600.0,8375.0,8575.0,9100.0,9200.0,8925.0,8650.0,9000.0,8700.0,8550.0,8600.0,8250.0,8200.0,8250.0,8350.0,8175.0,7975.0,8050.0,8275.0,8825.0,8425.0,8750.0,8150.0,8200.0,8250.0,8225.0,8600.0,8325.0,8425.0,8100.0,8350.0,8650.0,8875.0,9300.0,9125.0,8800.0,8925.0,8950.0,9050.0,9025.0,8800.0,8750.0,8775.0,8650.0,8650.0,8850.0,8775.0,8600.0,8725.0,8650.0,8550.0,8525.0,8500.0,7400.0,7525.0,7475.0,7300.0],\"type\":\"scatter\"},{\"mode\":\"lines\",\"name\":\"Close\",\"x\":[\"2017-04-03T00:00:00\",\"2017-04-10T00:00:00\",\"2017-04-17T00:00:00\",\"2017-04-24T00:00:00\",\"2017-05-01T00:00:00\",\"2017-05-08T00:00:00\",\"2017-05-15T00:00:00\",\"2017-05-22T00:00:00\",\"2017-05-29T00:00:00\",\"2017-06-05T00:00:00\",\"2017-06-12T00:00:00\",\"2017-06-19T00:00:00\",\"2017-06-26T00:00:00\",\"2017-07-03T00:00:00\",\"2017-07-10T00:00:00\",\"2017-07-17T00:00:00\",\"2017-07-24T00:00:00\",\"2017-07-31T00:00:00\",\"2017-08-07T00:00:00\",\"2017-08-14T00:00:00\",\"2017-08-21T00:00:00\",\"2017-08-28T00:00:00\",\"2017-09-04T00:00:00\",\"2017-09-11T00:00:00\",\"2017-09-18T00:00:00\",\"2017-09-25T00:00:00\",\"2017-10-02T00:00:00\",\"2017-10-09T00:00:00\",\"2017-10-16T00:00:00\",\"2017-10-23T00:00:00\",\"2017-10-30T00:00:00\",\"2017-11-06T00:00:00\",\"2017-11-13T00:00:00\",\"2017-11-20T00:00:00\",\"2017-11-27T00:00:00\",\"2017-12-04T00:00:00\",\"2017-12-11T00:00:00\",\"2017-12-18T00:00:00\",\"2017-12-25T00:00:00\",\"2018-01-01T00:00:00\",\"2018-01-08T00:00:00\",\"2018-01-15T00:00:00\",\"2018-01-22T00:00:00\",\"2018-01-29T00:00:00\",\"2018-02-05T00:00:00\",\"2018-02-12T00:00:00\",\"2018-02-19T00:00:00\",\"2018-02-26T00:00:00\",\"2018-03-05T00:00:00\",\"2018-03-12T00:00:00\",\"2018-03-19T00:00:00\",\"2018-03-26T00:00:00\",\"2018-04-02T00:00:00\",\"2018-04-09T00:00:00\",\"2018-04-16T00:00:00\",\"2018-04-23T00:00:00\",\"2018-04-30T00:00:00\",\"2018-05-07T00:00:00\",\"2018-05-14T00:00:00\",\"2018-05-21T00:00:00\",\"2018-05-28T00:00:00\",\"2018-06-04T00:00:00\",\"2018-06-11T00:00:00\",\"2018-06-18T00:00:00\",\"2018-06-25T00:00:00\",\"2018-07-02T00:00:00\",\"2018-07-09T00:00:00\",\"2018-07-16T00:00:00\",\"2018-07-23T00:00:00\",\"2018-07-30T00:00:00\",\"2018-08-06T00:00:00\",\"2018-08-13T00:00:00\",\"2018-08-20T00:00:00\",\"2018-08-27T00:00:00\",\"2018-09-03T00:00:00\",\"2018-09-10T00:00:00\",\"2018-09-17T00:00:00\",\"2018-09-24T00:00:00\",\"2018-10-01T00:00:00\",\"2018-10-08T00:00:00\",\"2018-10-15T00:00:00\",\"2018-10-22T00:00:00\",\"2018-10-29T00:00:00\",\"2018-11-05T00:00:00\",\"2018-11-12T00:00:00\",\"2018-11-19T00:00:00\",\"2018-11-26T00:00:00\",\"2018-12-03T00:00:00\",\"2018-12-10T00:00:00\",\"2018-12-17T00:00:00\",\"2018-12-24T00:00:00\",\"2018-12-31T00:00:00\",\"2019-01-07T00:00:00\",\"2019-01-14T00:00:00\",\"2019-01-21T00:00:00\",\"2019-01-28T00:00:00\",\"2019-02-04T00:00:00\",\"2019-02-11T00:00:00\",\"2019-02-18T00:00:00\",\"2019-02-25T00:00:00\",\"2019-03-04T00:00:00\",\"2019-03-11T00:00:00\",\"2019-03-18T00:00:00\",\"2019-03-25T00:00:00\",\"2019-04-01T00:00:00\",\"2019-04-08T00:00:00\",\"2019-04-15T00:00:00\",\"2019-04-22T00:00:00\",\"2019-04-29T00:00:00\",\"2019-05-06T00:00:00\",\"2019-05-13T00:00:00\",\"2019-05-20T00:00:00\",\"2019-05-27T00:00:00\",\"2019-06-03T00:00:00\",\"2019-06-10T00:00:00\",\"2019-06-17T00:00:00\",\"2019-06-24T00:00:00\",\"2019-07-01T00:00:00\",\"2019-07-08T00:00:00\",\"2019-07-15T00:00:00\",\"2019-07-22T00:00:00\",\"2019-07-29T00:00:00\",\"2019-08-05T00:00:00\",\"2019-08-12T00:00:00\",\"2019-08-19T00:00:00\",\"2019-08-26T00:00:00\",\"2019-09-02T00:00:00\",\"2019-09-09T00:00:00\",\"2019-09-16T00:00:00\",\"2019-09-23T00:00:00\",\"2019-09-30T00:00:00\",\"2019-10-07T00:00:00\",\"2019-10-14T00:00:00\",\"2019-10-21T00:00:00\",\"2019-10-28T00:00:00\",\"2019-11-04T00:00:00\",\"2019-11-11T00:00:00\",\"2019-11-18T00:00:00\",\"2019-11-25T00:00:00\",\"2019-12-02T00:00:00\",\"2019-12-09T00:00:00\",\"2019-12-16T00:00:00\",\"2019-12-23T00:00:00\",\"2019-12-30T00:00:00\",\"2020-01-06T00:00:00\",\"2020-01-13T00:00:00\",\"2020-01-20T00:00:00\",\"2020-01-27T00:00:00\",\"2020-02-03T00:00:00\",\"2020-02-10T00:00:00\",\"2020-02-17T00:00:00\",\"2020-02-24T00:00:00\",\"2020-03-02T00:00:00\",\"2020-03-09T00:00:00\",\"2020-03-16T00:00:00\",\"2020-03-23T00:00:00\",\"2020-03-30T00:00:00\",\"2020-04-06T00:00:00\",\"2020-04-13T00:00:00\",\"2020-04-20T00:00:00\",\"2020-04-27T00:00:00\",\"2020-05-04T00:00:00\",\"2020-05-11T00:00:00\",\"2020-05-18T00:00:00\",\"2020-05-25T00:00:00\",\"2020-06-01T00:00:00\",\"2020-06-08T00:00:00\",\"2020-06-15T00:00:00\",\"2020-06-22T00:00:00\",\"2020-06-29T00:00:00\",\"2020-07-06T00:00:00\",\"2020-07-13T00:00:00\",\"2020-07-20T00:00:00\",\"2020-07-27T00:00:00\",\"2020-08-03T00:00:00\",\"2020-08-10T00:00:00\",\"2020-08-17T00:00:00\",\"2020-08-24T00:00:00\",\"2020-08-31T00:00:00\",\"2020-09-07T00:00:00\",\"2020-09-14T00:00:00\",\"2020-09-21T00:00:00\",\"2020-09-28T00:00:00\",\"2020-10-05T00:00:00\",\"2020-10-12T00:00:00\",\"2020-10-19T00:00:00\",\"2020-10-26T00:00:00\",\"2020-11-02T00:00:00\",\"2020-11-09T00:00:00\",\"2020-11-16T00:00:00\",\"2020-11-23T00:00:00\",\"2020-11-30T00:00:00\",\"2020-12-07T00:00:00\",\"2020-12-14T00:00:00\",\"2020-12-21T00:00:00\",\"2020-12-28T00:00:00\",\"2021-01-04T00:00:00\",\"2021-01-11T00:00:00\",\"2021-01-18T00:00:00\",\"2021-01-25T00:00:00\",\"2021-02-01T00:00:00\",\"2021-02-08T00:00:00\",\"2021-02-15T00:00:00\",\"2021-02-22T00:00:00\",\"2021-03-01T00:00:00\",\"2021-03-08T00:00:00\",\"2021-03-15T00:00:00\",\"2021-03-22T00:00:00\",\"2021-03-29T00:00:00\",\"2021-04-05T00:00:00\",\"2021-04-12T00:00:00\",\"2021-04-19T00:00:00\",\"2021-04-26T00:00:00\",\"2021-05-03T00:00:00\",\"2021-05-10T00:00:00\",\"2021-05-17T00:00:00\",\"2021-05-24T00:00:00\",\"2021-05-31T00:00:00\",\"2021-06-07T00:00:00\",\"2021-06-14T00:00:00\",\"2021-06-21T00:00:00\",\"2021-06-28T00:00:00\",\"2021-07-05T00:00:00\",\"2021-07-12T00:00:00\",\"2021-07-19T00:00:00\",\"2021-07-26T00:00:00\",\"2021-08-02T00:00:00\",\"2021-08-09T00:00:00\",\"2021-08-16T00:00:00\",\"2021-08-23T00:00:00\",\"2021-08-30T00:00:00\",\"2021-09-06T00:00:00\",\"2021-09-13T00:00:00\",\"2021-09-20T00:00:00\",\"2021-09-27T00:00:00\",\"2021-10-04T00:00:00\",\"2021-10-11T00:00:00\",\"2021-10-18T00:00:00\",\"2021-10-25T00:00:00\",\"2021-11-01T00:00:00\",\"2021-11-08T00:00:00\",\"2021-11-15T00:00:00\",\"2021-11-22T00:00:00\",\"2021-11-29T00:00:00\",\"2021-12-06T00:00:00\",\"2021-12-13T00:00:00\",\"2021-12-20T00:00:00\",\"2021-12-27T00:00:00\",\"2022-01-03T00:00:00\",\"2022-01-10T00:00:00\",\"2022-01-17T00:00:00\",\"2022-01-24T00:00:00\",\"2022-01-31T00:00:00\",\"2022-02-07T00:00:00\",\"2022-02-14T00:00:00\",\"2022-02-21T00:00:00\",\"2022-02-28T00:00:00\",\"2022-03-07T00:00:00\",\"2022-03-14T00:00:00\",\"2022-03-21T00:00:00\",\"2022-03-28T00:00:00\",\"2022-04-04T00:00:00\"],\"y\":[8425.0,8400.0,8125.0,8200.0,8500.0,8550.0,8625.0,8575.0,8825.0,8675.0,8750.0,8500.0,8775.0,8800.0,8800.0,8475.0,8625.0,8675.0,8325.0,8350.0,8400.0,8725.0,8675.0,8575.0,8775.0,8825.0,8800.0,8700.0,8700.0,8850.0,8725.0,8800.0,8575.0,8550.0,8900.0,8675.0,8650.0,8800.0,8875.0,9000.0,9100.0,8875.0,8850.0,8850.0,8700.0,8750.0,8900.0,8875.0,9000.0,8925.0,8725.0,8575.0,8375.0,8200.0,8425.0,8350.0,8350.0,8675.0,8450.0,8200.0,8100.0,8625.0,8775.0,8850.0,8850.0,8800.0,8825.0,8900.0,8675.0,8675.0,8725.0,9000.0,8200.0,8800.0,8625.0,8650.0,8900.0,8775.0,8850.0,8950.0,8875.0,8750.0,8750.0,8650.0,8900.0,8550.0,8775.0,8950.0,9750.0,9700.0,10050.0,10525.0,10450.0,10175.0,10100.0,10450.0,10725.0,10650.0,10450.0,10475.0,10400.0,10275.0,10225.0,10300.0,9575.0,9000.0,9250.0,9075.0,9200.0,9725.0,9700.0,9650.0,9625.0,9725.0,9800.0,10150.0,10125.0,10000.0,10125.0,10100.0,10425.0,10725.0,10625.0,10775.0,11250.0,11900.0,11750.0,12000.0,12025.0,11950.0,11800.0,11925.0,12400.0,11375.0,11425.0,11600.0,11200.0,11400.0,11425.0,11375.0,11400.0,11375.0,11500.0,11275.0,11150.0,11500.0,11600.0,11700.0,11625.0,11600.0,11475.0,10850.0,10975.0,10950.0,10775.0,9750.0,8300.0,10225.0,10075.0,10350.0,9975.0,10025.0,9750.0,9750.0,9900.0,8950.0,8475.0,8900.0,8875.0,8925.0,9350.0,9500.0,9450.0,9325.0,9050.0,10025.0,10200.0,10200.0,10425.0,10225.0,10325.0,10400.0,10250.0,10150.0,10100.0,9925.0,9725.0,9650.0,9725.0,9675.0,10250.0,10125.0,10100.0,9800.0,9700.0,9600.0,9300.0,9450.0,9425.0,9750.0,9500.0,9500.0,8800.0,8825.0,8550.0,8700.0,8325.0,8600.0,9200.0,9075.0,8825.0,8625.0,8900.0,8600.0,8525.0,8525.0,8300.0,8175.0,8225.0,8175.0,8150.0,8050.0,8250.0,8400.0,8950.0,8500.0,8500.0,8225.0,8050.0,8350.0,8200.0,8425.0,8425.0,8450.0,8300.0,8225.0,8825.0,8875.0,9300.0,9100.0,8850.0,8925.0,8825.0,8950.0,8450.0,8750.0,8700.0,8750.0,8700.0,8775.0,8700.0,8775.0,8750.0,8675.0,8625.0,8550.0,8525.0,8250.0,7600.0,7425.0,7475.0,7300.0],\"type\":\"scatter\"}],                        {\"hovermode\":\"x\",\"template\":{\"data\":{\"barpolar\":[{\"marker\":{\"line\":{\"color\":\"#E5ECF6\",\"width\":0.5},\"pattern\":{\"fillmode\":\"overlay\",\"size\":10,\"solidity\":0.2}},\"type\":\"barpolar\"}],\"bar\":[{\"error_x\":{\"color\":\"#2a3f5f\"},\"error_y\":{\"color\":\"#2a3f5f\"},\"marker\":{\"line\":{\"color\":\"#E5ECF6\",\"width\":0.5},\"pattern\":{\"fillmode\":\"overlay\",\"size\":10,\"solidity\":0.2}},\"type\":\"bar\"}],\"carpet\":[{\"aaxis\":{\"endlinecolor\":\"#2a3f5f\",\"gridcolor\":\"white\",\"linecolor\":\"white\",\"minorgridcolor\":\"white\",\"startlinecolor\":\"#2a3f5f\"},\"baxis\":{\"endlinecolor\":\"#2a3f5f\",\"gridcolor\":\"white\",\"linecolor\":\"white\",\"minorgridcolor\":\"white\",\"startlinecolor\":\"#2a3f5f\"},\"type\":\"carpet\"}],\"choropleth\":[{\"colorbar\":{\"outlinewidth\":0,\"ticks\":\"\"},\"type\":\"choropleth\"}],\"contourcarpet\":[{\"colorbar\":{\"outlinewidth\":0,\"ticks\":\"\"},\"type\":\"contourcarpet\"}],\"contour\":[{\"colorbar\":{\"outlinewidth\":0,\"ticks\":\"\"},\"colorscale\":[[0.0,\"#0d0887\"],[0.1111111111111111,\"#46039f\"],[0.2222222222222222,\"#7201a8\"],[0.3333333333333333,\"#9c179e\"],[0.4444444444444444,\"#bd3786\"],[0.5555555555555556,\"#d8576b\"],[0.6666666666666666,\"#ed7953\"],[0.7777777777777778,\"#fb9f3a\"],[0.8888888888888888,\"#fdca26\"],[1.0,\"#f0f921\"]],\"type\":\"contour\"}],\"heatmapgl\":[{\"colorbar\":{\"outlinewidth\":0,\"ticks\":\"\"},\"colorscale\":[[0.0,\"#0d0887\"],[0.1111111111111111,\"#46039f\"],[0.2222222222222222,\"#7201a8\"],[0.3333333333333333,\"#9c179e\"],[0.4444444444444444,\"#bd3786\"],[0.5555555555555556,\"#d8576b\"],[0.6666666666666666,\"#ed7953\"],[0.7777777777777778,\"#fb9f3a\"],[0.8888888888888888,\"#fdca26\"],[1.0,\"#f0f921\"]],\"type\":\"heatmapgl\"}],\"heatmap\":[{\"colorbar\":{\"outlinewidth\":0,\"ticks\":\"\"},\"colorscale\":[[0.0,\"#0d0887\"],[0.1111111111111111,\"#46039f\"],[0.2222222222222222,\"#7201a8\"],[0.3333333333333333,\"#9c179e\"],[0.4444444444444444,\"#bd3786\"],[0.5555555555555556,\"#d8576b\"],[0.6666666666666666,\"#ed7953\"],[0.7777777777777778,\"#fb9f3a\"],[0.8888888888888888,\"#fdca26\"],[1.0,\"#f0f921\"]],\"type\":\"heatmap\"}],\"histogram2dcontour\":[{\"colorbar\":{\"outlinewidth\":0,\"ticks\":\"\"},\"colorscale\":[[0.0,\"#0d0887\"],[0.1111111111111111,\"#46039f\"],[0.2222222222222222,\"#7201a8\"],[0.3333333333333333,\"#9c179e\"],[0.4444444444444444,\"#bd3786\"],[0.5555555555555556,\"#d8576b\"],[0.6666666666666666,\"#ed7953\"],[0.7777777777777778,\"#fb9f3a\"],[0.8888888888888888,\"#fdca26\"],[1.0,\"#f0f921\"]],\"type\":\"histogram2dcontour\"}],\"histogram2d\":[{\"colorbar\":{\"outlinewidth\":0,\"ticks\":\"\"},\"colorscale\":[[0.0,\"#0d0887\"],[0.1111111111111111,\"#46039f\"],[0.2222222222222222,\"#7201a8\"],[0.3333333333333333,\"#9c179e\"],[0.4444444444444444,\"#bd3786\"],[0.5555555555555556,\"#d8576b\"],[0.6666666666666666,\"#ed7953\"],[0.7777777777777778,\"#fb9f3a\"],[0.8888888888888888,\"#fdca26\"],[1.0,\"#f0f921\"]],\"type\":\"histogram2d\"}],\"histogram\":[{\"marker\":{\"pattern\":{\"fillmode\":\"overlay\",\"size\":10,\"solidity\":0.2}},\"type\":\"histogram\"}],\"mesh3d\":[{\"colorbar\":{\"outlinewidth\":0,\"ticks\":\"\"},\"type\":\"mesh3d\"}],\"parcoords\":[{\"line\":{\"colorbar\":{\"outlinewidth\":0,\"ticks\":\"\"}},\"type\":\"parcoords\"}],\"pie\":[{\"automargin\":true,\"type\":\"pie\"}],\"scatter3d\":[{\"line\":{\"colorbar\":{\"outlinewidth\":0,\"ticks\":\"\"}},\"marker\":{\"colorbar\":{\"outlinewidth\":0,\"ticks\":\"\"}},\"type\":\"scatter3d\"}],\"scattercarpet\":[{\"marker\":{\"colorbar\":{\"outlinewidth\":0,\"ticks\":\"\"}},\"type\":\"scattercarpet\"}],\"scattergeo\":[{\"marker\":{\"colorbar\":{\"outlinewidth\":0,\"ticks\":\"\"}},\"type\":\"scattergeo\"}],\"scattergl\":[{\"marker\":{\"colorbar\":{\"outlinewidth\":0,\"ticks\":\"\"}},\"type\":\"scattergl\"}],\"scattermapbox\":[{\"marker\":{\"colorbar\":{\"outlinewidth\":0,\"ticks\":\"\"}},\"type\":\"scattermapbox\"}],\"scatterpolargl\":[{\"marker\":{\"colorbar\":{\"outlinewidth\":0,\"ticks\":\"\"}},\"type\":\"scatterpolargl\"}],\"scatterpolar\":[{\"marker\":{\"colorbar\":{\"outlinewidth\":0,\"ticks\":\"\"}},\"type\":\"scatterpolar\"}],\"scatter\":[{\"marker\":{\"colorbar\":{\"outlinewidth\":0,\"ticks\":\"\"}},\"type\":\"scatter\"}],\"scatterternary\":[{\"marker\":{\"colorbar\":{\"outlinewidth\":0,\"ticks\":\"\"}},\"type\":\"scatterternary\"}],\"surface\":[{\"colorbar\":{\"outlinewidth\":0,\"ticks\":\"\"},\"colorscale\":[[0.0,\"#0d0887\"],[0.1111111111111111,\"#46039f\"],[0.2222222222222222,\"#7201a8\"],[0.3333333333333333,\"#9c179e\"],[0.4444444444444444,\"#bd3786\"],[0.5555555555555556,\"#d8576b\"],[0.6666666666666666,\"#ed7953\"],[0.7777777777777778,\"#fb9f3a\"],[0.8888888888888888,\"#fdca26\"],[1.0,\"#f0f921\"]],\"type\":\"surface\"}],\"table\":[{\"cells\":{\"fill\":{\"color\":\"#EBF0F8\"},\"line\":{\"color\":\"white\"}},\"header\":{\"fill\":{\"color\":\"#C8D4E3\"},\"line\":{\"color\":\"white\"}},\"type\":\"table\"}]},\"layout\":{\"annotationdefaults\":{\"arrowcolor\":\"#2a3f5f\",\"arrowhead\":0,\"arrowwidth\":1},\"autotypenumbers\":\"strict\",\"coloraxis\":{\"colorbar\":{\"outlinewidth\":0,\"ticks\":\"\"}},\"colorscale\":{\"diverging\":[[0,\"#8e0152\"],[0.1,\"#c51b7d\"],[0.2,\"#de77ae\"],[0.3,\"#f1b6da\"],[0.4,\"#fde0ef\"],[0.5,\"#f7f7f7\"],[0.6,\"#e6f5d0\"],[0.7,\"#b8e186\"],[0.8,\"#7fbc41\"],[0.9,\"#4d9221\"],[1,\"#276419\"]],\"sequential\":[[0.0,\"#0d0887\"],[0.1111111111111111,\"#46039f\"],[0.2222222222222222,\"#7201a8\"],[0.3333333333333333,\"#9c179e\"],[0.4444444444444444,\"#bd3786\"],[0.5555555555555556,\"#d8576b\"],[0.6666666666666666,\"#ed7953\"],[0.7777777777777778,\"#fb9f3a\"],[0.8888888888888888,\"#fdca26\"],[1.0,\"#f0f921\"]],\"sequentialminus\":[[0.0,\"#0d0887\"],[0.1111111111111111,\"#46039f\"],[0.2222222222222222,\"#7201a8\"],[0.3333333333333333,\"#9c179e\"],[0.4444444444444444,\"#bd3786\"],[0.5555555555555556,\"#d8576b\"],[0.6666666666666666,\"#ed7953\"],[0.7777777777777778,\"#fb9f3a\"],[0.8888888888888888,\"#fdca26\"],[1.0,\"#f0f921\"]]},\"colorway\":[\"#636efa\",\"#EF553B\",\"#00cc96\",\"#ab63fa\",\"#FFA15A\",\"#19d3f3\",\"#FF6692\",\"#B6E880\",\"#FF97FF\",\"#FECB52\"],\"font\":{\"color\":\"#2a3f5f\"},\"geo\":{\"bgcolor\":\"white\",\"lakecolor\":\"white\",\"landcolor\":\"#E5ECF6\",\"showlakes\":true,\"showland\":true,\"subunitcolor\":\"white\"},\"hoverlabel\":{\"align\":\"left\"},\"hovermode\":\"closest\",\"mapbox\":{\"style\":\"light\"},\"paper_bgcolor\":\"white\",\"plot_bgcolor\":\"#E5ECF6\",\"polar\":{\"angularaxis\":{\"gridcolor\":\"white\",\"linecolor\":\"white\",\"ticks\":\"\"},\"bgcolor\":\"#E5ECF6\",\"radialaxis\":{\"gridcolor\":\"white\",\"linecolor\":\"white\",\"ticks\":\"\"}},\"scene\":{\"xaxis\":{\"backgroundcolor\":\"#E5ECF6\",\"gridcolor\":\"white\",\"gridwidth\":2,\"linecolor\":\"white\",\"showbackground\":true,\"ticks\":\"\",\"zerolinecolor\":\"white\"},\"yaxis\":{\"backgroundcolor\":\"#E5ECF6\",\"gridcolor\":\"white\",\"gridwidth\":2,\"linecolor\":\"white\",\"showbackground\":true,\"ticks\":\"\",\"zerolinecolor\":\"white\"},\"zaxis\":{\"backgroundcolor\":\"#E5ECF6\",\"gridcolor\":\"white\",\"gridwidth\":2,\"linecolor\":\"white\",\"showbackground\":true,\"ticks\":\"\",\"zerolinecolor\":\"white\"}},\"shapedefaults\":{\"line\":{\"color\":\"#2a3f5f\"}},\"ternary\":{\"aaxis\":{\"gridcolor\":\"white\",\"linecolor\":\"white\",\"ticks\":\"\"},\"baxis\":{\"gridcolor\":\"white\",\"linecolor\":\"white\",\"ticks\":\"\"},\"bgcolor\":\"#E5ECF6\",\"caxis\":{\"gridcolor\":\"white\",\"linecolor\":\"white\",\"ticks\":\"\"}},\"title\":{\"x\":0.05},\"xaxis\":{\"automargin\":true,\"gridcolor\":\"white\",\"linecolor\":\"white\",\"ticks\":\"\",\"title\":{\"standoff\":15},\"zerolinecolor\":\"white\",\"zerolinewidth\":2},\"yaxis\":{\"automargin\":true,\"gridcolor\":\"white\",\"linecolor\":\"white\",\"ticks\":\"\",\"title\":{\"standoff\":15},\"zerolinecolor\":\"white\",\"zerolinewidth\":2}}},\"title\":{\"text\":\"Historical ICBP Prices (2017-2022) with the Slider \"},\"xaxis\":{\"rangeselector\":{\"buttons\":[{\"count\":1,\"label\":\"1m\",\"step\":\"month\",\"stepmode\":\"backward\"},{\"count\":6,\"label\":\"6m\",\"step\":\"month\",\"stepmode\":\"backward\"},{\"count\":12,\"label\":\"1y\",\"step\":\"month\",\"stepmode\":\"backward\"},{\"count\":36,\"label\":\"3y\",\"step\":\"month\",\"stepmode\":\"backward\"},{\"step\":\"all\"}]},\"rangeslider\":{\"visible\":true},\"type\":\"date\"}},                        {\"responsive\": true}                    ).then(function(){\n",
              "                            \n",
              "var gd = document.getElementById('afa4ba71-1625-4484-b4e4-0bc3c3c97fe7');\n",
              "var x = new MutationObserver(function (mutations, observer) {{\n",
              "        var display = window.getComputedStyle(gd).display;\n",
              "        if (!display || display === 'none') {{\n",
              "            console.log([gd, 'removed!']);\n",
              "            Plotly.purge(gd);\n",
              "            observer.disconnect();\n",
              "        }}\n",
              "}});\n",
              "\n",
              "// Listen for the removal of the full notebook cells\n",
              "var notebookContainer = gd.closest('#notebook-container');\n",
              "if (notebookContainer) {{\n",
              "    x.observe(notebookContainer, {childList: true});\n",
              "}}\n",
              "\n",
              "// Listen for the clearing of the current output cell\n",
              "var outputEl = gd.closest('.output');\n",
              "if (outputEl) {{\n",
              "    x.observe(outputEl, {childList: true});\n",
              "}}\n",
              "\n",
              "                        })                };                            </script>        </div>\n",
              "</body>\n",
              "</html>"
            ]
          },
          "metadata": {},
          "output_type": "display_data"
        }
      ],
      "source": [
        "trace1 = go.Scatter(\n",
        "    x = weekly_rows['Date'],\n",
        "    y = weekly_rows['Open'].astype(float),\n",
        "    mode = 'lines',\n",
        "    name = 'Open'\n",
        ")\n",
        "\n",
        "trace2 = go.Scatter(\n",
        "    x = weekly_rows['Date'],\n",
        "    y = weekly_rows['Close'].astype(float),\n",
        "    mode = 'lines',\n",
        "    name = 'Close'\n",
        ")\n",
        "# trace3 = go.Scatter(\n",
        "#     x = weekly_rows['Date'],\n",
        "#     y = weekly_rows['Adj Close'].astype(float),\n",
        "#     mode = 'lines',\n",
        "#     name = 'Adj Close'\n",
        "# )\n",
        "\n",
        "layout = dict(\n",
        "    title='Historical ICBP Prices (2017-2022) with the Slider ',\n",
        "    hovermode='x',\n",
        "    xaxis=dict(\n",
        "        rangeselector=dict(\n",
        "            buttons=list([\n",
        "                #change the count to desired amount of months.\n",
        "                dict(count=1,\n",
        "                     label='1m',\n",
        "                     step='month',\n",
        "                     stepmode='backward'),\n",
        "                dict(count=6,\n",
        "                     label='6m',\n",
        "                     step='month',\n",
        "                     stepmode='backward'),\n",
        "                dict(count=12,\n",
        "                     label='1y',\n",
        "                     step='month',\n",
        "                     stepmode='backward'),\n",
        "                dict(count=36,\n",
        "                     label='3y',\n",
        "                     step='month',\n",
        "                     stepmode='backward'),\n",
        "                dict(step='all')\n",
        "            ])\n",
        "        ),\n",
        "        rangeslider=dict(\n",
        "            visible = True\n",
        "        ),\n",
        "        type='date'\n",
        "    )\n",
        ")\n",
        "\n",
        "# data = [trace1,trace2, trace3]\n",
        "data = [trace1,trace2]\n",
        "fig = dict(data=data, layout=layout)\n",
        "iplot(fig, filename = \"Time Series with Rangeslider\")\n",
        "# fig.show()"
      ]
    },
    {
      "cell_type": "code",
      "execution_count": null,
      "metadata": {
        "colab": {
          "base_uri": "https://localhost:8080/",
          "height": 542
        },
        "id": "_qq3TwD8Srqd",
        "outputId": "d1f87f21-364d-4178-c664-1646fb02cd92"
      },
      "outputs": [
        {
          "data": {
            "text/html": [
              "<html>\n",
              "<head><meta charset=\"utf-8\" /></head>\n",
              "<body>\n",
              "    <div>            <script src=\"https://cdnjs.cloudflare.com/ajax/libs/mathjax/2.7.5/MathJax.js?config=TeX-AMS-MML_SVG\"></script><script type=\"text/javascript\">if (window.MathJax) {MathJax.Hub.Config({SVG: {font: \"STIX-Web\"}});}</script>                <script type=\"text/javascript\">window.PlotlyConfig = {MathJaxConfig: 'local'};</script>\n",
              "        <script src=\"https://cdn.plot.ly/plotly-2.9.0.min.js\"></script>                <div id=\"51273c58-972f-4ac3-867b-06b762254370\" class=\"plotly-graph-div\" style=\"height:525px; width:100%;\"></div>            <script type=\"text/javascript\">                                    window.PLOTLYENV=window.PLOTLYENV || {};                                    if (document.getElementById(\"51273c58-972f-4ac3-867b-06b762254370\")) {                    Plotly.newPlot(                        \"51273c58-972f-4ac3-867b-06b762254370\",                        [{\"mode\":\"lines\",\"name\":\"Volume\",\"x\":[\"2017-04-03T00:00:00\",\"2017-04-10T00:00:00\",\"2017-04-17T00:00:00\",\"2017-04-24T00:00:00\",\"2017-05-01T00:00:00\",\"2017-05-08T00:00:00\",\"2017-05-15T00:00:00\",\"2017-05-22T00:00:00\",\"2017-05-29T00:00:00\",\"2017-06-05T00:00:00\",\"2017-06-12T00:00:00\",\"2017-06-19T00:00:00\",\"2017-06-26T00:00:00\",\"2017-07-03T00:00:00\",\"2017-07-10T00:00:00\",\"2017-07-17T00:00:00\",\"2017-07-24T00:00:00\",\"2017-07-31T00:00:00\",\"2017-08-07T00:00:00\",\"2017-08-14T00:00:00\",\"2017-08-21T00:00:00\",\"2017-08-28T00:00:00\",\"2017-09-04T00:00:00\",\"2017-09-11T00:00:00\",\"2017-09-18T00:00:00\",\"2017-09-25T00:00:00\",\"2017-10-02T00:00:00\",\"2017-10-09T00:00:00\",\"2017-10-16T00:00:00\",\"2017-10-23T00:00:00\",\"2017-10-30T00:00:00\",\"2017-11-06T00:00:00\",\"2017-11-13T00:00:00\",\"2017-11-20T00:00:00\",\"2017-11-27T00:00:00\",\"2017-12-04T00:00:00\",\"2017-12-11T00:00:00\",\"2017-12-18T00:00:00\",\"2017-12-25T00:00:00\",\"2018-01-01T00:00:00\",\"2018-01-08T00:00:00\",\"2018-01-15T00:00:00\",\"2018-01-22T00:00:00\",\"2018-01-29T00:00:00\",\"2018-02-05T00:00:00\",\"2018-02-12T00:00:00\",\"2018-02-19T00:00:00\",\"2018-02-26T00:00:00\",\"2018-03-05T00:00:00\",\"2018-03-12T00:00:00\",\"2018-03-19T00:00:00\",\"2018-03-26T00:00:00\",\"2018-04-02T00:00:00\",\"2018-04-09T00:00:00\",\"2018-04-16T00:00:00\",\"2018-04-23T00:00:00\",\"2018-04-30T00:00:00\",\"2018-05-07T00:00:00\",\"2018-05-14T00:00:00\",\"2018-05-21T00:00:00\",\"2018-05-28T00:00:00\",\"2018-06-04T00:00:00\",\"2018-06-11T00:00:00\",\"2018-06-18T00:00:00\",\"2018-06-25T00:00:00\",\"2018-07-02T00:00:00\",\"2018-07-09T00:00:00\",\"2018-07-16T00:00:00\",\"2018-07-23T00:00:00\",\"2018-07-30T00:00:00\",\"2018-08-06T00:00:00\",\"2018-08-13T00:00:00\",\"2018-08-20T00:00:00\",\"2018-08-27T00:00:00\",\"2018-09-03T00:00:00\",\"2018-09-10T00:00:00\",\"2018-09-17T00:00:00\",\"2018-09-24T00:00:00\",\"2018-10-01T00:00:00\",\"2018-10-08T00:00:00\",\"2018-10-15T00:00:00\",\"2018-10-22T00:00:00\",\"2018-10-29T00:00:00\",\"2018-11-05T00:00:00\",\"2018-11-12T00:00:00\",\"2018-11-19T00:00:00\",\"2018-11-26T00:00:00\",\"2018-12-03T00:00:00\",\"2018-12-10T00:00:00\",\"2018-12-17T00:00:00\",\"2018-12-24T00:00:00\",\"2018-12-31T00:00:00\",\"2019-01-07T00:00:00\",\"2019-01-14T00:00:00\",\"2019-01-21T00:00:00\",\"2019-01-28T00:00:00\",\"2019-02-04T00:00:00\",\"2019-02-11T00:00:00\",\"2019-02-18T00:00:00\",\"2019-02-25T00:00:00\",\"2019-03-04T00:00:00\",\"2019-03-11T00:00:00\",\"2019-03-18T00:00:00\",\"2019-03-25T00:00:00\",\"2019-04-01T00:00:00\",\"2019-04-08T00:00:00\",\"2019-04-15T00:00:00\",\"2019-04-22T00:00:00\",\"2019-04-29T00:00:00\",\"2019-05-06T00:00:00\",\"2019-05-13T00:00:00\",\"2019-05-20T00:00:00\",\"2019-05-27T00:00:00\",\"2019-06-03T00:00:00\",\"2019-06-10T00:00:00\",\"2019-06-17T00:00:00\",\"2019-06-24T00:00:00\",\"2019-07-01T00:00:00\",\"2019-07-08T00:00:00\",\"2019-07-15T00:00:00\",\"2019-07-22T00:00:00\",\"2019-07-29T00:00:00\",\"2019-08-05T00:00:00\",\"2019-08-12T00:00:00\",\"2019-08-19T00:00:00\",\"2019-08-26T00:00:00\",\"2019-09-02T00:00:00\",\"2019-09-09T00:00:00\",\"2019-09-16T00:00:00\",\"2019-09-23T00:00:00\",\"2019-09-30T00:00:00\",\"2019-10-07T00:00:00\",\"2019-10-14T00:00:00\",\"2019-10-21T00:00:00\",\"2019-10-28T00:00:00\",\"2019-11-04T00:00:00\",\"2019-11-11T00:00:00\",\"2019-11-18T00:00:00\",\"2019-11-25T00:00:00\",\"2019-12-02T00:00:00\",\"2019-12-09T00:00:00\",\"2019-12-16T00:00:00\",\"2019-12-23T00:00:00\",\"2019-12-30T00:00:00\",\"2020-01-06T00:00:00\",\"2020-01-13T00:00:00\",\"2020-01-20T00:00:00\",\"2020-01-27T00:00:00\",\"2020-02-03T00:00:00\",\"2020-02-10T00:00:00\",\"2020-02-17T00:00:00\",\"2020-02-24T00:00:00\",\"2020-03-02T00:00:00\",\"2020-03-09T00:00:00\",\"2020-03-16T00:00:00\",\"2020-03-23T00:00:00\",\"2020-03-30T00:00:00\",\"2020-04-06T00:00:00\",\"2020-04-13T00:00:00\",\"2020-04-20T00:00:00\",\"2020-04-27T00:00:00\",\"2020-05-04T00:00:00\",\"2020-05-11T00:00:00\",\"2020-05-18T00:00:00\",\"2020-05-25T00:00:00\",\"2020-06-01T00:00:00\",\"2020-06-08T00:00:00\",\"2020-06-15T00:00:00\",\"2020-06-22T00:00:00\",\"2020-06-29T00:00:00\",\"2020-07-06T00:00:00\",\"2020-07-13T00:00:00\",\"2020-07-20T00:00:00\",\"2020-07-27T00:00:00\",\"2020-08-03T00:00:00\",\"2020-08-10T00:00:00\",\"2020-08-17T00:00:00\",\"2020-08-24T00:00:00\",\"2020-08-31T00:00:00\",\"2020-09-07T00:00:00\",\"2020-09-14T00:00:00\",\"2020-09-21T00:00:00\",\"2020-09-28T00:00:00\",\"2020-10-05T00:00:00\",\"2020-10-12T00:00:00\",\"2020-10-19T00:00:00\",\"2020-10-26T00:00:00\",\"2020-11-02T00:00:00\",\"2020-11-09T00:00:00\",\"2020-11-16T00:00:00\",\"2020-11-23T00:00:00\",\"2020-11-30T00:00:00\",\"2020-12-07T00:00:00\",\"2020-12-14T00:00:00\",\"2020-12-21T00:00:00\",\"2020-12-28T00:00:00\",\"2021-01-04T00:00:00\",\"2021-01-11T00:00:00\",\"2021-01-18T00:00:00\",\"2021-01-25T00:00:00\",\"2021-02-01T00:00:00\",\"2021-02-08T00:00:00\",\"2021-02-15T00:00:00\",\"2021-02-22T00:00:00\",\"2021-03-01T00:00:00\",\"2021-03-08T00:00:00\",\"2021-03-15T00:00:00\",\"2021-03-22T00:00:00\",\"2021-03-29T00:00:00\",\"2021-04-05T00:00:00\",\"2021-04-12T00:00:00\",\"2021-04-19T00:00:00\",\"2021-04-26T00:00:00\",\"2021-05-03T00:00:00\",\"2021-05-10T00:00:00\",\"2021-05-17T00:00:00\",\"2021-05-24T00:00:00\",\"2021-05-31T00:00:00\",\"2021-06-07T00:00:00\",\"2021-06-14T00:00:00\",\"2021-06-21T00:00:00\",\"2021-06-28T00:00:00\",\"2021-07-05T00:00:00\",\"2021-07-12T00:00:00\",\"2021-07-19T00:00:00\",\"2021-07-26T00:00:00\",\"2021-08-02T00:00:00\",\"2021-08-09T00:00:00\",\"2021-08-16T00:00:00\",\"2021-08-23T00:00:00\",\"2021-08-30T00:00:00\",\"2021-09-06T00:00:00\",\"2021-09-13T00:00:00\",\"2021-09-20T00:00:00\",\"2021-09-27T00:00:00\",\"2021-10-04T00:00:00\",\"2021-10-11T00:00:00\",\"2021-10-18T00:00:00\",\"2021-10-25T00:00:00\",\"2021-11-01T00:00:00\",\"2021-11-08T00:00:00\",\"2021-11-15T00:00:00\",\"2021-11-22T00:00:00\",\"2021-11-29T00:00:00\",\"2021-12-06T00:00:00\",\"2021-12-13T00:00:00\",\"2021-12-20T00:00:00\",\"2021-12-27T00:00:00\",\"2022-01-03T00:00:00\",\"2022-01-10T00:00:00\",\"2022-01-17T00:00:00\",\"2022-01-24T00:00:00\",\"2022-01-31T00:00:00\",\"2022-02-07T00:00:00\",\"2022-02-14T00:00:00\",\"2022-02-21T00:00:00\",\"2022-02-28T00:00:00\",\"2022-03-07T00:00:00\",\"2022-03-14T00:00:00\",\"2022-03-21T00:00:00\",\"2022-03-28T00:00:00\",\"2022-04-04T00:00:00\"],\"y\":[2068600.0,3444200.0,7277700.0,7389500.0,6203900.0,3454900.0,4784600.0,2670000.0,6923600.0,4949200.0,4460800.0,4854500.0,6849400.0,0.0,9774600.0,3445800.0,2151500.0,2926200.0,6721800.0,2875600.0,2480500.0,4678600.0,5370400.0,2221300.0,3686200.0,3482000.0,1374100.0,4266100.0,2812300.0,5599700.0,1931100.0,4606300.0,2895900.0,2366700.0,4210400.0,12187700.0,2874300.0,2017400.0,2925000.0,0.0,5599400.0,8099000.0,10673500.0,7788500.0,10278600.0,6984600.0,2290900.0,4421100.0,3027600.0,2274900.0,4525100.0,2730400.0,4033900.0,8654000.0,4882800.0,0.0,2618100.0,0.0,3361800.0,3056100.0,2170800.0,0.0,5751800.0,0.0,0.0,4183200.0,1892800.0,2344400.0,799600.0,2254600.0,2065400.0,3082000.0,7136900.0,1410000.0,3579100.0,3434000.0,0.0,1789400.0,707900.0,2330900.0,2333800.0,1266800.0,6620300.0,6590800.0,3141600.0,2443500.0,0.0,3747100.0,5133200.0,2852500.0,8961500.0,0.0,0.0,10049900.0,5476000.0,7422200.0,3958700.0,0.0,5405200.0,3472600.0,5769300.0,1656800.0,2133600.0,1519700.0,8418700.0,10437700.0,5422000.0,9366900.0,7391100.0,23070300.0,5647100.0,5829500.0,2987200.0,11469100.0,0.0,9200400.0,16228900.0,24636700.0,2919400.0,2957200.0,2887800.0,3789800.0,6836000.0,7514300.0,7798500.0,11360000.0,12491900.0,2459000.0,4550900.0,5113400.0,2092300.0,2714500.0,2937900.0,3905000.0,5062200.0,4852400.0,9265000.0,6231700.0,7517700.0,13063100.0,2400700.0,3879900.0,7056800.0,2931200.0,1240200.0,4636500.0,4265000.0,3918900.0,3602200.0,6060300.0,13191900.0,5428000.0,3213600.0,7187600.0,4665700.0,8147300.0,10642400.0,10710300.0,6342100.0,4600800.0,2472900.0,3350600.0,2481700.0,10015800.0,6299300.0,10324600.0,39990400.0,21394700.0,9437600.0,12104800.0,13922700.0,6629600.0,4863900.0,7936100.0,9219900.0,45798800.0,8829900.0,6105900.0,8463700.0,5985500.0,8859000.0,3665900.0,5540400.0,3448900.0,2538900.0,7526700.0,6697000.0,4979000.0,4004300.0,21280100.0,24735800.0,8640800.0,20983400.0,37259300.0,17300900.0,15824100.0,18237100.0,10086200.0,6644300.0,34368300.0,13587300.0,12534000.0,35900200.0,14656600.0,11933200.0,13965700.0,8629600.0,4733700.0,30860800.0,6974500.0,4493200.0,2735700.0,2117200.0,7502700.0,6310100.0,2161700.0,3770500.0,8978000.0,5611200.0,8321100.0,4067700.0,4253300.0,9487400.0,2930700.0,16894100.0,4519000.0,3332900.0,3370400.0,6585900.0,4277300.0,5218600.0,5271700.0,2986500.0,1167000.0,3757800.0,4369400.0,13184600.0,7922600.0,5926900.0,6724600.0,3320900.0,2936800.0,6167400.0,5458400.0,12610000.0,4921400.0,4739900.0,2317600.0,3719600.0,4450000.0,3692600.0,3038300.0,5194200.0,2102100.0,4900000.0,11049400.0,7311200.0,21470900.0,21825800.0,15064300.0,4588300.0,9243600.0],\"type\":\"scatter\"}],                        {\"template\":{\"data\":{\"barpolar\":[{\"marker\":{\"line\":{\"color\":\"#E5ECF6\",\"width\":0.5},\"pattern\":{\"fillmode\":\"overlay\",\"size\":10,\"solidity\":0.2}},\"type\":\"barpolar\"}],\"bar\":[{\"error_x\":{\"color\":\"#2a3f5f\"},\"error_y\":{\"color\":\"#2a3f5f\"},\"marker\":{\"line\":{\"color\":\"#E5ECF6\",\"width\":0.5},\"pattern\":{\"fillmode\":\"overlay\",\"size\":10,\"solidity\":0.2}},\"type\":\"bar\"}],\"carpet\":[{\"aaxis\":{\"endlinecolor\":\"#2a3f5f\",\"gridcolor\":\"white\",\"linecolor\":\"white\",\"minorgridcolor\":\"white\",\"startlinecolor\":\"#2a3f5f\"},\"baxis\":{\"endlinecolor\":\"#2a3f5f\",\"gridcolor\":\"white\",\"linecolor\":\"white\",\"minorgridcolor\":\"white\",\"startlinecolor\":\"#2a3f5f\"},\"type\":\"carpet\"}],\"choropleth\":[{\"colorbar\":{\"outlinewidth\":0,\"ticks\":\"\"},\"type\":\"choropleth\"}],\"contourcarpet\":[{\"colorbar\":{\"outlinewidth\":0,\"ticks\":\"\"},\"type\":\"contourcarpet\"}],\"contour\":[{\"colorbar\":{\"outlinewidth\":0,\"ticks\":\"\"},\"colorscale\":[[0.0,\"#0d0887\"],[0.1111111111111111,\"#46039f\"],[0.2222222222222222,\"#7201a8\"],[0.3333333333333333,\"#9c179e\"],[0.4444444444444444,\"#bd3786\"],[0.5555555555555556,\"#d8576b\"],[0.6666666666666666,\"#ed7953\"],[0.7777777777777778,\"#fb9f3a\"],[0.8888888888888888,\"#fdca26\"],[1.0,\"#f0f921\"]],\"type\":\"contour\"}],\"heatmapgl\":[{\"colorbar\":{\"outlinewidth\":0,\"ticks\":\"\"},\"colorscale\":[[0.0,\"#0d0887\"],[0.1111111111111111,\"#46039f\"],[0.2222222222222222,\"#7201a8\"],[0.3333333333333333,\"#9c179e\"],[0.4444444444444444,\"#bd3786\"],[0.5555555555555556,\"#d8576b\"],[0.6666666666666666,\"#ed7953\"],[0.7777777777777778,\"#fb9f3a\"],[0.8888888888888888,\"#fdca26\"],[1.0,\"#f0f921\"]],\"type\":\"heatmapgl\"}],\"heatmap\":[{\"colorbar\":{\"outlinewidth\":0,\"ticks\":\"\"},\"colorscale\":[[0.0,\"#0d0887\"],[0.1111111111111111,\"#46039f\"],[0.2222222222222222,\"#7201a8\"],[0.3333333333333333,\"#9c179e\"],[0.4444444444444444,\"#bd3786\"],[0.5555555555555556,\"#d8576b\"],[0.6666666666666666,\"#ed7953\"],[0.7777777777777778,\"#fb9f3a\"],[0.8888888888888888,\"#fdca26\"],[1.0,\"#f0f921\"]],\"type\":\"heatmap\"}],\"histogram2dcontour\":[{\"colorbar\":{\"outlinewidth\":0,\"ticks\":\"\"},\"colorscale\":[[0.0,\"#0d0887\"],[0.1111111111111111,\"#46039f\"],[0.2222222222222222,\"#7201a8\"],[0.3333333333333333,\"#9c179e\"],[0.4444444444444444,\"#bd3786\"],[0.5555555555555556,\"#d8576b\"],[0.6666666666666666,\"#ed7953\"],[0.7777777777777778,\"#fb9f3a\"],[0.8888888888888888,\"#fdca26\"],[1.0,\"#f0f921\"]],\"type\":\"histogram2dcontour\"}],\"histogram2d\":[{\"colorbar\":{\"outlinewidth\":0,\"ticks\":\"\"},\"colorscale\":[[0.0,\"#0d0887\"],[0.1111111111111111,\"#46039f\"],[0.2222222222222222,\"#7201a8\"],[0.3333333333333333,\"#9c179e\"],[0.4444444444444444,\"#bd3786\"],[0.5555555555555556,\"#d8576b\"],[0.6666666666666666,\"#ed7953\"],[0.7777777777777778,\"#fb9f3a\"],[0.8888888888888888,\"#fdca26\"],[1.0,\"#f0f921\"]],\"type\":\"histogram2d\"}],\"histogram\":[{\"marker\":{\"pattern\":{\"fillmode\":\"overlay\",\"size\":10,\"solidity\":0.2}},\"type\":\"histogram\"}],\"mesh3d\":[{\"colorbar\":{\"outlinewidth\":0,\"ticks\":\"\"},\"type\":\"mesh3d\"}],\"parcoords\":[{\"line\":{\"colorbar\":{\"outlinewidth\":0,\"ticks\":\"\"}},\"type\":\"parcoords\"}],\"pie\":[{\"automargin\":true,\"type\":\"pie\"}],\"scatter3d\":[{\"line\":{\"colorbar\":{\"outlinewidth\":0,\"ticks\":\"\"}},\"marker\":{\"colorbar\":{\"outlinewidth\":0,\"ticks\":\"\"}},\"type\":\"scatter3d\"}],\"scattercarpet\":[{\"marker\":{\"colorbar\":{\"outlinewidth\":0,\"ticks\":\"\"}},\"type\":\"scattercarpet\"}],\"scattergeo\":[{\"marker\":{\"colorbar\":{\"outlinewidth\":0,\"ticks\":\"\"}},\"type\":\"scattergeo\"}],\"scattergl\":[{\"marker\":{\"colorbar\":{\"outlinewidth\":0,\"ticks\":\"\"}},\"type\":\"scattergl\"}],\"scattermapbox\":[{\"marker\":{\"colorbar\":{\"outlinewidth\":0,\"ticks\":\"\"}},\"type\":\"scattermapbox\"}],\"scatterpolargl\":[{\"marker\":{\"colorbar\":{\"outlinewidth\":0,\"ticks\":\"\"}},\"type\":\"scatterpolargl\"}],\"scatterpolar\":[{\"marker\":{\"colorbar\":{\"outlinewidth\":0,\"ticks\":\"\"}},\"type\":\"scatterpolar\"}],\"scatter\":[{\"marker\":{\"colorbar\":{\"outlinewidth\":0,\"ticks\":\"\"}},\"type\":\"scatter\"}],\"scatterternary\":[{\"marker\":{\"colorbar\":{\"outlinewidth\":0,\"ticks\":\"\"}},\"type\":\"scatterternary\"}],\"surface\":[{\"colorbar\":{\"outlinewidth\":0,\"ticks\":\"\"},\"colorscale\":[[0.0,\"#0d0887\"],[0.1111111111111111,\"#46039f\"],[0.2222222222222222,\"#7201a8\"],[0.3333333333333333,\"#9c179e\"],[0.4444444444444444,\"#bd3786\"],[0.5555555555555556,\"#d8576b\"],[0.6666666666666666,\"#ed7953\"],[0.7777777777777778,\"#fb9f3a\"],[0.8888888888888888,\"#fdca26\"],[1.0,\"#f0f921\"]],\"type\":\"surface\"}],\"table\":[{\"cells\":{\"fill\":{\"color\":\"#EBF0F8\"},\"line\":{\"color\":\"white\"}},\"header\":{\"fill\":{\"color\":\"#C8D4E3\"},\"line\":{\"color\":\"white\"}},\"type\":\"table\"}]},\"layout\":{\"annotationdefaults\":{\"arrowcolor\":\"#2a3f5f\",\"arrowhead\":0,\"arrowwidth\":1},\"autotypenumbers\":\"strict\",\"coloraxis\":{\"colorbar\":{\"outlinewidth\":0,\"ticks\":\"\"}},\"colorscale\":{\"diverging\":[[0,\"#8e0152\"],[0.1,\"#c51b7d\"],[0.2,\"#de77ae\"],[0.3,\"#f1b6da\"],[0.4,\"#fde0ef\"],[0.5,\"#f7f7f7\"],[0.6,\"#e6f5d0\"],[0.7,\"#b8e186\"],[0.8,\"#7fbc41\"],[0.9,\"#4d9221\"],[1,\"#276419\"]],\"sequential\":[[0.0,\"#0d0887\"],[0.1111111111111111,\"#46039f\"],[0.2222222222222222,\"#7201a8\"],[0.3333333333333333,\"#9c179e\"],[0.4444444444444444,\"#bd3786\"],[0.5555555555555556,\"#d8576b\"],[0.6666666666666666,\"#ed7953\"],[0.7777777777777778,\"#fb9f3a\"],[0.8888888888888888,\"#fdca26\"],[1.0,\"#f0f921\"]],\"sequentialminus\":[[0.0,\"#0d0887\"],[0.1111111111111111,\"#46039f\"],[0.2222222222222222,\"#7201a8\"],[0.3333333333333333,\"#9c179e\"],[0.4444444444444444,\"#bd3786\"],[0.5555555555555556,\"#d8576b\"],[0.6666666666666666,\"#ed7953\"],[0.7777777777777778,\"#fb9f3a\"],[0.8888888888888888,\"#fdca26\"],[1.0,\"#f0f921\"]]},\"colorway\":[\"#636efa\",\"#EF553B\",\"#00cc96\",\"#ab63fa\",\"#FFA15A\",\"#19d3f3\",\"#FF6692\",\"#B6E880\",\"#FF97FF\",\"#FECB52\"],\"font\":{\"color\":\"#2a3f5f\"},\"geo\":{\"bgcolor\":\"white\",\"lakecolor\":\"white\",\"landcolor\":\"#E5ECF6\",\"showlakes\":true,\"showland\":true,\"subunitcolor\":\"white\"},\"hoverlabel\":{\"align\":\"left\"},\"hovermode\":\"closest\",\"mapbox\":{\"style\":\"light\"},\"paper_bgcolor\":\"white\",\"plot_bgcolor\":\"#E5ECF6\",\"polar\":{\"angularaxis\":{\"gridcolor\":\"white\",\"linecolor\":\"white\",\"ticks\":\"\"},\"bgcolor\":\"#E5ECF6\",\"radialaxis\":{\"gridcolor\":\"white\",\"linecolor\":\"white\",\"ticks\":\"\"}},\"scene\":{\"xaxis\":{\"backgroundcolor\":\"#E5ECF6\",\"gridcolor\":\"white\",\"gridwidth\":2,\"linecolor\":\"white\",\"showbackground\":true,\"ticks\":\"\",\"zerolinecolor\":\"white\"},\"yaxis\":{\"backgroundcolor\":\"#E5ECF6\",\"gridcolor\":\"white\",\"gridwidth\":2,\"linecolor\":\"white\",\"showbackground\":true,\"ticks\":\"\",\"zerolinecolor\":\"white\"},\"zaxis\":{\"backgroundcolor\":\"#E5ECF6\",\"gridcolor\":\"white\",\"gridwidth\":2,\"linecolor\":\"white\",\"showbackground\":true,\"ticks\":\"\",\"zerolinecolor\":\"white\"}},\"shapedefaults\":{\"line\":{\"color\":\"#2a3f5f\"}},\"ternary\":{\"aaxis\":{\"gridcolor\":\"white\",\"linecolor\":\"white\",\"ticks\":\"\"},\"baxis\":{\"gridcolor\":\"white\",\"linecolor\":\"white\",\"ticks\":\"\"},\"bgcolor\":\"#E5ECF6\",\"caxis\":{\"gridcolor\":\"white\",\"linecolor\":\"white\",\"ticks\":\"\"}},\"title\":{\"x\":0.05},\"xaxis\":{\"automargin\":true,\"gridcolor\":\"white\",\"linecolor\":\"white\",\"ticks\":\"\",\"title\":{\"standoff\":15},\"zerolinecolor\":\"white\",\"zerolinewidth\":2},\"yaxis\":{\"automargin\":true,\"gridcolor\":\"white\",\"linecolor\":\"white\",\"ticks\":\"\",\"title\":{\"standoff\":15},\"zerolinecolor\":\"white\",\"zerolinewidth\":2}}},\"title\":{\"text\":\"Historical ICBP Volume (IDR) (2017-2022) with the slider\"},\"xaxis\":{\"rangeselector\":{\"buttons\":[{\"count\":1,\"label\":\"1m\",\"step\":\"month\",\"stepmode\":\"backward\"},{\"count\":6,\"label\":\"6m\",\"step\":\"month\",\"stepmode\":\"backward\"},{\"count\":12,\"label\":\"1y\",\"step\":\"month\",\"stepmode\":\"backward\"},{\"count\":36,\"label\":\"3y\",\"step\":\"month\",\"stepmode\":\"backward\"},{\"step\":\"all\"}]},\"rangeslider\":{\"visible\":true},\"type\":\"date\"}},                        {\"responsive\": true}                    ).then(function(){\n",
              "                            \n",
              "var gd = document.getElementById('51273c58-972f-4ac3-867b-06b762254370');\n",
              "var x = new MutationObserver(function (mutations, observer) {{\n",
              "        var display = window.getComputedStyle(gd).display;\n",
              "        if (!display || display === 'none') {{\n",
              "            console.log([gd, 'removed!']);\n",
              "            Plotly.purge(gd);\n",
              "            observer.disconnect();\n",
              "        }}\n",
              "}});\n",
              "\n",
              "// Listen for the removal of the full notebook cells\n",
              "var notebookContainer = gd.closest('#notebook-container');\n",
              "if (notebookContainer) {{\n",
              "    x.observe(notebookContainer, {childList: true});\n",
              "}}\n",
              "\n",
              "// Listen for the clearing of the current output cell\n",
              "var outputEl = gd.closest('.output');\n",
              "if (outputEl) {{\n",
              "    x.observe(outputEl, {childList: true});\n",
              "}}\n",
              "\n",
              "                        })                };                            </script>        </div>\n",
              "</body>\n",
              "</html>"
            ]
          },
          "metadata": {},
          "output_type": "display_data"
        }
      ],
      "source": [
        "trace1 = go.Scatter(\n",
        "    x = weekly_rows['Date'],\n",
        "    y = weekly_rows['Volume'].astype(float),\n",
        "    mode = 'lines',\n",
        "    name = 'Volume'\n",
        ")\n",
        "\n",
        "layout = dict(\n",
        "    title='Historical ICBP Volume (IDR) (2017-2022) with the slider',\n",
        "    xaxis=dict(\n",
        "        rangeselector=dict(\n",
        "            buttons=list([\n",
        "                dict(count=1,\n",
        "                     label='1m',\n",
        "                     step='month',\n",
        "                     stepmode='backward'),\n",
        "                dict(count=6,\n",
        "                     label='6m',\n",
        "                     step='month',\n",
        "                     stepmode='backward'),\n",
        "                dict(count=12,\n",
        "                     label='1y',\n",
        "                     step='month',\n",
        "                     stepmode='backward'),\n",
        "                dict(count=36,\n",
        "                     label='3y',\n",
        "                     step='month',\n",
        "                     stepmode='backward'),\n",
        "                dict(step='all')\n",
        "            ])\n",
        "        ),\n",
        "        rangeslider=dict(\n",
        "            visible = True\n",
        "        ),\n",
        "        type='date'\n",
        "    )\n",
        ")\n",
        "\n",
        "data = [trace1]\n",
        "fig = dict(data=data, layout=layout)\n",
        "iplot(fig, filename = \"Time Series with Rangeslider\")"
      ]
    },
    {
      "cell_type": "code",
      "execution_count": null,
      "metadata": {
        "colab": {
          "base_uri": "https://localhost:8080/",
          "height": 542
        },
        "id": "7tHyRZrcTUru",
        "outputId": "fad417d9-7f4e-49cb-b3d9-fd1a001ab4a7"
      },
      "outputs": [
        {
          "data": {
            "text/html": [
              "<html>\n",
              "<head><meta charset=\"utf-8\" /></head>\n",
              "<body>\n",
              "    <div>            <script src=\"https://cdnjs.cloudflare.com/ajax/libs/mathjax/2.7.5/MathJax.js?config=TeX-AMS-MML_SVG\"></script><script type=\"text/javascript\">if (window.MathJax) {MathJax.Hub.Config({SVG: {font: \"STIX-Web\"}});}</script>                <script type=\"text/javascript\">window.PlotlyConfig = {MathJaxConfig: 'local'};</script>\n",
              "        <script src=\"https://cdn.plot.ly/plotly-2.9.0.min.js\"></script>                <div id=\"f25429af-eaf1-4882-b985-ab5181df1f11\" class=\"plotly-graph-div\" style=\"height:525px; width:100%;\"></div>            <script type=\"text/javascript\">                                    window.PLOTLYENV=window.PLOTLYENV || {};                                    if (document.getElementById(\"f25429af-eaf1-4882-b985-ab5181df1f11\")) {                    Plotly.newPlot(                        \"f25429af-eaf1-4882-b985-ab5181df1f11\",                        [{\"marker\":{\"color\":\"#FFBAD2\",\"line\":{\"width\":1}},\"mode\":\"markers\",\"x\":[8425.0,8400.0,8125.0,8200.0,8500.0,8550.0,8625.0,8575.0,8825.0,8675.0,8750.0,8500.0,8775.0,8800.0,8800.0,8475.0,8625.0,8675.0,8325.0,8350.0,8400.0,8725.0,8675.0,8575.0,8775.0,8825.0,8800.0,8700.0,8700.0,8850.0,8725.0,8800.0,8575.0,8550.0,8900.0,8675.0,8650.0,8800.0,8875.0,9000.0,9100.0,8875.0,8850.0,8850.0,8700.0,8750.0,8900.0,8875.0,9000.0,8925.0,8725.0,8575.0,8375.0,8200.0,8425.0,8350.0,8350.0,8675.0,8450.0,8200.0,8100.0,8625.0,8775.0,8850.0,8850.0,8800.0,8825.0,8900.0,8675.0,8675.0,8725.0,9000.0,8200.0,8800.0,8625.0,8650.0,8900.0,8775.0,8850.0,8950.0,8875.0,8750.0,8750.0,8650.0,8900.0,8550.0,8775.0,8950.0,9750.0,9700.0,10050.0,10525.0,10450.0,10175.0,10100.0,10450.0,10725.0,10650.0,10450.0,10475.0,10400.0,10275.0,10225.0,10300.0,9575.0,9000.0,9250.0,9075.0,9200.0,9725.0,9700.0,9650.0,9625.0,9725.0,9800.0,10150.0,10125.0,10000.0,10125.0,10100.0,10425.0,10725.0,10625.0,10775.0,11250.0,11900.0,11750.0,12000.0,12025.0,11950.0,11800.0,11925.0,12400.0,11375.0,11425.0,11600.0,11200.0,11400.0,11425.0,11375.0,11400.0,11375.0,11500.0,11275.0,11150.0,11500.0,11600.0,11700.0,11625.0,11600.0,11475.0,10850.0,10975.0,10950.0,10775.0,9750.0,8300.0,10225.0,10075.0,10350.0,9975.0,10025.0,9750.0,9750.0,9900.0,8950.0,8475.0,8900.0,8875.0,8925.0,9350.0,9500.0,9450.0,9325.0,9050.0,10025.0,10200.0,10200.0,10425.0,10225.0,10325.0,10400.0,10250.0,10150.0,10100.0,9925.0,9725.0,9650.0,9725.0,9675.0,10250.0,10125.0,10100.0,9800.0,9700.0,9600.0,9300.0,9450.0,9425.0,9750.0,9500.0,9500.0,8800.0,8825.0,8550.0,8700.0,8325.0,8600.0,9200.0,9075.0,8825.0,8625.0,8900.0,8600.0,8525.0,8525.0,8300.0,8175.0,8225.0,8175.0,8150.0,8050.0,8250.0,8400.0,8950.0,8500.0,8500.0,8225.0,8050.0,8350.0,8200.0,8425.0,8425.0,8450.0,8300.0,8225.0,8825.0,8875.0,9300.0,9100.0,8850.0,8925.0,8825.0,8950.0,8450.0,8750.0,8700.0,8750.0,8700.0,8775.0,8700.0,8775.0,8750.0,8675.0,8625.0,8550.0,8525.0,8250.0,7600.0,7425.0,7475.0,7300.0],\"y\":[2068600.0,3444200.0,7277700.0,7389500.0,6203900.0,3454900.0,4784600.0,2670000.0,6923600.0,4949200.0,4460800.0,4854500.0,6849400.0,0.0,9774600.0,3445800.0,2151500.0,2926200.0,6721800.0,2875600.0,2480500.0,4678600.0,5370400.0,2221300.0,3686200.0,3482000.0,1374100.0,4266100.0,2812300.0,5599700.0,1931100.0,4606300.0,2895900.0,2366700.0,4210400.0,12187700.0,2874300.0,2017400.0,2925000.0,0.0,5599400.0,8099000.0,10673500.0,7788500.0,10278600.0,6984600.0,2290900.0,4421100.0,3027600.0,2274900.0,4525100.0,2730400.0,4033900.0,8654000.0,4882800.0,0.0,2618100.0,0.0,3361800.0,3056100.0,2170800.0,0.0,5751800.0,0.0,0.0,4183200.0,1892800.0,2344400.0,799600.0,2254600.0,2065400.0,3082000.0,7136900.0,1410000.0,3579100.0,3434000.0,0.0,1789400.0,707900.0,2330900.0,2333800.0,1266800.0,6620300.0,6590800.0,3141600.0,2443500.0,0.0,3747100.0,5133200.0,2852500.0,8961500.0,0.0,0.0,10049900.0,5476000.0,7422200.0,3958700.0,0.0,5405200.0,3472600.0,5769300.0,1656800.0,2133600.0,1519700.0,8418700.0,10437700.0,5422000.0,9366900.0,7391100.0,23070300.0,5647100.0,5829500.0,2987200.0,11469100.0,0.0,9200400.0,16228900.0,24636700.0,2919400.0,2957200.0,2887800.0,3789800.0,6836000.0,7514300.0,7798500.0,11360000.0,12491900.0,2459000.0,4550900.0,5113400.0,2092300.0,2714500.0,2937900.0,3905000.0,5062200.0,4852400.0,9265000.0,6231700.0,7517700.0,13063100.0,2400700.0,3879900.0,7056800.0,2931200.0,1240200.0,4636500.0,4265000.0,3918900.0,3602200.0,6060300.0,13191900.0,5428000.0,3213600.0,7187600.0,4665700.0,8147300.0,10642400.0,10710300.0,6342100.0,4600800.0,2472900.0,3350600.0,2481700.0,10015800.0,6299300.0,10324600.0,39990400.0,21394700.0,9437600.0,12104800.0,13922700.0,6629600.0,4863900.0,7936100.0,9219900.0,45798800.0,8829900.0,6105900.0,8463700.0,5985500.0,8859000.0,3665900.0,5540400.0,3448900.0,2538900.0,7526700.0,6697000.0,4979000.0,4004300.0,21280100.0,24735800.0,8640800.0,20983400.0,37259300.0,17300900.0,15824100.0,18237100.0,10086200.0,6644300.0,34368300.0,13587300.0,12534000.0,35900200.0,14656600.0,11933200.0,13965700.0,8629600.0,4733700.0,30860800.0,6974500.0,4493200.0,2735700.0,2117200.0,7502700.0,6310100.0,2161700.0,3770500.0,8978000.0,5611200.0,8321100.0,4067700.0,4253300.0,9487400.0,2930700.0,16894100.0,4519000.0,3332900.0,3370400.0,6585900.0,4277300.0,5218600.0,5271700.0,2986500.0,1167000.0,3757800.0,4369400.0,13184600.0,7922600.0,5926900.0,6724600.0,3320900.0,2936800.0,6167400.0,5458400.0,12610000.0,4921400.0,4739900.0,2317600.0,3719600.0,4450000.0,3692600.0,3038300.0,5194200.0,2102100.0,4900000.0,11049400.0,7311200.0,21470900.0,21825800.0,15064300.0,4588300.0,9243600.0],\"type\":\"scattergl\"}],                        {\"template\":{\"data\":{\"barpolar\":[{\"marker\":{\"line\":{\"color\":\"#E5ECF6\",\"width\":0.5},\"pattern\":{\"fillmode\":\"overlay\",\"size\":10,\"solidity\":0.2}},\"type\":\"barpolar\"}],\"bar\":[{\"error_x\":{\"color\":\"#2a3f5f\"},\"error_y\":{\"color\":\"#2a3f5f\"},\"marker\":{\"line\":{\"color\":\"#E5ECF6\",\"width\":0.5},\"pattern\":{\"fillmode\":\"overlay\",\"size\":10,\"solidity\":0.2}},\"type\":\"bar\"}],\"carpet\":[{\"aaxis\":{\"endlinecolor\":\"#2a3f5f\",\"gridcolor\":\"white\",\"linecolor\":\"white\",\"minorgridcolor\":\"white\",\"startlinecolor\":\"#2a3f5f\"},\"baxis\":{\"endlinecolor\":\"#2a3f5f\",\"gridcolor\":\"white\",\"linecolor\":\"white\",\"minorgridcolor\":\"white\",\"startlinecolor\":\"#2a3f5f\"},\"type\":\"carpet\"}],\"choropleth\":[{\"colorbar\":{\"outlinewidth\":0,\"ticks\":\"\"},\"type\":\"choropleth\"}],\"contourcarpet\":[{\"colorbar\":{\"outlinewidth\":0,\"ticks\":\"\"},\"type\":\"contourcarpet\"}],\"contour\":[{\"colorbar\":{\"outlinewidth\":0,\"ticks\":\"\"},\"colorscale\":[[0.0,\"#0d0887\"],[0.1111111111111111,\"#46039f\"],[0.2222222222222222,\"#7201a8\"],[0.3333333333333333,\"#9c179e\"],[0.4444444444444444,\"#bd3786\"],[0.5555555555555556,\"#d8576b\"],[0.6666666666666666,\"#ed7953\"],[0.7777777777777778,\"#fb9f3a\"],[0.8888888888888888,\"#fdca26\"],[1.0,\"#f0f921\"]],\"type\":\"contour\"}],\"heatmapgl\":[{\"colorbar\":{\"outlinewidth\":0,\"ticks\":\"\"},\"colorscale\":[[0.0,\"#0d0887\"],[0.1111111111111111,\"#46039f\"],[0.2222222222222222,\"#7201a8\"],[0.3333333333333333,\"#9c179e\"],[0.4444444444444444,\"#bd3786\"],[0.5555555555555556,\"#d8576b\"],[0.6666666666666666,\"#ed7953\"],[0.7777777777777778,\"#fb9f3a\"],[0.8888888888888888,\"#fdca26\"],[1.0,\"#f0f921\"]],\"type\":\"heatmapgl\"}],\"heatmap\":[{\"colorbar\":{\"outlinewidth\":0,\"ticks\":\"\"},\"colorscale\":[[0.0,\"#0d0887\"],[0.1111111111111111,\"#46039f\"],[0.2222222222222222,\"#7201a8\"],[0.3333333333333333,\"#9c179e\"],[0.4444444444444444,\"#bd3786\"],[0.5555555555555556,\"#d8576b\"],[0.6666666666666666,\"#ed7953\"],[0.7777777777777778,\"#fb9f3a\"],[0.8888888888888888,\"#fdca26\"],[1.0,\"#f0f921\"]],\"type\":\"heatmap\"}],\"histogram2dcontour\":[{\"colorbar\":{\"outlinewidth\":0,\"ticks\":\"\"},\"colorscale\":[[0.0,\"#0d0887\"],[0.1111111111111111,\"#46039f\"],[0.2222222222222222,\"#7201a8\"],[0.3333333333333333,\"#9c179e\"],[0.4444444444444444,\"#bd3786\"],[0.5555555555555556,\"#d8576b\"],[0.6666666666666666,\"#ed7953\"],[0.7777777777777778,\"#fb9f3a\"],[0.8888888888888888,\"#fdca26\"],[1.0,\"#f0f921\"]],\"type\":\"histogram2dcontour\"}],\"histogram2d\":[{\"colorbar\":{\"outlinewidth\":0,\"ticks\":\"\"},\"colorscale\":[[0.0,\"#0d0887\"],[0.1111111111111111,\"#46039f\"],[0.2222222222222222,\"#7201a8\"],[0.3333333333333333,\"#9c179e\"],[0.4444444444444444,\"#bd3786\"],[0.5555555555555556,\"#d8576b\"],[0.6666666666666666,\"#ed7953\"],[0.7777777777777778,\"#fb9f3a\"],[0.8888888888888888,\"#fdca26\"],[1.0,\"#f0f921\"]],\"type\":\"histogram2d\"}],\"histogram\":[{\"marker\":{\"pattern\":{\"fillmode\":\"overlay\",\"size\":10,\"solidity\":0.2}},\"type\":\"histogram\"}],\"mesh3d\":[{\"colorbar\":{\"outlinewidth\":0,\"ticks\":\"\"},\"type\":\"mesh3d\"}],\"parcoords\":[{\"line\":{\"colorbar\":{\"outlinewidth\":0,\"ticks\":\"\"}},\"type\":\"parcoords\"}],\"pie\":[{\"automargin\":true,\"type\":\"pie\"}],\"scatter3d\":[{\"line\":{\"colorbar\":{\"outlinewidth\":0,\"ticks\":\"\"}},\"marker\":{\"colorbar\":{\"outlinewidth\":0,\"ticks\":\"\"}},\"type\":\"scatter3d\"}],\"scattercarpet\":[{\"marker\":{\"colorbar\":{\"outlinewidth\":0,\"ticks\":\"\"}},\"type\":\"scattercarpet\"}],\"scattergeo\":[{\"marker\":{\"colorbar\":{\"outlinewidth\":0,\"ticks\":\"\"}},\"type\":\"scattergeo\"}],\"scattergl\":[{\"marker\":{\"colorbar\":{\"outlinewidth\":0,\"ticks\":\"\"}},\"type\":\"scattergl\"}],\"scattermapbox\":[{\"marker\":{\"colorbar\":{\"outlinewidth\":0,\"ticks\":\"\"}},\"type\":\"scattermapbox\"}],\"scatterpolargl\":[{\"marker\":{\"colorbar\":{\"outlinewidth\":0,\"ticks\":\"\"}},\"type\":\"scatterpolargl\"}],\"scatterpolar\":[{\"marker\":{\"colorbar\":{\"outlinewidth\":0,\"ticks\":\"\"}},\"type\":\"scatterpolar\"}],\"scatter\":[{\"marker\":{\"colorbar\":{\"outlinewidth\":0,\"ticks\":\"\"}},\"type\":\"scatter\"}],\"scatterternary\":[{\"marker\":{\"colorbar\":{\"outlinewidth\":0,\"ticks\":\"\"}},\"type\":\"scatterternary\"}],\"surface\":[{\"colorbar\":{\"outlinewidth\":0,\"ticks\":\"\"},\"colorscale\":[[0.0,\"#0d0887\"],[0.1111111111111111,\"#46039f\"],[0.2222222222222222,\"#7201a8\"],[0.3333333333333333,\"#9c179e\"],[0.4444444444444444,\"#bd3786\"],[0.5555555555555556,\"#d8576b\"],[0.6666666666666666,\"#ed7953\"],[0.7777777777777778,\"#fb9f3a\"],[0.8888888888888888,\"#fdca26\"],[1.0,\"#f0f921\"]],\"type\":\"surface\"}],\"table\":[{\"cells\":{\"fill\":{\"color\":\"#EBF0F8\"},\"line\":{\"color\":\"white\"}},\"header\":{\"fill\":{\"color\":\"#C8D4E3\"},\"line\":{\"color\":\"white\"}},\"type\":\"table\"}]},\"layout\":{\"annotationdefaults\":{\"arrowcolor\":\"#2a3f5f\",\"arrowhead\":0,\"arrowwidth\":1},\"autotypenumbers\":\"strict\",\"coloraxis\":{\"colorbar\":{\"outlinewidth\":0,\"ticks\":\"\"}},\"colorscale\":{\"diverging\":[[0,\"#8e0152\"],[0.1,\"#c51b7d\"],[0.2,\"#de77ae\"],[0.3,\"#f1b6da\"],[0.4,\"#fde0ef\"],[0.5,\"#f7f7f7\"],[0.6,\"#e6f5d0\"],[0.7,\"#b8e186\"],[0.8,\"#7fbc41\"],[0.9,\"#4d9221\"],[1,\"#276419\"]],\"sequential\":[[0.0,\"#0d0887\"],[0.1111111111111111,\"#46039f\"],[0.2222222222222222,\"#7201a8\"],[0.3333333333333333,\"#9c179e\"],[0.4444444444444444,\"#bd3786\"],[0.5555555555555556,\"#d8576b\"],[0.6666666666666666,\"#ed7953\"],[0.7777777777777778,\"#fb9f3a\"],[0.8888888888888888,\"#fdca26\"],[1.0,\"#f0f921\"]],\"sequentialminus\":[[0.0,\"#0d0887\"],[0.1111111111111111,\"#46039f\"],[0.2222222222222222,\"#7201a8\"],[0.3333333333333333,\"#9c179e\"],[0.4444444444444444,\"#bd3786\"],[0.5555555555555556,\"#d8576b\"],[0.6666666666666666,\"#ed7953\"],[0.7777777777777778,\"#fb9f3a\"],[0.8888888888888888,\"#fdca26\"],[1.0,\"#f0f921\"]]},\"colorway\":[\"#636efa\",\"#EF553B\",\"#00cc96\",\"#ab63fa\",\"#FFA15A\",\"#19d3f3\",\"#FF6692\",\"#B6E880\",\"#FF97FF\",\"#FECB52\"],\"font\":{\"color\":\"#2a3f5f\"},\"geo\":{\"bgcolor\":\"white\",\"lakecolor\":\"white\",\"landcolor\":\"#E5ECF6\",\"showlakes\":true,\"showland\":true,\"subunitcolor\":\"white\"},\"hoverlabel\":{\"align\":\"left\"},\"hovermode\":\"closest\",\"mapbox\":{\"style\":\"light\"},\"paper_bgcolor\":\"white\",\"plot_bgcolor\":\"#E5ECF6\",\"polar\":{\"angularaxis\":{\"gridcolor\":\"white\",\"linecolor\":\"white\",\"ticks\":\"\"},\"bgcolor\":\"#E5ECF6\",\"radialaxis\":{\"gridcolor\":\"white\",\"linecolor\":\"white\",\"ticks\":\"\"}},\"scene\":{\"xaxis\":{\"backgroundcolor\":\"#E5ECF6\",\"gridcolor\":\"white\",\"gridwidth\":2,\"linecolor\":\"white\",\"showbackground\":true,\"ticks\":\"\",\"zerolinecolor\":\"white\"},\"yaxis\":{\"backgroundcolor\":\"#E5ECF6\",\"gridcolor\":\"white\",\"gridwidth\":2,\"linecolor\":\"white\",\"showbackground\":true,\"ticks\":\"\",\"zerolinecolor\":\"white\"},\"zaxis\":{\"backgroundcolor\":\"#E5ECF6\",\"gridcolor\":\"white\",\"gridwidth\":2,\"linecolor\":\"white\",\"showbackground\":true,\"ticks\":\"\",\"zerolinecolor\":\"white\"}},\"shapedefaults\":{\"line\":{\"color\":\"#2a3f5f\"}},\"ternary\":{\"aaxis\":{\"gridcolor\":\"white\",\"linecolor\":\"white\",\"ticks\":\"\"},\"baxis\":{\"gridcolor\":\"white\",\"linecolor\":\"white\",\"ticks\":\"\"},\"bgcolor\":\"#E5ECF6\",\"caxis\":{\"gridcolor\":\"white\",\"linecolor\":\"white\",\"ticks\":\"\"}},\"title\":{\"x\":0.05},\"xaxis\":{\"automargin\":true,\"gridcolor\":\"white\",\"linecolor\":\"white\",\"ticks\":\"\",\"title\":{\"standoff\":15},\"zerolinecolor\":\"white\",\"zerolinewidth\":2},\"yaxis\":{\"automargin\":true,\"gridcolor\":\"white\",\"linecolor\":\"white\",\"ticks\":\"\",\"title\":{\"standoff\":15},\"zerolinecolor\":\"white\",\"zerolinewidth\":2}}},\"title\":{\"text\":\"ICBP Volume v/s IDR\"},\"xaxis\":{\"title\":{\"font\":{\"color\":\"#7f7f7f\",\"family\":\"Courier New, monospace\",\"size\":18},\"text\":\"Price\"}},\"yaxis\":{\"title\":{\"font\":{\"color\":\"#7f7f7f\",\"family\":\"Courier New, monospace\",\"size\":18},\"text\":\"Volume\"}}},                        {\"responsive\": true}                    ).then(function(){\n",
              "                            \n",
              "var gd = document.getElementById('f25429af-eaf1-4882-b985-ab5181df1f11');\n",
              "var x = new MutationObserver(function (mutations, observer) {{\n",
              "        var display = window.getComputedStyle(gd).display;\n",
              "        if (!display || display === 'none') {{\n",
              "            console.log([gd, 'removed!']);\n",
              "            Plotly.purge(gd);\n",
              "            observer.disconnect();\n",
              "        }}\n",
              "}});\n",
              "\n",
              "// Listen for the removal of the full notebook cells\n",
              "var notebookContainer = gd.closest('#notebook-container');\n",
              "if (notebookContainer) {{\n",
              "    x.observe(notebookContainer, {childList: true});\n",
              "}}\n",
              "\n",
              "// Listen for the clearing of the current output cell\n",
              "var outputEl = gd.closest('.output');\n",
              "if (outputEl) {{\n",
              "    x.observe(outputEl, {childList: true});\n",
              "}}\n",
              "\n",
              "                        })                };                            </script>        </div>\n",
              "</body>\n",
              "</html>"
            ]
          },
          "metadata": {},
          "output_type": "display_data"
        }
      ],
      "source": [
        "trace = go.Scattergl(\n",
        "    y = weekly_rows['Volume'].astype(float),\n",
        "    x = weekly_rows['Close'].astype(float),\n",
        "    mode = 'markers',\n",
        "    marker = dict(\n",
        "        color = '#FFBAD2',\n",
        "        line = dict(width = 1)\n",
        "    )\n",
        ")\n",
        "layout = go.Layout(\n",
        "    title='ICBP Volume v/s IDR',\n",
        "    xaxis=dict(\n",
        "        title='Price',\n",
        "        titlefont=dict(\n",
        "            family='Courier New, monospace',\n",
        "            size=18,\n",
        "            color='#7f7f7f'\n",
        "        )\n",
        "    ),\n",
        "    yaxis=dict(\n",
        "        title='Volume',\n",
        "        titlefont=dict(\n",
        "            family='Courier New, monospace',\n",
        "            size=18,\n",
        "            color='#7f7f7f'\n",
        "        )))\n",
        "data = [trace]\n",
        "fig = go.Figure(data=data, layout=layout)\n",
        "iplot(fig, filename='compare_webgl')"
      ]
    },
    {
      "cell_type": "markdown",
      "metadata": {
        "id": "WCqXQWJfjUA6"
      },
      "source": [
        "# Eksplorasi Data"
      ]
    },
    {
      "cell_type": "code",
      "execution_count": null,
      "metadata": {
        "id": "l-DRv2yBv3eS"
      },
      "outputs": [],
      "source": [
        "icbp2 = icbp.set_index(['Date']).asfreq('D').fillna(method='ffill')"
      ]
    },
    {
      "cell_type": "code",
      "execution_count": null,
      "metadata": {
        "colab": {
          "base_uri": "https://localhost:8080/",
          "height": 337
        },
        "id": "BgrdOAexZZy_",
        "outputId": "ab20ee0e-1645-4059-ba2e-ffada5114d21"
      },
      "outputs": [
        {
          "data": {
            "text/plain": [
              "[<matplotlib.lines.Line2D at 0x7f7a78406b50>]"
            ]
          },
          "execution_count": 4,
          "metadata": {},
          "output_type": "execute_result"
        },
        {
          "data": {
            "image/png": "[encoded data removed]",
            "text/plain": [
              "<Figure size 864x360 with 1 Axes>"
            ]
          },
          "metadata": {
            "needs_background": "light"
          },
          "output_type": "display_data"
        }
      ],
      "source": [
        "ts = icbp2['Close']\n",
        "plt.figure(figsize=(12,5))\n",
        "plt.plot(ts)"
      ]
    },
    {
      "cell_type": "code",
      "execution_count": null,
      "metadata": {
        "colab": {
          "base_uri": "https://localhost:8080/",
          "height": 351
        },
        "id": "LEG7gF5zjcVb",
        "outputId": "c4c1d493-6327-4196-9e8e-9a1cd7dac3a3"
      },
      "outputs": [
        {
          "name": "stderr",
          "output_type": "stream",
          "text": [
            "/usr/local/lib/python3.7/dist-packages/seaborn/_decorators.py:43: FutureWarning: Pass the following variable as a keyword arg: x. From version 0.12, the only valid positional argument will be `data`, and passing other arguments without an explicit keyword will result in an error or misinterpretation.\n",
            "  FutureWarning\n"
          ]
        },
        {
          "data": {
            "text/plain": [
              "<matplotlib.axes._subplots.AxesSubplot at 0x7f7a7839b9d0>"
            ]
          },
          "execution_count": 5,
          "metadata": {},
          "output_type": "execute_result"
        },
        {
          "data": {
            "image/png": "[encoded data removed]",
            "text/plain": [
              "<Figure size 432x288 with 1 Axes>"
            ]
          },
          "metadata": {
            "needs_background": "light"
          },
          "output_type": "display_data"
        }
      ],
      "source": [
        "sns.boxplot(ts)"
      ]
    },
    {
      "cell_type": "code",
      "execution_count": null,
      "metadata": {
        "colab": {
          "base_uri": "https://localhost:8080/",
          "height": 545
        },
        "id": "onOkR6CTbD6k",
        "outputId": "3166c53a-78ed-42bf-aa24-ece98cf70e9f"
      },
      "outputs": [
        {
          "data": {
            "image/png": "[encoded data removed]",
            "text/plain": [
              "<Figure size 432x288 with 1 Axes>"
            ]
          },
          "execution_count": 6,
          "metadata": {},
          "output_type": "execute_result"
        },
        {
          "data": {
            "image/png": "[encoded data removed]",
            "text/plain": [
              "<Figure size 432x288 with 1 Axes>"
            ]
          },
          "metadata": {
            "needs_background": "light"
          },
          "output_type": "display_data"
        }
      ],
      "source": [
        "plot_acf(ts)"
      ]
    },
    {
      "cell_type": "code",
      "execution_count": null,
      "metadata": {
        "colab": {
          "base_uri": "https://localhost:8080/",
          "height": 545
        },
        "id": "fJ1ip9HlcxEM",
        "outputId": "c0a8395b-20e2-4a67-a037-71132666379c"
      },
      "outputs": [
        {
          "data": {
            "image/png": "[encoded data removed]",
            "text/plain": [
              "<Figure size 432x288 with 1 Axes>"
            ]
          },
          "execution_count": 7,
          "metadata": {},
          "output_type": "execute_result"
        },
        {
          "data": {
            "image/png": "[encoded data removed]",
            "text/plain": [
              "<Figure size 432x288 with 1 Axes>"
            ]
          },
          "metadata": {
            "needs_background": "light"
          },
          "output_type": "display_data"
        }
      ],
      "source": [
        "plot_pacf(ts)"
      ]
    },
    {
      "cell_type": "markdown",
      "metadata": {
        "id": "d6rVy5Osk_9J"
      },
      "source": [
        "# Split Data"
      ]
    },
    {
      "cell_type": "code",
      "execution_count": null,
      "metadata": {
        "id": "KWxtsrYSeOfj"
      },
      "outputs": [],
      "source": [
        "def train_test_split_sequence(ts, prop_train=.8):\n",
        "  split_point = round(prop_train * len(ts))\n",
        "  train, test = ts[:split_point+1], ts[split_point+1:]\n",
        "  return train, test\n",
        "\n",
        "def input_output_split_sequence(seq, n_steps):\n",
        "  X, y = [], []\n",
        "  for i in range(len(seq)):\n",
        "    end_ix = i + n_steps\n",
        "    if end_ix > len(seq) - 1:\n",
        "      break\n",
        "    seq_x, seq_y = seq[i:end_ix], seq[end_ix]\n",
        "    X.append(seq_x)\n",
        "    y.append(seq_y)\n",
        "  return np.array(X), np.array(y)\n",
        "\n",
        "def split_sequence(seq, n_steps=1):\n",
        "  X, y = [], []\n",
        "  for i in range(len(seq)-n_steps-1):\n",
        "    v = seq[i:(i+n_steps), 0]\n",
        "    X.append(v)\n",
        "    y.append(seq[i + n_steps, 0])\n",
        "  return np.array(X), np.array(y)"
      ]
    },
    {
      "cell_type": "markdown",
      "metadata": {
        "id": "tThWHKAFPT3M"
      },
      "source": [
        "## Split LSTM"
      ]
    },
    {
      "cell_type": "code",
      "execution_count": null,
      "metadata": {
        "id": "-9dCVRbh0-L6"
      },
      "outputs": [],
      "source": [
        "from sklearn.preprocessing import MinMaxScaler"
      ]
    },
    {
      "cell_type": "code",
      "execution_count": null,
      "metadata": {
        "colab": {
          "base_uri": "https://localhost:8080/"
        },
        "id": "P8FQWQNj0Q5C",
        "outputId": "4dd6c8b1-cb77-4c41-ccb7-36066ccc70d3"
      },
      "outputs": [
        {
          "data": {
            "text/plain": [
              "array([[8425.],\n",
              "       [8400.],\n",
              "       [8400.],\n",
              "       ...,\n",
              "       [7375.],\n",
              "       [7350.],\n",
              "       [7525.]])"
            ]
          },
          "execution_count": 10,
          "metadata": {},
          "output_type": "execute_result"
        }
      ],
      "source": [
        "ts = icbp2[['Close']]\n",
        "\n",
        "ts.values"
      ]
    },
    {
      "cell_type": "code",
      "execution_count": null,
      "metadata": {
        "colab": {
          "base_uri": "https://localhost:8080/"
        },
        "id": "czvbo3bM0snM",
        "outputId": "66db6ef6-4ed9-4f41-b07e-c16355586b13"
      },
      "outputs": [
        {
          "data": {
            "text/plain": [
              "array([[0.22815534],\n",
              "       [0.22330097],\n",
              "       [0.22330097],\n",
              "       ...,\n",
              "       [0.02427184],\n",
              "       [0.01941748],\n",
              "       [0.05339806]])"
            ]
          },
          "execution_count": 11,
          "metadata": {},
          "output_type": "execute_result"
        }
      ],
      "source": [
        "scaler = MinMaxScaler(feature_range=(0,1))\n",
        "ts = scaler.fit_transform(ts)\n",
        "\n",
        "ts"
      ]
    },
    {
      "cell_type": "code",
      "execution_count": null,
      "metadata": {
        "colab": {
          "base_uri": "https://localhost:8080/"
        },
        "id": "kndTDGrfAkEv",
        "outputId": "23dba698-d66c-4c2f-ed53-419265cdb87e"
      },
      "outputs": [
        {
          "data": {
            "text/plain": [
              "(1825, 1)"
            ]
          },
          "execution_count": 25,
          "metadata": {},
          "output_type": "execute_result"
        }
      ],
      "source": [
        "ts.shape"
      ]
    },
    {
      "cell_type": "code",
      "execution_count": null,
      "metadata": {
        "colab": {
          "base_uri": "https://localhost:8080/"
        },
        "id": "2-Yi8uX6gT3M",
        "outputId": "e479b6e1-49aa-4352-b5dd-9ae9b76d301c"
      },
      "outputs": [
        {
          "name": "stdout",
          "output_type": "stream",
          "text": [
            "\n",
            "Train: \n",
            "(1461, 1)\n",
            "\n",
            "Text:\n",
            "(364, 1)\n",
            "\n"
          ]
        }
      ],
      "source": [
        "train, test = train_test_split_sequence(ts)\n",
        "\n",
        "output = f'''\n",
        "Train: \n",
        "{train.shape}\n",
        "\n",
        "Text:\n",
        "{test.shape}\n",
        "'''\n",
        "print(output)"
      ]
    },
    {
      "cell_type": "code",
      "execution_count": null,
      "metadata": {
        "colab": {
          "base_uri": "https://localhost:8080/"
        },
        "id": "YQSiq-4Vg_TN",
        "outputId": "fc82915a-970e-46d6-eca8-a93bbbf6a0ad"
      },
      "outputs": [
        {
          "name": "stdout",
          "output_type": "stream",
          "text": [
            "\n",
            "X train ((1453, 7)): \n",
            "[[0.22815534 0.22330097 0.22330097 ... 0.17961165 0.17961165 0.17961165]\n",
            " [0.22330097 0.22330097 0.18932039 ... 0.17961165 0.17961165 0.17961165]\n",
            " [0.22330097 0.18932039 0.17961165 ... 0.17961165 0.17961165 0.16990291]\n",
            " ...\n",
            " [0.37864078 0.38834951 0.33009709 ... 0.3592233  0.3592233  0.38349515]\n",
            " [0.38834951 0.33009709 0.3592233  ... 0.3592233  0.38349515 0.35436893]\n",
            " [0.33009709 0.3592233  0.3592233  ... 0.38349515 0.35436893 0.37864078]]\n",
            "\n",
            "y train ((1453,)):\n",
            "[0.17961165 0.16990291 0.16504854 ... 0.35436893 0.37864078 0.33009709]\n",
            "\n"
          ]
        }
      ],
      "source": [
        "X_train, y_train = split_sequence(train, n_steps=7)\n",
        "X_test, y_test = split_sequence(test, n_steps=7)\n",
        "\n",
        "output = f'''\n",
        "X train ({X_train.shape}): \n",
        "{X_train}\n",
        "\n",
        "y train ({y_train.shape}):\n",
        "{y_train}\n",
        "'''\n",
        "print(output)"
      ]
    },
    {
      "cell_type": "code",
      "execution_count": null,
      "metadata": {
        "colab": {
          "base_uri": "https://localhost:8080/"
        },
        "id": "BYMcN_Ao2paj",
        "outputId": "3e4abe6e-32d7-4e7a-a339-427653bc1411"
      },
      "outputs": [
        {
          "data": {
            "text/plain": [
              "(1453,)"
            ]
          },
          "execution_count": 28,
          "metadata": {},
          "output_type": "execute_result"
        }
      ],
      "source": [
        "y_train.shape"
      ]
    },
    {
      "cell_type": "code",
      "execution_count": null,
      "metadata": {
        "colab": {
          "base_uri": "https://localhost:8080/"
        },
        "id": "yYVsZdLa_5QW",
        "outputId": "a8699f06-78b0-4d6b-a5d0-516a359f3036"
      },
      "outputs": [
        {
          "data": {
            "text/plain": [
              "(1453, 7)"
            ]
          },
          "execution_count": 29,
          "metadata": {},
          "output_type": "execute_result"
        }
      ],
      "source": [
        "X_train.shape"
      ]
    },
    {
      "cell_type": "code",
      "execution_count": null,
      "metadata": {
        "id": "tz0r3axD1mYA"
      },
      "outputs": [],
      "source": [
        "X_train = np.reshape(X_train, (X_train.shape[0], 1, X_train.shape[1]))\n",
        "X_test = np.reshape(X_test, (X_test.shape[0], 1, X_test.shape[1]))"
      ]
    },
    {
      "cell_type": "code",
      "execution_count": null,
      "metadata": {
        "colab": {
          "base_uri": "https://localhost:8080/"
        },
        "id": "PR5stzNzDEje",
        "outputId": "fe7a8d4a-59d1-414e-f9c4-640d62f36a5e"
      },
      "outputs": [
        {
          "data": {
            "text/plain": [
              "(1453, 1, 7)"
            ]
          },
          "execution_count": 31,
          "metadata": {},
          "output_type": "execute_result"
        }
      ],
      "source": [
        "X_train.shape"
      ]
    },
    {
      "cell_type": "markdown",
      "metadata": {
        "id": "Q_DgHD8e_bGZ"
      },
      "source": [
        "## Split CNN"
      ]
    },
    {
      "cell_type": "code",
      "execution_count": null,
      "metadata": {
        "id": "2xiC1foH_eLk"
      },
      "outputs": [],
      "source": [
        "ts2 = icbp2[['Close']]"
      ]
    },
    {
      "cell_type": "code",
      "execution_count": null,
      "metadata": {
        "colab": {
          "base_uri": "https://localhost:8080/"
        },
        "id": "I1lZPW0lAOz-",
        "outputId": "581ed072-7c23-44a1-94e5-9479e6594c2c"
      },
      "outputs": [
        {
          "data": {
            "text/plain": [
              "Date\n",
              "2017-04-03    8425.0\n",
              "2017-04-04    8400.0\n",
              "2017-04-05    8400.0\n",
              "2017-04-06    8225.0\n",
              "2017-04-07    8175.0\n",
              "               ...  \n",
              "2022-03-28    7275.0\n",
              "2022-03-29    7300.0\n",
              "2022-03-30    7375.0\n",
              "2022-03-31    7350.0\n",
              "2022-04-01    7525.0\n",
              "Freq: D, Name: Close, Length: 1825, dtype: float64"
            ]
          },
          "execution_count": 13,
          "metadata": {},
          "output_type": "execute_result"
        }
      ],
      "source": [
        "ts2"
      ]
    },
    {
      "cell_type": "code",
      "execution_count": null,
      "metadata": {
        "colab": {
          "base_uri": "https://localhost:8080/"
        },
        "id": "pMryM0q3C-nT",
        "outputId": "ed636712-eada-4f92-fe8a-fe2c58f44aa4"
      },
      "outputs": [
        {
          "data": {
            "text/plain": [
              "(1825, 1)"
            ]
          },
          "execution_count": 17,
          "metadata": {},
          "output_type": "execute_result"
        }
      ],
      "source": [
        "ts2.shape"
      ]
    },
    {
      "cell_type": "code",
      "execution_count": null,
      "metadata": {
        "id": "nbIZVvYkC5W0"
      },
      "outputs": [],
      "source": [
        "ts2 = scaler.fit_transform(ts2)"
      ]
    },
    {
      "cell_type": "code",
      "execution_count": null,
      "metadata": {
        "colab": {
          "base_uri": "https://localhost:8080/"
        },
        "id": "YF3xJnC9_-nL",
        "outputId": "3aee50ce-329d-4aab-8841-90c7bdaf5f16"
      },
      "outputs": [
        {
          "name": "stdout",
          "output_type": "stream",
          "text": [
            "\n",
            "Train: \n",
            "[[0.22815534]\n",
            " [0.22330097]\n",
            " [0.22330097]\n",
            " ...\n",
            " [0.37864078]\n",
            " [0.33009709]\n",
            " [0.33009709]]\n",
            "\n",
            "Text:\n",
            "[[0.33009709]\n",
            " [0.33009709]\n",
            " [0.32524272]\n",
            " [0.30582524]\n",
            " [0.32038835]\n",
            " [0.30097087]\n",
            " [0.31553398]\n",
            " [0.31553398]\n",
            " [0.31553398]\n",
            " [0.27184466]\n",
            " [0.26699029]\n",
            " [0.29126214]\n",
            " [0.29126214]\n",
            " [0.33009709]\n",
            " [0.33009709]\n",
            " [0.33009709]\n",
            " [0.33009709]\n",
            " [0.32038835]\n",
            " [0.30097087]\n",
            " [0.29126214]\n",
            " [0.31553398]\n",
            " [0.31553398]\n",
            " [0.31553398]\n",
            " [0.2815534 ]\n",
            " [0.26213592]\n",
            " [0.25728155]\n",
            " [0.26699029]\n",
            " [0.2815534 ]\n",
            " [0.2815534 ]\n",
            " [0.2815534 ]\n",
            " [0.25242718]\n",
            " [0.24757282]\n",
            " [0.24757282]\n",
            " [0.24271845]\n",
            " [0.23300971]\n",
            " [0.23300971]\n",
            " [0.23300971]\n",
            " [0.26213592]\n",
            " [0.24757282]\n",
            " [0.24757282]\n",
            " [0.24757282]\n",
            " [0.24757282]\n",
            " [0.24757282]\n",
            " [0.24757282]\n",
            " [0.19417476]\n",
            " [0.2038835 ]\n",
            " [0.19902913]\n",
            " [0.2184466 ]\n",
            " [0.20873786]\n",
            " [0.20873786]\n",
            " [0.20873786]\n",
            " [0.18446602]\n",
            " [0.17961165]\n",
            " [0.17961165]\n",
            " [0.19902913]\n",
            " [0.16990291]\n",
            " [0.16990291]\n",
            " [0.16990291]\n",
            " [0.18446602]\n",
            " [0.18446602]\n",
            " [0.18932039]\n",
            " [0.2815534 ]\n",
            " [0.23300971]\n",
            " [0.23300971]\n",
            " [0.23300971]\n",
            " [0.21359223]\n",
            " [0.17961165]\n",
            " [0.17475728]\n",
            " [0.17475728]\n",
            " [0.17961165]\n",
            " [0.17961165]\n",
            " [0.17961165]\n",
            " [0.17475728]\n",
            " [0.17475728]\n",
            " [0.17961165]\n",
            " [0.16990291]\n",
            " [0.09708738]\n",
            " [0.09708738]\n",
            " [0.09708738]\n",
            " [0.13106796]\n",
            " [0.15533981]\n",
            " [0.1407767 ]\n",
            " [0.15048544]\n",
            " [0.15048544]\n",
            " [0.15048544]\n",
            " [0.15048544]\n",
            " [0.1407767 ]\n",
            " [0.19417476]\n",
            " [0.17475728]\n",
            " [0.24271845]\n",
            " [0.22815534]\n",
            " [0.22815534]\n",
            " [0.22815534]\n",
            " [0.18932039]\n",
            " [0.22330097]\n",
            " [0.23300971]\n",
            " [0.23786408]\n",
            " [0.25242718]\n",
            " [0.25242718]\n",
            " [0.25242718]\n",
            " [0.30582524]\n",
            " [0.33009709]\n",
            " [0.2815534 ]\n",
            " [0.27669903]\n",
            " [0.25728155]\n",
            " [0.25728155]\n",
            " [0.25728155]\n",
            " [0.24271845]\n",
            " [0.24271845]\n",
            " [0.24271845]\n",
            " [0.30582524]\n",
            " [0.27184466]\n",
            " [0.27184466]\n",
            " [0.27184466]\n",
            " [0.28640777]\n",
            " [0.24271845]\n",
            " [0.24271845]\n",
            " [0.21359223]\n",
            " [0.16990291]\n",
            " [0.16990291]\n",
            " [0.16990291]\n",
            " [0.16990291]\n",
            " [0.18932039]\n",
            " [0.17961165]\n",
            " [0.17475728]\n",
            " [0.19902913]\n",
            " [0.19902913]\n",
            " [0.19902913]\n",
            " [0.17475728]\n",
            " [0.15533981]\n",
            " [0.15533981]\n",
            " [0.16019417]\n",
            " [0.18446602]\n",
            " [0.18446602]\n",
            " [0.18446602]\n",
            " [0.19417476]\n",
            " [0.19417476]\n",
            " [0.21359223]\n",
            " [0.17475728]\n",
            " [0.17475728]\n",
            " [0.17475728]\n",
            " [0.17475728]\n",
            " [0.18932039]\n",
            " [0.18446602]\n",
            " [0.18932039]\n",
            " [0.18932039]\n",
            " [0.2038835 ]\n",
            " [0.2038835 ]\n",
            " [0.2038835 ]\n",
            " [0.26213592]\n",
            " [0.22815534]\n",
            " [0.22330097]\n",
            " [0.23300971]\n",
            " [0.23786408]\n",
            " [0.23786408]\n",
            " [0.23786408]\n",
            " [0.24757282]\n",
            " [0.22815534]\n",
            " [0.22815534]\n",
            " [0.24757282]\n",
            " [0.24271845]\n",
            " [0.24271845]\n",
            " [0.24271845]\n",
            " [0.22815534]\n",
            " [0.23300971]\n",
            " [0.2184466 ]\n",
            " [0.18932039]\n",
            " [0.17475728]\n",
            " [0.17475728]\n",
            " [0.17475728]\n",
            " [0.16990291]\n",
            " [0.2038835 ]\n",
            " [0.18446602]\n",
            " [0.19417476]\n",
            " [0.2038835 ]\n",
            " [0.2038835 ]\n",
            " [0.2038835 ]\n",
            " [0.21359223]\n",
            " [0.18932039]\n",
            " [0.18932039]\n",
            " [0.21359223]\n",
            " [0.20873786]\n",
            " [0.20873786]\n",
            " [0.20873786]\n",
            " [0.27184466]\n",
            " [0.30582524]\n",
            " [0.31067961]\n",
            " [0.31067961]\n",
            " [0.32038835]\n",
            " [0.32038835]\n",
            " [0.32038835]\n",
            " [0.31067961]\n",
            " [0.31553398]\n",
            " [0.33009709]\n",
            " [0.40291262]\n",
            " [0.39320388]\n",
            " [0.39320388]\n",
            " [0.39320388]\n",
            " [0.39805825]\n",
            " [0.39805825]\n",
            " [0.39805825]\n",
            " [0.38349515]\n",
            " [0.3592233 ]\n",
            " [0.3592233 ]\n",
            " [0.3592233 ]\n",
            " [0.3592233 ]\n",
            " [0.3592233 ]\n",
            " [0.31067961]\n",
            " [0.30097087]\n",
            " [0.30097087]\n",
            " [0.30097087]\n",
            " [0.30097087]\n",
            " [0.30097087]\n",
            " [0.31067961]\n",
            " [0.2961165 ]\n",
            " [0.30097087]\n",
            " [0.30097087]\n",
            " [0.30097087]\n",
            " [0.30097087]\n",
            " [0.32038835]\n",
            " [0.32524272]\n",
            " [0.32038835]\n",
            " [0.31067961]\n",
            " [0.33009709]\n",
            " [0.33009709]\n",
            " [0.33009709]\n",
            " [0.32524272]\n",
            " [0.30582524]\n",
            " [0.31067961]\n",
            " [0.35436893]\n",
            " [0.34466019]\n",
            " [0.34466019]\n",
            " [0.34466019]\n",
            " [0.35436893]\n",
            " [0.33009709]\n",
            " [0.33980583]\n",
            " [0.33009709]\n",
            " [0.31553398]\n",
            " [0.31553398]\n",
            " [0.31553398]\n",
            " [0.31553398]\n",
            " [0.23300971]\n",
            " [0.32524272]\n",
            " [0.31067961]\n",
            " [0.2815534 ]\n",
            " [0.2815534 ]\n",
            " [0.2815534 ]\n",
            " [0.29126214]\n",
            " [0.29126214]\n",
            " [0.2961165 ]\n",
            " [0.33009709]\n",
            " [0.31067961]\n",
            " [0.31067961]\n",
            " [0.31067961]\n",
            " [0.29126214]\n",
            " [0.2815534 ]\n",
            " [0.30097087]\n",
            " [0.29126214]\n",
            " [0.30097087]\n",
            " [0.30097087]\n",
            " [0.30097087]\n",
            " [0.30582524]\n",
            " [0.29126214]\n",
            " [0.27669903]\n",
            " [0.2961165 ]\n",
            " [0.28640777]\n",
            " [0.28640777]\n",
            " [0.28640777]\n",
            " [0.27184466]\n",
            " [0.2815534 ]\n",
            " [0.27669903]\n",
            " [0.2815534 ]\n",
            " [0.2815534 ]\n",
            " [0.2815534 ]\n",
            " [0.2815534 ]\n",
            " [0.26699029]\n",
            " [0.2961165 ]\n",
            " [0.30582524]\n",
            " [0.31067961]\n",
            " [0.31553398]\n",
            " [0.31553398]\n",
            " [0.31553398]\n",
            " [0.31067961]\n",
            " [0.2815534 ]\n",
            " [0.29126214]\n",
            " [0.2961165 ]\n",
            " [0.29126214]\n",
            " [0.29126214]\n",
            " [0.29126214]\n",
            " [0.2961165 ]\n",
            " [0.2961165 ]\n",
            " [0.29126214]\n",
            " [0.24757282]\n",
            " [0.27669903]\n",
            " [0.27669903]\n",
            " [0.27669903]\n",
            " [0.26213592]\n",
            " [0.29126214]\n",
            " [0.29126214]\n",
            " [0.2815534 ]\n",
            " [0.27669903]\n",
            " [0.27669903]\n",
            " [0.27669903]\n",
            " [0.28640777]\n",
            " [0.28640777]\n",
            " [0.27669903]\n",
            " [0.24271845]\n",
            " [0.26699029]\n",
            " [0.26699029]\n",
            " [0.26699029]\n",
            " [0.27184466]\n",
            " [0.26699029]\n",
            " [0.27669903]\n",
            " [0.26699029]\n",
            " [0.27184466]\n",
            " [0.27184466]\n",
            " [0.27184466]\n",
            " [0.25242718]\n",
            " [0.25242718]\n",
            " [0.24271845]\n",
            " [0.24757282]\n",
            " [0.24757282]\n",
            " [0.24757282]\n",
            " [0.24757282]\n",
            " [0.24271845]\n",
            " [0.24757282]\n",
            " [0.2815534 ]\n",
            " [0.24757282]\n",
            " [0.24271845]\n",
            " [0.24271845]\n",
            " [0.24271845]\n",
            " [0.24271845]\n",
            " [0.19417476]\n",
            " [0.13106796]\n",
            " [0.13106796]\n",
            " [0.11165049]\n",
            " [0.11165049]\n",
            " [0.11165049]\n",
            " [0.02912621]\n",
            " [0.06796117]\n",
            " [0.07281553]\n",
            " [0.09708738]\n",
            " [0.05825243]\n",
            " [0.05825243]\n",
            " [0.05825243]\n",
            " [0.05339806]\n",
            " [0.03398058]\n",
            " [0.07281553]\n",
            " [0.0631068 ]\n",
            " [0.0631068 ]\n",
            " [0.0631068 ]\n",
            " [0.0631068 ]\n",
            " [0.03883495]\n",
            " [0.04368932]\n",
            " [0.04854369]\n",
            " [0.05825243]\n",
            " [0.        ]\n",
            " [0.        ]\n",
            " [0.        ]\n",
            " [0.00485437]\n",
            " [0.00970874]\n",
            " [0.02427184]\n",
            " [0.01941748]\n",
            " [0.05339806]]\n",
            "\n"
          ]
        }
      ],
      "source": [
        "train2, test2 = train_test_split_sequence(ts2)\n",
        "\n",
        "output = f'''\n",
        "Train: \n",
        "{train2}\n",
        "\n",
        "Text:\n",
        "{test2}\n",
        "'''\n",
        "print(output)"
      ]
    },
    {
      "cell_type": "code",
      "execution_count": null,
      "metadata": {
        "colab": {
          "base_uri": "https://localhost:8080/"
        },
        "id": "ut4EwciZAacp",
        "outputId": "7647d8ce-b773-470a-ee2a-f60dff116a33"
      },
      "outputs": [
        {
          "data": {
            "text/plain": [
              "(1461, 1)"
            ]
          },
          "execution_count": 20,
          "metadata": {},
          "output_type": "execute_result"
        }
      ],
      "source": [
        "train2.shape"
      ]
    },
    {
      "cell_type": "code",
      "execution_count": null,
      "metadata": {
        "colab": {
          "base_uri": "https://localhost:8080/"
        },
        "id": "aGejVtPB_-nN",
        "outputId": "228783b6-637f-444a-f599-c1c16afa0db4"
      },
      "outputs": [
        {
          "name": "stdout",
          "output_type": "stream",
          "text": [
            "\n",
            "X train ((1454, 7, 1)): \n",
            "[[[0.22815534]\n",
            "  [0.22330097]\n",
            "  [0.22330097]\n",
            "  ...\n",
            "  [0.17961165]\n",
            "  [0.17961165]\n",
            "  [0.17961165]]\n",
            "\n",
            " [[0.22330097]\n",
            "  [0.22330097]\n",
            "  [0.18932039]\n",
            "  ...\n",
            "  [0.17961165]\n",
            "  [0.17961165]\n",
            "  [0.17961165]]\n",
            "\n",
            " [[0.22330097]\n",
            "  [0.18932039]\n",
            "  [0.17961165]\n",
            "  ...\n",
            "  [0.17961165]\n",
            "  [0.17961165]\n",
            "  [0.16990291]]\n",
            "\n",
            " ...\n",
            "\n",
            " [[0.38834951]\n",
            "  [0.33009709]\n",
            "  [0.3592233 ]\n",
            "  ...\n",
            "  [0.3592233 ]\n",
            "  [0.38349515]\n",
            "  [0.35436893]]\n",
            "\n",
            " [[0.33009709]\n",
            "  [0.3592233 ]\n",
            "  [0.3592233 ]\n",
            "  ...\n",
            "  [0.38349515]\n",
            "  [0.35436893]\n",
            "  [0.37864078]]\n",
            "\n",
            " [[0.3592233 ]\n",
            "  [0.3592233 ]\n",
            "  [0.3592233 ]\n",
            "  ...\n",
            "  [0.35436893]\n",
            "  [0.37864078]\n",
            "  [0.33009709]]]\n",
            "\n",
            "y train ((1454, 1)):\n",
            "[[0.17961165]\n",
            " [0.16990291]\n",
            " [0.16504854]\n",
            " ...\n",
            " [0.37864078]\n",
            " [0.33009709]\n",
            " [0.33009709]]\n",
            "\n"
          ]
        }
      ],
      "source": [
        "X_train2, y_train2 = input_output_split_sequence(train2, n_steps=7)\n",
        "X_test2, y_test2 = input_output_split_sequence(test2, n_steps=7)\n",
        "\n",
        "output = f'''\n",
        "X train ({X_train2.shape}): \n",
        "{X_train2}\n",
        "\n",
        "y train ({y_train2.shape}):\n",
        "{y_train2}\n",
        "'''\n",
        "print(output)"
      ]
    },
    {
      "cell_type": "code",
      "execution_count": null,
      "metadata": {
        "colab": {
          "base_uri": "https://localhost:8080/"
        },
        "id": "grQMhZrcDRLT",
        "outputId": "380991aa-508e-4d50-839e-89c955a15401"
      },
      "outputs": [
        {
          "data": {
            "text/plain": [
              "(1454, 7, 1)"
            ]
          },
          "execution_count": 22,
          "metadata": {},
          "output_type": "execute_result"
        }
      ],
      "source": [
        "X_train2.shape"
      ]
    },
    {
      "cell_type": "markdown",
      "metadata": {
        "id": "12aYHb69xPnq"
      },
      "source": [
        "# Model"
      ]
    },
    {
      "cell_type": "code",
      "execution_count": null,
      "metadata": {
        "id": "vUGnBwGYlECZ"
      },
      "outputs": [],
      "source": [
        "import tensorflow as tf\n",
        "from tensorflow import keras\n",
        "from keras.models import Sequential\n",
        "from keras.layers import Dense\n",
        "# from keras.layers import Flatten\n",
        "from keras.layers import LSTM\n",
        "from keras.layers import TimeDistributed\n",
        "from keras.layers import Reshape\n",
        "from keras.layers import Dropout\n",
        "from keras.layers import Bidirectional\n",
        "from keras.layers.convolutional import Conv1D\n",
        "from keras.callbacks import ModelCheckpoint\n",
        "\n",
        "from sklearn.metrics import mean_absolute_error\n",
        "from sklearn.metrics import mean_squared_error\n",
        "from sklearn.metrics import mean_absolute_percentage_error"
      ]
    },
    {
      "cell_type": "code",
      "execution_count": null,
      "metadata": {
        "colab": {
          "base_uri": "https://localhost:8080/"
        },
        "id": "6pXjs2bCsPvS",
        "outputId": "95c4dcab-a20c-41c0-8575-8325a67bf230"
      },
      "outputs": [
        {
          "name": "stdout",
          "output_type": "stream",
          "text": [
            "\u001b[?25l\r\u001b[K     |██▌                             | 10 kB 20.1 MB/s eta 0:00:01\r\u001b[K     |█████                           | 20 kB 15.7 MB/s eta 0:00:01\r\u001b[K     |███████▍                        | 30 kB 10.6 MB/s eta 0:00:01\r\u001b[K     |█████████▉                      | 40 kB 9.0 MB/s eta 0:00:01\r\u001b[K     |████████████▎                   | 51 kB 4.9 MB/s eta 0:00:01\r\u001b[K     |██████████████▊                 | 61 kB 5.7 MB/s eta 0:00:01\r\u001b[K     |█████████████████▏              | 71 kB 5.7 MB/s eta 0:00:01\r\u001b[K     |███████████████████▋            | 81 kB 4.4 MB/s eta 0:00:01\r\u001b[K     |██████████████████████          | 92 kB 4.8 MB/s eta 0:00:01\r\u001b[K     |████████████████████████▌       | 102 kB 5.3 MB/s eta 0:00:01\r\u001b[K     |███████████████████████████     | 112 kB 5.3 MB/s eta 0:00:01\r\u001b[K     |█████████████████████████████▍  | 122 kB 5.3 MB/s eta 0:00:01\r\u001b[K     |███████████████████████████████▉| 133 kB 5.3 MB/s eta 0:00:01\r\u001b[K     |████████████████████████████████| 133 kB 5.3 MB/s \n",
            "\u001b[?25h"
          ]
        }
      ],
      "source": [
        "!pip install -q -U keras-tuner"
      ]
    },
    {
      "cell_type": "code",
      "execution_count": null,
      "metadata": {
        "id": "3U_un6CMsPvi"
      },
      "outputs": [],
      "source": [
        "import keras_tuner as kt"
      ]
    },
    {
      "cell_type": "markdown",
      "metadata": {
        "id": "upLzQkx5xl-p"
      },
      "source": [
        "## Vanilla LSTM"
      ]
    },
    {
      "cell_type": "markdown",
      "metadata": {
        "id": "l6nrgusO2Rpw"
      },
      "source": [
        "### Model"
      ]
    },
    {
      "cell_type": "code",
      "execution_count": null,
      "metadata": {
        "id": "LgpF99pQsPvi"
      },
      "outputs": [],
      "source": [
        "def model_builder(hp):\n",
        "  model = Sequential()\n",
        "\n",
        "  # Tune the number of units in the first Dense layer\n",
        "  # Choose an optimal value between 32-512\n",
        "  hp_units_lstm = hp.Int('units_lstm', min_value=32, max_value=512, step=32)\n",
        "  model.add(LSTM(hp_units_lstm, activation='relu', input_shape=(1, 7)))\n",
        "  model.add(Dense(1))\n",
        "\n",
        "  # Tune the learning rate for the optimizer\n",
        "  # Choose an optimal value from 0.01, 0.001, or 0.0001\n",
        "  hp_learning_rate = hp.Choice('learning_rate', values=[1e-2, 1e-3, 1e-4])\n",
        "\n",
        "  model.compile(optimizer=keras.optimizers.Adam(learning_rate=hp_learning_rate), loss='mae')\n",
        "\n",
        "  return model"
      ]
    },
    {
      "cell_type": "code",
      "execution_count": null,
      "metadata": {
        "id": "RY39sx_ssPvi"
      },
      "outputs": [],
      "source": [
        "stop_early = tf.keras.callbacks.EarlyStopping(monitor='val_loss', patience=5)"
      ]
    },
    {
      "cell_type": "code",
      "execution_count": null,
      "metadata": {
        "colab": {
          "base_uri": "https://localhost:8080/"
        },
        "id": "EidJMXrPsPvj",
        "outputId": "2ff2dc34-e67f-4100-e649-acaba04b515a"
      },
      "outputs": [
        {
          "name": "stdout",
          "output_type": "stream",
          "text": [
            "Trial 10 Complete [00h 01m 09s]\n",
            "val_loss: 0.015958890318870544\n",
            "\n",
            "Best val_loss So Far: 0.015361621510237455\n",
            "Total elapsed time: 00h 10m 33s\n",
            "INFO:tensorflow:Oracle triggered exit\n",
            "Best tune:\n",
            "units_lstm: 320\n",
            "learning_rate: 0.01\n"
          ]
        }
      ],
      "source": [
        "tuner = kt.RandomSearch(model_builder,\n",
        "                     objective='val_loss',\n",
        "                     max_trials=10,\n",
        "                     seed=42,\n",
        "                     executions_per_trial=2,\n",
        "                     directory='icbp',\n",
        "                     project_name='vanilla-lstm'\n",
        "                    # # FOR TRAIN ONLY\n",
        "                    #  overwrite=True\n",
        "                    # # --------------\n",
        "                     )\n",
        "\n",
        "tuner.search(X_train, y_train, epochs=50, validation_split=0.2)\n",
        "\n",
        "# Get the optimal hyperparameters\n",
        "best_hps=tuner.get_best_hyperparameters(num_trials=1)[0]\n",
        "\n",
        "tuning = ['units_lstm', 'learning_rate']\n",
        "print('Best tune:')\n",
        "for tune in tuning:\n",
        "  print(f'{tune}: {best_hps.get(tune)}')"
      ]
    },
    {
      "cell_type": "code",
      "execution_count": null,
      "metadata": {
        "colab": {
          "base_uri": "https://localhost:8080/"
        },
        "id": "gQSyWh5VwZXi",
        "outputId": "edc5ff37-0b89-4a1a-86c6-cc41c26e300a"
      },
      "outputs": [
        {
          "name": "stdout",
          "output_type": "stream",
          "text": [
            "Results summary\n",
            "Results in icbp/vanilla-lstm\n",
            "Showing 10 best trials\n",
            "<keras_tuner.engine.objective.Objective object at 0x7fd03fc7d710>\n",
            "Trial summary\n",
            "Hyperparameters:\n",
            "units_lstm: 320\n",
            "learning_rate: 0.01\n",
            "Score: 0.015361621510237455\n",
            "Trial summary\n",
            "Hyperparameters:\n",
            "units_lstm: 352\n",
            "learning_rate: 0.01\n",
            "Score: 0.01546606095507741\n",
            "Trial summary\n",
            "Hyperparameters:\n",
            "units_lstm: 256\n",
            "learning_rate: 0.01\n",
            "Score: 0.015473829582333565\n",
            "Trial summary\n",
            "Hyperparameters:\n",
            "units_lstm: 288\n",
            "learning_rate: 0.01\n",
            "Score: 0.015505371615290642\n",
            "Trial summary\n",
            "Hyperparameters:\n",
            "units_lstm: 480\n",
            "learning_rate: 0.01\n",
            "Score: 0.015611226204782724\n",
            "Trial summary\n",
            "Hyperparameters:\n",
            "units_lstm: 448\n",
            "learning_rate: 0.001\n",
            "Score: 0.01594062428921461\n",
            "Trial summary\n",
            "Hyperparameters:\n",
            "units_lstm: 480\n",
            "learning_rate: 0.001\n",
            "Score: 0.015958890318870544\n",
            "Trial summary\n",
            "Hyperparameters:\n",
            "units_lstm: 192\n",
            "learning_rate: 0.001\n",
            "Score: 0.016088862903416157\n",
            "Trial summary\n",
            "Hyperparameters:\n",
            "units_lstm: 224\n",
            "learning_rate: 0.001\n",
            "Score: 0.016196105629205704\n",
            "Trial summary\n",
            "Hyperparameters:\n",
            "units_lstm: 512\n",
            "learning_rate: 0.0001\n",
            "Score: 0.0201583756133914\n"
          ]
        }
      ],
      "source": [
        "tuner.results_summary(num_trials=10)"
      ]
    },
    {
      "cell_type": "code",
      "execution_count": null,
      "metadata": {
        "colab": {
          "base_uri": "https://localhost:8080/"
        },
        "id": "LMqxuUV1FN6c",
        "outputId": "8c818f31-2942-405b-8a37-1f8ae49ff1b5"
      },
      "outputs": [
        {
          "name": "stdout",
          "output_type": "stream",
          "text": [
            "Model: \"sequential_1\"\n",
            "_________________________________________________________________\n",
            " Layer (type)                Output Shape              Param #   \n",
            "=================================================================\n",
            " lstm_1 (LSTM)               (None, 320)               419840    \n",
            "                                                                 \n",
            " dense_1 (Dense)             (None, 1)                 321       \n",
            "                                                                 \n",
            "=================================================================\n",
            "Total params: 420,161\n",
            "Trainable params: 420,161\n",
            "Non-trainable params: 0\n",
            "_________________________________________________________________\n"
          ]
        }
      ],
      "source": [
        "best_hp = tuner.get_best_hyperparameters()[0]\n",
        "lstm = tuner.hypermodel.build(best_hp)\n",
        "\n",
        "lstm.summary()"
      ]
    },
    {
      "cell_type": "code",
      "execution_count": null,
      "metadata": {
        "colab": {
          "base_uri": "https://localhost:8080/"
        },
        "id": "rd61yOnKRQtj",
        "outputId": "177f1cdb-1f10-4075-fd07-f0cfe0876b07"
      },
      "outputs": [
        {
          "name": "stdout",
          "output_type": "stream",
          "text": [
            "Model: \"sequential\"\n",
            "_________________________________________________________________\n",
            " Layer (type)                Output Shape              Param #   \n",
            "=================================================================\n",
            " lstm (LSTM)                 (None, 4)                 192       \n",
            "                                                                 \n",
            " dense (Dense)               (None, 1)                 5         \n",
            "                                                                 \n",
            "=================================================================\n",
            "Total params: 197\n",
            "Trainable params: 197\n",
            "Non-trainable params: 0\n",
            "_________________________________________________________________\n"
          ]
        }
      ],
      "source": [
        "lstm = Sequential()\n",
        "lstm.add(LSTM(4, input_shape=(1, 7)))\n",
        "lstm.add(Dense(1))\n",
        "\n",
        "lstm.compile(loss='mae', optimizer='adam')\n",
        "\n",
        "lstm.summary()"
      ]
    },
    {
      "cell_type": "code",
      "execution_count": null,
      "metadata": {
        "colab": {
          "base_uri": "https://localhost:8080/"
        },
        "id": "Ul-ZYY6xyZH5",
        "outputId": "bbbd1165-15c4-465c-a0c5-d395da90c4e6"
      },
      "outputs": [
        {
          "name": "stdout",
          "output_type": "stream",
          "text": [
            "Epoch 1/50\n",
            "1453/1453 - 13s - loss: 0.0475 - val_loss: 0.0329 - 13s/epoch - 9ms/step\n",
            "Epoch 2/50\n",
            "1453/1453 - 9s - loss: 0.0398 - val_loss: 0.0658 - 9s/epoch - 6ms/step\n",
            "Epoch 3/50\n",
            "1453/1453 - 6s - loss: 0.0368 - val_loss: 0.0398 - 6s/epoch - 4ms/step\n",
            "Epoch 4/50\n",
            "1453/1453 - 5s - loss: 0.0339 - val_loss: 0.0516 - 5s/epoch - 4ms/step\n",
            "Epoch 5/50\n",
            "1453/1453 - 5s - loss: 0.0306 - val_loss: 0.0395 - 5s/epoch - 4ms/step\n",
            "Epoch 6/50\n",
            "1453/1453 - 5s - loss: 0.0290 - val_loss: 0.0628 - 5s/epoch - 4ms/step\n",
            "Epoch 7/50\n",
            "1453/1453 - 5s - loss: 0.0270 - val_loss: 0.0333 - 5s/epoch - 4ms/step\n",
            "Epoch 8/50\n",
            "1453/1453 - 5s - loss: 0.0265 - val_loss: 0.0250 - 5s/epoch - 4ms/step\n",
            "Epoch 9/50\n",
            "1453/1453 - 5s - loss: 0.0262 - val_loss: 0.0267 - 5s/epoch - 4ms/step\n",
            "Epoch 10/50\n",
            "1453/1453 - 6s - loss: 0.0254 - val_loss: 0.0294 - 6s/epoch - 4ms/step\n",
            "Epoch 11/50\n",
            "1453/1453 - 5s - loss: 0.0260 - val_loss: 0.0276 - 5s/epoch - 4ms/step\n",
            "Epoch 12/50\n",
            "1453/1453 - 5s - loss: 0.0246 - val_loss: 0.0274 - 5s/epoch - 4ms/step\n",
            "Epoch 13/50\n",
            "1453/1453 - 5s - loss: 0.0240 - val_loss: 0.0240 - 5s/epoch - 4ms/step\n",
            "Epoch 14/50\n",
            "1453/1453 - 5s - loss: 0.0252 - val_loss: 0.0295 - 5s/epoch - 4ms/step\n",
            "Epoch 15/50\n",
            "1453/1453 - 5s - loss: 0.0248 - val_loss: 0.0258 - 5s/epoch - 4ms/step\n",
            "Epoch 16/50\n",
            "1453/1453 - 5s - loss: 0.0239 - val_loss: 0.0274 - 5s/epoch - 4ms/step\n",
            "Epoch 17/50\n",
            "1453/1453 - 6s - loss: 0.0253 - val_loss: 0.0263 - 6s/epoch - 4ms/step\n",
            "Epoch 18/50\n",
            "1453/1453 - 5s - loss: 0.0246 - val_loss: 0.0247 - 5s/epoch - 4ms/step\n",
            "Epoch 19/50\n",
            "1453/1453 - 5s - loss: 0.0240 - val_loss: 0.0237 - 5s/epoch - 4ms/step\n",
            "Epoch 20/50\n",
            "1453/1453 - 6s - loss: 0.0241 - val_loss: 0.0271 - 6s/epoch - 4ms/step\n",
            "Epoch 21/50\n",
            "1453/1453 - 5s - loss: 0.0233 - val_loss: 0.0257 - 5s/epoch - 4ms/step\n",
            "Epoch 22/50\n",
            "1453/1453 - 6s - loss: 0.0237 - val_loss: 0.0242 - 6s/epoch - 4ms/step\n",
            "Epoch 23/50\n",
            "1453/1453 - 5s - loss: 0.0241 - val_loss: 0.0253 - 5s/epoch - 4ms/step\n",
            "Epoch 24/50\n",
            "1453/1453 - 5s - loss: 0.0238 - val_loss: 0.0257 - 5s/epoch - 4ms/step\n",
            "Epoch 25/50\n",
            "1453/1453 - 5s - loss: 0.0241 - val_loss: 0.0235 - 5s/epoch - 4ms/step\n",
            "Epoch 26/50\n",
            "1453/1453 - 5s - loss: 0.0232 - val_loss: 0.0233 - 5s/epoch - 4ms/step\n",
            "Epoch 27/50\n",
            "1453/1453 - 5s - loss: 0.0241 - val_loss: 0.0269 - 5s/epoch - 4ms/step\n",
            "Epoch 28/50\n",
            "1453/1453 - 5s - loss: 0.0254 - val_loss: 0.0251 - 5s/epoch - 4ms/step\n",
            "Epoch 29/50\n",
            "1453/1453 - 5s - loss: 0.0244 - val_loss: 0.0480 - 5s/epoch - 4ms/step\n",
            "Epoch 30/50\n",
            "1453/1453 - 6s - loss: 0.0238 - val_loss: 0.0308 - 6s/epoch - 4ms/step\n",
            "Epoch 31/50\n",
            "1453/1453 - 6s - loss: 0.0237 - val_loss: 0.0390 - 6s/epoch - 4ms/step\n",
            "Epoch 32/50\n",
            "1453/1453 - 5s - loss: 0.0251 - val_loss: 0.0276 - 5s/epoch - 4ms/step\n",
            "Epoch 33/50\n",
            "1453/1453 - 5s - loss: 0.0247 - val_loss: 0.0273 - 5s/epoch - 4ms/step\n",
            "Epoch 34/50\n",
            "1453/1453 - 5s - loss: 0.0246 - val_loss: 0.0278 - 5s/epoch - 4ms/step\n",
            "Epoch 35/50\n",
            "1453/1453 - 5s - loss: 0.0242 - val_loss: 0.0264 - 5s/epoch - 4ms/step\n",
            "Epoch 36/50\n",
            "1453/1453 - 5s - loss: 0.0230 - val_loss: 0.0376 - 5s/epoch - 4ms/step\n",
            "Epoch 37/50\n",
            "1453/1453 - 5s - loss: 0.0235 - val_loss: 0.0246 - 5s/epoch - 4ms/step\n",
            "Epoch 38/50\n",
            "1453/1453 - 5s - loss: 0.0241 - val_loss: 0.0291 - 5s/epoch - 4ms/step\n",
            "Epoch 39/50\n",
            "1453/1453 - 5s - loss: 0.0246 - val_loss: 0.0397 - 5s/epoch - 4ms/step\n",
            "Epoch 40/50\n",
            "1453/1453 - 6s - loss: 0.0249 - val_loss: 0.0243 - 6s/epoch - 4ms/step\n",
            "Epoch 41/50\n",
            "1453/1453 - 5s - loss: 0.0224 - val_loss: 0.0310 - 5s/epoch - 4ms/step\n",
            "Epoch 42/50\n",
            "1453/1453 - 5s - loss: 0.0250 - val_loss: 0.0298 - 5s/epoch - 4ms/step\n",
            "Epoch 43/50\n",
            "1453/1453 - 5s - loss: 0.0226 - val_loss: 0.0252 - 5s/epoch - 4ms/step\n",
            "Epoch 44/50\n",
            "1453/1453 - 6s - loss: 0.0241 - val_loss: 0.0353 - 6s/epoch - 4ms/step\n",
            "Epoch 45/50\n",
            "1453/1453 - 6s - loss: 0.0225 - val_loss: 0.0269 - 6s/epoch - 4ms/step\n",
            "Epoch 46/50\n",
            "1453/1453 - 5s - loss: 0.0255 - val_loss: 0.0320 - 5s/epoch - 4ms/step\n",
            "Epoch 47/50\n",
            "1453/1453 - 5s - loss: 0.0239 - val_loss: 0.0293 - 5s/epoch - 4ms/step\n",
            "Epoch 48/50\n",
            "1453/1453 - 6s - loss: 0.0245 - val_loss: 0.0281 - 6s/epoch - 4ms/step\n",
            "Epoch 49/50\n",
            "1453/1453 - 5s - loss: 0.0238 - val_loss: 0.0321 - 5s/epoch - 4ms/step\n",
            "Epoch 50/50\n",
            "1453/1453 - 5s - loss: 0.0241 - val_loss: 0.0366 - 5s/epoch - 4ms/step\n"
          ]
        }
      ],
      "source": [
        "historylstm = lstm.fit(X_train, y_train, \n",
        "                       batch_size=1, \n",
        "                       epochs=50,\n",
        "                       validation_data=(X_test, y_test), \n",
        "                       verbose=2)"
      ]
    },
    {
      "cell_type": "code",
      "execution_count": null,
      "metadata": {
        "id": "xp77DtPPwGpQ"
      },
      "outputs": [],
      "source": [
        "lstm.save('vanilla_lstm.h5')"
      ]
    },
    {
      "cell_type": "markdown",
      "metadata": {
        "id": "jLOhnYBF2Hd1"
      },
      "source": [
        "### Evaluation"
      ]
    },
    {
      "cell_type": "code",
      "execution_count": null,
      "metadata": {
        "id": "ennYdlwkSlez"
      },
      "outputs": [],
      "source": [
        "train_predict = lstm.predict(X_train)\n",
        "test_predict = lstm.predict(X_test)\n",
        "\n",
        "train_predict = scaler.inverse_transform(train_predict)\n",
        "train_y = scaler.inverse_transform([y_train])\n",
        "test_predict = scaler.inverse_transform(test_predict)\n",
        "test_y = scaler.inverse_transform([y_test])"
      ]
    },
    {
      "cell_type": "code",
      "execution_count": null,
      "metadata": {
        "id": "_lhVsCpb0YpB"
      },
      "outputs": [],
      "source": [
        "def metrics_evaluation_regression(test, predict):\n",
        "  metrics = pd.DataFrame({\n",
        "      'MSE': [mean_squared_error(test, predict)],\n",
        "      'RMSE': [np.sqrt(mean_squared_error(test, predict))],\n",
        "      'MAE': [mean_absolute_error(test, predict)],\n",
        "      'MAPE': [mean_absolute_percentage_error(test, predict)]\n",
        "  })\n",
        "  return metrics "
      ]
    },
    {
      "cell_type": "code",
      "execution_count": null,
      "metadata": {
        "colab": {
          "base_uri": "https://localhost:8080/",
          "height": 81
        },
        "id": "6N6yj09b98Nt",
        "outputId": "17c3d11c-8920-4660-c6cf-a174c5f30368"
      },
      "outputs": [
        {
          "data": {
            "text/html": [
              "\n",
              "  <div id=\"df-f06c2612-6f14-44eb-9f18-aaa200b81cc7\">\n",
              "    <div class=\"colab-df-container\">\n",
              "      <div>\n",
              "<style scoped>\n",
              "    .dataframe tbody tr th:only-of-type {\n",
              "        vertical-align: middle;\n",
              "    }\n",
              "\n",
              "    .dataframe tbody tr th {\n",
              "        vertical-align: top;\n",
              "    }\n",
              "\n",
              "    .dataframe thead th {\n",
              "        text-align: right;\n",
              "    }\n",
              "</style>\n",
              "<table border=\"1\" class=\"dataframe\">\n",
              "  <thead>\n",
              "    <tr style=\"text-align: right;\">\n",
              "      <th></th>\n",
              "      <th>MSE</th>\n",
              "      <th>RMSE</th>\n",
              "      <th>MAE</th>\n",
              "      <th>MAPE</th>\n",
              "    </tr>\n",
              "  </thead>\n",
              "  <tbody>\n",
              "    <tr>\n",
              "      <th>0</th>\n",
              "      <td>22317.417773</td>\n",
              "      <td>149.390153</td>\n",
              "      <td>100.44915</td>\n",
              "      <td>0.010407</td>\n",
              "    </tr>\n",
              "  </tbody>\n",
              "</table>\n",
              "</div>\n",
              "      <button class=\"colab-df-convert\" onclick=\"convertToInteractive('df-f06c2612-6f14-44eb-9f18-aaa200b81cc7')\"\n",
              "              title=\"Convert this dataframe to an interactive table.\"\n",
              "              style=\"display:none;\">\n",
              "        \n",
              "  <svg xmlns=\"http://www.w3.org/2000/svg\" height=\"24px\"viewBox=\"0 0 24 24\"\n",
              "       width=\"24px\">\n",
              "    <path d=\"M0 0h24v24H0V0z\" fill=\"none\"/>\n",
              "    <path d=\"M18.56 5.44l.94 2.06.94-2.06 2.06-.94-2.06-.94-.94-2.06-.94 2.06-2.06.94zm-11 1L8.5 8.5l.94-2.06 2.06-.94-2.06-.94L8.5 2.5l-.94 2.06-2.06.94zm10 10l.94 2.06.94-2.06 2.06-.94-2.06-.94-.94-2.06-.94 2.06-2.06.94z\"/><path d=\"M17.41 7.96l-1.37-1.37c-.4-.4-.92-.59-1.43-.59-.52 0-1.04.2-1.43.59L10.3 9.45l-7.72 7.72c-.78.78-.78 2.05 0 2.83L4 21.41c.39.39.9.59 1.41.59.51 0 1.02-.2 1.41-.59l7.78-7.78 2.81-2.81c.8-.78.8-2.07 0-2.86zM5.41 20L4 18.59l7.72-7.72 1.47 1.35L5.41 20z\"/>\n",
              "  </svg>\n",
              "      </button>\n",
              "      \n",
              "  <style>\n",
              "    .colab-df-container {\n",
              "      display:flex;\n",
              "      flex-wrap:wrap;\n",
              "      gap: 12px;\n",
              "    }\n",
              "\n",
              "    .colab-df-convert {\n",
              "      background-color: #E8F0FE;\n",
              "      border: none;\n",
              "      border-radius: 50%;\n",
              "      cursor: pointer;\n",
              "      display: none;\n",
              "      fill: #1967D2;\n",
              "      height: 32px;\n",
              "      padding: 0 0 0 0;\n",
              "      width: 32px;\n",
              "    }\n",
              "\n",
              "    .colab-df-convert:hover {\n",
              "      background-color: #E2EBFA;\n",
              "      box-shadow: 0px 1px 2px rgba(60, 64, 67, 0.3), 0px 1px 3px 1px rgba(60, 64, 67, 0.15);\n",
              "      fill: #174EA6;\n",
              "    }\n",
              "\n",
              "    [theme=dark] .colab-df-convert {\n",
              "      background-color: #3B4455;\n",
              "      fill: #D2E3FC;\n",
              "    }\n",
              "\n",
              "    [theme=dark] .colab-df-convert:hover {\n",
              "      background-color: #434B5C;\n",
              "      box-shadow: 0px 1px 3px 1px rgba(0, 0, 0, 0.15);\n",
              "      filter: drop-shadow(0px 1px 2px rgba(0, 0, 0, 0.3));\n",
              "      fill: #FFFFFF;\n",
              "    }\n",
              "  </style>\n",
              "\n",
              "      <script>\n",
              "        const buttonEl =\n",
              "          document.querySelector('#df-f06c2612-6f14-44eb-9f18-aaa200b81cc7 button.colab-df-convert');\n",
              "        buttonEl.style.display =\n",
              "          google.colab.kernel.accessAllowed ? 'block' : 'none';\n",
              "\n",
              "        async function convertToInteractive(key) {\n",
              "          const element = document.querySelector('#df-f06c2612-6f14-44eb-9f18-aaa200b81cc7');\n",
              "          const dataTable =\n",
              "            await google.colab.kernel.invokeFunction('convertToInteractive',\n",
              "                                                     [key], {});\n",
              "          if (!dataTable) return;\n",
              "\n",
              "          const docLinkHtml = 'Like what you see? Visit the ' +\n",
              "            '<a target=\"_blank\" href=https://colab.research.google.com/notebooks/data_table.ipynb>data table notebook</a>'\n",
              "            + ' to learn more about interactive tables.';\n",
              "          element.innerHTML = '';\n",
              "          dataTable['output_type'] = 'display_data';\n",
              "          await google.colab.output.renderOutput(dataTable, element);\n",
              "          const docLink = document.createElement('div');\n",
              "          docLink.innerHTML = docLinkHtml;\n",
              "          element.appendChild(docLink);\n",
              "        }\n",
              "      </script>\n",
              "    </div>\n",
              "  </div>\n",
              "  "
            ],
            "text/plain": [
              "            MSE        RMSE        MAE      MAPE\n",
              "0  22317.417773  149.390153  100.44915  0.010407"
            ]
          },
          "execution_count": 22,
          "metadata": {},
          "output_type": "execute_result"
        }
      ],
      "source": [
        "metrics_evaluation_regression(train_y[0], train_predict)"
      ]
    },
    {
      "cell_type": "code",
      "execution_count": null,
      "metadata": {
        "colab": {
          "base_uri": "https://localhost:8080/",
          "height": 81
        },
        "id": "FOPeSzFe-HUm",
        "outputId": "a3c25714-e760-48f2-d12e-645f7b57dd1d"
      },
      "outputs": [
        {
          "data": {
            "text/html": [
              "\n",
              "  <div id=\"df-7f559020-ff6a-4fa7-a295-695dc4ac71ea\">\n",
              "    <div class=\"colab-df-container\">\n",
              "      <div>\n",
              "<style scoped>\n",
              "    .dataframe tbody tr th:only-of-type {\n",
              "        vertical-align: middle;\n",
              "    }\n",
              "\n",
              "    .dataframe tbody tr th {\n",
              "        vertical-align: top;\n",
              "    }\n",
              "\n",
              "    .dataframe thead th {\n",
              "        text-align: right;\n",
              "    }\n",
              "</style>\n",
              "<table border=\"1\" class=\"dataframe\">\n",
              "  <thead>\n",
              "    <tr style=\"text-align: right;\">\n",
              "      <th></th>\n",
              "      <th>MSE</th>\n",
              "      <th>RMSE</th>\n",
              "      <th>MAE</th>\n",
              "      <th>MAPE</th>\n",
              "    </tr>\n",
              "  </thead>\n",
              "  <tbody>\n",
              "    <tr>\n",
              "      <th>0</th>\n",
              "      <td>14976.625376</td>\n",
              "      <td>122.379023</td>\n",
              "      <td>87.167432</td>\n",
              "      <td>0.010493</td>\n",
              "    </tr>\n",
              "  </tbody>\n",
              "</table>\n",
              "</div>\n",
              "      <button class=\"colab-df-convert\" onclick=\"convertToInteractive('df-7f559020-ff6a-4fa7-a295-695dc4ac71ea')\"\n",
              "              title=\"Convert this dataframe to an interactive table.\"\n",
              "              style=\"display:none;\">\n",
              "        \n",
              "  <svg xmlns=\"http://www.w3.org/2000/svg\" height=\"24px\"viewBox=\"0 0 24 24\"\n",
              "       width=\"24px\">\n",
              "    <path d=\"M0 0h24v24H0V0z\" fill=\"none\"/>\n",
              "    <path d=\"M18.56 5.44l.94 2.06.94-2.06 2.06-.94-2.06-.94-.94-2.06-.94 2.06-2.06.94zm-11 1L8.5 8.5l.94-2.06 2.06-.94-2.06-.94L8.5 2.5l-.94 2.06-2.06.94zm10 10l.94 2.06.94-2.06 2.06-.94-2.06-.94-.94-2.06-.94 2.06-2.06.94z\"/><path d=\"M17.41 7.96l-1.37-1.37c-.4-.4-.92-.59-1.43-.59-.52 0-1.04.2-1.43.59L10.3 9.45l-7.72 7.72c-.78.78-.78 2.05 0 2.83L4 21.41c.39.39.9.59 1.41.59.51 0 1.02-.2 1.41-.59l7.78-7.78 2.81-2.81c.8-.78.8-2.07 0-2.86zM5.41 20L4 18.59l7.72-7.72 1.47 1.35L5.41 20z\"/>\n",
              "  </svg>\n",
              "      </button>\n",
              "      \n",
              "  <style>\n",
              "    .colab-df-container {\n",
              "      display:flex;\n",
              "      flex-wrap:wrap;\n",
              "      gap: 12px;\n",
              "    }\n",
              "\n",
              "    .colab-df-convert {\n",
              "      background-color: #E8F0FE;\n",
              "      border: none;\n",
              "      border-radius: 50%;\n",
              "      cursor: pointer;\n",
              "      display: none;\n",
              "      fill: #1967D2;\n",
              "      height: 32px;\n",
              "      padding: 0 0 0 0;\n",
              "      width: 32px;\n",
              "    }\n",
              "\n",
              "    .colab-df-convert:hover {\n",
              "      background-color: #E2EBFA;\n",
              "      box-shadow: 0px 1px 2px rgba(60, 64, 67, 0.3), 0px 1px 3px 1px rgba(60, 64, 67, 0.15);\n",
              "      fill: #174EA6;\n",
              "    }\n",
              "\n",
              "    [theme=dark] .colab-df-convert {\n",
              "      background-color: #3B4455;\n",
              "      fill: #D2E3FC;\n",
              "    }\n",
              "\n",
              "    [theme=dark] .colab-df-convert:hover {\n",
              "      background-color: #434B5C;\n",
              "      box-shadow: 0px 1px 3px 1px rgba(0, 0, 0, 0.15);\n",
              "      filter: drop-shadow(0px 1px 2px rgba(0, 0, 0, 0.3));\n",
              "      fill: #FFFFFF;\n",
              "    }\n",
              "  </style>\n",
              "\n",
              "      <script>\n",
              "        const buttonEl =\n",
              "          document.querySelector('#df-7f559020-ff6a-4fa7-a295-695dc4ac71ea button.colab-df-convert');\n",
              "        buttonEl.style.display =\n",
              "          google.colab.kernel.accessAllowed ? 'block' : 'none';\n",
              "\n",
              "        async function convertToInteractive(key) {\n",
              "          const element = document.querySelector('#df-7f559020-ff6a-4fa7-a295-695dc4ac71ea');\n",
              "          const dataTable =\n",
              "            await google.colab.kernel.invokeFunction('convertToInteractive',\n",
              "                                                     [key], {});\n",
              "          if (!dataTable) return;\n",
              "\n",
              "          const docLinkHtml = 'Like what you see? Visit the ' +\n",
              "            '<a target=\"_blank\" href=https://colab.research.google.com/notebooks/data_table.ipynb>data table notebook</a>'\n",
              "            + ' to learn more about interactive tables.';\n",
              "          element.innerHTML = '';\n",
              "          dataTable['output_type'] = 'display_data';\n",
              "          await google.colab.output.renderOutput(dataTable, element);\n",
              "          const docLink = document.createElement('div');\n",
              "          docLink.innerHTML = docLinkHtml;\n",
              "          element.appendChild(docLink);\n",
              "        }\n",
              "      </script>\n",
              "    </div>\n",
              "  </div>\n",
              "  "
            ],
            "text/plain": [
              "            MSE        RMSE        MAE      MAPE\n",
              "0  14976.625376  122.379023  87.167432  0.010493"
            ]
          },
          "execution_count": 23,
          "metadata": {},
          "output_type": "execute_result"
        }
      ],
      "source": [
        "metrics_evaluation_regression(test_y[0], test_predict)"
      ]
    },
    {
      "cell_type": "code",
      "execution_count": null,
      "metadata": {
        "colab": {
          "base_uri": "https://localhost:8080/",
          "height": 338
        },
        "id": "3lPMECTg9Wjo",
        "outputId": "6f459f72-6a4a-401e-9cd1-983da9dabd32"
      },
      "outputs": [
        {
          "data": {
            "text/plain": [
              "<matplotlib.legend.Legend at 0x7f20c831a550>"
            ]
          },
          "execution_count": 58,
          "metadata": {},
          "output_type": "execute_result"
        },
        {
          "data": {
            "image/png": "[encoded data removed]",
            "text/plain": [
              "<Figure size 864x360 with 1 Axes>"
            ]
          },
          "metadata": {
            "needs_background": "light"
          },
          "output_type": "display_data"
        }
      ],
      "source": [
        "plt.figure(figsize=(12,5))\n",
        "plt.plot(train_y[0][:50])\n",
        "plt.plot(train_predict[:50])\n",
        "plt.legend(['Data Aktual', 'Prediksi'])"
      ]
    },
    {
      "cell_type": "code",
      "execution_count": null,
      "metadata": {
        "colab": {
          "base_uri": "https://localhost:8080/",
          "height": 338
        },
        "id": "S0t8JxgV9Wj3",
        "outputId": "f928a341-55c3-4517-b897-8dd948b64e16"
      },
      "outputs": [
        {
          "data": {
            "text/plain": [
              "<matplotlib.legend.Legend at 0x7f20c82c0fd0>"
            ]
          },
          "execution_count": 59,
          "metadata": {},
          "output_type": "execute_result"
        },
        {
          "data": {
            "image/png": "[encoded data removed]",
            "text/plain": [
              "<Figure size 864x360 with 1 Axes>"
            ]
          },
          "metadata": {
            "needs_background": "light"
          },
          "output_type": "display_data"
        }
      ],
      "source": [
        "plt.figure(figsize=(12,5))\n",
        "plt.plot(test_y[0][:50])\n",
        "plt.plot(test_predict[:50])\n",
        "plt.legend(['Data Aktual', 'Prediksi'])"
      ]
    },
    {
      "cell_type": "markdown",
      "metadata": {
        "id": "jVIfyYVRlEqL"
      },
      "source": [
        "## CNN-LSTM"
      ]
    },
    {
      "cell_type": "markdown",
      "metadata": {
        "id": "9l3aigHZ2f1m"
      },
      "source": [
        "### Model"
      ]
    },
    {
      "cell_type": "code",
      "execution_count": null,
      "metadata": {
        "id": "dhbhyRgbJubR"
      },
      "outputs": [],
      "source": [
        "def cnnlstm_builder(hp):\n",
        "  n_steps, n_features = 7, 1\n",
        "  model = Sequential()\n",
        "\n",
        "  # Tune the number of units in the first Dense layer\n",
        "  # Choose an optimal value between 32-512\n",
        "  hp_filter = hp.Int('units_filter', min_value=32, max_value=512, step=32)\n",
        "  hp_units_lstm = hp.Int('units_lstm', min_value=32, max_value=512, step=32)\n",
        "  model.add(Reshape((n_steps, n_features), input_dim=n_steps))\n",
        "  model.add(Conv1D(filters=hp_filter, kernel_size=2, activation='relu'))\n",
        "  model.add(LSTM(hp_units_lstm, activation='relu'))\n",
        "  model.add(Dense(1))\n",
        "\n",
        "  # Tune the learning rate for the optimizer\n",
        "  # Choose an optimal value from 0.01, 0.001, or 0.0001\n",
        "  hp_learning_rate = hp.Choice('learning_rate', values=[1e-2, 1e-3, 1e-4])\n",
        "\n",
        "  model.compile(optimizer=keras.optimizers.Adam(learning_rate=hp_learning_rate), loss='mse')\n",
        "\n",
        "  return model"
      ]
    },
    {
      "cell_type": "code",
      "execution_count": null,
      "metadata": {
        "colab": {
          "base_uri": "https://localhost:8080/"
        },
        "id": "fi8U8eFdKKVe",
        "outputId": "dbc41abc-0377-4919-ffe5-3682840d8874"
      },
      "outputs": [
        {
          "name": "stdout",
          "output_type": "stream",
          "text": [
            "Trial 10 Complete [00h 06m 47s]\n",
            "val_loss: 0.0006224343669600785\n",
            "\n",
            "Best val_loss So Far: 0.0006224343669600785\n",
            "Total elapsed time: 00h 30m 53s\n",
            "INFO:tensorflow:Oracle triggered exit\n",
            "Best tune:\n",
            "units_lstm: 480\n",
            "learning_rate: 0.001\n",
            "units_filter: 352\n"
          ]
        }
      ],
      "source": [
        "cnntuner = kt.RandomSearch(cnnlstm_builder,\n",
        "                     objective='val_loss',\n",
        "                     max_trials=10,\n",
        "                     seed=42,\n",
        "                     executions_per_trial=2,\n",
        "                     directory='icbp',\n",
        "                     project_name='cnn-lstm'\n",
        "                    # # FOR TRAIN ONLY\n",
        "                    #  overwrite=True\n",
        "                    # # --------------\n",
        "                     )\n",
        "\n",
        "cnntuner.search(X_train2, y_train2, epochs=50, validation_split=0.2)\n",
        "\n",
        "# Get the optimal hyperparameters\n",
        "best_hps=cnntuner.get_best_hyperparameters(num_trials=1)[0]\n",
        "\n",
        "tuning = ['units_lstm', 'learning_rate', 'units_filter']\n",
        "print('Best tune:')\n",
        "for tune in tuning:\n",
        "  print(f'{tune}: {best_hps.get(tune)}')"
      ]
    },
    {
      "cell_type": "code",
      "execution_count": null,
      "metadata": {
        "colab": {
          "base_uri": "https://localhost:8080/"
        },
        "id": "IfND-qRmL6ZP",
        "outputId": "420ba6f9-7f03-43a5-e135-a91417c0583e"
      },
      "outputs": [
        {
          "name": "stdout",
          "output_type": "stream",
          "text": [
            "Results summary\n",
            "Results in icbp/cnn-lstm\n",
            "Showing 10 best trials\n",
            "<keras_tuner.engine.objective.Objective object at 0x7f7a04fa2a90>\n",
            "Trial summary\n",
            "Hyperparameters:\n",
            "units_filter: 352\n",
            "units_lstm: 480\n",
            "learning_rate: 0.001\n",
            "Score: 0.0006224343669600785\n",
            "Trial summary\n",
            "Hyperparameters:\n",
            "units_filter: 160\n",
            "units_lstm: 448\n",
            "learning_rate: 0.001\n",
            "Score: 0.0006232139421626925\n",
            "Trial summary\n",
            "Hyperparameters:\n",
            "units_filter: 352\n",
            "units_lstm: 64\n",
            "learning_rate: 0.001\n",
            "Score: 0.0006242744566407055\n",
            "Trial summary\n",
            "Hyperparameters:\n",
            "units_filter: 288\n",
            "units_lstm: 64\n",
            "learning_rate: 0.001\n",
            "Score: 0.0006254328473005444\n",
            "Trial summary\n",
            "Hyperparameters:\n",
            "units_filter: 256\n",
            "units_lstm: 256\n",
            "learning_rate: 0.001\n",
            "Score: 0.0006255748739931732\n",
            "Trial summary\n",
            "Hyperparameters:\n",
            "units_filter: 64\n",
            "units_lstm: 320\n",
            "learning_rate: 0.01\n",
            "Score: 0.0006321683467831463\n",
            "Trial summary\n",
            "Hyperparameters:\n",
            "units_filter: 160\n",
            "units_lstm: 512\n",
            "learning_rate: 0.0001\n",
            "Score: 0.0007360121817328036\n",
            "Trial summary\n",
            "Hyperparameters:\n",
            "units_filter: 192\n",
            "units_lstm: 256\n",
            "learning_rate: 0.0001\n",
            "Score: 0.0007574897899758071\n",
            "Trial summary\n",
            "Hyperparameters:\n",
            "units_filter: 480\n",
            "units_lstm: 64\n",
            "learning_rate: 0.0001\n",
            "Score: 0.0007820697210263461\n",
            "Trial summary\n",
            "Hyperparameters:\n",
            "units_filter: 64\n",
            "units_lstm: 64\n",
            "learning_rate: 0.0001\n",
            "Score: 0.0010700701968744397\n"
          ]
        }
      ],
      "source": [
        "cnntuner.results_summary(num_trials=10)"
      ]
    },
    {
      "cell_type": "code",
      "execution_count": null,
      "metadata": {
        "colab": {
          "base_uri": "https://localhost:8080/"
        },
        "id": "BUnSC7g7L6ZQ",
        "outputId": "e187de57-b5fd-47e6-8a1a-61199fa1ab54"
      },
      "outputs": [
        {
          "name": "stdout",
          "output_type": "stream",
          "text": [
            "Model: \"sequential_2\"\n",
            "_________________________________________________________________\n",
            " Layer (type)                Output Shape              Param #   \n",
            "=================================================================\n",
            " reshape_2 (Reshape)         (None, 7, 1)              0         \n",
            "                                                                 \n",
            " conv1d_2 (Conv1D)           (None, 6, 352)            1056      \n",
            "                                                                 \n",
            " lstm_2 (LSTM)               (None, 480)               1599360   \n",
            "                                                                 \n",
            " dense_2 (Dense)             (None, 1)                 481       \n",
            "                                                                 \n",
            "=================================================================\n",
            "Total params: 1,600,897\n",
            "Trainable params: 1,600,897\n",
            "Non-trainable params: 0\n",
            "_________________________________________________________________\n"
          ]
        }
      ],
      "source": [
        "best_hp = cnntuner.get_best_hyperparameters()[0]\n",
        "lstmcnn = cnntuner.hypermodel.build(best_hp)\n",
        "\n",
        "lstmcnn.summary()"
      ]
    },
    {
      "cell_type": "code",
      "execution_count": null,
      "metadata": {
        "colab": {
          "base_uri": "https://localhost:8080/"
        },
        "id": "NOvJxXDvMLKK",
        "outputId": "06cd246b-1d2d-41dd-ab32-c82ad7f9d045"
      },
      "outputs": [
        {
          "name": "stdout",
          "output_type": "stream",
          "text": [
            "Epoch 1/50\n",
            "46/46 [==============================] - 10s 182ms/step - loss: 0.0156 - val_loss: 0.0011\n",
            "Epoch 2/50\n",
            "46/46 [==============================] - 7s 159ms/step - loss: 0.0016 - val_loss: 0.0011\n",
            "Epoch 3/50\n",
            "46/46 [==============================] - 7s 160ms/step - loss: 0.0015 - val_loss: 8.6036e-04\n",
            "Epoch 4/50\n",
            "46/46 [==============================] - 8s 173ms/step - loss: 0.0014 - val_loss: 8.1088e-04\n",
            "Epoch 5/50\n",
            "46/46 [==============================] - 7s 161ms/step - loss: 0.0013 - val_loss: 0.0010\n",
            "Epoch 6/50\n",
            "46/46 [==============================] - 4s 95ms/step - loss: 0.0013 - val_loss: 9.1165e-04\n",
            "Epoch 7/50\n",
            "46/46 [==============================] - 4s 95ms/step - loss: 0.0012 - val_loss: 6.8438e-04\n",
            "Epoch 8/50\n",
            "46/46 [==============================] - 4s 93ms/step - loss: 0.0011 - val_loss: 7.2543e-04\n",
            "Epoch 9/50\n",
            "46/46 [==============================] - 4s 92ms/step - loss: 0.0010 - val_loss: 5.8772e-04\n",
            "Epoch 10/50\n",
            "46/46 [==============================] - 4s 91ms/step - loss: 0.0010 - val_loss: 6.2766e-04\n",
            "Epoch 11/50\n",
            "46/46 [==============================] - 4s 93ms/step - loss: 9.0068e-04 - val_loss: 5.3790e-04\n",
            "Epoch 12/50\n",
            "46/46 [==============================] - 4s 96ms/step - loss: 9.6194e-04 - val_loss: 5.2149e-04\n",
            "Epoch 13/50\n",
            "46/46 [==============================] - 4s 95ms/step - loss: 8.5776e-04 - val_loss: 5.6583e-04\n",
            "Epoch 14/50\n",
            "46/46 [==============================] - 4s 96ms/step - loss: 8.2177e-04 - val_loss: 5.0635e-04\n",
            "Epoch 15/50\n",
            "46/46 [==============================] - 4s 98ms/step - loss: 8.1684e-04 - val_loss: 6.4222e-04\n",
            "Epoch 16/50\n",
            "46/46 [==============================] - 4s 92ms/step - loss: 8.4698e-04 - val_loss: 5.1316e-04\n",
            "Epoch 17/50\n",
            "46/46 [==============================] - 4s 94ms/step - loss: 7.8543e-04 - val_loss: 4.6702e-04\n",
            "Epoch 18/50\n",
            "46/46 [==============================] - 5s 99ms/step - loss: 8.1251e-04 - val_loss: 5.1340e-04\n",
            "Epoch 19/50\n",
            "46/46 [==============================] - 4s 95ms/step - loss: 7.8387e-04 - val_loss: 4.7563e-04\n",
            "Epoch 20/50\n",
            "46/46 [==============================] - 4s 96ms/step - loss: 7.5040e-04 - val_loss: 4.5624e-04\n",
            "Epoch 21/50\n",
            "46/46 [==============================] - 4s 95ms/step - loss: 7.7831e-04 - val_loss: 5.0667e-04\n",
            "Epoch 22/50\n",
            "46/46 [==============================] - 4s 92ms/step - loss: 8.0546e-04 - val_loss: 4.6305e-04\n",
            "Epoch 23/50\n",
            "46/46 [==============================] - 4s 91ms/step - loss: 7.5728e-04 - val_loss: 4.8058e-04\n",
            "Epoch 24/50\n",
            "46/46 [==============================] - 4s 93ms/step - loss: 7.4805e-04 - val_loss: 5.4658e-04\n",
            "Epoch 25/50\n",
            "46/46 [==============================] - 5s 111ms/step - loss: 8.3797e-04 - val_loss: 4.4684e-04\n",
            "Epoch 26/50\n",
            "46/46 [==============================] - 4s 95ms/step - loss: 8.0505e-04 - val_loss: 4.6815e-04\n",
            "Epoch 27/50\n",
            "46/46 [==============================] - 4s 96ms/step - loss: 7.2208e-04 - val_loss: 4.7313e-04\n",
            "Epoch 28/50\n",
            "46/46 [==============================] - 4s 95ms/step - loss: 7.7840e-04 - val_loss: 6.7404e-04\n",
            "Epoch 29/50\n",
            "46/46 [==============================] - 6s 134ms/step - loss: 9.0967e-04 - val_loss: 5.6155e-04\n",
            "Epoch 30/50\n",
            "46/46 [==============================] - 5s 110ms/step - loss: 7.3218e-04 - val_loss: 4.7293e-04\n",
            "Epoch 31/50\n",
            "46/46 [==============================] - 4s 94ms/step - loss: 7.4774e-04 - val_loss: 5.4708e-04\n",
            "Epoch 32/50\n",
            "46/46 [==============================] - 4s 95ms/step - loss: 7.1252e-04 - val_loss: 4.4949e-04\n",
            "Epoch 33/50\n",
            "46/46 [==============================] - 4s 97ms/step - loss: 8.3842e-04 - val_loss: 4.5550e-04\n",
            "Epoch 34/50\n",
            "46/46 [==============================] - 4s 94ms/step - loss: 7.6423e-04 - val_loss: 5.0895e-04\n",
            "Epoch 35/50\n",
            "46/46 [==============================] - 4s 94ms/step - loss: 7.2564e-04 - val_loss: 4.9602e-04\n",
            "Epoch 36/50\n",
            "46/46 [==============================] - 4s 91ms/step - loss: 7.3750e-04 - val_loss: 4.6842e-04\n",
            "Epoch 37/50\n",
            "46/46 [==============================] - 4s 92ms/step - loss: 7.9662e-04 - val_loss: 9.0375e-04\n",
            "Epoch 38/50\n",
            "46/46 [==============================] - 4s 95ms/step - loss: 7.4685e-04 - val_loss: 4.7740e-04\n",
            "Epoch 39/50\n",
            "46/46 [==============================] - 4s 95ms/step - loss: 7.2303e-04 - val_loss: 4.7752e-04\n",
            "Epoch 40/50\n",
            "46/46 [==============================] - 4s 97ms/step - loss: 7.0483e-04 - val_loss: 4.7568e-04\n",
            "Epoch 41/50\n",
            "46/46 [==============================] - 4s 95ms/step - loss: 7.4101e-04 - val_loss: 4.5792e-04\n",
            "Epoch 42/50\n",
            "46/46 [==============================] - 4s 96ms/step - loss: 7.6164e-04 - val_loss: 6.1006e-04\n",
            "Epoch 43/50\n",
            "46/46 [==============================] - 4s 95ms/step - loss: 7.1561e-04 - val_loss: 4.6650e-04\n",
            "Epoch 44/50\n",
            "46/46 [==============================] - 4s 95ms/step - loss: 7.3019e-04 - val_loss: 5.6910e-04\n",
            "Epoch 45/50\n",
            "46/46 [==============================] - 4s 94ms/step - loss: 9.3922e-04 - val_loss: 4.7204e-04\n",
            "Epoch 46/50\n",
            "46/46 [==============================] - 4s 95ms/step - loss: 0.0010 - val_loss: 9.0942e-04\n",
            "Epoch 47/50\n",
            "46/46 [==============================] - 4s 96ms/step - loss: 8.8573e-04 - val_loss: 5.8064e-04\n",
            "Epoch 48/50\n",
            "46/46 [==============================] - 4s 94ms/step - loss: 7.2174e-04 - val_loss: 4.9473e-04\n",
            "Epoch 49/50\n",
            "46/46 [==============================] - 4s 95ms/step - loss: 7.2360e-04 - val_loss: 5.8169e-04\n",
            "Epoch 50/50\n",
            "46/46 [==============================] - 4s 95ms/step - loss: 7.0092e-04 - val_loss: 4.8113e-04\n"
          ]
        }
      ],
      "source": [
        "historylstmncnn = lstmcnn.fit(X_train2, y_train2, epochs=50, validation_data=(X_test2, y_test2))"
      ]
    },
    {
      "cell_type": "code",
      "execution_count": null,
      "metadata": {
        "colab": {
          "base_uri": "https://localhost:8080/"
        },
        "id": "2umzf-67lZvB",
        "outputId": "67ef6405-8d3d-4949-e592-4c38510c7c3d"
      },
      "outputs": [
        {
          "name": "stdout",
          "output_type": "stream",
          "text": [
            "Model: \"sequential_1\"\n",
            "_________________________________________________________________\n",
            " Layer (type)                Output Shape              Param #   \n",
            "=================================================================\n",
            " conv1d_1 (Conv1D)           (None, 6, 64)             192       \n",
            "                                                                 \n",
            " lstm_1 (LSTM)               (None, 64)                33024     \n",
            "                                                                 \n",
            " dense_2 (Dense)             (None, 1)                 65        \n",
            "                                                                 \n",
            "=================================================================\n",
            "Total params: 33,281\n",
            "Trainable params: 33,281\n",
            "Non-trainable params: 0\n",
            "_________________________________________________________________\n"
          ]
        }
      ],
      "source": [
        "from pandas.core.common import flatten\n",
        "lstmcnn = Sequential()\n",
        "\n",
        "lstmcnn.add(Conv1D(filters=64, kernel_size=2, activation='relu'))\n",
        "lstmcnn.add(LSTM(64, activation='relu'))\n",
        "# lstmcnn.add(Dense(64, activation='relu'))\n",
        "lstmcnn.add(Dense(1))\n",
        "\n",
        "lstmcnn.compile(loss='mae', optimizer=keras.optimizers.Adam(learning_rate=0.001))\n",
        "\n",
        "lstmcnn.build(input_shape=(None, 7, 1))\n",
        "lstmcnn.summary()"
      ]
    },
    {
      "cell_type": "code",
      "execution_count": null,
      "metadata": {
        "colab": {
          "base_uri": "https://localhost:8080/"
        },
        "id": "mqlPH1pzryzC",
        "outputId": "d51be11e-e19a-44b6-f638-12a302e3af4a"
      },
      "outputs": [
        {
          "name": "stdout",
          "output_type": "stream",
          "text": [
            "Epoch 1/150\n",
            "46/46 [==============================] - 2s 13ms/step - loss: 0.1724 - val_loss: 0.0742\n",
            "Epoch 2/150\n",
            "46/46 [==============================] - 0s 8ms/step - loss: 0.0324 - val_loss: 0.0255\n",
            "Epoch 3/150\n",
            "46/46 [==============================] - 0s 9ms/step - loss: 0.0272 - val_loss: 0.0277\n",
            "Epoch 4/150\n",
            "46/46 [==============================] - 0s 8ms/step - loss: 0.0262 - val_loss: 0.0236\n",
            "Epoch 5/150\n",
            "46/46 [==============================] - 0s 8ms/step - loss: 0.0261 - val_loss: 0.0269\n",
            "Epoch 6/150\n",
            "46/46 [==============================] - 0s 8ms/step - loss: 0.0252 - val_loss: 0.0209\n",
            "Epoch 7/150\n",
            "46/46 [==============================] - 0s 8ms/step - loss: 0.0238 - val_loss: 0.0249\n",
            "Epoch 8/150\n",
            "46/46 [==============================] - 0s 9ms/step - loss: 0.0235 - val_loss: 0.0196\n",
            "Epoch 9/150\n",
            "46/46 [==============================] - 0s 8ms/step - loss: 0.0233 - val_loss: 0.0190\n",
            "Epoch 10/150\n",
            "46/46 [==============================] - 0s 7ms/step - loss: 0.0229 - val_loss: 0.0187\n",
            "Epoch 11/150\n",
            "46/46 [==============================] - 0s 9ms/step - loss: 0.0245 - val_loss: 0.0213\n",
            "Epoch 12/150\n",
            "46/46 [==============================] - 0s 9ms/step - loss: 0.0217 - val_loss: 0.0187\n",
            "Epoch 13/150\n",
            "46/46 [==============================] - 0s 8ms/step - loss: 0.0217 - val_loss: 0.0196\n",
            "Epoch 14/150\n",
            "46/46 [==============================] - 0s 7ms/step - loss: 0.0221 - val_loss: 0.0186\n",
            "Epoch 15/150\n",
            "46/46 [==============================] - 0s 8ms/step - loss: 0.0206 - val_loss: 0.0178\n",
            "Epoch 16/150\n",
            "46/46 [==============================] - 0s 7ms/step - loss: 0.0204 - val_loss: 0.0172\n",
            "Epoch 17/150\n",
            "46/46 [==============================] - 0s 7ms/step - loss: 0.0201 - val_loss: 0.0189\n",
            "Epoch 18/150\n",
            "46/46 [==============================] - 0s 8ms/step - loss: 0.0200 - val_loss: 0.0167\n",
            "Epoch 19/150\n",
            "46/46 [==============================] - 0s 9ms/step - loss: 0.0189 - val_loss: 0.0165\n",
            "Epoch 20/150\n",
            "46/46 [==============================] - 0s 8ms/step - loss: 0.0209 - val_loss: 0.0165\n",
            "Epoch 21/150\n",
            "46/46 [==============================] - 0s 8ms/step - loss: 0.0202 - val_loss: 0.0158\n",
            "Epoch 22/150\n",
            "46/46 [==============================] - 0s 8ms/step - loss: 0.0184 - val_loss: 0.0157\n",
            "Epoch 23/150\n",
            "46/46 [==============================] - 0s 8ms/step - loss: 0.0192 - val_loss: 0.0152\n",
            "Epoch 24/150\n",
            "46/46 [==============================] - 0s 7ms/step - loss: 0.0179 - val_loss: 0.0150\n",
            "Epoch 25/150\n",
            "46/46 [==============================] - 0s 7ms/step - loss: 0.0185 - val_loss: 0.0160\n",
            "Epoch 26/150\n",
            "46/46 [==============================] - 0s 8ms/step - loss: 0.0179 - val_loss: 0.0157\n",
            "Epoch 27/150\n",
            "46/46 [==============================] - 0s 7ms/step - loss: 0.0177 - val_loss: 0.0154\n",
            "Epoch 28/150\n",
            "46/46 [==============================] - 0s 8ms/step - loss: 0.0173 - val_loss: 0.0146\n",
            "Epoch 29/150\n",
            "46/46 [==============================] - 0s 8ms/step - loss: 0.0177 - val_loss: 0.0150\n",
            "Epoch 30/150\n",
            "46/46 [==============================] - 0s 8ms/step - loss: 0.0168 - val_loss: 0.0160\n",
            "Epoch 31/150\n",
            "46/46 [==============================] - 0s 7ms/step - loss: 0.0176 - val_loss: 0.0142\n",
            "Epoch 32/150\n",
            "46/46 [==============================] - 0s 8ms/step - loss: 0.0177 - val_loss: 0.0179\n",
            "Epoch 33/150\n",
            "46/46 [==============================] - 0s 8ms/step - loss: 0.0168 - val_loss: 0.0145\n",
            "Epoch 34/150\n",
            "46/46 [==============================] - 0s 8ms/step - loss: 0.0174 - val_loss: 0.0142\n",
            "Epoch 35/150\n",
            "46/46 [==============================] - 0s 8ms/step - loss: 0.0169 - val_loss: 0.0145\n",
            "Epoch 36/150\n",
            "46/46 [==============================] - 0s 8ms/step - loss: 0.0169 - val_loss: 0.0154\n",
            "Epoch 37/150\n",
            "46/46 [==============================] - 0s 8ms/step - loss: 0.0167 - val_loss: 0.0161\n",
            "Epoch 38/150\n",
            "46/46 [==============================] - 0s 8ms/step - loss: 0.0167 - val_loss: 0.0141\n",
            "Epoch 39/150\n",
            "46/46 [==============================] - 0s 9ms/step - loss: 0.0161 - val_loss: 0.0138\n",
            "Epoch 40/150\n",
            "46/46 [==============================] - 0s 9ms/step - loss: 0.0171 - val_loss: 0.0137\n",
            "Epoch 41/150\n",
            "46/46 [==============================] - 0s 9ms/step - loss: 0.0162 - val_loss: 0.0141\n",
            "Epoch 42/150\n",
            "46/46 [==============================] - 0s 8ms/step - loss: 0.0160 - val_loss: 0.0135\n",
            "Epoch 43/150\n",
            "46/46 [==============================] - 0s 8ms/step - loss: 0.0160 - val_loss: 0.0146\n",
            "Epoch 44/150\n",
            "46/46 [==============================] - 0s 8ms/step - loss: 0.0160 - val_loss: 0.0136\n",
            "Epoch 45/150\n",
            "46/46 [==============================] - 0s 8ms/step - loss: 0.0156 - val_loss: 0.0136\n",
            "Epoch 46/150\n",
            "46/46 [==============================] - 0s 8ms/step - loss: 0.0163 - val_loss: 0.0134\n",
            "Epoch 47/150\n",
            "46/46 [==============================] - 0s 8ms/step - loss: 0.0160 - val_loss: 0.0154\n",
            "Epoch 48/150\n",
            "46/46 [==============================] - 0s 9ms/step - loss: 0.0179 - val_loss: 0.0139\n",
            "Epoch 49/150\n",
            "46/46 [==============================] - 0s 8ms/step - loss: 0.0165 - val_loss: 0.0133\n",
            "Epoch 50/150\n",
            "46/46 [==============================] - 0s 9ms/step - loss: 0.0153 - val_loss: 0.0143\n",
            "Epoch 51/150\n",
            "46/46 [==============================] - 0s 9ms/step - loss: 0.0157 - val_loss: 0.0132\n",
            "Epoch 52/150\n",
            "46/46 [==============================] - 0s 9ms/step - loss: 0.0159 - val_loss: 0.0133\n",
            "Epoch 53/150\n",
            "46/46 [==============================] - 0s 8ms/step - loss: 0.0156 - val_loss: 0.0162\n",
            "Epoch 54/150\n",
            "46/46 [==============================] - 0s 8ms/step - loss: 0.0157 - val_loss: 0.0134\n",
            "Epoch 55/150\n",
            "46/46 [==============================] - 0s 8ms/step - loss: 0.0165 - val_loss: 0.0133\n",
            "Epoch 56/150\n",
            "46/46 [==============================] - 0s 8ms/step - loss: 0.0167 - val_loss: 0.0165\n",
            "Epoch 57/150\n",
            "46/46 [==============================] - 0s 8ms/step - loss: 0.0155 - val_loss: 0.0129\n",
            "Epoch 58/150\n",
            "46/46 [==============================] - 0s 8ms/step - loss: 0.0166 - val_loss: 0.0131\n",
            "Epoch 59/150\n",
            "46/46 [==============================] - 0s 8ms/step - loss: 0.0166 - val_loss: 0.0133\n",
            "Epoch 60/150\n",
            "46/46 [==============================] - 0s 8ms/step - loss: 0.0166 - val_loss: 0.0146\n",
            "Epoch 61/150\n",
            "46/46 [==============================] - 0s 9ms/step - loss: 0.0159 - val_loss: 0.0130\n",
            "Epoch 62/150\n",
            "46/46 [==============================] - 0s 8ms/step - loss: 0.0154 - val_loss: 0.0135\n",
            "Epoch 63/150\n",
            "46/46 [==============================] - 0s 8ms/step - loss: 0.0152 - val_loss: 0.0135\n",
            "Epoch 64/150\n",
            "46/46 [==============================] - 0s 8ms/step - loss: 0.0163 - val_loss: 0.0134\n",
            "Epoch 65/150\n",
            "46/46 [==============================] - 0s 7ms/step - loss: 0.0155 - val_loss: 0.0129\n",
            "Epoch 66/150\n",
            "46/46 [==============================] - 0s 8ms/step - loss: 0.0154 - val_loss: 0.0160\n",
            "Epoch 67/150\n",
            "46/46 [==============================] - 0s 8ms/step - loss: 0.0155 - val_loss: 0.0133\n",
            "Epoch 68/150\n",
            "46/46 [==============================] - 0s 8ms/step - loss: 0.0149 - val_loss: 0.0130\n",
            "Epoch 69/150\n",
            "46/46 [==============================] - 0s 8ms/step - loss: 0.0151 - val_loss: 0.0131\n",
            "Epoch 70/150\n",
            "46/46 [==============================] - 0s 8ms/step - loss: 0.0150 - val_loss: 0.0129\n",
            "Epoch 71/150\n",
            "46/46 [==============================] - 0s 7ms/step - loss: 0.0154 - val_loss: 0.0137\n",
            "Epoch 72/150\n",
            "46/46 [==============================] - 0s 8ms/step - loss: 0.0150 - val_loss: 0.0171\n",
            "Epoch 73/150\n",
            "46/46 [==============================] - 0s 8ms/step - loss: 0.0157 - val_loss: 0.0130\n",
            "Epoch 74/150\n",
            "46/46 [==============================] - 0s 9ms/step - loss: 0.0153 - val_loss: 0.0129\n",
            "Epoch 75/150\n",
            "46/46 [==============================] - 0s 9ms/step - loss: 0.0157 - val_loss: 0.0130\n",
            "Epoch 76/150\n",
            "46/46 [==============================] - 0s 8ms/step - loss: 0.0158 - val_loss: 0.0133\n",
            "Epoch 77/150\n",
            "46/46 [==============================] - 0s 8ms/step - loss: 0.0153 - val_loss: 0.0148\n",
            "Epoch 78/150\n",
            "46/46 [==============================] - 0s 9ms/step - loss: 0.0158 - val_loss: 0.0134\n",
            "Epoch 79/150\n",
            "46/46 [==============================] - 0s 7ms/step - loss: 0.0154 - val_loss: 0.0141\n",
            "Epoch 80/150\n",
            "46/46 [==============================] - 0s 8ms/step - loss: 0.0157 - val_loss: 0.0156\n",
            "Epoch 81/150\n",
            "46/46 [==============================] - 0s 7ms/step - loss: 0.0153 - val_loss: 0.0143\n",
            "Epoch 82/150\n",
            "46/46 [==============================] - 0s 7ms/step - loss: 0.0165 - val_loss: 0.0135\n",
            "Epoch 83/150\n",
            "46/46 [==============================] - 0s 8ms/step - loss: 0.0149 - val_loss: 0.0129\n",
            "Epoch 84/150\n",
            "46/46 [==============================] - 0s 8ms/step - loss: 0.0156 - val_loss: 0.0136\n",
            "Epoch 85/150\n",
            "46/46 [==============================] - 0s 8ms/step - loss: 0.0154 - val_loss: 0.0133\n",
            "Epoch 86/150\n",
            "46/46 [==============================] - 0s 8ms/step - loss: 0.0159 - val_loss: 0.0137\n",
            "Epoch 87/150\n",
            "46/46 [==============================] - 0s 7ms/step - loss: 0.0150 - val_loss: 0.0140\n",
            "Epoch 88/150\n",
            "46/46 [==============================] - 0s 8ms/step - loss: 0.0154 - val_loss: 0.0130\n",
            "Epoch 89/150\n",
            "46/46 [==============================] - 0s 7ms/step - loss: 0.0150 - val_loss: 0.0135\n",
            "Epoch 90/150\n",
            "46/46 [==============================] - 0s 7ms/step - loss: 0.0151 - val_loss: 0.0129\n",
            "Epoch 91/150\n",
            "46/46 [==============================] - 0s 8ms/step - loss: 0.0156 - val_loss: 0.0139\n",
            "Epoch 92/150\n",
            "46/46 [==============================] - 0s 8ms/step - loss: 0.0151 - val_loss: 0.0129\n",
            "Epoch 93/150\n",
            "46/46 [==============================] - 0s 9ms/step - loss: 0.0156 - val_loss: 0.0133\n",
            "Epoch 94/150\n",
            "46/46 [==============================] - 0s 9ms/step - loss: 0.0152 - val_loss: 0.0142\n",
            "Epoch 95/150\n",
            "46/46 [==============================] - 0s 8ms/step - loss: 0.0152 - val_loss: 0.0128\n",
            "Epoch 96/150\n",
            "46/46 [==============================] - 0s 8ms/step - loss: 0.0152 - val_loss: 0.0139\n",
            "Epoch 97/150\n",
            "46/46 [==============================] - 0s 8ms/step - loss: 0.0151 - val_loss: 0.0133\n",
            "Epoch 98/150\n",
            "46/46 [==============================] - 0s 8ms/step - loss: 0.0156 - val_loss: 0.0138\n",
            "Epoch 99/150\n",
            "46/46 [==============================] - 0s 8ms/step - loss: 0.0153 - val_loss: 0.0136\n",
            "Epoch 100/150\n",
            "46/46 [==============================] - 0s 8ms/step - loss: 0.0150 - val_loss: 0.0146\n",
            "Epoch 101/150\n",
            "46/46 [==============================] - 0s 8ms/step - loss: 0.0161 - val_loss: 0.0133\n",
            "Epoch 102/150\n",
            "46/46 [==============================] - 0s 8ms/step - loss: 0.0151 - val_loss: 0.0129\n",
            "Epoch 103/150\n",
            "46/46 [==============================] - 0s 8ms/step - loss: 0.0150 - val_loss: 0.0132\n",
            "Epoch 104/150\n",
            "46/46 [==============================] - 0s 8ms/step - loss: 0.0172 - val_loss: 0.0146\n",
            "Epoch 105/150\n",
            "46/46 [==============================] - 0s 8ms/step - loss: 0.0156 - val_loss: 0.0129\n",
            "Epoch 106/150\n",
            "46/46 [==============================] - 0s 7ms/step - loss: 0.0148 - val_loss: 0.0129\n",
            "Epoch 107/150\n",
            "46/46 [==============================] - 0s 8ms/step - loss: 0.0146 - val_loss: 0.0142\n",
            "Epoch 108/150\n",
            "46/46 [==============================] - 0s 8ms/step - loss: 0.0149 - val_loss: 0.0130\n",
            "Epoch 109/150\n",
            "46/46 [==============================] - 0s 8ms/step - loss: 0.0153 - val_loss: 0.0130\n",
            "Epoch 110/150\n",
            "46/46 [==============================] - 0s 8ms/step - loss: 0.0158 - val_loss: 0.0133\n",
            "Epoch 111/150\n",
            "46/46 [==============================] - 0s 8ms/step - loss: 0.0156 - val_loss: 0.0132\n",
            "Epoch 112/150\n",
            "46/46 [==============================] - 0s 8ms/step - loss: 0.0159 - val_loss: 0.0133\n",
            "Epoch 113/150\n",
            "46/46 [==============================] - 0s 8ms/step - loss: 0.0155 - val_loss: 0.0139\n",
            "Epoch 114/150\n",
            "46/46 [==============================] - 0s 9ms/step - loss: 0.0161 - val_loss: 0.0145\n",
            "Epoch 115/150\n",
            "46/46 [==============================] - 0s 8ms/step - loss: 0.0155 - val_loss: 0.0129\n",
            "Epoch 116/150\n",
            "46/46 [==============================] - 0s 8ms/step - loss: 0.0156 - val_loss: 0.0147\n",
            "Epoch 117/150\n",
            "46/46 [==============================] - 0s 9ms/step - loss: 0.0155 - val_loss: 0.0128\n",
            "Epoch 118/150\n",
            "46/46 [==============================] - 0s 9ms/step - loss: 0.0153 - val_loss: 0.0129\n",
            "Epoch 119/150\n",
            "46/46 [==============================] - 0s 8ms/step - loss: 0.0147 - val_loss: 0.0129\n",
            "Epoch 120/150\n",
            "46/46 [==============================] - 0s 8ms/step - loss: 0.0174 - val_loss: 0.0156\n",
            "Epoch 121/150\n",
            "46/46 [==============================] - 0s 9ms/step - loss: 0.0157 - val_loss: 0.0136\n",
            "Epoch 122/150\n",
            "46/46 [==============================] - 0s 8ms/step - loss: 0.0150 - val_loss: 0.0129\n",
            "Epoch 123/150\n",
            "46/46 [==============================] - 0s 9ms/step - loss: 0.0150 - val_loss: 0.0141\n",
            "Epoch 124/150\n",
            "46/46 [==============================] - 0s 8ms/step - loss: 0.0154 - val_loss: 0.0132\n",
            "Epoch 125/150\n",
            "46/46 [==============================] - 0s 9ms/step - loss: 0.0149 - val_loss: 0.0129\n",
            "Epoch 126/150\n",
            "46/46 [==============================] - 0s 8ms/step - loss: 0.0146 - val_loss: 0.0131\n",
            "Epoch 127/150\n",
            "46/46 [==============================] - 0s 8ms/step - loss: 0.0153 - val_loss: 0.0129\n",
            "Epoch 128/150\n",
            "46/46 [==============================] - 0s 9ms/step - loss: 0.0159 - val_loss: 0.0167\n",
            "Epoch 129/150\n",
            "46/46 [==============================] - 0s 8ms/step - loss: 0.0150 - val_loss: 0.0131\n",
            "Epoch 130/150\n",
            "46/46 [==============================] - 0s 9ms/step - loss: 0.0154 - val_loss: 0.0130\n",
            "Epoch 131/150\n",
            "46/46 [==============================] - 0s 8ms/step - loss: 0.0153 - val_loss: 0.0135\n",
            "Epoch 132/150\n",
            "46/46 [==============================] - 0s 9ms/step - loss: 0.0164 - val_loss: 0.0142\n",
            "Epoch 133/150\n",
            "46/46 [==============================] - 0s 8ms/step - loss: 0.0152 - val_loss: 0.0129\n",
            "Epoch 134/150\n",
            "46/46 [==============================] - 0s 9ms/step - loss: 0.0148 - val_loss: 0.0149\n",
            "Epoch 135/150\n",
            "46/46 [==============================] - 0s 9ms/step - loss: 0.0155 - val_loss: 0.0128\n",
            "Epoch 136/150\n",
            "46/46 [==============================] - 0s 9ms/step - loss: 0.0148 - val_loss: 0.0128\n",
            "Epoch 137/150\n",
            "46/46 [==============================] - 0s 8ms/step - loss: 0.0148 - val_loss: 0.0127\n",
            "Epoch 138/150\n",
            "46/46 [==============================] - 0s 8ms/step - loss: 0.0157 - val_loss: 0.0130\n",
            "Epoch 139/150\n",
            "46/46 [==============================] - 0s 8ms/step - loss: 0.0151 - val_loss: 0.0149\n",
            "Epoch 140/150\n",
            "46/46 [==============================] - 0s 9ms/step - loss: 0.0149 - val_loss: 0.0127\n",
            "Epoch 141/150\n",
            "46/46 [==============================] - 0s 8ms/step - loss: 0.0150 - val_loss: 0.0133\n",
            "Epoch 142/150\n",
            "46/46 [==============================] - 0s 8ms/step - loss: 0.0155 - val_loss: 0.0139\n",
            "Epoch 143/150\n",
            "46/46 [==============================] - 0s 8ms/step - loss: 0.0157 - val_loss: 0.0146\n",
            "Epoch 144/150\n",
            "46/46 [==============================] - 0s 9ms/step - loss: 0.0156 - val_loss: 0.0136\n",
            "Epoch 145/150\n",
            "46/46 [==============================] - 0s 9ms/step - loss: 0.0151 - val_loss: 0.0130\n",
            "Epoch 146/150\n",
            "46/46 [==============================] - 0s 8ms/step - loss: 0.0150 - val_loss: 0.0130\n",
            "Epoch 147/150\n",
            "46/46 [==============================] - 0s 8ms/step - loss: 0.0147 - val_loss: 0.0143\n",
            "Epoch 148/150\n",
            "46/46 [==============================] - 0s 9ms/step - loss: 0.0154 - val_loss: 0.0135\n",
            "Epoch 149/150\n",
            "46/46 [==============================] - 0s 8ms/step - loss: 0.0153 - val_loss: 0.0131\n",
            "Epoch 150/150\n",
            "46/46 [==============================] - 0s 10ms/step - loss: 0.0151 - val_loss: 0.0134\n"
          ]
        }
      ],
      "source": [
        "historylstmncnn = lstmcnn.fit(X_train2, y_train2, epochs=50, validation_data=(X_test2, y_test2))"
      ]
    },
    {
      "cell_type": "code",
      "execution_count": null,
      "metadata": {
        "id": "LkywBFCtwOkW"
      },
      "outputs": [],
      "source": [
        "lstmcnn.save('cnn_lstm.h5')"
      ]
    },
    {
      "cell_type": "markdown",
      "metadata": {
        "id": "KpOWP0-v2j0V"
      },
      "source": [
        "### Evaluation"
      ]
    },
    {
      "cell_type": "code",
      "execution_count": null,
      "metadata": {
        "id": "0dQhOs6201QI"
      },
      "outputs": [],
      "source": [
        "cnn_train = lstmcnn.predict(X_train2)\n",
        "cnn_test = lstmcnn.predict(X_test2)\n",
        "\n",
        "cnn_train = scaler.inverse_transform(cnn_train)\n",
        "train_y = scaler.inverse_transform(y_train2)\n",
        "cnn_test = scaler.inverse_transform(cnn_test)\n",
        "test_y = scaler.inverse_transform(y_test2)"
      ]
    },
    {
      "cell_type": "code",
      "execution_count": null,
      "metadata": {
        "colab": {
          "base_uri": "https://localhost:8080/",
          "height": 337
        },
        "id": "4JU16Fp5tKTB",
        "outputId": "4c3207b8-ec4e-4f16-bf36-9cd2c923e972"
      },
      "outputs": [
        {
          "data": {
            "text/plain": [
              "[<matplotlib.lines.Line2D at 0x7f7a048fa890>]"
            ]
          },
          "execution_count": 68,
          "metadata": {},
          "output_type": "execute_result"
        },
        {
          "data": {
            "image/png": "[encoded data removed]",
            "text/plain": [
              "<Figure size 864x360 with 1 Axes>"
            ]
          },
          "metadata": {
            "needs_background": "light"
          },
          "output_type": "display_data"
        }
      ],
      "source": [
        "plt.figure(figsize=(12,5))\n",
        "plt.plot(historylstmncnn.history['loss'][:50])\n",
        "plt.plot(historylstmncnn.history['val_loss'][:50])"
      ]
    },
    {
      "cell_type": "code",
      "execution_count": null,
      "metadata": {
        "id": "M3z2UT5sEEAN"
      },
      "outputs": [],
      "source": [
        "def metrics_evaluation_regression(test, predict):\n",
        "  metrics = pd.DataFrame({\n",
        "      'MSE': [mean_squared_error(test, predict)],\n",
        "      'RMSE': [np.sqrt(mean_squared_error(test, predict))],\n",
        "      'MAE': [mean_absolute_error(test, predict)],\n",
        "      'MAPE': [mean_absolute_percentage_error(test, predict)]\n",
        "  })\n",
        "  return metrics "
      ]
    },
    {
      "cell_type": "code",
      "execution_count": null,
      "metadata": {
        "colab": {
          "base_uri": "https://localhost:8080/",
          "height": 81
        },
        "id": "FgryO7avuZ3B",
        "outputId": "be491e31-a77f-4783-b215-15e5fc7ced27"
      },
      "outputs": [
        {
          "data": {
            "text/html": [
              "\n",
              "  <div id=\"df-40f9c1b5-59c4-49fc-a1c3-eb38bd2a186b\">\n",
              "    <div class=\"colab-df-container\">\n",
              "      <div>\n",
              "<style scoped>\n",
              "    .dataframe tbody tr th:only-of-type {\n",
              "        vertical-align: middle;\n",
              "    }\n",
              "\n",
              "    .dataframe tbody tr th {\n",
              "        vertical-align: top;\n",
              "    }\n",
              "\n",
              "    .dataframe thead th {\n",
              "        text-align: right;\n",
              "    }\n",
              "</style>\n",
              "<table border=\"1\" class=\"dataframe\">\n",
              "  <thead>\n",
              "    <tr style=\"text-align: right;\">\n",
              "      <th></th>\n",
              "      <th>MSE</th>\n",
              "      <th>RMSE</th>\n",
              "      <th>MAE</th>\n",
              "      <th>MAPE</th>\n",
              "    </tr>\n",
              "  </thead>\n",
              "  <tbody>\n",
              "    <tr>\n",
              "      <th>0</th>\n",
              "      <td>20078.270683</td>\n",
              "      <td>141.697815</td>\n",
              "      <td>93.694942</td>\n",
              "      <td>0.009674</td>\n",
              "    </tr>\n",
              "  </tbody>\n",
              "</table>\n",
              "</div>\n",
              "      <button class=\"colab-df-convert\" onclick=\"convertToInteractive('df-40f9c1b5-59c4-49fc-a1c3-eb38bd2a186b')\"\n",
              "              title=\"Convert this dataframe to an interactive table.\"\n",
              "              style=\"display:none;\">\n",
              "        \n",
              "  <svg xmlns=\"http://www.w3.org/2000/svg\" height=\"24px\"viewBox=\"0 0 24 24\"\n",
              "       width=\"24px\">\n",
              "    <path d=\"M0 0h24v24H0V0z\" fill=\"none\"/>\n",
              "    <path d=\"M18.56 5.44l.94 2.06.94-2.06 2.06-.94-2.06-.94-.94-2.06-.94 2.06-2.06.94zm-11 1L8.5 8.5l.94-2.06 2.06-.94-2.06-.94L8.5 2.5l-.94 2.06-2.06.94zm10 10l.94 2.06.94-2.06 2.06-.94-2.06-.94-.94-2.06-.94 2.06-2.06.94z\"/><path d=\"M17.41 7.96l-1.37-1.37c-.4-.4-.92-.59-1.43-.59-.52 0-1.04.2-1.43.59L10.3 9.45l-7.72 7.72c-.78.78-.78 2.05 0 2.83L4 21.41c.39.39.9.59 1.41.59.51 0 1.02-.2 1.41-.59l7.78-7.78 2.81-2.81c.8-.78.8-2.07 0-2.86zM5.41 20L4 18.59l7.72-7.72 1.47 1.35L5.41 20z\"/>\n",
              "  </svg>\n",
              "      </button>\n",
              "      \n",
              "  <style>\n",
              "    .colab-df-container {\n",
              "      display:flex;\n",
              "      flex-wrap:wrap;\n",
              "      gap: 12px;\n",
              "    }\n",
              "\n",
              "    .colab-df-convert {\n",
              "      background-color: #E8F0FE;\n",
              "      border: none;\n",
              "      border-radius: 50%;\n",
              "      cursor: pointer;\n",
              "      display: none;\n",
              "      fill: #1967D2;\n",
              "      height: 32px;\n",
              "      padding: 0 0 0 0;\n",
              "      width: 32px;\n",
              "    }\n",
              "\n",
              "    .colab-df-convert:hover {\n",
              "      background-color: #E2EBFA;\n",
              "      box-shadow: 0px 1px 2px rgba(60, 64, 67, 0.3), 0px 1px 3px 1px rgba(60, 64, 67, 0.15);\n",
              "      fill: #174EA6;\n",
              "    }\n",
              "\n",
              "    [theme=dark] .colab-df-convert {\n",
              "      background-color: #3B4455;\n",
              "      fill: #D2E3FC;\n",
              "    }\n",
              "\n",
              "    [theme=dark] .colab-df-convert:hover {\n",
              "      background-color: #434B5C;\n",
              "      box-shadow: 0px 1px 3px 1px rgba(0, 0, 0, 0.15);\n",
              "      filter: drop-shadow(0px 1px 2px rgba(0, 0, 0, 0.3));\n",
              "      fill: #FFFFFF;\n",
              "    }\n",
              "  </style>\n",
              "\n",
              "      <script>\n",
              "        const buttonEl =\n",
              "          document.querySelector('#df-40f9c1b5-59c4-49fc-a1c3-eb38bd2a186b button.colab-df-convert');\n",
              "        buttonEl.style.display =\n",
              "          google.colab.kernel.accessAllowed ? 'block' : 'none';\n",
              "\n",
              "        async function convertToInteractive(key) {\n",
              "          const element = document.querySelector('#df-40f9c1b5-59c4-49fc-a1c3-eb38bd2a186b');\n",
              "          const dataTable =\n",
              "            await google.colab.kernel.invokeFunction('convertToInteractive',\n",
              "                                                     [key], {});\n",
              "          if (!dataTable) return;\n",
              "\n",
              "          const docLinkHtml = 'Like what you see? Visit the ' +\n",
              "            '<a target=\"_blank\" href=https://colab.research.google.com/notebooks/data_table.ipynb>data table notebook</a>'\n",
              "            + ' to learn more about interactive tables.';\n",
              "          element.innerHTML = '';\n",
              "          dataTable['output_type'] = 'display_data';\n",
              "          await google.colab.output.renderOutput(dataTable, element);\n",
              "          const docLink = document.createElement('div');\n",
              "          docLink.innerHTML = docLinkHtml;\n",
              "          element.appendChild(docLink);\n",
              "        }\n",
              "      </script>\n",
              "    </div>\n",
              "  </div>\n",
              "  "
            ],
            "text/plain": [
              "            MSE        RMSE        MAE      MAPE\n",
              "0  20078.270683  141.697815  93.694942  0.009674"
            ]
          },
          "execution_count": 72,
          "metadata": {},
          "output_type": "execute_result"
        }
      ],
      "source": [
        "metrics_evaluation_regression(train_y, cnn_train)"
      ]
    },
    {
      "cell_type": "code",
      "execution_count": null,
      "metadata": {
        "colab": {
          "base_uri": "https://localhost:8080/",
          "height": 81
        },
        "id": "zUwQ95jtvmqn",
        "outputId": "0ffcbea0-7f43-40e4-8b15-a6093c7884cd"
      },
      "outputs": [
        {
          "data": {
            "text/html": [
              "\n",
              "  <div id=\"df-c29e6fd9-d443-465c-88cc-a4115f901d4c\">\n",
              "    <div class=\"colab-df-container\">\n",
              "      <div>\n",
              "<style scoped>\n",
              "    .dataframe tbody tr th:only-of-type {\n",
              "        vertical-align: middle;\n",
              "    }\n",
              "\n",
              "    .dataframe tbody tr th {\n",
              "        vertical-align: top;\n",
              "    }\n",
              "\n",
              "    .dataframe thead th {\n",
              "        text-align: right;\n",
              "    }\n",
              "</style>\n",
              "<table border=\"1\" class=\"dataframe\">\n",
              "  <thead>\n",
              "    <tr style=\"text-align: right;\">\n",
              "      <th></th>\n",
              "      <th>MSE</th>\n",
              "      <th>RMSE</th>\n",
              "      <th>MAE</th>\n",
              "      <th>MAPE</th>\n",
              "    </tr>\n",
              "  </thead>\n",
              "  <tbody>\n",
              "    <tr>\n",
              "      <th>0</th>\n",
              "      <td>12760.899004</td>\n",
              "      <td>112.964149</td>\n",
              "      <td>74.496257</td>\n",
              "      <td>0.008924</td>\n",
              "    </tr>\n",
              "  </tbody>\n",
              "</table>\n",
              "</div>\n",
              "      <button class=\"colab-df-convert\" onclick=\"convertToInteractive('df-c29e6fd9-d443-465c-88cc-a4115f901d4c')\"\n",
              "              title=\"Convert this dataframe to an interactive table.\"\n",
              "              style=\"display:none;\">\n",
              "        \n",
              "  <svg xmlns=\"http://www.w3.org/2000/svg\" height=\"24px\"viewBox=\"0 0 24 24\"\n",
              "       width=\"24px\">\n",
              "    <path d=\"M0 0h24v24H0V0z\" fill=\"none\"/>\n",
              "    <path d=\"M18.56 5.44l.94 2.06.94-2.06 2.06-.94-2.06-.94-.94-2.06-.94 2.06-2.06.94zm-11 1L8.5 8.5l.94-2.06 2.06-.94-2.06-.94L8.5 2.5l-.94 2.06-2.06.94zm10 10l.94 2.06.94-2.06 2.06-.94-2.06-.94-.94-2.06-.94 2.06-2.06.94z\"/><path d=\"M17.41 7.96l-1.37-1.37c-.4-.4-.92-.59-1.43-.59-.52 0-1.04.2-1.43.59L10.3 9.45l-7.72 7.72c-.78.78-.78 2.05 0 2.83L4 21.41c.39.39.9.59 1.41.59.51 0 1.02-.2 1.41-.59l7.78-7.78 2.81-2.81c.8-.78.8-2.07 0-2.86zM5.41 20L4 18.59l7.72-7.72 1.47 1.35L5.41 20z\"/>\n",
              "  </svg>\n",
              "      </button>\n",
              "      \n",
              "  <style>\n",
              "    .colab-df-container {\n",
              "      display:flex;\n",
              "      flex-wrap:wrap;\n",
              "      gap: 12px;\n",
              "    }\n",
              "\n",
              "    .colab-df-convert {\n",
              "      background-color: #E8F0FE;\n",
              "      border: none;\n",
              "      border-radius: 50%;\n",
              "      cursor: pointer;\n",
              "      display: none;\n",
              "      fill: #1967D2;\n",
              "      height: 32px;\n",
              "      padding: 0 0 0 0;\n",
              "      width: 32px;\n",
              "    }\n",
              "\n",
              "    .colab-df-convert:hover {\n",
              "      background-color: #E2EBFA;\n",
              "      box-shadow: 0px 1px 2px rgba(60, 64, 67, 0.3), 0px 1px 3px 1px rgba(60, 64, 67, 0.15);\n",
              "      fill: #174EA6;\n",
              "    }\n",
              "\n",
              "    [theme=dark] .colab-df-convert {\n",
              "      background-color: #3B4455;\n",
              "      fill: #D2E3FC;\n",
              "    }\n",
              "\n",
              "    [theme=dark] .colab-df-convert:hover {\n",
              "      background-color: #434B5C;\n",
              "      box-shadow: 0px 1px 3px 1px rgba(0, 0, 0, 0.15);\n",
              "      filter: drop-shadow(0px 1px 2px rgba(0, 0, 0, 0.3));\n",
              "      fill: #FFFFFF;\n",
              "    }\n",
              "  </style>\n",
              "\n",
              "      <script>\n",
              "        const buttonEl =\n",
              "          document.querySelector('#df-c29e6fd9-d443-465c-88cc-a4115f901d4c button.colab-df-convert');\n",
              "        buttonEl.style.display =\n",
              "          google.colab.kernel.accessAllowed ? 'block' : 'none';\n",
              "\n",
              "        async function convertToInteractive(key) {\n",
              "          const element = document.querySelector('#df-c29e6fd9-d443-465c-88cc-a4115f901d4c');\n",
              "          const dataTable =\n",
              "            await google.colab.kernel.invokeFunction('convertToInteractive',\n",
              "                                                     [key], {});\n",
              "          if (!dataTable) return;\n",
              "\n",
              "          const docLinkHtml = 'Like what you see? Visit the ' +\n",
              "            '<a target=\"_blank\" href=https://colab.research.google.com/notebooks/data_table.ipynb>data table notebook</a>'\n",
              "            + ' to learn more about interactive tables.';\n",
              "          element.innerHTML = '';\n",
              "          dataTable['output_type'] = 'display_data';\n",
              "          await google.colab.output.renderOutput(dataTable, element);\n",
              "          const docLink = document.createElement('div');\n",
              "          docLink.innerHTML = docLinkHtml;\n",
              "          element.appendChild(docLink);\n",
              "        }\n",
              "      </script>\n",
              "    </div>\n",
              "  </div>\n",
              "  "
            ],
            "text/plain": [
              "            MSE        RMSE        MAE      MAPE\n",
              "0  12760.899004  112.964149  74.496257  0.008924"
            ]
          },
          "execution_count": 73,
          "metadata": {},
          "output_type": "execute_result"
        }
      ],
      "source": [
        "metrics_evaluation_regression(test_y, cnn_test)"
      ]
    },
    {
      "cell_type": "code",
      "execution_count": null,
      "metadata": {
        "colab": {
          "base_uri": "https://localhost:8080/",
          "height": 337
        },
        "id": "W9bgAMbwvByY",
        "outputId": "55a42914-6ece-4319-8b68-84fa505379a5"
      },
      "outputs": [
        {
          "data": {
            "text/plain": [
              "[<matplotlib.lines.Line2D at 0x7f7a049b7890>]"
            ]
          },
          "execution_count": 74,
          "metadata": {},
          "output_type": "execute_result"
        },
        {
          "data": {
            "image/png": "[encoded data removed]",
            "text/plain": [
              "<Figure size 864x360 with 1 Axes>"
            ]
          },
          "metadata": {
            "needs_background": "light"
          },
          "output_type": "display_data"
        }
      ],
      "source": [
        "plt.figure(figsize=(12,5))\n",
        "plt.plot(train_y)\n",
        "plt.plot(cnn_train)"
      ]
    },
    {
      "cell_type": "code",
      "execution_count": null,
      "metadata": {
        "colab": {
          "base_uri": "https://localhost:8080/",
          "height": 337
        },
        "id": "z6kL4WyzvaTQ",
        "outputId": "a9a425fd-a6d9-40ee-b78c-ab483ebe7e37"
      },
      "outputs": [
        {
          "data": {
            "text/plain": [
              "[<matplotlib.lines.Line2D at 0x7f7a0489ff10>]"
            ]
          },
          "execution_count": 75,
          "metadata": {},
          "output_type": "execute_result"
        },
        {
          "data": {
            "image/png": "[encoded data removed]",
            "text/plain": [
              "<Figure size 864x360 with 1 Axes>"
            ]
          },
          "metadata": {
            "needs_background": "light"
          },
          "output_type": "display_data"
        }
      ],
      "source": [
        "plt.figure(figsize=(12,5))\n",
        "plt.plot(test_y[:50])\n",
        "plt.plot(cnn_test[:50])"
      ]
    },
    {
      "cell_type": "markdown",
      "metadata": {
        "id": "FTmWcMQlIUNE"
      },
      "source": [
        "## BiLSTM"
      ]
    },
    {
      "cell_type": "markdown",
      "metadata": {
        "id": "2wSetkRLJNqo"
      },
      "source": [
        "### Model"
      ]
    },
    {
      "cell_type": "code",
      "execution_count": null,
      "metadata": {
        "id": "F7YhkdfxMbRV"
      },
      "outputs": [],
      "source": [
        "def bilstm_builder(hp):\n",
        "  model = Sequential()\n",
        "\n",
        "  # Tune the number of units in the first Dense layer\n",
        "  # Choose an optimal value between 32-512\n",
        "  hp_units_lstm = hp.Int('units_lstm', min_value=32, max_value=512, step=32)\n",
        "  model.add(Bidirectional(LSTM(hp_units_lstm, activation='relu', input_shape=(1, 7))))\n",
        "  model.add(Dense(1))\n",
        "\n",
        "  # Tune the learning rate for the optimizer\n",
        "  # Choose an optimal value from 0.01, 0.001, or 0.0001\n",
        "  hp_learning_rate = hp.Choice('learning_rate', values=[1e-2, 1e-3, 1e-4])\n",
        "\n",
        "  model.compile(optimizer=keras.optimizers.Adam(learning_rate=hp_learning_rate), loss='mae')\n",
        "\n",
        "  return model"
      ]
    },
    {
      "cell_type": "code",
      "execution_count": null,
      "metadata": {
        "id": "EJiL3HpeMbRX"
      },
      "outputs": [],
      "source": [
        "stop_early = tf.keras.callbacks.EarlyStopping(monitor='val_loss', patience=5)"
      ]
    },
    {
      "cell_type": "code",
      "execution_count": null,
      "metadata": {
        "colab": {
          "base_uri": "https://localhost:8080/"
        },
        "id": "F57a2UsxMbRY",
        "outputId": "b2f6f9a6-980b-434a-f434-34ebef77d8a7"
      },
      "outputs": [
        {
          "name": "stdout",
          "output_type": "stream",
          "text": [
            "Trial 9 Complete [00h 00m 45s]\n",
            "val_loss: 0.015861857682466507\n",
            "\n",
            "Best val_loss So Far: 0.015291950665414333\n",
            "Total elapsed time: 00h 14m 13s\n",
            "\n",
            "Search: Running Trial #10\n",
            "\n",
            "Value             |Best Value So Far |Hyperparameter\n",
            "480               |320               |units_lstm\n",
            "0.001             |0.01              |learning_rate\n",
            "\n",
            "Epoch 1/50\n",
            "37/37 [==============================] - 5s 44ms/step - loss: 0.1381 - val_loss: 0.0270\n",
            "Epoch 2/50\n",
            "37/37 [==============================] - 1s 32ms/step - loss: 0.0285 - val_loss: 0.0236\n",
            "Epoch 3/50\n",
            "37/37 [==============================] - 1s 32ms/step - loss: 0.0273 - val_loss: 0.0228\n",
            "Epoch 4/50\n",
            "37/37 [==============================] - 1s 32ms/step - loss: 0.0260 - val_loss: 0.0225\n",
            "Epoch 5/50\n",
            "37/37 [==============================] - 1s 31ms/step - loss: 0.0244 - val_loss: 0.0216\n",
            "Epoch 6/50\n",
            "37/37 [==============================] - 1s 32ms/step - loss: 0.0239 - val_loss: 0.0216\n",
            "Epoch 7/50\n",
            "37/37 [==============================] - 1s 30ms/step - loss: 0.0237 - val_loss: 0.0247\n",
            "Epoch 8/50\n",
            "37/37 [==============================] - 1s 30ms/step - loss: 0.0234 - val_loss: 0.0218\n",
            "Epoch 9/50\n",
            "37/37 [==============================] - 1s 32ms/step - loss: 0.0220 - val_loss: 0.0205\n",
            "Epoch 10/50\n",
            "37/37 [==============================] - 1s 32ms/step - loss: 0.0213 - val_loss: 0.0191\n",
            "Epoch 11/50\n",
            "37/37 [==============================] - 1s 30ms/step - loss: 0.0207 - val_loss: 0.0191\n",
            "Epoch 12/50\n",
            "37/37 [==============================] - 1s 32ms/step - loss: 0.0202 - val_loss: 0.0182\n",
            "Epoch 13/50\n",
            "37/37 [==============================] - 1s 30ms/step - loss: 0.0194 - val_loss: 0.0193\n",
            "Epoch 14/50\n",
            "37/37 [==============================] - 1s 33ms/step - loss: 0.0199 - val_loss: 0.0178\n",
            "Epoch 15/50\n",
            "37/37 [==============================] - 1s 31ms/step - loss: 0.0194 - val_loss: 0.0182\n",
            "Epoch 16/50\n",
            "37/37 [==============================] - 1s 31ms/step - loss: 0.0198 - val_loss: 0.0180\n",
            "Epoch 17/50\n",
            "37/37 [==============================] - 1s 33ms/step - loss: 0.0183 - val_loss: 0.0174\n",
            "Epoch 18/50\n",
            "37/37 [==============================] - 1s 31ms/step - loss: 0.0186 - val_loss: 0.0175\n",
            "Epoch 19/50\n",
            "37/37 [==============================] - 1s 32ms/step - loss: 0.0180 - val_loss: 0.0205\n",
            "Epoch 20/50\n",
            "37/37 [==============================] - 1s 31ms/step - loss: 0.0189 - val_loss: 0.0175\n",
            "Epoch 21/50\n",
            "37/37 [==============================] - 1s 31ms/step - loss: 0.0183 - val_loss: 0.0191\n",
            "Epoch 22/50\n",
            "37/37 [==============================] - 1s 32ms/step - loss: 0.0185 - val_loss: 0.0200\n",
            "Epoch 23/50\n",
            "37/37 [==============================] - 1s 32ms/step - loss: 0.0183 - val_loss: 0.0186\n",
            "Epoch 24/50\n",
            "37/37 [==============================] - 1s 31ms/step - loss: 0.0177 - val_loss: 0.0186\n",
            "Epoch 25/50\n",
            "37/37 [==============================] - 1s 31ms/step - loss: 0.0173 - val_loss: 0.0178\n",
            "Epoch 26/50\n",
            "37/37 [==============================] - 1s 33ms/step - loss: 0.0169 - val_loss: 0.0163\n",
            "Epoch 27/50\n",
            "37/37 [==============================] - 1s 31ms/step - loss: 0.0175 - val_loss: 0.0166\n",
            "Epoch 28/50\n",
            "37/37 [==============================] - 1s 31ms/step - loss: 0.0172 - val_loss: 0.0230\n",
            "Epoch 29/50\n",
            "37/37 [==============================] - 1s 31ms/step - loss: 0.0198 - val_loss: 0.0207\n",
            "Epoch 30/50\n",
            "37/37 [==============================] - 1s 31ms/step - loss: 0.0179 - val_loss: 0.0217\n",
            "Epoch 31/50\n",
            "37/37 [==============================] - 1s 31ms/step - loss: 0.0187 - val_loss: 0.0180\n",
            "Epoch 32/50\n",
            "37/37 [==============================] - 1s 31ms/step - loss: 0.0178 - val_loss: 0.0173\n",
            "Epoch 33/50\n",
            "37/37 [==============================] - 1s 31ms/step - loss: 0.0168 - val_loss: 0.0168\n",
            "Epoch 34/50\n",
            "37/37 [==============================] - 1s 32ms/step - loss: 0.0183 - val_loss: 0.0166\n",
            "Epoch 35/50\n",
            "37/37 [==============================] - 1s 30ms/step - loss: 0.0160 - val_loss: 0.0164\n",
            "Epoch 36/50\n",
            "37/37 [==============================] - 1s 29ms/step - loss: 0.0169 - val_loss: 0.0176\n",
            "Epoch 37/50\n",
            "37/37 [==============================] - 1s 32ms/step - loss: 0.0171 - val_loss: 0.0160\n",
            "Epoch 38/50\n",
            "37/37 [==============================] - 1s 32ms/step - loss: 0.0161 - val_loss: 0.0160\n",
            "Epoch 39/50\n",
            "37/37 [==============================] - 1s 31ms/step - loss: 0.0160 - val_loss: 0.0160\n",
            "Epoch 40/50\n",
            "37/37 [==============================] - 1s 32ms/step - loss: 0.0163 - val_loss: 0.0158\n",
            "Epoch 41/50\n",
            "37/37 [==============================] - 1s 31ms/step - loss: 0.0160 - val_loss: 0.0172\n",
            "Epoch 42/50\n",
            "37/37 [==============================] - 1s 33ms/step - loss: 0.0170 - val_loss: 0.0157\n",
            "Epoch 43/50\n",
            "37/37 [==============================] - 1s 31ms/step - loss: 0.0169 - val_loss: 0.0176\n",
            "Epoch 44/50\n",
            "37/37 [==============================] - 1s 31ms/step - loss: 0.0177 - val_loss: 0.0165\n",
            "Epoch 45/50\n",
            "37/37 [==============================] - 1s 31ms/step - loss: 0.0155 - val_loss: 0.0157\n",
            "Epoch 46/50\n",
            "37/37 [==============================] - 1s 34ms/step - loss: 0.0156 - val_loss: 0.0156\n",
            "Epoch 47/50\n",
            "37/37 [==============================] - 1s 31ms/step - loss: 0.0173 - val_loss: 0.0176\n",
            "Epoch 48/50\n",
            "37/37 [==============================] - 1s 31ms/step - loss: 0.0179 - val_loss: 0.0172\n",
            "Epoch 49/50\n",
            "37/37 [==============================] - 1s 31ms/step - loss: 0.0172 - val_loss: 0.0217\n",
            "Epoch 50/50\n",
            "37/37 [==============================] - 1s 31ms/step - loss: 0.0175 - val_loss: 0.0157\n",
            "Epoch 1/50\n",
            "37/37 [==============================] - 4s 41ms/step - loss: 0.1474 - val_loss: 0.0413\n",
            "Epoch 2/50\n",
            "37/37 [==============================] - 1s 31ms/step - loss: 0.0318 - val_loss: 0.0239\n",
            "Epoch 3/50\n",
            "37/37 [==============================] - 1s 31ms/step - loss: 0.0264 - val_loss: 0.0232\n",
            "Epoch 4/50\n",
            "37/37 [==============================] - 1s 31ms/step - loss: 0.0258 - val_loss: 0.0227\n",
            "Epoch 5/50\n",
            "37/37 [==============================] - 1s 30ms/step - loss: 0.0250 - val_loss: 0.0245\n",
            "Epoch 6/50\n",
            "37/37 [==============================] - 1s 31ms/step - loss: 0.0256 - val_loss: 0.0232\n",
            "Epoch 7/50\n",
            "37/37 [==============================] - 1s 30ms/step - loss: 0.0239 - val_loss: 0.0209\n",
            "Epoch 8/50\n",
            "37/37 [==============================] - 1s 30ms/step - loss: 0.0231 - val_loss: 0.0215\n",
            "Epoch 9/50\n",
            "37/37 [==============================] - 1s 30ms/step - loss: 0.0223 - val_loss: 0.0206\n",
            "Epoch 10/50\n",
            "37/37 [==============================] - 1s 32ms/step - loss: 0.0224 - val_loss: 0.0193\n",
            "Epoch 11/50\n",
            "37/37 [==============================] - 1s 32ms/step - loss: 0.0212 - val_loss: 0.0189\n",
            "Epoch 12/50\n",
            "37/37 [==============================] - 1s 32ms/step - loss: 0.0201 - val_loss: 0.0185\n",
            "Epoch 13/50\n",
            "37/37 [==============================] - 1s 31ms/step - loss: 0.0196 - val_loss: 0.0217\n",
            "Epoch 14/50\n",
            "37/37 [==============================] - 1s 31ms/step - loss: 0.0200 - val_loss: 0.0235\n",
            "Epoch 15/50\n",
            "37/37 [==============================] - 1s 31ms/step - loss: 0.0210 - val_loss: 0.0185\n",
            "Epoch 16/50\n",
            "37/37 [==============================] - 1s 31ms/step - loss: 0.0189 - val_loss: 0.0185\n",
            "Epoch 17/50\n",
            "37/37 [==============================] - 1s 31ms/step - loss: 0.0191 - val_loss: 0.0202\n",
            "Epoch 18/50\n",
            "37/37 [==============================] - 1s 31ms/step - loss: 0.0184 - val_loss: 0.0174\n",
            "Epoch 19/50\n",
            "37/37 [==============================] - 1s 32ms/step - loss: 0.0188 - val_loss: 0.0178\n",
            "Epoch 20/50\n",
            "37/37 [==============================] - 1s 32ms/step - loss: 0.0181 - val_loss: 0.0170\n",
            "Epoch 21/50\n",
            "37/37 [==============================] - 1s 31ms/step - loss: 0.0186 - val_loss: 0.0169\n",
            "Epoch 22/50\n",
            "37/37 [==============================] - 1s 31ms/step - loss: 0.0180 - val_loss: 0.0188\n",
            "Epoch 23/50\n",
            "37/37 [==============================] - 1s 31ms/step - loss: 0.0181 - val_loss: 0.0168\n",
            "Epoch 24/50\n",
            "37/37 [==============================] - 1s 31ms/step - loss: 0.0172 - val_loss: 0.0169\n",
            "Epoch 25/50\n",
            "37/37 [==============================] - 1s 31ms/step - loss: 0.0173 - val_loss: 0.0165\n",
            "Epoch 26/50\n",
            "37/37 [==============================] - 1s 30ms/step - loss: 0.0173 - val_loss: 0.0164\n",
            "Epoch 27/50\n",
            "37/37 [==============================] - 1s 31ms/step - loss: 0.0167 - val_loss: 0.0164\n",
            "Epoch 28/50\n",
            "37/37 [==============================] - 1s 30ms/step - loss: 0.0175 - val_loss: 0.0170\n",
            "Epoch 29/50\n",
            "37/37 [==============================] - 1s 31ms/step - loss: 0.0183 - val_loss: 0.0182\n",
            "Epoch 30/50\n",
            "37/37 [==============================] - 1s 31ms/step - loss: 0.0183 - val_loss: 0.0179\n",
            "Epoch 31/50\n",
            "37/37 [==============================] - 1s 31ms/step - loss: 0.0163 - val_loss: 0.0163\n",
            "Epoch 32/50\n",
            "37/37 [==============================] - 1s 31ms/step - loss: 0.0195 - val_loss: 0.0169\n",
            "Epoch 33/50\n",
            "37/37 [==============================] - 1s 31ms/step - loss: 0.0173 - val_loss: 0.0160\n",
            "Epoch 34/50\n",
            "27/37 [====================>.........] - ETA: 0s - loss: 0.0178"
          ]
        }
      ],
      "source": [
        "bilstmtuner = kt.RandomSearch(bilstm_builder,\n",
        "                     objective='val_loss',\n",
        "                     max_trials=10,\n",
        "                     seed=42,\n",
        "                     executions_per_trial=2,\n",
        "                     directory='icbp',\n",
        "                     project_name='bi-lstm'\n",
        "                    # # FOR TRAIN ONLY\n",
        "                    #  overwrite=True\n",
        "                    # # --------------\n",
        "                     )\n",
        "\n",
        "bilstmtuner.search(X_train, y_train, epochs=50, validation_split=0.2)\n",
        "\n",
        "# Get the optimal hyperparameters\n",
        "best_hps=bilstmtuner.get_best_hyperparameters(num_trials=1)[0]\n",
        "\n",
        "tuning = ['units_lstm', 'learning_rate']\n",
        "print('Best tune:')\n",
        "for tune in tuning:\n",
        "  print(f'{tune}: {best_hps.get(tune)}')"
      ]
    },
    {
      "cell_type": "code",
      "execution_count": null,
      "metadata": {
        "colab": {
          "base_uri": "https://localhost:8080/"
        },
        "id": "7ZuzeCfNMbRZ",
        "outputId": "1f88642c-195d-4455-d6da-94c83aaa736d"
      },
      "outputs": [
        {
          "name": "stdout",
          "output_type": "stream",
          "text": [
            "Results summary\n",
            "Results in icbp/bi-lstm\n",
            "Showing 10 best trials\n",
            "<keras_tuner.engine.objective.Objective object at 0x7fd03e96f790>\n",
            "Trial summary\n",
            "Hyperparameters:\n",
            "units_lstm: 320\n",
            "learning_rate: 0.01\n",
            "Score: 0.015291950665414333\n",
            "Trial summary\n",
            "Hyperparameters:\n",
            "units_lstm: 480\n",
            "learning_rate: 0.01\n",
            "Score: 0.015427079051733017\n",
            "Trial summary\n",
            "Hyperparameters:\n",
            "units_lstm: 288\n",
            "learning_rate: 0.01\n",
            "Score: 0.015436977613717318\n",
            "Trial summary\n",
            "Hyperparameters:\n",
            "units_lstm: 256\n",
            "learning_rate: 0.01\n",
            "Score: 0.015460789203643799\n",
            "Trial summary\n",
            "Hyperparameters:\n",
            "units_lstm: 448\n",
            "learning_rate: 0.001\n",
            "Score: 0.01550437742844224\n",
            "Trial summary\n",
            "Hyperparameters:\n",
            "units_lstm: 352\n",
            "learning_rate: 0.01\n",
            "Score: 0.015566359739750624\n",
            "Trial summary\n",
            "Hyperparameters:\n",
            "units_lstm: 480\n",
            "learning_rate: 0.001\n",
            "Score: 0.015573587734252214\n",
            "Trial summary\n",
            "Hyperparameters:\n",
            "units_lstm: 192\n",
            "learning_rate: 0.001\n",
            "Score: 0.015861857682466507\n",
            "Trial summary\n",
            "Hyperparameters:\n",
            "units_lstm: 224\n",
            "learning_rate: 0.001\n",
            "Score: 0.015939677134156227\n",
            "Trial summary\n",
            "Hyperparameters:\n",
            "units_lstm: 512\n",
            "learning_rate: 0.0001\n",
            "Score: 0.018648000434041023\n"
          ]
        }
      ],
      "source": [
        "bilstmtuner.results_summary(num_trials=10)"
      ]
    },
    {
      "cell_type": "code",
      "execution_count": null,
      "metadata": {
        "id": "hwsvYwz0MbRa"
      },
      "outputs": [],
      "source": [
        "best_hp = bilstmtuner.get_best_hyperparameters()[0]\n",
        "bilstm = bilstmtuner.hypermodel.build(best_hp)\n",
        "\n",
        "# bilstm.summary()"
      ]
    },
    {
      "cell_type": "code",
      "execution_count": null,
      "metadata": {
        "colab": {
          "base_uri": "https://localhost:8080/"
        },
        "id": "j0Ih7rpBMbRa",
        "outputId": "7114ce03-370b-47de-bb88-3de457c6eab9"
      },
      "outputs": [
        {
          "name": "stdout",
          "output_type": "stream",
          "text": [
            "Epoch 1/50\n",
            "46/46 - 4s - loss: 0.0793 - val_loss: 0.0265 - 4s/epoch - 84ms/step\n",
            "Epoch 2/50\n",
            "46/46 - 1s - loss: 0.0324 - val_loss: 0.0263 - 699ms/epoch - 15ms/step\n",
            "Epoch 3/50\n",
            "46/46 - 1s - loss: 0.0294 - val_loss: 0.0182 - 682ms/epoch - 15ms/step\n",
            "Epoch 4/50\n",
            "46/46 - 1s - loss: 0.0234 - val_loss: 0.0170 - 702ms/epoch - 15ms/step\n",
            "Epoch 5/50\n",
            "46/46 - 1s - loss: 0.0246 - val_loss: 0.0160 - 690ms/epoch - 15ms/step\n",
            "Epoch 6/50\n",
            "46/46 - 1s - loss: 0.0226 - val_loss: 0.0156 - 714ms/epoch - 16ms/step\n",
            "Epoch 7/50\n",
            "46/46 - 1s - loss: 0.0202 - val_loss: 0.0175 - 708ms/epoch - 15ms/step\n",
            "Epoch 8/50\n",
            "46/46 - 1s - loss: 0.0208 - val_loss: 0.0152 - 755ms/epoch - 16ms/step\n",
            "Epoch 9/50\n",
            "46/46 - 1s - loss: 0.0193 - val_loss: 0.0194 - 699ms/epoch - 15ms/step\n",
            "Epoch 10/50\n",
            "46/46 - 1s - loss: 0.0206 - val_loss: 0.0148 - 705ms/epoch - 15ms/step\n",
            "Epoch 11/50\n",
            "46/46 - 1s - loss: 0.0201 - val_loss: 0.0156 - 766ms/epoch - 17ms/step\n",
            "Epoch 12/50\n",
            "46/46 - 1s - loss: 0.0249 - val_loss: 0.0150 - 677ms/epoch - 15ms/step\n",
            "Epoch 13/50\n",
            "46/46 - 1s - loss: 0.0229 - val_loss: 0.0155 - 675ms/epoch - 15ms/step\n",
            "Epoch 14/50\n",
            "46/46 - 1s - loss: 0.0183 - val_loss: 0.0216 - 668ms/epoch - 15ms/step\n",
            "Epoch 15/50\n",
            "46/46 - 1s - loss: 0.0195 - val_loss: 0.0159 - 701ms/epoch - 15ms/step\n",
            "Epoch 16/50\n",
            "46/46 - 1s - loss: 0.0245 - val_loss: 0.0272 - 693ms/epoch - 15ms/step\n",
            "Epoch 17/50\n",
            "46/46 - 1s - loss: 0.0224 - val_loss: 0.0206 - 690ms/epoch - 15ms/step\n",
            "Epoch 18/50\n",
            "46/46 - 1s - loss: 0.0203 - val_loss: 0.0150 - 668ms/epoch - 15ms/step\n",
            "Epoch 19/50\n",
            "46/46 - 1s - loss: 0.0231 - val_loss: 0.0169 - 676ms/epoch - 15ms/step\n",
            "Epoch 20/50\n",
            "46/46 - 1s - loss: 0.0209 - val_loss: 0.0216 - 692ms/epoch - 15ms/step\n",
            "Epoch 21/50\n",
            "46/46 - 1s - loss: 0.0179 - val_loss: 0.0227 - 660ms/epoch - 14ms/step\n",
            "Epoch 22/50\n",
            "46/46 - 1s - loss: 0.0214 - val_loss: 0.0160 - 680ms/epoch - 15ms/step\n",
            "Epoch 23/50\n",
            "46/46 - 1s - loss: 0.0193 - val_loss: 0.0198 - 675ms/epoch - 15ms/step\n",
            "Epoch 24/50\n",
            "46/46 - 1s - loss: 0.0220 - val_loss: 0.0273 - 687ms/epoch - 15ms/step\n",
            "Epoch 25/50\n",
            "46/46 - 1s - loss: 0.0196 - val_loss: 0.0178 - 681ms/epoch - 15ms/step\n",
            "Epoch 26/50\n",
            "46/46 - 1s - loss: 0.0176 - val_loss: 0.0157 - 709ms/epoch - 15ms/step\n",
            "Epoch 27/50\n",
            "46/46 - 1s - loss: 0.0226 - val_loss: 0.0260 - 667ms/epoch - 15ms/step\n",
            "Epoch 28/50\n",
            "46/46 - 1s - loss: 0.0215 - val_loss: 0.0194 - 675ms/epoch - 15ms/step\n",
            "Epoch 29/50\n",
            "46/46 - 1s - loss: 0.0178 - val_loss: 0.0159 - 670ms/epoch - 15ms/step\n",
            "Epoch 30/50\n",
            "46/46 - 1s - loss: 0.0185 - val_loss: 0.0224 - 665ms/epoch - 14ms/step\n",
            "Epoch 31/50\n",
            "46/46 - 1s - loss: 0.0230 - val_loss: 0.0170 - 671ms/epoch - 15ms/step\n",
            "Epoch 32/50\n",
            "46/46 - 1s - loss: 0.0188 - val_loss: 0.0183 - 677ms/epoch - 15ms/step\n",
            "Epoch 33/50\n",
            "46/46 - 1s - loss: 0.0196 - val_loss: 0.0195 - 683ms/epoch - 15ms/step\n",
            "Epoch 34/50\n",
            "46/46 - 1s - loss: 0.0175 - val_loss: 0.0179 - 672ms/epoch - 15ms/step\n",
            "Epoch 35/50\n",
            "46/46 - 1s - loss: 0.0197 - val_loss: 0.0173 - 687ms/epoch - 15ms/step\n",
            "Epoch 36/50\n",
            "46/46 - 1s - loss: 0.0194 - val_loss: 0.0180 - 680ms/epoch - 15ms/step\n",
            "Epoch 37/50\n",
            "46/46 - 1s - loss: 0.0176 - val_loss: 0.0204 - 669ms/epoch - 15ms/step\n",
            "Epoch 38/50\n",
            "46/46 - 1s - loss: 0.0196 - val_loss: 0.0206 - 673ms/epoch - 15ms/step\n",
            "Epoch 39/50\n",
            "46/46 - 1s - loss: 0.0214 - val_loss: 0.0229 - 674ms/epoch - 15ms/step\n",
            "Epoch 40/50\n",
            "46/46 - 1s - loss: 0.0184 - val_loss: 0.0273 - 707ms/epoch - 15ms/step\n",
            "Epoch 41/50\n",
            "46/46 - 1s - loss: 0.0260 - val_loss: 0.0184 - 687ms/epoch - 15ms/step\n",
            "Epoch 42/50\n",
            "46/46 - 1s - loss: 0.0201 - val_loss: 0.0180 - 682ms/epoch - 15ms/step\n",
            "Epoch 43/50\n",
            "46/46 - 1s - loss: 0.0229 - val_loss: 0.0188 - 671ms/epoch - 15ms/step\n",
            "Epoch 44/50\n",
            "46/46 - 1s - loss: 0.0183 - val_loss: 0.0251 - 669ms/epoch - 15ms/step\n",
            "Epoch 45/50\n",
            "46/46 - 1s - loss: 0.0197 - val_loss: 0.0189 - 665ms/epoch - 14ms/step\n",
            "Epoch 46/50\n",
            "46/46 - 1s - loss: 0.0181 - val_loss: 0.0183 - 665ms/epoch - 14ms/step\n",
            "Epoch 47/50\n",
            "46/46 - 1s - loss: 0.0172 - val_loss: 0.0181 - 690ms/epoch - 15ms/step\n",
            "Epoch 48/50\n",
            "46/46 - 1s - loss: 0.0164 - val_loss: 0.0207 - 708ms/epoch - 15ms/step\n",
            "Epoch 49/50\n",
            "46/46 - 1s - loss: 0.0162 - val_loss: 0.0179 - 675ms/epoch - 15ms/step\n",
            "Epoch 50/50\n",
            "46/46 - 1s - loss: 0.0165 - val_loss: 0.0178 - 689ms/epoch - 15ms/step\n"
          ]
        }
      ],
      "source": [
        "historybilstm = bilstm.fit(X_train, y_train, \n",
        "                       epochs=50,\n",
        "                       validation_data=(X_test, y_test), \n",
        "                       verbose=2)"
      ]
    },
    {
      "cell_type": "code",
      "execution_count": null,
      "metadata": {
        "id": "rSDHZoJ5JPPD"
      },
      "outputs": [],
      "source": [
        "bilstm = Sequential()\n",
        "bilstm.add(Bidirectional(LSTM(4, input_shape=(1, 7))))\n",
        "bilstm.add(Dense(1))\n",
        "\n",
        "bilstm.compile(loss='mae', optimizer='adam')\n",
        "\n",
        "# bilstm.summary()"
      ]
    },
    {
      "cell_type": "code",
      "execution_count": null,
      "metadata": {
        "colab": {
          "base_uri": "https://localhost:8080/"
        },
        "id": "j0NKbxW9QsEz",
        "outputId": "29531c92-954c-48ed-8aab-93454cee6bc2"
      },
      "outputs": [
        {
          "name": "stdout",
          "output_type": "stream",
          "text": [
            "Epoch 1/50\n",
            "1453/1453 - 6s - loss: 0.0357 - val_loss: 0.0208 - 6s/epoch - 4ms/step\n",
            "Epoch 2/50\n",
            "1453/1453 - 2s - loss: 0.0250 - val_loss: 0.0221 - 2s/epoch - 1ms/step\n",
            "Epoch 3/50\n",
            "1453/1453 - 2s - loss: 0.0237 - val_loss: 0.0188 - 2s/epoch - 1ms/step\n",
            "Epoch 4/50\n",
            "1453/1453 - 5s - loss: 0.0223 - val_loss: 0.0191 - 5s/epoch - 4ms/step\n",
            "Epoch 5/50\n",
            "1453/1453 - 4s - loss: 0.0205 - val_loss: 0.0168 - 4s/epoch - 3ms/step\n",
            "Epoch 6/50\n",
            "1453/1453 - 4s - loss: 0.0198 - val_loss: 0.0200 - 4s/epoch - 3ms/step\n",
            "Epoch 7/50\n",
            "1453/1453 - 4s - loss: 0.0192 - val_loss: 0.0157 - 4s/epoch - 3ms/step\n",
            "Epoch 8/50\n",
            "1453/1453 - 4s - loss: 0.0187 - val_loss: 0.0150 - 4s/epoch - 3ms/step\n",
            "Epoch 9/50\n",
            "1453/1453 - 4s - loss: 0.0190 - val_loss: 0.0171 - 4s/epoch - 3ms/step\n",
            "Epoch 10/50\n",
            "1453/1453 - 3s - loss: 0.0185 - val_loss: 0.0171 - 3s/epoch - 2ms/step\n",
            "Epoch 11/50\n",
            "1453/1453 - 4s - loss: 0.0190 - val_loss: 0.0147 - 4s/epoch - 3ms/step\n",
            "Epoch 12/50\n",
            "1453/1453 - 3s - loss: 0.0182 - val_loss: 0.0162 - 3s/epoch - 2ms/step\n",
            "Epoch 13/50\n",
            "1453/1453 - 3s - loss: 0.0181 - val_loss: 0.0148 - 3s/epoch - 2ms/step\n",
            "Epoch 14/50\n",
            "1453/1453 - 2s - loss: 0.0183 - val_loss: 0.0164 - 2s/epoch - 1ms/step\n",
            "Epoch 15/50\n",
            "1453/1453 - 2s - loss: 0.0180 - val_loss: 0.0145 - 2s/epoch - 2ms/step\n",
            "Epoch 16/50\n",
            "1453/1453 - 2s - loss: 0.0179 - val_loss: 0.0151 - 2s/epoch - 1ms/step\n",
            "Epoch 17/50\n",
            "1453/1453 - 2s - loss: 0.0181 - val_loss: 0.0242 - 2s/epoch - 1ms/step\n",
            "Epoch 18/50\n",
            "1453/1453 - 2s - loss: 0.0175 - val_loss: 0.0144 - 2s/epoch - 1ms/step\n",
            "Epoch 19/50\n",
            "1453/1453 - 2s - loss: 0.0177 - val_loss: 0.0153 - 2s/epoch - 1ms/step\n",
            "Epoch 20/50\n",
            "1453/1453 - 2s - loss: 0.0178 - val_loss: 0.0158 - 2s/epoch - 1ms/step\n",
            "Epoch 21/50\n",
            "1453/1453 - 2s - loss: 0.0184 - val_loss: 0.0157 - 2s/epoch - 2ms/step\n",
            "Epoch 22/50\n",
            "1453/1453 - 3s - loss: 0.0174 - val_loss: 0.0143 - 3s/epoch - 2ms/step\n",
            "Epoch 23/50\n",
            "1453/1453 - 2s - loss: 0.0175 - val_loss: 0.0185 - 2s/epoch - 1ms/step\n",
            "Epoch 24/50\n",
            "1453/1453 - 2s - loss: 0.0173 - val_loss: 0.0144 - 2s/epoch - 1ms/step\n",
            "Epoch 25/50\n",
            "1453/1453 - 2s - loss: 0.0174 - val_loss: 0.0140 - 2s/epoch - 1ms/step\n",
            "Epoch 26/50\n",
            "1453/1453 - 2s - loss: 0.0172 - val_loss: 0.0145 - 2s/epoch - 1ms/step\n",
            "Epoch 27/50\n",
            "1453/1453 - 2s - loss: 0.0169 - val_loss: 0.0147 - 2s/epoch - 1ms/step\n",
            "Epoch 28/50\n",
            "1453/1453 - 2s - loss: 0.0172 - val_loss: 0.0190 - 2s/epoch - 1ms/step\n",
            "Epoch 29/50\n",
            "1453/1453 - 2s - loss: 0.0172 - val_loss: 0.0171 - 2s/epoch - 2ms/step\n",
            "Epoch 30/50\n",
            "1453/1453 - 2s - loss: 0.0168 - val_loss: 0.0157 - 2s/epoch - 1ms/step\n",
            "Epoch 31/50\n",
            "1453/1453 - 2s - loss: 0.0172 - val_loss: 0.0143 - 2s/epoch - 1ms/step\n",
            "Epoch 32/50\n",
            "1453/1453 - 2s - loss: 0.0172 - val_loss: 0.0148 - 2s/epoch - 1ms/step\n",
            "Epoch 33/50\n",
            "1453/1453 - 2s - loss: 0.0169 - val_loss: 0.0157 - 2s/epoch - 1ms/step\n",
            "Epoch 34/50\n",
            "1453/1453 - 2s - loss: 0.0169 - val_loss: 0.0142 - 2s/epoch - 1ms/step\n",
            "Epoch 35/50\n",
            "1453/1453 - 2s - loss: 0.0169 - val_loss: 0.0210 - 2s/epoch - 1ms/step\n",
            "Epoch 36/50\n",
            "1453/1453 - 2s - loss: 0.0168 - val_loss: 0.0177 - 2s/epoch - 1ms/step\n",
            "Epoch 37/50\n",
            "1453/1453 - 2s - loss: 0.0165 - val_loss: 0.0139 - 2s/epoch - 1ms/step\n",
            "Epoch 38/50\n",
            "1453/1453 - 2s - loss: 0.0165 - val_loss: 0.0134 - 2s/epoch - 1ms/step\n",
            "Epoch 39/50\n",
            "1453/1453 - 2s - loss: 0.0173 - val_loss: 0.0181 - 2s/epoch - 1ms/step\n",
            "Epoch 40/50\n",
            "1453/1453 - 2s - loss: 0.0167 - val_loss: 0.0137 - 2s/epoch - 1ms/step\n",
            "Epoch 41/50\n",
            "1453/1453 - 2s - loss: 0.0165 - val_loss: 0.0140 - 2s/epoch - 1ms/step\n",
            "Epoch 42/50\n",
            "1453/1453 - 2s - loss: 0.0164 - val_loss: 0.0132 - 2s/epoch - 1ms/step\n",
            "Epoch 43/50\n",
            "1453/1453 - 2s - loss: 0.0169 - val_loss: 0.0136 - 2s/epoch - 1ms/step\n",
            "Epoch 44/50\n",
            "1453/1453 - 2s - loss: 0.0169 - val_loss: 0.0131 - 2s/epoch - 2ms/step\n",
            "Epoch 45/50\n",
            "1453/1453 - 2s - loss: 0.0166 - val_loss: 0.0135 - 2s/epoch - 1ms/step\n",
            "Epoch 46/50\n",
            "1453/1453 - 3s - loss: 0.0165 - val_loss: 0.0133 - 3s/epoch - 2ms/step\n",
            "Epoch 47/50\n",
            "1453/1453 - 2s - loss: 0.0163 - val_loss: 0.0134 - 2s/epoch - 1ms/step\n",
            "Epoch 48/50\n",
            "1453/1453 - 2s - loss: 0.0165 - val_loss: 0.0134 - 2s/epoch - 1ms/step\n",
            "Epoch 49/50\n",
            "1453/1453 - 2s - loss: 0.0168 - val_loss: 0.0127 - 2s/epoch - 1ms/step\n",
            "Epoch 50/50\n",
            "1453/1453 - 2s - loss: 0.0164 - val_loss: 0.0130 - 2s/epoch - 1ms/step\n"
          ]
        }
      ],
      "source": [
        "historylstm = bilstm.fit(X_train, y_train, \n",
        "                       batch_size=1, \n",
        "                       epochs=50, \n",
        "                       validation_data=(X_test, y_test), \n",
        "                       verbose=2)"
      ]
    },
    {
      "cell_type": "code",
      "execution_count": null,
      "metadata": {
        "id": "KhESUum6wX8P"
      },
      "outputs": [],
      "source": [
        "bilstm.save('bi_lstm.h5')"
      ]
    },
    {
      "cell_type": "markdown",
      "metadata": {
        "id": "oICHK7HEZVwX"
      },
      "source": [
        "### Evaluation"
      ]
    },
    {
      "cell_type": "code",
      "execution_count": null,
      "metadata": {
        "id": "WtcvdcgpZYA5"
      },
      "outputs": [],
      "source": [
        "train_predict2 = bilstm.predict(X_train)\n",
        "test_predict2 = bilstm.predict(X_test)\n",
        "\n",
        "train_predict2 = scaler.inverse_transform(train_predict2)\n",
        "# train_y = scaler.inverse_transform([y_train])\n",
        "test_predict2 = scaler.inverse_transform(test_predict2)\n",
        "# test_y = scaler.inverse_transform([y_test])"
      ]
    },
    {
      "cell_type": "code",
      "execution_count": null,
      "metadata": {
        "id": "ux2I8tEmZYA5"
      },
      "outputs": [],
      "source": [
        "def metrics_evaluation_regression(test, predict):\n",
        "  metrics = pd.DataFrame({\n",
        "      'MSE': [mean_squared_error(test, predict)],\n",
        "      'RMSE': [np.sqrt(mean_squared_error(test, predict))],\n",
        "      'MAE': [mean_absolute_error(test, predict)],\n",
        "      'MAPE': [mean_absolute_percentage_error(test, predict)]\n",
        "  })\n",
        "  return metrics "
      ]
    },
    {
      "cell_type": "code",
      "execution_count": null,
      "metadata": {
        "colab": {
          "base_uri": "https://localhost:8080/",
          "height": 81
        },
        "id": "XnEqAcFRZYA6",
        "outputId": "9447d772-db70-4151-f324-2c03402ddbae"
      },
      "outputs": [
        {
          "data": {
            "text/html": [
              "\n",
              "  <div id=\"df-fae1eda5-ee4b-4837-88f6-a7d6be037929\">\n",
              "    <div class=\"colab-df-container\">\n",
              "      <div>\n",
              "<style scoped>\n",
              "    .dataframe tbody tr th:only-of-type {\n",
              "        vertical-align: middle;\n",
              "    }\n",
              "\n",
              "    .dataframe tbody tr th {\n",
              "        vertical-align: top;\n",
              "    }\n",
              "\n",
              "    .dataframe thead th {\n",
              "        text-align: right;\n",
              "    }\n",
              "</style>\n",
              "<table border=\"1\" class=\"dataframe\">\n",
              "  <thead>\n",
              "    <tr style=\"text-align: right;\">\n",
              "      <th></th>\n",
              "      <th>MSE</th>\n",
              "      <th>RMSE</th>\n",
              "      <th>MAE</th>\n",
              "      <th>MAPE</th>\n",
              "    </tr>\n",
              "  </thead>\n",
              "  <tbody>\n",
              "    <tr>\n",
              "      <th>0</th>\n",
              "      <td>17973.617383</td>\n",
              "      <td>134.06572</td>\n",
              "      <td>78.633088</td>\n",
              "      <td>0.008204</td>\n",
              "    </tr>\n",
              "  </tbody>\n",
              "</table>\n",
              "</div>\n",
              "      <button class=\"colab-df-convert\" onclick=\"convertToInteractive('df-fae1eda5-ee4b-4837-88f6-a7d6be037929')\"\n",
              "              title=\"Convert this dataframe to an interactive table.\"\n",
              "              style=\"display:none;\">\n",
              "        \n",
              "  <svg xmlns=\"http://www.w3.org/2000/svg\" height=\"24px\"viewBox=\"0 0 24 24\"\n",
              "       width=\"24px\">\n",
              "    <path d=\"M0 0h24v24H0V0z\" fill=\"none\"/>\n",
              "    <path d=\"M18.56 5.44l.94 2.06.94-2.06 2.06-.94-2.06-.94-.94-2.06-.94 2.06-2.06.94zm-11 1L8.5 8.5l.94-2.06 2.06-.94-2.06-.94L8.5 2.5l-.94 2.06-2.06.94zm10 10l.94 2.06.94-2.06 2.06-.94-2.06-.94-.94-2.06-.94 2.06-2.06.94z\"/><path d=\"M17.41 7.96l-1.37-1.37c-.4-.4-.92-.59-1.43-.59-.52 0-1.04.2-1.43.59L10.3 9.45l-7.72 7.72c-.78.78-.78 2.05 0 2.83L4 21.41c.39.39.9.59 1.41.59.51 0 1.02-.2 1.41-.59l7.78-7.78 2.81-2.81c.8-.78.8-2.07 0-2.86zM5.41 20L4 18.59l7.72-7.72 1.47 1.35L5.41 20z\"/>\n",
              "  </svg>\n",
              "      </button>\n",
              "      \n",
              "  <style>\n",
              "    .colab-df-container {\n",
              "      display:flex;\n",
              "      flex-wrap:wrap;\n",
              "      gap: 12px;\n",
              "    }\n",
              "\n",
              "    .colab-df-convert {\n",
              "      background-color: #E8F0FE;\n",
              "      border: none;\n",
              "      border-radius: 50%;\n",
              "      cursor: pointer;\n",
              "      display: none;\n",
              "      fill: #1967D2;\n",
              "      height: 32px;\n",
              "      padding: 0 0 0 0;\n",
              "      width: 32px;\n",
              "    }\n",
              "\n",
              "    .colab-df-convert:hover {\n",
              "      background-color: #E2EBFA;\n",
              "      box-shadow: 0px 1px 2px rgba(60, 64, 67, 0.3), 0px 1px 3px 1px rgba(60, 64, 67, 0.15);\n",
              "      fill: #174EA6;\n",
              "    }\n",
              "\n",
              "    [theme=dark] .colab-df-convert {\n",
              "      background-color: #3B4455;\n",
              "      fill: #D2E3FC;\n",
              "    }\n",
              "\n",
              "    [theme=dark] .colab-df-convert:hover {\n",
              "      background-color: #434B5C;\n",
              "      box-shadow: 0px 1px 3px 1px rgba(0, 0, 0, 0.15);\n",
              "      filter: drop-shadow(0px 1px 2px rgba(0, 0, 0, 0.3));\n",
              "      fill: #FFFFFF;\n",
              "    }\n",
              "  </style>\n",
              "\n",
              "      <script>\n",
              "        const buttonEl =\n",
              "          document.querySelector('#df-fae1eda5-ee4b-4837-88f6-a7d6be037929 button.colab-df-convert');\n",
              "        buttonEl.style.display =\n",
              "          google.colab.kernel.accessAllowed ? 'block' : 'none';\n",
              "\n",
              "        async function convertToInteractive(key) {\n",
              "          const element = document.querySelector('#df-fae1eda5-ee4b-4837-88f6-a7d6be037929');\n",
              "          const dataTable =\n",
              "            await google.colab.kernel.invokeFunction('convertToInteractive',\n",
              "                                                     [key], {});\n",
              "          if (!dataTable) return;\n",
              "\n",
              "          const docLinkHtml = 'Like what you see? Visit the ' +\n",
              "            '<a target=\"_blank\" href=https://colab.research.google.com/notebooks/data_table.ipynb>data table notebook</a>'\n",
              "            + ' to learn more about interactive tables.';\n",
              "          element.innerHTML = '';\n",
              "          dataTable['output_type'] = 'display_data';\n",
              "          await google.colab.output.renderOutput(dataTable, element);\n",
              "          const docLink = document.createElement('div');\n",
              "          docLink.innerHTML = docLinkHtml;\n",
              "          element.appendChild(docLink);\n",
              "        }\n",
              "      </script>\n",
              "    </div>\n",
              "  </div>\n",
              "  "
            ],
            "text/plain": [
              "            MSE       RMSE        MAE      MAPE\n",
              "0  17973.617383  134.06572  78.633088  0.008204"
            ]
          },
          "execution_count": 45,
          "metadata": {},
          "output_type": "execute_result"
        }
      ],
      "source": [
        "metrics_evaluation_regression(train_y[0], train_predict2)"
      ]
    },
    {
      "cell_type": "code",
      "execution_count": null,
      "metadata": {
        "colab": {
          "base_uri": "https://localhost:8080/",
          "height": 81
        },
        "id": "cmCU2RelZYA6",
        "outputId": "b85a5311-f58b-40e5-a5d0-75fafb123cba"
      },
      "outputs": [
        {
          "data": {
            "text/html": [
              "\n",
              "  <div id=\"df-74828a2d-652d-4897-b184-42a39a46707d\">\n",
              "    <div class=\"colab-df-container\">\n",
              "      <div>\n",
              "<style scoped>\n",
              "    .dataframe tbody tr th:only-of-type {\n",
              "        vertical-align: middle;\n",
              "    }\n",
              "\n",
              "    .dataframe tbody tr th {\n",
              "        vertical-align: top;\n",
              "    }\n",
              "\n",
              "    .dataframe thead th {\n",
              "        text-align: right;\n",
              "    }\n",
              "</style>\n",
              "<table border=\"1\" class=\"dataframe\">\n",
              "  <thead>\n",
              "    <tr style=\"text-align: right;\">\n",
              "      <th></th>\n",
              "      <th>MSE</th>\n",
              "      <th>RMSE</th>\n",
              "      <th>MAE</th>\n",
              "      <th>MAPE</th>\n",
              "    </tr>\n",
              "  </thead>\n",
              "  <tbody>\n",
              "    <tr>\n",
              "      <th>0</th>\n",
              "      <td>11413.950255</td>\n",
              "      <td>106.836091</td>\n",
              "      <td>67.162503</td>\n",
              "      <td>0.008017</td>\n",
              "    </tr>\n",
              "  </tbody>\n",
              "</table>\n",
              "</div>\n",
              "      <button class=\"colab-df-convert\" onclick=\"convertToInteractive('df-74828a2d-652d-4897-b184-42a39a46707d')\"\n",
              "              title=\"Convert this dataframe to an interactive table.\"\n",
              "              style=\"display:none;\">\n",
              "        \n",
              "  <svg xmlns=\"http://www.w3.org/2000/svg\" height=\"24px\"viewBox=\"0 0 24 24\"\n",
              "       width=\"24px\">\n",
              "    <path d=\"M0 0h24v24H0V0z\" fill=\"none\"/>\n",
              "    <path d=\"M18.56 5.44l.94 2.06.94-2.06 2.06-.94-2.06-.94-.94-2.06-.94 2.06-2.06.94zm-11 1L8.5 8.5l.94-2.06 2.06-.94-2.06-.94L8.5 2.5l-.94 2.06-2.06.94zm10 10l.94 2.06.94-2.06 2.06-.94-2.06-.94-.94-2.06-.94 2.06-2.06.94z\"/><path d=\"M17.41 7.96l-1.37-1.37c-.4-.4-.92-.59-1.43-.59-.52 0-1.04.2-1.43.59L10.3 9.45l-7.72 7.72c-.78.78-.78 2.05 0 2.83L4 21.41c.39.39.9.59 1.41.59.51 0 1.02-.2 1.41-.59l7.78-7.78 2.81-2.81c.8-.78.8-2.07 0-2.86zM5.41 20L4 18.59l7.72-7.72 1.47 1.35L5.41 20z\"/>\n",
              "  </svg>\n",
              "      </button>\n",
              "      \n",
              "  <style>\n",
              "    .colab-df-container {\n",
              "      display:flex;\n",
              "      flex-wrap:wrap;\n",
              "      gap: 12px;\n",
              "    }\n",
              "\n",
              "    .colab-df-convert {\n",
              "      background-color: #E8F0FE;\n",
              "      border: none;\n",
              "      border-radius: 50%;\n",
              "      cursor: pointer;\n",
              "      display: none;\n",
              "      fill: #1967D2;\n",
              "      height: 32px;\n",
              "      padding: 0 0 0 0;\n",
              "      width: 32px;\n",
              "    }\n",
              "\n",
              "    .colab-df-convert:hover {\n",
              "      background-color: #E2EBFA;\n",
              "      box-shadow: 0px 1px 2px rgba(60, 64, 67, 0.3), 0px 1px 3px 1px rgba(60, 64, 67, 0.15);\n",
              "      fill: #174EA6;\n",
              "    }\n",
              "\n",
              "    [theme=dark] .colab-df-convert {\n",
              "      background-color: #3B4455;\n",
              "      fill: #D2E3FC;\n",
              "    }\n",
              "\n",
              "    [theme=dark] .colab-df-convert:hover {\n",
              "      background-color: #434B5C;\n",
              "      box-shadow: 0px 1px 3px 1px rgba(0, 0, 0, 0.15);\n",
              "      filter: drop-shadow(0px 1px 2px rgba(0, 0, 0, 0.3));\n",
              "      fill: #FFFFFF;\n",
              "    }\n",
              "  </style>\n",
              "\n",
              "      <script>\n",
              "        const buttonEl =\n",
              "          document.querySelector('#df-74828a2d-652d-4897-b184-42a39a46707d button.colab-df-convert');\n",
              "        buttonEl.style.display =\n",
              "          google.colab.kernel.accessAllowed ? 'block' : 'none';\n",
              "\n",
              "        async function convertToInteractive(key) {\n",
              "          const element = document.querySelector('#df-74828a2d-652d-4897-b184-42a39a46707d');\n",
              "          const dataTable =\n",
              "            await google.colab.kernel.invokeFunction('convertToInteractive',\n",
              "                                                     [key], {});\n",
              "          if (!dataTable) return;\n",
              "\n",
              "          const docLinkHtml = 'Like what you see? Visit the ' +\n",
              "            '<a target=\"_blank\" href=https://colab.research.google.com/notebooks/data_table.ipynb>data table notebook</a>'\n",
              "            + ' to learn more about interactive tables.';\n",
              "          element.innerHTML = '';\n",
              "          dataTable['output_type'] = 'display_data';\n",
              "          await google.colab.output.renderOutput(dataTable, element);\n",
              "          const docLink = document.createElement('div');\n",
              "          docLink.innerHTML = docLinkHtml;\n",
              "          element.appendChild(docLink);\n",
              "        }\n",
              "      </script>\n",
              "    </div>\n",
              "  </div>\n",
              "  "
            ],
            "text/plain": [
              "            MSE        RMSE        MAE      MAPE\n",
              "0  11413.950255  106.836091  67.162503  0.008017"
            ]
          },
          "execution_count": 46,
          "metadata": {},
          "output_type": "execute_result"
        }
      ],
      "source": [
        "metrics_evaluation_regression(test_y[0], test_predict2)"
      ]
    },
    {
      "cell_type": "code",
      "execution_count": null,
      "metadata": {
        "colab": {
          "base_uri": "https://localhost:8080/",
          "height": 338
        },
        "id": "wkFi5kB5ZYA6",
        "outputId": "30ce516b-5e1d-4840-d07c-7d8e43b57e26"
      },
      "outputs": [
        {
          "data": {
            "text/plain": [
              "<matplotlib.legend.Legend at 0x7f3a7fca36d0>"
            ]
          },
          "execution_count": 47,
          "metadata": {},
          "output_type": "execute_result"
        },
        {
          "data": {
            "image/png": "[encoded data removed]",
            "text/plain": [
              "<Figure size 864x360 with 1 Axes>"
            ]
          },
          "metadata": {
            "needs_background": "light"
          },
          "output_type": "display_data"
        }
      ],
      "source": [
        "plt.figure(figsize=(12,5))\n",
        "plt.plot(train_y[0][:50])\n",
        "plt.plot(train_predict2[:50])\n",
        "plt.legend(['Data Aktual', 'Prediksi'])"
      ]
    },
    {
      "cell_type": "code",
      "execution_count": null,
      "metadata": {
        "colab": {
          "base_uri": "https://localhost:8080/",
          "height": 338
        },
        "id": "AXw9ldIuZYA7",
        "outputId": "67546ab1-6150-4653-ea44-4247db0d9514"
      },
      "outputs": [
        {
          "data": {
            "text/plain": [
              "<matplotlib.legend.Legend at 0x7f3a7fc47f50>"
            ]
          },
          "execution_count": 48,
          "metadata": {},
          "output_type": "execute_result"
        },
        {
          "data": {
            "image/png": "[encoded data removed]",
            "text/plain": [
              "<Figure size 864x360 with 1 Axes>"
            ]
          },
          "metadata": {
            "needs_background": "light"
          },
          "output_type": "display_data"
        }
      ],
      "source": [
        "plt.figure(figsize=(12,5))\n",
        "plt.plot(test_y[0][:50])\n",
        "plt.plot(test_predict2[:50])\n",
        "plt.legend(['Data Aktual', 'Prediksi'])"
      ]
    },
    {
      "cell_type": "markdown",
      "metadata": {
        "id": "qRT7hs6ew8tJ"
      },
      "source": [
        "# Perbandingan"
      ]
    },
    {
      "cell_type": "markdown",
      "metadata": {
        "id": "7ujyQqPJxBSP"
      },
      "source": [
        "## Vanilla"
      ]
    },
    {
      "cell_type": "code",
      "execution_count": null,
      "metadata": {
        "colab": {
          "base_uri": "https://localhost:8080/",
          "height": 81
        },
        "id": "fcY3HS7ixSzh",
        "outputId": "939d9351-0120-4814-e97c-0ea22ade33b2"
      },
      "outputs": [
        {
          "data": {
            "text/html": [
              "\n",
              "  <div id=\"df-d35f6e61-c9ef-4c4d-91a9-684d30c9b4f2\">\n",
              "    <div class=\"colab-df-container\">\n",
              "      <div>\n",
              "<style scoped>\n",
              "    .dataframe tbody tr th:only-of-type {\n",
              "        vertical-align: middle;\n",
              "    }\n",
              "\n",
              "    .dataframe tbody tr th {\n",
              "        vertical-align: top;\n",
              "    }\n",
              "\n",
              "    .dataframe thead th {\n",
              "        text-align: right;\n",
              "    }\n",
              "</style>\n",
              "<table border=\"1\" class=\"dataframe\">\n",
              "  <thead>\n",
              "    <tr style=\"text-align: right;\">\n",
              "      <th></th>\n",
              "      <th>MSE</th>\n",
              "      <th>RMSE</th>\n",
              "      <th>MAE</th>\n",
              "      <th>MAPE</th>\n",
              "    </tr>\n",
              "  </thead>\n",
              "  <tbody>\n",
              "    <tr>\n",
              "      <th>0</th>\n",
              "      <td>22317.417773</td>\n",
              "      <td>149.390153</td>\n",
              "      <td>100.44915</td>\n",
              "      <td>0.010407</td>\n",
              "    </tr>\n",
              "  </tbody>\n",
              "</table>\n",
              "</div>\n",
              "      <button class=\"colab-df-convert\" onclick=\"convertToInteractive('df-d35f6e61-c9ef-4c4d-91a9-684d30c9b4f2')\"\n",
              "              title=\"Convert this dataframe to an interactive table.\"\n",
              "              style=\"display:none;\">\n",
              "        \n",
              "  <svg xmlns=\"http://www.w3.org/2000/svg\" height=\"24px\"viewBox=\"0 0 24 24\"\n",
              "       width=\"24px\">\n",
              "    <path d=\"M0 0h24v24H0V0z\" fill=\"none\"/>\n",
              "    <path d=\"M18.56 5.44l.94 2.06.94-2.06 2.06-.94-2.06-.94-.94-2.06-.94 2.06-2.06.94zm-11 1L8.5 8.5l.94-2.06 2.06-.94-2.06-.94L8.5 2.5l-.94 2.06-2.06.94zm10 10l.94 2.06.94-2.06 2.06-.94-2.06-.94-.94-2.06-.94 2.06-2.06.94z\"/><path d=\"M17.41 7.96l-1.37-1.37c-.4-.4-.92-.59-1.43-.59-.52 0-1.04.2-1.43.59L10.3 9.45l-7.72 7.72c-.78.78-.78 2.05 0 2.83L4 21.41c.39.39.9.59 1.41.59.51 0 1.02-.2 1.41-.59l7.78-7.78 2.81-2.81c.8-.78.8-2.07 0-2.86zM5.41 20L4 18.59l7.72-7.72 1.47 1.35L5.41 20z\"/>\n",
              "  </svg>\n",
              "      </button>\n",
              "      \n",
              "  <style>\n",
              "    .colab-df-container {\n",
              "      display:flex;\n",
              "      flex-wrap:wrap;\n",
              "      gap: 12px;\n",
              "    }\n",
              "\n",
              "    .colab-df-convert {\n",
              "      background-color: #E8F0FE;\n",
              "      border: none;\n",
              "      border-radius: 50%;\n",
              "      cursor: pointer;\n",
              "      display: none;\n",
              "      fill: #1967D2;\n",
              "      height: 32px;\n",
              "      padding: 0 0 0 0;\n",
              "      width: 32px;\n",
              "    }\n",
              "\n",
              "    .colab-df-convert:hover {\n",
              "      background-color: #E2EBFA;\n",
              "      box-shadow: 0px 1px 2px rgba(60, 64, 67, 0.3), 0px 1px 3px 1px rgba(60, 64, 67, 0.15);\n",
              "      fill: #174EA6;\n",
              "    }\n",
              "\n",
              "    [theme=dark] .colab-df-convert {\n",
              "      background-color: #3B4455;\n",
              "      fill: #D2E3FC;\n",
              "    }\n",
              "\n",
              "    [theme=dark] .colab-df-convert:hover {\n",
              "      background-color: #434B5C;\n",
              "      box-shadow: 0px 1px 3px 1px rgba(0, 0, 0, 0.15);\n",
              "      filter: drop-shadow(0px 1px 2px rgba(0, 0, 0, 0.3));\n",
              "      fill: #FFFFFF;\n",
              "    }\n",
              "  </style>\n",
              "\n",
              "      <script>\n",
              "        const buttonEl =\n",
              "          document.querySelector('#df-d35f6e61-c9ef-4c4d-91a9-684d30c9b4f2 button.colab-df-convert');\n",
              "        buttonEl.style.display =\n",
              "          google.colab.kernel.accessAllowed ? 'block' : 'none';\n",
              "\n",
              "        async function convertToInteractive(key) {\n",
              "          const element = document.querySelector('#df-d35f6e61-c9ef-4c4d-91a9-684d30c9b4f2');\n",
              "          const dataTable =\n",
              "            await google.colab.kernel.invokeFunction('convertToInteractive',\n",
              "                                                     [key], {});\n",
              "          if (!dataTable) return;\n",
              "\n",
              "          const docLinkHtml = 'Like what you see? Visit the ' +\n",
              "            '<a target=\"_blank\" href=https://colab.research.google.com/notebooks/data_table.ipynb>data table notebook</a>'\n",
              "            + ' to learn more about interactive tables.';\n",
              "          element.innerHTML = '';\n",
              "          dataTable['output_type'] = 'display_data';\n",
              "          await google.colab.output.renderOutput(dataTable, element);\n",
              "          const docLink = document.createElement('div');\n",
              "          docLink.innerHTML = docLinkHtml;\n",
              "          element.appendChild(docLink);\n",
              "        }\n",
              "      </script>\n",
              "    </div>\n",
              "  </div>\n",
              "  "
            ],
            "text/plain": [
              "            MSE        RMSE        MAE      MAPE\n",
              "0  22317.417773  149.390153  100.44915  0.010407"
            ]
          },
          "execution_count": 24,
          "metadata": {},
          "output_type": "execute_result"
        }
      ],
      "source": [
        "metrics_evaluation_regression(train_y[0], train_predict)"
      ]
    },
    {
      "cell_type": "code",
      "execution_count": null,
      "metadata": {
        "colab": {
          "base_uri": "https://localhost:8080/",
          "height": 81
        },
        "id": "DAFihYQxxSzi",
        "outputId": "c75f9853-2621-40a2-e53b-4b8bbb874d34"
      },
      "outputs": [
        {
          "data": {
            "text/html": [
              "\n",
              "  <div id=\"df-3bf8813d-ba62-43d3-83ab-bc8abde9e28a\">\n",
              "    <div class=\"colab-df-container\">\n",
              "      <div>\n",
              "<style scoped>\n",
              "    .dataframe tbody tr th:only-of-type {\n",
              "        vertical-align: middle;\n",
              "    }\n",
              "\n",
              "    .dataframe tbody tr th {\n",
              "        vertical-align: top;\n",
              "    }\n",
              "\n",
              "    .dataframe thead th {\n",
              "        text-align: right;\n",
              "    }\n",
              "</style>\n",
              "<table border=\"1\" class=\"dataframe\">\n",
              "  <thead>\n",
              "    <tr style=\"text-align: right;\">\n",
              "      <th></th>\n",
              "      <th>MSE</th>\n",
              "      <th>RMSE</th>\n",
              "      <th>MAE</th>\n",
              "      <th>MAPE</th>\n",
              "    </tr>\n",
              "  </thead>\n",
              "  <tbody>\n",
              "    <tr>\n",
              "      <th>0</th>\n",
              "      <td>14976.625376</td>\n",
              "      <td>122.379023</td>\n",
              "      <td>87.167432</td>\n",
              "      <td>0.010493</td>\n",
              "    </tr>\n",
              "  </tbody>\n",
              "</table>\n",
              "</div>\n",
              "      <button class=\"colab-df-convert\" onclick=\"convertToInteractive('df-3bf8813d-ba62-43d3-83ab-bc8abde9e28a')\"\n",
              "              title=\"Convert this dataframe to an interactive table.\"\n",
              "              style=\"display:none;\">\n",
              "        \n",
              "  <svg xmlns=\"http://www.w3.org/2000/svg\" height=\"24px\"viewBox=\"0 0 24 24\"\n",
              "       width=\"24px\">\n",
              "    <path d=\"M0 0h24v24H0V0z\" fill=\"none\"/>\n",
              "    <path d=\"M18.56 5.44l.94 2.06.94-2.06 2.06-.94-2.06-.94-.94-2.06-.94 2.06-2.06.94zm-11 1L8.5 8.5l.94-2.06 2.06-.94-2.06-.94L8.5 2.5l-.94 2.06-2.06.94zm10 10l.94 2.06.94-2.06 2.06-.94-2.06-.94-.94-2.06-.94 2.06-2.06.94z\"/><path d=\"M17.41 7.96l-1.37-1.37c-.4-.4-.92-.59-1.43-.59-.52 0-1.04.2-1.43.59L10.3 9.45l-7.72 7.72c-.78.78-.78 2.05 0 2.83L4 21.41c.39.39.9.59 1.41.59.51 0 1.02-.2 1.41-.59l7.78-7.78 2.81-2.81c.8-.78.8-2.07 0-2.86zM5.41 20L4 18.59l7.72-7.72 1.47 1.35L5.41 20z\"/>\n",
              "  </svg>\n",
              "      </button>\n",
              "      \n",
              "  <style>\n",
              "    .colab-df-container {\n",
              "      display:flex;\n",
              "      flex-wrap:wrap;\n",
              "      gap: 12px;\n",
              "    }\n",
              "\n",
              "    .colab-df-convert {\n",
              "      background-color: #E8F0FE;\n",
              "      border: none;\n",
              "      border-radius: 50%;\n",
              "      cursor: pointer;\n",
              "      display: none;\n",
              "      fill: #1967D2;\n",
              "      height: 32px;\n",
              "      padding: 0 0 0 0;\n",
              "      width: 32px;\n",
              "    }\n",
              "\n",
              "    .colab-df-convert:hover {\n",
              "      background-color: #E2EBFA;\n",
              "      box-shadow: 0px 1px 2px rgba(60, 64, 67, 0.3), 0px 1px 3px 1px rgba(60, 64, 67, 0.15);\n",
              "      fill: #174EA6;\n",
              "    }\n",
              "\n",
              "    [theme=dark] .colab-df-convert {\n",
              "      background-color: #3B4455;\n",
              "      fill: #D2E3FC;\n",
              "    }\n",
              "\n",
              "    [theme=dark] .colab-df-convert:hover {\n",
              "      background-color: #434B5C;\n",
              "      box-shadow: 0px 1px 3px 1px rgba(0, 0, 0, 0.15);\n",
              "      filter: drop-shadow(0px 1px 2px rgba(0, 0, 0, 0.3));\n",
              "      fill: #FFFFFF;\n",
              "    }\n",
              "  </style>\n",
              "\n",
              "      <script>\n",
              "        const buttonEl =\n",
              "          document.querySelector('#df-3bf8813d-ba62-43d3-83ab-bc8abde9e28a button.colab-df-convert');\n",
              "        buttonEl.style.display =\n",
              "          google.colab.kernel.accessAllowed ? 'block' : 'none';\n",
              "\n",
              "        async function convertToInteractive(key) {\n",
              "          const element = document.querySelector('#df-3bf8813d-ba62-43d3-83ab-bc8abde9e28a');\n",
              "          const dataTable =\n",
              "            await google.colab.kernel.invokeFunction('convertToInteractive',\n",
              "                                                     [key], {});\n",
              "          if (!dataTable) return;\n",
              "\n",
              "          const docLinkHtml = 'Like what you see? Visit the ' +\n",
              "            '<a target=\"_blank\" href=https://colab.research.google.com/notebooks/data_table.ipynb>data table notebook</a>'\n",
              "            + ' to learn more about interactive tables.';\n",
              "          element.innerHTML = '';\n",
              "          dataTable['output_type'] = 'display_data';\n",
              "          await google.colab.output.renderOutput(dataTable, element);\n",
              "          const docLink = document.createElement('div');\n",
              "          docLink.innerHTML = docLinkHtml;\n",
              "          element.appendChild(docLink);\n",
              "        }\n",
              "      </script>\n",
              "    </div>\n",
              "  </div>\n",
              "  "
            ],
            "text/plain": [
              "            MSE        RMSE        MAE      MAPE\n",
              "0  14976.625376  122.379023  87.167432  0.010493"
            ]
          },
          "execution_count": 25,
          "metadata": {},
          "output_type": "execute_result"
        }
      ],
      "source": [
        "metrics_evaluation_regression(test_y[0], test_predict)"
      ]
    },
    {
      "cell_type": "markdown",
      "metadata": {
        "id": "qwXetGdBxFIf"
      },
      "source": [
        "## CNN-LSTM"
      ]
    },
    {
      "cell_type": "code",
      "execution_count": null,
      "metadata": {
        "colab": {
          "base_uri": "https://localhost:8080/",
          "height": 81
        },
        "id": "BX9c7hJRxQYI",
        "outputId": "7900d6ea-07fd-422a-8ec5-72f7a709f4be"
      },
      "outputs": [
        {
          "data": {
            "text/html": [
              "\n",
              "  <div id=\"df-bd035dd3-c494-45c2-a555-a1923282fce4\">\n",
              "    <div class=\"colab-df-container\">\n",
              "      <div>\n",
              "<style scoped>\n",
              "    .dataframe tbody tr th:only-of-type {\n",
              "        vertical-align: middle;\n",
              "    }\n",
              "\n",
              "    .dataframe tbody tr th {\n",
              "        vertical-align: top;\n",
              "    }\n",
              "\n",
              "    .dataframe thead th {\n",
              "        text-align: right;\n",
              "    }\n",
              "</style>\n",
              "<table border=\"1\" class=\"dataframe\">\n",
              "  <thead>\n",
              "    <tr style=\"text-align: right;\">\n",
              "      <th></th>\n",
              "      <th>MSE</th>\n",
              "      <th>RMSE</th>\n",
              "      <th>MAE</th>\n",
              "      <th>MAPE</th>\n",
              "    </tr>\n",
              "  </thead>\n",
              "  <tbody>\n",
              "    <tr>\n",
              "      <th>0</th>\n",
              "      <td>19680.56353</td>\n",
              "      <td>140.287432</td>\n",
              "      <td>84.143688</td>\n",
              "      <td>0.008833</td>\n",
              "    </tr>\n",
              "  </tbody>\n",
              "</table>\n",
              "</div>\n",
              "      <button class=\"colab-df-convert\" onclick=\"convertToInteractive('df-bd035dd3-c494-45c2-a555-a1923282fce4')\"\n",
              "              title=\"Convert this dataframe to an interactive table.\"\n",
              "              style=\"display:none;\">\n",
              "        \n",
              "  <svg xmlns=\"http://www.w3.org/2000/svg\" height=\"24px\"viewBox=\"0 0 24 24\"\n",
              "       width=\"24px\">\n",
              "    <path d=\"M0 0h24v24H0V0z\" fill=\"none\"/>\n",
              "    <path d=\"M18.56 5.44l.94 2.06.94-2.06 2.06-.94-2.06-.94-.94-2.06-.94 2.06-2.06.94zm-11 1L8.5 8.5l.94-2.06 2.06-.94-2.06-.94L8.5 2.5l-.94 2.06-2.06.94zm10 10l.94 2.06.94-2.06 2.06-.94-2.06-.94-.94-2.06-.94 2.06-2.06.94z\"/><path d=\"M17.41 7.96l-1.37-1.37c-.4-.4-.92-.59-1.43-.59-.52 0-1.04.2-1.43.59L10.3 9.45l-7.72 7.72c-.78.78-.78 2.05 0 2.83L4 21.41c.39.39.9.59 1.41.59.51 0 1.02-.2 1.41-.59l7.78-7.78 2.81-2.81c.8-.78.8-2.07 0-2.86zM5.41 20L4 18.59l7.72-7.72 1.47 1.35L5.41 20z\"/>\n",
              "  </svg>\n",
              "      </button>\n",
              "      \n",
              "  <style>\n",
              "    .colab-df-container {\n",
              "      display:flex;\n",
              "      flex-wrap:wrap;\n",
              "      gap: 12px;\n",
              "    }\n",
              "\n",
              "    .colab-df-convert {\n",
              "      background-color: #E8F0FE;\n",
              "      border: none;\n",
              "      border-radius: 50%;\n",
              "      cursor: pointer;\n",
              "      display: none;\n",
              "      fill: #1967D2;\n",
              "      height: 32px;\n",
              "      padding: 0 0 0 0;\n",
              "      width: 32px;\n",
              "    }\n",
              "\n",
              "    .colab-df-convert:hover {\n",
              "      background-color: #E2EBFA;\n",
              "      box-shadow: 0px 1px 2px rgba(60, 64, 67, 0.3), 0px 1px 3px 1px rgba(60, 64, 67, 0.15);\n",
              "      fill: #174EA6;\n",
              "    }\n",
              "\n",
              "    [theme=dark] .colab-df-convert {\n",
              "      background-color: #3B4455;\n",
              "      fill: #D2E3FC;\n",
              "    }\n",
              "\n",
              "    [theme=dark] .colab-df-convert:hover {\n",
              "      background-color: #434B5C;\n",
              "      box-shadow: 0px 1px 3px 1px rgba(0, 0, 0, 0.15);\n",
              "      filter: drop-shadow(0px 1px 2px rgba(0, 0, 0, 0.3));\n",
              "      fill: #FFFFFF;\n",
              "    }\n",
              "  </style>\n",
              "\n",
              "      <script>\n",
              "        const buttonEl =\n",
              "          document.querySelector('#df-bd035dd3-c494-45c2-a555-a1923282fce4 button.colab-df-convert');\n",
              "        buttonEl.style.display =\n",
              "          google.colab.kernel.accessAllowed ? 'block' : 'none';\n",
              "\n",
              "        async function convertToInteractive(key) {\n",
              "          const element = document.querySelector('#df-bd035dd3-c494-45c2-a555-a1923282fce4');\n",
              "          const dataTable =\n",
              "            await google.colab.kernel.invokeFunction('convertToInteractive',\n",
              "                                                     [key], {});\n",
              "          if (!dataTable) return;\n",
              "\n",
              "          const docLinkHtml = 'Like what you see? Visit the ' +\n",
              "            '<a target=\"_blank\" href=https://colab.research.google.com/notebooks/data_table.ipynb>data table notebook</a>'\n",
              "            + ' to learn more about interactive tables.';\n",
              "          element.innerHTML = '';\n",
              "          dataTable['output_type'] = 'display_data';\n",
              "          await google.colab.output.renderOutput(dataTable, element);\n",
              "          const docLink = document.createElement('div');\n",
              "          docLink.innerHTML = docLinkHtml;\n",
              "          element.appendChild(docLink);\n",
              "        }\n",
              "      </script>\n",
              "    </div>\n",
              "  </div>\n",
              "  "
            ],
            "text/plain": [
              "           MSE        RMSE        MAE      MAPE\n",
              "0  19680.56353  140.287432  84.143688  0.008833"
            ]
          },
          "execution_count": 38,
          "metadata": {},
          "output_type": "execute_result"
        }
      ],
      "source": [
        "metrics_evaluation_regression(y_train2, lstmcnn.predict(X_train2))"
      ]
    },
    {
      "cell_type": "code",
      "execution_count": null,
      "metadata": {
        "colab": {
          "base_uri": "https://localhost:8080/",
          "height": 81
        },
        "id": "-MhY3C1CxQYQ",
        "outputId": "802bc49f-99a4-46d4-91ac-edbc2d1627e2"
      },
      "outputs": [
        {
          "data": {
            "text/html": [
              "\n",
              "  <div id=\"df-cf127efa-3b31-4e65-8e74-17b752cc454b\">\n",
              "    <div class=\"colab-df-container\">\n",
              "      <div>\n",
              "<style scoped>\n",
              "    .dataframe tbody tr th:only-of-type {\n",
              "        vertical-align: middle;\n",
              "    }\n",
              "\n",
              "    .dataframe tbody tr th {\n",
              "        vertical-align: top;\n",
              "    }\n",
              "\n",
              "    .dataframe thead th {\n",
              "        text-align: right;\n",
              "    }\n",
              "</style>\n",
              "<table border=\"1\" class=\"dataframe\">\n",
              "  <thead>\n",
              "    <tr style=\"text-align: right;\">\n",
              "      <th></th>\n",
              "      <th>MSE</th>\n",
              "      <th>RMSE</th>\n",
              "      <th>MAE</th>\n",
              "      <th>MAPE</th>\n",
              "    </tr>\n",
              "  </thead>\n",
              "  <tbody>\n",
              "    <tr>\n",
              "      <th>0</th>\n",
              "      <td>11903.910186</td>\n",
              "      <td>109.105042</td>\n",
              "      <td>71.649232</td>\n",
              "      <td>0.008518</td>\n",
              "    </tr>\n",
              "  </tbody>\n",
              "</table>\n",
              "</div>\n",
              "      <button class=\"colab-df-convert\" onclick=\"convertToInteractive('df-cf127efa-3b31-4e65-8e74-17b752cc454b')\"\n",
              "              title=\"Convert this dataframe to an interactive table.\"\n",
              "              style=\"display:none;\">\n",
              "        \n",
              "  <svg xmlns=\"http://www.w3.org/2000/svg\" height=\"24px\"viewBox=\"0 0 24 24\"\n",
              "       width=\"24px\">\n",
              "    <path d=\"M0 0h24v24H0V0z\" fill=\"none\"/>\n",
              "    <path d=\"M18.56 5.44l.94 2.06.94-2.06 2.06-.94-2.06-.94-.94-2.06-.94 2.06-2.06.94zm-11 1L8.5 8.5l.94-2.06 2.06-.94-2.06-.94L8.5 2.5l-.94 2.06-2.06.94zm10 10l.94 2.06.94-2.06 2.06-.94-2.06-.94-.94-2.06-.94 2.06-2.06.94z\"/><path d=\"M17.41 7.96l-1.37-1.37c-.4-.4-.92-.59-1.43-.59-.52 0-1.04.2-1.43.59L10.3 9.45l-7.72 7.72c-.78.78-.78 2.05 0 2.83L4 21.41c.39.39.9.59 1.41.59.51 0 1.02-.2 1.41-.59l7.78-7.78 2.81-2.81c.8-.78.8-2.07 0-2.86zM5.41 20L4 18.59l7.72-7.72 1.47 1.35L5.41 20z\"/>\n",
              "  </svg>\n",
              "      </button>\n",
              "      \n",
              "  <style>\n",
              "    .colab-df-container {\n",
              "      display:flex;\n",
              "      flex-wrap:wrap;\n",
              "      gap: 12px;\n",
              "    }\n",
              "\n",
              "    .colab-df-convert {\n",
              "      background-color: #E8F0FE;\n",
              "      border: none;\n",
              "      border-radius: 50%;\n",
              "      cursor: pointer;\n",
              "      display: none;\n",
              "      fill: #1967D2;\n",
              "      height: 32px;\n",
              "      padding: 0 0 0 0;\n",
              "      width: 32px;\n",
              "    }\n",
              "\n",
              "    .colab-df-convert:hover {\n",
              "      background-color: #E2EBFA;\n",
              "      box-shadow: 0px 1px 2px rgba(60, 64, 67, 0.3), 0px 1px 3px 1px rgba(60, 64, 67, 0.15);\n",
              "      fill: #174EA6;\n",
              "    }\n",
              "\n",
              "    [theme=dark] .colab-df-convert {\n",
              "      background-color: #3B4455;\n",
              "      fill: #D2E3FC;\n",
              "    }\n",
              "\n",
              "    [theme=dark] .colab-df-convert:hover {\n",
              "      background-color: #434B5C;\n",
              "      box-shadow: 0px 1px 3px 1px rgba(0, 0, 0, 0.15);\n",
              "      filter: drop-shadow(0px 1px 2px rgba(0, 0, 0, 0.3));\n",
              "      fill: #FFFFFF;\n",
              "    }\n",
              "  </style>\n",
              "\n",
              "      <script>\n",
              "        const buttonEl =\n",
              "          document.querySelector('#df-cf127efa-3b31-4e65-8e74-17b752cc454b button.colab-df-convert');\n",
              "        buttonEl.style.display =\n",
              "          google.colab.kernel.accessAllowed ? 'block' : 'none';\n",
              "\n",
              "        async function convertToInteractive(key) {\n",
              "          const element = document.querySelector('#df-cf127efa-3b31-4e65-8e74-17b752cc454b');\n",
              "          const dataTable =\n",
              "            await google.colab.kernel.invokeFunction('convertToInteractive',\n",
              "                                                     [key], {});\n",
              "          if (!dataTable) return;\n",
              "\n",
              "          const docLinkHtml = 'Like what you see? Visit the ' +\n",
              "            '<a target=\"_blank\" href=https://colab.research.google.com/notebooks/data_table.ipynb>data table notebook</a>'\n",
              "            + ' to learn more about interactive tables.';\n",
              "          element.innerHTML = '';\n",
              "          dataTable['output_type'] = 'display_data';\n",
              "          await google.colab.output.renderOutput(dataTable, element);\n",
              "          const docLink = document.createElement('div');\n",
              "          docLink.innerHTML = docLinkHtml;\n",
              "          element.appendChild(docLink);\n",
              "        }\n",
              "      </script>\n",
              "    </div>\n",
              "  </div>\n",
              "  "
            ],
            "text/plain": [
              "            MSE        RMSE        MAE      MAPE\n",
              "0  11903.910186  109.105042  71.649232  0.008518"
            ]
          },
          "execution_count": 39,
          "metadata": {},
          "output_type": "execute_result"
        }
      ],
      "source": [
        "metrics_evaluation_regression(y_test2, lstmcnn.predict(X_test2))"
      ]
    },
    {
      "cell_type": "markdown",
      "metadata": {
        "id": "ocR3-xIjxImK"
      },
      "source": [
        "## BiLSTM"
      ]
    },
    {
      "cell_type": "code",
      "execution_count": null,
      "metadata": {
        "colab": {
          "base_uri": "https://localhost:8080/",
          "height": 81
        },
        "id": "jmhRlerdzPww",
        "outputId": "a83b4e3a-fee5-43d9-bf46-af838975697b"
      },
      "outputs": [
        {
          "data": {
            "text/html": [
              "\n",
              "  <div id=\"df-3a3ad132-262c-4eee-a514-2657ef84db12\">\n",
              "    <div class=\"colab-df-container\">\n",
              "      <div>\n",
              "<style scoped>\n",
              "    .dataframe tbody tr th:only-of-type {\n",
              "        vertical-align: middle;\n",
              "    }\n",
              "\n",
              "    .dataframe tbody tr th {\n",
              "        vertical-align: top;\n",
              "    }\n",
              "\n",
              "    .dataframe thead th {\n",
              "        text-align: right;\n",
              "    }\n",
              "</style>\n",
              "<table border=\"1\" class=\"dataframe\">\n",
              "  <thead>\n",
              "    <tr style=\"text-align: right;\">\n",
              "      <th></th>\n",
              "      <th>MSE</th>\n",
              "      <th>RMSE</th>\n",
              "      <th>MAE</th>\n",
              "      <th>MAPE</th>\n",
              "    </tr>\n",
              "  </thead>\n",
              "  <tbody>\n",
              "    <tr>\n",
              "      <th>0</th>\n",
              "      <td>17973.617383</td>\n",
              "      <td>134.06572</td>\n",
              "      <td>78.633088</td>\n",
              "      <td>0.008204</td>\n",
              "    </tr>\n",
              "  </tbody>\n",
              "</table>\n",
              "</div>\n",
              "      <button class=\"colab-df-convert\" onclick=\"convertToInteractive('df-3a3ad132-262c-4eee-a514-2657ef84db12')\"\n",
              "              title=\"Convert this dataframe to an interactive table.\"\n",
              "              style=\"display:none;\">\n",
              "        \n",
              "  <svg xmlns=\"http://www.w3.org/2000/svg\" height=\"24px\"viewBox=\"0 0 24 24\"\n",
              "       width=\"24px\">\n",
              "    <path d=\"M0 0h24v24H0V0z\" fill=\"none\"/>\n",
              "    <path d=\"M18.56 5.44l.94 2.06.94-2.06 2.06-.94-2.06-.94-.94-2.06-.94 2.06-2.06.94zm-11 1L8.5 8.5l.94-2.06 2.06-.94-2.06-.94L8.5 2.5l-.94 2.06-2.06.94zm10 10l.94 2.06.94-2.06 2.06-.94-2.06-.94-.94-2.06-.94 2.06-2.06.94z\"/><path d=\"M17.41 7.96l-1.37-1.37c-.4-.4-.92-.59-1.43-.59-.52 0-1.04.2-1.43.59L10.3 9.45l-7.72 7.72c-.78.78-.78 2.05 0 2.83L4 21.41c.39.39.9.59 1.41.59.51 0 1.02-.2 1.41-.59l7.78-7.78 2.81-2.81c.8-.78.8-2.07 0-2.86zM5.41 20L4 18.59l7.72-7.72 1.47 1.35L5.41 20z\"/>\n",
              "  </svg>\n",
              "      </button>\n",
              "      \n",
              "  <style>\n",
              "    .colab-df-container {\n",
              "      display:flex;\n",
              "      flex-wrap:wrap;\n",
              "      gap: 12px;\n",
              "    }\n",
              "\n",
              "    .colab-df-convert {\n",
              "      background-color: #E8F0FE;\n",
              "      border: none;\n",
              "      border-radius: 50%;\n",
              "      cursor: pointer;\n",
              "      display: none;\n",
              "      fill: #1967D2;\n",
              "      height: 32px;\n",
              "      padding: 0 0 0 0;\n",
              "      width: 32px;\n",
              "    }\n",
              "\n",
              "    .colab-df-convert:hover {\n",
              "      background-color: #E2EBFA;\n",
              "      box-shadow: 0px 1px 2px rgba(60, 64, 67, 0.3), 0px 1px 3px 1px rgba(60, 64, 67, 0.15);\n",
              "      fill: #174EA6;\n",
              "    }\n",
              "\n",
              "    [theme=dark] .colab-df-convert {\n",
              "      background-color: #3B4455;\n",
              "      fill: #D2E3FC;\n",
              "    }\n",
              "\n",
              "    [theme=dark] .colab-df-convert:hover {\n",
              "      background-color: #434B5C;\n",
              "      box-shadow: 0px 1px 3px 1px rgba(0, 0, 0, 0.15);\n",
              "      filter: drop-shadow(0px 1px 2px rgba(0, 0, 0, 0.3));\n",
              "      fill: #FFFFFF;\n",
              "    }\n",
              "  </style>\n",
              "\n",
              "      <script>\n",
              "        const buttonEl =\n",
              "          document.querySelector('#df-3a3ad132-262c-4eee-a514-2657ef84db12 button.colab-df-convert');\n",
              "        buttonEl.style.display =\n",
              "          google.colab.kernel.accessAllowed ? 'block' : 'none';\n",
              "\n",
              "        async function convertToInteractive(key) {\n",
              "          const element = document.querySelector('#df-3a3ad132-262c-4eee-a514-2657ef84db12');\n",
              "          const dataTable =\n",
              "            await google.colab.kernel.invokeFunction('convertToInteractive',\n",
              "                                                     [key], {});\n",
              "          if (!dataTable) return;\n",
              "\n",
              "          const docLinkHtml = 'Like what you see? Visit the ' +\n",
              "            '<a target=\"_blank\" href=https://colab.research.google.com/notebooks/data_table.ipynb>data table notebook</a>'\n",
              "            + ' to learn more about interactive tables.';\n",
              "          element.innerHTML = '';\n",
              "          dataTable['output_type'] = 'display_data';\n",
              "          await google.colab.output.renderOutput(dataTable, element);\n",
              "          const docLink = document.createElement('div');\n",
              "          docLink.innerHTML = docLinkHtml;\n",
              "          element.appendChild(docLink);\n",
              "        }\n",
              "      </script>\n",
              "    </div>\n",
              "  </div>\n",
              "  "
            ],
            "text/plain": [
              "            MSE       RMSE        MAE      MAPE\n",
              "0  17973.617383  134.06572  78.633088  0.008204"
            ]
          },
          "execution_count": 49,
          "metadata": {},
          "output_type": "execute_result"
        }
      ],
      "source": [
        "metrics_evaluation_regression(train_y[0], train_predict2)"
      ]
    },
    {
      "cell_type": "code",
      "execution_count": null,
      "metadata": {
        "colab": {
          "base_uri": "https://localhost:8080/",
          "height": 81
        },
        "id": "VObnVWDlzPwy",
        "outputId": "e5d6a85d-4aa1-4e25-b36e-e22e81785ef9"
      },
      "outputs": [
        {
          "data": {
            "text/html": [
              "\n",
              "  <div id=\"df-140d9742-cf98-4cca-8952-de11670c8eb3\">\n",
              "    <div class=\"colab-df-container\">\n",
              "      <div>\n",
              "<style scoped>\n",
              "    .dataframe tbody tr th:only-of-type {\n",
              "        vertical-align: middle;\n",
              "    }\n",
              "\n",
              "    .dataframe tbody tr th {\n",
              "        vertical-align: top;\n",
              "    }\n",
              "\n",
              "    .dataframe thead th {\n",
              "        text-align: right;\n",
              "    }\n",
              "</style>\n",
              "<table border=\"1\" class=\"dataframe\">\n",
              "  <thead>\n",
              "    <tr style=\"text-align: right;\">\n",
              "      <th></th>\n",
              "      <th>MSE</th>\n",
              "      <th>RMSE</th>\n",
              "      <th>MAE</th>\n",
              "      <th>MAPE</th>\n",
              "    </tr>\n",
              "  </thead>\n",
              "  <tbody>\n",
              "    <tr>\n",
              "      <th>0</th>\n",
              "      <td>11413.950255</td>\n",
              "      <td>106.836091</td>\n",
              "      <td>67.162503</td>\n",
              "      <td>0.008017</td>\n",
              "    </tr>\n",
              "  </tbody>\n",
              "</table>\n",
              "</div>\n",
              "      <button class=\"colab-df-convert\" onclick=\"convertToInteractive('df-140d9742-cf98-4cca-8952-de11670c8eb3')\"\n",
              "              title=\"Convert this dataframe to an interactive table.\"\n",
              "              style=\"display:none;\">\n",
              "        \n",
              "  <svg xmlns=\"http://www.w3.org/2000/svg\" height=\"24px\"viewBox=\"0 0 24 24\"\n",
              "       width=\"24px\">\n",
              "    <path d=\"M0 0h24v24H0V0z\" fill=\"none\"/>\n",
              "    <path d=\"M18.56 5.44l.94 2.06.94-2.06 2.06-.94-2.06-.94-.94-2.06-.94 2.06-2.06.94zm-11 1L8.5 8.5l.94-2.06 2.06-.94-2.06-.94L8.5 2.5l-.94 2.06-2.06.94zm10 10l.94 2.06.94-2.06 2.06-.94-2.06-.94-.94-2.06-.94 2.06-2.06.94z\"/><path d=\"M17.41 7.96l-1.37-1.37c-.4-.4-.92-.59-1.43-.59-.52 0-1.04.2-1.43.59L10.3 9.45l-7.72 7.72c-.78.78-.78 2.05 0 2.83L4 21.41c.39.39.9.59 1.41.59.51 0 1.02-.2 1.41-.59l7.78-7.78 2.81-2.81c.8-.78.8-2.07 0-2.86zM5.41 20L4 18.59l7.72-7.72 1.47 1.35L5.41 20z\"/>\n",
              "  </svg>\n",
              "      </button>\n",
              "      \n",
              "  <style>\n",
              "    .colab-df-container {\n",
              "      display:flex;\n",
              "      flex-wrap:wrap;\n",
              "      gap: 12px;\n",
              "    }\n",
              "\n",
              "    .colab-df-convert {\n",
              "      background-color: #E8F0FE;\n",
              "      border: none;\n",
              "      border-radius: 50%;\n",
              "      cursor: pointer;\n",
              "      display: none;\n",
              "      fill: #1967D2;\n",
              "      height: 32px;\n",
              "      padding: 0 0 0 0;\n",
              "      width: 32px;\n",
              "    }\n",
              "\n",
              "    .colab-df-convert:hover {\n",
              "      background-color: #E2EBFA;\n",
              "      box-shadow: 0px 1px 2px rgba(60, 64, 67, 0.3), 0px 1px 3px 1px rgba(60, 64, 67, 0.15);\n",
              "      fill: #174EA6;\n",
              "    }\n",
              "\n",
              "    [theme=dark] .colab-df-convert {\n",
              "      background-color: #3B4455;\n",
              "      fill: #D2E3FC;\n",
              "    }\n",
              "\n",
              "    [theme=dark] .colab-df-convert:hover {\n",
              "      background-color: #434B5C;\n",
              "      box-shadow: 0px 1px 3px 1px rgba(0, 0, 0, 0.15);\n",
              "      filter: drop-shadow(0px 1px 2px rgba(0, 0, 0, 0.3));\n",
              "      fill: #FFFFFF;\n",
              "    }\n",
              "  </style>\n",
              "\n",
              "      <script>\n",
              "        const buttonEl =\n",
              "          document.querySelector('#df-140d9742-cf98-4cca-8952-de11670c8eb3 button.colab-df-convert');\n",
              "        buttonEl.style.display =\n",
              "          google.colab.kernel.accessAllowed ? 'block' : 'none';\n",
              "\n",
              "        async function convertToInteractive(key) {\n",
              "          const element = document.querySelector('#df-140d9742-cf98-4cca-8952-de11670c8eb3');\n",
              "          const dataTable =\n",
              "            await google.colab.kernel.invokeFunction('convertToInteractive',\n",
              "                                                     [key], {});\n",
              "          if (!dataTable) return;\n",
              "\n",
              "          const docLinkHtml = 'Like what you see? Visit the ' +\n",
              "            '<a target=\"_blank\" href=https://colab.research.google.com/notebooks/data_table.ipynb>data table notebook</a>'\n",
              "            + ' to learn more about interactive tables.';\n",
              "          element.innerHTML = '';\n",
              "          dataTable['output_type'] = 'display_data';\n",
              "          await google.colab.output.renderOutput(dataTable, element);\n",
              "          const docLink = document.createElement('div');\n",
              "          docLink.innerHTML = docLinkHtml;\n",
              "          element.appendChild(docLink);\n",
              "        }\n",
              "      </script>\n",
              "    </div>\n",
              "  </div>\n",
              "  "
            ],
            "text/plain": [
              "            MSE        RMSE        MAE      MAPE\n",
              "0  11413.950255  106.836091  67.162503  0.008017"
            ]
          },
          "execution_count": 50,
          "metadata": {},
          "output_type": "execute_result"
        }
      ],
      "source": [
        "metrics_evaluation_regression(test_y[0], test_predict2)"
      ]
    },
    {
      "cell_type": "markdown",
      "metadata": {
        "id": "bym2wr6CxUjm"
      },
      "source": [
        "## Chart "
      ]
    },
    {
      "cell_type": "code",
      "execution_count": null,
      "metadata": {
        "colab": {
          "base_uri": "https://localhost:8080/",
          "height": 338
        },
        "id": "wbaKzipExYx2",
        "outputId": "11474e1e-0df3-4f7b-9997-635d3007faac"
      },
      "outputs": [
        {
          "data": {
            "text/plain": [
              "<matplotlib.legend.Legend at 0x7f3a7fe90190>"
            ]
          },
          "execution_count": 60,
          "metadata": {},
          "output_type": "execute_result"
        },
        {
          "data": {
            "image/png": "[encoded data removed]",
            "text/plain": [
              "<Figure size 864x360 with 1 Axes>"
            ]
          },
          "metadata": {
            "needs_background": "light"
          },
          "output_type": "display_data"
        }
      ],
      "source": [
        "plt.figure(figsize=(12,5))\n",
        "plt.plot(train_y[0][:50])\n",
        "plt.plot(train_predict[:50])\n",
        "plt.plot(cnn_train[:50])\n",
        "plt.plot(train_predict2[:50])\n",
        "plt.legend(['Data Aktual', 'Vanilla LSTM', 'CNN-LSTM', 'BiLSTM'])"
      ]
    },
    {
      "cell_type": "code",
      "execution_count": null,
      "metadata": {
        "colab": {
          "base_uri": "https://localhost:8080/",
          "height": 338
        },
        "id": "n7nFie-KxYx2",
        "outputId": "7e82e5c3-db54-4104-abfb-692814177fa8"
      },
      "outputs": [
        {
          "data": {
            "text/plain": [
              "<matplotlib.legend.Legend at 0x7f3afd19de50>"
            ]
          },
          "execution_count": 59,
          "metadata": {},
          "output_type": "execute_result"
        },
        {
          "data": {
            "image/png": "[encoded data removed]",
            "text/plain": [
              "<Figure size 864x360 with 1 Axes>"
            ]
          },
          "metadata": {
            "needs_background": "light"
          },
          "output_type": "display_data"
        }
      ],
      "source": [
        "plt.figure(figsize=(12,5))\n",
        "plt.plot(test_y[0][:50])\n",
        "plt.plot(test_predict[:50])\n",
        "plt.plot(cnn_test[:50])\n",
        "plt.plot(test_predict2[:50])\n",
        "plt.legend(['Data Aktual', 'Vanilla LSTM', 'CNN-LSTM', 'BiLSTM'])"
      ]
    },
    {
      "cell_type": "code",
      "execution_count": null,
      "metadata": {
        "colab": {
          "base_uri": "https://localhost:8080/",
          "height": 542
        },
        "id": "M7xXNKNM0UsK",
        "outputId": "749bdb0b-04e2-46ce-9cf3-e7db2e007537"
      },
      "outputs": [
        {
          "data": {
            "text/html": [
              "<html>\n",
              "<head><meta charset=\"utf-8\" /></head>\n",
              "<body>\n",
              "    <div>            <script src=\"https://cdnjs.cloudflare.com/ajax/libs/mathjax/2.7.5/MathJax.js?config=TeX-AMS-MML_SVG\"></script><script type=\"text/javascript\">if (window.MathJax) {MathJax.Hub.Config({SVG: {font: \"STIX-Web\"}});}</script>                <script type=\"text/javascript\">window.PlotlyConfig = {MathJaxConfig: 'local'};</script>\n",
              "        <script src=\"https://cdn.plot.ly/plotly-2.9.0.min.js\"></script>                <div id=\"3f47f1be-98ee-431e-b26f-f75ec99ed0ca\" class=\"plotly-graph-div\" style=\"height:525px; width:100%;\"></div>            <script type=\"text/javascript\">                                    window.PLOTLYENV=window.PLOTLYENV || {};                                    if (document.getElementById(\"3f47f1be-98ee-431e-b26f-f75ec99ed0ca\")) {                    Plotly.newPlot(                        \"3f47f1be-98ee-431e-b26f-f75ec99ed0ca\",                        [{\"mode\":\"lines\",\"name\":\"Data Aktual\",\"x\":[\"2017-04-03T00:00:00\",\"2017-04-10T00:00:00\",\"2017-04-17T00:00:00\",\"2017-04-24T00:00:00\",\"2017-05-01T00:00:00\",\"2017-05-08T00:00:00\",\"2017-05-15T00:00:00\",\"2017-05-22T00:00:00\",\"2017-05-29T00:00:00\",\"2017-06-05T00:00:00\",\"2017-06-12T00:00:00\",\"2017-06-19T00:00:00\",\"2017-06-26T00:00:00\",\"2017-07-03T00:00:00\",\"2017-07-10T00:00:00\",\"2017-07-17T00:00:00\",\"2017-07-24T00:00:00\",\"2017-07-31T00:00:00\",\"2017-08-07T00:00:00\",\"2017-08-14T00:00:00\",\"2017-08-21T00:00:00\",\"2017-08-28T00:00:00\",\"2017-09-04T00:00:00\",\"2017-09-11T00:00:00\",\"2017-09-18T00:00:00\",\"2017-09-25T00:00:00\",\"2017-10-02T00:00:00\",\"2017-10-09T00:00:00\",\"2017-10-16T00:00:00\",\"2017-10-23T00:00:00\",\"2017-10-30T00:00:00\",\"2017-11-06T00:00:00\",\"2017-11-13T00:00:00\",\"2017-11-20T00:00:00\",\"2017-11-27T00:00:00\",\"2017-12-04T00:00:00\",\"2017-12-11T00:00:00\",\"2017-12-18T00:00:00\",\"2017-12-25T00:00:00\",\"2018-01-01T00:00:00\",\"2018-01-08T00:00:00\",\"2018-01-15T00:00:00\",\"2018-01-22T00:00:00\",\"2018-01-29T00:00:00\",\"2018-02-05T00:00:00\",\"2018-02-12T00:00:00\",\"2018-02-19T00:00:00\",\"2018-02-26T00:00:00\",\"2018-03-05T00:00:00\",\"2018-03-12T00:00:00\",\"2018-03-19T00:00:00\",\"2018-03-26T00:00:00\",\"2018-04-02T00:00:00\",\"2018-04-09T00:00:00\",\"2018-04-16T00:00:00\",\"2018-04-23T00:00:00\",\"2018-04-30T00:00:00\",\"2018-05-07T00:00:00\",\"2018-05-14T00:00:00\",\"2018-05-21T00:00:00\",\"2018-05-28T00:00:00\",\"2018-06-04T00:00:00\",\"2018-06-11T00:00:00\",\"2018-06-18T00:00:00\",\"2018-06-25T00:00:00\",\"2018-07-02T00:00:00\",\"2018-07-09T00:00:00\",\"2018-07-16T00:00:00\",\"2018-07-23T00:00:00\",\"2018-07-30T00:00:00\",\"2018-08-06T00:00:00\",\"2018-08-13T00:00:00\",\"2018-08-20T00:00:00\",\"2018-08-27T00:00:00\",\"2018-09-03T00:00:00\",\"2018-09-10T00:00:00\",\"2018-09-17T00:00:00\",\"2018-09-24T00:00:00\",\"2018-10-01T00:00:00\",\"2018-10-08T00:00:00\",\"2018-10-15T00:00:00\",\"2018-10-22T00:00:00\",\"2018-10-29T00:00:00\",\"2018-11-05T00:00:00\",\"2018-11-12T00:00:00\",\"2018-11-19T00:00:00\",\"2018-11-26T00:00:00\",\"2018-12-03T00:00:00\",\"2018-12-10T00:00:00\",\"2018-12-17T00:00:00\",\"2018-12-24T00:00:00\",\"2018-12-31T00:00:00\",\"2019-01-07T00:00:00\",\"2019-01-14T00:00:00\",\"2019-01-21T00:00:00\",\"2019-01-28T00:00:00\",\"2019-02-04T00:00:00\",\"2019-02-11T00:00:00\",\"2019-02-18T00:00:00\",\"2019-02-25T00:00:00\",\"2019-03-04T00:00:00\",\"2019-03-11T00:00:00\",\"2019-03-18T00:00:00\",\"2019-03-25T00:00:00\",\"2019-04-01T00:00:00\",\"2019-04-08T00:00:00\",\"2019-04-15T00:00:00\",\"2019-04-22T00:00:00\",\"2019-04-29T00:00:00\",\"2019-05-06T00:00:00\",\"2019-05-13T00:00:00\",\"2019-05-20T00:00:00\",\"2019-05-27T00:00:00\",\"2019-06-03T00:00:00\",\"2019-06-10T00:00:00\",\"2019-06-17T00:00:00\",\"2019-06-24T00:00:00\",\"2019-07-01T00:00:00\",\"2019-07-08T00:00:00\",\"2019-07-15T00:00:00\",\"2019-07-22T00:00:00\",\"2019-07-29T00:00:00\",\"2019-08-05T00:00:00\",\"2019-08-12T00:00:00\",\"2019-08-19T00:00:00\",\"2019-08-26T00:00:00\",\"2019-09-02T00:00:00\",\"2019-09-09T00:00:00\",\"2019-09-16T00:00:00\",\"2019-09-23T00:00:00\",\"2019-09-30T00:00:00\",\"2019-10-07T00:00:00\",\"2019-10-14T00:00:00\",\"2019-10-21T00:00:00\",\"2019-10-28T00:00:00\",\"2019-11-04T00:00:00\",\"2019-11-11T00:00:00\",\"2019-11-18T00:00:00\",\"2019-11-25T00:00:00\",\"2019-12-02T00:00:00\",\"2019-12-09T00:00:00\",\"2019-12-16T00:00:00\",\"2019-12-23T00:00:00\",\"2019-12-30T00:00:00\",\"2020-01-06T00:00:00\",\"2020-01-13T00:00:00\",\"2020-01-20T00:00:00\",\"2020-01-27T00:00:00\",\"2020-02-03T00:00:00\",\"2020-02-10T00:00:00\",\"2020-02-17T00:00:00\",\"2020-02-24T00:00:00\",\"2020-03-02T00:00:00\",\"2020-03-09T00:00:00\",\"2020-03-16T00:00:00\",\"2020-03-23T00:00:00\",\"2020-03-30T00:00:00\",\"2020-04-06T00:00:00\",\"2020-04-13T00:00:00\",\"2020-04-20T00:00:00\",\"2020-04-27T00:00:00\",\"2020-05-04T00:00:00\",\"2020-05-11T00:00:00\",\"2020-05-18T00:00:00\",\"2020-05-25T00:00:00\",\"2020-06-01T00:00:00\",\"2020-06-08T00:00:00\",\"2020-06-15T00:00:00\",\"2020-06-22T00:00:00\",\"2020-06-29T00:00:00\",\"2020-07-06T00:00:00\",\"2020-07-13T00:00:00\",\"2020-07-20T00:00:00\",\"2020-07-27T00:00:00\",\"2020-08-03T00:00:00\",\"2020-08-10T00:00:00\",\"2020-08-17T00:00:00\",\"2020-08-24T00:00:00\",\"2020-08-31T00:00:00\",\"2020-09-07T00:00:00\",\"2020-09-14T00:00:00\",\"2020-09-21T00:00:00\",\"2020-09-28T00:00:00\",\"2020-10-05T00:00:00\",\"2020-10-12T00:00:00\",\"2020-10-19T00:00:00\",\"2020-10-26T00:00:00\",\"2020-11-02T00:00:00\",\"2020-11-09T00:00:00\",\"2020-11-16T00:00:00\",\"2020-11-23T00:00:00\",\"2020-11-30T00:00:00\",\"2020-12-07T00:00:00\",\"2020-12-14T00:00:00\",\"2020-12-21T00:00:00\",\"2020-12-28T00:00:00\",\"2021-01-04T00:00:00\",\"2021-01-11T00:00:00\",\"2021-01-18T00:00:00\",\"2021-01-25T00:00:00\",\"2021-02-01T00:00:00\",\"2021-02-08T00:00:00\",\"2021-02-15T00:00:00\",\"2021-02-22T00:00:00\",\"2021-03-01T00:00:00\",\"2021-03-08T00:00:00\",\"2021-03-15T00:00:00\",\"2021-03-22T00:00:00\",\"2021-03-29T00:00:00\",\"2021-04-05T00:00:00\",\"2021-04-12T00:00:00\",\"2021-04-19T00:00:00\",\"2021-04-26T00:00:00\",\"2021-05-03T00:00:00\",\"2021-05-10T00:00:00\",\"2021-05-17T00:00:00\",\"2021-05-24T00:00:00\",\"2021-05-31T00:00:00\",\"2021-06-07T00:00:00\",\"2021-06-14T00:00:00\",\"2021-06-21T00:00:00\",\"2021-06-28T00:00:00\",\"2021-07-05T00:00:00\",\"2021-07-12T00:00:00\",\"2021-07-19T00:00:00\",\"2021-07-26T00:00:00\",\"2021-08-02T00:00:00\",\"2021-08-09T00:00:00\",\"2021-08-16T00:00:00\",\"2021-08-23T00:00:00\",\"2021-08-30T00:00:00\",\"2021-09-06T00:00:00\",\"2021-09-13T00:00:00\",\"2021-09-20T00:00:00\",\"2021-09-27T00:00:00\",\"2021-10-04T00:00:00\",\"2021-10-11T00:00:00\",\"2021-10-18T00:00:00\",\"2021-10-25T00:00:00\",\"2021-11-01T00:00:00\",\"2021-11-08T00:00:00\",\"2021-11-15T00:00:00\",\"2021-11-22T00:00:00\",\"2021-11-29T00:00:00\",\"2021-12-06T00:00:00\",\"2021-12-13T00:00:00\",\"2021-12-20T00:00:00\",\"2021-12-27T00:00:00\",\"2022-01-03T00:00:00\",\"2022-01-10T00:00:00\",\"2022-01-17T00:00:00\",\"2022-01-24T00:00:00\",\"2022-01-31T00:00:00\",\"2022-02-07T00:00:00\",\"2022-02-14T00:00:00\",\"2022-02-21T00:00:00\",\"2022-02-28T00:00:00\",\"2022-03-07T00:00:00\",\"2022-03-14T00:00:00\",\"2022-03-21T00:00:00\",\"2022-03-28T00:00:00\",\"2022-04-04T00:00:00\"],\"y\":[8875.0,8875.0,8650.0,8625.0,8750.0,8750.0,8950.0,8950.0,8950.0,8950.0,8900.0,8800.0,8750.0,8875.0,8875.0,8875.0,8700.0,8600.0,8575.0,8625.0,8700.0,8700.0,8700.0,8550.0,8525.0,8525.0,8500.0,8450.0,8450.0,8450.0,8600.0,8525.0,8525.0,8525.0,8525.0,8525.0,8525.0,8250.0,8300.0,8275.0,8375.0,8325.0,8325.0,8325.0,8200.0,8175.0,8175.0,8275.0,8125.0,8125.0,8125.0,8200.0,8200.0,8225.0,8700.0,8450.0,8450.0,8450.0,8350.0,8175.0,8150.0,8150.0,8175.0,8175.0,8175.0,8150.0,8150.0,8175.0,8125.0,7749.999999999999,7749.999999999999,7749.999999999999,7925.000000000001,8050.0,7975.000000000001,8025.0,8025.0,8025.0,8025.0,7975.000000000001,8250.0,8150.0,8500.0,8425.0,8425.0,8425.0,8225.0,8400.0,8450.0,8475.0,8550.0,8550.0,8550.0,8825.0,8950.0,8700.0,8675.0,8575.0,8575.0,8575.0,8500.0,8500.0,8500.0,8825.0,8650.0,8650.0,8650.0,8725.0,8500.0,8500.0,8350.0,8125.0,8125.0,8125.0,8125.0,8225.0,8175.0,8150.0,8275.0,8275.0,8275.0,8150.0,8050.0,8050.0,8075.0,8200.0,8200.0,8200.0,8250.0,8250.0,8350.0,8150.0,8150.0,8150.0,8150.0,8225.0,8200.0,8225.0,8225.0,8300.0,8300.0,8300.0,8600.0,8425.0,8400.0,8450.0,8475.0,8475.0,8475.0,8525.0,8425.0,8425.0,8525.0,8500.0,8500.0,8500.0,8425.0,8450.0,8375.0,8225.0,8150.0,8150.0,8150.0,8125.0,8300.0,8200.0,8250.0,8300.0,8300.0,8300.0,8350.0,8225.0,8225.0,8350.0,8325.0,8325.0,8325.0,8650.0,8825.0,8850.0,8850.0,8900.0,8900.0,8900.0,8850.0,8875.0,8950.0,9325.0,9275.0,9275.0,9275.0,9300.0,9300.0,9300.0,9225.0,9100.0,9100.0,9100.0,9100.0,9100.0,8850.0,8800.0,8800.0,8800.0,8800.0,8800.0,8850.0,8775.0,8800.0,8800.0,8800.0,8800.0,8900.0,8925.0,8900.0,8850.0,8950.0,8950.0,8950.0,8925.0,8825.0,8850.0,9075.0,9025.0,9025.0,9025.0,9075.0,8950.0,9000.0,8950.0,8875.0,8875.0,8875.0,8875.0,8450.0,8925.0,8850.0,8700.0,8700.0,8700.0,8750.0,8750.0,8775.0,8950.0,8850.0,8850.0,8850.0,8750.0,8700.0,8800.0,8750.0,8800.0,8800.0,8800.0,8825.0,8750.0,8675.0,8775.0,8725.0,8725.0,8725.0,8650.0,8700.0,8675.0,8700.0,8700.0,8700.0,8700.0,8625.0,8775.0,8825.0,8850.0,8875.0,8875.0,8875.0,8850.0,8700.0,8750.0,8775.0,8750.0,8750.0,8750.0,8775.0,8775.0,8750.0,8525.0,8675.0,8675.0,8675.0,8600.0,8750.0,8750.0,8700.0,8675.0,8675.0,8675.0,8725.0,8725.0,8675.0,8500.0,8625.0,8625.0,8625.0,8650.0,8625.0,8675.0,8625.0,8650.0,8650.0,8650.0,8550.0,8550.0,8500.0,8525.0,8525.0,8525.0,8525.0,8500.0,8525.0,8700.0,8525.0,8500.0,8500.0,8500.0,8500.0,8250.0,7925.000000000001,7925.000000000001,7825.000000000001,7825.000000000001,7825.000000000001,7400.0,7599.999999999999,7624.999999999999,7749.999999999999,7550.0,7550.0,7550.0,7525.0,7425.0,7624.999999999999,7574.999999999999,7574.999999999999,7574.999999999999,7574.999999999999,7450.0,7475.0,7500.0,7550.0,7250.0,7250.0,7250.0,7275.0,7300.0,7375.0,7350.0],\"type\":\"scatter\"},{\"mode\":\"lines\",\"name\":\"Vanilla LSTM\",\"x\":[\"2017-04-03T00:00:00\",\"2017-04-10T00:00:00\",\"2017-04-17T00:00:00\",\"2017-04-24T00:00:00\",\"2017-05-01T00:00:00\",\"2017-05-08T00:00:00\",\"2017-05-15T00:00:00\",\"2017-05-22T00:00:00\",\"2017-05-29T00:00:00\",\"2017-06-05T00:00:00\",\"2017-06-12T00:00:00\",\"2017-06-19T00:00:00\",\"2017-06-26T00:00:00\",\"2017-07-03T00:00:00\",\"2017-07-10T00:00:00\",\"2017-07-17T00:00:00\",\"2017-07-24T00:00:00\",\"2017-07-31T00:00:00\",\"2017-08-07T00:00:00\",\"2017-08-14T00:00:00\",\"2017-08-21T00:00:00\",\"2017-08-28T00:00:00\",\"2017-09-04T00:00:00\",\"2017-09-11T00:00:00\",\"2017-09-18T00:00:00\",\"2017-09-25T00:00:00\",\"2017-10-02T00:00:00\",\"2017-10-09T00:00:00\",\"2017-10-16T00:00:00\",\"2017-10-23T00:00:00\",\"2017-10-30T00:00:00\",\"2017-11-06T00:00:00\",\"2017-11-13T00:00:00\",\"2017-11-20T00:00:00\",\"2017-11-27T00:00:00\",\"2017-12-04T00:00:00\",\"2017-12-11T00:00:00\",\"2017-12-18T00:00:00\",\"2017-12-25T00:00:00\",\"2018-01-01T00:00:00\",\"2018-01-08T00:00:00\",\"2018-01-15T00:00:00\",\"2018-01-22T00:00:00\",\"2018-01-29T00:00:00\",\"2018-02-05T00:00:00\",\"2018-02-12T00:00:00\",\"2018-02-19T00:00:00\",\"2018-02-26T00:00:00\",\"2018-03-05T00:00:00\",\"2018-03-12T00:00:00\",\"2018-03-19T00:00:00\",\"2018-03-26T00:00:00\",\"2018-04-02T00:00:00\",\"2018-04-09T00:00:00\",\"2018-04-16T00:00:00\",\"2018-04-23T00:00:00\",\"2018-04-30T00:00:00\",\"2018-05-07T00:00:00\",\"2018-05-14T00:00:00\",\"2018-05-21T00:00:00\",\"2018-05-28T00:00:00\",\"2018-06-04T00:00:00\",\"2018-06-11T00:00:00\",\"2018-06-18T00:00:00\",\"2018-06-25T00:00:00\",\"2018-07-02T00:00:00\",\"2018-07-09T00:00:00\",\"2018-07-16T00:00:00\",\"2018-07-23T00:00:00\",\"2018-07-30T00:00:00\",\"2018-08-06T00:00:00\",\"2018-08-13T00:00:00\",\"2018-08-20T00:00:00\",\"2018-08-27T00:00:00\",\"2018-09-03T00:00:00\",\"2018-09-10T00:00:00\",\"2018-09-17T00:00:00\",\"2018-09-24T00:00:00\",\"2018-10-01T00:00:00\",\"2018-10-08T00:00:00\",\"2018-10-15T00:00:00\",\"2018-10-22T00:00:00\",\"2018-10-29T00:00:00\",\"2018-11-05T00:00:00\",\"2018-11-12T00:00:00\",\"2018-11-19T00:00:00\",\"2018-11-26T00:00:00\",\"2018-12-03T00:00:00\",\"2018-12-10T00:00:00\",\"2018-12-17T00:00:00\",\"2018-12-24T00:00:00\",\"2018-12-31T00:00:00\",\"2019-01-07T00:00:00\",\"2019-01-14T00:00:00\",\"2019-01-21T00:00:00\",\"2019-01-28T00:00:00\",\"2019-02-04T00:00:00\",\"2019-02-11T00:00:00\",\"2019-02-18T00:00:00\",\"2019-02-25T00:00:00\",\"2019-03-04T00:00:00\",\"2019-03-11T00:00:00\",\"2019-03-18T00:00:00\",\"2019-03-25T00:00:00\",\"2019-04-01T00:00:00\",\"2019-04-08T00:00:00\",\"2019-04-15T00:00:00\",\"2019-04-22T00:00:00\",\"2019-04-29T00:00:00\",\"2019-05-06T00:00:00\",\"2019-05-13T00:00:00\",\"2019-05-20T00:00:00\",\"2019-05-27T00:00:00\",\"2019-06-03T00:00:00\",\"2019-06-10T00:00:00\",\"2019-06-17T00:00:00\",\"2019-06-24T00:00:00\",\"2019-07-01T00:00:00\",\"2019-07-08T00:00:00\",\"2019-07-15T00:00:00\",\"2019-07-22T00:00:00\",\"2019-07-29T00:00:00\",\"2019-08-05T00:00:00\",\"2019-08-12T00:00:00\",\"2019-08-19T00:00:00\",\"2019-08-26T00:00:00\",\"2019-09-02T00:00:00\",\"2019-09-09T00:00:00\",\"2019-09-16T00:00:00\",\"2019-09-23T00:00:00\",\"2019-09-30T00:00:00\",\"2019-10-07T00:00:00\",\"2019-10-14T00:00:00\",\"2019-10-21T00:00:00\",\"2019-10-28T00:00:00\",\"2019-11-04T00:00:00\",\"2019-11-11T00:00:00\",\"2019-11-18T00:00:00\",\"2019-11-25T00:00:00\",\"2019-12-02T00:00:00\",\"2019-12-09T00:00:00\",\"2019-12-16T00:00:00\",\"2019-12-23T00:00:00\",\"2019-12-30T00:00:00\",\"2020-01-06T00:00:00\",\"2020-01-13T00:00:00\",\"2020-01-20T00:00:00\",\"2020-01-27T00:00:00\",\"2020-02-03T00:00:00\",\"2020-02-10T00:00:00\",\"2020-02-17T00:00:00\",\"2020-02-24T00:00:00\",\"2020-03-02T00:00:00\",\"2020-03-09T00:00:00\",\"2020-03-16T00:00:00\",\"2020-03-23T00:00:00\",\"2020-03-30T00:00:00\",\"2020-04-06T00:00:00\",\"2020-04-13T00:00:00\",\"2020-04-20T00:00:00\",\"2020-04-27T00:00:00\",\"2020-05-04T00:00:00\",\"2020-05-11T00:00:00\",\"2020-05-18T00:00:00\",\"2020-05-25T00:00:00\",\"2020-06-01T00:00:00\",\"2020-06-08T00:00:00\",\"2020-06-15T00:00:00\",\"2020-06-22T00:00:00\",\"2020-06-29T00:00:00\",\"2020-07-06T00:00:00\",\"2020-07-13T00:00:00\",\"2020-07-20T00:00:00\",\"2020-07-27T00:00:00\",\"2020-08-03T00:00:00\",\"2020-08-10T00:00:00\",\"2020-08-17T00:00:00\",\"2020-08-24T00:00:00\",\"2020-08-31T00:00:00\",\"2020-09-07T00:00:00\",\"2020-09-14T00:00:00\",\"2020-09-21T00:00:00\",\"2020-09-28T00:00:00\",\"2020-10-05T00:00:00\",\"2020-10-12T00:00:00\",\"2020-10-19T00:00:00\",\"2020-10-26T00:00:00\",\"2020-11-02T00:00:00\",\"2020-11-09T00:00:00\",\"2020-11-16T00:00:00\",\"2020-11-23T00:00:00\",\"2020-11-30T00:00:00\",\"2020-12-07T00:00:00\",\"2020-12-14T00:00:00\",\"2020-12-21T00:00:00\",\"2020-12-28T00:00:00\",\"2021-01-04T00:00:00\",\"2021-01-11T00:00:00\",\"2021-01-18T00:00:00\",\"2021-01-25T00:00:00\",\"2021-02-01T00:00:00\",\"2021-02-08T00:00:00\",\"2021-02-15T00:00:00\",\"2021-02-22T00:00:00\",\"2021-03-01T00:00:00\",\"2021-03-08T00:00:00\",\"2021-03-15T00:00:00\",\"2021-03-22T00:00:00\",\"2021-03-29T00:00:00\",\"2021-04-05T00:00:00\",\"2021-04-12T00:00:00\",\"2021-04-19T00:00:00\",\"2021-04-26T00:00:00\",\"2021-05-03T00:00:00\",\"2021-05-10T00:00:00\",\"2021-05-17T00:00:00\",\"2021-05-24T00:00:00\",\"2021-05-31T00:00:00\",\"2021-06-07T00:00:00\",\"2021-06-14T00:00:00\",\"2021-06-21T00:00:00\",\"2021-06-28T00:00:00\",\"2021-07-05T00:00:00\",\"2021-07-12T00:00:00\",\"2021-07-19T00:00:00\",\"2021-07-26T00:00:00\",\"2021-08-02T00:00:00\",\"2021-08-09T00:00:00\",\"2021-08-16T00:00:00\",\"2021-08-23T00:00:00\",\"2021-08-30T00:00:00\",\"2021-09-06T00:00:00\",\"2021-09-13T00:00:00\",\"2021-09-20T00:00:00\",\"2021-09-27T00:00:00\",\"2021-10-04T00:00:00\",\"2021-10-11T00:00:00\",\"2021-10-18T00:00:00\",\"2021-10-25T00:00:00\",\"2021-11-01T00:00:00\",\"2021-11-08T00:00:00\",\"2021-11-15T00:00:00\",\"2021-11-22T00:00:00\",\"2021-11-29T00:00:00\",\"2021-12-06T00:00:00\",\"2021-12-13T00:00:00\",\"2021-12-20T00:00:00\",\"2021-12-27T00:00:00\",\"2022-01-03T00:00:00\",\"2022-01-10T00:00:00\",\"2022-01-17T00:00:00\",\"2022-01-24T00:00:00\",\"2022-01-31T00:00:00\",\"2022-02-07T00:00:00\",\"2022-02-14T00:00:00\",\"2022-02-21T00:00:00\",\"2022-02-28T00:00:00\",\"2022-03-07T00:00:00\",\"2022-03-14T00:00:00\",\"2022-03-21T00:00:00\",\"2022-03-28T00:00:00\",\"2022-04-04T00:00:00\"],\"y\":[8896.369140625,8905.759765625,8905.515625,8711.029296875,8659.0244140625,8769.599609375,8786.798828125,8951.6396484375,8973.6904296875,8973.046875,8974.3642578125,8936.5068359375,8845.646484375,8788.0224609375,8892.0107421875,8909.423828125,8903.8193359375,8750.8564453125,8645.720703125,8616.421875,8656.025390625,8724.1064453125,8728.99609375,8727.830078125,8603.548828125,8565.5966796875,8565.1845703125,8543.1396484375,8494.97265625,8487.2353515625,8491.0126953125,8616.0771484375,8570.994140625,8558.2607421875,8560.9912109375,8564.0029296875,8563.9697265625,8560.740234375,8334.9423828125,8341.08984375,8332.34765625,8409.224609375,8376.392578125,8365.96875,8373.904296875,8273.22265625,8238.7353515625,8234.9462890625,8316.4501953125,8205.734375,8184.50732421875,8191.314453125,8251.9345703125,8259.25390625,8273.7236328125,8666.00390625,8519.0234375,8481.61328125,8488.06640625,8415.859375,8260.251953125,8205.923828125,8213.1435546875,8230.9580078125,8230.2998046875,8230.453125,8215.25390625,8213.388671875,8233.884765625,8196.3623046875,7900.1015625,7859.03173828125,7865.73876953125,7993.6123046875,8104.18017578125,8054.03076171875,8095.48828125,8106.203125,8108.669921875,8104.4853515625,8062.2841796875,8273.8955078125,8226.14453125,8488.953125,8471.44140625,8460.7802734375,8466.953125,8306.2724609375,8427.1865234375,8486.8203125,8510.9384765625,8571.6689453125,8581.4658203125,8586.5,8815.58984375,8958.119140625,8758.01171875,8701.9482421875,8626.15625,8618.33984375,8611.591796875,8543.0615234375,8536.2509765625,8537.3525390625,8813.5224609375,8705.0146484375,8674.7919921875,8679.6728515625,8750.5654296875,8570.0908203125,8531.982421875,8415.26171875,8211.513671875,8183.16943359375,8183.14404296875,8186.4951171875,8262.658203125,8236.0126953125,8214.572265625,8312.5634765625,8329.25,8327.080078125,8225.091796875,8134.6796875,8126.802734375,8143.38623046875,8243.0361328125,8254.3232421875,8254.2490234375,8297.70703125,8306.177734375,8386.314453125,8235.9462890625,8211.22265625,8216.05859375,8214.7236328125,8272.302734375,8256.52734375,8277.2890625,8281.2626953125,8341.9765625,8351.501953125,8348.6884765625,8594.279296875,8488.4658203125,8442.1240234375,8483.2578125,8516.1162109375,8517.5927734375,8509.748046875,8555.1806640625,8480.3193359375,8466.064453125,8550.599609375,8543.2255859375,8536.5263671875,8535.3232421875,8477.0341796875,8488.7138671875,8429.2294921875,8296.64453125,8217.7529296875,8210.7314453125,8212.2890625,8188.10986328125,8325.4169921875,8269.083984375,8295.689453125,8344.1689453125,8351.51953125,8351.6171875,8388.4423828125,8297.46875,8280.7734375,8383.154296875,8378.2880859375,8371.1181640625,8369.796875,8640.8544921875,8827.4677734375,8861.89453125,8861.982421875,8912.54296875,8928.9755859375,8929.978515625,8886.138671875,8902.0625,8972.001953125,9308.5,9310.5576171875,9294.5068359375,9295.796875,9331.5869140625,9337.6943359375,9339.162109375,9272.0595703125,9151.1318359375,9135.1015625,9138.705078125,9138.0263671875,9134.166015625,8912.947265625,8835.474609375,8833.9462890625,8836.568359375,8831.1796875,8827.9111328125,8873.3056640625,8815.8837890625,8826.2431640625,8831.0849609375,8831.9638671875,8830.5771484375,8916.1884765625,8951.8037109375,8931.208984375,8883.9697265625,8966.537109375,8982.984375,8980.146484375,8956.291015625,8868.4951171875,8878.3671875,9079.4375,9065.5517578125,9050.4150390625,9049.87109375,9100.404296875,8999.3837890625,9023.4130859375,8989.298828125,8917.75,8905.5400390625,8907.2802734375,8907.978515625,8539.2939453125,8890.609375,8899.802734375,8750.44921875,8722.322265625,8731.265625,8782.099609375,8780.1767578125,8799.791015625,8954.3828125,8892.330078125,8875.8876953125,8877.9296875,8797.052734375,8739.53125,8818.2412109375,8791.140625,8823.078125,8828.3115234375,8830.1171875,8851.7099609375,8790.564453125,8716.978515625,8793.5078125,8766.3662109375,8756.154296875,8754.3310546875,8692.83984375,8726.296875,8711.48828125,8729.1591796875,8731.2333984375,8731.0322265625,8731.8828125,8667.9267578125,8786.2158203125,8850.056640625,8874.83984375,8896.197265625,8901.69921875,8904.701171875,8883.521484375,8751.6796875,8774.7958984375,8806.1640625,8786.736328125,8779.0537109375,8779.3974609375,8803.611328125,8806.11328125,8783.640625,8589.3076171875,8687.7255859375,8712.712890625,8708.798828125,8639.9033203125,8758.6240234375,8783.92578125,8736.810546875,8707.3251953125,8707.681640625,8710.6943359375,8750.3974609375,8755.8671875,8712.5400390625,8558.6181640625,8643.0927734375,8663.685546875,8659.1884765625,8676.1435546875,8659.5830078125,8701.775390625,8665.0927734375,8679.2099609375,8683.2333984375,8683.2216796875,8598.6533203125,8584.8505859375,8546.044921875,8559.9365234375,8562.1982421875,8560.578125,8561.35546875,8540.4697265625,8559.251953125,8709.3671875,8584.2421875,8537.0849609375,8538.0986328125,8542.552734375,8540.0107421875,8327.1650390625,8040.17138671875,8006.4482421875,7932.0859375,7913.62255859375,7911.0576171875,7604.5888671875,7717.841796875,7761.71435546875,7850.63720703125,7716.67333984375,7694.25244140625,7717.5322265625,7690.12841796875,7615.6767578125,7740.53466796875,7732.9765625,7724.18359375,7726.798828125,7728.20654296875,7645.93603515625,7642.76513671875,7665.93115234375,7700.93701171875,7499.10107421875,7471.85400390625,7481.625,7491.11865234375,7506.97900390625,7555.56982421875],\"type\":\"scatter\"},{\"mode\":\"lines\",\"name\":\"CNN-LSTM\",\"x\":[\"2017-04-03T00:00:00\",\"2017-04-10T00:00:00\",\"2017-04-17T00:00:00\",\"2017-04-24T00:00:00\",\"2017-05-01T00:00:00\",\"2017-05-08T00:00:00\",\"2017-05-15T00:00:00\",\"2017-05-22T00:00:00\",\"2017-05-29T00:00:00\",\"2017-06-05T00:00:00\",\"2017-06-12T00:00:00\",\"2017-06-19T00:00:00\",\"2017-06-26T00:00:00\",\"2017-07-03T00:00:00\",\"2017-07-10T00:00:00\",\"2017-07-17T00:00:00\",\"2017-07-24T00:00:00\",\"2017-07-31T00:00:00\",\"2017-08-07T00:00:00\",\"2017-08-14T00:00:00\",\"2017-08-21T00:00:00\",\"2017-08-28T00:00:00\",\"2017-09-04T00:00:00\",\"2017-09-11T00:00:00\",\"2017-09-18T00:00:00\",\"2017-09-25T00:00:00\",\"2017-10-02T00:00:00\",\"2017-10-09T00:00:00\",\"2017-10-16T00:00:00\",\"2017-10-23T00:00:00\",\"2017-10-30T00:00:00\",\"2017-11-06T00:00:00\",\"2017-11-13T00:00:00\",\"2017-11-20T00:00:00\",\"2017-11-27T00:00:00\",\"2017-12-04T00:00:00\",\"2017-12-11T00:00:00\",\"2017-12-18T00:00:00\",\"2017-12-25T00:00:00\",\"2018-01-01T00:00:00\",\"2018-01-08T00:00:00\",\"2018-01-15T00:00:00\",\"2018-01-22T00:00:00\",\"2018-01-29T00:00:00\",\"2018-02-05T00:00:00\",\"2018-02-12T00:00:00\",\"2018-02-19T00:00:00\",\"2018-02-26T00:00:00\",\"2018-03-05T00:00:00\",\"2018-03-12T00:00:00\",\"2018-03-19T00:00:00\",\"2018-03-26T00:00:00\",\"2018-04-02T00:00:00\",\"2018-04-09T00:00:00\",\"2018-04-16T00:00:00\",\"2018-04-23T00:00:00\",\"2018-04-30T00:00:00\",\"2018-05-07T00:00:00\",\"2018-05-14T00:00:00\",\"2018-05-21T00:00:00\",\"2018-05-28T00:00:00\",\"2018-06-04T00:00:00\",\"2018-06-11T00:00:00\",\"2018-06-18T00:00:00\",\"2018-06-25T00:00:00\",\"2018-07-02T00:00:00\",\"2018-07-09T00:00:00\",\"2018-07-16T00:00:00\",\"2018-07-23T00:00:00\",\"2018-07-30T00:00:00\",\"2018-08-06T00:00:00\",\"2018-08-13T00:00:00\",\"2018-08-20T00:00:00\",\"2018-08-27T00:00:00\",\"2018-09-03T00:00:00\",\"2018-09-10T00:00:00\",\"2018-09-17T00:00:00\",\"2018-09-24T00:00:00\",\"2018-10-01T00:00:00\",\"2018-10-08T00:00:00\",\"2018-10-15T00:00:00\",\"2018-10-22T00:00:00\",\"2018-10-29T00:00:00\",\"2018-11-05T00:00:00\",\"2018-11-12T00:00:00\",\"2018-11-19T00:00:00\",\"2018-11-26T00:00:00\",\"2018-12-03T00:00:00\",\"2018-12-10T00:00:00\",\"2018-12-17T00:00:00\",\"2018-12-24T00:00:00\",\"2018-12-31T00:00:00\",\"2019-01-07T00:00:00\",\"2019-01-14T00:00:00\",\"2019-01-21T00:00:00\",\"2019-01-28T00:00:00\",\"2019-02-04T00:00:00\",\"2019-02-11T00:00:00\",\"2019-02-18T00:00:00\",\"2019-02-25T00:00:00\",\"2019-03-04T00:00:00\",\"2019-03-11T00:00:00\",\"2019-03-18T00:00:00\",\"2019-03-25T00:00:00\",\"2019-04-01T00:00:00\",\"2019-04-08T00:00:00\",\"2019-04-15T00:00:00\",\"2019-04-22T00:00:00\",\"2019-04-29T00:00:00\",\"2019-05-06T00:00:00\",\"2019-05-13T00:00:00\",\"2019-05-20T00:00:00\",\"2019-05-27T00:00:00\",\"2019-06-03T00:00:00\",\"2019-06-10T00:00:00\",\"2019-06-17T00:00:00\",\"2019-06-24T00:00:00\",\"2019-07-01T00:00:00\",\"2019-07-08T00:00:00\",\"2019-07-15T00:00:00\",\"2019-07-22T00:00:00\",\"2019-07-29T00:00:00\",\"2019-08-05T00:00:00\",\"2019-08-12T00:00:00\",\"2019-08-19T00:00:00\",\"2019-08-26T00:00:00\",\"2019-09-02T00:00:00\",\"2019-09-09T00:00:00\",\"2019-09-16T00:00:00\",\"2019-09-23T00:00:00\",\"2019-09-30T00:00:00\",\"2019-10-07T00:00:00\",\"2019-10-14T00:00:00\",\"2019-10-21T00:00:00\",\"2019-10-28T00:00:00\",\"2019-11-04T00:00:00\",\"2019-11-11T00:00:00\",\"2019-11-18T00:00:00\",\"2019-11-25T00:00:00\",\"2019-12-02T00:00:00\",\"2019-12-09T00:00:00\",\"2019-12-16T00:00:00\",\"2019-12-23T00:00:00\",\"2019-12-30T00:00:00\",\"2020-01-06T00:00:00\",\"2020-01-13T00:00:00\",\"2020-01-20T00:00:00\",\"2020-01-27T00:00:00\",\"2020-02-03T00:00:00\",\"2020-02-10T00:00:00\",\"2020-02-17T00:00:00\",\"2020-02-24T00:00:00\",\"2020-03-02T00:00:00\",\"2020-03-09T00:00:00\",\"2020-03-16T00:00:00\",\"2020-03-23T00:00:00\",\"2020-03-30T00:00:00\",\"2020-04-06T00:00:00\",\"2020-04-13T00:00:00\",\"2020-04-20T00:00:00\",\"2020-04-27T00:00:00\",\"2020-05-04T00:00:00\",\"2020-05-11T00:00:00\",\"2020-05-18T00:00:00\",\"2020-05-25T00:00:00\",\"2020-06-01T00:00:00\",\"2020-06-08T00:00:00\",\"2020-06-15T00:00:00\",\"2020-06-22T00:00:00\",\"2020-06-29T00:00:00\",\"2020-07-06T00:00:00\",\"2020-07-13T00:00:00\",\"2020-07-20T00:00:00\",\"2020-07-27T00:00:00\",\"2020-08-03T00:00:00\",\"2020-08-10T00:00:00\",\"2020-08-17T00:00:00\",\"2020-08-24T00:00:00\",\"2020-08-31T00:00:00\",\"2020-09-07T00:00:00\",\"2020-09-14T00:00:00\",\"2020-09-21T00:00:00\",\"2020-09-28T00:00:00\",\"2020-10-05T00:00:00\",\"2020-10-12T00:00:00\",\"2020-10-19T00:00:00\",\"2020-10-26T00:00:00\",\"2020-11-02T00:00:00\",\"2020-11-09T00:00:00\",\"2020-11-16T00:00:00\",\"2020-11-23T00:00:00\",\"2020-11-30T00:00:00\",\"2020-12-07T00:00:00\",\"2020-12-14T00:00:00\",\"2020-12-21T00:00:00\",\"2020-12-28T00:00:00\",\"2021-01-04T00:00:00\",\"2021-01-11T00:00:00\",\"2021-01-18T00:00:00\",\"2021-01-25T00:00:00\",\"2021-02-01T00:00:00\",\"2021-02-08T00:00:00\",\"2021-02-15T00:00:00\",\"2021-02-22T00:00:00\",\"2021-03-01T00:00:00\",\"2021-03-08T00:00:00\",\"2021-03-15T00:00:00\",\"2021-03-22T00:00:00\",\"2021-03-29T00:00:00\",\"2021-04-05T00:00:00\",\"2021-04-12T00:00:00\",\"2021-04-19T00:00:00\",\"2021-04-26T00:00:00\",\"2021-05-03T00:00:00\",\"2021-05-10T00:00:00\",\"2021-05-17T00:00:00\",\"2021-05-24T00:00:00\",\"2021-05-31T00:00:00\",\"2021-06-07T00:00:00\",\"2021-06-14T00:00:00\",\"2021-06-21T00:00:00\",\"2021-06-28T00:00:00\",\"2021-07-05T00:00:00\",\"2021-07-12T00:00:00\",\"2021-07-19T00:00:00\",\"2021-07-26T00:00:00\",\"2021-08-02T00:00:00\",\"2021-08-09T00:00:00\",\"2021-08-16T00:00:00\",\"2021-08-23T00:00:00\",\"2021-08-30T00:00:00\",\"2021-09-06T00:00:00\",\"2021-09-13T00:00:00\",\"2021-09-20T00:00:00\",\"2021-09-27T00:00:00\",\"2021-10-04T00:00:00\",\"2021-10-11T00:00:00\",\"2021-10-18T00:00:00\",\"2021-10-25T00:00:00\",\"2021-11-01T00:00:00\",\"2021-11-08T00:00:00\",\"2021-11-15T00:00:00\",\"2021-11-22T00:00:00\",\"2021-11-29T00:00:00\",\"2021-12-06T00:00:00\",\"2021-12-13T00:00:00\",\"2021-12-20T00:00:00\",\"2021-12-27T00:00:00\",\"2022-01-03T00:00:00\",\"2022-01-10T00:00:00\",\"2022-01-17T00:00:00\",\"2022-01-24T00:00:00\",\"2022-01-31T00:00:00\",\"2022-02-07T00:00:00\",\"2022-02-14T00:00:00\",\"2022-02-21T00:00:00\",\"2022-02-28T00:00:00\",\"2022-03-07T00:00:00\",\"2022-03-14T00:00:00\",\"2022-03-21T00:00:00\",\"2022-03-28T00:00:00\",\"2022-04-04T00:00:00\"],\"y\":[8890.56640625,8878.7626953125,8874.482421875,8691.4365234375,8685.2734375,8782.25390625,8756.951171875,8912.779296875,8895.607421875,8910.6240234375,8931.4609375,8903.0244140625,8834.09765625,8797.95703125,8895.81640625,8874.8818359375,8868.8017578125,8724.90234375,8658.236328125,8641.630859375,8667.5654296875,8707.0869140625,8687.7177734375,8687.4140625,8570.220703125,8566.3876953125,8564.72265625,8532.376953125,8481.802734375,8474.533203125,8468.12109375,8586.669921875,8510.62890625,8520.25390625,8527.1259765625,8530.80859375,8534.0205078125,8530.953125,8303.5234375,8362.7529296875,8325.181640625,8391.91796875,8329.77734375,8324.9912109375,8329.3251953125,8227.56640625,8217.09375,8210.466796875,8282.4443359375,8142.6748046875,8149.44091796875,8147.2568359375,8204.2412109375,8195.408203125,8212.5478515625,8607.662109375,8376.0712890625,8421.7001953125,8445.634765625,8375.12890625,8246.740234375,8222.1953125,8206.515625,8207.146484375,8187.88330078125,8177.99267578125,8156.91650390625,8159.931640625,8180.62353515625,8136.03857421875,7829.45166015625,7851.96484375,7831.08447265625,7946.6240234375,8013.1416015625,7932.0625,7995.08740234375,8007.79443359375,8021.5087890625,8028.00439453125,7986.564453125,8219.0302734375,8116.31201171875,8421.8203125,8348.98046875,8378.15234375,8407.6904296875,8254.744140625,8425.296875,8443.232421875,8454.3974609375,8517.693359375,8517.9404296875,8534.4951171875,8772.017578125,8863.3828125,8666.53125,8688.771484375,8621.201171875,8630.2119140625,8616.2099609375,8533.255859375,8529.4140625,8520.3681640625,8782.68359375,8612.439453125,8636.1328125,8650.583984375,8719.568359375,8535.1298828125,8546.251953125,8415.720703125,8228.0185546875,8225.458984375,8192.154296875,8165.49755859375,8226.6015625,8166.3203125,8152.68798828125,8262.275390625,8255.328125,8261.87109375,8164.17529296875,8095.81396484375,8102.46826171875,8109.7578125,8196.46875,8176.99560546875,8179.158203125,8230.4697265625,8236.099609375,8327.75,8160.42333984375,8181.48974609375,8181.3876953125,8173.2421875,8228.1796875,8192.830078125,8217.736328125,8220.298828125,8286.2021484375,8285.484375,8289.845703125,8544.099609375,8384.7431640625,8394.3271484375,8450.693359375,8472.375,8476.3212890625,8472.23828125,8516.1171875,8434.2744140625,8444.85546875,8526.1982421875,8494.8232421875,8497.9375,8499.0341796875,8440.8408203125,8470.037109375,8402.01171875,8278.75,8220.15234375,8209.7900390625,8191.515625,8152.57373046875,8285.9326171875,8186.0078125,8240.2900390625,8284.4970703125,8285.8125,8294.7734375,8338.48828125,8237.1171875,8250.626953125,8351.5009765625,8316.681640625,8319.517578125,8321.1328125,8594.533203125,8722.7421875,8747.49609375,8777.984375,8852.9453125,8878.970703125,8893.8154296875,8858.4140625,8885.4931640625,8945.880859375,9248.44921875,9185.19140625,9211.4609375,9241.740234375,9285.572265625,9300.7392578125,9301.4375,9241.0625,9144.2880859375,9150.0146484375,9138.501953125,9124.880859375,9113.3974609375,8900.130859375,8874.4921875,8865.3291015625,8844.7216796875,8825.900390625,8809.908203125,8847.2294921875,8781.7783203125,8809.7978515625,8808.0625,8806.90625,8806.7509765625,8887.2109375,8902.20703125,8885.04296875,8853.890625,8946.35546875,8942.23046875,8943.8984375,8926.310546875,8848.7421875,8879.5732421875,9057.4482421875,8993.95703125,9002.84375,9012.8701171875,9064.94921875,8967.248046875,9017.80859375,8970.40625,8908.21875,8909.24609375,8898.73046875,8892.162109375,8534.435546875,8950.146484375,8835.69140625,8709.5595703125,8724.220703125,8718.18359375,8766.318359375,8752.642578125,8767.5849609375,8913.2265625,8823.53125,8843.1611328125,8852.66796875,8774.798828125,8743.17578125,8819.7958984375,8761.7109375,8801.51953125,8794.7978515625,8796.6015625,8822.732421875,8760.181640625,8706.7236328125,8792.529296875,8737.080078125,8736.6142578125,8733.068359375,8669.3134765625,8717.21875,8687.54296875,8706.58984375,8702.7802734375,8701.3642578125,8703.837890625,8642.4208984375,8772.3046875,8800.197265625,8819.5908203125,8847.396484375,8855.865234375,8869.3203125,8855.423828125,8736.314453125,8787.572265625,8795.814453125,8763.63671875,8759.7216796875,8755.4228515625,8777.541015625,8775.95703125,8755.40234375,8572.966796875,8711.76171875,8690.2685546875,8680.03125,8614.017578125,8740.0673828125,8733.0908203125,8694.65234375,8683.591796875,8687.970703125,8690.466796875,8727.7109375,8720.3359375,8679.9755859375,8542.2607421875,8657.4296875,8639.5380859375,8630.298828125,8646.76953125,8622.7578125,8672.4296875,8629.1416015625,8655.236328125,8654.5205078125,8654.01953125,8572.693359375,8578.4228515625,8533.19921875,8549.98828125,8539.791015625,8532.2294921875,8530.455078125,8508.7470703125,8532.0400390625,8673.7685546875,8517.3076171875,8517.083984375,8522.927734375,8520.796875,8517.548828125,8301.537109375,8047.30908203125,8055.962890625,7939.13427734375,7906.90625,7869.22607421875,7492.92578125,7677.92333984375,7659.2001953125,7739.345703125,7555.98583984375,7567.205078125,7575.88818359375,7550.73779296875,7464.271484375,7624.98291015625,7562.775390625,7567.212890625,7571.8515625,7575.06591796875,7478.65283203125,7505.95166015625,7518.47216796875,7550.2978515625,7294.8310546875,7313.7568359375,7304.60302734375,7307.96533203125,7311.4619140625,7357.71630859375,7333.60009765625],\"type\":\"scatter\"},{\"mode\":\"lines\",\"name\":\"Bi-LSTM\",\"x\":[\"2017-04-03T00:00:00\",\"2017-04-10T00:00:00\",\"2017-04-17T00:00:00\",\"2017-04-24T00:00:00\",\"2017-05-01T00:00:00\",\"2017-05-08T00:00:00\",\"2017-05-15T00:00:00\",\"2017-05-22T00:00:00\",\"2017-05-29T00:00:00\",\"2017-06-05T00:00:00\",\"2017-06-12T00:00:00\",\"2017-06-19T00:00:00\",\"2017-06-26T00:00:00\",\"2017-07-03T00:00:00\",\"2017-07-10T00:00:00\",\"2017-07-17T00:00:00\",\"2017-07-24T00:00:00\",\"2017-07-31T00:00:00\",\"2017-08-07T00:00:00\",\"2017-08-14T00:00:00\",\"2017-08-21T00:00:00\",\"2017-08-28T00:00:00\",\"2017-09-04T00:00:00\",\"2017-09-11T00:00:00\",\"2017-09-18T00:00:00\",\"2017-09-25T00:00:00\",\"2017-10-02T00:00:00\",\"2017-10-09T00:00:00\",\"2017-10-16T00:00:00\",\"2017-10-23T00:00:00\",\"2017-10-30T00:00:00\",\"2017-11-06T00:00:00\",\"2017-11-13T00:00:00\",\"2017-11-20T00:00:00\",\"2017-11-27T00:00:00\",\"2017-12-04T00:00:00\",\"2017-12-11T00:00:00\",\"2017-12-18T00:00:00\",\"2017-12-25T00:00:00\",\"2018-01-01T00:00:00\",\"2018-01-08T00:00:00\",\"2018-01-15T00:00:00\",\"2018-01-22T00:00:00\",\"2018-01-29T00:00:00\",\"2018-02-05T00:00:00\",\"2018-02-12T00:00:00\",\"2018-02-19T00:00:00\",\"2018-02-26T00:00:00\",\"2018-03-05T00:00:00\",\"2018-03-12T00:00:00\",\"2018-03-19T00:00:00\",\"2018-03-26T00:00:00\",\"2018-04-02T00:00:00\",\"2018-04-09T00:00:00\",\"2018-04-16T00:00:00\",\"2018-04-23T00:00:00\",\"2018-04-30T00:00:00\",\"2018-05-07T00:00:00\",\"2018-05-14T00:00:00\",\"2018-05-21T00:00:00\",\"2018-05-28T00:00:00\",\"2018-06-04T00:00:00\",\"2018-06-11T00:00:00\",\"2018-06-18T00:00:00\",\"2018-06-25T00:00:00\",\"2018-07-02T00:00:00\",\"2018-07-09T00:00:00\",\"2018-07-16T00:00:00\",\"2018-07-23T00:00:00\",\"2018-07-30T00:00:00\",\"2018-08-06T00:00:00\",\"2018-08-13T00:00:00\",\"2018-08-20T00:00:00\",\"2018-08-27T00:00:00\",\"2018-09-03T00:00:00\",\"2018-09-10T00:00:00\",\"2018-09-17T00:00:00\",\"2018-09-24T00:00:00\",\"2018-10-01T00:00:00\",\"2018-10-08T00:00:00\",\"2018-10-15T00:00:00\",\"2018-10-22T00:00:00\",\"2018-10-29T00:00:00\",\"2018-11-05T00:00:00\",\"2018-11-12T00:00:00\",\"2018-11-19T00:00:00\",\"2018-11-26T00:00:00\",\"2018-12-03T00:00:00\",\"2018-12-10T00:00:00\",\"2018-12-17T00:00:00\",\"2018-12-24T00:00:00\",\"2018-12-31T00:00:00\",\"2019-01-07T00:00:00\",\"2019-01-14T00:00:00\",\"2019-01-21T00:00:00\",\"2019-01-28T00:00:00\",\"2019-02-04T00:00:00\",\"2019-02-11T00:00:00\",\"2019-02-18T00:00:00\",\"2019-02-25T00:00:00\",\"2019-03-04T00:00:00\",\"2019-03-11T00:00:00\",\"2019-03-18T00:00:00\",\"2019-03-25T00:00:00\",\"2019-04-01T00:00:00\",\"2019-04-08T00:00:00\",\"2019-04-15T00:00:00\",\"2019-04-22T00:00:00\",\"2019-04-29T00:00:00\",\"2019-05-06T00:00:00\",\"2019-05-13T00:00:00\",\"2019-05-20T00:00:00\",\"2019-05-27T00:00:00\",\"2019-06-03T00:00:00\",\"2019-06-10T00:00:00\",\"2019-06-17T00:00:00\",\"2019-06-24T00:00:00\",\"2019-07-01T00:00:00\",\"2019-07-08T00:00:00\",\"2019-07-15T00:00:00\",\"2019-07-22T00:00:00\",\"2019-07-29T00:00:00\",\"2019-08-05T00:00:00\",\"2019-08-12T00:00:00\",\"2019-08-19T00:00:00\",\"2019-08-26T00:00:00\",\"2019-09-02T00:00:00\",\"2019-09-09T00:00:00\",\"2019-09-16T00:00:00\",\"2019-09-23T00:00:00\",\"2019-09-30T00:00:00\",\"2019-10-07T00:00:00\",\"2019-10-14T00:00:00\",\"2019-10-21T00:00:00\",\"2019-10-28T00:00:00\",\"2019-11-04T00:00:00\",\"2019-11-11T00:00:00\",\"2019-11-18T00:00:00\",\"2019-11-25T00:00:00\",\"2019-12-02T00:00:00\",\"2019-12-09T00:00:00\",\"2019-12-16T00:00:00\",\"2019-12-23T00:00:00\",\"2019-12-30T00:00:00\",\"2020-01-06T00:00:00\",\"2020-01-13T00:00:00\",\"2020-01-20T00:00:00\",\"2020-01-27T00:00:00\",\"2020-02-03T00:00:00\",\"2020-02-10T00:00:00\",\"2020-02-17T00:00:00\",\"2020-02-24T00:00:00\",\"2020-03-02T00:00:00\",\"2020-03-09T00:00:00\",\"2020-03-16T00:00:00\",\"2020-03-23T00:00:00\",\"2020-03-30T00:00:00\",\"2020-04-06T00:00:00\",\"2020-04-13T00:00:00\",\"2020-04-20T00:00:00\",\"2020-04-27T00:00:00\",\"2020-05-04T00:00:00\",\"2020-05-11T00:00:00\",\"2020-05-18T00:00:00\",\"2020-05-25T00:00:00\",\"2020-06-01T00:00:00\",\"2020-06-08T00:00:00\",\"2020-06-15T00:00:00\",\"2020-06-22T00:00:00\",\"2020-06-29T00:00:00\",\"2020-07-06T00:00:00\",\"2020-07-13T00:00:00\",\"2020-07-20T00:00:00\",\"2020-07-27T00:00:00\",\"2020-08-03T00:00:00\",\"2020-08-10T00:00:00\",\"2020-08-17T00:00:00\",\"2020-08-24T00:00:00\",\"2020-08-31T00:00:00\",\"2020-09-07T00:00:00\",\"2020-09-14T00:00:00\",\"2020-09-21T00:00:00\",\"2020-09-28T00:00:00\",\"2020-10-05T00:00:00\",\"2020-10-12T00:00:00\",\"2020-10-19T00:00:00\",\"2020-10-26T00:00:00\",\"2020-11-02T00:00:00\",\"2020-11-09T00:00:00\",\"2020-11-16T00:00:00\",\"2020-11-23T00:00:00\",\"2020-11-30T00:00:00\",\"2020-12-07T00:00:00\",\"2020-12-14T00:00:00\",\"2020-12-21T00:00:00\",\"2020-12-28T00:00:00\",\"2021-01-04T00:00:00\",\"2021-01-11T00:00:00\",\"2021-01-18T00:00:00\",\"2021-01-25T00:00:00\",\"2021-02-01T00:00:00\",\"2021-02-08T00:00:00\",\"2021-02-15T00:00:00\",\"2021-02-22T00:00:00\",\"2021-03-01T00:00:00\",\"2021-03-08T00:00:00\",\"2021-03-15T00:00:00\",\"2021-03-22T00:00:00\",\"2021-03-29T00:00:00\",\"2021-04-05T00:00:00\",\"2021-04-12T00:00:00\",\"2021-04-19T00:00:00\",\"2021-04-26T00:00:00\",\"2021-05-03T00:00:00\",\"2021-05-10T00:00:00\",\"2021-05-17T00:00:00\",\"2021-05-24T00:00:00\",\"2021-05-31T00:00:00\",\"2021-06-07T00:00:00\",\"2021-06-14T00:00:00\",\"2021-06-21T00:00:00\",\"2021-06-28T00:00:00\",\"2021-07-05T00:00:00\",\"2021-07-12T00:00:00\",\"2021-07-19T00:00:00\",\"2021-07-26T00:00:00\",\"2021-08-02T00:00:00\",\"2021-08-09T00:00:00\",\"2021-08-16T00:00:00\",\"2021-08-23T00:00:00\",\"2021-08-30T00:00:00\",\"2021-09-06T00:00:00\",\"2021-09-13T00:00:00\",\"2021-09-20T00:00:00\",\"2021-09-27T00:00:00\",\"2021-10-04T00:00:00\",\"2021-10-11T00:00:00\",\"2021-10-18T00:00:00\",\"2021-10-25T00:00:00\",\"2021-11-01T00:00:00\",\"2021-11-08T00:00:00\",\"2021-11-15T00:00:00\",\"2021-11-22T00:00:00\",\"2021-11-29T00:00:00\",\"2021-12-06T00:00:00\",\"2021-12-13T00:00:00\",\"2021-12-20T00:00:00\",\"2021-12-27T00:00:00\",\"2022-01-03T00:00:00\",\"2022-01-10T00:00:00\",\"2022-01-17T00:00:00\",\"2022-01-24T00:00:00\",\"2022-01-31T00:00:00\",\"2022-02-07T00:00:00\",\"2022-02-14T00:00:00\",\"2022-02-21T00:00:00\",\"2022-02-28T00:00:00\",\"2022-03-07T00:00:00\",\"2022-03-14T00:00:00\",\"2022-03-21T00:00:00\",\"2022-03-28T00:00:00\",\"2022-04-04T00:00:00\"],\"y\":[8853.76953125,8861.08984375,8861.123046875,8656.4462890625,8614.591796875,8731.123046875,8744.283203125,8918.30078125,8935.0048828125,8932.2353515625,8931.240234375,8888.7841796875,8792.9599609375,8739.7080078125,8851.849609375,8863.6943359375,8859.8447265625,8701.1005859375,8597.3642578125,8570.40234375,8616.5869140625,8687.939453125,8692.1025390625,8690.251953125,8557.4541015625,8522.7314453125,8523.451171875,8503.09375,8455.1328125,8450.076171875,8452.6689453125,8585.3212890625,8531.953125,8522.130859375,8522.2880859375,8525.3857421875,8524.8603515625,8523.4443359375,8283.0966796875,8300.876953125,8289.0009765625,8378.1611328125,8338.8017578125,8331.15234375,8333.37109375,8227.3486328125,8194.5234375,8192.041015625,8281.794921875,8160.9638671875,8142.78564453125,8144.26611328125,8213.89453125,8219.314453125,8236.26953125,8648.7939453125,8478.484375,8447.984375,8446.8623046875,8370.240234375,8209.708984375,8163.77587890625,8170.34814453125,8194.6484375,8193.0078125,8191.14599609375,8171.38916015625,8169.798828125,8191.76220703125,8151.869140625,7832.501953125,7793.96728515625,7800.20263671875,7957.89697265625,8066.5263671875,8007.8046875,8042.06005859375,8049.9189453125,8058.12744140625,8054.41455078125,8010.38623046875,8239.1865234375,8181.6044921875,8467.5244140625,8432.7705078125,8428.3330078125,8425.845703125,8256.6083984375,8392.0712890625,8451.52734375,8478.4716796875,8539.15625,8547.4658203125,8548.7373046875,8790.0625,8927.1015625,8710.435546875,8661.8056640625,8577.7919921875,8573.0009765625,8571.169921875,8503.79296875,8497.8173828125,8499.240234375,8789.302734375,8661.318359375,8638.98828125,8640.5498046875,8713.388671875,8517.8984375,8493.2783203125,8366.0791015625,8159.4375,8140.361328125,8144.24560546875,8150.93701171875,8230.2509765625,8196.1201171875,8171.59375,8274.3427734375,8290.125,8288.90234375,8177.6455078125,8082.98046875,8076.9677734375,8100.50830078125,8209.2177734375,8216.7841796875,8214.779296875,8256.77734375,8264.8466796875,8351.029296875,8187.20947265625,8167.1875,8168.6689453125,8174.0966796875,8235.572265625,8217.4970703125,8237.873046875,8239.234375,8305.1796875,8312.3095703125,8310.6005859375,8569.6328125,8447.3173828125,8404.873046875,8444.451171875,8478.8037109375,8479.3408203125,8474.31640625,8519.9306640625,8437.7919921875,8427.2509765625,8516.0576171875,8505.431640625,8499.8330078125,8498.2265625,8435.0478515625,8450.17578125,8387.1044921875,8250.4169921875,8171.4423828125,8167.859375,8172.81103515625,8149.0908203125,8294.189453125,8226.7236328125,8258.61328125,8304.0126953125,8313.3603515625,8311.8994140625,8352.1630859375,8251.9033203125,8238.9912109375,8347.2822265625,8340.798828125,8334.4521484375,8331.0791015625,8617.8916015625,8801.205078125,8832.73828125,8830.2626953125,8879.7021484375,8885.9833984375,8884.5107421875,8838.935546875,8857.8349609375,8929.0078125,9275.0234375,9257.208984375,9245.2734375,9248.546875,9276.46875,9274.2177734375,9276.94140625,9207.1484375,9085.38671875,9077.1259765625,9080.689453125,9080.138671875,9079.4111328125,8849.9775390625,8783.34375,8785.6630859375,8788.806640625,8786.7724609375,8786.8818359375,8832.72265625,8769.5009765625,8784.3466796875,8787.9873046875,8788.4912109375,8787.2783203125,8877.93359375,8909.0263671875,8886.25390625,8837.9970703125,8925.900390625,8935.591796875,8932.984375,8909.462890625,8817.9140625,8832.33984375,9041.7373046875,9014.166015625,9003.24609375,9005.0078125,9053.2744140625,8941.2451171875,8975.8896484375,8937.3701171875,8864.2822265625,8857.623046875,8860.7880859375,8860.572265625,8475.67578125,8867.6083984375,8851.46875,8701.9833984375,8682.779296875,8692.419921875,8738.8583984375,8739.7119140625,8761.3984375,8920.6953125,8846.1865234375,8833.291015625,8835.1279296875,8747.2919921875,8692.0458984375,8779.9365234375,8745.6923828125,8783.2021484375,8787.5693359375,8788.3701171875,8809.7607421875,8744.9775390625,8670.5068359375,8755.236328125,8721.5859375,8714.59375,8714.009765625,8648.7451171875,8686.625,8669.8896484375,8689.82421875,8691.166015625,8691.4990234375,8691.2607421875,8624.3759765625,8751.9423828125,8811.583984375,8835.427734375,8856.91796875,8860.787109375,8860.3408203125,8837.673828125,8700.1318359375,8732.67578125,8763.365234375,8742.626953125,8737.7373046875,8739.05078125,8762.4111328125,8764.078125,8741.0146484375,8537.2783203125,8652.169921875,8670.9658203125,8669.380859375,8598.162109375,8727.17578125,8743.00390625,8695.26171875,8666.4072265625,8667.1552734375,8668.48828125,8712.12890625,8716.2001953125,8670.587890625,8510.005859375,8607.1083984375,8622.8408203125,8621.0615234375,8639.4736328125,8621.30859375,8664.00390625,8623.7001953125,8640.9560546875,8643.5,8643.958984375,8554.3681640625,8545.1943359375,8503.4189453125,8522.0947265625,8524.0908203125,8523.8310546875,8523.54296875,8501.6806640625,8521.896484375,8679.232421875,8540.095703125,8498.0947265625,8497.5810546875,8502.8349609375,8501.2734375,8279.21484375,7978.32177734375,7951.26416015625,7878.95703125,7875.802734375,7864.6337890625,7521.30859375,7642.03173828125,7682.00048828125,7804.69970703125,7633.1064453125,7605.5732421875,7617.6923828125,7606.92822265625,7521.6591796875,7658.82861328125,7646.07177734375,7643.9912109375,7630.7158203125,7638.46142578125,7547.46630859375,7546.66064453125,7570.12255859375,7617.83544921875,7384.1435546875,7347.60888671875,7349.25830078125,7387.8369140625,7395.1318359375,7441.79150390625],\"type\":\"scatter\"}],                        {\"hovermode\":\"x\",\"template\":{\"data\":{\"barpolar\":[{\"marker\":{\"line\":{\"color\":\"#E5ECF6\",\"width\":0.5},\"pattern\":{\"fillmode\":\"overlay\",\"size\":10,\"solidity\":0.2}},\"type\":\"barpolar\"}],\"bar\":[{\"error_x\":{\"color\":\"#2a3f5f\"},\"error_y\":{\"color\":\"#2a3f5f\"},\"marker\":{\"line\":{\"color\":\"#E5ECF6\",\"width\":0.5},\"pattern\":{\"fillmode\":\"overlay\",\"size\":10,\"solidity\":0.2}},\"type\":\"bar\"}],\"carpet\":[{\"aaxis\":{\"endlinecolor\":\"#2a3f5f\",\"gridcolor\":\"white\",\"linecolor\":\"white\",\"minorgridcolor\":\"white\",\"startlinecolor\":\"#2a3f5f\"},\"baxis\":{\"endlinecolor\":\"#2a3f5f\",\"gridcolor\":\"white\",\"linecolor\":\"white\",\"minorgridcolor\":\"white\",\"startlinecolor\":\"#2a3f5f\"},\"type\":\"carpet\"}],\"choropleth\":[{\"colorbar\":{\"outlinewidth\":0,\"ticks\":\"\"},\"type\":\"choropleth\"}],\"contourcarpet\":[{\"colorbar\":{\"outlinewidth\":0,\"ticks\":\"\"},\"type\":\"contourcarpet\"}],\"contour\":[{\"colorbar\":{\"outlinewidth\":0,\"ticks\":\"\"},\"colorscale\":[[0.0,\"#0d0887\"],[0.1111111111111111,\"#46039f\"],[0.2222222222222222,\"#7201a8\"],[0.3333333333333333,\"#9c179e\"],[0.4444444444444444,\"#bd3786\"],[0.5555555555555556,\"#d8576b\"],[0.6666666666666666,\"#ed7953\"],[0.7777777777777778,\"#fb9f3a\"],[0.8888888888888888,\"#fdca26\"],[1.0,\"#f0f921\"]],\"type\":\"contour\"}],\"heatmapgl\":[{\"colorbar\":{\"outlinewidth\":0,\"ticks\":\"\"},\"colorscale\":[[0.0,\"#0d0887\"],[0.1111111111111111,\"#46039f\"],[0.2222222222222222,\"#7201a8\"],[0.3333333333333333,\"#9c179e\"],[0.4444444444444444,\"#bd3786\"],[0.5555555555555556,\"#d8576b\"],[0.6666666666666666,\"#ed7953\"],[0.7777777777777778,\"#fb9f3a\"],[0.8888888888888888,\"#fdca26\"],[1.0,\"#f0f921\"]],\"type\":\"heatmapgl\"}],\"heatmap\":[{\"colorbar\":{\"outlinewidth\":0,\"ticks\":\"\"},\"colorscale\":[[0.0,\"#0d0887\"],[0.1111111111111111,\"#46039f\"],[0.2222222222222222,\"#7201a8\"],[0.3333333333333333,\"#9c179e\"],[0.4444444444444444,\"#bd3786\"],[0.5555555555555556,\"#d8576b\"],[0.6666666666666666,\"#ed7953\"],[0.7777777777777778,\"#fb9f3a\"],[0.8888888888888888,\"#fdca26\"],[1.0,\"#f0f921\"]],\"type\":\"heatmap\"}],\"histogram2dcontour\":[{\"colorbar\":{\"outlinewidth\":0,\"ticks\":\"\"},\"colorscale\":[[0.0,\"#0d0887\"],[0.1111111111111111,\"#46039f\"],[0.2222222222222222,\"#7201a8\"],[0.3333333333333333,\"#9c179e\"],[0.4444444444444444,\"#bd3786\"],[0.5555555555555556,\"#d8576b\"],[0.6666666666666666,\"#ed7953\"],[0.7777777777777778,\"#fb9f3a\"],[0.8888888888888888,\"#fdca26\"],[1.0,\"#f0f921\"]],\"type\":\"histogram2dcontour\"}],\"histogram2d\":[{\"colorbar\":{\"outlinewidth\":0,\"ticks\":\"\"},\"colorscale\":[[0.0,\"#0d0887\"],[0.1111111111111111,\"#46039f\"],[0.2222222222222222,\"#7201a8\"],[0.3333333333333333,\"#9c179e\"],[0.4444444444444444,\"#bd3786\"],[0.5555555555555556,\"#d8576b\"],[0.6666666666666666,\"#ed7953\"],[0.7777777777777778,\"#fb9f3a\"],[0.8888888888888888,\"#fdca26\"],[1.0,\"#f0f921\"]],\"type\":\"histogram2d\"}],\"histogram\":[{\"marker\":{\"pattern\":{\"fillmode\":\"overlay\",\"size\":10,\"solidity\":0.2}},\"type\":\"histogram\"}],\"mesh3d\":[{\"colorbar\":{\"outlinewidth\":0,\"ticks\":\"\"},\"type\":\"mesh3d\"}],\"parcoords\":[{\"line\":{\"colorbar\":{\"outlinewidth\":0,\"ticks\":\"\"}},\"type\":\"parcoords\"}],\"pie\":[{\"automargin\":true,\"type\":\"pie\"}],\"scatter3d\":[{\"line\":{\"colorbar\":{\"outlinewidth\":0,\"ticks\":\"\"}},\"marker\":{\"colorbar\":{\"outlinewidth\":0,\"ticks\":\"\"}},\"type\":\"scatter3d\"}],\"scattercarpet\":[{\"marker\":{\"colorbar\":{\"outlinewidth\":0,\"ticks\":\"\"}},\"type\":\"scattercarpet\"}],\"scattergeo\":[{\"marker\":{\"colorbar\":{\"outlinewidth\":0,\"ticks\":\"\"}},\"type\":\"scattergeo\"}],\"scattergl\":[{\"marker\":{\"colorbar\":{\"outlinewidth\":0,\"ticks\":\"\"}},\"type\":\"scattergl\"}],\"scattermapbox\":[{\"marker\":{\"colorbar\":{\"outlinewidth\":0,\"ticks\":\"\"}},\"type\":\"scattermapbox\"}],\"scatterpolargl\":[{\"marker\":{\"colorbar\":{\"outlinewidth\":0,\"ticks\":\"\"}},\"type\":\"scatterpolargl\"}],\"scatterpolar\":[{\"marker\":{\"colorbar\":{\"outlinewidth\":0,\"ticks\":\"\"}},\"type\":\"scatterpolar\"}],\"scatter\":[{\"marker\":{\"colorbar\":{\"outlinewidth\":0,\"ticks\":\"\"}},\"type\":\"scatter\"}],\"scatterternary\":[{\"marker\":{\"colorbar\":{\"outlinewidth\":0,\"ticks\":\"\"}},\"type\":\"scatterternary\"}],\"surface\":[{\"colorbar\":{\"outlinewidth\":0,\"ticks\":\"\"},\"colorscale\":[[0.0,\"#0d0887\"],[0.1111111111111111,\"#46039f\"],[0.2222222222222222,\"#7201a8\"],[0.3333333333333333,\"#9c179e\"],[0.4444444444444444,\"#bd3786\"],[0.5555555555555556,\"#d8576b\"],[0.6666666666666666,\"#ed7953\"],[0.7777777777777778,\"#fb9f3a\"],[0.8888888888888888,\"#fdca26\"],[1.0,\"#f0f921\"]],\"type\":\"surface\"}],\"table\":[{\"cells\":{\"fill\":{\"color\":\"#EBF0F8\"},\"line\":{\"color\":\"white\"}},\"header\":{\"fill\":{\"color\":\"#C8D4E3\"},\"line\":{\"color\":\"white\"}},\"type\":\"table\"}]},\"layout\":{\"annotationdefaults\":{\"arrowcolor\":\"#2a3f5f\",\"arrowhead\":0,\"arrowwidth\":1},\"autotypenumbers\":\"strict\",\"coloraxis\":{\"colorbar\":{\"outlinewidth\":0,\"ticks\":\"\"}},\"colorscale\":{\"diverging\":[[0,\"#8e0152\"],[0.1,\"#c51b7d\"],[0.2,\"#de77ae\"],[0.3,\"#f1b6da\"],[0.4,\"#fde0ef\"],[0.5,\"#f7f7f7\"],[0.6,\"#e6f5d0\"],[0.7,\"#b8e186\"],[0.8,\"#7fbc41\"],[0.9,\"#4d9221\"],[1,\"#276419\"]],\"sequential\":[[0.0,\"#0d0887\"],[0.1111111111111111,\"#46039f\"],[0.2222222222222222,\"#7201a8\"],[0.3333333333333333,\"#9c179e\"],[0.4444444444444444,\"#bd3786\"],[0.5555555555555556,\"#d8576b\"],[0.6666666666666666,\"#ed7953\"],[0.7777777777777778,\"#fb9f3a\"],[0.8888888888888888,\"#fdca26\"],[1.0,\"#f0f921\"]],\"sequentialminus\":[[0.0,\"#0d0887\"],[0.1111111111111111,\"#46039f\"],[0.2222222222222222,\"#7201a8\"],[0.3333333333333333,\"#9c179e\"],[0.4444444444444444,\"#bd3786\"],[0.5555555555555556,\"#d8576b\"],[0.6666666666666666,\"#ed7953\"],[0.7777777777777778,\"#fb9f3a\"],[0.8888888888888888,\"#fdca26\"],[1.0,\"#f0f921\"]]},\"colorway\":[\"#636efa\",\"#EF553B\",\"#00cc96\",\"#ab63fa\",\"#FFA15A\",\"#19d3f3\",\"#FF6692\",\"#B6E880\",\"#FF97FF\",\"#FECB52\"],\"font\":{\"color\":\"#2a3f5f\"},\"geo\":{\"bgcolor\":\"white\",\"lakecolor\":\"white\",\"landcolor\":\"#E5ECF6\",\"showlakes\":true,\"showland\":true,\"subunitcolor\":\"white\"},\"hoverlabel\":{\"align\":\"left\"},\"hovermode\":\"closest\",\"mapbox\":{\"style\":\"light\"},\"paper_bgcolor\":\"white\",\"plot_bgcolor\":\"#E5ECF6\",\"polar\":{\"angularaxis\":{\"gridcolor\":\"white\",\"linecolor\":\"white\",\"ticks\":\"\"},\"bgcolor\":\"#E5ECF6\",\"radialaxis\":{\"gridcolor\":\"white\",\"linecolor\":\"white\",\"ticks\":\"\"}},\"scene\":{\"xaxis\":{\"backgroundcolor\":\"#E5ECF6\",\"gridcolor\":\"white\",\"gridwidth\":2,\"linecolor\":\"white\",\"showbackground\":true,\"ticks\":\"\",\"zerolinecolor\":\"white\"},\"yaxis\":{\"backgroundcolor\":\"#E5ECF6\",\"gridcolor\":\"white\",\"gridwidth\":2,\"linecolor\":\"white\",\"showbackground\":true,\"ticks\":\"\",\"zerolinecolor\":\"white\"},\"zaxis\":{\"backgroundcolor\":\"#E5ECF6\",\"gridcolor\":\"white\",\"gridwidth\":2,\"linecolor\":\"white\",\"showbackground\":true,\"ticks\":\"\",\"zerolinecolor\":\"white\"}},\"shapedefaults\":{\"line\":{\"color\":\"#2a3f5f\"}},\"ternary\":{\"aaxis\":{\"gridcolor\":\"white\",\"linecolor\":\"white\",\"ticks\":\"\"},\"baxis\":{\"gridcolor\":\"white\",\"linecolor\":\"white\",\"ticks\":\"\"},\"bgcolor\":\"#E5ECF6\",\"caxis\":{\"gridcolor\":\"white\",\"linecolor\":\"white\",\"ticks\":\"\"}},\"title\":{\"x\":0.05},\"xaxis\":{\"automargin\":true,\"gridcolor\":\"white\",\"linecolor\":\"white\",\"ticks\":\"\",\"title\":{\"standoff\":15},\"zerolinecolor\":\"white\",\"zerolinewidth\":2},\"yaxis\":{\"automargin\":true,\"gridcolor\":\"white\",\"linecolor\":\"white\",\"ticks\":\"\",\"title\":{\"standoff\":15},\"zerolinecolor\":\"white\",\"zerolinewidth\":2}}},\"title\":{\"text\":\"ICBP Prices Test Prediction (2017-2022) with the Slider \"},\"xaxis\":{\"rangeselector\":{\"buttons\":[{\"count\":1,\"label\":\"1m\",\"step\":\"month\",\"stepmode\":\"backward\"},{\"count\":6,\"label\":\"6m\",\"step\":\"month\",\"stepmode\":\"backward\"},{\"count\":12,\"label\":\"1y\",\"step\":\"month\",\"stepmode\":\"backward\"},{\"count\":36,\"label\":\"3y\",\"step\":\"month\",\"stepmode\":\"backward\"},{\"step\":\"all\"}]},\"rangeslider\":{\"visible\":true},\"type\":\"date\"}},                        {\"responsive\": true}                    ).then(function(){\n",
              "                            \n",
              "var gd = document.getElementById('3f47f1be-98ee-431e-b26f-f75ec99ed0ca');\n",
              "var x = new MutationObserver(function (mutations, observer) {{\n",
              "        var display = window.getComputedStyle(gd).display;\n",
              "        if (!display || display === 'none') {{\n",
              "            console.log([gd, 'removed!']);\n",
              "            Plotly.purge(gd);\n",
              "            observer.disconnect();\n",
              "        }}\n",
              "}});\n",
              "\n",
              "// Listen for the removal of the full notebook cells\n",
              "var notebookContainer = gd.closest('#notebook-container');\n",
              "if (notebookContainer) {{\n",
              "    x.observe(notebookContainer, {childList: true});\n",
              "}}\n",
              "\n",
              "// Listen for the clearing of the current output cell\n",
              "var outputEl = gd.closest('.output');\n",
              "if (outputEl) {{\n",
              "    x.observe(outputEl, {childList: true});\n",
              "}}\n",
              "\n",
              "                        })                };                            </script>        </div>\n",
              "</body>\n",
              "</html>"
            ]
          },
          "metadata": {},
          "output_type": "display_data"
        }
      ],
      "source": [
        "trace1 = go.Scatter(\n",
        "    x = weekly_rows['Date'],\n",
        "    y = test_y[0].astype(float),\n",
        "    mode = 'lines',\n",
        "    name = 'Data Aktual'\n",
        ")\n",
        "\n",
        "trace2 = go.Scatter(\n",
        "    x = weekly_rows['Date'],\n",
        "    y = np.ravel(test_predict).astype(float),\n",
        "    mode = 'lines',\n",
        "    name = 'Vanilla LSTM'\n",
        ")\n",
        "\n",
        "trace3 = go.Scatter(\n",
        "    x = weekly_rows['Date'],\n",
        "    y = np.ravel(cnn_test).astype(float),\n",
        "    mode = 'lines',\n",
        "    name = 'CNN-LSTM'\n",
        ")\n",
        "\n",
        "trace4 = go.Scatter(\n",
        "    x = weekly_rows['Date'],\n",
        "    y = np.ravel(test_predict2).astype(float),\n",
        "    mode = 'lines',\n",
        "    name = 'Bi-LSTM'\n",
        ")\n",
        "\n",
        "layout = dict(\n",
        "    title='ICBP Prices Test Prediction (2017-2022) with the Slider ',\n",
        "    hovermode='x',\n",
        "    xaxis=dict(\n",
        "        rangeselector=dict(\n",
        "            buttons=list([\n",
        "                #change the count to desired amount of months.\n",
        "                dict(count=1,\n",
        "                     label='1m',\n",
        "                     step='month',\n",
        "                     stepmode='backward'),\n",
        "                dict(count=6,\n",
        "                     label='6m',\n",
        "                     step='month',\n",
        "                     stepmode='backward'),\n",
        "                dict(count=12,\n",
        "                     label='1y',\n",
        "                     step='month',\n",
        "                     stepmode='backward'),\n",
        "                dict(count=36,\n",
        "                     label='3y',\n",
        "                     step='month',\n",
        "                     stepmode='backward'),\n",
        "                dict(step='all')\n",
        "            ])\n",
        "        ),\n",
        "        rangeslider=dict(\n",
        "            visible = True\n",
        "        ),\n",
        "        type='date'\n",
        "    )\n",
        ")\n",
        "\n",
        "# data = [trace1,trace2, trace3]\n",
        "data = [trace1,trace2,trace3,trace4]\n",
        "fig = dict(data=data, layout=layout)\n",
        "iplot(fig, filename = \"Time Series with Rangeslider\")\n",
        "# fig.show()"
      ]
    },
    {
      "cell_type": "markdown",
      "metadata": {
        "id": "iHR-crIVbAmN"
      },
      "source": [
        "# Feature Importance"
      ]
    },
    {
      "cell_type": "code",
      "execution_count": null,
      "metadata": {
        "colab": {
          "base_uri": "https://localhost:8080/",
          "height": 156
        },
        "id": "Vh6Dt-znkk5q",
        "outputId": "fa747c7c-b61e-4ed1-94d3-d417a4899251"
      },
      "outputs": [
        {
          "data": {
            "text/html": [
              "\n",
              "    <style>\n",
              "    table.eli5-weights tr:hover {\n",
              "        filter: brightness(85%);\n",
              "    }\n",
              "</style>\n",
              "\n",
              "\n",
              "\n",
              "    \n",
              "\n",
              "    \n",
              "\n",
              "    \n",
              "\n",
              "    \n",
              "\n",
              "    \n",
              "\n",
              "    \n",
              "\n",
              "\n",
              "    \n",
              "\n",
              "    \n",
              "\n",
              "    \n",
              "\n",
              "    \n",
              "\n",
              "    \n",
              "\n",
              "    \n",
              "\n",
              "\n",
              "    \n",
              "\n",
              "    \n",
              "\n",
              "    \n",
              "\n",
              "    \n",
              "\n",
              "    \n",
              "        <table class=\"eli5-weights eli5-feature-importances\" style=\"border-collapse: collapse; border: none; margin-top: 0em; table-layout: auto;\">\n",
              "    <thead>\n",
              "    <tr style=\"border: none;\">\n",
              "        <th style=\"padding: 0 1em 0 0.5em; text-align: right; border: none;\">Weight</th>\n",
              "        <th style=\"padding: 0 0.5em 0 0.5em; text-align: left; border: none;\">Feature</th>\n",
              "    </tr>\n",
              "    </thead>\n",
              "    <tbody>\n",
              "    \n",
              "        <tr style=\"background-color: hsl(120, 100.00%, 80.00%); border: none;\">\n",
              "            <td style=\"padding: 0 1em 0 0.5em; text-align: right; border: none;\">\n",
              "                0.0700\n",
              "                \n",
              "                    &plusmn; 0.0144\n",
              "                \n",
              "            </td>\n",
              "            <td style=\"padding: 0 0.5em 0 0.5em; text-align: left; border: none;\">\n",
              "                lag-2\n",
              "            </td>\n",
              "        </tr>\n",
              "    \n",
              "        <tr style=\"background-color: hsl(120, 100.00%, 80.35%); border: none;\">\n",
              "            <td style=\"padding: 0 1em 0 0.5em; text-align: right; border: none;\">\n",
              "                0.0683\n",
              "                \n",
              "                    &plusmn; 0.0113\n",
              "                \n",
              "            </td>\n",
              "            <td style=\"padding: 0 0.5em 0 0.5em; text-align: left; border: none;\">\n",
              "                lag-5\n",
              "            </td>\n",
              "        </tr>\n",
              "    \n",
              "        <tr style=\"background-color: hsl(120, 100.00%, 80.97%); border: none;\">\n",
              "            <td style=\"padding: 0 1em 0 0.5em; text-align: right; border: none;\">\n",
              "                0.0652\n",
              "                \n",
              "                    &plusmn; 0.0146\n",
              "                \n",
              "            </td>\n",
              "            <td style=\"padding: 0 0.5em 0 0.5em; text-align: left; border: none;\">\n",
              "                lag-4\n",
              "            </td>\n",
              "        </tr>\n",
              "    \n",
              "        <tr style=\"background-color: hsl(120, 100.00%, 81.00%); border: none;\">\n",
              "            <td style=\"padding: 0 1em 0 0.5em; text-align: right; border: none;\">\n",
              "                0.0651\n",
              "                \n",
              "                    &plusmn; 0.0129\n",
              "                \n",
              "            </td>\n",
              "            <td style=\"padding: 0 0.5em 0 0.5em; text-align: left; border: none;\">\n",
              "                lag-6\n",
              "            </td>\n",
              "        </tr>\n",
              "    \n",
              "        <tr style=\"background-color: hsl(120, 100.00%, 81.80%); border: none;\">\n",
              "            <td style=\"padding: 0 1em 0 0.5em; text-align: right; border: none;\">\n",
              "                0.0612\n",
              "                \n",
              "                    &plusmn; 0.0104\n",
              "                \n",
              "            </td>\n",
              "            <td style=\"padding: 0 0.5em 0 0.5em; text-align: left; border: none;\">\n",
              "                lag-3\n",
              "            </td>\n",
              "        </tr>\n",
              "    \n",
              "        <tr style=\"background-color: hsl(120, 100.00%, 90.90%); border: none;\">\n",
              "            <td style=\"padding: 0 1em 0 0.5em; text-align: right; border: none;\">\n",
              "                0.0227\n",
              "                \n",
              "                    &plusmn; 0.0025\n",
              "                \n",
              "            </td>\n",
              "            <td style=\"padding: 0 0.5em 0 0.5em; text-align: left; border: none;\">\n",
              "                lag-1\n",
              "            </td>\n",
              "        </tr>\n",
              "    \n",
              "        <tr style=\"background-color: hsl(120, 100.00%, 94.61%); border: none;\">\n",
              "            <td style=\"padding: 0 1em 0 0.5em; text-align: right; border: none;\">\n",
              "                0.0108\n",
              "                \n",
              "                    &plusmn; 0.0018\n",
              "                \n",
              "            </td>\n",
              "            <td style=\"padding: 0 0.5em 0 0.5em; text-align: left; border: none;\">\n",
              "                lag-7\n",
              "            </td>\n",
              "        </tr>\n",
              "    \n",
              "    \n",
              "    </tbody>\n",
              "</table>\n",
              "    \n",
              "\n",
              "    \n",
              "\n",
              "\n",
              "    \n",
              "\n",
              "    \n",
              "\n",
              "    \n",
              "\n",
              "    \n",
              "\n",
              "    \n",
              "\n",
              "    \n",
              "\n",
              "\n",
              "\n"
            ],
            "text/plain": [
              "<IPython.core.display.HTML object>"
            ]
          },
          "execution_count": 214,
          "metadata": {},
          "output_type": "execute_result"
        }
      ],
      "source": [
        "import eli5\n",
        "from eli5.sklearn import PermutationImportance\n",
        "\n",
        "perm = PermutationImportance(model, scoring=\"r2\", random_state=1).fit(X_train,y_train)\n",
        "eli5.show_weights(perm, feature_names = [f'lag-{7-i}' for i in range(7)])"
      ]
    },
    {
      "cell_type": "code",
      "execution_count": null,
      "metadata": {
        "colab": {
          "base_uri": "https://localhost:8080/"
        },
        "id": "rCgoIpbWtenD",
        "outputId": "41401e5d-5ad3-4dec-a73a-a36bde7de25f"
      },
      "outputs": [
        {
          "data": {
            "text/plain": [
              "['lag-7', 'lag-6', 'lag-5', 'lag-4', 'lag-3', 'lag-2', 'lag-1']"
            ]
          },
          "execution_count": 215,
          "metadata": {},
          "output_type": "execute_result"
        }
      ],
      "source": [
        " [f'lag-{7-i}' for i in range(7)]"
      ]
    },
    {
      "cell_type": "markdown",
      "metadata": {
        "id": "zISC1SjJ_jV0"
      },
      "source": [
        "# Hyperparameter Tuning"
      ]
    },
    {
      "cell_type": "code",
      "execution_count": null,
      "metadata": {
        "colab": {
          "base_uri": "https://localhost:8080/"
        },
        "id": "Kdwg-SOXAnMl",
        "outputId": "ca089c1e-0ec8-4ece-ca06-647e89895073"
      },
      "outputs": [
        {
          "name": "stdout",
          "output_type": "stream",
          "text": [
            "\u001b[?25l\r\u001b[K     |██▌                             | 10 kB 21.8 MB/s eta 0:00:01\r\u001b[K     |█████                           | 20 kB 19.8 MB/s eta 0:00:01\r\u001b[K     |███████▍                        | 30 kB 11.2 MB/s eta 0:00:01\r\u001b[K     |█████████▉                      | 40 kB 9.2 MB/s eta 0:00:01\r\u001b[K     |████████████▎                   | 51 kB 4.7 MB/s eta 0:00:01\r\u001b[K     |██████████████▊                 | 61 kB 5.5 MB/s eta 0:00:01\r\u001b[K     |█████████████████▏              | 71 kB 5.8 MB/s eta 0:00:01\r\u001b[K     |███████████████████▋            | 81 kB 5.9 MB/s eta 0:00:01\r\u001b[K     |██████████████████████          | 92 kB 6.5 MB/s eta 0:00:01\r\u001b[K     |████████████████████████▌       | 102 kB 5.2 MB/s eta 0:00:01\r\u001b[K     |███████████████████████████     | 112 kB 5.2 MB/s eta 0:00:01\r\u001b[K     |█████████████████████████████▍  | 122 kB 5.2 MB/s eta 0:00:01\r\u001b[K     |███████████████████████████████▉| 133 kB 5.2 MB/s eta 0:00:01\r\u001b[K     |████████████████████████████████| 133 kB 5.2 MB/s \n",
            "\u001b[?25h"
          ]
        }
      ],
      "source": [
        "!pip install -q -U keras-tuner"
      ]
    },
    {
      "cell_type": "code",
      "execution_count": null,
      "metadata": {
        "id": "5sGthxtXAiZs"
      },
      "outputs": [],
      "source": [
        "import keras_tuner as kt"
      ]
    },
    {
      "cell_type": "code",
      "execution_count": null,
      "metadata": {
        "id": "Gt2e-CzyAAgc"
      },
      "outputs": [],
      "source": [
        "def model_builder(hp):\n",
        "  n_steps, n_features = 7, 1\n",
        "  model = Sequential()\n",
        "\n",
        "  # Tune the number of units in the first Dense layer\n",
        "  # Choose an optimal value between 32-512\n",
        "  hp_filter = hp.Int('units_filter', min_value=8, max_value=512, step=32)\n",
        "  hp_units_lstm = hp.Int('units_lstm', min_value=8, max_value=512, step=32)\n",
        "  hp_units_dense = hp.Int('units_dense', min_value=8, max_value=512, step=32)\n",
        "  model.add(Reshape((n_steps, n_features), input_dim=n_steps))\n",
        "  model.add(Conv1D(filters=hp_filter, kernel_size=2, activation='relu'))\n",
        "  model.add(LSTM(hp_units_lstm, activation='relu'))\n",
        "  model.add(Dense(hp_units_dense, activation='relu'))\n",
        "  model.add(Dense(1))\n",
        "\n",
        "  # Tune the learning rate for the optimizer\n",
        "  # Choose an optimal value from 0.01, 0.001, or 0.0001\n",
        "  hp_learning_rate = hp.Choice('learning_rate', values=[1e-2, 1e-3, 1e-4])\n",
        "\n",
        "  model.compile(optimizer=keras.optimizers.Adam(learning_rate=hp_learning_rate), loss='mse')\n",
        "\n",
        "  return model"
      ]
    },
    {
      "cell_type": "code",
      "execution_count": null,
      "metadata": {
        "id": "8aNwGPpYBCLU"
      },
      "outputs": [],
      "source": [
        "stop_early = tf.keras.callbacks.EarlyStopping(monitor='val_loss', patience=5)"
      ]
    },
    {
      "cell_type": "code",
      "execution_count": null,
      "metadata": {
        "colab": {
          "base_uri": "https://localhost:8080/"
        },
        "id": "KL05XWASAZPN",
        "outputId": "443d8c37-6b03-4347-f395-6dabeb7f0995"
      },
      "outputs": [
        {
          "name": "stdout",
          "output_type": "stream",
          "text": [
            "Best tune:\n",
            "units_filter: 72\n",
            "units_lstm: 296\n",
            "units_dense: 296\n",
            "learning_rate: 0.01\n"
          ]
        }
      ],
      "source": [
        "n_steps, n_features = 7, 1\n",
        "X, y = input_output_split_sequence(ts, n_steps)\n",
        "\n",
        "tuner = kt.Hyperband(model_builder,\n",
        "                     objective='val_loss',\n",
        "                     max_epochs=10,\n",
        "                     factor=3,\n",
        "                     directory='cnn-lstm_model',\n",
        "                     project_name='during_covid',\n",
        "                    # # FOR TRAIN ONLY\n",
        "                    #  overwrite=True\n",
        "                    # # --------------\n",
        "                     )\n",
        "\n",
        "tuner.search(X, y, epochs=50, callbacks=[stop_early], validation_split=0.2,)\n",
        "\n",
        "# Get the optimal hyperparameters\n",
        "best_hps=tuner.get_best_hyperparameters(num_trials=1)[0]\n",
        "\n",
        "tuning = ['units_filter', 'units_lstm', 'units_dense', 'learning_rate']\n",
        "print('Best tune:')\n",
        "for tune in tuning:\n",
        "  print(f'{tune}: {best_hps.get(tune)}')"
      ]
    },
    {
      "cell_type": "markdown",
      "metadata": {
        "id": "ZFzOsc-9Ye-a"
      },
      "source": [
        "## Skenario Penelitian\n",
        "\n",
        "**Hyperparameter:** dari Hyperband atau RandomSearch untuk masing-masing arsitektur\n",
        "\n",
        "**Epoch:** Jumlah epoch kelipatan 50 (3-5 jenis epoch)\n",
        "\n",
        "**Time Steps:** 5 jenis(?) dengan epoch yg terbaik untuk masing2 arsitektur."
      ]
    }
  ],
  "metadata": {
    "colab": {
      "collapsed_sections": [
        "xBu0aq72xcyM"
      ],
      "name": "TA.ipynb",
      "provenance": []
    },
    "kernelspec": {
      "display_name": "Python 3",
      "name": "python3"
    },
    "language_info": {
      "name": "python"
    }
  },
  "nbformat": 4,
  "nbformat_minor": 0
}
